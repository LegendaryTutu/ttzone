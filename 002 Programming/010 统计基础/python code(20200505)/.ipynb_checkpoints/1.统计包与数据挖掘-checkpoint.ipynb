{
 "cells": [
  {
   "cell_type": "code",
   "execution_count": 1,
   "metadata": {},
   "outputs": [],
   "source": [
    "# 统计包介绍\n",
    "\"\"\"\n",
    "numpy\n",
    "1.pandas提供basestat功能：单变量、双变量数据分析，包括描述统计（集中和离散、图形、交叉表）、相关分析（r、卡方）等。\n",
    "2.statsmodels提供假设检验及统计模型功能，主要研究结构性归因问题，并不强调预测功能，主要为推论统计小数据服务。\n",
    "3.sklearn提供数据挖掘模型功能，主要研究预测性问题，主要为大数据服务，以探讨速度问题为特征。\n",
    "4.Deep Learning深度学习，侧重数据挖掘及复杂智能方法、已非线性模型为主，擅长处理非结构数据。\n",
    "5.PyMC拟合贝叶斯模型，侧重于业务问题和统计算法的整合，这类技术提供业务知识对统计模型的修正。\n",
    "6.Seaborn基于matplotlib的可视化功能，统计应用者最重要的可视化包。\n",
    "7.opencv-python图片视频库。\n",
    "\"\"\"\n"
   ]
  },
  {
   "cell_type": "code",
   "execution_count": null,
   "metadata": {},
   "outputs": [],
   "source": [
    "#数据挖掘与统计的算法区别\n",
    "\n",
    "#模型学习算法——线性回归为例\n",
    "\"\"\"\n",
    "1.统计模型法\n",
    "  （1）计算变量的统计量，如均值、标准差、样本量等，依据这些信息就可以直接计算（一元）\n",
    "线性回归的系数；（2）阶矩模型中均可以利用这类信息直接运算sem等模型。（3）特点：计算速\n",
    "度快，无须重复运算模型。\n",
    "\n",
    "2.最小二乘法\n",
    "  （1）多元回归中，ols可以处理多个自变量的情况，寻求残差平方和最小化；（2）将数据视为\n",
    "矩阵，利用线性代数寻求系数最优化，对内存要求很高；（3）大数据场景下，存在线性和内存约\n",
    "束问题。\n",
    "\n",
    "3.梯度下降法\n",
    "  （1）以迭代的方式，最小化模型误差（而不是ols的系数）；（2）参数学习率alpha控制每次\n",
    "迭代的步长；（3）大型的行和列不会写入内存。\n",
    "\n",
    "4.正则化法\n",
    "  （1）一方面寻求最小化模型误差，另一方面可以减少模型复杂度（取L1绝对值）；（2）有利于\n",
    "消除共线性和过拟合现象。\n",
    "\"\"\"\n"
   ]
  }
 ],
 "metadata": {
  "kernelspec": {
   "display_name": "Python 3",
   "language": "python",
   "name": "python3"
  },
  "language_info": {
   "codemirror_mode": {
    "name": "ipython",
    "version": 3
   },
   "file_extension": ".py",
   "mimetype": "text/x-python",
   "name": "python",
   "nbconvert_exporter": "python",
   "pygments_lexer": "ipython3",
   "version": "3.7.4"
  }
 },
 "nbformat": 4,
 "nbformat_minor": 2
}
