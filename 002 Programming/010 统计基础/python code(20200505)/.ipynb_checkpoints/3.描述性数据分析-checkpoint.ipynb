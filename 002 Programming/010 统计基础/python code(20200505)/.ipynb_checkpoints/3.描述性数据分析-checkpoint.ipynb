{
 "cells": [
  {
   "cell_type": "code",
   "execution_count": 1,
   "metadata": {},
   "outputs": [
    {
     "data": {
      "text/html": [
       "<div>\n",
       "<style scoped>\n",
       "    .dataframe tbody tr th:only-of-type {\n",
       "        vertical-align: middle;\n",
       "    }\n",
       "\n",
       "    .dataframe tbody tr th {\n",
       "        vertical-align: top;\n",
       "    }\n",
       "\n",
       "    .dataframe thead th {\n",
       "        text-align: right;\n",
       "    }\n",
       "</style>\n",
       "<table border=\"1\" class=\"dataframe\">\n",
       "  <thead>\n",
       "    <tr style=\"text-align: right;\">\n",
       "      <th></th>\n",
       "      <th>date</th>\n",
       "      <th>总耗</th>\n",
       "      <th>产量</th>\n",
       "      <th>单耗</th>\n",
       "      <th>质量控制</th>\n",
       "      <th>班次</th>\n",
       "      <th>机器类型</th>\n",
       "      <th>品牌</th>\n",
       "    </tr>\n",
       "  </thead>\n",
       "  <tbody>\n",
       "    <tr>\n",
       "      <td>0</td>\n",
       "      <td>2013-06-27 00:06:40</td>\n",
       "      <td>1.252763</td>\n",
       "      <td>3.001</td>\n",
       "      <td>0.000000</td>\n",
       "      <td>二组控制室</td>\n",
       "      <td>晚班</td>\n",
       "      <td>卷烟机@1</td>\n",
       "      <td>其他</td>\n",
       "    </tr>\n",
       "    <tr>\n",
       "      <td>1</td>\n",
       "      <td>2013-06-27 00:06:40</td>\n",
       "      <td>3.912023</td>\n",
       "      <td>3.251</td>\n",
       "      <td>9.082621</td>\n",
       "      <td>一组控制室</td>\n",
       "      <td>勤外组</td>\n",
       "      <td>卷烟机@1</td>\n",
       "      <td>其他</td>\n",
       "    </tr>\n",
       "    <tr>\n",
       "      <td>2</td>\n",
       "      <td>2013-06-27 00:06:40</td>\n",
       "      <td>3.401197</td>\n",
       "      <td>46.751</td>\n",
       "      <td>6.575872</td>\n",
       "      <td>三组控制室</td>\n",
       "      <td>早班</td>\n",
       "      <td>卷烟机@1</td>\n",
       "      <td>其他</td>\n",
       "    </tr>\n",
       "    <tr>\n",
       "      <td>3</td>\n",
       "      <td>2013-06-27 00:06:40</td>\n",
       "      <td>3.109061</td>\n",
       "      <td>52.726</td>\n",
       "      <td>6.390700</td>\n",
       "      <td>二组控制室</td>\n",
       "      <td>晚班</td>\n",
       "      <td>卷烟机@2</td>\n",
       "      <td>红塔山</td>\n",
       "    </tr>\n",
       "    <tr>\n",
       "      <td>4</td>\n",
       "      <td>2013-06-27 00:06:40</td>\n",
       "      <td>3.044522</td>\n",
       "      <td>74.751</td>\n",
       "      <td>6.738396</td>\n",
       "      <td>三组控制室</td>\n",
       "      <td>早班</td>\n",
       "      <td>卷烟机@2</td>\n",
       "      <td>红塔山</td>\n",
       "    </tr>\n",
       "    <tr>\n",
       "      <td>5</td>\n",
       "      <td>2013-06-27 00:06:40</td>\n",
       "      <td>2.484907</td>\n",
       "      <td>81.826</td>\n",
       "      <td>6.421652</td>\n",
       "      <td>三组控制室</td>\n",
       "      <td>早班</td>\n",
       "      <td>卷烟机@3</td>\n",
       "      <td>羊城</td>\n",
       "    </tr>\n",
       "  </tbody>\n",
       "</table>\n",
       "</div>"
      ],
      "text/plain": [
       "                 date        总耗      产量        单耗   质量控制   班次   机器类型   品牌\n",
       "0 2013-06-27 00:06:40  1.252763   3.001  0.000000  二组控制室   晚班  卷烟机@1   其他\n",
       "1 2013-06-27 00:06:40  3.912023   3.251  9.082621  一组控制室  勤外组  卷烟机@1   其他\n",
       "2 2013-06-27 00:06:40  3.401197  46.751  6.575872  三组控制室   早班  卷烟机@1   其他\n",
       "3 2013-06-27 00:06:40  3.109061  52.726  6.390700  二组控制室   晚班  卷烟机@2  红塔山\n",
       "4 2013-06-27 00:06:40  3.044522  74.751  6.738396  三组控制室   早班  卷烟机@2  红塔山\n",
       "5 2013-06-27 00:06:40  2.484907  81.826  6.421652  三组控制室   早班  卷烟机@3   羊城"
      ]
     },
     "execution_count": 1,
     "metadata": {},
     "output_type": "execute_result"
    }
   ],
   "source": [
    "#导入包\n",
    "import numpy as np\n",
    "import pandas as pd\n",
    "import matplotlib.pyplot as plt\n",
    "%matplotlib inline\n",
    "#中文显示\n",
    "plt.rcParams[\"font.sans-serif\"]=[\"SimHei\"]\n",
    "plt.rcParams[\"axes.unicode_minus\"]=False\n",
    "\n",
    "#使用pandas读取数据支持xls和xlsx\n",
    "data=pd.read_excel(\"C:\\\\Users\\\\有福有德\\\\Desktop\\\\上海统计分析python20200418\\\\data\\\\烟草.xlsx\")\n",
    "data.head(6)#显示数据开头6行\n"
   ]
  },
  {
   "cell_type": "code",
   "execution_count": 17,
   "metadata": {},
   "outputs": [
    {
     "data": {
      "text/plain": [
       "<matplotlib.axes._subplots.AxesSubplot at 0x1a394e0dcc8>"
      ]
     },
     "execution_count": 17,
     "metadata": {},
     "output_type": "execute_result"
    },
    {
     "data": {
      "image/png": "[encoded data removed]",
      "text/plain": [
       "<Figure size 432x288 with 1 Axes>"
      ]
     },
     "metadata": {
      "needs_background": "light"
     },
     "output_type": "display_data"
    },
    {
     "data": {
      "image/png": "[encoded data removed]",
      "text/plain": [
       "<Figure size 720x576 with 2 Axes>"
      ]
     },
     "metadata": {
      "needs_background": "light"
     },
     "output_type": "display_data"
    }
   ],
   "source": [
    "#描述性统计\n",
    "data.describe()\n",
    "#data.iloc[:,[4,5,6]].describe()\n",
    "# data.iloc[:,4].value_counts(normalize=True)\n",
    "\n",
    "#汇总直方图\n",
    "# plt.hist(data.iloc[:,1])\n",
    "\n",
    "#汇总条形图\n",
    "import seaborn as sns\n",
    "sns.countplot(x=\"品牌\",hue=\"班次\",data=data)\n",
    "\n",
    "fig, ax=plt.subplots(1, 2, figsize=(10,8))#1行2列\n",
    "sns.countplot(x=\"品牌\",hue=\"班次\", data=data, ax=ax[0])#ax[0]表示“1行2列”中的第1个\n",
    "sns.countplot(x=\"品牌\",hue=\"质量控制\", data=data, ax=ax[1])#ax[1]表示“1行2列”中的第2个"
   ]
  },
  {
   "cell_type": "code",
   "execution_count": null,
   "metadata": {},
   "outputs": [],
   "source": []
  }
 ],
 "metadata": {
  "kernelspec": {
   "display_name": "Python 3",
   "language": "python",
   "name": "python3"
  },
  "language_info": {
   "codemirror_mode": {
    "name": "ipython",
    "version": 3
   },
   "file_extension": ".py",
   "mimetype": "text/x-python",
   "name": "python",
   "nbconvert_exporter": "python",
   "pygments_lexer": "ipython3",
   "version": "3.7.4"
  }
 },
 "nbformat": 4,
 "nbformat_minor": 2
}
