{
 "cells": [
  {
   "cell_type": "code",
   "execution_count": 43,
   "metadata": {},
   "outputs": [
    {
     "name": "stdout",
     "output_type": "stream",
     "text": [
      "   ID  员工编号  性别  部门  绩效总分  适应总分  情绪总分\n",
      "0   1     1   1   1    12    11    12\n",
      "1   2     2   1   3    13    10    12\n"
     ]
    },
    {
     "data": {
      "text/html": [
       "<table class=\"simpletable\">\n",
       "<caption>OLS Regression Results</caption>\n",
       "<tr>\n",
       "  <th>Dep. Variable:</th>          <td>绩效总分</td>       <th>  R-squared:         </th> <td>   0.218</td>\n",
       "</tr>\n",
       "<tr>\n",
       "  <th>Model:</th>                   <td>OLS</td>       <th>  Adj. R-squared:    </th> <td>   0.210</td>\n",
       "</tr>\n",
       "<tr>\n",
       "  <th>Method:</th>             <td>Least Squares</td>  <th>  F-statistic:       </th> <td>   27.28</td>\n",
       "</tr>\n",
       "<tr>\n",
       "  <th>Date:</th>             <td>Mon, 10 Feb 2020</td> <th>  Prob (F-statistic):</th> <td>9.91e-07</td>\n",
       "</tr>\n",
       "<tr>\n",
       "  <th>Time:</th>                 <td>17:00:22</td>     <th>  Log-Likelihood:    </th> <td> -290.87</td>\n",
       "</tr>\n",
       "<tr>\n",
       "  <th>No. Observations:</th>      <td>   100</td>      <th>  AIC:               </th> <td>   585.7</td>\n",
       "</tr>\n",
       "<tr>\n",
       "  <th>Df Residuals:</th>          <td>    98</td>      <th>  BIC:               </th> <td>   591.0</td>\n",
       "</tr>\n",
       "<tr>\n",
       "  <th>Df Model:</th>              <td>     1</td>      <th>                     </th>     <td> </td>   \n",
       "</tr>\n",
       "<tr>\n",
       "  <th>Covariance Type:</th>      <td>nonrobust</td>    <th>                     </th>     <td> </td>   \n",
       "</tr>\n",
       "</table>\n",
       "<table class=\"simpletable\">\n",
       "<tr>\n",
       "      <td></td>         <th>coef</th>     <th>std err</th>      <th>t</th>      <th>P>|t|</th>  <th>[0.025</th>    <th>0.975]</th>  \n",
       "</tr>\n",
       "<tr>\n",
       "  <th>Intercept</th> <td>    4.6782</td> <td>    1.452</td> <td>    3.222</td> <td> 0.002</td> <td>    1.797</td> <td>    7.559</td>\n",
       "</tr>\n",
       "<tr>\n",
       "  <th>适应总分</th>      <td>    0.7263</td> <td>    0.139</td> <td>    5.223</td> <td> 0.000</td> <td>    0.450</td> <td>    1.002</td>\n",
       "</tr>\n",
       "</table>\n",
       "<table class=\"simpletable\">\n",
       "<tr>\n",
       "  <th>Omnibus:</th>       <td>24.517</td> <th>  Durbin-Watson:     </th> <td>   1.710</td>\n",
       "</tr>\n",
       "<tr>\n",
       "  <th>Prob(Omnibus):</th> <td> 0.000</td> <th>  Jarque-Bera (JB):  </th> <td>  37.170</td>\n",
       "</tr>\n",
       "<tr>\n",
       "  <th>Skew:</th>          <td> 1.105</td> <th>  Prob(JB):          </th> <td>8.48e-09</td>\n",
       "</tr>\n",
       "<tr>\n",
       "  <th>Kurtosis:</th>      <td> 5.008</td> <th>  Cond. No.          </th> <td>    34.1</td>\n",
       "</tr>\n",
       "</table><br/><br/>Warnings:<br/>[1] Standard Errors assume that the covariance matrix of the errors is correctly specified."
      ],
      "text/plain": [
       "<class 'statsmodels.iolib.summary.Summary'>\n",
       "\"\"\"\n",
       "                            OLS Regression Results                            \n",
       "==============================================================================\n",
       "Dep. Variable:                   绩效总分   R-squared:                       0.218\n",
       "Model:                            OLS   Adj. R-squared:                  0.210\n",
       "Method:                 Least Squares   F-statistic:                     27.28\n",
       "Date:                Mon, 10 Feb 2020   Prob (F-statistic):           9.91e-07\n",
       "Time:                        17:00:22   Log-Likelihood:                -290.87\n",
       "No. Observations:                 100   AIC:                             585.7\n",
       "Df Residuals:                      98   BIC:                             591.0\n",
       "Df Model:                           1                                         \n",
       "Covariance Type:            nonrobust                                         \n",
       "==============================================================================\n",
       "                 coef    std err          t      P>|t|      [0.025      0.975]\n",
       "------------------------------------------------------------------------------\n",
       "Intercept      4.6782      1.452      3.222      0.002       1.797       7.559\n",
       "适应总分           0.7263      0.139      5.223      0.000       0.450       1.002\n",
       "==============================================================================\n",
       "Omnibus:                       24.517   Durbin-Watson:                   1.710\n",
       "Prob(Omnibus):                  0.000   Jarque-Bera (JB):               37.170\n",
       "Skew:                           1.105   Prob(JB):                     8.48e-09\n",
       "Kurtosis:                       5.008   Cond. No.                         34.1\n",
       "==============================================================================\n",
       "\n",
       "Warnings:\n",
       "[1] Standard Errors assume that the covariance matrix of the errors is correctly specified.\n",
       "\"\"\""
      ]
     },
     "execution_count": 43,
     "metadata": {},
     "output_type": "execute_result"
    }
   ],
   "source": [
    "#导入包\n",
    "import numpy as np\n",
    "import pandas as pd\n",
    "import matplotlib as plt\n",
    "import statsmodels.formula.api as smf\n",
    "from sklearn import linear_model\n",
    "import seaborn as sns\n",
    "import matplotlib.pyplot as plt\n",
    "%matplotlib inline\n",
    "plt.rcParams[\"font.sans-serif\"]=[\"SimHei\"]\n",
    "plt.rcParams[\"axes.unicode_minus\"]=False\n",
    "\n",
    "#使用pandas读取数据支持xls和xlsx\n",
    "data=pd.read_excel(\"C:\\\\Users\\\\有福有德\\\\Desktop\\\\上海统计分析python20191220\\\\data\\\\短期绩效.xlsx\")\n",
    "print(data.head(2))\n",
    "result=smf.ols(\"绩效总分~适应总分\",data=data).fit()#回归方法\n",
    "result.summary()"
   ]
  },
  {
   "cell_type": "code",
   "execution_count": 42,
   "metadata": {},
   "outputs": [
    {
     "name": "stdout",
     "output_type": "stream",
     "text": [
      "截距项:4.61;斜率:0.73\n"
     ]
    }
   ],
   "source": [
    "#统计法\n",
    "b1=np.cov(data['绩效总分'],data['适应总分'])[1][0]/np.var(data['适应总分'])\n",
    "b0=np.mean(data['绩效总分'])-b1*np.mean(data['适应总分'])\n",
    "print('截距项:%.2f;斜率:%.2f'%(b0,b1))\n"
   ]
  },
  {
   "cell_type": "code",
   "execution_count": 70,
   "metadata": {},
   "outputs": [
    {
     "name": "stdout",
     "output_type": "stream",
     "text": [
      "\n"
     ]
    }
   ],
   "source": [
    "#随机梯度下降（Stochastic Gradient Descent）\n",
    "x=np.array([1,2,3,4,5,6])\n",
    "y=np.array([3,6,5,9,8,8])\n",
    "plt.scatter(x,y)\n",
    "\n",
    "#1.sgd最小化模型误差\n",
    "\"\"\"\n",
    "w=w-alpha*delta\n",
    "注：w为回归系数，alpha学习率，在[0 1]之间，通常设为0.3\n",
    "\n",
    "方程式：y=b0+b1*x\n",
    "\"\"\"\n",
    "#2.sgd算法\n",
    "\n",
    "\"\"\"\n",
    "迭代#1\n",
    "令：b0=0， b1=0，则y=0+0*x\n",
    "因为error(i)=p(i)-y(i),所以error(1)=0-3=-3,其中p是预测值\n",
    "\n",
    "因为b0(t+1)=b0(t)-alpha*error，所以b0(t+1)=0-0.3*(-3)=0.9\n",
    "因为b1(t+1)=b1(t)-alpha*error*x，所以b1(t+1)=0-0.3*(-3)*1=0.9\n",
    "\n",
    "迭代#2\n",
    "令：b0=0.9， b1=0.9，则y=0.9+0.9*x\n",
    "因为error(i)=p(i)-y(i),所以error(1)=2.7-6=-3.3\n",
    "\n",
    "因为b0(t+1)=b0(t)-alpha*error，所以b0(t+1)=0.9-0.3*(-3.3)=1.89\n",
    "因为b1(t+1)=b1(t)-alpha*error*x，所以b1(t+1)=0.9-0.3*(-3.3)*2=2.88\n",
    "\n",
    "迭代#3......\n",
    "\n",
    "注：一共6行数据，迭代后重新从第一行开始，则6次迭代为一个epoch（全部样本训练一次）\n",
    "\"\"\"\n",
    "print()"
   ]
  },
  {
   "cell_type": "code",
   "execution_count": null,
   "metadata": {},
   "outputs": [],
   "source": []
  }
 ],
 "metadata": {
  "kernelspec": {
   "display_name": "Python 3",
   "language": "python",
   "name": "python3"
  },
  "language_info": {
   "codemirror_mode": {
    "name": "ipython",
    "version": 3
   },
   "file_extension": ".py",
   "mimetype": "text/x-python",
   "name": "python",
   "nbconvert_exporter": "python",
   "pygments_lexer": "ipython3",
   "version": "3.7.4"
  }
 },
 "nbformat": 4,
 "nbformat_minor": 2
}
