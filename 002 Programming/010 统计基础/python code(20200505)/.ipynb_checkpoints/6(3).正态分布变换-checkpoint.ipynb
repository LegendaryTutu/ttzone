{
 "cells": [
  {
   "cell_type": "code",
   "execution_count": 2,
   "metadata": {},
   "outputs": [
    {
     "data": {
      "text/html": [
       "<table class=\"simpletable\">\n",
       "<caption>OLS Regression Results</caption>\n",
       "<tr>\n",
       "  <th>Dep. Variable:</th>          <td>绩效总分</td>       <th>  R-squared:         </th> <td>   0.362</td>\n",
       "</tr>\n",
       "<tr>\n",
       "  <th>Model:</th>                   <td>OLS</td>       <th>  Adj. R-squared:    </th> <td>   0.348</td>\n",
       "</tr>\n",
       "<tr>\n",
       "  <th>Method:</th>             <td>Least Squares</td>  <th>  F-statistic:       </th> <td>   27.47</td>\n",
       "</tr>\n",
       "<tr>\n",
       "  <th>Date:</th>             <td>Wed, 18 Dec 2019</td> <th>  Prob (F-statistic):</th> <td>3.53e-10</td>\n",
       "</tr>\n",
       "<tr>\n",
       "  <th>Time:</th>                 <td>08:45:32</td>     <th>  Log-Likelihood:    </th> <td> -280.72</td>\n",
       "</tr>\n",
       "<tr>\n",
       "  <th>No. Observations:</th>      <td>   100</td>      <th>  AIC:               </th> <td>   567.4</td>\n",
       "</tr>\n",
       "<tr>\n",
       "  <th>Df Residuals:</th>          <td>    97</td>      <th>  BIC:               </th> <td>   575.2</td>\n",
       "</tr>\n",
       "<tr>\n",
       "  <th>Df Model:</th>              <td>     2</td>      <th>                     </th>     <td> </td>   \n",
       "</tr>\n",
       "<tr>\n",
       "  <th>Covariance Type:</th>      <td>nonrobust</td>    <th>                     </th>     <td> </td>   \n",
       "</tr>\n",
       "</table>\n",
       "<table class=\"simpletable\">\n",
       "<tr>\n",
       "      <td></td>         <th>coef</th>     <th>std err</th>      <th>t</th>      <th>P>|t|</th>  <th>[0.025</th>    <th>0.975]</th>  \n",
       "</tr>\n",
       "<tr>\n",
       "  <th>Intercept</th> <td>    1.5602</td> <td>    1.477</td> <td>    1.056</td> <td> 0.294</td> <td>   -1.372</td> <td>    4.492</td>\n",
       "</tr>\n",
       "<tr>\n",
       "  <th>适应总分</th>      <td>    0.4600</td> <td>    0.139</td> <td>    3.321</td> <td> 0.001</td> <td>    0.185</td> <td>    0.735</td>\n",
       "</tr>\n",
       "<tr>\n",
       "  <th>情绪总分</th>      <td>    0.4993</td> <td>    0.107</td> <td>    4.675</td> <td> 0.000</td> <td>    0.287</td> <td>    0.711</td>\n",
       "</tr>\n",
       "</table>\n",
       "<table class=\"simpletable\">\n",
       "<tr>\n",
       "  <th>Omnibus:</th>       <td>38.281</td> <th>  Durbin-Watson:     </th> <td>   1.962</td>\n",
       "</tr>\n",
       "<tr>\n",
       "  <th>Prob(Omnibus):</th> <td> 0.000</td> <th>  Jarque-Bera (JB):  </th> <td>  93.819</td>\n",
       "</tr>\n",
       "<tr>\n",
       "  <th>Skew:</th>          <td> 1.407</td> <th>  Prob(JB):          </th> <td>4.24e-21</td>\n",
       "</tr>\n",
       "<tr>\n",
       "  <th>Kurtosis:</th>      <td> 6.821</td> <th>  Cond. No.          </th> <td>    57.8</td>\n",
       "</tr>\n",
       "</table><br/><br/>Warnings:<br/>[1] Standard Errors assume that the covariance matrix of the errors is correctly specified."
      ],
      "text/plain": [
       "<class 'statsmodels.iolib.summary.Summary'>\n",
       "\"\"\"\n",
       "                            OLS Regression Results                            \n",
       "==============================================================================\n",
       "Dep. Variable:                   绩效总分   R-squared:                       0.362\n",
       "Model:                            OLS   Adj. R-squared:                  0.348\n",
       "Method:                 Least Squares   F-statistic:                     27.47\n",
       "Date:                Wed, 18 Dec 2019   Prob (F-statistic):           3.53e-10\n",
       "Time:                        08:45:32   Log-Likelihood:                -280.72\n",
       "No. Observations:                 100   AIC:                             567.4\n",
       "Df Residuals:                      97   BIC:                             575.2\n",
       "Df Model:                           2                                         \n",
       "Covariance Type:            nonrobust                                         \n",
       "==============================================================================\n",
       "                 coef    std err          t      P>|t|      [0.025      0.975]\n",
       "------------------------------------------------------------------------------\n",
       "Intercept      1.5602      1.477      1.056      0.294      -1.372       4.492\n",
       "适应总分           0.4600      0.139      3.321      0.001       0.185       0.735\n",
       "情绪总分           0.4993      0.107      4.675      0.000       0.287       0.711\n",
       "==============================================================================\n",
       "Omnibus:                       38.281   Durbin-Watson:                   1.962\n",
       "Prob(Omnibus):                  0.000   Jarque-Bera (JB):               93.819\n",
       "Skew:                           1.407   Prob(JB):                     4.24e-21\n",
       "Kurtosis:                       6.821   Cond. No.                         57.8\n",
       "==============================================================================\n",
       "\n",
       "Warnings:\n",
       "[1] Standard Errors assume that the covariance matrix of the errors is correctly specified.\n",
       "\"\"\""
      ]
     },
     "execution_count": 2,
     "metadata": {},
     "output_type": "execute_result"
    }
   ],
   "source": [
    "#导入包\n",
    "import numpy as np\n",
    "import pandas as pd\n",
    "import matplotlib as plt\n",
    "import statsmodels.formula.api as smf\n",
    "from sklearn import linear_model\n",
    "import matplotlib.pyplot as plt\n",
    "import scipy.stats as stats\n",
    "%matplotlib inline\n",
    "\n",
    "data=pd.read_excel(\"C:\\\\Users\\\\有福有德\\\\Desktop\\\\上海统计分析python20191216\\\\data\\\\短期绩效.xlsx\")\n",
    "data.head(6)\n",
    "\n",
    "result=smf.ols(\"绩效总分~适应总分+情绪总分\",data=data).fit()\n",
    "result.summary()\n",
    "#正态分布检验JB：JB=n/6*(S^2+(K-3)^2/4):"
   ]
  },
  {
   "cell_type": "code",
   "execution_count": 13,
   "metadata": {},
   "outputs": [
    {
     "data": {
      "image/png": "[encoded data removed]",
      "text/plain": [
       "<Figure size 576x460.8 with 1 Axes>"
      ]
     },
     "metadata": {
      "needs_background": "light"
     },
     "output_type": "display_data"
    }
   ],
   "source": [
    "#配合直方图描述残差及正态分布检验\n",
    "stats.normaltest(data[\"绩效总分\"], axis=0)#h0：正态分布\n",
    "\n",
    "plt.figure(figsize=(8,6.4)) #设置图框大小尺寸\n",
    "plt.hist(result.resid, histtype='bar')#'bar', 'barstacked', 'step',  'stepfilled'}\n",
    "plt.show()\n",
    "\n",
    "#回归中的对数变换\n",
    "result=smf.ols(\"np.log(绩效总分)~适应总分+情绪总分\",data=data).fit()#data=指定数据集\n",
    "result.summary()\n"
   ]
  },
  {
   "cell_type": "code",
   "execution_count": null,
   "metadata": {},
   "outputs": [],
   "source": []
  }
 ],
 "metadata": {
  "kernelspec": {
   "display_name": "Python 3",
   "language": "python",
   "name": "python3"
  },
  "language_info": {
   "codemirror_mode": {
    "name": "ipython",
    "version": 3
   },
   "file_extension": ".py",
   "mimetype": "text/x-python",
   "name": "python",
   "nbconvert_exporter": "python",
   "pygments_lexer": "ipython3",
   "version": "3.7.0"
  }
 },
 "nbformat": 4,
 "nbformat_minor": 2
}
