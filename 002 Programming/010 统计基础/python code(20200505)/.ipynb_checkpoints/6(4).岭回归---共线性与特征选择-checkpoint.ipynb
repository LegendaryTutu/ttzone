{
 "cells": [
  {
   "cell_type": "code",
   "execution_count": 1,
   "metadata": {},
   "outputs": [
    {
     "data": {
      "text/html": [
       "<div>\n",
       "<style scoped>\n",
       "    .dataframe tbody tr th:only-of-type {\n",
       "        vertical-align: middle;\n",
       "    }\n",
       "\n",
       "    .dataframe tbody tr th {\n",
       "        vertical-align: top;\n",
       "    }\n",
       "\n",
       "    .dataframe thead th {\n",
       "        text-align: right;\n",
       "    }\n",
       "</style>\n",
       "<table border=\"1\" class=\"dataframe\">\n",
       "  <thead>\n",
       "    <tr style=\"text-align: right;\">\n",
       "      <th></th>\n",
       "      <th>ID</th>\n",
       "      <th>员工编号</th>\n",
       "      <th>性别</th>\n",
       "      <th>部门</th>\n",
       "      <th>绩效总分</th>\n",
       "      <th>适应总分</th>\n",
       "      <th>情绪总分</th>\n",
       "    </tr>\n",
       "  </thead>\n",
       "  <tbody>\n",
       "    <tr>\n",
       "      <th>0</th>\n",
       "      <td>1</td>\n",
       "      <td>1</td>\n",
       "      <td>1</td>\n",
       "      <td>1</td>\n",
       "      <td>12</td>\n",
       "      <td>11</td>\n",
       "      <td>12</td>\n",
       "    </tr>\n",
       "    <tr>\n",
       "      <th>1</th>\n",
       "      <td>2</td>\n",
       "      <td>2</td>\n",
       "      <td>1</td>\n",
       "      <td>3</td>\n",
       "      <td>13</td>\n",
       "      <td>10</td>\n",
       "      <td>12</td>\n",
       "    </tr>\n",
       "    <tr>\n",
       "      <th>2</th>\n",
       "      <td>3</td>\n",
       "      <td>3</td>\n",
       "      <td>1</td>\n",
       "      <td>1</td>\n",
       "      <td>20</td>\n",
       "      <td>10</td>\n",
       "      <td>14</td>\n",
       "    </tr>\n",
       "    <tr>\n",
       "      <th>3</th>\n",
       "      <td>4</td>\n",
       "      <td>4</td>\n",
       "      <td>2</td>\n",
       "      <td>2</td>\n",
       "      <td>8</td>\n",
       "      <td>12</td>\n",
       "      <td>8</td>\n",
       "    </tr>\n",
       "    <tr>\n",
       "      <th>4</th>\n",
       "      <td>5</td>\n",
       "      <td>5</td>\n",
       "      <td>2</td>\n",
       "      <td>3</td>\n",
       "      <td>11</td>\n",
       "      <td>12</td>\n",
       "      <td>12</td>\n",
       "    </tr>\n",
       "  </tbody>\n",
       "</table>\n",
       "</div>"
      ],
      "text/plain": [
       "   ID  员工编号  性别  部门  绩效总分  适应总分  情绪总分\n",
       "0   1     1   1   1    12    11    12\n",
       "1   2     2   1   3    13    10    12\n",
       "2   3     3   1   1    20    10    14\n",
       "3   4     4   2   2     8    12     8\n",
       "4   5     5   2   3    11    12    12"
      ]
     },
     "execution_count": 1,
     "metadata": {},
     "output_type": "execute_result"
    }
   ],
   "source": [
    "#导入包\n",
    "import numpy as np\n",
    "import pandas as pd\n",
    "import matplotlib as plt\n",
    "import statsmodels.formula.api as smf\n",
    "from sklearn import linear_model\n",
    "import matplotlib.pyplot as plt\n",
    "%matplotlib inline\n",
    "\n",
    "data=pd.read_excel(\"C:\\\\Users\\\\有福有德\\\\Desktop\\\\上海统计分析python20191216\\\\data\\\\短期绩效.xlsx\")\n",
    "data.head(5)\n"
   ]
  },
  {
   "cell_type": "code",
   "execution_count": 2,
   "metadata": {
    "scrolled": true
   },
   "outputs": [
    {
     "data": {
      "text/plain": [
       "[16.523715720087594, 1.2400634383194642, 1.204242805378314, 1.0418882870053887]"
      ]
     },
     "execution_count": 2,
     "metadata": {},
     "output_type": "execute_result"
    }
   ],
   "source": [
    "from statsmodels.stats.outliers_influence import variance_inflation_factor\n",
    "from patsy import dmatrices\n",
    "#包patsy用于构建线性及线性成分的模型，并于设计矩阵（design matrices），和r公式的转换。\n",
    "#data[\"情绪总分\"].corr(data[\"绩效总分\"],method=\"spearman\")#指定变量和方法 Pearson• Kendall• Spearman\n",
    "data.corr()#变量间两两相关分析\n",
    "\n",
    "#建立回归\n",
    "y,x= dmatrices('绩效总分~适应总分+情绪总分+部门', data=data, return_type=\"dataframe\")\n",
    "#vif计算\n",
    "vif= [variance_inflation_factor(x.values, i) for i in range(x.shape[1])]\n",
    "vif"
   ]
  },
  {
   "cell_type": "code",
   "execution_count": 4,
   "metadata": {},
   "outputs": [
    {
     "data": {
      "image/png": "[encoded data removed]",
      "text/plain": [
       "<Figure size 432x288 with 1 Axes>"
      ]
     },
     "metadata": {
      "needs_background": "light"
     },
     "output_type": "display_data"
    }
   ],
   "source": [
    "\n",
    "x=data.iloc[:,[3,5,6]]\n",
    "y=data.iloc[:,[4]]\n",
    "\n",
    "alphas=np.logspace(-5,10,10)\n",
    "\n",
    "coefs=[]\n",
    "for a in alphas:\n",
    "    ridge=linear_model.Ridge(alpha=a,fit_intercept=False)\n",
    "    ridge.fit(x,y)\n",
    "    coefs.append(ridge.coef_)\n",
    "#alphas[:]\n",
    "coeff= np.array(coefs).flatten(order=\"c\")\n",
    "cofre = coeff.reshape(10,3)\n",
    "\n",
    "#绘制图形\n",
    "ax = plt.gca()\n",
    "ax.plot(alphas,cofre) \n",
    "ax.set_xscale('log') \n"
   ]
  },
  {
   "cell_type": "code",
   "execution_count": 6,
   "metadata": {},
   "outputs": [
    {
     "name": "stdout",
     "output_type": "stream",
     "text": [
      "r方： 0.37466445760143097,\n",
      "系数： [[0.78743592 0.44345486 0.50766508]]。"
     ]
    }
   ],
   "source": [
    "ridge2=linear_model.Ridge(alpha=0,fit_intercept=False)#如果fit_intercept=True数据将做标准化处理\n",
    "ridge2.fit(x,y)\n",
    "\n",
    "x2=np.random.randn(10,3)#模拟10行3列的得分集\n",
    "ridge2.predict(x2)#预测得分\n",
    "print(\"r方：\",ridge2.score(x,y),end=\",\\n\")#r方值\n",
    "print(\"系数：\",ridge2.coef_,end=\"。\")#ridge2.coef_#显示估计的岭回归系数"
   ]
  },
  {
   "cell_type": "code",
   "execution_count": null,
   "metadata": {},
   "outputs": [],
   "source": []
  }
 ],
 "metadata": {
  "kernelspec": {
   "display_name": "Python 3",
   "language": "python",
   "name": "python3"
  },
  "language_info": {
   "codemirror_mode": {
    "name": "ipython",
    "version": 3
   },
   "file_extension": ".py",
   "mimetype": "text/x-python",
   "name": "python",
   "nbconvert_exporter": "python",
   "pygments_lexer": "ipython3",
   "version": "3.7.0"
  }
 },
 "nbformat": 4,
 "nbformat_minor": 2
}
