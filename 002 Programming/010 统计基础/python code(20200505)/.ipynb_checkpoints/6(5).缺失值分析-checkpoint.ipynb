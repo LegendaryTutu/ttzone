{
 "cells": [
  {
   "cell_type": "code",
   "execution_count": 77,
   "metadata": {},
   "outputs": [
    {
     "name": "stdout",
     "output_type": "stream",
     "text": [
      "<class 'pandas.core.frame.DataFrame'>\n",
      "RangeIndex: 493 entries, 0 to 492\n",
      "Data columns (total 13 columns):\n",
      "customer_id                493 non-null float64\n",
      "gender                     493 non-null float64\n",
      "purchase                   493 non-null float64\n",
      "youngest_child             452 non-null float64\n",
      "feedindex                  492 non-null float64\n",
      "debt                       452 non-null float64\n",
      "household_debt             490 non-null float64\n",
      "income                     492 non-null float64\n",
      "members_household          473 non-null float64\n",
      "number_products            492 non-null float64\n",
      "number_transactions        493 non-null float64\n",
      "non_worker_percentage      486 non-null float64\n",
      "white_collar_percentage    493 non-null float64\n",
      "dtypes: float64(13)\n",
      "memory usage: 50.1 KB\n"
     ]
    }
   ],
   "source": [
    "#导入包\n",
    "import numpy as np\n",
    "import pandas as pd\n",
    "import matplotlib as plt\n",
    "\n",
    "data=pd.read_excel(\"C:\\\\Users\\\\有福有德\\\\Desktop\\\\上海统计分析python20190407\\\\data\\\\customer_train.xlsx\")\n",
    "#print(data.head(1))#显示数据开头*行\n",
    "\n",
    "data1=data.replace([999,888],[0,np.nan])#使用0替换999，用nan替换888\n",
    "data1.head(9)\n",
    "#data1.info()"
   ]
  },
  {
   "cell_type": "code",
   "execution_count": 75,
   "metadata": {},
   "outputs": [],
   "source": [
    "from sklearn.preprocessing import Imputer\n",
    "\n",
    "#---描述缺失数据---\n",
    "# data.dropna(how='any')#删除数据中含有空值的行\n",
    "# data.describe(percentiles=[0.25,0.9])\n",
    "# data.isnull().any().sum()#获取含有缺失值的列\n",
    "# data1=data.fillna(method=\"ffill\")#用0替换所有的nall，method=\"bfill\"用其后值替换;\"ffill\"用其前值替换\n",
    "# data.loc[data[\"youngest_child\"]==999,\"youngest_child\"]=\"NAN\"#将某个值替换为其他值\n",
    "\n",
    "# imp=Imputer(missing_values='NaN', strategy='mean', axis=0).fit(data)\n",
    "# imp=Imputer(missing_values=[999], strategy='mean', axis=0).fit(data)#most_frequent众数填补，median中位数\n",
    "# dataimp=pd.DataFrame(imp.fit_transform(data))\n",
    "# dataimp.columus=[\"customer_id\", \"gender\",\"purchase\",\"youngest_child\",\"feedindex\",\"debt\"\\\n",
    "#                 \"household_debt\",\"income\",\"members_household\",\"number_products\"\\\n",
    "#                 \"number_transactions\",\"non_worker_percentage\",\"white_collar_percentage\"]\n",
    "\n",
    "\n",
    "# data2=imp.transform(data)\n",
    "#平均数填补\n",
    "# train[\"youngest_child1\"]=train[\"youngest_child\"].fillna(train[\"youngest_child\"].median())\n",
    "\n",
    "#---缺失值分类法---\n",
    "# data[\"tool\"]=data[\"youngest_child\"].copy()\n",
    "# data.loc[(data[\"tool\"].notnull()),\"tool\"]=0\n",
    "# data.loc[(data[\"tool\"].isnull()),\"tool\"]=1\n",
    "# data[\"tool\"].value_counts(normalize=True)\n",
    "# data[[\"customer_id\",\"youngest_child\",\"tool\"]].head(11)\n",
    "\n",
    "#data1[\"youngest_child\"].value_counts(bins=6,normalize=True,sort=False)\n"
   ]
  },
  {
   "cell_type": "code",
   "execution_count": 76,
   "metadata": {},
   "outputs": [
    {
     "ename": "ModuleNotFoundError",
     "evalue": "No module named 'fancyimpute'",
     "output_type": "error",
     "traceback": [
      "\u001b[1;31m---------------------------------------------------------------------------\u001b[0m",
      "\u001b[1;31mModuleNotFoundError\u001b[0m                       Traceback (most recent call last)",
      "\u001b[1;32m<ipython-input-76-c6436e3a79fd>\u001b[0m in \u001b[0;36m<module>\u001b[1;34m()\u001b[0m\n\u001b[1;32m----> 1\u001b[1;33m \u001b[1;32mfrom\u001b[0m \u001b[0mfancyimpute\u001b[0m \u001b[1;32mimport\u001b[0m \u001b[0mBiScaler\u001b[0m\u001b[1;33m,\u001b[0m \u001b[0mKNN\u001b[0m\u001b[1;33m,\u001b[0m \u001b[0mNuclearNormMinimization\u001b[0m\u001b[1;33m,\u001b[0m\u001b[0mSoftImpute\u001b[0m\u001b[1;33m\u001b[0m\u001b[0m\n\u001b[0m\u001b[0;32m      2\u001b[0m \u001b[0mdata2\u001b[0m\u001b[1;33m=\u001b[0m \u001b[0mKNN\u001b[0m\u001b[1;33m(\u001b[0m\u001b[0mk\u001b[0m\u001b[1;33m=\u001b[0m\u001b[1;36m3\u001b[0m\u001b[1;33m)\u001b[0m\u001b[1;33m.\u001b[0m\u001b[0mcomplete\u001b[0m\u001b[1;33m(\u001b[0m\u001b[0mdata1\u001b[0m\u001b[1;33m)\u001b[0m\u001b[1;33m\u001b[0m\u001b[0m\n\u001b[0;32m      3\u001b[0m \u001b[0mdata2\u001b[0m\u001b[1;33m\u001b[0m\u001b[0m\n",
      "\u001b[1;31mModuleNotFoundError\u001b[0m: No module named 'fancyimpute'"
     ]
    }
   ],
   "source": [
    "from fancyimpute import BiScaler, KNN, NuclearNormMinimization,SoftImpute\n",
    "data2= KNN(k=3).complete(data1)\n",
    "data2"
   ]
  }
 ],
 "metadata": {
  "kernelspec": {
   "display_name": "Python 3",
   "language": "python",
   "name": "python3"
  },
  "language_info": {
   "codemirror_mode": {
    "name": "ipython",
    "version": 3
   },
   "file_extension": ".py",
   "mimetype": "text/x-python",
   "name": "python",
   "nbconvert_exporter": "python",
   "pygments_lexer": "ipython3",
   "version": "3.7.0"
  }
 },
 "nbformat": 4,
 "nbformat_minor": 2
}
