{
 "cells": [
  {
   "cell_type": "code",
   "execution_count": 3,
   "metadata": {},
   "outputs": [
    {
     "data": {
      "text/html": [
       "<div>\n",
       "<style scoped>\n",
       "    .dataframe tbody tr th:only-of-type {\n",
       "        vertical-align: middle;\n",
       "    }\n",
       "\n",
       "    .dataframe tbody tr th {\n",
       "        vertical-align: top;\n",
       "    }\n",
       "\n",
       "    .dataframe thead th {\n",
       "        text-align: right;\n",
       "    }\n",
       "</style>\n",
       "<table border=\"1\" class=\"dataframe\">\n",
       "  <thead>\n",
       "    <tr style=\"text-align: right;\">\n",
       "      <th></th>\n",
       "      <th>ID</th>\n",
       "      <th>age</th>\n",
       "      <th>age_group</th>\n",
       "      <th>ed</th>\n",
       "      <th>employ</th>\n",
       "      <th>address</th>\n",
       "      <th>income</th>\n",
       "      <th>debtinc</th>\n",
       "      <th>creddebt</th>\n",
       "      <th>othdebt</th>\n",
       "      <th>default</th>\n",
       "    </tr>\n",
       "  </thead>\n",
       "  <tbody>\n",
       "    <tr>\n",
       "      <td>0</td>\n",
       "      <td>1</td>\n",
       "      <td>41</td>\n",
       "      <td>3</td>\n",
       "      <td>3</td>\n",
       "      <td>17</td>\n",
       "      <td>12</td>\n",
       "      <td>35.9</td>\n",
       "      <td>11.90</td>\n",
       "      <td>0.504108</td>\n",
       "      <td>3.767992</td>\n",
       "      <td>0</td>\n",
       "    </tr>\n",
       "    <tr>\n",
       "      <td>1</td>\n",
       "      <td>2</td>\n",
       "      <td>30</td>\n",
       "      <td>2</td>\n",
       "      <td>1</td>\n",
       "      <td>13</td>\n",
       "      <td>8</td>\n",
       "      <td>46.7</td>\n",
       "      <td>17.88</td>\n",
       "      <td>1.352694</td>\n",
       "      <td>6.997266</td>\n",
       "      <td>0</td>\n",
       "    </tr>\n",
       "    <tr>\n",
       "      <td>2</td>\n",
       "      <td>3</td>\n",
       "      <td>40</td>\n",
       "      <td>3</td>\n",
       "      <td>1</td>\n",
       "      <td>15</td>\n",
       "      <td>14</td>\n",
       "      <td>61.8</td>\n",
       "      <td>10.64</td>\n",
       "      <td>3.438997</td>\n",
       "      <td>3.136523</td>\n",
       "      <td>0</td>\n",
       "    </tr>\n",
       "    <tr>\n",
       "      <td>3</td>\n",
       "      <td>4</td>\n",
       "      <td>41</td>\n",
       "      <td>3</td>\n",
       "      <td>1</td>\n",
       "      <td>15</td>\n",
       "      <td>14</td>\n",
       "      <td>72.0</td>\n",
       "      <td>29.67</td>\n",
       "      <td>4.165668</td>\n",
       "      <td>17.196732</td>\n",
       "      <td>0</td>\n",
       "    </tr>\n",
       "    <tr>\n",
       "      <td>4</td>\n",
       "      <td>5</td>\n",
       "      <td>57</td>\n",
       "      <td>4</td>\n",
       "      <td>1</td>\n",
       "      <td>7</td>\n",
       "      <td>37</td>\n",
       "      <td>25.6</td>\n",
       "      <td>15.86</td>\n",
       "      <td>1.498199</td>\n",
       "      <td>2.561961</td>\n",
       "      <td>0</td>\n",
       "    </tr>\n",
       "    <tr>\n",
       "      <td>5</td>\n",
       "      <td>6</td>\n",
       "      <td>45</td>\n",
       "      <td>4</td>\n",
       "      <td>1</td>\n",
       "      <td>0</td>\n",
       "      <td>13</td>\n",
       "      <td>28.1</td>\n",
       "      <td>4.28</td>\n",
       "      <td>0.924861</td>\n",
       "      <td>0.277819</td>\n",
       "      <td>0</td>\n",
       "    </tr>\n",
       "  </tbody>\n",
       "</table>\n",
       "</div>"
      ],
      "text/plain": [
       "   ID  age  age_group  ed  employ  address  income  debtinc  creddebt  \\\n",
       "0   1   41          3   3      17       12    35.9    11.90  0.504108   \n",
       "1   2   30          2   1      13        8    46.7    17.88  1.352694   \n",
       "2   3   40          3   1      15       14    61.8    10.64  3.438997   \n",
       "3   4   41          3   1      15       14    72.0    29.67  4.165668   \n",
       "4   5   57          4   1       7       37    25.6    15.86  1.498199   \n",
       "5   6   45          4   1       0       13    28.1     4.28  0.924861   \n",
       "\n",
       "     othdebt  default  \n",
       "0   3.767992        0  \n",
       "1   6.997266        0  \n",
       "2   3.136523        0  \n",
       "3  17.196732        0  \n",
       "4   2.561961        0  \n",
       "5   0.277819        0  "
      ]
     },
     "execution_count": 3,
     "metadata": {},
     "output_type": "execute_result"
    }
   ],
   "source": [
    "#导入包\n",
    "import numpy as np\n",
    "import pandas as pd\n",
    "import matplotlib as plt\n",
    "import statsmodels.formula.api as smf\n",
    "from sklearn import linear_model\n",
    "import matplotlib.pyplot as plt\n",
    "import seaborn as sns\n",
    "%matplotlib inline\n",
    "\n",
    "#使用pandas读取数据支持xls和xlsx\n",
    "data=pd.read_excel(\"C:\\\\Users\\\\有福有德\\\\Desktop\\\\上海统计分析python20200418\\\\data\\\\bankloan_binning.xlsx\")\n",
    "data.head(6)"
   ]
  },
  {
   "cell_type": "code",
   "execution_count": 5,
   "metadata": {},
   "outputs": [
    {
     "data": {
      "text/plain": [
       "<matplotlib.axes._subplots.AxesSubplot at 0x214a6007fc8>"
      ]
     },
     "execution_count": 5,
     "metadata": {},
     "output_type": "execute_result"
    },
    {
     "data": {
      "image/png": "[encoded data removed]",
      "text/plain": [
       "<Figure size 432x288 with 2 Axes>"
      ]
     },
     "metadata": {
      "needs_background": "light"
     },
     "output_type": "display_data"
    }
   ],
   "source": [
    "from sklearn.metrics import confusion_matrix\n",
    "\n",
    "#工具变量法:\n",
    "# 1.误分类成本解析\n",
    "X=data.iloc[:,7:10]\n",
    "y=data.iloc[:,10]\n",
    "fit=linear_model.LogisticRegression(solver=\"lbfgs\").fit(X,y)\n",
    "sns.heatmap(confusion_matrix(y,fit.predict(X)),fmt=\".6g\",annot=True)\n",
    "\n",
    "# 2.工具变量的标识作用\n",
    "# fit=linear_model.LogisticRegression(solver=\"lbfgs\").fit(X,y)\n",
    "# p=pd.DataFrame(fit.predict_proba(X))\n",
    "# data[[\"pred_value0\",\"pred_value1\"]]=p\n",
    "# data[\"工具\"]=np.where((data1[\"default\"]==1)&(data1[\"pred_value1\"]<0.5),1,0)\n",
    "# data.head(10)\n",
    "\n",
    "#3.测试工具是否大幅改善模型\n",
    "\n",
    "# 4.工具变量合并bigdata上\n",
    "# concat：工具为右数据集，bigdata为左数据集，执行左连接。\n",
    "\n",
    "# 5.工具与所有变量的相关:0.8和0.9的建议，获得x\n",
    "# corr\n",
    "\n",
    "# 6.将x合并到smalldata上\n",
    "#concat：x为右数据集，smalldata为左数据集，执行左连接。\n",
    "\n",
    "# 7.构建最终模型：将x加入到最终模型\n",
    "# LogisticRegression\n"
   ]
  },
  {
   "cell_type": "code",
   "execution_count": 6,
   "metadata": {},
   "outputs": [
    {
     "name": "stderr",
     "output_type": "stream",
     "text": [
      "E:\\python\\lib\\site-packages\\sklearn\\linear_model\\logistic.py:432: FutureWarning: Default solver will be changed to 'lbfgs' in 0.22. Specify a solver to silence this warning.\n",
      "  FutureWarning)\n",
      "E:\\python\\lib\\site-packages\\sklearn\\utils\\validation.py:724: DataConversionWarning: A column-vector y was passed when a 1d array was expected. Please change the shape of y to (n_samples, ), for example using ravel().\n",
      "  y = column_or_1d(y, warn=True)\n"
     ]
    },
    {
     "data": {
      "text/plain": [
       "array([[ 27.73150667,  -2.70301213,  29.14365178,  55.16071301,\n",
       "        101.37893862,  69.371863  ]])"
      ]
     },
     "execution_count": 6,
     "metadata": {},
     "output_type": "execute_result"
    }
   ],
   "source": [
    "#哑变量\n",
    "data2 = pd.get_dummies(data,columns=[\"ed\"],drop_first=False)\n",
    "data2.head(10)\n",
    "\n",
    "x=pd.DataFrame(data2.iloc[:,[7,8,13,14,15,16]])#任意删除，如17即ed_4做参考项\n",
    "y=pd.DataFrame(data2.iloc[:,9])\n",
    "fit=linear_model.LogisticRegression().fit(x,y)\n",
    "(np.exp(fit.coef_)-1)/1*100#(or-1)/1*100%\n"
   ]
  },
  {
   "cell_type": "code",
   "execution_count": 67,
   "metadata": {},
   "outputs": [],
   "source": []
  }
 ],
 "metadata": {
  "celltoolbar": "Tags",
  "kernelspec": {
   "display_name": "Python 3",
   "language": "python",
   "name": "python3"
  },
  "language_info": {
   "codemirror_mode": {
    "name": "ipython",
    "version": 3
   },
   "file_extension": ".py",
   "mimetype": "text/x-python",
   "name": "python",
   "nbconvert_exporter": "python",
   "pygments_lexer": "ipython3",
   "version": "3.7.4"
  }
 },
 "nbformat": 4,
 "nbformat_minor": 2
}
