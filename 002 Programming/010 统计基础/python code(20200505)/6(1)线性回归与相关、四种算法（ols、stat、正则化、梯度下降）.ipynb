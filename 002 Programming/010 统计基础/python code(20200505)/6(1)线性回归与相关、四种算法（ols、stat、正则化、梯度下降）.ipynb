{
 "cells": [
  {
   "cell_type": "code",
   "execution_count": 7,
   "metadata": {},
   "outputs": [
    {
     "data": {
      "text/html": [
       "<div>\n",
       "<style scoped>\n",
       "    .dataframe tbody tr th:only-of-type {\n",
       "        vertical-align: middle;\n",
       "    }\n",
       "\n",
       "    .dataframe tbody tr th {\n",
       "        vertical-align: top;\n",
       "    }\n",
       "\n",
       "    .dataframe thead th {\n",
       "        text-align: right;\n",
       "    }\n",
       "</style>\n",
       "<table border=\"1\" class=\"dataframe\">\n",
       "  <thead>\n",
       "    <tr style=\"text-align: right;\">\n",
       "      <th></th>\n",
       "      <th>体重</th>\n",
       "      <th>饮食</th>\n",
       "      <th>性别</th>\n",
       "      <th>亲缘</th>\n",
       "      <th>运动时间</th>\n",
       "      <th>骑行时间</th>\n",
       "    </tr>\n",
       "  </thead>\n",
       "  <tbody>\n",
       "    <tr>\n",
       "      <td>0</td>\n",
       "      <td>70.001005</td>\n",
       "      <td>2</td>\n",
       "      <td>1</td>\n",
       "      <td>4</td>\n",
       "      <td>0.357143</td>\n",
       "      <td>3.714286</td>\n",
       "    </tr>\n",
       "    <tr>\n",
       "      <td>1</td>\n",
       "      <td>42.800000</td>\n",
       "      <td>1</td>\n",
       "      <td>1</td>\n",
       "      <td>3</td>\n",
       "      <td>2.142857</td>\n",
       "      <td>2.285714</td>\n",
       "    </tr>\n",
       "  </tbody>\n",
       "</table>\n",
       "</div>"
      ],
      "text/plain": [
       "          体重  饮食  性别  亲缘      运动时间      骑行时间\n",
       "0  70.001005   2   1   4  0.357143  3.714286\n",
       "1  42.800000   1   1   3  2.142857  2.285714"
      ]
     },
     "execution_count": 7,
     "metadata": {},
     "output_type": "execute_result"
    }
   ],
   "source": [
    "#导入包\n",
    "import numpy as np\n",
    "import pandas as pd\n",
    "import statsmodels.formula.api as smf\n",
    "from sklearn import linear_model\n",
    "import seaborn as sns\n",
    "import matplotlib.pyplot as plt\n",
    "%matplotlib inline\n",
    "plt.rcParams[\"font.sans-serif\"]=[\"SimHei\"]\n",
    "plt.rcParams[\"axes.unicode_minus\"]=False\n",
    "\n",
    "#使用pandas读取数据支持xls和xlsx\n",
    "data=pd.read_excel(\"C:\\\\Users\\\\有福有德\\Desktop\\\\上海统计分析python20200418\\\\data\\\\运动.xlsx\")\n",
    "data.head(2)"
   ]
  },
  {
   "cell_type": "code",
   "execution_count": 2,
   "metadata": {},
   "outputs": [
    {
     "data": {
      "text/plain": [
       "<matplotlib.axes._subplots.AxesSubplot at 0x24e7e52dd48>"
      ]
     },
     "execution_count": 2,
     "metadata": {},
     "output_type": "execute_result"
    },
    {
     "data": {
      "image/png": "[encoded data removed]",
      "text/plain": [
       "<Figure size 432x288 with 2 Axes>"
      ]
     },
     "metadata": {
      "needs_background": "light"
     },
     "output_type": "display_data"
    }
   ],
   "source": [
    "#相关分析corr\n",
    "# plt.scatter(x=\"运动时间\",y=\"体重\",s=100,data=data,alpha=0.3)#alpha=气泡透明度，22为尺寸\n",
    "data.corr(method=\"spearman\")#显示所有变量，method=pearson、kendall、spearman\n",
    "# data.corr()[\"体重\"]#显示绩效总分与其他变量的相关系数\n",
    "sns.heatmap(data.corr(method=\"spearman\"),cmap='tab10_r')\n",
    "# sns.pairplot(data=data.iloc[:,[0,1,2,3,4,5]],vars=[\"运动时间\", \"骑行时间\",\"体重\"],hue='亲缘')\n",
    "# plt.show()\n",
    "# from scipy import stats\n",
    "# r,p=stats.pearsonr(data[\"体重\"],data[\"运动时间\"])#显示p值\n",
    "# print(r,p)"
   ]
  },
  {
   "cell_type": "code",
   "execution_count": 22,
   "metadata": {},
   "outputs": [
    {
     "data": {
      "text/html": [
       "<table class=\"simpletable\">\n",
       "<caption>OLS Regression Results</caption>\n",
       "<tr>\n",
       "  <th>Dep. Variable:</th>           <td>体重</td>        <th>  R-squared:         </th> <td>   0.622</td>\n",
       "</tr>\n",
       "<tr>\n",
       "  <th>Model:</th>                   <td>OLS</td>       <th>  Adj. R-squared:    </th> <td>   0.617</td>\n",
       "</tr>\n",
       "<tr>\n",
       "  <th>Method:</th>             <td>Least Squares</td>  <th>  F-statistic:       </th> <td>   130.2</td>\n",
       "</tr>\n",
       "<tr>\n",
       "  <th>Date:</th>             <td>Tue, 21 Apr 2020</td> <th>  Prob (F-statistic):</th> <td>2.48e-81</td>\n",
       "</tr>\n",
       "<tr>\n",
       "  <th>Time:</th>                 <td>16:28:23</td>     <th>  Log-Likelihood:    </th> <td> -1317.5</td>\n",
       "</tr>\n",
       "<tr>\n",
       "  <th>No. Observations:</th>      <td>   402</td>      <th>  AIC:               </th> <td>   2647.</td>\n",
       "</tr>\n",
       "<tr>\n",
       "  <th>Df Residuals:</th>          <td>   396</td>      <th>  BIC:               </th> <td>   2671.</td>\n",
       "</tr>\n",
       "<tr>\n",
       "  <th>Df Model:</th>              <td>     5</td>      <th>                     </th>     <td> </td>   \n",
       "</tr>\n",
       "<tr>\n",
       "  <th>Covariance Type:</th>      <td>nonrobust</td>    <th>                     </th>     <td> </td>   \n",
       "</tr>\n",
       "</table>\n",
       "<table class=\"simpletable\">\n",
       "<tr>\n",
       "      <td></td>         <th>coef</th>     <th>std err</th>      <th>t</th>      <th>P>|t|</th>  <th>[0.025</th>    <th>0.975]</th>  \n",
       "</tr>\n",
       "<tr>\n",
       "  <th>Intercept</th> <td>   36.6272</td> <td>    3.101</td> <td>   11.811</td> <td> 0.000</td> <td>   30.530</td> <td>   42.724</td>\n",
       "</tr>\n",
       "<tr>\n",
       "  <th>饮食</th>        <td>    1.4433</td> <td>    0.680</td> <td>    2.124</td> <td> 0.034</td> <td>    0.107</td> <td>    2.779</td>\n",
       "</tr>\n",
       "<tr>\n",
       "  <th>性别</th>        <td>    0.7859</td> <td>    0.672</td> <td>    1.169</td> <td> 0.243</td> <td>   -0.536</td> <td>    2.107</td>\n",
       "</tr>\n",
       "<tr>\n",
       "  <th>亲缘</th>        <td>    1.5324</td> <td>    0.372</td> <td>    4.120</td> <td> 0.000</td> <td>    0.801</td> <td>    2.264</td>\n",
       "</tr>\n",
       "<tr>\n",
       "  <th>运动时间</th>      <td>  -10.5029</td> <td>    1.051</td> <td>   -9.992</td> <td> 0.000</td> <td>  -12.570</td> <td>   -8.436</td>\n",
       "</tr>\n",
       "<tr>\n",
       "  <th>骑行时间</th>      <td>   10.8209</td> <td>    0.681</td> <td>   15.883</td> <td> 0.000</td> <td>    9.482</td> <td>   12.160</td>\n",
       "</tr>\n",
       "</table>\n",
       "<table class=\"simpletable\">\n",
       "<tr>\n",
       "  <th>Omnibus:</th>       <td>154.168</td> <th>  Durbin-Watson:     </th> <td>   1.111</td> \n",
       "</tr>\n",
       "<tr>\n",
       "  <th>Prob(Omnibus):</th> <td> 0.000</td>  <th>  Jarque-Bera (JB):  </th> <td>1076.572</td> \n",
       "</tr>\n",
       "<tr>\n",
       "  <th>Skew:</th>          <td>-1.457</td>  <th>  Prob(JB):          </th> <td>1.68e-234</td>\n",
       "</tr>\n",
       "<tr>\n",
       "  <th>Kurtosis:</th>      <td>10.469</td>  <th>  Cond. No.          </th> <td>    46.5</td> \n",
       "</tr>\n",
       "</table><br/><br/>Warnings:<br/>[1] Standard Errors assume that the covariance matrix of the errors is correctly specified."
      ],
      "text/plain": [
       "<class 'statsmodels.iolib.summary.Summary'>\n",
       "\"\"\"\n",
       "                            OLS Regression Results                            \n",
       "==============================================================================\n",
       "Dep. Variable:                     体重   R-squared:                       0.622\n",
       "Model:                            OLS   Adj. R-squared:                  0.617\n",
       "Method:                 Least Squares   F-statistic:                     130.2\n",
       "Date:                Tue, 21 Apr 2020   Prob (F-statistic):           2.48e-81\n",
       "Time:                        16:28:23   Log-Likelihood:                -1317.5\n",
       "No. Observations:                 402   AIC:                             2647.\n",
       "Df Residuals:                     396   BIC:                             2671.\n",
       "Df Model:                           5                                         \n",
       "Covariance Type:            nonrobust                                         \n",
       "==============================================================================\n",
       "                 coef    std err          t      P>|t|      [0.025      0.975]\n",
       "------------------------------------------------------------------------------\n",
       "Intercept     36.6272      3.101     11.811      0.000      30.530      42.724\n",
       "饮食             1.4433      0.680      2.124      0.034       0.107       2.779\n",
       "性别             0.7859      0.672      1.169      0.243      -0.536       2.107\n",
       "亲缘             1.5324      0.372      4.120      0.000       0.801       2.264\n",
       "运动时间         -10.5029      1.051     -9.992      0.000     -12.570      -8.436\n",
       "骑行时间          10.8209      0.681     15.883      0.000       9.482      12.160\n",
       "==============================================================================\n",
       "Omnibus:                      154.168   Durbin-Watson:                   1.111\n",
       "Prob(Omnibus):                  0.000   Jarque-Bera (JB):             1076.572\n",
       "Skew:                          -1.457   Prob(JB):                    1.68e-234\n",
       "Kurtosis:                      10.469   Cond. No.                         46.5\n",
       "==============================================================================\n",
       "\n",
       "Warnings:\n",
       "[1] Standard Errors assume that the covariance matrix of the errors is correctly specified.\n",
       "\"\"\""
      ]
     },
     "execution_count": 22,
     "metadata": {},
     "output_type": "execute_result"
    }
   ],
   "source": [
    "import statsmodels.formula.api as smf\n",
    "result=smf.ols(\"体重~饮食+性别+亲缘+运动时间+骑行时间\",data=data).fit()#回归方法\n",
    "result.summary()\n",
    "# result.params#显示回归系数\n",
    "#\"绩效总分~适应总分+np.log(情绪总分)\"自变量取对数\n",
    "#正态分布检验JB：JB=n/6*(S^2+(K-3)^2/4):\n",
    "#共线性诊断：Cond. No=最大特征值/最小特征值，一般认为大于900为共线性。\n",
    "\n",
    "#----------ols法与梯度下降法的对比---------------\n",
    "# from sklearn.linear_model import LinearRegression,Lasso\n",
    "# x,y=data.iloc[:,1:],data.iloc[:,0]\n",
    "# reg=LinearRegression().fit(x,y)\n",
    "# print(\"线性回归的准确度%s和系数%s\" %(reg.score(x,y),reg.coef_))\n",
    "\n",
    "# lasso=Lasso(alpha=0,max_iter=1000).fit(x,y)\n",
    "# print(\"lasso回归的准确度%s和系数%s\" %(lasso.score(x,y),lasso.coef_))"
   ]
  },
  {
   "cell_type": "code",
   "execution_count": 19,
   "metadata": {},
   "outputs": [
    {
     "name": "stdout",
     "output_type": "stream",
     "text": [
      "截距项:80.42;斜率:-17.85\n"
     ]
    }
   ],
   "source": [
    "#----------统计法---------------\n",
    "b1=np.cov(data['体重'],data['运动时间'])[1][0]/np.var(data['运动时间'])\n",
    "b0=np.mean(data['体重'])-b1*np.mean(data['运动时间'])\n",
    "print('截距项:%.2f;斜率:%.2f'%(b0,b1))\n"
   ]
  },
  {
   "cell_type": "code",
   "execution_count": 20,
   "metadata": {},
   "outputs": [
    {
     "name": "stdout",
     "output_type": "stream",
     "text": [
      "\n"
     ]
    },
    {
     "data": {
      "image/png": "[encoded data removed]",
      "text/plain": [
       "<Figure size 432x288 with 1 Axes>"
      ]
     },
     "metadata": {
      "needs_background": "light"
     },
     "output_type": "display_data"
    }
   ],
   "source": [
    "#---------随机梯度下降（Stochastic Gradient Descent）---------------\n",
    "x=np.array([1,2,3,4,5,6])\n",
    "y=np.array([3,6,5,9,8,8])\n",
    "plt.scatter(x,y)\n",
    "\n",
    "#1.sgd最小化模型误差\n",
    "\"\"\"\n",
    "w=w-alpha*delta\n",
    "注：w为回归系数，alpha学习率，在[0 1]之间，通常设为0.3\n",
    "\n",
    "方程式：y=b0+b1*x\n",
    "\"\"\"\n",
    "#2.sgd算法\n",
    "\n",
    "\"\"\"\n",
    "迭代#1\n",
    "令：b0=0， b1=0，则y=0+0*x\n",
    "因为error(i)=p(i)-y(i),所以error(1)=0-3=-3,其中p是预测值\n",
    "\n",
    "因为b0(t+1)=b0(t)-alpha*error，所以b0(t+1)=0-0.3*(-3)=0.9\n",
    "因为b1(t+1)=b1(t)-alpha*error*x，所以b1(t+1)=0-0.3*(-3)*1=0.9\n",
    "\n",
    "迭代#2\n",
    "令：b0=0.9， b1=0.9，则y=0.9+0.9*x\n",
    "因为error(i)=p(i)-y(i),所以error(1)=2.7-6=-3.3\n",
    "\n",
    "因为b0(t+1)=b0(t)-alpha*error，所以b0(t+1)=0.9-0.3*(-3.3)=1.89\n",
    "因为b1(t+1)=b1(t)-alpha*error*x，所以b1(t+1)=0.9-0.3*(-3.3)*2=2.88\n",
    "\n",
    "迭代#3......\n",
    "\n",
    "注：一共6行数据，迭代后重新从第一行开始，则6次迭代为一个epoch（全部样本训练一次）\n",
    "\"\"\"\n",
    "print()"
   ]
  },
  {
   "cell_type": "code",
   "execution_count": 31,
   "metadata": {},
   "outputs": [
    {
     "data": {
      "text/plain": [
       "<matplotlib.axes._subplots.AxesSubplot at 0x24e7f60bb48>"
      ]
     },
     "execution_count": 31,
     "metadata": {},
     "output_type": "execute_result"
    },
    {
     "data": {
      "image/png": "[encoded data removed]",
      "text/plain": [
       "<Figure size 576x460.8 with 1 Axes>"
      ]
     },
     "metadata": {
      "needs_background": "light"
     },
     "output_type": "display_data"
    },
    {
     "data": {
      "image/png": "[encoded data removed]",
      "text/plain": [
       "<Figure size 576x460.8 with 1 Axes>"
      ]
     },
     "metadata": {
      "needs_background": "light"
     },
     "output_type": "display_data"
    }
   ],
   "source": [
    "#-----------残差分析--------------------\n",
    "#result.resid#保存残差   \n",
    "zstd=(result.resid-np.mean(result.resid))/np.std(result.resid)#计算标准化残差\n",
    "#绘制残差图，检查模型整体状况\n",
    "fig,ax=plt.subplots(figsize=(8,6.4))\n",
    "ax.plot(result.fittedvalues,zstd,\"g*\",label=\"resid and predict\")#预测值和标准化残差\n",
    "ax.axhline(y=-3,ls=\"--\",color=\"r\")#参考线横向hline和纵向vline或[np.mean(data.绩效总分)]\n",
    "ax.axhline(y=0,ls=\"--\",color=\"r\")\n",
    "\n",
    "fig,ax=plt.subplots(figsize=(8,6.4))\n",
    "sns.distplot(zstd, hist=True,bins=24)"
   ]
  },
  {
   "cell_type": "code",
   "execution_count": 32,
   "metadata": {},
   "outputs": [
    {
     "data": {
      "text/html": [
       "<table class=\"simpletable\">\n",
       "<caption>OLS Regression Results</caption>\n",
       "<tr>\n",
       "  <th>Dep. Variable:</th>           <td>体重</td>        <th>  R-squared:         </th> <td>   0.717</td> \n",
       "</tr>\n",
       "<tr>\n",
       "  <th>Model:</th>                   <td>OLS</td>       <th>  Adj. R-squared:    </th> <td>   0.713</td> \n",
       "</tr>\n",
       "<tr>\n",
       "  <th>Method:</th>             <td>Least Squares</td>  <th>  F-statistic:       </th> <td>   198.4</td> \n",
       "</tr>\n",
       "<tr>\n",
       "  <th>Date:</th>             <td>Tue, 21 Apr 2020</td> <th>  Prob (F-statistic):</th> <td>5.47e-105</td>\n",
       "</tr>\n",
       "<tr>\n",
       "  <th>Time:</th>                 <td>17:22:54</td>     <th>  Log-Likelihood:    </th> <td> -1237.6</td> \n",
       "</tr>\n",
       "<tr>\n",
       "  <th>No. Observations:</th>      <td>   398</td>      <th>  AIC:               </th> <td>   2487.</td> \n",
       "</tr>\n",
       "<tr>\n",
       "  <th>Df Residuals:</th>          <td>   392</td>      <th>  BIC:               </th> <td>   2511.</td> \n",
       "</tr>\n",
       "<tr>\n",
       "  <th>Df Model:</th>              <td>     5</td>      <th>                     </th>     <td> </td>    \n",
       "</tr>\n",
       "<tr>\n",
       "  <th>Covariance Type:</th>      <td>nonrobust</td>    <th>                     </th>     <td> </td>    \n",
       "</tr>\n",
       "</table>\n",
       "<table class=\"simpletable\">\n",
       "<tr>\n",
       "      <td></td>         <th>coef</th>     <th>std err</th>      <th>t</th>      <th>P>|t|</th>  <th>[0.025</th>    <th>0.975]</th>  \n",
       "</tr>\n",
       "<tr>\n",
       "  <th>Intercept</th> <td>   30.9776</td> <td>    2.666</td> <td>   11.621</td> <td> 0.000</td> <td>   25.737</td> <td>   36.218</td>\n",
       "</tr>\n",
       "<tr>\n",
       "  <th>饮食</th>        <td>    1.6495</td> <td>    0.577</td> <td>    2.856</td> <td> 0.005</td> <td>    0.514</td> <td>    2.785</td>\n",
       "</tr>\n",
       "<tr>\n",
       "  <th>性别</th>        <td>    1.5280</td> <td>    0.572</td> <td>    2.673</td> <td> 0.008</td> <td>    0.404</td> <td>    2.652</td>\n",
       "</tr>\n",
       "<tr>\n",
       "  <th>亲缘</th>        <td>    1.9269</td> <td>    0.316</td> <td>    6.090</td> <td> 0.000</td> <td>    1.305</td> <td>    2.549</td>\n",
       "</tr>\n",
       "<tr>\n",
       "  <th>运动时间</th>      <td>  -10.2675</td> <td>    0.890</td> <td>  -11.538</td> <td> 0.000</td> <td>  -12.017</td> <td>   -8.518</td>\n",
       "</tr>\n",
       "<tr>\n",
       "  <th>骑行时间</th>      <td>   11.9809</td> <td>    0.584</td> <td>   20.515</td> <td> 0.000</td> <td>   10.833</td> <td>   13.129</td>\n",
       "</tr>\n",
       "</table>\n",
       "<table class=\"simpletable\">\n",
       "<tr>\n",
       "  <th>Omnibus:</th>       <td>11.948</td> <th>  Durbin-Watson:     </th> <td>   1.437</td>\n",
       "</tr>\n",
       "<tr>\n",
       "  <th>Prob(Omnibus):</th> <td> 0.003</td> <th>  Jarque-Bera (JB):  </th> <td>  22.490</td>\n",
       "</tr>\n",
       "<tr>\n",
       "  <th>Skew:</th>          <td>-0.101</td> <th>  Prob(JB):          </th> <td>1.31e-05</td>\n",
       "</tr>\n",
       "<tr>\n",
       "  <th>Kurtosis:</th>      <td> 4.147</td> <th>  Cond. No.          </th> <td>    46.9</td>\n",
       "</tr>\n",
       "</table><br/><br/>Warnings:<br/>[1] Standard Errors assume that the covariance matrix of the errors is correctly specified."
      ],
      "text/plain": [
       "<class 'statsmodels.iolib.summary.Summary'>\n",
       "\"\"\"\n",
       "                            OLS Regression Results                            \n",
       "==============================================================================\n",
       "Dep. Variable:                     体重   R-squared:                       0.717\n",
       "Model:                            OLS   Adj. R-squared:                  0.713\n",
       "Method:                 Least Squares   F-statistic:                     198.4\n",
       "Date:                Tue, 21 Apr 2020   Prob (F-statistic):          5.47e-105\n",
       "Time:                        17:22:54   Log-Likelihood:                -1237.6\n",
       "No. Observations:                 398   AIC:                             2487.\n",
       "Df Residuals:                     392   BIC:                             2511.\n",
       "Df Model:                           5                                         \n",
       "Covariance Type:            nonrobust                                         \n",
       "==============================================================================\n",
       "                 coef    std err          t      P>|t|      [0.025      0.975]\n",
       "------------------------------------------------------------------------------\n",
       "Intercept     30.9776      2.666     11.621      0.000      25.737      36.218\n",
       "饮食             1.6495      0.577      2.856      0.005       0.514       2.785\n",
       "性别             1.5280      0.572      2.673      0.008       0.404       2.652\n",
       "亲缘             1.9269      0.316      6.090      0.000       1.305       2.549\n",
       "运动时间         -10.2675      0.890    -11.538      0.000     -12.017      -8.518\n",
       "骑行时间          11.9809      0.584     20.515      0.000      10.833      13.129\n",
       "==============================================================================\n",
       "Omnibus:                       11.948   Durbin-Watson:                   1.437\n",
       "Prob(Omnibus):                  0.003   Jarque-Bera (JB):               22.490\n",
       "Skew:                          -0.101   Prob(JB):                     1.31e-05\n",
       "Kurtosis:                       4.147   Cond. No.                         46.9\n",
       "==============================================================================\n",
       "\n",
       "Warnings:\n",
       "[1] Standard Errors assume that the covariance matrix of the errors is correctly specified.\n",
       "\"\"\""
      ]
     },
     "execution_count": 32,
     "metadata": {},
     "output_type": "execute_result"
    }
   ],
   "source": [
    "#--------消除预测值-------\n",
    "data1=pd.concat([data,zstd],axis=1)\n",
    "data2=data1[data1.iloc[:,-1]>-3]\n",
    "result2=smf.ols(\"体重~饮食+性别+亲缘+运动时间+骑行时间+骑行时间*骑行时间\",data=data2).fit()#回归方法\n",
    "result2.summary()"
   ]
  },
  {
   "cell_type": "code",
   "execution_count": 93,
   "metadata": {},
   "outputs": [
    {
     "data": {
      "text/html": [
       "<div>\n",
       "<style scoped>\n",
       "    .dataframe tbody tr th:only-of-type {\n",
       "        vertical-align: middle;\n",
       "    }\n",
       "\n",
       "    .dataframe tbody tr th {\n",
       "        vertical-align: top;\n",
       "    }\n",
       "\n",
       "    .dataframe thead th {\n",
       "        text-align: right;\n",
       "    }\n",
       "</style>\n",
       "<table border=\"1\" class=\"dataframe\">\n",
       "  <thead>\n",
       "    <tr style=\"text-align: right;\">\n",
       "      <th></th>\n",
       "      <th>饮食</th>\n",
       "      <th>性别</th>\n",
       "      <th>亲缘</th>\n",
       "      <th>运动时间</th>\n",
       "      <th>骑行时间</th>\n",
       "    </tr>\n",
       "  </thead>\n",
       "  <tbody>\n",
       "    <tr>\n",
       "      <td>0</td>\n",
       "      <td>2</td>\n",
       "      <td>1</td>\n",
       "      <td>4</td>\n",
       "      <td>0.357143</td>\n",
       "      <td>3.714286</td>\n",
       "    </tr>\n",
       "  </tbody>\n",
       "</table>\n",
       "</div>"
      ],
      "text/plain": [
       "   饮食  性别  亲缘      运动时间      骑行时间\n",
       "0   2   1   4  0.357143  3.714286"
      ]
     },
     "execution_count": 93,
     "metadata": {},
     "output_type": "execute_result"
    }
   ],
   "source": [
    "#---------老样本和新样本预测----------------\n",
    "x=data2.iloc[:,1:6]\n",
    "x_new=pd.DataFrame([{'饮食':2,'性别':2,'亲缘':1,'运动时间':3.22,'骑行时间':1.36}])\n",
    "result2.predict(x_new)"
   ]
  }
 ],
 "metadata": {
  "kernelspec": {
   "display_name": "Python 3",
   "language": "python",
   "name": "python3"
  },
  "language_info": {
   "codemirror_mode": {
    "name": "ipython",
    "version": 3
   },
   "file_extension": ".py",
   "mimetype": "text/x-python",
   "name": "python",
   "nbconvert_exporter": "python",
   "pygments_lexer": "ipython3",
   "version": "3.7.4"
  }
 },
 "nbformat": 4,
 "nbformat_minor": 2
}
