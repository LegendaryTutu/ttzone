{
 "cells": [
  {
   "cell_type": "code",
   "execution_count": 1,
   "metadata": {},
   "outputs": [
    {
     "data": {
      "text/html": [
       "<table class=\"simpletable\">\n",
       "<caption>OLS Regression Results</caption>\n",
       "<tr>\n",
       "  <th>Dep. Variable:</th>           <td>体重</td>        <th>  R-squared:         </th> <td>   0.594</td>\n",
       "</tr>\n",
       "<tr>\n",
       "  <th>Model:</th>                   <td>OLS</td>       <th>  Adj. R-squared:    </th> <td>   0.592</td>\n",
       "</tr>\n",
       "<tr>\n",
       "  <th>Method:</th>             <td>Least Squares</td>  <th>  F-statistic:       </th> <td>   292.1</td>\n",
       "</tr>\n",
       "<tr>\n",
       "  <th>Date:</th>             <td>Tue, 21 Apr 2020</td> <th>  Prob (F-statistic):</th> <td>7.20e-79</td>\n",
       "</tr>\n",
       "<tr>\n",
       "  <th>Time:</th>                 <td>00:45:30</td>     <th>  Log-Likelihood:    </th> <td> -1331.7</td>\n",
       "</tr>\n",
       "<tr>\n",
       "  <th>No. Observations:</th>      <td>   402</td>      <th>  AIC:               </th> <td>   2669.</td>\n",
       "</tr>\n",
       "<tr>\n",
       "  <th>Df Residuals:</th>          <td>   399</td>      <th>  BIC:               </th> <td>   2681.</td>\n",
       "</tr>\n",
       "<tr>\n",
       "  <th>Df Model:</th>              <td>     2</td>      <th>                     </th>     <td> </td>   \n",
       "</tr>\n",
       "<tr>\n",
       "  <th>Covariance Type:</th>      <td>nonrobust</td>    <th>                     </th>     <td> </td>   \n",
       "</tr>\n",
       "</table>\n",
       "<table class=\"simpletable\">\n",
       "<tr>\n",
       "      <td></td>         <th>coef</th>     <th>std err</th>      <th>t</th>      <th>P>|t|</th>  <th>[0.025</th>    <th>0.975]</th>  \n",
       "</tr>\n",
       "<tr>\n",
       "  <th>Intercept</th> <td>   46.9466</td> <td>    2.393</td> <td>   19.616</td> <td> 0.000</td> <td>   42.242</td> <td>   51.652</td>\n",
       "</tr>\n",
       "<tr>\n",
       "  <th>运动时间</th>      <td>  -10.2145</td> <td>    1.059</td> <td>   -9.644</td> <td> 0.000</td> <td>  -12.297</td> <td>   -8.132</td>\n",
       "</tr>\n",
       "<tr>\n",
       "  <th>骑行时间</th>      <td>    9.7515</td> <td>    0.672</td> <td>   14.514</td> <td> 0.000</td> <td>    8.431</td> <td>   11.072</td>\n",
       "</tr>\n",
       "</table>\n",
       "<table class=\"simpletable\">\n",
       "<tr>\n",
       "  <th>Omnibus:</th>       <td>89.392</td> <th>  Durbin-Watson:     </th> <td>   1.098</td>\n",
       "</tr>\n",
       "<tr>\n",
       "  <th>Prob(Omnibus):</th> <td> 0.000</td> <th>  Jarque-Bera (JB):  </th> <td> 386.097</td>\n",
       "</tr>\n",
       "<tr>\n",
       "  <th>Skew:</th>          <td>-0.893</td> <th>  Prob(JB):          </th> <td>1.45e-84</td>\n",
       "</tr>\n",
       "<tr>\n",
       "  <th>Kurtosis:</th>      <td> 7.456</td> <th>  Cond. No.          </th> <td>    25.1</td>\n",
       "</tr>\n",
       "</table><br/><br/>Warnings:<br/>[1] Standard Errors assume that the covariance matrix of the errors is correctly specified."
      ],
      "text/plain": [
       "<class 'statsmodels.iolib.summary.Summary'>\n",
       "\"\"\"\n",
       "                            OLS Regression Results                            \n",
       "==============================================================================\n",
       "Dep. Variable:                     体重   R-squared:                       0.594\n",
       "Model:                            OLS   Adj. R-squared:                  0.592\n",
       "Method:                 Least Squares   F-statistic:                     292.1\n",
       "Date:                Tue, 21 Apr 2020   Prob (F-statistic):           7.20e-79\n",
       "Time:                        00:45:30   Log-Likelihood:                -1331.7\n",
       "No. Observations:                 402   AIC:                             2669.\n",
       "Df Residuals:                     399   BIC:                             2681.\n",
       "Df Model:                           2                                         \n",
       "Covariance Type:            nonrobust                                         \n",
       "==============================================================================\n",
       "                 coef    std err          t      P>|t|      [0.025      0.975]\n",
       "------------------------------------------------------------------------------\n",
       "Intercept     46.9466      2.393     19.616      0.000      42.242      51.652\n",
       "运动时间         -10.2145      1.059     -9.644      0.000     -12.297      -8.132\n",
       "骑行时间           9.7515      0.672     14.514      0.000       8.431      11.072\n",
       "==============================================================================\n",
       "Omnibus:                       89.392   Durbin-Watson:                   1.098\n",
       "Prob(Omnibus):                  0.000   Jarque-Bera (JB):              386.097\n",
       "Skew:                          -0.893   Prob(JB):                     1.45e-84\n",
       "Kurtosis:                       7.456   Cond. No.                         25.1\n",
       "==============================================================================\n",
       "\n",
       "Warnings:\n",
       "[1] Standard Errors assume that the covariance matrix of the errors is correctly specified.\n",
       "\"\"\""
      ]
     },
     "execution_count": 1,
     "metadata": {},
     "output_type": "execute_result"
    }
   ],
   "source": [
    "#导入包\n",
    "import numpy as np\n",
    "import pandas as pd\n",
    "import matplotlib as plt\n",
    "import statsmodels.formula.api as smf\n",
    "from sklearn import linear_model\n",
    "import matplotlib.pyplot as plt\n",
    "import scipy.stats as stats\n",
    "%matplotlib inline\n",
    "\n",
    "data=pd.read_excel(\"C:\\\\Users\\\\有福有德\\Desktop\\\\上海统计分析python20200418\\\\data\\\\运动1.xlsx\")\n",
    "data.head(6)#tail(6),data.columus\n",
    "\n",
    "# ====== 线性回归======\n",
    "result=smf.ols(\"体重~运动时间+骑行时间\",data=data).fit()\n",
    "result.summary()\n",
    "#正态分布检验JB：JB=n/6*(S^2+(K-3)^2/4):"
   ]
  },
  {
   "cell_type": "code",
   "execution_count": 3,
   "metadata": {},
   "outputs": [
    {
     "data": {
      "text/plain": [
       "NormaltestResult(statistic=17.85958520117595, pvalue=0.0001323854783532631)"
      ]
     },
     "execution_count": 3,
     "metadata": {},
     "output_type": "execute_result"
    }
   ],
   "source": [
    "#配合直方图描述残差及正态分布检验\n",
    "stats.normaltest(data[\"体重\"], axis=0)#h0：正态分布\n",
    "\n",
    "# plt.figure(figsize=(8,6.4)) #设置图框大小尺寸\n",
    "# plt.hist(result.resid, histtype='bar')#'bar', 'barstacked', 'step',  'stepfilled'}\n",
    "# plt.show()\n"
   ]
  },
  {
   "cell_type": "code",
   "execution_count": null,
   "metadata": {},
   "outputs": [],
   "source": []
  }
 ],
 "metadata": {
  "kernelspec": {
   "display_name": "Python 3",
   "language": "python",
   "name": "python3"
  },
  "language_info": {
   "codemirror_mode": {
    "name": "ipython",
    "version": 3
   },
   "file_extension": ".py",
   "mimetype": "text/x-python",
   "name": "python",
   "nbconvert_exporter": "python",
   "pygments_lexer": "ipython3",
   "version": "3.7.4"
  }
 },
 "nbformat": 4,
 "nbformat_minor": 2
}
