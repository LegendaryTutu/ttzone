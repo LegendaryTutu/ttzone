{
 "cells": [
  {
   "cell_type": "code",
   "execution_count": 1,
   "metadata": {},
   "outputs": [
    {
     "data": {
      "text/html": [
       "<div>\n",
       "<style scoped>\n",
       "    .dataframe tbody tr th:only-of-type {\n",
       "        vertical-align: middle;\n",
       "    }\n",
       "\n",
       "    .dataframe tbody tr th {\n",
       "        vertical-align: top;\n",
       "    }\n",
       "\n",
       "    .dataframe thead th {\n",
       "        text-align: right;\n",
       "    }\n",
       "</style>\n",
       "<table border=\"1\" class=\"dataframe\">\n",
       "  <thead>\n",
       "    <tr style=\"text-align: right;\">\n",
       "      <th></th>\n",
       "      <th>ID</th>\n",
       "      <th>age</th>\n",
       "      <th>age_group</th>\n",
       "      <th>ed</th>\n",
       "      <th>employ</th>\n",
       "      <th>address</th>\n",
       "      <th>income</th>\n",
       "      <th>debtinc</th>\n",
       "      <th>creddebt</th>\n",
       "      <th>othdebt</th>\n",
       "      <th>default</th>\n",
       "    </tr>\n",
       "  </thead>\n",
       "  <tbody>\n",
       "    <tr>\n",
       "      <td>0</td>\n",
       "      <td>1</td>\n",
       "      <td>41</td>\n",
       "      <td>3</td>\n",
       "      <td>3</td>\n",
       "      <td>17</td>\n",
       "      <td>12</td>\n",
       "      <td>35.9</td>\n",
       "      <td>11.90</td>\n",
       "      <td>0.504108</td>\n",
       "      <td>3.767992</td>\n",
       "      <td>0</td>\n",
       "    </tr>\n",
       "    <tr>\n",
       "      <td>1</td>\n",
       "      <td>2</td>\n",
       "      <td>30</td>\n",
       "      <td>2</td>\n",
       "      <td>1</td>\n",
       "      <td>13</td>\n",
       "      <td>8</td>\n",
       "      <td>46.7</td>\n",
       "      <td>17.88</td>\n",
       "      <td>1.352694</td>\n",
       "      <td>6.997266</td>\n",
       "      <td>0</td>\n",
       "    </tr>\n",
       "    <tr>\n",
       "      <td>2</td>\n",
       "      <td>3</td>\n",
       "      <td>40</td>\n",
       "      <td>3</td>\n",
       "      <td>1</td>\n",
       "      <td>15</td>\n",
       "      <td>14</td>\n",
       "      <td>61.8</td>\n",
       "      <td>10.64</td>\n",
       "      <td>3.438997</td>\n",
       "      <td>3.136523</td>\n",
       "      <td>0</td>\n",
       "    </tr>\n",
       "  </tbody>\n",
       "</table>\n",
       "</div>"
      ],
      "text/plain": [
       "   ID  age  age_group  ed  employ  address  income  debtinc  creddebt  \\\n",
       "0   1   41          3   3      17       12    35.9    11.90  0.504108   \n",
       "1   2   30          2   1      13        8    46.7    17.88  1.352694   \n",
       "2   3   40          3   1      15       14    61.8    10.64  3.438997   \n",
       "\n",
       "    othdebt  default  \n",
       "0  3.767992        0  \n",
       "1  6.997266        0  \n",
       "2  3.136523        0  "
      ]
     },
     "execution_count": 1,
     "metadata": {},
     "output_type": "execute_result"
    }
   ],
   "source": [
    "#导入包\n",
    "import numpy as np\n",
    "import pandas as pd\n",
    "import matplotlib as plt\n",
    "import statsmodels.formula.api as smf\n",
    "from sklearn import linear_model\n",
    "import matplotlib.pyplot as plt\n",
    "%matplotlib inline\n",
    "\n",
    "#使用pandas读取数据支持xls和xlsx\n",
    "data=pd.read_excel(\"C:\\\\Users\\\\有福有德\\Desktop\\\\上海统计分析python20200418\\\\data\\\\bankloan_binning.xlsx\")\n",
    "data.head(3)#显示数据开头6行\n"
   ]
  },
  {
   "cell_type": "code",
   "execution_count": 2,
   "metadata": {},
   "outputs": [
    {
     "name": "stdout",
     "output_type": "stream",
     "text": [
      "\n"
     ]
    },
    {
     "data": {
      "text/plain": [
       "0.11249999999999999"
      ]
     },
     "execution_count": 2,
     "metadata": {},
     "output_type": "execute_result"
    }
   ],
   "source": [
    "#随机梯度下降（Stochastic Gradient Descent）\n",
    "x1=np.array([1,2,3])\n",
    "x2=np.array([3,2,2])\n",
    "y=np.array([1,0,1])\n",
    "# plt.scatter(x,y)\n",
    "\n",
    "#1.sgd最小化模型误差\n",
    "\"\"\"\n",
    "w=w+alpha*(y-p)*p*(1-p)*x\n",
    "注：w为回归系数，alpha学习率，在[0 1]之间，通常设为0.3\n",
    "\n",
    "方程：log(p/(1-p))=b0+b1*x1+b2*x2,or p=1/(1+exp(-(b0+b1*x1+b2*x2)))\n",
    "\"\"\"\n",
    "#2.sgd算法\n",
    "\n",
    "\"\"\"\n",
    "迭代#1\n",
    "令：b0=0，b1=0，b2=0,则p=1/(1+exp(-(0+0*1+0*3)))=0.5\n",
    "因为w=w+alpha*(y-p)*p*(1-p)*x,\n",
    "所以,\n",
    "b0=0+0.3*(1-0.5)*0.5*(1-0.5)*1=0.0375\n",
    "b1=0+0.3*(1-0.5)*0.5*(1-0.5)*1=0.0375\n",
    "b2=0+0.3*(1-0.5)*0.5*(1-0.5)*3=0.1125\n",
    "\n",
    "迭代#2\n",
    "令：b0=0.0375，b1=0.0375，b2=0.1125,则p=1/(1+exp(-(0.0375+0.0375*2+0.01125*2)))=0.534\n",
    "因为w=w+alpha*(y-p)*p*(1-p)*x,\n",
    "所以,\n",
    "b0=0.0375+0.3*(0-0.534)*0.534*(0-0.534)*1=\n",
    "b1=0.0375+0.3*(0-0.534)*0.534*(0-0.534)*2=\n",
    "b2=0.01125+0.3*(0-0.534)*0.534*(0-0.534)*2=\n",
    "\n",
    "迭代#3......\n",
    "\n",
    "注：一共6行数据，迭代后重新从第一行开始，则6次迭代为一个epoch（全部样本训练一次）\n",
    "\"\"\"\n",
    "print()"
   ]
  },
  {
   "cell_type": "code",
   "execution_count": null,
   "metadata": {},
   "outputs": [],
   "source": []
  }
 ],
 "metadata": {
  "celltoolbar": "Tags",
  "kernelspec": {
   "display_name": "Python 3",
   "language": "python",
   "name": "python3"
  },
  "language_info": {
   "codemirror_mode": {
    "name": "ipython",
    "version": 3
   },
   "file_extension": ".py",
   "mimetype": "text/x-python",
   "name": "python",
   "nbconvert_exporter": "python",
   "pygments_lexer": "ipython3",
   "version": "3.7.4"
  }
 },
 "nbformat": 4,
 "nbformat_minor": 2
}
