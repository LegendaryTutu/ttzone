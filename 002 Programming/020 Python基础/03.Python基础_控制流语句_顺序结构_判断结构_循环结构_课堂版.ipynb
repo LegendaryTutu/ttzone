{
 "cells": [
  {
   "cell_type": "markdown",
   "metadata": {
    "toc": true
   },
   "source": [
    "<h1>Table of Contents<span class=\"tocSkip\"></span></h1>\n",
    "<div class=\"toc\"><ul class=\"toc-item\"><li><span><a href=\"#控制流语句\" data-toc-modified-id=\"控制流语句-1\"><span class=\"toc-item-num\">1&nbsp;&nbsp;</span>控制流语句</a></span><ul class=\"toc-item\"><li><span><a href=\"#if条件判断\" data-toc-modified-id=\"if条件判断-1.1\"><span class=\"toc-item-num\">1.1&nbsp;&nbsp;</span>if条件判断</a></span><ul class=\"toc-item\"><li><span><a href=\"#布尔类型和其他数据类型之间的转换关系\" data-toc-modified-id=\"布尔类型和其他数据类型之间的转换关系-1.1.1\"><span class=\"toc-item-num\">1.1.1&nbsp;&nbsp;</span>布尔类型和其他数据类型之间的转换关系</a></span></li><li><span><a href=\"#if-嵌套\" data-toc-modified-id=\"if-嵌套-1.1.2\"><span class=\"toc-item-num\">1.1.2&nbsp;&nbsp;</span>if 嵌套</a></span></li><li><span><a href=\"#if嵌套的应用\" data-toc-modified-id=\"if嵌套的应用-1.1.3\"><span class=\"toc-item-num\">1.1.3&nbsp;&nbsp;</span>if嵌套的应用</a></span></li><li><span><a href=\"#练一练\" data-toc-modified-id=\"练一练-1.1.4\"><span class=\"toc-item-num\">1.1.4&nbsp;&nbsp;</span>练一练</a></span></li><li><span><a href=\"#if语句练习题-判断年份是否是闰年\" data-toc-modified-id=\"if语句练习题-判断年份是否是闰年-1.1.5\"><span class=\"toc-item-num\">1.1.5&nbsp;&nbsp;</span>if语句练习题 判断年份是否是闰年</a></span></li></ul></li><li><span><a href=\"#列表\" data-toc-modified-id=\"列表-1.2\"><span class=\"toc-item-num\">1.2&nbsp;&nbsp;</span>列表</a></span></li><li><span><a href=\"#循环语句\" data-toc-modified-id=\"循环语句-1.3\"><span class=\"toc-item-num\">1.3&nbsp;&nbsp;</span>循环语句</a></span><ul class=\"toc-item\"><li><span><a href=\"#for循环\" data-toc-modified-id=\"for循环-1.3.1\"><span class=\"toc-item-num\">1.3.1&nbsp;&nbsp;</span>for循环</a></span></li><li><span><a href=\"#小练习:\" data-toc-modified-id=\"小练习:-1.3.2\"><span class=\"toc-item-num\">1.3.2&nbsp;&nbsp;</span>小练习:</a></span></li><li><span><a href=\"#小练习2:\" data-toc-modified-id=\"小练习2:-1.3.3\"><span class=\"toc-item-num\">1.3.3&nbsp;&nbsp;</span>小练习2:</a></span></li><li><span><a href=\"#while循环\" data-toc-modified-id=\"while循环-1.3.4\"><span class=\"toc-item-num\">1.3.4&nbsp;&nbsp;</span>while循环</a></span></li><li><span><a href=\"#小练习3:\" data-toc-modified-id=\"小练习3:-1.3.5\"><span class=\"toc-item-num\">1.3.5&nbsp;&nbsp;</span>小练习3:</a></span></li><li><span><a href=\"#break\" data-toc-modified-id=\"break-1.3.6\"><span class=\"toc-item-num\">1.3.6&nbsp;&nbsp;</span>break</a></span></li><li><span><a href=\"#continue\" data-toc-modified-id=\"continue-1.3.7\"><span class=\"toc-item-num\">1.3.7&nbsp;&nbsp;</span>continue</a></span></li><li><span><a href=\"#break/continue小练习:\" data-toc-modified-id=\"break/continue小练习:-1.3.8\"><span class=\"toc-item-num\">1.3.8&nbsp;&nbsp;</span>break/continue小练习:</a></span></li><li><span><a href=\"#练习-寻找水仙花数\" data-toc-modified-id=\"练习-寻找水仙花数-1.3.9\"><span class=\"toc-item-num\">1.3.9&nbsp;&nbsp;</span>练习 寻找水仙花数</a></span></li></ul></li></ul></li></ul></div>"
   ]
  },
  {
   "cell_type": "markdown",
   "metadata": {},
   "source": [
    "# 控制流语句"
   ]
  },
  {
   "cell_type": "markdown",
   "metadata": {},
   "source": [
    "顺序语句\n",
    "\n",
    "- 从左到右, 从上到下"
   ]
  },
  {
   "cell_type": "markdown",
   "metadata": {
    "collapsed": true
   },
   "source": [
    "## if条件判断\n",
    "\n",
    "计算机之所以能做很多自动化的任务，因为它可以自己做条件判断。"
   ]
  },
  {
   "cell_type": "markdown",
   "metadata": {},
   "source": [
    "比如，输入用户年龄，根据年龄打印不同的内容，在Python程序中，用if语句实现："
   ]
  },
  {
   "cell_type": "code",
   "execution_count": null,
   "metadata": {},
   "outputs": [],
   "source": [
    "if <条件判断表达式>:\n",
    "    <这里面的代码代表当上面的判断成立的时候,运行的代码>"
   ]
  },
  {
   "cell_type": "code",
   "execution_count": 3,
   "metadata": {},
   "outputs": [
    {
     "name": "stdout",
     "output_type": "stream",
     "text": [
      "成立\n",
      "后面的代码\n"
     ]
    }
   ],
   "source": [
    "a = 6\n",
    "if a > 0:\n",
    "    print(\"成立\")\n",
    "    \n",
    "print('后面的代码')\n",
    "# tab 可以进行代码缩进 shift+tab 反缩进"
   ]
  },
  {
   "cell_type": "code",
   "execution_count": 4,
   "metadata": {},
   "outputs": [
    {
     "name": "stdout",
     "output_type": "stream",
     "text": [
      "后面的代码\n"
     ]
    }
   ],
   "source": [
    "a = 6\n",
    "if a < 0:\n",
    "    print(\"成立\")\n",
    "\n",
    "print('后面的代码')"
   ]
  },
  {
   "cell_type": "code",
   "execution_count": null,
   "metadata": {},
   "outputs": [],
   "source": [
    "# 第二种\n",
    "if <条件判断表达式>:\n",
    "    <上面的判断成立的时候,运行的代码>\n",
    "else:\n",
    "    <条件判断不成立时候,运行的代码>"
   ]
  },
  {
   "cell_type": "code",
   "execution_count": 5,
   "metadata": {},
   "outputs": [
    {
     "name": "stdout",
     "output_type": "stream",
     "text": [
      "成立\n",
      "后面的代码\n"
     ]
    }
   ],
   "source": [
    "a = 6\n",
    "if a > 0:\n",
    "    print(\"成立\")\n",
    "else:\n",
    "    print(\"条件不成力\")\n",
    "    \n",
    "print('后面的代码')"
   ]
  },
  {
   "cell_type": "code",
   "execution_count": 6,
   "metadata": {},
   "outputs": [
    {
     "name": "stdout",
     "output_type": "stream",
     "text": [
      "条件不成力\n",
      "后面的代码\n"
     ]
    }
   ],
   "source": [
    "a = 6\n",
    "if a < 0:\n",
    "    print(\"成立\")\n",
    "else:\n",
    "    print(\"条件不成力\")\n",
    "    \n",
    "print('后面的代码')"
   ]
  },
  {
   "cell_type": "code",
   "execution_count": null,
   "metadata": {},
   "outputs": [],
   "source": [
    "# 第三种\n",
    "if <条件判断表达式>:\n",
    "    <上面的判断成立的时候,运行的代码>\n",
    "elif <条件判断表达式2>: # else if  elif\n",
    "    <条件判断表达式2成立的时候,运行的代码>\n",
    "elif <条件判断表达式3>:\n",
    "    <条件判断表达式3成立的时候,运行的代码>\n",
    "...\n",
    "\n"
   ]
  },
  {
   "cell_type": "code",
   "execution_count": 13,
   "metadata": {},
   "outputs": [
    {
     "name": "stdout",
     "output_type": "stream",
     "text": [
      "分支1成立\n",
      "后面的代码\n"
     ]
    }
   ],
   "source": [
    "a = 6\n",
    "if a > 0:\n",
    "    print(\"分支1成立\")\n",
    "elif a > -2:\n",
    "    print('分支2成立')\n",
    "elif a > -4:\n",
    "    print('分支3成立')\n",
    "    \n",
    "print('后面的代码')"
   ]
  },
  {
   "cell_type": "code",
   "execution_count": 15,
   "metadata": {},
   "outputs": [
    {
     "name": "stdout",
     "output_type": "stream",
     "text": [
      "上面的分支全不成立\n",
      "后面的代码\n"
     ]
    }
   ],
   "source": [
    "a = -5\n",
    "if a > 0:\n",
    "    print(\"分支1成立\")\n",
    "elif a > -2:\n",
    "    print('分支2成立')\n",
    "elif a > -4:\n",
    "    print('分支3成立')\n",
    "else: # 上面的全都不成立情况下,运行这个分支\n",
    "    print('上面的分支全不成立')\n",
    "    \n",
    "print('后面的代码')"
   ]
  },
  {
   "cell_type": "code",
   "execution_count": null,
   "metadata": {},
   "outputs": [],
   "source": [
    "if: 必须出现,只能出现一次 {1}\n",
    "\n",
    "elif: 可以没有, 有几次都可以{0,无穷大}\n",
    "\n",
    "else: 可以没有,如果出现只能一次 {0,1}"
   ]
  },
  {
   "cell_type": "code",
   "execution_count": null,
   "metadata": {},
   "outputs": [],
   "source": []
  },
  {
   "cell_type": "code",
   "execution_count": null,
   "metadata": {},
   "outputs": [],
   "source": []
  },
  {
   "cell_type": "code",
   "execution_count": 2,
   "metadata": {},
   "outputs": [
    {
     "name": "stdout",
     "output_type": "stream",
     "text": [
      "2\n"
     ]
    }
   ],
   "source": [
    "a = 1\n",
    "# 只要看到if 了 , 就是进入  分支语句\n",
    "# if 后面 判断表达式  \n",
    "# 判断表达式后面  冒号:\n",
    "if a < 0:\n",
    "    print(1)    \n",
    "    \n",
    "print(2)"
   ]
  },
  {
   "cell_type": "code",
   "execution_count": 5,
   "metadata": {},
   "outputs": [
    {
     "name": "stdout",
     "output_type": "stream",
     "text": [
      "不成立\n",
      "后面的代码\n"
     ]
    }
   ],
   "source": [
    "a = 1\n",
    "if a == 2:\n",
    "    print(1)\n",
    "else:\n",
    "    print('不成立')\n",
    "    \n",
    "print('后面的代码')"
   ]
  },
  {
   "cell_type": "code",
   "execution_count": 6,
   "metadata": {},
   "outputs": [
    {
     "name": "stdout",
     "output_type": "stream",
     "text": [
      "1\n",
      "后面的代码\n"
     ]
    }
   ],
   "source": [
    "a = 1\n",
    "if a == 3:\n",
    "    print(3)\n",
    "elif a == 2:\n",
    "    print(2)\n",
    "elif a == 1:\n",
    "    print(1)\n",
    "    \n",
    "print('后面的代码')"
   ]
  },
  {
   "cell_type": "code",
   "execution_count": 10,
   "metadata": {},
   "outputs": [
    {
     "name": "stdout",
     "output_type": "stream",
     "text": [
      "后面的代码\n"
     ]
    }
   ],
   "source": [
    "a = 1\n",
    "if a > 3:\n",
    "    print(3)\n",
    "elif a == 2:\n",
    "    print(2)\n",
    "elif a != 1:\n",
    "    print(1)\n",
    "    \n",
    "print('后面的代码')"
   ]
  },
  {
   "cell_type": "code",
   "execution_count": 12,
   "metadata": {},
   "outputs": [
    {
     "name": "stdout",
     "output_type": "stream",
     "text": [
      "全都不成立\n",
      "后面的代码\n"
     ]
    }
   ],
   "source": [
    "a = 1\n",
    "if a > 3:\n",
    "    print(3)\n",
    "elif a == 2:\n",
    "    print(2)\n",
    "elif a != 1:\n",
    "    print(1)\n",
    "else:\n",
    "    print('全都不成立')\n",
    "    \n",
    "print('后面的代码')"
   ]
  },
  {
   "cell_type": "code",
   "execution_count": null,
   "metadata": {},
   "outputs": [],
   "source": []
  },
  {
   "cell_type": "code",
   "execution_count": null,
   "metadata": {},
   "outputs": [],
   "source": []
  },
  {
   "cell_type": "code",
   "execution_count": 17,
   "metadata": {},
   "outputs": [
    {
     "name": "stdout",
     "output_type": "stream",
     "text": [
      "your age is 20\n",
      "adult\n"
     ]
    }
   ],
   "source": [
    "age = 20\n",
    "if age >= 18:\n",
    "    print('your age is', age)\n",
    "    print('adult')"
   ]
  },
  {
   "cell_type": "markdown",
   "metadata": {
    "collapsed": true
   },
   "source": [
    "根据Python的缩进规则，如果if语句判断是True，就把缩进的两行print语句执行了，否则，什么也不做。\n",
    "\n",
    "也可以给if添加一个else语句，意思是，如果if判断是False，不要执行if的内容，去把else执行了："
   ]
  },
  {
   "cell_type": "code",
   "execution_count": 13,
   "metadata": {},
   "outputs": [
    {
     "name": "stdout",
     "output_type": "stream",
     "text": [
      "your age is 3\n",
      "teenager\n"
     ]
    }
   ],
   "source": [
    "age = 3\n",
    "if age >= 18:\n",
    "    print('your age is', age)\n",
    "    print('adult')\n",
    "else:\n",
    "    print('your age is', age)\n",
    "    print('teenager')"
   ]
  },
  {
   "cell_type": "markdown",
   "metadata": {},
   "source": [
    "注意不要少写了冒号:。\n",
    "\n",
    "当然上面的判断是很粗略的，完全可以用elif做更细致的判断："
   ]
  },
  {
   "cell_type": "code",
   "execution_count": 19,
   "metadata": {},
   "outputs": [
    {
     "name": "stdout",
     "output_type": "stream",
     "text": [
      "kid\n"
     ]
    }
   ],
   "source": [
    "age = 3\n",
    "if age >= 18:\n",
    "    print('adult')\n",
    "elif age >= 6:\n",
    "    print('teenager')\n",
    "else:\n",
    "    print('kid')"
   ]
  },
  {
   "cell_type": "markdown",
   "metadata": {},
   "source": [
    "elif是else if的缩写，完全可以有多个elif，所以if语句的完整形式就是："
   ]
  },
  {
   "cell_type": "markdown",
   "metadata": {},
   "source": [
    "所以if语句的完整形式就是：\n",
    "\n",
    "```python\n",
    "if <条件判断1>:\n",
    "    <执行1>\n",
    "elif <条件判断2>:\n",
    "    <执行2>\n",
    "elif <条件判断3>:\n",
    "    <执行3>\n",
    "else:\n",
    "    <执行4>\n",
    "\n",
    "```"
   ]
  },
  {
   "cell_type": "markdown",
   "metadata": {},
   "source": [
    "if语句执行有个特点，它是从上往下判断，如果在某个判断上是True，把该判断对应的语句执行后，就忽略掉剩下的elif和else，所以，请测试并解释为什么下面的程序打印的是teenager："
   ]
  },
  {
   "cell_type": "code",
   "execution_count": 18,
   "metadata": {},
   "outputs": [
    {
     "name": "stdout",
     "output_type": "stream",
     "text": [
      "请输入您的年龄:16\n",
      "小孩儿不能上网,请出去!\n"
     ]
    }
   ],
   "source": [
    "# 根据用户的年龄判断他能做的事情\n",
    "# 如果大于等于18岁,就可以去网吧, 如果不满足, 就赶出去\n",
    "age = int(input('请输入您的年龄:'))\n",
    "if age>=18:\n",
    "    print('恭喜你可以开始上网')\n",
    "else:\n",
    "    print(\"小孩儿不能上网,请出去!\")"
   ]
  },
  {
   "cell_type": "code",
   "execution_count": 35,
   "metadata": {},
   "outputs": [
    {
     "name": "stdout",
     "output_type": "stream",
     "text": [
      "请输入您的年龄:58\n",
      "你对网吧完全不了解\n"
     ]
    }
   ],
   "source": [
    "# 根据用户的年龄判断他能做的事情\n",
    "# 如果大于等于18岁,就可以去网吧, 如果不满足, 就赶出去\n",
    "# 如果年龄在 0-4岁, 婴儿\n",
    "# 如果 4 - 12 儿童\n",
    "# 12 - 18  青少年\n",
    "# 18 - 35 虽 青年\n",
    "# 35 - 55 中年\n",
    "# 55 - 1000 老年\n",
    "age = int(input('请输入您的年龄:'))\n",
    "if age < 4:\n",
    "    print('小婴儿还不知道什么是网吧')\n",
    "elif age<12:\n",
    "    print('儿童应该好好玩耍,但是不能上网吧玩')\n",
    "elif age < 18:\n",
    "    print('青少年应该好好学习,不能沉迷上网吧')\n",
    "elif age < 35:\n",
    "    print('恭喜你终于成年,可以进行的上网吧玩耍了')\n",
    "elif age < 55:\n",
    "    print('你已经对网吧不感兴趣了')\n",
    "else: # 当上面的全部不成立, 那么一定age是大于等于55的\n",
    "    print('你对网吧完全不了解')\n",
    "    "
   ]
  },
  {
   "cell_type": "code",
   "execution_count": 28,
   "metadata": {},
   "outputs": [],
   "source": []
  },
  {
   "cell_type": "code",
   "execution_count": 26,
   "metadata": {},
   "outputs": [
    {
     "data": {
      "text/plain": [
       "True"
      ]
     },
     "execution_count": 26,
     "metadata": {},
     "output_type": "execute_result"
    }
   ],
   "source": [
    "x >= 4 and x < 12"
   ]
  },
  {
   "cell_type": "code",
   "execution_count": 30,
   "metadata": {},
   "outputs": [
    {
     "data": {
      "text/plain": [
       "True"
      ]
     },
     "execution_count": 30,
     "metadata": {},
     "output_type": "execute_result"
    }
   ],
   "source": [
    "x = 5\n",
    "# python 写法\n",
    "4<= x <12"
   ]
  },
  {
   "cell_type": "code",
   "execution_count": null,
   "metadata": {},
   "outputs": [],
   "source": []
  },
  {
   "cell_type": "code",
   "execution_count": null,
   "metadata": {},
   "outputs": [],
   "source": []
  },
  {
   "cell_type": "code",
   "execution_count": 20,
   "metadata": {},
   "outputs": [
    {
     "name": "stdout",
     "output_type": "stream",
     "text": [
      "teenager\n"
     ]
    }
   ],
   "source": [
    "age = 20\n",
    "if age >= 6:\n",
    "    print('teenager')\n",
    "elif age >= 18:\n",
    "    print('adult')\n",
    "else:\n",
    "    print('kid')"
   ]
  },
  {
   "cell_type": "markdown",
   "metadata": {},
   "source": [
    "### 布尔类型和其他数据类型之间的转换关系\n",
    "\n",
    "所有空值为假,其他为真\n",
    "\n",
    "关系: 凡是代表空的,就转换成假, 否则为真"
   ]
  },
  {
   "cell_type": "code",
   "execution_count": 45,
   "metadata": {},
   "outputs": [
    {
     "name": "stdout",
     "output_type": "stream",
     "text": [
      "成立\n"
     ]
    }
   ],
   "source": [
    "a = 1\n",
    "if 1:\n",
    "    print('成立')"
   ]
  },
  {
   "cell_type": "code",
   "execution_count": 46,
   "metadata": {},
   "outputs": [
    {
     "data": {
      "text/plain": [
       "True"
      ]
     },
     "execution_count": 46,
     "metadata": {},
     "output_type": "execute_result"
    }
   ],
   "source": [
    "bool(-100)"
   ]
  },
  {
   "cell_type": "code",
   "execution_count": 47,
   "metadata": {},
   "outputs": [
    {
     "data": {
      "text/plain": [
       "True"
      ]
     },
     "execution_count": 47,
     "metadata": {},
     "output_type": "execute_result"
    }
   ],
   "source": [
    "bool(100)"
   ]
  },
  {
   "cell_type": "code",
   "execution_count": 48,
   "metadata": {},
   "outputs": [
    {
     "data": {
      "text/plain": [
       "False"
      ]
     },
     "execution_count": 48,
     "metadata": {},
     "output_type": "execute_result"
    }
   ],
   "source": [
    "bool(0)"
   ]
  },
  {
   "cell_type": "code",
   "execution_count": 49,
   "metadata": {},
   "outputs": [
    {
     "data": {
      "text/plain": [
       "True"
      ]
     },
     "execution_count": 49,
     "metadata": {},
     "output_type": "execute_result"
    }
   ],
   "source": [
    "bool('False')"
   ]
  },
  {
   "cell_type": "code",
   "execution_count": 52,
   "metadata": {},
   "outputs": [
    {
     "data": {
      "text/plain": [
       "False"
      ]
     },
     "execution_count": 52,
     "metadata": {},
     "output_type": "execute_result"
    }
   ],
   "source": [
    "bool('')"
   ]
  },
  {
   "cell_type": "code",
   "execution_count": 53,
   "metadata": {},
   "outputs": [
    {
     "data": {
      "text/plain": [
       "False"
      ]
     },
     "execution_count": 53,
     "metadata": {},
     "output_type": "execute_result"
    }
   ],
   "source": [
    "bool([])"
   ]
  },
  {
   "cell_type": "code",
   "execution_count": 54,
   "metadata": {},
   "outputs": [
    {
     "data": {
      "text/plain": [
       "True"
      ]
     },
     "execution_count": 54,
     "metadata": {},
     "output_type": "execute_result"
    }
   ],
   "source": [
    "bool([1])"
   ]
  },
  {
   "cell_type": "code",
   "execution_count": 100,
   "metadata": {},
   "outputs": [
    {
     "name": "stdout",
     "output_type": "stream",
     "text": [
      "你好\n"
     ]
    }
   ],
   "source": [
    "if 'dde':\n",
    "    print('你好')"
   ]
  },
  {
   "cell_type": "code",
   "execution_count": 93,
   "metadata": {},
   "outputs": [
    {
     "data": {
      "text/plain": [
       "True"
      ]
     },
     "execution_count": 93,
     "metadata": {},
     "output_type": "execute_result"
    }
   ],
   "source": [
    "bool(100)"
   ]
  },
  {
   "cell_type": "code",
   "execution_count": 94,
   "metadata": {},
   "outputs": [
    {
     "data": {
      "text/plain": [
       "True"
      ]
     },
     "execution_count": 94,
     "metadata": {},
     "output_type": "execute_result"
    }
   ],
   "source": [
    "bool(-2000)"
   ]
  },
  {
   "cell_type": "code",
   "execution_count": 95,
   "metadata": {},
   "outputs": [
    {
     "data": {
      "text/plain": [
       "False"
      ]
     },
     "execution_count": 95,
     "metadata": {},
     "output_type": "execute_result"
    }
   ],
   "source": [
    "bool(0)"
   ]
  },
  {
   "cell_type": "code",
   "execution_count": 98,
   "metadata": {},
   "outputs": [
    {
     "data": {
      "text/plain": [
       "True"
      ]
     },
     "execution_count": 98,
     "metadata": {},
     "output_type": "execute_result"
    }
   ],
   "source": [
    "bool('.sdf')"
   ]
  },
  {
   "cell_type": "code",
   "execution_count": 1,
   "metadata": {},
   "outputs": [
    {
     "data": {
      "text/plain": [
       "False"
      ]
     },
     "execution_count": 1,
     "metadata": {},
     "output_type": "execute_result"
    }
   ],
   "source": [
    "s = \"\"\n",
    "bool(s)"
   ]
  },
  {
   "cell_type": "code",
   "execution_count": 2,
   "metadata": {},
   "outputs": [
    {
     "data": {
      "text/plain": [
       "True"
      ]
     },
     "execution_count": 2,
     "metadata": {},
     "output_type": "execute_result"
    }
   ],
   "source": [
    "s = \"0\"\n",
    "bool(s)"
   ]
  },
  {
   "cell_type": "code",
   "execution_count": 3,
   "metadata": {},
   "outputs": [
    {
     "data": {
      "text/plain": [
       "False"
      ]
     },
     "execution_count": 3,
     "metadata": {},
     "output_type": "execute_result"
    }
   ],
   "source": [
    "bool(0)"
   ]
  },
  {
   "cell_type": "code",
   "execution_count": 4,
   "metadata": {},
   "outputs": [
    {
     "data": {
      "text/plain": [
       "True"
      ]
     },
     "execution_count": 4,
     "metadata": {},
     "output_type": "execute_result"
    }
   ],
   "source": [
    "bool(-100)"
   ]
  },
  {
   "cell_type": "code",
   "execution_count": 5,
   "metadata": {},
   "outputs": [
    {
     "data": {
      "text/plain": [
       "True"
      ]
     },
     "execution_count": 5,
     "metadata": {},
     "output_type": "execute_result"
    }
   ],
   "source": [
    "bool(-4.545)"
   ]
  },
  {
   "cell_type": "code",
   "execution_count": 101,
   "metadata": {},
   "outputs": [
    {
     "data": {
      "text/plain": [
       "False"
      ]
     },
     "execution_count": 101,
     "metadata": {},
     "output_type": "execute_result"
    }
   ],
   "source": [
    "bool([])"
   ]
  },
  {
   "cell_type": "code",
   "execution_count": 102,
   "metadata": {},
   "outputs": [
    {
     "data": {
      "text/plain": [
       "True"
      ]
     },
     "execution_count": 102,
     "metadata": {},
     "output_type": "execute_result"
    }
   ],
   "source": [
    "bool([123,32])"
   ]
  },
  {
   "cell_type": "code",
   "execution_count": 103,
   "metadata": {},
   "outputs": [
    {
     "name": "stdout",
     "output_type": "stream",
     "text": [
      "sdfdsf\n"
     ]
    }
   ],
   "source": [
    "ticket = 1\n",
    "if ticket:\n",
    "    print('sdfdsf')"
   ]
  },
  {
   "cell_type": "code",
   "execution_count": null,
   "metadata": {
    "collapsed": true
   },
   "outputs": [],
   "source": []
  },
  {
   "cell_type": "markdown",
   "metadata": {},
   "source": [
    "if判断条件还可以简写，比如写：\n",
    "\n",
    "```python\n",
    "if x:\n",
    "    print('True')\n",
    "    \n",
    "```\n",
    "只要x是非零数值、非空字符串、非空list等，就判断为True，否则为False。"
   ]
  },
  {
   "cell_type": "code",
   "execution_count": 9,
   "metadata": {},
   "outputs": [
    {
     "name": "stdout",
     "output_type": "stream",
     "text": [
      "这样也可以\n"
     ]
    }
   ],
   "source": [
    "x = 1\n",
    "if x:\n",
    "    print(\"这样也可以\")\n",
    "else:\n",
    "    print(\"这样不可以\")"
   ]
  },
  {
   "cell_type": "code",
   "execution_count": null,
   "metadata": {
    "collapsed": true
   },
   "outputs": [],
   "source": []
  },
  {
   "cell_type": "markdown",
   "metadata": {},
   "source": [
    "**编写一段代码判断一个人是不是00后**"
   ]
  },
  {
   "cell_type": "code",
   "execution_count": 21,
   "metadata": {},
   "outputs": [
    {
     "name": "stdout",
     "output_type": "stream",
     "text": [
      "birth: 1000\n"
     ]
    },
    {
     "ename": "TypeError",
     "evalue": "unorderable types: str() < int()",
     "output_type": "error",
     "traceback": [
      "\u001b[1;31m---------------------------------------------------------------------------\u001b[0m",
      "\u001b[1;31mTypeError\u001b[0m                                 Traceback (most recent call last)",
      "\u001b[1;32m<ipython-input-21-786392a83547>\u001b[0m in \u001b[0;36m<module>\u001b[1;34m()\u001b[0m\n\u001b[0;32m      1\u001b[0m \u001b[0mbirth\u001b[0m \u001b[1;33m=\u001b[0m \u001b[0minput\u001b[0m\u001b[1;33m(\u001b[0m\u001b[1;34m'birth: '\u001b[0m\u001b[1;33m)\u001b[0m\u001b[1;33m\u001b[0m\u001b[0m\n\u001b[1;32m----> 2\u001b[1;33m \u001b[1;32mif\u001b[0m \u001b[0mbirth\u001b[0m \u001b[1;33m<\u001b[0m \u001b[1;36m2000\u001b[0m\u001b[1;33m:\u001b[0m\u001b[1;33m\u001b[0m\u001b[0m\n\u001b[0m\u001b[0;32m      3\u001b[0m     \u001b[0mprint\u001b[0m\u001b[1;33m(\u001b[0m\u001b[1;34m'00前'\u001b[0m\u001b[1;33m)\u001b[0m\u001b[1;33m\u001b[0m\u001b[0m\n\u001b[0;32m      4\u001b[0m \u001b[1;32melse\u001b[0m\u001b[1;33m:\u001b[0m\u001b[1;33m\u001b[0m\u001b[0m\n\u001b[0;32m      5\u001b[0m     \u001b[0mprint\u001b[0m\u001b[1;33m(\u001b[0m\u001b[1;34m'00后'\u001b[0m\u001b[1;33m)\u001b[0m\u001b[1;33m\u001b[0m\u001b[0m\n",
      "\u001b[1;31mTypeError\u001b[0m: unorderable types: str() < int()"
     ]
    }
   ],
   "source": [
    "birth = input('birth: ')\n",
    "if birth < 2000:\n",
    "    print('00前')\n",
    "else:\n",
    "    print('00后')"
   ]
  },
  {
   "cell_type": "code",
   "execution_count": 22,
   "metadata": {},
   "outputs": [
    {
     "name": "stdout",
     "output_type": "stream",
     "text": [
      "birth: 1000\n",
      "00前\n"
     ]
    }
   ],
   "source": [
    "s = input('birth: ')\n",
    "birth = int(s)\n",
    "if birth < 2000:\n",
    "    print('00前')\n",
    "else:\n",
    "    print('00后')"
   ]
  },
  {
   "cell_type": "markdown",
   "metadata": {},
   "source": [
    "**练习:**\n",
    "要求：从键盘获取自己的年龄，判断是否大于或者等于18岁，如果满足就输出“哥，已成年，网吧可以去了”\n",
    "\n",
    "使用input从键盘中获取数据，并且存入到一个变量中\n",
    "使用if语句，来判断 age>=18是否成立"
   ]
  },
  {
   "cell_type": "code",
   "execution_count": 16,
   "metadata": {},
   "outputs": [
    {
     "name": "stdout",
     "output_type": "stream",
     "text": [
      "请输入您的年龄10\n"
     ]
    }
   ],
   "source": [
    "age = int(input('请输入您的年龄'))\n",
    "if age >= 18:\n",
    "    print('哥，已成年，网吧可以去了')"
   ]
  },
  {
   "cell_type": "code",
   "execution_count": 17,
   "metadata": {},
   "outputs": [
    {
     "name": "stdout",
     "output_type": "stream",
     "text": [
      "请输入您的年龄10\n",
      "小朋友,你还没长大呢,不能去网吧\n"
     ]
    }
   ],
   "source": [
    "age = int(input('请输入您的年龄'))\n",
    "if age >= 18:\n",
    "    print('哥，已成年，网吧可以去了')\n",
    "else:\n",
    "    print('小朋友,你还没长大呢,不能去网吧')"
   ]
  },
  {
   "cell_type": "code",
   "execution_count": null,
   "metadata": {},
   "outputs": [],
   "source": []
  },
  {
   "cell_type": "code",
   "execution_count": 30,
   "metadata": {},
   "outputs": [
    {
     "name": "stdout",
     "output_type": "stream",
     "text": [
      "请输入您的年龄1\n",
      "你是一个小baby\n"
     ]
    }
   ],
   "source": [
    "# 1 - 4 岁  婴儿\n",
    "# 4 - 18 岁  儿童\n",
    "# 18 - 35 青年\n",
    "# 35 - 55 中年\n",
    "# 55 以上  老年\n",
    "age = int(input('请输入您的年龄'))\n",
    "if age <= 4:\n",
    "    print('你是一个小baby')\n",
    "elif age <= 18:\n",
    "    print('你还未成年,不能去网吧')\n",
    "elif age <= 35:\n",
    "    print('你已经成年了, 可以去网吧玩游戏了')\n",
    "elif age <= 55:\n",
    "    print('你是一个中年人了, 不需要去网吧了')\n",
    "else:\n",
    "    print('您是一个老年人, 和网吧没有关系了')"
   ]
  },
  {
   "cell_type": "code",
   "execution_count": 20,
   "metadata": {},
   "outputs": [
    {
     "data": {
      "text/plain": [
       "False"
      ]
     },
     "execution_count": 20,
     "metadata": {},
     "output_type": "execute_result"
    }
   ],
   "source": [
    "age = 2\n",
    "age > 4 and age <= 18"
   ]
  },
  {
   "cell_type": "code",
   "execution_count": 23,
   "metadata": {},
   "outputs": [
    {
     "data": {
      "text/plain": [
       "False"
      ]
     },
     "execution_count": 23,
     "metadata": {},
     "output_type": "execute_result"
    }
   ],
   "source": [
    "\n",
    "4 < age <= 18"
   ]
  },
  {
   "cell_type": "code",
   "execution_count": null,
   "metadata": {
    "collapsed": true
   },
   "outputs": [],
   "source": []
  },
  {
   "cell_type": "markdown",
   "metadata": {},
   "source": [
    "**练习**\n",
    "\n",
    "小明身高1.75，体重80.5kg。请根据BMI公式（体重除以身高的平方）帮小明计算他的BMI指数，并根据BMI指数：\n",
    "\n",
    "低于18.5：过轻\n",
    "18.5-25：正常\n",
    "25-28：过重\n",
    "28-32：肥胖\n",
    "高于32：严重肥胖\n",
    "用if-elif判断并打印结果："
   ]
  },
  {
   "cell_type": "code",
   "execution_count": 43,
   "metadata": {},
   "outputs": [
    {
     "name": "stdout",
     "output_type": "stream",
     "text": [
      "正常\n"
     ]
    }
   ],
   "source": [
    "Height = 1.70\n",
    "Weight = 80.5\n",
    "BMI = Weight/(Height**2)\n",
    "if BMI < 18.5:\n",
    "    print('过轻')\n",
    "elif BMI < 25:\n",
    "    print('正常')\n",
    "elif BMI < 28:\n",
    "    print('过重')\n",
    "elif BMI < 32:\n",
    "    print('肥胖')\n",
    "else:\n",
    "    print('严重肥胖')"
   ]
  },
  {
   "cell_type": "code",
   "execution_count": null,
   "metadata": {},
   "outputs": [],
   "source": [
    "if a == 1:\n",
    "    if b == 2:\n",
    "        xxxx\n",
    "    else:\n",
    "        xxxx\n",
    "else:\n",
    "    xxxx\n",
    "    "
   ]
  },
  {
   "cell_type": "code",
   "execution_count": null,
   "metadata": {},
   "outputs": [],
   "source": [
    "if a == 1:\n",
    "    if b == 2:\n",
    "        if a == 1:\n",
    "            xxxx\n",
    "        else:\n",
    "            xxxx\n",
    "    else:\n",
    "        xxxx\n",
    "else:\n",
    "    if b == 2:\n",
    "        xxxx\n",
    "    else:\n",
    "        xxxx\n"
   ]
  },
  {
   "cell_type": "code",
   "execution_count": null,
   "metadata": {},
   "outputs": [],
   "source": []
  },
  {
   "cell_type": "markdown",
   "metadata": {},
   "source": [
    "### if 嵌套"
   ]
  },
  {
   "cell_type": "markdown",
   "metadata": {},
   "source": [
    "if嵌套\n",
    "\n",
    "通过学习if的基本用法，已经知道了\n",
    "\n",
    "当需要满足条件去做事情的这种情况需要使用if\n",
    "当满足条件时做事情A，不满足条件做事情B的这种情况使用if-else\n",
    "想一想：\n",
    "\n",
    "坐火车或者地铁的实际情况是：先进行安检如果安检通过才会判断是否有车票，或者是先检查是否有车票之后才会进行安检，即实际的情况某个判断是再另外一个判断成立的基础上进行的，这样的情况该怎样解决呢？\n",
    "\n",
    "答：\n",
    "\n",
    "if嵌套"
   ]
  },
  {
   "cell_type": "markdown",
   "metadata": {},
   "source": [
    "if嵌套的格式\n",
    "```python\n",
    " if 条件1:\n",
    "\n",
    "        满足条件1 做的事情1\n",
    "        满足条件1 做的事情2\n",
    "        ...(省略)...\n",
    "\n",
    "        if 条件2:\n",
    "            满足条件2 做的事情1\n",
    "            满足条件2 做的事情2\n",
    "            ...(省略)...\n",
    "\n",
    "```"
   ]
  },
  {
   "cell_type": "markdown",
   "metadata": {},
   "source": [
    "### if嵌套的应用"
   ]
  },
  {
   "cell_type": "code",
   "execution_count": 57,
   "metadata": {},
   "outputs": [
    {
     "name": "stdout",
     "output_type": "stream",
     "text": [
      "没有危险物品可以进站\n",
      "请出去!\n"
     ]
    }
   ],
   "source": [
    "# 先安检, \n",
    "# 安检通过了再检票,根据有没有票 .. 再判断\n",
    "ticket = False\n",
    "danger_thing = False\n",
    "if not danger_thing:\n",
    "    print('没有危险物品可以进站')\n",
    "    if ticket:\n",
    "        print('恭喜你可以上车了')\n",
    "    else:\n",
    "        print(\"请出去!\")\n",
    "else: # 有危险物品\n",
    "    print('👮: 请跟我走一趟吧')"
   ]
  },
  {
   "cell_type": "code",
   "execution_count": null,
   "metadata": {},
   "outputs": [],
   "source": []
  },
  {
   "cell_type": "code",
   "execution_count": null,
   "metadata": {},
   "outputs": [],
   "source": [
    "# 先检票 , 如果有票, 则进站\n",
    "# 如果没票, 不能进站\n",
    "# 如果成功进站了, 进行安检\n",
    "# 如果没有危险物品, 则可以上车\n",
    "# 如果有危险物品, 被抓到派出所"
   ]
  },
  {
   "cell_type": "code",
   "execution_count": 55,
   "metadata": {},
   "outputs": [
    {
     "name": "stdout",
     "output_type": "stream",
     "text": [
      "您有票,可以进站\n",
      "恭喜您,可以登车了\n"
     ]
    }
   ],
   "source": [
    "ticket = True\n",
    "danger_thing = False\n",
    "if ticket :# 有票的\n",
    "    print('您有票,可以进站')\n",
    "    if not danger_thing:  # 没有危险物品\n",
    "        print('恭喜您,可以登车了')\n",
    "    else:\n",
    "        print('您身上有危险物品, 请跟我走一趟吧!')\n",
    "    \n",
    "else: # 没票\n",
    "    print('对不起, 您没票, 不能进站')"
   ]
  },
  {
   "cell_type": "code",
   "execution_count": null,
   "metadata": {},
   "outputs": [],
   "source": []
  },
  {
   "cell_type": "code",
   "execution_count": null,
   "metadata": {},
   "outputs": [],
   "source": []
  },
  {
   "cell_type": "code",
   "execution_count": null,
   "metadata": {},
   "outputs": [],
   "source": []
  },
  {
   "cell_type": "code",
   "execution_count": null,
   "metadata": {},
   "outputs": [],
   "source": []
  },
  {
   "cell_type": "markdown",
   "metadata": {},
   "source": [
    "### 练一练\n",
    "\n",
    "情节描述：上公交车，并且可以有座位坐下\n",
    "\n",
    "要求：输入公交卡当前的余额，只要超过2元，就可以上公交车；如果空座位的数量大于0，就可以坐下"
   ]
  },
  {
   "cell_type": "code",
   "execution_count": 62,
   "metadata": {},
   "outputs": [
    {
     "name": "stdout",
     "output_type": "stream",
     "text": [
      "输入你公交卡的钱:10\n",
      "可以上车\n",
      "输入空座数量:3\n",
      "可以坐下\n"
     ]
    }
   ],
   "source": [
    "money = float(input('输入你公交卡的钱:'))\n",
    "\n",
    "if money >= 2:\n",
    "    print('可以上车')\n",
    "    seat_num = int(input('输入空座数量:'))\n",
    "    if seat_num>0:\n",
    "        print('可以坐下')\n",
    "    else:\n",
    "        print('站着吧')\n",
    "else:\n",
    "    print('钱不够,不能上车')"
   ]
  },
  {
   "cell_type": "code",
   "execution_count": null,
   "metadata": {
    "collapsed": true
   },
   "outputs": [],
   "source": []
  },
  {
   "cell_type": "markdown",
   "metadata": {},
   "source": [
    "### if语句练习题 判断年份是否是闰年\n",
    "\n",
    "提示：\n",
    "1. 能被400整除的年份 \n",
    "2. 能被4整除，但是不能被100整除的年份\n",
    "3. 以上2种方法满足一种即为闰年"
   ]
  },
  {
   "cell_type": "code",
   "execution_count": 68,
   "metadata": {},
   "outputs": [
    {
     "name": "stdout",
     "output_type": "stream",
     "text": [
      "输入一个年份1800\n",
      "您输入的年份:1800是平年\n"
     ]
    }
   ],
   "source": [
    "year = int(input('输入一个年份'))\n",
    "\n",
    "if (year % 400 == 0) or ( (year%4 == 0)  and (year%100 != 0)  ):\n",
    "    print('您输入的年份:{}是闰年'.format(year))\n",
    "else:\n",
    "    print('您输入的年份:{}是平年'.format(year))"
   ]
  },
  {
   "cell_type": "code",
   "execution_count": 64,
   "metadata": {},
   "outputs": [
    {
     "data": {
      "text/plain": [
       "False"
      ]
     },
     "execution_count": 64,
     "metadata": {},
     "output_type": "execute_result"
    }
   ],
   "source": [
    "year = 801\n",
    "year % 400 == 0"
   ]
  },
  {
   "cell_type": "code",
   "execution_count": null,
   "metadata": {},
   "outputs": [],
   "source": []
  },
  {
   "cell_type": "code",
   "execution_count": null,
   "metadata": {
    "collapsed": true
   },
   "outputs": [],
   "source": []
  },
  {
   "cell_type": "markdown",
   "metadata": {},
   "source": [
    "## 列表"
   ]
  },
  {
   "cell_type": "markdown",
   "metadata": {},
   "source": [
    "当我们有一百个变量要储存起来的时候,总不能弄一百个变量啊,怎么办的,用列表."
   ]
  },
  {
   "cell_type": "markdown",
   "metadata": {},
   "source": [
    "我们可以对列表这样去理解, 就把它当成一个大桶, 当我们有一堆东西需要找个地方临时存放在一起, 以便后续进行排序, 筛选,提取等操作时, 就弄一个列表, 先放进去."
   ]
  },
  {
   "cell_type": "code",
   "execution_count": 71,
   "metadata": {},
   "outputs": [],
   "source": [
    "s = [1,2,3,45,5]"
   ]
  },
  {
   "cell_type": "code",
   "execution_count": 72,
   "metadata": {},
   "outputs": [
    {
     "data": {
      "text/plain": [
       "list"
      ]
     },
     "execution_count": 72,
     "metadata": {},
     "output_type": "execute_result"
    }
   ],
   "source": [
    "type(s)"
   ]
  },
  {
   "cell_type": "code",
   "execution_count": 73,
   "metadata": {},
   "outputs": [
    {
     "data": {
      "text/plain": [
       "['我', '来', '啦']"
      ]
     },
     "execution_count": 73,
     "metadata": {},
     "output_type": "execute_result"
    }
   ],
   "source": [
    "list('我来啦')"
   ]
  },
  {
   "cell_type": "code",
   "execution_count": 104,
   "metadata": {},
   "outputs": [],
   "source": [
    "s = [1,2,3,4,5,6,7,8,9,10]"
   ]
  },
  {
   "cell_type": "code",
   "execution_count": 74,
   "metadata": {},
   "outputs": [],
   "source": [
    "s2 = ['临','兵','斗','者','皆','列','阵','在','前']"
   ]
  },
  {
   "cell_type": "code",
   "execution_count": 77,
   "metadata": {},
   "outputs": [
    {
     "data": {
      "text/plain": [
       "['临', '兵', '斗']"
      ]
     },
     "execution_count": 77,
     "metadata": {},
     "output_type": "execute_result"
    }
   ],
   "source": [
    "s2[:3]"
   ]
  },
  {
   "cell_type": "code",
   "execution_count": null,
   "metadata": {},
   "outputs": [],
   "source": []
  },
  {
   "cell_type": "markdown",
   "metadata": {},
   "source": [
    "列表中的元素,没有数据类型的限制,可以为任何数据类型"
   ]
  },
  {
   "cell_type": "code",
   "execution_count": 78,
   "metadata": {},
   "outputs": [],
   "source": [
    "list1 = [1, 2, 3,'on','go',True,False,None]"
   ]
  },
  {
   "cell_type": "code",
   "execution_count": 79,
   "metadata": {},
   "outputs": [
    {
     "data": {
      "text/plain": [
       "[1, 2, 3, 'on', 'go', True, False, None]"
      ]
     },
     "execution_count": 79,
     "metadata": {},
     "output_type": "execute_result"
    }
   ],
   "source": [
    "list1"
   ]
  },
  {
   "cell_type": "code",
   "execution_count": null,
   "metadata": {},
   "outputs": [],
   "source": []
  },
  {
   "cell_type": "code",
   "execution_count": null,
   "metadata": {},
   "outputs": [],
   "source": []
  },
  {
   "cell_type": "markdown",
   "metadata": {},
   "source": [
    "## 循环语句"
   ]
  },
  {
   "cell_type": "markdown",
   "metadata": {},
   "source": [
    "循环语句的使用场景\n",
    "\n",
    "这一天老师让你抄写一百遍\"我错了\""
   ]
  },
  {
   "cell_type": "code",
   "execution_count": 80,
   "metadata": {},
   "outputs": [
    {
     "name": "stdout",
     "output_type": "stream",
     "text": [
      "我错了\n",
      "我错了\n",
      "我错了\n",
      "我错了\n",
      "我错了\n",
      "......\n"
     ]
    }
   ],
   "source": [
    "print(\"我错了\")\n",
    "print(\"我错了\")\n",
    "print(\"我错了\")\n",
    "print(\"我错了\")\n",
    "print(\"我错了\")\n",
    "print(\"......\")"
   ]
  },
  {
   "cell_type": "markdown",
   "metadata": {},
   "source": [
    "于是我们很自然的想到,是不是可以通过让一段代码重复运行的方法来减少工作量呢?"
   ]
  },
  {
   "cell_type": "code",
   "execution_count": 81,
   "metadata": {
    "collapsed": true
   },
   "outputs": [
    {
     "name": "stdout",
     "output_type": "stream",
     "text": [
      "我错了\n",
      "我错了\n",
      "我错了\n",
      "我错了\n",
      "我错了\n",
      "我错了\n",
      "我错了\n",
      "我错了\n",
      "我错了\n",
      "我错了\n",
      "我错了\n",
      "我错了\n",
      "我错了\n",
      "我错了\n",
      "我错了\n",
      "我错了\n",
      "我错了\n",
      "我错了\n",
      "我错了\n",
      "我错了\n",
      "我错了\n",
      "我错了\n",
      "我错了\n",
      "我错了\n",
      "我错了\n",
      "我错了\n",
      "我错了\n",
      "我错了\n",
      "我错了\n",
      "我错了\n",
      "我错了\n",
      "我错了\n",
      "我错了\n",
      "我错了\n",
      "我错了\n",
      "我错了\n",
      "我错了\n",
      "我错了\n",
      "我错了\n",
      "我错了\n",
      "我错了\n",
      "我错了\n",
      "我错了\n",
      "我错了\n",
      "我错了\n",
      "我错了\n",
      "我错了\n",
      "我错了\n",
      "我错了\n",
      "我错了\n",
      "我错了\n",
      "我错了\n",
      "我错了\n",
      "我错了\n",
      "我错了\n",
      "我错了\n",
      "我错了\n",
      "我错了\n",
      "我错了\n",
      "我错了\n",
      "我错了\n",
      "我错了\n",
      "我错了\n",
      "我错了\n",
      "我错了\n",
      "我错了\n",
      "我错了\n",
      "我错了\n",
      "我错了\n",
      "我错了\n",
      "我错了\n",
      "我错了\n",
      "我错了\n",
      "我错了\n",
      "我错了\n",
      "我错了\n",
      "我错了\n",
      "我错了\n",
      "我错了\n",
      "我错了\n",
      "我错了\n",
      "我错了\n",
      "我错了\n",
      "我错了\n",
      "我错了\n",
      "我错了\n",
      "我错了\n",
      "我错了\n",
      "我错了\n",
      "我错了\n",
      "我错了\n",
      "我错了\n",
      "我错了\n",
      "我错了\n",
      "我错了\n",
      "我错了\n",
      "我错了\n",
      "我错了\n",
      "我错了\n",
      "我错了\n"
     ]
    }
   ],
   "source": [
    "for i in range(100):\n",
    "    print(\"我错了\")"
   ]
  },
  {
   "cell_type": "code",
   "execution_count": 82,
   "metadata": {
    "collapsed": true
   },
   "outputs": [
    {
     "name": "stdout",
     "output_type": "stream",
     "text": [
      "我错了\n",
      "我错了\n",
      "我错了\n",
      "我错了\n",
      "我错了\n",
      "我错了\n",
      "我错了\n",
      "我错了\n",
      "我错了\n",
      "我错了\n",
      "我错了\n",
      "我错了\n",
      "我错了\n",
      "我错了\n",
      "我错了\n",
      "我错了\n",
      "我错了\n",
      "我错了\n",
      "我错了\n",
      "我错了\n",
      "我错了\n",
      "我错了\n",
      "我错了\n",
      "我错了\n",
      "我错了\n",
      "我错了\n",
      "我错了\n",
      "我错了\n",
      "我错了\n",
      "我错了\n",
      "我错了\n",
      "我错了\n",
      "我错了\n",
      "我错了\n",
      "我错了\n",
      "我错了\n",
      "我错了\n",
      "我错了\n",
      "我错了\n",
      "我错了\n",
      "我错了\n",
      "我错了\n",
      "我错了\n",
      "我错了\n",
      "我错了\n",
      "我错了\n",
      "我错了\n",
      "我错了\n",
      "我错了\n",
      "我错了\n",
      "我错了\n",
      "我错了\n",
      "我错了\n",
      "我错了\n",
      "我错了\n",
      "我错了\n",
      "我错了\n",
      "我错了\n",
      "我错了\n",
      "我错了\n",
      "我错了\n",
      "我错了\n",
      "我错了\n",
      "我错了\n",
      "我错了\n",
      "我错了\n",
      "我错了\n",
      "我错了\n",
      "我错了\n",
      "我错了\n",
      "我错了\n",
      "我错了\n",
      "我错了\n",
      "我错了\n",
      "我错了\n",
      "我错了\n",
      "我错了\n",
      "我错了\n",
      "我错了\n",
      "我错了\n",
      "我错了\n",
      "我错了\n",
      "我错了\n",
      "我错了\n",
      "我错了\n",
      "我错了\n",
      "我错了\n",
      "我错了\n",
      "我错了\n",
      "我错了\n",
      "我错了\n",
      "我错了\n",
      "我错了\n",
      "我错了\n",
      "我错了\n",
      "我错了\n",
      "我错了\n",
      "我错了\n",
      "我错了\n",
      "我错了\n"
     ]
    }
   ],
   "source": [
    "i = 0\n",
    "while i < 100:\n",
    "    print(\"我错了\")\n",
    "    i += 1"
   ]
  },
  {
   "cell_type": "code",
   "execution_count": null,
   "metadata": {
    "collapsed": true
   },
   "outputs": [],
   "source": []
  },
  {
   "cell_type": "markdown",
   "metadata": {},
   "source": [
    "### for循环"
   ]
  },
  {
   "cell_type": "markdown",
   "metadata": {},
   "source": [
    "for循环和编程语言中常见的循环不太一样,它实际上不是一个循环,而是一个遍历功能,会依次对一个可迭代的数据中的每一个数据进行操作.\n",
    "\n",
    "在Python中 for循环可以遍历任何序列的项目，如一个列表或者一个字符串等。\n",
    "\n",
    "for循环的格式\n",
    "\n",
    "```python\n",
    "    for 临时变量 in 列表或者字符串等:\n",
    "        循环满足条件时执行的代码\n",
    "\n",
    "\n",
    "```"
   ]
  },
  {
   "cell_type": "code",
   "execution_count": null,
   "metadata": {},
   "outputs": [],
   "source": [
    "for 临时变量 in 你要进行遍历的变量:\n",
    "    循环中执行的代码"
   ]
  },
  {
   "cell_type": "code",
   "execution_count": 83,
   "metadata": {},
   "outputs": [
    {
     "name": "stdout",
     "output_type": "stream",
     "text": [
      "我错了\n",
      "我错了\n",
      "我错了\n",
      "我错了\n",
      "我错了\n",
      "我错了\n"
     ]
    }
   ],
   "source": [
    "for i in [1,2,3,4,5,6]:\n",
    "    print('我错了')"
   ]
  },
  {
   "cell_type": "code",
   "execution_count": 85,
   "metadata": {},
   "outputs": [
    {
     "name": "stdout",
     "output_type": "stream",
     "text": [
      "第1次承认,我错了!\n",
      "第2次承认,我错了!\n",
      "第3次承认,我错了!\n",
      "第4次承认,我错了!\n",
      "第5次承认,我错了!\n",
      "第6次承认,我错了!\n"
     ]
    }
   ],
   "source": [
    "for i in [1,2,3,4,5,6]:\n",
    "    print('第{}次承认,我错了!'.format(i))"
   ]
  },
  {
   "cell_type": "code",
   "execution_count": 114,
   "metadata": {},
   "outputs": [
    {
     "name": "stdout",
     "output_type": "stream",
     "text": [
      "张\n",
      "------------------------------\n",
      "李\n",
      "------------------------------\n",
      "王\n",
      "------------------------------\n"
     ]
    }
   ],
   "source": [
    "for student_name in ['张三' , '李四' , '王五']:\n",
    "    # 把这个学生的姓氏打印出来\n",
    "    print(student_name[0] )\n",
    "    print('-'*30)"
   ]
  },
  {
   "cell_type": "code",
   "execution_count": 89,
   "metadata": {},
   "outputs": [
    {
     "name": "stdout",
     "output_type": "stream",
     "text": [
      "张三\n",
      "李四\n",
      "王五\n"
     ]
    }
   ],
   "source": [
    "for student_name in ['张三' , '李四' , '王五']:\n",
    "    # 把这个学生的姓氏打印出来\n",
    "    print(student_name)"
   ]
  },
  {
   "cell_type": "code",
   "execution_count": 90,
   "metadata": {},
   "outputs": [
    {
     "name": "stdout",
     "output_type": "stream",
     "text": [
      "张\n",
      "李\n",
      "王\n"
     ]
    }
   ],
   "source": [
    "for student_name in ['张三' , '李四' , '王五']:\n",
    "    # 把这个学生的姓氏打印出来\n",
    "    print(student_name[0])"
   ]
  },
  {
   "cell_type": "code",
   "execution_count": 87,
   "metadata": {},
   "outputs": [
    {
     "name": "stdout",
     "output_type": "stream",
     "text": [
      "我我我我\n",
      "今今今今\n",
      "天天天天\n",
      "不不不不\n",
      "想想想想\n",
      "学学学学\n",
      "习习习习\n"
     ]
    }
   ],
   "source": [
    "test = \"我今天不想学习\"\n",
    "for i in test:\n",
    "    print(i*4)"
   ]
  },
  {
   "cell_type": "code",
   "execution_count": 88,
   "metadata": {
    "collapsed": true
   },
   "outputs": [
    {
     "name": "stdout",
     "output_type": "stream",
     "text": [
      "我我我我\n",
      "------------------------------\n",
      "想想想想\n",
      "------------------------------\n",
      "去去去去\n",
      "------------------------------\n",
      "打打打打\n",
      "------------------------------\n",
      "游游游游\n",
      "------------------------------\n",
      "戏戏戏戏\n",
      "------------------------------\n",
      ",,,,\n",
      "------------------------------\n",
      "不不不不\n",
      "------------------------------\n",
      "想想想想\n",
      "------------------------------\n",
      "学学学学\n",
      "------------------------------\n",
      "习习习习\n",
      "------------------------------\n"
     ]
    }
   ],
   "source": [
    "name = '我想去打游戏,不想学习'\n",
    "\n",
    "for x in name:\n",
    "    print(x*4)\n",
    "    print('-'*30)"
   ]
  },
  {
   "cell_type": "code",
   "execution_count": 92,
   "metadata": {},
   "outputs": [
    {
     "data": {
      "text/plain": [
       "[0, 1, 2, 3, 4, 5, 6, 7, 8, 9]"
      ]
     },
     "execution_count": 92,
     "metadata": {},
     "output_type": "execute_result"
    }
   ],
   "source": [
    "list(range(10))"
   ]
  },
  {
   "cell_type": "code",
   "execution_count": 94,
   "metadata": {},
   "outputs": [
    {
     "data": {
      "text/plain": [
       "[0, 1, 2, 3, 4, 5, 6, 7, 8, 9, 10, 11, 12, 13, 14, 15, 16, 17, 18, 19]"
      ]
     },
     "execution_count": 94,
     "metadata": {},
     "output_type": "execute_result"
    }
   ],
   "source": [
    "list(range(20))"
   ]
  },
  {
   "cell_type": "code",
   "execution_count": 96,
   "metadata": {},
   "outputs": [
    {
     "data": {
      "text/plain": [
       "[10, 11, 12, 13, 14, 15, 16, 17, 18, 19]"
      ]
     },
     "execution_count": 96,
     "metadata": {},
     "output_type": "execute_result"
    }
   ],
   "source": [
    "list(range(10,20))"
   ]
  },
  {
   "cell_type": "code",
   "execution_count": 97,
   "metadata": {},
   "outputs": [
    {
     "data": {
      "text/plain": [
       "[10, 12, 14, 16, 18]"
      ]
     },
     "execution_count": 97,
     "metadata": {},
     "output_type": "execute_result"
    }
   ],
   "source": [
    "list(range(10,20,2))"
   ]
  },
  {
   "cell_type": "code",
   "execution_count": 99,
   "metadata": {},
   "outputs": [
    {
     "data": {
      "text/plain": [
       "[20, 19, 18, 17, 16, 15, 14, 13, 12, 11]"
      ]
     },
     "execution_count": 99,
     "metadata": {},
     "output_type": "execute_result"
    }
   ],
   "source": [
    "list(range(20,10,-1))"
   ]
  },
  {
   "cell_type": "code",
   "execution_count": 100,
   "metadata": {},
   "outputs": [
    {
     "data": {
      "text/plain": [
       "[20, 18, 16, 14, 12]"
      ]
     },
     "execution_count": 100,
     "metadata": {},
     "output_type": "execute_result"
    }
   ],
   "source": [
    "list(range(20,10,-2))"
   ]
  },
  {
   "cell_type": "code",
   "execution_count": 102,
   "metadata": {
    "collapsed": true
   },
   "outputs": [
    {
     "data": {
      "text/plain": [
       "[0,\n",
       " 2,\n",
       " 4,\n",
       " 6,\n",
       " 8,\n",
       " 10,\n",
       " 12,\n",
       " 14,\n",
       " 16,\n",
       " 18,\n",
       " 20,\n",
       " 22,\n",
       " 24,\n",
       " 26,\n",
       " 28,\n",
       " 30,\n",
       " 32,\n",
       " 34,\n",
       " 36,\n",
       " 38,\n",
       " 40,\n",
       " 42,\n",
       " 44,\n",
       " 46,\n",
       " 48,\n",
       " 50,\n",
       " 52,\n",
       " 54,\n",
       " 56,\n",
       " 58,\n",
       " 60,\n",
       " 62,\n",
       " 64,\n",
       " 66,\n",
       " 68,\n",
       " 70,\n",
       " 72,\n",
       " 74,\n",
       " 76,\n",
       " 78,\n",
       " 80,\n",
       " 82,\n",
       " 84,\n",
       " 86,\n",
       " 88,\n",
       " 90,\n",
       " 92,\n",
       " 94,\n",
       " 96,\n",
       " 98,\n",
       " 100]"
      ]
     },
     "execution_count": 102,
     "metadata": {},
     "output_type": "execute_result"
    }
   ],
   "source": [
    "list(range(0,101,2)) # 生成偶数序列"
   ]
  },
  {
   "cell_type": "code",
   "execution_count": 103,
   "metadata": {
    "collapsed": true
   },
   "outputs": [
    {
     "data": {
      "text/plain": [
       "[1,\n",
       " 3,\n",
       " 5,\n",
       " 7,\n",
       " 9,\n",
       " 11,\n",
       " 13,\n",
       " 15,\n",
       " 17,\n",
       " 19,\n",
       " 21,\n",
       " 23,\n",
       " 25,\n",
       " 27,\n",
       " 29,\n",
       " 31,\n",
       " 33,\n",
       " 35,\n",
       " 37,\n",
       " 39,\n",
       " 41,\n",
       " 43,\n",
       " 45,\n",
       " 47,\n",
       " 49,\n",
       " 51,\n",
       " 53,\n",
       " 55,\n",
       " 57,\n",
       " 59,\n",
       " 61,\n",
       " 63,\n",
       " 65,\n",
       " 67,\n",
       " 69,\n",
       " 71,\n",
       " 73,\n",
       " 75,\n",
       " 77,\n",
       " 79,\n",
       " 81,\n",
       " 83,\n",
       " 85,\n",
       " 87,\n",
       " 89,\n",
       " 91,\n",
       " 93,\n",
       " 95,\n",
       " 97,\n",
       " 99]"
      ]
     },
     "execution_count": 103,
     "metadata": {},
     "output_type": "execute_result"
    }
   ],
   "source": [
    "list(range(1,100,2)) # 生成偶数序列"
   ]
  },
  {
   "cell_type": "code",
   "execution_count": 118,
   "metadata": {},
   "outputs": [
    {
     "data": {
      "text/plain": [
       "range(0, 10)"
      ]
     },
     "execution_count": 118,
     "metadata": {},
     "output_type": "execute_result"
    }
   ],
   "source": [
    "range(10) # 0, 1,2  ---  9"
   ]
  },
  {
   "cell_type": "code",
   "execution_count": 121,
   "metadata": {},
   "outputs": [
    {
     "data": {
      "text/plain": [
       "[0, 1, 2, 3, 4]"
      ]
     },
     "execution_count": 121,
     "metadata": {},
     "output_type": "execute_result"
    }
   ],
   "source": [
    "list(range(5))"
   ]
  },
  {
   "cell_type": "code",
   "execution_count": 131,
   "metadata": {
    "collapsed": true
   },
   "outputs": [
    {
     "data": {
      "text/plain": [
       "[0,\n",
       " 5,\n",
       " 10,\n",
       " 15,\n",
       " 20,\n",
       " 25,\n",
       " 30,\n",
       " 35,\n",
       " 40,\n",
       " 45,\n",
       " 50,\n",
       " 55,\n",
       " 60,\n",
       " 65,\n",
       " 70,\n",
       " 75,\n",
       " 80,\n",
       " 85,\n",
       " 90,\n",
       " 95,\n",
       " 100]"
      ]
     },
     "execution_count": 131,
     "metadata": {},
     "output_type": "execute_result"
    }
   ],
   "source": [
    "list(range(0,101,5 ))"
   ]
  },
  {
   "cell_type": "code",
   "execution_count": 132,
   "metadata": {
    "collapsed": true
   },
   "outputs": [
    {
     "data": {
      "text/plain": [
       "[100,\n",
       " 98,\n",
       " 96,\n",
       " 94,\n",
       " 92,\n",
       " 90,\n",
       " 88,\n",
       " 86,\n",
       " 84,\n",
       " 82,\n",
       " 80,\n",
       " 78,\n",
       " 76,\n",
       " 74,\n",
       " 72,\n",
       " 70,\n",
       " 68,\n",
       " 66,\n",
       " 64,\n",
       " 62,\n",
       " 60,\n",
       " 58,\n",
       " 56,\n",
       " 54,\n",
       " 52,\n",
       " 50,\n",
       " 48,\n",
       " 46,\n",
       " 44,\n",
       " 42,\n",
       " 40,\n",
       " 38,\n",
       " 36,\n",
       " 34,\n",
       " 32,\n",
       " 30,\n",
       " 28,\n",
       " 26,\n",
       " 24,\n",
       " 22,\n",
       " 20,\n",
       " 18,\n",
       " 16,\n",
       " 14,\n",
       " 12,\n",
       " 10,\n",
       " 8,\n",
       " 6,\n",
       " 4,\n",
       " 2]"
      ]
     },
     "execution_count": 132,
     "metadata": {},
     "output_type": "execute_result"
    }
   ],
   "source": [
    "list(range(100, 0 , -2  ))"
   ]
  },
  {
   "cell_type": "code",
   "execution_count": 104,
   "metadata": {
    "collapsed": true
   },
   "outputs": [
    {
     "name": "stdout",
     "output_type": "stream",
     "text": [
      "我错了\n",
      "我错了\n",
      "我错了\n",
      "我错了\n",
      "我错了\n",
      "我错了\n",
      "我错了\n",
      "我错了\n",
      "我错了\n",
      "我错了\n",
      "我错了\n",
      "我错了\n",
      "我错了\n",
      "我错了\n",
      "我错了\n",
      "我错了\n",
      "我错了\n",
      "我错了\n",
      "我错了\n",
      "我错了\n",
      "我错了\n",
      "我错了\n",
      "我错了\n",
      "我错了\n",
      "我错了\n",
      "我错了\n",
      "我错了\n",
      "我错了\n",
      "我错了\n",
      "我错了\n",
      "我错了\n",
      "我错了\n",
      "我错了\n",
      "我错了\n",
      "我错了\n",
      "我错了\n",
      "我错了\n",
      "我错了\n",
      "我错了\n",
      "我错了\n",
      "我错了\n",
      "我错了\n",
      "我错了\n",
      "我错了\n",
      "我错了\n",
      "我错了\n",
      "我错了\n",
      "我错了\n",
      "我错了\n",
      "我错了\n",
      "我错了\n",
      "我错了\n",
      "我错了\n",
      "我错了\n",
      "我错了\n",
      "我错了\n",
      "我错了\n",
      "我错了\n",
      "我错了\n",
      "我错了\n",
      "我错了\n",
      "我错了\n",
      "我错了\n",
      "我错了\n",
      "我错了\n",
      "我错了\n",
      "我错了\n",
      "我错了\n",
      "我错了\n",
      "我错了\n",
      "我错了\n",
      "我错了\n",
      "我错了\n",
      "我错了\n",
      "我错了\n",
      "我错了\n",
      "我错了\n",
      "我错了\n",
      "我错了\n",
      "我错了\n",
      "我错了\n",
      "我错了\n",
      "我错了\n",
      "我错了\n",
      "我错了\n",
      "我错了\n",
      "我错了\n",
      "我错了\n",
      "我错了\n",
      "我错了\n",
      "我错了\n",
      "我错了\n",
      "我错了\n",
      "我错了\n",
      "我错了\n",
      "我错了\n",
      "我错了\n",
      "我错了\n",
      "我错了\n",
      "我错了\n"
     ]
    }
   ],
   "source": [
    "for i in range(100):\n",
    "    print('我错了')"
   ]
  },
  {
   "cell_type": "code",
   "execution_count": 107,
   "metadata": {},
   "outputs": [
    {
     "data": {
      "text/plain": [
       "5050"
      ]
     },
     "execution_count": 107,
     "metadata": {},
     "output_type": "execute_result"
    }
   ],
   "source": [
    "# 1 - 100 的累加和\n",
    "# 先设置一个累加器\n",
    "n = 0\n",
    "for i in range(1,101):\n",
    "    # 每次把i的值累加到 n上面去\n",
    "    n += i\n",
    "n"
   ]
  },
  {
   "cell_type": "code",
   "execution_count": 108,
   "metadata": {},
   "outputs": [
    {
     "data": {
      "text/plain": [
       "2550"
      ]
     },
     "execution_count": 108,
     "metadata": {},
     "output_type": "execute_result"
    }
   ],
   "source": [
    "# 例如: 计算 1-100所有偶数的累加和\n",
    "n = 0\n",
    "for i in range(2,101,2):\n",
    "    n += i\n",
    "n"
   ]
  },
  {
   "cell_type": "code",
   "execution_count": 110,
   "metadata": {},
   "outputs": [
    {
     "data": {
      "text/plain": [
       "2550"
      ]
     },
     "execution_count": 110,
     "metadata": {},
     "output_type": "execute_result"
    }
   ],
   "source": [
    "n = 0\n",
    "for i in range(1,101):\n",
    "    # 判断这个数是不是偶数\n",
    "    if i % 2 == 0: #是偶数\n",
    "        n += i\n",
    "n"
   ]
  },
  {
   "cell_type": "code",
   "execution_count": null,
   "metadata": {},
   "outputs": [],
   "source": []
  },
  {
   "cell_type": "code",
   "execution_count": null,
   "metadata": {},
   "outputs": [],
   "source": []
  },
  {
   "cell_type": "code",
   "execution_count": 136,
   "metadata": {},
   "outputs": [],
   "source": [
    "# 先定一个累加器\n",
    "n = 0\n",
    "for i in range(100):\n",
    "    \n",
    "    # 每次把遍历出来的i + 1 的值  累加到 n 上面去\n",
    "    n += i + 1"
   ]
  },
  {
   "cell_type": "code",
   "execution_count": 138,
   "metadata": {},
   "outputs": [
    {
     "data": {
      "text/plain": [
       "5050"
      ]
     },
     "execution_count": 138,
     "metadata": {},
     "output_type": "execute_result"
    }
   ],
   "source": [
    "# 先定一个累加器\n",
    "n = 0\n",
    "for i in range(1, 101):\n",
    "    \n",
    "    # 每次把遍历出来的i 的值  累加到 n 上面去\n",
    "    n += i \n",
    "n"
   ]
  },
  {
   "cell_type": "code",
   "execution_count": 139,
   "metadata": {},
   "outputs": [
    {
     "data": {
      "text/plain": [
       "2550"
      ]
     },
     "execution_count": 139,
     "metadata": {},
     "output_type": "execute_result"
    }
   ],
   "source": [
    "n = 0 \n",
    "for i in range(2, 101 , 2):\n",
    "    n += i\n",
    "n"
   ]
  },
  {
   "cell_type": "code",
   "execution_count": 143,
   "metadata": {},
   "outputs": [
    {
     "data": {
      "text/plain": [
       "2550"
      ]
     },
     "execution_count": 143,
     "metadata": {},
     "output_type": "execute_result"
    }
   ],
   "source": [
    "# 计算所有偶数的累加值\n",
    "n = 0\n",
    "for i in range(1,101):\n",
    "    # 判断 当前的 这个i 是不是偶数\n",
    "    if i % 2 == 0: # 说明是偶数\n",
    "        n +=i \n",
    "n"
   ]
  },
  {
   "cell_type": "code",
   "execution_count": 144,
   "metadata": {},
   "outputs": [
    {
     "data": {
      "text/plain": [
       "306057512216440636035370461297268629388588804173576999416776741259476533176716867465515291422477573349939147888701726368864263907759003154226842927906974559841225476930271954604008012215776252176854255965356903506788725264321896264299365204576448830388909753943489625436053225980776521270822437639449120128678675368305712293681943649956460498166450227716500185176546469340112226034729724066333258583506870150169794168850353752137554910289126407157154830282284937952636580145235233156936482233436799254594095276820608062232812387383880817049600000000000000000000000000000000000000000000000000000000000000000000000000"
      ]
     },
     "execution_count": 144,
     "metadata": {},
     "output_type": "execute_result"
    }
   ],
   "source": [
    "# 计算 1- 300 的累乘值\n",
    "n = 1\n",
    "for i in range(1,301):\n",
    "    n *= i    \n",
    "n"
   ]
  },
  {
   "cell_type": "code",
   "execution_count": 145,
   "metadata": {},
   "outputs": [
    {
     "data": {
      "text/plain": [
       "3198309867728777708156250000000000000000000000"
      ]
     },
     "execution_count": 145,
     "metadata": {},
     "output_type": "execute_result"
    }
   ],
   "source": [
    "# 计算 100 到 202 中所有 5的倍数的 累乘值\n",
    "n  = 1\n",
    "for i in range(100, 203):\n",
    "    if i % 5 == 0:\n",
    "        n *= i\n",
    "n"
   ]
  },
  {
   "cell_type": "code",
   "execution_count": null,
   "metadata": {},
   "outputs": [],
   "source": []
  },
  {
   "cell_type": "code",
   "execution_count": 13,
   "metadata": {},
   "outputs": [
    {
     "name": "stdout",
     "output_type": "stream",
     "text": [
      "2\n",
      "4\n",
      "6\n",
      "8\n",
      "10\n",
      "12\n",
      "14\n",
      "16\n",
      "18\n",
      "20\n"
     ]
    }
   ],
   "source": [
    "for i in [1,2,3,4,5,6,7,8,9,10]:\n",
    "    print(i*2)"
   ]
  },
  {
   "cell_type": "markdown",
   "metadata": {},
   "source": [
    "计算列表的加和"
   ]
  },
  {
   "cell_type": "code",
   "execution_count": 14,
   "metadata": {
    "collapsed": true
   },
   "outputs": [],
   "source": [
    "s = [1,2,3,4,5,6,7,8,9,10]"
   ]
  },
  {
   "cell_type": "code",
   "execution_count": 15,
   "metadata": {},
   "outputs": [
    {
     "data": {
      "text/plain": [
       "55"
      ]
     },
     "execution_count": 15,
     "metadata": {},
     "output_type": "execute_result"
    }
   ],
   "source": [
    "n = 0\n",
    "for i in s:\n",
    "    n += i\n",
    "n"
   ]
  },
  {
   "cell_type": "markdown",
   "metadata": {},
   "source": [
    "如果我们想要计算1-100的加和呢? 使用上面的列表明显就不合适了"
   ]
  },
  {
   "cell_type": "code",
   "execution_count": 3,
   "metadata": {},
   "outputs": [
    {
     "data": {
      "text/plain": [
       "range(0, 10)"
      ]
     },
     "execution_count": 3,
     "metadata": {},
     "output_type": "execute_result"
    }
   ],
   "source": [
    "range(10)"
   ]
  },
  {
   "cell_type": "code",
   "execution_count": 4,
   "metadata": {
    "collapsed": true
   },
   "outputs": [
    {
     "name": "stdout",
     "output_type": "stream",
     "text": [
      "0\n",
      "1\n",
      "2\n",
      "3\n",
      "4\n",
      "5\n",
      "6\n",
      "7\n",
      "8\n",
      "9\n"
     ]
    }
   ],
   "source": [
    "for i in range(10):\n",
    "    print(i)"
   ]
  },
  {
   "cell_type": "code",
   "execution_count": 5,
   "metadata": {
    "collapsed": true
   },
   "outputs": [
    {
     "name": "stdout",
     "output_type": "stream",
     "text": [
      "0\n",
      "1\n",
      "4\n",
      "9\n",
      "16\n",
      "25\n",
      "36\n",
      "49\n",
      "64\n",
      "81\n"
     ]
    }
   ],
   "source": [
    "for i in [0,1,2,3,4,5,6,7,8,9]:\n",
    "    print(i**2)"
   ]
  },
  {
   "cell_type": "markdown",
   "metadata": {},
   "source": [
    "### 小练习: \n",
    "\n",
    "使用1-100中所有7的倍数的且为偶数的数字打印出来"
   ]
  },
  {
   "cell_type": "code",
   "execution_count": 115,
   "metadata": {},
   "outputs": [
    {
     "name": "stdout",
     "output_type": "stream",
     "text": [
      "14\n",
      "28\n",
      "42\n",
      "56\n",
      "70\n",
      "84\n",
      "98\n"
     ]
    }
   ],
   "source": [
    "for i in range(1,101):\n",
    "    if (i % 7 == 0) and  (i%2==0):\n",
    "        print(i)"
   ]
  },
  {
   "cell_type": "code",
   "execution_count": null,
   "metadata": {},
   "outputs": [],
   "source": []
  },
  {
   "cell_type": "markdown",
   "metadata": {},
   "source": [
    "### 小练习2:\n",
    "\n",
    "利用for循环将下面这首诗中的剑,酒,魔几个字替换成X"
   ]
  },
  {
   "cell_type": "code",
   "execution_count": 121,
   "metadata": {},
   "outputs": [],
   "source": [
    "s = \"\"\"御剑乘风来，除魔天地间，\n",
    "有酒乐逍遥，无酒我亦颠，\n",
    "一饮尽江河，再饮吞日月，\n",
    "千杯醉不倒，唯我酒剑仙。\"\"\""
   ]
  },
  {
   "cell_type": "code",
   "execution_count": 149,
   "metadata": {},
   "outputs": [
    {
     "data": {
      "text/plain": [
       "'御剑乘风来，除魔天地间，\\n有酒乐逍遥，无酒我亦颠，\\n一饮尽江河，再饮吞日月，\\n千杯醉不倒，唯我酒剑仙。'"
      ]
     },
     "execution_count": 149,
     "metadata": {},
     "output_type": "execute_result"
    }
   ],
   "source": [
    "s"
   ]
  },
  {
   "cell_type": "code",
   "execution_count": 119,
   "metadata": {},
   "outputs": [
    {
     "name": "stdout",
     "output_type": "stream",
     "text": [
      "御X乘风来，除X天地间，\n",
      "有X乐逍遥，无X我亦颠，\n",
      "一饮尽江河，再饮吞日月，\n",
      "千杯醉不倒，唯我XX仙。\n"
     ]
    }
   ],
   "source": [
    "for i in ['剑','酒','魔']:\n",
    "    s = s.replace(i , 'X')\n",
    "print(s)"
   ]
  },
  {
   "cell_type": "code",
   "execution_count": 123,
   "metadata": {},
   "outputs": [
    {
     "name": "stdout",
     "output_type": "stream",
     "text": [
      "御X乘风来，除X天地间，\n",
      "有X乐逍遥，无X我亦颠，\n",
      "一饮尽江河，再饮吞日月，\n",
      "千杯醉不倒，唯我XX仙。\n"
     ]
    }
   ],
   "source": [
    "print(s.replace('剑','X').replace('酒','X').replace('魔','X'))"
   ]
  },
  {
   "cell_type": "code",
   "execution_count": 127,
   "metadata": {},
   "outputs": [
    {
     "name": "stdout",
     "output_type": "stream",
     "text": [
      "御x乘风来，除x天地间，\n",
      "有x乐逍遥，无x我亦颠，\n",
      "一饮尽江河，再饮吞日月，\n",
      "千杯醉不倒，唯我xx仙。\n"
     ]
    }
   ],
   "source": [
    "for i in [\"剑\",'酒','魔']:\n",
    "    s = s.replace(i,\"x\")\n",
    "\n",
    "print(s)"
   ]
  },
  {
   "cell_type": "code",
   "execution_count": null,
   "metadata": {
    "collapsed": true
   },
   "outputs": [],
   "source": []
  },
  {
   "cell_type": "markdown",
   "metadata": {},
   "source": [
    "### while循环"
   ]
  },
  {
   "cell_type": "markdown",
   "metadata": {},
   "source": [
    "```python\n",
    "while 条件表达式:\n",
    "        条件满足时，做的事情1\n",
    "        条件满足时，做的事情2\n",
    "        条件满足时，做的事情3\n",
    "        ...(省略)...\n",
    "```"
   ]
  },
  {
   "cell_type": "code",
   "execution_count": null,
   "metadata": {},
   "outputs": [],
   "source": [
    "while <条件表达式>:\n",
    "    条件满足的时候,会做的事情\n",
    "\n",
    "print('后面的代码')"
   ]
  },
  {
   "cell_type": "code",
   "execution_count": 129,
   "metadata": {
    "collapsed": true
   },
   "outputs": [
    {
     "name": "stdout",
     "output_type": "stream",
     "text": [
      "我错了\n",
      "我错了\n",
      "我错了\n",
      "我错了\n",
      "我错了\n",
      "我错了\n",
      "我错了\n",
      "我错了\n",
      "我错了\n",
      "我错了\n"
     ]
    }
   ],
   "source": [
    "# 100遍我错了\n",
    "# 先定义一个计数器\n",
    "i = 0\n",
    "while i < 10: # 固定100次的循环\n",
    "    print('我错了')\n",
    "    i += 1"
   ]
  },
  {
   "cell_type": "code",
   "execution_count": null,
   "metadata": {},
   "outputs": [],
   "source": []
  },
  {
   "cell_type": "code",
   "execution_count": 154,
   "metadata": {},
   "outputs": [
    {
     "name": "stdout",
     "output_type": "stream",
     "text": [
      "我错了\n",
      "我错了\n",
      "我错了\n",
      "我错了\n",
      "我错了\n",
      "运行后面的代码\n"
     ]
    }
   ],
   "source": [
    "i = 0\n",
    "while i < 5:\n",
    "    print('我错了')\n",
    "    \n",
    "    i += 1\n",
    "print('运行后面的代码')"
   ]
  },
  {
   "cell_type": "code",
   "execution_count": null,
   "metadata": {},
   "outputs": [],
   "source": []
  },
  {
   "cell_type": "code",
   "execution_count": 131,
   "metadata": {
    "collapsed": true
   },
   "outputs": [
    {
     "name": "stdout",
     "output_type": "stream",
     "text": [
      "当前是第1次执行循环\n",
      "i=0\n",
      "当前是第2次执行循环\n",
      "i=1\n",
      "当前是第3次执行循环\n",
      "i=2\n",
      "当前是第4次执行循环\n",
      "i=3\n",
      "当前是第5次执行循环\n",
      "i=4\n"
     ]
    }
   ],
   "source": [
    "i = 0\n",
    "while i<5:\n",
    "    print(\"当前是第{}次执行循环\".format(i+1))\n",
    "    print(\"i={}\".format(i))\n",
    "    i+=1"
   ]
  },
  {
   "cell_type": "code",
   "execution_count": 133,
   "metadata": {
    "collapsed": true
   },
   "outputs": [
    {
     "name": "stdout",
     "output_type": "stream",
     "text": [
      "我错了\n",
      "我错了\n",
      "我错了\n",
      "我错了\n",
      "我错了\n",
      "我错了\n",
      "我错了\n",
      "我错了\n",
      "我错了\n",
      "我错了\n",
      "我错了\n",
      "我错了\n",
      "我错了\n",
      "我错了\n",
      "我错了\n",
      "我错了\n",
      "我错了\n",
      "我错了\n",
      "我错了\n",
      "我错了\n",
      "我错了\n",
      "我错了\n",
      "我错了\n",
      "我错了\n",
      "我错了\n",
      "我错了\n",
      "我错了\n",
      "我错了\n",
      "我错了\n",
      "我错了\n",
      "我错了\n",
      "我错了\n",
      "我错了\n",
      "我错了\n",
      "我错了\n",
      "我错了\n",
      "我错了\n",
      "我错了\n",
      "我错了\n",
      "我错了\n",
      "我错了\n",
      "我错了\n",
      "我错了\n",
      "我错了\n",
      "我错了\n",
      "我错了\n",
      "我错了\n",
      "我错了\n",
      "我错了\n",
      "我错了\n",
      "我错了\n",
      "我错了\n",
      "我错了\n",
      "我错了\n",
      "我错了\n",
      "我错了\n",
      "我错了\n",
      "我错了\n",
      "我错了\n",
      "我错了\n",
      "我错了\n",
      "我错了\n",
      "我错了\n",
      "我错了\n",
      "我错了\n",
      "我错了\n",
      "我错了\n",
      "我错了\n",
      "我错了\n",
      "我错了\n",
      "我错了\n",
      "我错了\n",
      "我错了\n",
      "我错了\n",
      "我错了\n",
      "我错了\n",
      "我错了\n",
      "我错了\n",
      "我错了\n",
      "我错了\n",
      "我错了\n",
      "我错了\n",
      "我错了\n",
      "我错了\n",
      "我错了\n",
      "我错了\n",
      "我错了\n",
      "我错了\n",
      "我错了\n",
      "我错了\n",
      "我错了\n",
      "我错了\n",
      "我错了\n",
      "我错了\n",
      "我错了\n",
      "我错了\n",
      "我错了\n",
      "我错了\n",
      "我错了\n",
      "我错了\n",
      "我错了\n",
      "我错了\n",
      "我错了\n",
      "我错了\n",
      "我错了\n",
      "我错了\n",
      "我错了\n",
      "我错了\n",
      "我错了\n",
      "我错了\n",
      "我错了\n",
      "我错了\n",
      "我错了\n",
      "我错了\n",
      "我错了\n",
      "我错了\n",
      "我错了\n",
      "我错了\n",
      "我错了\n",
      "我错了\n",
      "我错了\n",
      "我错了\n",
      "我错了\n",
      "我错了\n",
      "我错了\n",
      "我错了\n",
      "我错了\n",
      "我错了\n",
      "我错了\n",
      "我错了\n",
      "我错了\n",
      "我错了\n",
      "我错了\n",
      "我错了\n",
      "我错了\n",
      "我错了\n",
      "我错了\n",
      "我错了\n",
      "我错了\n",
      "我错了\n",
      "我错了\n",
      "我错了\n",
      "我错了\n",
      "我错了\n",
      "我错了\n",
      "我错了\n",
      "我错了\n",
      "我错了\n",
      "我错了\n",
      "我错了\n",
      "我错了\n",
      "我错了\n",
      "我错了\n",
      "我错了\n",
      "我错了\n",
      "我错了\n",
      "我错了\n",
      "我错了\n",
      "我错了\n",
      "我错了\n",
      "我错了\n",
      "我错了\n",
      "我错了\n",
      "我错了\n",
      "我错了\n",
      "我错了\n",
      "我错了\n",
      "我错了\n",
      "我错了\n",
      "我错了\n",
      "我错了\n",
      "我错了\n",
      "我错了\n",
      "我错了\n",
      "我错了\n",
      "我错了\n",
      "我错了\n",
      "我错了\n",
      "我错了\n",
      "我错了\n",
      "我错了\n",
      "我错了\n",
      "我错了\n",
      "我错了\n",
      "我错了\n",
      "我错了\n",
      "我错了\n",
      "我错了\n",
      "我错了\n",
      "我错了\n",
      "我错了\n",
      "我错了\n",
      "我错了\n",
      "我错了\n",
      "我错了\n",
      "我错了\n",
      "我错了\n",
      "我错了\n",
      "我错了\n",
      "我错了\n",
      "我错了\n",
      "我错了\n",
      "我错了\n",
      "我错了\n",
      "我错了\n",
      "我错了\n",
      "我错了\n",
      "我错了\n",
      "我错了\n",
      "我错了\n",
      "我错了\n",
      "我错了\n",
      "我错了\n",
      "我错了\n",
      "我错了\n",
      "我错了\n",
      "我错了\n",
      "我错了\n",
      "我错了\n",
      "我错了\n",
      "我错了\n",
      "我错了\n",
      "我错了\n",
      "我错了\n",
      "我错了\n",
      "我错了\n",
      "我错了\n",
      "我错了\n",
      "我错了\n",
      "我错了\n",
      "我错了\n",
      "我错了\n",
      "我错了\n",
      "我错了\n",
      "我错了\n",
      "我错了\n",
      "我错了\n",
      "我错了\n",
      "我错了\n",
      "我错了\n",
      "我错了\n",
      "我错了\n",
      "我错了\n",
      "我错了\n",
      "我错了\n",
      "我错了\n",
      "我错了\n",
      "我错了\n",
      "我错了\n",
      "我错了\n",
      "我错了\n",
      "我错了\n",
      "我错了\n",
      "我错了\n",
      "我错了\n",
      "我错了\n",
      "我错了\n",
      "我错了\n",
      "我错了\n",
      "我错了\n",
      "我错了\n",
      "我错了\n",
      "我错了\n",
      "我错了\n",
      "我错了\n",
      "我错了\n",
      "我错了\n",
      "我错了\n",
      "我错了\n",
      "我错了\n",
      "我错了\n",
      "我错了\n",
      "我错了\n",
      "我错了\n",
      "我错了\n",
      "我错了\n",
      "我错了\n",
      "我错了\n",
      "我错了\n",
      "我错了\n",
      "我错了\n",
      "我错了\n",
      "我错了\n",
      "我错了\n",
      "我错了\n",
      "我错了\n",
      "我错了\n",
      "我错了\n",
      "我错了\n",
      "我错了\n",
      "我错了\n",
      "我错了\n",
      "我错了\n",
      "我错了\n",
      "我错了\n",
      "我错了\n",
      "我错了\n",
      "我错了\n",
      "我错了\n",
      "我错了\n",
      "我错了\n",
      "我错了\n",
      "我错了\n",
      "我错了\n",
      "我错了\n",
      "我错了\n",
      "我错了\n",
      "我错了\n",
      "我错了\n",
      "我错了\n",
      "我错了\n",
      "我错了\n",
      "我错了\n",
      "我错了\n",
      "我错了\n",
      "我错了\n",
      "我错了\n",
      "我错了\n",
      "我错了\n",
      "我错了\n",
      "我错了\n",
      "我错了\n",
      "我错了\n",
      "我错了\n",
      "我错了\n",
      "我错了\n",
      "我错了\n",
      "我错了\n",
      "我错了\n",
      "我错了\n",
      "我错了\n",
      "我错了\n",
      "我错了\n",
      "我错了\n",
      "我错了\n",
      "我错了\n",
      "我错了\n",
      "我错了\n",
      "我错了\n",
      "我错了\n",
      "我错了\n",
      "我错了\n",
      "我错了\n",
      "我错了\n",
      "我错了\n",
      "我错了\n",
      "我错了\n",
      "我错了\n",
      "我错了\n",
      "我错了\n",
      "我错了\n",
      "我错了\n",
      "我错了\n",
      "我错了\n",
      "我错了\n",
      "我错了\n",
      "我错了\n",
      "我错了\n",
      "我错了\n",
      "我错了\n",
      "我错了\n",
      "我错了\n",
      "我错了\n",
      "我错了\n",
      "我错了\n",
      "我错了\n",
      "我错了\n",
      "我错了\n",
      "我错了\n",
      "我错了\n",
      "我错了\n",
      "我错了\n",
      "我错了\n",
      "我错了\n",
      "我错了\n",
      "我错了\n",
      "我错了\n",
      "我错了\n",
      "我错了\n",
      "我错了\n",
      "我错了\n",
      "我错了\n",
      "我错了\n",
      "我错了\n",
      "我错了\n",
      "我错了\n",
      "我错了\n",
      "我错了\n",
      "我错了\n",
      "我错了\n",
      "我错了\n",
      "我错了\n",
      "我错了\n",
      "我错了\n",
      "我错了\n",
      "我错了\n",
      "我错了\n",
      "我错了\n",
      "我错了\n",
      "我错了\n",
      "我错了\n",
      "我错了\n",
      "我错了\n",
      "我错了\n",
      "我错了\n",
      "我错了\n",
      "我错了\n",
      "我错了\n",
      "我错了\n",
      "我错了\n",
      "我错了\n",
      "我错了\n",
      "我错了\n",
      "我错了\n",
      "我错了\n",
      "我错了\n",
      "我错了\n",
      "我错了\n",
      "我错了\n",
      "我错了\n",
      "我错了\n",
      "我错了\n",
      "我错了\n",
      "我错了\n",
      "我错了\n",
      "我错了\n",
      "我错了\n",
      "我错了\n",
      "我错了\n",
      "我错了\n",
      "我错了\n",
      "我错了\n",
      "我错了\n",
      "我错了\n",
      "我错了\n",
      "我错了\n",
      "我错了\n",
      "我错了\n",
      "我错了\n",
      "我错了\n",
      "我错了\n",
      "我错了\n",
      "我错了\n",
      "我错了\n",
      "我错了\n",
      "我错了\n",
      "我错了\n",
      "我错了\n",
      "我错了\n",
      "我错了\n",
      "我错了\n",
      "我错了\n",
      "我错了\n",
      "我错了\n",
      "我错了\n",
      "我错了\n",
      "我错了\n",
      "我错了\n",
      "我错了\n",
      "我错了\n",
      "我错了\n",
      "我错了\n",
      "我错了\n",
      "我错了\n",
      "我错了\n",
      "我错了\n",
      "我错了\n",
      "我错了\n",
      "我错了\n",
      "我错了\n",
      "我错了\n",
      "我错了\n",
      "我错了\n",
      "我错了\n",
      "我错了\n",
      "我错了\n",
      "我错了\n",
      "我错了\n",
      "我错了\n",
      "我错了\n",
      "我错了\n",
      "我错了\n",
      "我错了\n",
      "我错了\n",
      "我错了\n",
      "我错了\n",
      "我错了\n",
      "我错了\n",
      "我错了\n",
      "我错了\n",
      "我错了\n",
      "我错了\n",
      "我错了\n",
      "我错了\n",
      "我错了\n",
      "我错了\n",
      "我错了\n",
      "我错了\n",
      "我错了\n",
      "我错了\n",
      "我错了\n",
      "我错了\n",
      "我错了\n",
      "我错了\n",
      "我错了\n",
      "我错了\n",
      "我错了\n",
      "我错了\n",
      "我错了\n",
      "我错了\n",
      "我错了\n",
      "我错了\n",
      "我错了\n",
      "我错了\n",
      "我错了\n",
      "我错了\n",
      "我错了\n",
      "我错了\n",
      "我错了\n",
      "我错了\n",
      "我错了\n",
      "我错了\n",
      "我错了\n",
      "我错了\n",
      "我错了\n",
      "我错了\n",
      "我错了\n",
      "我错了\n",
      "我错了\n",
      "我错了\n",
      "我错了\n",
      "我错了\n",
      "我错了\n",
      "我错了\n",
      "我错了\n",
      "我错了\n",
      "我错了\n",
      "我错了\n",
      "我错了\n",
      "我错了\n",
      "我错了\n",
      "我错了\n",
      "我错了\n",
      "我错了\n",
      "我错了\n",
      "我错了\n",
      "我错了\n",
      "我错了\n",
      "我错了\n",
      "我错了\n",
      "我错了\n",
      "我错了\n",
      "我错了\n",
      "我错了\n",
      "我错了\n",
      "我错了\n",
      "我错了\n",
      "我错了\n",
      "我错了\n",
      "我错了\n",
      "我错了\n",
      "我错了\n",
      "我错了\n",
      "我错了\n",
      "我错了\n",
      "我错了\n",
      "我错了\n",
      "我错了\n",
      "我错了\n",
      "我错了\n",
      "我错了\n",
      "我错了\n",
      "我错了\n",
      "我错了\n",
      "我错了\n",
      "我错了\n",
      "我错了\n",
      "我错了\n",
      "我错了\n",
      "我错了\n",
      "我错了\n",
      "我错了\n",
      "我错了\n",
      "我错了\n",
      "我错了\n",
      "我错了\n",
      "我错了\n",
      "我错了\n",
      "我错了\n",
      "我错了\n",
      "我错了\n",
      "我错了\n",
      "我错了\n",
      "我错了\n",
      "我错了\n",
      "我错了\n",
      "我错了\n",
      "我错了\n",
      "我错了\n",
      "我错了\n",
      "我错了\n",
      "我错了\n",
      "我错了\n",
      "我错了\n",
      "我错了\n",
      "我错了\n",
      "我错了\n",
      "我错了\n",
      "我错了\n",
      "我错了\n",
      "我错了\n",
      "我错了\n",
      "我错了\n",
      "我错了\n",
      "我错了\n",
      "我错了\n",
      "我错了\n",
      "我错了\n",
      "我错了\n",
      "我错了\n",
      "我错了\n",
      "我错了\n",
      "我错了\n",
      "我错了\n",
      "我错了\n",
      "我错了\n",
      "我错了\n",
      "我错了\n",
      "我错了\n",
      "我错了\n",
      "我错了\n",
      "我错了\n",
      "我错了\n",
      "我错了\n",
      "我错了\n",
      "我错了\n",
      "我错了\n",
      "我错了\n",
      "我错了\n",
      "我错了\n",
      "我错了\n",
      "我错了\n",
      "我错了\n",
      "我错了\n",
      "我错了\n",
      "我错了\n",
      "我错了\n",
      "我错了\n",
      "我错了\n",
      "我错了\n",
      "我错了\n",
      "我错了\n",
      "我错了\n",
      "我错了\n",
      "我错了\n",
      "我错了\n",
      "我错了\n",
      "我错了\n",
      "我错了\n",
      "我错了\n",
      "我错了\n",
      "我错了\n",
      "我错了\n",
      "我错了\n",
      "我错了\n",
      "我错了\n",
      "我错了\n",
      "我错了\n",
      "我错了\n",
      "我错了\n",
      "我错了\n",
      "我错了\n",
      "我错了\n",
      "我错了\n",
      "我错了\n",
      "我错了\n",
      "我错了\n",
      "我错了\n",
      "我错了\n",
      "我错了\n",
      "我错了\n",
      "我错了\n",
      "我错了\n",
      "我错了\n",
      "我错了\n",
      "我错了\n",
      "我错了\n",
      "我错了\n",
      "我错了\n",
      "我错了\n",
      "我错了\n",
      "我错了\n",
      "我错了\n",
      "我错了\n",
      "我错了\n",
      "我错了\n",
      "我错了\n",
      "我错了\n",
      "我错了\n",
      "我错了\n",
      "我错了\n",
      "我错了\n",
      "我错了\n",
      "我错了\n",
      "我错了\n",
      "我错了\n",
      "我错了\n",
      "我错了\n",
      "我错了\n",
      "我错了\n",
      "我错了\n",
      "我错了\n",
      "我错了\n",
      "我错了\n",
      "我错了\n",
      "我错了\n",
      "我错了\n",
      "我错了\n",
      "我错了\n",
      "我错了\n",
      "我错了\n",
      "我错了\n",
      "我错了\n",
      "我错了\n",
      "我错了\n",
      "我错了\n",
      "我错了\n",
      "我错了\n",
      "我错了\n",
      "我错了\n",
      "我错了\n",
      "我错了\n",
      "我错了\n",
      "我错了\n",
      "我错了\n",
      "我错了\n",
      "我错了\n",
      "我错了\n",
      "我错了\n",
      "我错了\n",
      "我错了\n",
      "我错了\n",
      "我错了\n",
      "我错了\n",
      "我错了\n",
      "我错了\n",
      "我错了\n",
      "我错了\n",
      "我错了\n",
      "我错了\n",
      "我错了\n",
      "我错了\n",
      "我错了\n",
      "我错了\n",
      "我错了\n",
      "我错了\n",
      "我错了\n",
      "我错了\n",
      "我错了\n",
      "我错了\n",
      "我错了\n",
      "我错了\n",
      "我错了\n",
      "我错了\n",
      "我错了\n",
      "我错了\n",
      "我错了\n",
      "我错了\n",
      "我错了\n",
      "我错了\n",
      "我错了\n",
      "我错了\n",
      "我错了\n",
      "我错了\n",
      "我错了\n",
      "我错了\n",
      "我错了\n",
      "我错了\n",
      "我错了\n",
      "我错了\n",
      "我错了\n",
      "我错了\n",
      "我错了\n",
      "我错了\n",
      "我错了\n",
      "我错了\n",
      "我错了\n",
      "我错了\n",
      "我错了\n",
      "我错了\n",
      "我错了\n",
      "我错了\n",
      "我错了\n",
      "我错了\n",
      "我错了\n",
      "我错了\n",
      "我错了\n",
      "我错了\n",
      "我错了\n",
      "我错了\n",
      "我错了\n",
      "我错了\n",
      "我错了\n",
      "我错了\n",
      "我错了\n",
      "我错了\n",
      "我错了\n",
      "我错了\n",
      "我错了\n",
      "我错了\n",
      "我错了\n",
      "我错了\n",
      "我错了\n",
      "我错了\n",
      "我错了\n",
      "我错了\n",
      "我错了\n",
      "我错了\n",
      "我错了\n",
      "我错了\n",
      "我错了\n",
      "我错了\n",
      "我错了\n",
      "我错了\n",
      "我错了\n",
      "我错了\n",
      "我错了\n",
      "我错了\n",
      "我错了\n",
      "我错了\n",
      "我错了\n",
      "我错了\n",
      "我错了\n",
      "我错了\n",
      "我错了\n",
      "我错了\n",
      "我错了\n",
      "我错了\n",
      "我错了\n",
      "我错了\n",
      "我错了\n",
      "我错了\n",
      "我错了\n",
      "我错了\n",
      "我错了\n",
      "我错了\n",
      "我错了\n",
      "我错了\n",
      "我错了\n",
      "我错了\n",
      "我错了\n",
      "我错了\n",
      "我错了\n",
      "我错了\n",
      "我错了\n",
      "我错了\n",
      "我错了\n",
      "我错了\n",
      "我错了\n",
      "我错了\n",
      "我错了\n",
      "我错了\n",
      "我错了\n",
      "我错了\n",
      "我错了\n",
      "我错了\n",
      "我错了\n",
      "我错了\n",
      "我错了\n",
      "我错了\n",
      "我错了\n",
      "我错了\n",
      "我错了\n",
      "我错了\n",
      "我错了\n",
      "我错了\n",
      "我错了\n",
      "我错了\n",
      "我错了\n",
      "我错了\n",
      "我错了\n",
      "我错了\n",
      "我错了\n",
      "我错了\n",
      "我错了\n",
      "我错了\n",
      "我错了\n",
      "我错了\n",
      "我错了\n",
      "我错了\n",
      "我错了\n",
      "我错了\n",
      "我错了\n",
      "我错了\n",
      "我错了\n",
      "我错了\n",
      "我错了\n",
      "我错了\n",
      "我错了\n",
      "我错了\n",
      "我错了\n",
      "我错了\n",
      "我错了\n",
      "我错了\n",
      "我错了\n",
      "我错了\n",
      "我错了\n",
      "我错了\n",
      "我错了\n",
      "我错了\n",
      "我错了\n",
      "我错了\n",
      "我错了\n",
      "我错了\n",
      "我错了\n",
      "我错了\n",
      "我错了\n",
      "我错了\n",
      "我错了\n",
      "我错了\n",
      "我错了\n",
      "我错了\n",
      "我错了\n",
      "我错了\n",
      "我错了\n",
      "我错了\n",
      "我错了\n",
      "我错了\n",
      "我错了\n",
      "我错了\n",
      "我错了\n",
      "我错了\n",
      "我错了\n",
      "我错了\n",
      "我错了\n",
      "我错了\n",
      "我错了\n",
      "我错了\n",
      "我错了\n",
      "我错了\n",
      "我错了\n",
      "我错了\n",
      "我错了\n",
      "我错了\n",
      "我错了\n",
      "我错了\n",
      "我错了\n",
      "我错了\n",
      "我错了\n",
      "我错了\n",
      "我错了\n",
      "我错了\n",
      "我错了\n",
      "我错了\n",
      "我错了\n",
      "我错了\n",
      "我错了\n",
      "我错了\n",
      "我错了\n",
      "我错了\n",
      "我错了\n",
      "我错了\n",
      "我错了\n",
      "我错了\n",
      "我错了\n",
      "我错了\n",
      "我错了\n",
      "我错了\n",
      "我错了\n",
      "我错了\n",
      "我错了\n",
      "我错了\n",
      "我错了\n",
      "我错了\n",
      "我错了\n",
      "我错了\n",
      "我错了\n",
      "我错了\n",
      "我错了\n",
      "我错了\n",
      "我错了\n",
      "我错了\n",
      "我错了\n",
      "我错了\n",
      "我错了\n",
      "我错了\n",
      "我错了\n",
      "我错了\n",
      "我错了\n",
      "我错了\n",
      "我错了\n",
      "我错了\n",
      "我错了\n",
      "我错了\n",
      "我错了\n",
      "我错了\n",
      "我错了\n",
      "我错了\n",
      "我错了\n",
      "我错了\n",
      "我错了\n",
      "我错了\n",
      "我错了\n",
      "我错了\n",
      "我错了\n",
      "我错了\n",
      "我错了\n",
      "我错了\n",
      "我错了\n",
      "我错了\n",
      "我错了\n",
      "我错了\n",
      "我错了\n",
      "我错了\n",
      "我错了\n",
      "我错了\n",
      "我错了\n",
      "我错了\n",
      "我错了\n",
      "我错了\n",
      "我错了\n",
      "我错了\n",
      "我错了\n",
      "我错了\n",
      "我错了\n",
      "我错了\n",
      "我错了\n",
      "我错了\n",
      "我错了\n",
      "我错了\n",
      "我错了\n",
      "我错了\n",
      "我错了\n",
      "我错了\n",
      "我错了\n",
      "我错了\n",
      "我错了\n",
      "我错了\n",
      "我错了\n",
      "我错了\n",
      "我错了\n",
      "我错了\n",
      "我错了\n",
      "我错了\n",
      "我错了\n",
      "我错了\n",
      "我错了\n",
      "我错了\n",
      "我错了\n",
      "我错了\n",
      "我错了\n",
      "我错了\n",
      "我错了\n",
      "我错了\n",
      "我错了\n",
      "我错了\n",
      "我错了\n",
      "我错了\n",
      "我错了\n",
      "我错了\n",
      "我错了\n",
      "我错了\n",
      "我错了\n",
      "我错了\n",
      "我错了\n",
      "我错了\n",
      "我错了\n",
      "我错了\n",
      "我错了\n",
      "我错了\n",
      "我错了\n",
      "我错了\n",
      "我错了\n",
      "我错了\n",
      "我错了\n",
      "我错了\n",
      "我错了\n",
      "我错了\n",
      "我错了\n",
      "我错了\n",
      "我错了\n",
      "我错了\n",
      "我错了\n",
      "我错了\n",
      "我错了\n",
      "我错了\n",
      "我错了\n",
      "我错了\n",
      "我错了\n",
      "我错了\n",
      "我错了\n",
      "我错了\n",
      "我错了\n",
      "我错了\n",
      "我错了\n",
      "我错了\n",
      "我错了\n",
      "我错了\n",
      "我错了\n",
      "我错了\n",
      "我错了\n",
      "我错了\n",
      "我错了\n",
      "我错了\n",
      "我错了\n",
      "我错了\n",
      "我错了\n",
      "我错了\n",
      "我错了\n",
      "我错了\n",
      "我错了\n",
      "我错了\n",
      "我错了\n",
      "我错了\n",
      "我错了\n",
      "我错了\n",
      "我错了\n",
      "我错了\n",
      "我错了\n",
      "我错了\n",
      "我错了\n",
      "我错了\n",
      "我错了\n",
      "我错了\n",
      "我错了\n",
      "我错了\n",
      "我错了\n",
      "我错了\n",
      "我错了\n",
      "我错了\n",
      "我错了\n",
      "我错了\n",
      "我错了\n",
      "我错了\n",
      "我错了\n",
      "我错了\n",
      "我错了\n",
      "我错了\n",
      "我错了\n",
      "我错了\n",
      "我错了\n",
      "我错了\n",
      "我错了\n",
      "我错了\n",
      "我错了\n",
      "我错了\n",
      "我错了\n",
      "我错了\n",
      "我错了\n",
      "我错了\n",
      "我错了\n",
      "我错了\n",
      "我错了\n",
      "我错了\n",
      "我错了\n",
      "我错了\n",
      "我错了\n",
      "我错了\n",
      "我错了\n",
      "我错了\n",
      "我错了\n",
      "我错了\n",
      "我错了\n",
      "我错了\n",
      "我错了\n",
      "我错了\n",
      "我错了\n",
      "我错了\n",
      "我错了\n",
      "我错了\n",
      "我错了\n",
      "我错了\n",
      "我错了\n",
      "我错了\n",
      "我错了\n",
      "我错了\n",
      "我错了\n",
      "我错了\n",
      "我错了\n",
      "我错了\n",
      "我错了\n",
      "我错了\n",
      "我错了\n",
      "我错了\n",
      "我错了\n",
      "我错了\n",
      "我错了\n",
      "我错了\n",
      "我错了\n",
      "我错了\n",
      "我错了\n",
      "我错了\n",
      "我错了\n",
      "我错了\n",
      "我错了\n",
      "我错了\n",
      "我错了\n",
      "我错了\n",
      "我错了\n",
      "我错了\n",
      "我错了\n",
      "我错了\n",
      "我错了\n",
      "我错了\n",
      "我错了\n",
      "我错了\n",
      "我错了\n",
      "我错了\n",
      "我错了\n",
      "我错了\n",
      "我错了\n",
      "我错了\n",
      "我错了\n",
      "我错了\n",
      "我错了\n",
      "我错了\n",
      "我错了\n",
      "我错了\n",
      "我错了\n",
      "我错了\n",
      "我错了\n",
      "我错了\n",
      "我错了\n",
      "我错了\n",
      "我错了\n",
      "我错了\n",
      "我错了\n",
      "我错了\n",
      "我错了\n",
      "我错了\n",
      "我错了\n",
      "我错了\n",
      "我错了\n",
      "我错了\n",
      "我错了\n",
      "我错了\n",
      "我错了\n",
      "我错了\n",
      "我错了\n",
      "我错了\n",
      "我错了\n",
      "我错了\n",
      "我错了\n",
      "我错了\n",
      "我错了\n",
      "我错了\n",
      "我错了\n",
      "我错了\n",
      "我错了\n",
      "我错了\n",
      "我错了\n",
      "我错了\n",
      "我错了\n",
      "我错了\n",
      "我错了\n",
      "我错了\n",
      "我错了\n",
      "我错了\n",
      "我错了\n",
      "我错了\n",
      "我错了\n",
      "我错了\n",
      "我错了\n",
      "我错了\n",
      "我错了\n",
      "我错了\n",
      "我错了\n",
      "我错了\n",
      "我错了\n",
      "我错了\n",
      "我错了\n",
      "我错了\n",
      "我错了\n",
      "我错了\n",
      "我错了\n",
      "我错了\n",
      "我错了\n",
      "我错了\n",
      "我错了\n",
      "我错了\n",
      "我错了\n",
      "我错了\n",
      "我错了\n",
      "我错了\n",
      "我错了\n",
      "我错了\n",
      "我错了\n",
      "我错了\n",
      "我错了\n",
      "我错了\n",
      "我错了\n",
      "我错了\n",
      "我错了\n",
      "我错了\n",
      "我错了\n",
      "我错了\n",
      "我错了\n",
      "我错了\n",
      "我错了\n",
      "我错了\n",
      "我错了\n",
      "我错了\n",
      "我错了\n",
      "我错了\n",
      "我错了\n",
      "我错了\n",
      "我错了\n",
      "我错了\n",
      "我错了\n",
      "我错了\n",
      "我错了\n",
      "我错了\n",
      "我错了\n",
      "我错了\n",
      "我错了\n",
      "我错了\n",
      "我错了\n",
      "我错了\n",
      "我错了\n",
      "我错了\n",
      "我错了\n",
      "我错了\n",
      "我错了\n",
      "我错了\n",
      "我错了\n",
      "我错了\n",
      "我错了\n",
      "我错了\n",
      "我错了\n",
      "我错了\n",
      "我错了\n",
      "我错了\n",
      "我错了\n",
      "我错了\n",
      "我错了\n",
      "我错了\n",
      "我错了\n",
      "我错了\n",
      "我错了\n",
      "我错了\n",
      "我错了\n",
      "我错了\n",
      "我错了\n",
      "我错了\n",
      "我错了\n",
      "我错了\n",
      "我错了\n",
      "我错了\n",
      "我错了\n",
      "我错了\n",
      "我错了\n",
      "我错了\n",
      "我错了\n",
      "我错了\n",
      "我错了\n",
      "我错了\n",
      "我错了\n",
      "我错了\n",
      "我错了\n",
      "我错了\n",
      "我错了\n",
      "我错了\n",
      "我错了\n",
      "我错了\n",
      "我错了\n",
      "我错了\n",
      "我错了\n",
      "我错了\n",
      "我错了\n",
      "我错了\n",
      "我错了\n",
      "我错了\n",
      "我错了\n",
      "我错了\n",
      "我错了\n",
      "我错了\n",
      "我错了\n",
      "我错了\n",
      "我错了\n",
      "我错了\n",
      "我错了\n",
      "我错了\n",
      "我错了\n",
      "我错了\n",
      "我错了\n",
      "我错了\n",
      "我错了\n",
      "我错了\n",
      "我错了\n",
      "我错了\n",
      "我错了\n",
      "我错了\n",
      "我错了\n",
      "我错了\n",
      "我错了\n",
      "我错了\n",
      "我错了\n",
      "我错了\n",
      "我错了\n",
      "我错了\n",
      "我错了\n",
      "我错了\n",
      "我错了\n",
      "我错了\n",
      "我错了\n",
      "我错了\n",
      "我错了\n",
      "我错了\n",
      "我错了\n",
      "我错了\n",
      "我错了\n",
      "我错了\n",
      "我错了\n",
      "我错了\n",
      "我错了\n",
      "我错了\n",
      "我错了\n",
      "我错了\n",
      "我错了\n",
      "我错了\n",
      "我错了\n",
      "我错了\n",
      "我错了\n",
      "我错了\n",
      "我错了\n",
      "我错了\n",
      "我错了\n",
      "我错了\n",
      "我错了\n",
      "我错了\n",
      "我错了\n",
      "我错了\n",
      "我错了\n",
      "我错了\n",
      "我错了\n",
      "我错了\n",
      "我错了\n",
      "我错了\n",
      "我错了\n",
      "我错了\n",
      "我错了\n",
      "我错了\n",
      "我错了\n",
      "我错了\n",
      "我错了\n",
      "我错了\n",
      "我错了\n",
      "我错了\n",
      "我错了\n",
      "我错了\n",
      "我错了\n",
      "我错了\n",
      "我错了\n",
      "我错了\n",
      "我错了\n",
      "我错了\n",
      "我错了\n",
      "我错了\n",
      "我错了\n",
      "我错了\n",
      "我错了\n",
      "我错了\n",
      "我错了\n",
      "我错了\n",
      "我错了\n",
      "我错了\n",
      "我错了\n",
      "我错了\n",
      "我错了\n",
      "我错了\n",
      "我错了\n",
      "我错了\n",
      "我错了\n",
      "我错了\n",
      "我错了\n",
      "我错了\n",
      "我错了\n",
      "我错了\n",
      "我错了\n",
      "我错了\n",
      "我错了\n",
      "我错了\n",
      "我错了\n",
      "我错了\n",
      "我错了\n",
      "我错了\n",
      "我错了\n",
      "我错了\n",
      "我错了\n",
      "我错了\n",
      "我错了\n",
      "我错了\n",
      "我错了\n",
      "我错了\n",
      "我错了\n",
      "我错了\n",
      "我错了\n",
      "我错了\n",
      "我错了\n",
      "我错了\n",
      "我错了\n",
      "我错了\n",
      "我错了\n",
      "我错了\n",
      "我错了\n",
      "我错了\n",
      "我错了\n",
      "我错了\n",
      "我错了\n",
      "我错了\n",
      "我错了\n",
      "我错了\n",
      "我错了\n",
      "我错了\n",
      "我错了\n",
      "我错了\n",
      "我错了\n",
      "我错了\n",
      "我错了\n",
      "我错了\n",
      "我错了\n",
      "我错了\n",
      "我错了\n",
      "我错了\n",
      "我错了\n",
      "我错了\n",
      "我错了\n",
      "我错了\n",
      "我错了\n",
      "我错了\n",
      "我错了\n",
      "我错了\n",
      "我错了\n",
      "我错了\n",
      "我错了\n",
      "我错了\n",
      "我错了\n",
      "我错了\n",
      "我错了\n",
      "我错了\n",
      "我错了\n",
      "我错了\n",
      "我错了\n",
      "我错了\n",
      "我错了\n",
      "我错了\n",
      "我错了\n",
      "我错了\n",
      "我错了\n",
      "我错了\n",
      "我错了\n",
      "我错了\n",
      "我错了\n",
      "我错了\n",
      "我错了\n",
      "我错了\n",
      "我错了\n",
      "我错了\n",
      "我错了\n",
      "我错了\n",
      "我错了\n",
      "我错了\n",
      "我错了\n",
      "我错了\n",
      "我错了\n",
      "我错了\n",
      "我错了\n",
      "我错了\n",
      "我错了\n",
      "我错了\n",
      "我错了\n",
      "我错了\n",
      "我错了\n",
      "我错了\n",
      "我错了\n",
      "我错了\n",
      "我错了\n",
      "我错了\n",
      "我错了\n",
      "我错了\n",
      "我错了\n",
      "我错了\n",
      "我错了\n",
      "我错了\n",
      "我错了\n",
      "我错了\n",
      "我错了\n",
      "我错了\n",
      "我错了\n",
      "我错了\n",
      "我错了\n",
      "我错了\n",
      "我错了\n",
      "我错了\n",
      "我错了\n",
      "我错了\n",
      "我错了\n",
      "我错了\n",
      "我错了\n",
      "我错了\n",
      "我错了\n",
      "我错了\n",
      "我错了\n",
      "我错了\n",
      "我错了\n",
      "我错了\n",
      "我错了\n",
      "我错了\n",
      "我错了\n",
      "我错了\n",
      "我错了\n",
      "我错了\n",
      "我错了\n",
      "我错了\n",
      "我错了\n",
      "我错了\n",
      "我错了\n",
      "我错了\n",
      "我错了\n",
      "我错了\n",
      "我错了\n",
      "我错了\n",
      "我错了\n",
      "我错了\n",
      "我错了\n",
      "我错了\n",
      "我错了\n",
      "我错了\n",
      "我错了\n",
      "我错了\n",
      "我错了\n",
      "我错了\n",
      "我错了\n",
      "我错了\n",
      "我错了\n",
      "我错了\n",
      "我错了\n",
      "我错了\n",
      "我错了\n",
      "我错了\n",
      "我错了\n",
      "我错了\n",
      "我错了\n",
      "我错了\n",
      "我错了\n",
      "我错了\n",
      "我错了\n",
      "我错了\n",
      "我错了\n",
      "我错了\n",
      "我错了\n",
      "我错了\n",
      "我错了\n",
      "我错了\n",
      "我错了\n",
      "我错了\n",
      "我错了\n",
      "我错了\n",
      "我错了\n",
      "我错了\n",
      "我错了\n",
      "我错了\n",
      "我错了\n",
      "我错了\n",
      "我错了\n",
      "我错了\n",
      "我错了\n",
      "我错了\n",
      "我错了\n",
      "我错了\n",
      "我错了\n",
      "我错了\n",
      "我错了\n",
      "我错了\n",
      "我错了\n",
      "我错了\n",
      "我错了\n",
      "我错了\n",
      "我错了\n",
      "我错了\n",
      "我错了\n",
      "我错了\n",
      "我错了\n",
      "我错了\n",
      "我错了\n",
      "我错了\n",
      "我错了\n",
      "我错了\n",
      "我错了\n",
      "我错了\n",
      "我错了\n",
      "我错了\n",
      "我错了\n",
      "我错了\n",
      "我错了\n",
      "我错了\n",
      "我错了\n",
      "我错了\n",
      "我错了\n",
      "我错了\n",
      "我错了\n",
      "我错了\n",
      "我错了\n",
      "我错了\n",
      "我错了\n",
      "我错了\n",
      "我错了\n",
      "我错了\n",
      "我错了\n",
      "我错了\n",
      "我错了\n",
      "我错了\n",
      "我错了\n",
      "我错了\n",
      "我错了\n",
      "我错了\n",
      "我错了\n",
      "我错了\n",
      "我错了\n",
      "我错了\n",
      "我错了\n",
      "我错了\n",
      "我错了\n",
      "我错了\n",
      "我错了\n",
      "我错了\n",
      "我错了\n",
      "我错了\n",
      "我错了\n",
      "我错了\n",
      "我错了\n",
      "我错了\n",
      "我错了\n",
      "我错了\n",
      "我错了\n",
      "我错了\n",
      "我错了\n",
      "我错了\n",
      "我错了\n",
      "我错了\n",
      "我错了\n",
      "我错了\n",
      "我错了\n",
      "我错了\n",
      "我错了\n",
      "我错了\n",
      "我错了\n",
      "我错了\n",
      "我错了\n",
      "我错了\n",
      "我错了\n",
      "我错了\n",
      "我错了\n",
      "我错了\n",
      "我错了\n",
      "我错了\n",
      "我错了\n",
      "我错了\n",
      "我错了\n",
      "我错了\n",
      "我错了\n",
      "我错了\n",
      "我错了\n",
      "我错了\n",
      "我错了\n",
      "我错了\n",
      "我错了\n",
      "我错了\n",
      "我错了\n",
      "我错了\n",
      "我错了\n",
      "我错了\n",
      "我错了\n",
      "我错了\n",
      "我错了\n",
      "我错了\n",
      "我错了\n",
      "我错了\n",
      "我错了\n",
      "我错了\n",
      "我错了\n",
      "我错了\n",
      "我错了\n",
      "我错了\n",
      "我错了\n",
      "我错了\n",
      "我错了\n",
      "我错了\n",
      "我错了\n",
      "我错了\n",
      "我错了\n",
      "我错了\n",
      "我错了\n",
      "我错了\n",
      "我错了\n",
      "我错了\n",
      "我错了\n",
      "我错了\n",
      "我错了\n",
      "我错了\n",
      "我错了\n",
      "我错了\n",
      "我错了\n",
      "我错了\n",
      "我错了\n",
      "我错了\n",
      "我错了\n",
      "我错了\n",
      "我错了\n",
      "我错了\n",
      "我错了\n",
      "我错了\n",
      "我错了\n",
      "我错了\n",
      "我错了\n",
      "我错了\n",
      "我错了\n",
      "我错了\n",
      "我错了\n",
      "我错了\n",
      "我错了\n",
      "我错了\n",
      "我错了\n",
      "我错了\n",
      "我错了\n",
      "我错了\n",
      "我错了\n",
      "我错了\n",
      "我错了\n",
      "我错了\n",
      "我错了\n",
      "我错了\n",
      "我错了\n",
      "我错了\n",
      "我错了\n",
      "我错了\n",
      "我错了\n",
      "我错了\n",
      "我错了\n",
      "我错了\n",
      "我错了\n",
      "我错了\n",
      "我错了\n",
      "我错了\n",
      "我错了\n",
      "我错了\n",
      "我错了\n",
      "我错了\n",
      "我错了\n",
      "我错了\n",
      "我错了\n",
      "我错了\n",
      "我错了\n",
      "我错了\n",
      "我错了\n",
      "我错了\n",
      "我错了\n",
      "我错了\n",
      "我错了\n",
      "我错了\n",
      "我错了\n",
      "我错了\n",
      "我错了\n",
      "我错了\n",
      "我错了\n",
      "我错了\n",
      "我错了\n",
      "我错了\n",
      "我错了\n",
      "我错了\n",
      "我错了\n",
      "我错了\n",
      "我错了\n",
      "我错了\n",
      "我错了\n",
      "我错了\n",
      "我错了\n",
      "我错了\n",
      "我错了\n",
      "我错了\n",
      "我错了\n",
      "我错了\n",
      "我错了\n",
      "我错了\n",
      "我错了\n",
      "我错了\n",
      "我错了\n",
      "我错了\n",
      "我错了\n",
      "我错了\n",
      "我错了\n",
      "我错了\n",
      "我错了\n",
      "我错了\n",
      "我错了\n",
      "我错了\n",
      "我错了\n",
      "我错了\n",
      "我错了\n",
      "我错了\n",
      "我错了\n",
      "我错了\n",
      "我错了\n",
      "我错了\n",
      "我错了\n",
      "我错了\n",
      "我错了\n",
      "我错了\n",
      "我错了\n",
      "我错了\n",
      "我错了\n",
      "我错了\n",
      "我错了\n",
      "我错了\n",
      "我错了\n",
      "我错了\n",
      "我错了\n",
      "我错了\n",
      "我错了\n",
      "我错了\n",
      "我错了\n",
      "我错了\n",
      "我错了\n",
      "我错了\n",
      "我错了\n",
      "我错了\n",
      "我错了\n",
      "我错了\n",
      "我错了\n",
      "我错了\n",
      "我错了\n",
      "我错了\n",
      "我错了\n",
      "我错了\n",
      "我错了\n",
      "我错了\n",
      "我错了\n",
      "我错了\n",
      "我错了\n",
      "我错了\n",
      "我错了\n",
      "我错了\n",
      "我错了\n",
      "我错了\n",
      "我错了\n",
      "我错了\n",
      "我错了\n",
      "我错了\n",
      "我错了\n",
      "我错了\n",
      "我错了\n",
      "我错了\n",
      "我错了\n",
      "我错了\n",
      "我错了\n",
      "我错了\n",
      "我错了\n",
      "我错了\n",
      "我错了\n",
      "我错了\n",
      "我错了\n",
      "我错了\n",
      "我错了\n",
      "我错了\n",
      "我错了\n",
      "我错了\n",
      "我错了\n",
      "我错了\n",
      "我错了\n",
      "我错了\n",
      "我错了\n",
      "我错了\n",
      "我错了\n",
      "我错了\n",
      "我错了\n",
      "我错了\n",
      "我错了\n",
      "我错了\n",
      "我错了\n",
      "我错了\n",
      "我错了\n",
      "我错了\n",
      "我错了\n",
      "我错了\n",
      "我错了\n",
      "我错了\n",
      "我错了\n",
      "我错了\n",
      "我错了\n",
      "我错了\n",
      "我错了\n",
      "我错了\n",
      "我错了\n",
      "我错了\n",
      "我错了\n",
      "我错了\n",
      "我错了\n",
      "我错了\n",
      "我错了\n",
      "我错了\n",
      "我错了\n",
      "我错了\n",
      "我错了\n",
      "我错了\n",
      "我错了\n",
      "我错了\n",
      "我错了\n",
      "我错了\n",
      "我错了\n",
      "我错了\n",
      "我错了\n",
      "我错了\n",
      "我错了\n",
      "我错了\n",
      "我错了\n",
      "我错了\n",
      "我错了\n",
      "我错了\n",
      "我错了\n",
      "我错了\n",
      "我错了\n",
      "我错了\n",
      "我错了\n",
      "我错了\n",
      "我错了\n",
      "我错了\n",
      "我错了\n",
      "我错了\n",
      "我错了\n",
      "我错了\n",
      "我错了\n",
      "我错了\n",
      "我错了\n",
      "我错了\n",
      "我错了\n",
      "我错了\n",
      "我错了\n",
      "我错了\n",
      "我错了\n",
      "我错了\n",
      "我错了\n",
      "我错了\n",
      "我错了\n",
      "我错了\n",
      "我错了\n",
      "我错了\n",
      "我错了\n",
      "我错了\n",
      "我错了\n",
      "我错了\n",
      "我错了\n",
      "我错了\n",
      "我错了\n",
      "我错了\n",
      "我错了\n",
      "我错了\n",
      "我错了\n",
      "我错了\n",
      "我错了\n",
      "我错了\n",
      "我错了\n",
      "我错了\n",
      "我错了\n",
      "我错了\n",
      "我错了\n",
      "我错了\n",
      "我错了\n",
      "我错了\n",
      "我错了\n",
      "我错了\n",
      "我错了\n",
      "我错了\n",
      "我错了\n",
      "我错了\n",
      "我错了\n",
      "我错了\n",
      "我错了\n",
      "我错了\n",
      "我错了\n",
      "我错了\n",
      "我错了\n",
      "我错了\n",
      "我错了\n",
      "我错了\n",
      "我错了\n",
      "我错了\n",
      "我错了\n",
      "我错了\n",
      "我错了\n",
      "我错了\n",
      "我错了\n",
      "我错了\n",
      "我错了\n",
      "我错了\n",
      "我错了\n",
      "我错了\n",
      "我错了\n",
      "我错了\n",
      "我错了\n",
      "我错了\n",
      "我错了\n",
      "我错了\n",
      "我错了\n",
      "我错了\n",
      "我错了\n",
      "我错了\n",
      "我错了\n",
      "我错了\n",
      "我错了\n",
      "我错了\n",
      "我错了\n",
      "我错了\n",
      "我错了\n",
      "我错了\n",
      "我错了\n",
      "我错了\n",
      "我错了\n",
      "我错了\n",
      "我错了\n",
      "我错了\n",
      "我错了\n",
      "我错了\n",
      "我错了\n",
      "我错了\n",
      "我错了\n",
      "我错了\n",
      "我错了\n",
      "我错了\n",
      "我错了\n",
      "我错了\n",
      "我错了\n",
      "我错了\n",
      "我错了\n",
      "我错了\n",
      "我错了\n",
      "我错了\n",
      "我错了\n",
      "我错了\n",
      "我错了\n",
      "我错了\n",
      "我错了\n",
      "我错了\n",
      "我错了\n",
      "我错了\n",
      "我错了\n",
      "我错了\n",
      "我错了\n",
      "我错了\n",
      "我错了\n",
      "我错了\n",
      "我错了\n",
      "我错了\n",
      "我错了\n",
      "我错了\n",
      "我错了\n",
      "我错了\n",
      "我错了\n",
      "我错了\n",
      "我错了\n",
      "我错了\n",
      "我错了\n",
      "我错了\n",
      "我错了\n",
      "我错了\n",
      "我错了\n",
      "我错了\n",
      "我错了\n",
      "我错了\n",
      "我错了\n",
      "我错了\n",
      "我错了\n",
      "我错了\n",
      "我错了\n",
      "我错了\n",
      "我错了\n",
      "我错了\n",
      "我错了\n",
      "我错了\n",
      "我错了\n",
      "我错了\n",
      "我错了\n",
      "我错了\n",
      "我错了\n",
      "我错了\n",
      "我错了\n",
      "我错了\n",
      "我错了\n",
      "我错了\n",
      "我错了\n",
      "我错了\n",
      "我错了\n",
      "我错了\n",
      "我错了\n",
      "我错了\n",
      "我错了\n",
      "我错了\n",
      "我错了\n",
      "我错了\n",
      "我错了\n",
      "我错了\n",
      "我错了\n",
      "我错了\n",
      "我错了\n",
      "我错了\n",
      "我错了\n",
      "我错了\n",
      "我错了\n",
      "我错了\n",
      "我错了\n",
      "我错了\n",
      "我错了\n",
      "我错了\n",
      "我错了\n",
      "我错了\n",
      "我错了\n",
      "我错了\n",
      "我错了\n",
      "我错了\n",
      "我错了\n",
      "我错了\n",
      "我错了\n",
      "我错了\n",
      "我错了\n",
      "我错了\n",
      "我错了\n",
      "我错了\n",
      "我错了\n",
      "我错了\n",
      "我错了\n",
      "我错了\n",
      "我错了\n",
      "我错了\n",
      "我错了\n",
      "我错了\n",
      "我错了\n",
      "我错了\n",
      "我错了\n",
      "我错了\n",
      "我错了\n",
      "我错了\n",
      "我错了\n",
      "我错了\n",
      "我错了\n",
      "我错了\n",
      "我错了\n",
      "我错了\n",
      "我错了\n",
      "我错了\n",
      "我错了\n",
      "我错了\n",
      "我错了\n",
      "我错了\n",
      "我错了\n",
      "我错了\n",
      "我错了\n",
      "我错了\n",
      "我错了\n",
      "我错了\n",
      "我错了\n",
      "我错了\n",
      "我错了\n",
      "我错了\n",
      "我错了\n",
      "我错了\n",
      "我错了\n",
      "我错了\n",
      "我错了\n",
      "我错了\n",
      "我错了\n",
      "我错了\n",
      "我错了\n",
      "我错了\n",
      "我错了\n",
      "我错了\n",
      "我错了\n",
      "我错了\n",
      "我错了\n",
      "我错了\n",
      "我错了\n",
      "我错了\n",
      "我错了\n",
      "我错了\n",
      "我错了\n",
      "我错了\n",
      "我错了\n",
      "我错了\n",
      "我错了\n",
      "我错了\n",
      "我错了\n",
      "我错了\n",
      "我错了\n",
      "我错了\n",
      "我错了\n",
      "我错了\n",
      "我错了\n",
      "我错了\n",
      "我错了\n",
      "我错了\n",
      "我错了\n",
      "我错了\n",
      "我错了\n",
      "我错了\n",
      "我错了\n",
      "我错了\n",
      "我错了\n",
      "我错了\n",
      "我错了\n",
      "我错了\n",
      "我错了\n",
      "我错了\n",
      "我错了\n",
      "我错了\n",
      "我错了\n",
      "我错了\n",
      "我错了\n",
      "我错了\n",
      "我错了\n",
      "我错了\n",
      "我错了\n",
      "我错了\n",
      "我错了\n",
      "我错了\n",
      "我错了\n",
      "我错了\n",
      "我错了\n",
      "我错了\n",
      "我错了\n",
      "我错了\n",
      "我错了\n",
      "我错了\n",
      "我错了\n",
      "我错了\n",
      "我错了\n",
      "我错了\n",
      "我错了\n",
      "我错了\n",
      "我错了\n",
      "我错了\n",
      "我错了\n",
      "我错了\n",
      "我错了\n",
      "我错了\n",
      "我错了\n",
      "我错了\n",
      "我错了\n",
      "我错了\n",
      "我错了\n",
      "我错了\n",
      "我错了\n",
      "我错了\n",
      "我错了\n",
      "我错了\n",
      "我错了\n",
      "我错了\n",
      "我错了\n",
      "我错了\n",
      "我错了\n",
      "我错了\n",
      "我错了\n",
      "我错了\n",
      "我错了\n",
      "我错了\n",
      "我错了\n",
      "我错了\n",
      "我错了\n",
      "我错了\n",
      "我错了\n",
      "我错了\n",
      "我错了\n",
      "我错了\n",
      "我错了\n",
      "我错了\n",
      "我错了\n",
      "我错了\n",
      "我错了\n",
      "我错了\n",
      "我错了\n",
      "我错了\n",
      "我错了\n",
      "我错了\n",
      "我错了\n",
      "我错了\n",
      "我错了\n",
      "我错了\n",
      "我错了\n",
      "我错了\n",
      "我错了\n",
      "我错了\n",
      "我错了\n",
      "我错了\n",
      "我错了\n",
      "我错了\n",
      "我错了\n",
      "我错了\n",
      "我错了\n",
      "我错了\n",
      "我错了\n",
      "我错了\n",
      "我错了\n",
      "我错了\n",
      "我错了\n",
      "我错了\n",
      "我错了\n",
      "我错了\n",
      "我错了\n",
      "我错了\n",
      "我错了\n",
      "我错了\n",
      "我错了\n",
      "我错了\n",
      "我错了\n",
      "我错了\n",
      "我错了\n",
      "我错了\n",
      "我错了\n",
      "我错了\n",
      "我错了\n",
      "我错了\n",
      "我错了\n",
      "我错了\n",
      "我错了\n",
      "我错了\n",
      "我错了\n",
      "我错了\n",
      "我错了\n",
      "我错了\n",
      "我错了\n",
      "我错了\n",
      "我错了\n",
      "我错了\n",
      "我错了\n",
      "我错了\n",
      "我错了\n",
      "我错了\n",
      "我错了\n",
      "我错了\n",
      "我错了\n",
      "我错了\n",
      "我错了\n",
      "我错了\n",
      "我错了\n",
      "我错了\n",
      "我错了\n",
      "我错了\n",
      "我错了\n",
      "我错了\n",
      "我错了\n",
      "我错了\n",
      "我错了\n",
      "我错了\n",
      "我错了\n",
      "我错了\n",
      "我错了\n",
      "我错了\n",
      "我错了\n",
      "我错了\n",
      "我错了\n",
      "我错了\n",
      "我错了\n",
      "我错了\n",
      "我错了\n",
      "我错了\n",
      "我错了\n",
      "我错了\n",
      "我错了\n",
      "我错了\n",
      "我错了\n",
      "我错了\n",
      "我错了\n",
      "我错了\n",
      "我错了\n",
      "我错了\n",
      "我错了\n",
      "我错了\n",
      "我错了\n",
      "我错了\n",
      "我错了\n",
      "我错了\n",
      "我错了\n",
      "我错了\n",
      "我错了\n",
      "我错了\n",
      "我错了\n",
      "我错了\n",
      "我错了\n",
      "我错了\n",
      "我错了\n",
      "我错了\n",
      "我错了\n",
      "我错了\n",
      "我错了\n",
      "我错了\n",
      "我错了\n",
      "我错了\n",
      "我错了\n",
      "我错了\n",
      "我错了\n",
      "我错了\n",
      "我错了\n",
      "我错了\n",
      "我错了\n",
      "我错了\n",
      "我错了\n"
     ]
    },
    {
     "name": "stdout",
     "output_type": "stream",
     "text": [
      "我错了\n",
      "我错了\n",
      "我错了\n",
      "我错了\n",
      "我错了\n",
      "我错了\n",
      "我错了\n",
      "我错了\n",
      "我错了\n",
      "我错了\n",
      "我错了\n",
      "我错了\n",
      "我错了\n",
      "我错了\n",
      "我错了\n",
      "我错了\n",
      "我错了\n",
      "我错了\n",
      "我错了\n",
      "我错了\n",
      "我错了\n",
      "我错了\n",
      "我错了\n",
      "我错了\n",
      "我错了\n",
      "我错了\n",
      "我错了\n",
      "我错了\n",
      "我错了\n",
      "我错了\n",
      "我错了\n",
      "我错了\n",
      "我错了\n",
      "我错了\n",
      "我错了\n",
      "我错了\n",
      "我错了\n",
      "我错了\n",
      "我错了\n",
      "我错了\n",
      "我错了\n",
      "我错了\n",
      "我错了\n",
      "我错了\n",
      "我错了\n",
      "我错了\n",
      "我错了\n",
      "我错了\n",
      "我错了\n",
      "我错了\n",
      "我错了\n",
      "我错了\n",
      "我错了\n",
      "我错了\n",
      "我错了\n",
      "我错了\n",
      "我错了\n",
      "我错了\n",
      "我错了\n",
      "我错了\n",
      "我错了\n",
      "我错了\n",
      "我错了\n",
      "我错了\n",
      "我错了\n",
      "我错了\n",
      "我错了\n",
      "我错了\n",
      "我错了\n",
      "我错了\n",
      "我错了\n",
      "我错了\n",
      "我错了\n",
      "我错了\n",
      "我错了\n",
      "我错了\n",
      "我错了\n",
      "我错了\n",
      "我错了\n",
      "我错了\n",
      "我错了\n",
      "我错了\n",
      "我错了\n",
      "我错了\n",
      "我错了\n",
      "我错了\n",
      "我错了\n",
      "我错了\n",
      "我错了\n",
      "我错了\n",
      "我错了\n",
      "我错了\n",
      "我错了\n",
      "我错了\n",
      "我错了\n",
      "我错了\n",
      "我错了\n",
      "我错了\n",
      "我错了\n",
      "我错了\n",
      "我错了\n",
      "我错了\n",
      "我错了\n",
      "我错了\n",
      "我错了\n",
      "我错了\n",
      "我错了\n",
      "我错了\n",
      "我错了\n",
      "我错了\n",
      "我错了\n",
      "我错了\n",
      "我错了\n",
      "我错了\n",
      "我错了\n",
      "我错了\n",
      "我错了\n",
      "我错了\n",
      "我错了\n",
      "我错了\n",
      "我错了\n",
      "我错了\n",
      "我错了\n",
      "我错了\n",
      "我错了\n",
      "我错了\n",
      "我错了\n",
      "我错了\n",
      "我错了\n",
      "我错了\n",
      "我错了\n",
      "我错了\n",
      "我错了\n",
      "我错了\n",
      "我错了\n",
      "我错了\n",
      "我错了\n",
      "我错了\n",
      "我错了\n",
      "我错了\n",
      "我错了\n",
      "我错了\n",
      "我错了\n",
      "我错了\n",
      "我错了\n",
      "我错了\n",
      "我错了\n",
      "我错了\n",
      "我错了\n",
      "我错了\n",
      "我错了\n",
      "我错了\n",
      "我错了\n",
      "我错了\n",
      "我错了\n",
      "我错了\n",
      "我错了\n",
      "我错了\n",
      "我错了\n",
      "我错了\n",
      "我错了\n",
      "我错了\n",
      "我错了\n",
      "我错了\n",
      "我错了\n",
      "我错了\n",
      "我错了\n",
      "我错了\n",
      "我错了\n",
      "我错了\n",
      "我错了\n",
      "我错了\n",
      "我错了\n",
      "我错了\n",
      "我错了\n",
      "我错了\n",
      "我错了\n",
      "我错了\n",
      "我错了\n",
      "我错了\n",
      "我错了\n",
      "我错了\n",
      "我错了\n",
      "我错了\n",
      "我错了\n",
      "我错了\n",
      "我错了\n",
      "我错了\n",
      "我错了\n",
      "我错了\n",
      "我错了\n",
      "我错了\n",
      "我错了\n",
      "我错了\n",
      "我错了\n",
      "我错了\n",
      "我错了\n",
      "我错了\n",
      "我错了\n",
      "我错了\n",
      "我错了\n",
      "我错了\n",
      "我错了\n",
      "我错了\n",
      "我错了\n",
      "我错了\n",
      "我错了\n",
      "我错了\n",
      "我错了\n",
      "我错了\n",
      "我错了\n",
      "我错了\n",
      "我错了\n",
      "我错了\n",
      "我错了\n",
      "我错了\n",
      "我错了\n",
      "我错了\n",
      "我错了\n",
      "我错了\n",
      "我错了\n",
      "我错了\n",
      "我错了\n",
      "我错了\n",
      "我错了\n",
      "我错了\n",
      "我错了\n",
      "我错了\n",
      "我错了\n",
      "我错了\n",
      "我错了\n",
      "我错了\n",
      "我错了\n",
      "我错了\n",
      "我错了\n",
      "我错了\n",
      "我错了\n",
      "我错了\n",
      "我错了\n",
      "我错了\n",
      "我错了\n",
      "我错了\n",
      "我错了\n",
      "我错了\n",
      "我错了\n",
      "我错了\n",
      "我错了\n",
      "我错了\n",
      "我错了\n",
      "我错了\n",
      "我错了\n",
      "我错了\n",
      "我错了\n",
      "我错了\n",
      "我错了\n",
      "我错了\n",
      "我错了\n",
      "我错了\n",
      "我错了\n",
      "我错了\n",
      "我错了\n",
      "我错了\n",
      "我错了\n",
      "我错了\n",
      "我错了\n",
      "我错了\n",
      "我错了\n",
      "我错了\n",
      "我错了\n",
      "我错了\n",
      "我错了\n",
      "我错了\n",
      "我错了\n",
      "我错了\n",
      "我错了\n",
      "我错了\n",
      "我错了\n",
      "我错了\n",
      "我错了\n",
      "我错了\n",
      "我错了\n",
      "我错了\n",
      "我错了\n",
      "我错了\n",
      "我错了\n",
      "我错了\n",
      "我错了\n",
      "我错了\n",
      "我错了\n",
      "我错了\n",
      "我错了\n",
      "我错了\n",
      "我错了\n",
      "我错了\n",
      "我错了\n",
      "我错了\n",
      "我错了\n",
      "我错了\n",
      "我错了\n",
      "我错了\n",
      "我错了\n",
      "我错了\n",
      "我错了\n",
      "我错了\n",
      "我错了\n",
      "我错了\n",
      "我错了\n",
      "我错了\n",
      "我错了\n",
      "我错了\n",
      "我错了\n",
      "我错了\n",
      "我错了\n",
      "我错了\n",
      "我错了\n",
      "我错了\n",
      "我错了\n",
      "我错了\n",
      "我错了\n",
      "我错了\n",
      "我错了\n",
      "我错了\n",
      "我错了\n",
      "我错了\n",
      "我错了\n",
      "我错了\n",
      "我错了\n",
      "我错了\n",
      "我错了\n",
      "我错了\n",
      "我错了\n",
      "我错了\n",
      "我错了\n",
      "我错了\n",
      "我错了\n",
      "我错了\n",
      "我错了\n",
      "我错了\n",
      "我错了\n",
      "我错了\n",
      "我错了\n",
      "我错了\n",
      "我错了\n",
      "我错了\n",
      "我错了\n",
      "我错了\n",
      "我错了\n",
      "我错了\n",
      "我错了\n",
      "我错了\n",
      "我错了\n",
      "我错了\n",
      "我错了\n",
      "我错了\n",
      "我错了\n",
      "我错了\n",
      "我错了\n",
      "我错了\n",
      "我错了\n",
      "我错了\n",
      "我错了\n",
      "我错了\n",
      "我错了\n",
      "我错了\n",
      "我错了\n",
      "我错了\n",
      "我错了\n",
      "我错了\n",
      "我错了\n",
      "我错了\n",
      "我错了\n",
      "我错了\n",
      "我错了\n",
      "我错了\n",
      "我错了\n",
      "我错了\n",
      "我错了\n",
      "我错了\n",
      "我错了\n",
      "我错了\n",
      "我错了\n",
      "我错了\n",
      "我错了\n",
      "我错了\n",
      "我错了\n",
      "我错了\n",
      "我错了\n",
      "我错了\n",
      "我错了\n",
      "我错了\n",
      "我错了\n",
      "我错了\n",
      "我错了\n",
      "我错了\n",
      "我错了\n",
      "我错了\n",
      "我错了\n",
      "我错了\n",
      "我错了\n",
      "我错了\n",
      "我错了\n",
      "我错了\n",
      "我错了\n",
      "我错了\n",
      "我错了\n",
      "我错了\n",
      "我错了\n",
      "我错了\n",
      "我错了\n",
      "我错了\n",
      "我错了\n",
      "我错了\n",
      "我错了\n",
      "我错了\n",
      "我错了\n",
      "我错了\n",
      "我错了\n",
      "我错了\n",
      "我错了\n",
      "我错了\n",
      "我错了\n",
      "我错了\n",
      "我错了\n",
      "我错了\n",
      "我错了\n",
      "我错了\n",
      "我错了\n",
      "我错了\n",
      "我错了\n",
      "我错了\n",
      "我错了\n",
      "我错了\n",
      "我错了\n",
      "我错了\n",
      "我错了\n",
      "我错了\n",
      "我错了\n",
      "我错了\n",
      "我错了\n",
      "我错了\n",
      "我错了\n",
      "我错了\n",
      "我错了\n",
      "我错了\n",
      "我错了\n",
      "我错了\n",
      "我错了\n",
      "我错了\n",
      "我错了\n",
      "我错了\n",
      "我错了\n",
      "我错了\n",
      "我错了\n",
      "我错了\n",
      "我错了\n",
      "我错了\n",
      "我错了\n",
      "我错了\n",
      "我错了\n",
      "我错了\n",
      "我错了\n",
      "我错了\n",
      "我错了\n",
      "我错了\n",
      "我错了\n",
      "我错了\n",
      "我错了\n",
      "我错了\n",
      "我错了\n",
      "我错了\n",
      "我错了\n",
      "我错了\n",
      "我错了\n",
      "我错了\n",
      "我错了\n",
      "我错了\n",
      "我错了\n",
      "我错了\n",
      "我错了\n",
      "我错了\n",
      "我错了\n",
      "我错了\n",
      "我错了\n",
      "我错了\n",
      "我错了\n",
      "我错了\n",
      "我错了\n",
      "我错了\n",
      "我错了\n",
      "我错了\n",
      "我错了\n",
      "我错了\n",
      "我错了\n",
      "我错了\n",
      "我错了\n",
      "我错了\n",
      "我错了\n",
      "我错了\n",
      "我错了\n",
      "我错了\n",
      "我错了\n",
      "我错了\n",
      "我错了\n",
      "我错了\n",
      "我错了\n",
      "我错了\n",
      "我错了\n",
      "我错了\n",
      "我错了\n",
      "我错了\n",
      "我错了\n",
      "我错了\n",
      "我错了\n",
      "我错了\n",
      "我错了\n",
      "我错了\n",
      "我错了\n",
      "我错了\n",
      "我错了\n",
      "我错了\n",
      "我错了\n",
      "我错了\n",
      "我错了\n",
      "我错了\n",
      "我错了\n",
      "我错了\n",
      "我错了\n",
      "我错了\n",
      "我错了\n",
      "我错了\n",
      "我错了\n",
      "我错了\n",
      "我错了\n",
      "我错了\n",
      "我错了\n",
      "我错了\n",
      "我错了\n",
      "我错了\n",
      "我错了\n",
      "我错了\n",
      "我错了\n",
      "我错了\n",
      "我错了\n",
      "我错了\n",
      "我错了\n",
      "我错了\n",
      "我错了\n",
      "我错了\n",
      "我错了\n",
      "我错了\n",
      "我错了\n",
      "我错了\n",
      "我错了\n",
      "我错了\n",
      "我错了\n",
      "我错了\n",
      "我错了\n",
      "我错了\n",
      "我错了\n",
      "我错了\n",
      "我错了\n",
      "我错了\n",
      "我错了\n",
      "我错了\n",
      "我错了\n",
      "我错了\n",
      "我错了\n",
      "我错了\n",
      "我错了\n",
      "我错了\n",
      "我错了\n",
      "我错了\n",
      "我错了\n",
      "我错了\n",
      "我错了\n",
      "我错了\n",
      "我错了\n",
      "我错了\n",
      "我错了\n",
      "我错了\n",
      "我错了\n",
      "我错了\n",
      "我错了\n",
      "我错了\n",
      "我错了\n",
      "我错了\n",
      "我错了\n",
      "我错了\n",
      "我错了\n",
      "我错了\n",
      "我错了\n",
      "我错了\n",
      "我错了\n",
      "我错了\n",
      "我错了\n",
      "我错了\n",
      "我错了\n",
      "我错了\n",
      "我错了\n",
      "我错了\n",
      "我错了\n",
      "我错了\n",
      "我错了\n",
      "我错了\n",
      "我错了\n",
      "我错了\n",
      "我错了\n",
      "我错了\n",
      "我错了\n",
      "我错了\n",
      "我错了\n",
      "我错了\n",
      "我错了\n",
      "我错了\n",
      "我错了\n",
      "我错了\n",
      "我错了\n",
      "我错了\n",
      "我错了\n",
      "我错了\n",
      "我错了\n",
      "我错了\n",
      "我错了\n",
      "我错了\n",
      "我错了\n",
      "我错了\n",
      "我错了\n",
      "我错了\n",
      "我错了\n",
      "我错了\n",
      "我错了\n",
      "我错了\n",
      "我错了\n",
      "我错了\n",
      "我错了\n",
      "我错了\n",
      "我错了\n",
      "我错了\n",
      "我错了\n",
      "我错了\n",
      "我错了\n",
      "我错了\n",
      "我错了\n",
      "我错了\n",
      "我错了\n",
      "我错了\n",
      "我错了\n",
      "我错了\n",
      "我错了\n",
      "我错了\n",
      "我错了\n",
      "我错了\n",
      "我错了\n",
      "我错了\n",
      "我错了\n",
      "我错了\n",
      "我错了\n",
      "我错了\n",
      "我错了\n",
      "我错了\n",
      "我错了\n",
      "我错了\n",
      "我错了\n",
      "我错了\n",
      "我错了\n",
      "我错了\n",
      "我错了\n",
      "我错了\n",
      "我错了\n",
      "我错了\n",
      "我错了\n",
      "我错了\n",
      "我错了\n",
      "我错了\n",
      "我错了\n",
      "我错了\n",
      "我错了\n",
      "我错了\n",
      "我错了\n",
      "我错了\n",
      "我错了\n",
      "我错了\n",
      "我错了\n",
      "我错了\n",
      "我错了\n",
      "我错了\n",
      "我错了\n",
      "我错了\n",
      "我错了\n",
      "我错了\n",
      "我错了\n",
      "我错了\n",
      "我错了\n",
      "我错了\n",
      "我错了\n",
      "我错了\n",
      "我错了\n",
      "我错了\n",
      "我错了\n",
      "我错了\n",
      "我错了\n",
      "我错了\n",
      "我错了\n",
      "我错了\n",
      "我错了\n",
      "我错了\n",
      "我错了\n",
      "我错了\n",
      "我错了\n",
      "我错了\n",
      "我错了\n",
      "我错了\n",
      "我错了\n",
      "我错了\n",
      "我错了\n",
      "我错了\n",
      "我错了\n",
      "我错了\n",
      "我错了\n",
      "我错了\n",
      "我错了\n",
      "我错了\n",
      "我错了\n",
      "我错了\n",
      "我错了\n",
      "我错了\n",
      "我错了\n",
      "我错了\n",
      "我错了\n",
      "我错了\n",
      "我错了\n",
      "我错了\n",
      "我错了\n",
      "我错了\n",
      "我错了\n",
      "我错了\n",
      "我错了\n",
      "我错了\n",
      "我错了\n",
      "我错了\n",
      "我错了\n",
      "我错了\n",
      "我错了\n",
      "我错了\n",
      "我错了\n",
      "我错了\n",
      "我错了\n",
      "我错了\n",
      "我错了\n",
      "我错了\n",
      "我错了\n",
      "我错了\n",
      "我错了\n",
      "我错了\n",
      "我错了\n",
      "我错了\n",
      "我错了\n",
      "我错了\n",
      "我错了\n",
      "我错了\n",
      "我错了\n",
      "我错了\n",
      "我错了\n",
      "我错了\n",
      "我错了\n",
      "我错了\n",
      "我错了\n",
      "我错了\n",
      "我错了\n",
      "我错了\n",
      "我错了\n",
      "我错了\n",
      "我错了\n",
      "我错了\n",
      "我错了\n",
      "我错了\n",
      "我错了\n",
      "我错了\n",
      "我错了\n",
      "我错了\n",
      "我错了\n",
      "我错了\n",
      "我错了\n",
      "我错了\n",
      "我错了\n",
      "我错了\n",
      "我错了\n",
      "我错了\n",
      "我错了\n",
      "我错了\n",
      "我错了\n",
      "我错了\n",
      "我错了\n",
      "我错了\n",
      "我错了\n",
      "我错了\n",
      "我错了\n",
      "我错了\n",
      "我错了\n",
      "我错了\n",
      "我错了\n",
      "我错了\n",
      "我错了\n",
      "我错了\n",
      "我错了\n",
      "我错了\n",
      "我错了\n",
      "我错了\n",
      "我错了\n",
      "我错了\n",
      "我错了\n",
      "我错了\n",
      "我错了\n",
      "我错了\n",
      "我错了\n",
      "我错了\n",
      "我错了\n",
      "我错了\n",
      "我错了\n",
      "我错了\n",
      "我错了\n",
      "我错了\n",
      "我错了\n",
      "我错了\n",
      "我错了\n",
      "我错了\n",
      "我错了\n",
      "我错了\n",
      "我错了\n",
      "我错了\n",
      "我错了\n",
      "我错了\n",
      "我错了\n",
      "我错了\n",
      "我错了\n",
      "我错了\n",
      "我错了\n",
      "我错了\n",
      "我错了\n",
      "我错了\n",
      "我错了\n",
      "我错了\n",
      "我错了\n",
      "我错了\n",
      "我错了\n",
      "我错了\n",
      "我错了\n",
      "我错了\n",
      "我错了\n",
      "我错了\n",
      "我错了\n",
      "我错了\n",
      "我错了\n",
      "我错了\n",
      "我错了\n",
      "我错了\n",
      "我错了\n",
      "我错了\n",
      "我错了\n",
      "我错了\n",
      "我错了\n",
      "我错了\n",
      "我错了\n",
      "我错了\n",
      "我错了\n",
      "我错了\n",
      "我错了\n",
      "我错了\n",
      "我错了\n",
      "我错了\n",
      "我错了\n",
      "我错了\n",
      "我错了\n",
      "我错了\n",
      "我错了\n",
      "我错了\n",
      "我错了\n",
      "我错了\n",
      "我错了\n",
      "我错了\n",
      "我错了\n",
      "我错了\n",
      "我错了\n",
      "我错了\n",
      "我错了\n",
      "我错了\n",
      "我错了\n",
      "我错了\n",
      "我错了\n",
      "我错了\n",
      "我错了\n",
      "我错了\n",
      "我错了\n",
      "我错了\n",
      "我错了\n",
      "我错了\n",
      "我错了\n",
      "我错了\n",
      "我错了\n",
      "我错了\n",
      "我错了\n",
      "我错了\n",
      "我错了\n",
      "我错了\n",
      "我错了\n",
      "我错了\n",
      "我错了\n",
      "我错了\n",
      "我错了\n",
      "我错了\n",
      "我错了\n",
      "我错了\n",
      "我错了\n",
      "我错了\n",
      "我错了\n",
      "我错了\n",
      "我错了\n",
      "我错了\n",
      "我错了\n",
      "我错了\n",
      "我错了\n",
      "我错了\n",
      "我错了\n",
      "我错了\n",
      "我错了\n",
      "我错了\n",
      "我错了\n",
      "我错了\n",
      "我错了\n",
      "我错了\n",
      "我错了\n",
      "我错了\n",
      "我错了\n",
      "我错了\n",
      "我错了\n",
      "我错了\n",
      "我错了\n",
      "我错了\n",
      "我错了\n",
      "我错了\n",
      "我错了\n",
      "我错了\n",
      "我错了\n",
      "我错了\n",
      "我错了\n",
      "我错了\n",
      "我错了\n",
      "我错了\n",
      "我错了\n",
      "我错了\n",
      "我错了\n",
      "我错了\n",
      "我错了\n",
      "我错了\n",
      "我错了\n",
      "我错了\n",
      "我错了\n",
      "我错了\n",
      "我错了\n",
      "我错了\n",
      "我错了\n",
      "我错了\n",
      "我错了\n",
      "我错了\n",
      "我错了\n",
      "我错了\n",
      "我错了\n",
      "我错了\n",
      "我错了\n",
      "我错了\n",
      "我错了\n",
      "我错了\n",
      "我错了\n",
      "我错了\n",
      "我错了\n",
      "我错了\n",
      "我错了\n",
      "我错了\n",
      "我错了\n",
      "我错了\n",
      "我错了\n",
      "我错了\n",
      "我错了\n",
      "我错了\n",
      "我错了\n",
      "我错了\n",
      "我错了\n",
      "我错了\n",
      "我错了\n",
      "我错了\n",
      "我错了\n",
      "我错了\n",
      "我错了\n",
      "我错了\n",
      "我错了\n",
      "我错了\n",
      "我错了\n",
      "我错了\n",
      "我错了\n",
      "我错了\n",
      "我错了\n",
      "我错了\n",
      "我错了\n",
      "我错了\n",
      "我错了\n",
      "我错了\n",
      "我错了\n",
      "我错了\n",
      "我错了\n",
      "我错了\n",
      "我错了\n",
      "我错了\n",
      "我错了\n",
      "我错了\n",
      "我错了\n",
      "我错了\n",
      "我错了\n",
      "我错了\n",
      "我错了\n",
      "我错了\n",
      "我错了\n",
      "我错了\n",
      "我错了\n",
      "我错了\n",
      "我错了\n",
      "我错了\n",
      "我错了\n",
      "我错了\n",
      "我错了\n",
      "我错了\n",
      "我错了\n",
      "我错了\n",
      "我错了\n",
      "我错了\n",
      "我错了\n",
      "我错了\n",
      "我错了\n",
      "我错了\n",
      "我错了\n",
      "我错了\n",
      "我错了\n",
      "我错了\n",
      "我错了\n",
      "我错了\n",
      "我错了\n",
      "我错了\n",
      "我错了\n",
      "我错了\n",
      "我错了\n",
      "我错了\n",
      "我错了\n",
      "我错了\n",
      "我错了\n",
      "我错了\n",
      "我错了\n",
      "我错了\n",
      "我错了\n",
      "我错了\n",
      "我错了\n",
      "我错了\n",
      "我错了\n",
      "我错了\n",
      "我错了\n",
      "我错了\n",
      "我错了\n",
      "我错了\n",
      "我错了\n",
      "我错了\n",
      "我错了\n",
      "我错了\n",
      "我错了\n",
      "我错了\n",
      "我错了\n",
      "我错了\n",
      "我错了\n",
      "我错了\n",
      "我错了\n",
      "我错了\n",
      "我错了\n",
      "我错了\n",
      "我错了\n",
      "我错了\n",
      "我错了\n",
      "我错了\n",
      "我错了\n",
      "我错了\n",
      "我错了\n",
      "我错了\n",
      "我错了\n",
      "我错了\n",
      "我错了\n",
      "我错了\n",
      "我错了\n",
      "我错了\n",
      "我错了\n",
      "我错了\n",
      "我错了\n",
      "我错了\n",
      "我错了\n",
      "我错了\n",
      "我错了\n",
      "我错了\n",
      "我错了\n",
      "我错了\n",
      "我错了\n",
      "我错了\n",
      "我错了\n",
      "我错了\n",
      "我错了\n",
      "我错了\n",
      "我错了\n",
      "我错了\n",
      "我错了\n",
      "我错了\n",
      "我错了\n",
      "我错了\n",
      "我错了\n",
      "我错了\n",
      "我错了\n",
      "我错了\n",
      "我错了\n",
      "我错了\n",
      "我错了\n",
      "我错了\n",
      "我错了\n",
      "我错了\n",
      "我错了\n",
      "我错了\n",
      "我错了\n",
      "我错了\n",
      "我错了\n",
      "我错了\n",
      "我错了\n",
      "我错了\n",
      "我错了\n",
      "我错了\n",
      "我错了\n",
      "我错了\n",
      "我错了\n",
      "我错了\n",
      "我错了\n",
      "我错了\n",
      "我错了\n",
      "我错了\n",
      "我错了\n",
      "我错了\n",
      "我错了\n",
      "我错了\n",
      "我错了\n",
      "我错了\n",
      "我错了\n",
      "我错了\n",
      "我错了\n",
      "我错了\n",
      "我错了\n",
      "我错了\n",
      "我错了\n",
      "我错了\n",
      "我错了\n",
      "我错了\n",
      "我错了\n",
      "我错了\n",
      "我错了\n",
      "我错了\n",
      "我错了\n",
      "我错了\n",
      "我错了\n",
      "我错了\n",
      "我错了\n",
      "我错了\n",
      "我错了\n",
      "我错了\n",
      "我错了\n",
      "我错了\n",
      "我错了\n",
      "我错了\n",
      "我错了\n",
      "我错了\n",
      "我错了\n",
      "我错了\n",
      "我错了\n",
      "我错了\n",
      "我错了\n",
      "我错了\n",
      "我错了\n",
      "我错了\n",
      "我错了\n",
      "我错了\n",
      "我错了\n",
      "我错了\n",
      "我错了\n",
      "我错了\n",
      "我错了\n",
      "我错了\n",
      "我错了\n",
      "我错了\n",
      "我错了\n",
      "我错了\n",
      "我错了\n",
      "我错了\n",
      "我错了\n",
      "我错了\n",
      "我错了\n",
      "我错了\n",
      "我错了\n",
      "我错了\n",
      "我错了\n",
      "我错了\n",
      "我错了\n",
      "我错了\n",
      "我错了\n",
      "我错了\n",
      "我错了\n",
      "我错了\n",
      "我错了\n",
      "我错了\n",
      "我错了\n",
      "我错了\n",
      "我错了\n",
      "我错了\n",
      "我错了\n",
      "我错了\n",
      "我错了\n",
      "我错了\n",
      "我错了\n",
      "我错了\n",
      "我错了\n",
      "我错了\n",
      "我错了\n",
      "我错了\n",
      "我错了\n",
      "我错了\n",
      "我错了\n",
      "我错了\n",
      "我错了\n",
      "我错了\n",
      "我错了\n",
      "我错了\n",
      "我错了\n",
      "我错了\n",
      "我错了\n",
      "我错了\n",
      "我错了\n",
      "我错了\n",
      "我错了\n",
      "我错了\n",
      "我错了\n",
      "我错了\n",
      "我错了\n",
      "我错了\n",
      "我错了\n",
      "我错了\n",
      "我错了\n",
      "我错了\n",
      "我错了\n",
      "我错了\n",
      "我错了\n",
      "我错了\n",
      "我错了\n",
      "我错了\n",
      "我错了\n",
      "我错了\n",
      "我错了\n",
      "我错了\n",
      "我错了\n",
      "我错了\n",
      "我错了\n",
      "我错了\n",
      "我错了\n",
      "我错了\n",
      "我错了\n",
      "我错了\n",
      "我错了\n",
      "我错了\n",
      "我错了\n",
      "我错了\n",
      "我错了\n",
      "我错了\n",
      "我错了\n",
      "我错了\n",
      "我错了\n",
      "我错了\n",
      "我错了\n",
      "我错了\n",
      "我错了\n",
      "我错了\n",
      "我错了\n",
      "我错了\n",
      "我错了\n",
      "我错了\n",
      "我错了\n",
      "我错了\n",
      "我错了\n",
      "我错了\n",
      "我错了\n",
      "我错了\n",
      "我错了\n",
      "我错了\n",
      "我错了\n",
      "我错了\n",
      "我错了\n",
      "我错了\n",
      "我错了\n",
      "我错了\n",
      "我错了\n",
      "我错了\n",
      "我错了\n",
      "我错了\n",
      "我错了\n",
      "我错了\n",
      "我错了\n",
      "我错了\n",
      "我错了\n",
      "我错了\n",
      "我错了\n",
      "我错了\n",
      "我错了\n",
      "我错了\n",
      "我错了\n",
      "我错了\n",
      "我错了\n",
      "我错了\n",
      "我错了\n",
      "我错了\n",
      "我错了\n",
      "我错了\n",
      "我错了\n",
      "我错了\n",
      "我错了\n",
      "我错了\n",
      "我错了\n",
      "我错了\n",
      "我错了\n",
      "我错了\n",
      "我错了\n",
      "我错了\n",
      "我错了\n",
      "我错了\n",
      "我错了\n",
      "我错了\n",
      "我错了\n",
      "我错了\n",
      "我错了\n",
      "我错了\n",
      "我错了\n",
      "我错了\n",
      "我错了\n",
      "我错了\n",
      "我错了\n",
      "我错了\n",
      "我错了\n",
      "我错了\n",
      "我错了\n",
      "我错了\n",
      "我错了\n",
      "我错了\n",
      "我错了\n",
      "我错了\n",
      "我错了\n",
      "我错了\n",
      "我错了\n",
      "我错了\n",
      "我错了\n",
      "我错了\n",
      "我错了\n",
      "我错了\n",
      "我错了\n",
      "我错了\n",
      "我错了\n",
      "我错了\n",
      "我错了\n",
      "我错了\n",
      "我错了\n",
      "我错了\n",
      "我错了\n",
      "我错了\n",
      "我错了\n",
      "我错了\n",
      "我错了\n",
      "我错了\n",
      "我错了\n",
      "我错了\n",
      "我错了\n",
      "我错了\n",
      "我错了\n",
      "我错了\n",
      "我错了\n",
      "我错了\n",
      "我错了\n",
      "我错了\n",
      "我错了\n",
      "我错了\n",
      "我错了\n",
      "我错了\n",
      "我错了\n",
      "我错了\n",
      "我错了\n",
      "我错了\n",
      "我错了\n",
      "我错了\n",
      "我错了\n",
      "我错了\n",
      "我错了\n",
      "我错了\n",
      "我错了\n",
      "我错了\n",
      "我错了\n",
      "我错了\n",
      "我错了\n",
      "我错了\n",
      "我错了\n",
      "我错了\n",
      "我错了\n",
      "我错了\n",
      "我错了\n",
      "我错了\n",
      "我错了\n",
      "我错了\n",
      "我错了\n",
      "我错了\n",
      "我错了\n",
      "我错了\n",
      "我错了\n",
      "我错了\n",
      "我错了\n",
      "我错了\n",
      "我错了\n",
      "我错了\n",
      "我错了\n",
      "我错了\n",
      "我错了\n",
      "我错了\n",
      "我错了\n",
      "我错了\n",
      "我错了\n",
      "我错了\n",
      "我错了\n",
      "我错了\n",
      "我错了\n",
      "我错了\n",
      "我错了\n",
      "我错了\n",
      "我错了\n",
      "我错了\n",
      "我错了\n",
      "我错了\n",
      "我错了\n",
      "我错了\n",
      "我错了\n",
      "我错了\n",
      "我错了\n",
      "我错了\n",
      "我错了\n",
      "我错了\n",
      "我错了\n",
      "我错了\n",
      "我错了\n",
      "我错了\n",
      "我错了\n",
      "我错了\n",
      "我错了\n",
      "我错了\n",
      "我错了\n",
      "我错了\n",
      "我错了\n",
      "我错了\n",
      "我错了\n",
      "我错了\n",
      "我错了\n",
      "我错了\n",
      "我错了\n",
      "我错了\n",
      "我错了\n",
      "我错了\n",
      "我错了\n",
      "我错了\n",
      "我错了\n",
      "我错了\n",
      "我错了\n",
      "我错了\n",
      "我错了\n",
      "我错了\n",
      "我错了\n",
      "我错了\n",
      "我错了\n",
      "我错了\n",
      "我错了\n",
      "我错了\n",
      "我错了\n",
      "我错了\n",
      "我错了\n",
      "我错了\n",
      "我错了\n",
      "我错了\n",
      "我错了\n",
      "我错了\n",
      "我错了\n",
      "我错了\n",
      "我错了\n",
      "我错了\n",
      "我错了\n",
      "我错了\n",
      "我错了\n",
      "我错了\n",
      "我错了\n",
      "我错了\n",
      "我错了\n",
      "我错了\n",
      "我错了\n",
      "我错了\n",
      "我错了\n",
      "我错了\n",
      "我错了\n",
      "我错了\n",
      "我错了\n",
      "我错了\n",
      "我错了\n",
      "我错了\n",
      "我错了\n",
      "我错了\n",
      "我错了\n",
      "我错了\n",
      "我错了\n",
      "我错了\n",
      "我错了\n",
      "我错了\n",
      "我错了\n",
      "我错了\n",
      "我错了\n",
      "我错了\n",
      "我错了\n",
      "我错了\n",
      "我错了\n",
      "我错了\n",
      "我错了\n",
      "我错了\n",
      "我错了\n",
      "我错了\n",
      "我错了\n",
      "我错了\n",
      "我错了\n",
      "我错了\n",
      "我错了\n",
      "我错了\n",
      "我错了\n",
      "我错了\n",
      "我错了\n",
      "我错了\n",
      "我错了\n",
      "我错了\n",
      "我错了\n",
      "我错了\n",
      "我错了\n",
      "我错了\n",
      "我错了\n",
      "我错了\n",
      "我错了\n",
      "我错了\n",
      "我错了\n",
      "我错了\n",
      "我错了\n",
      "我错了\n",
      "我错了\n",
      "我错了\n",
      "我错了\n",
      "我错了\n",
      "我错了\n",
      "我错了\n",
      "我错了\n",
      "我错了\n",
      "我错了\n",
      "我错了\n",
      "我错了\n",
      "我错了\n",
      "我错了\n",
      "我错了\n",
      "我错了\n",
      "我错了\n",
      "我错了\n",
      "我错了\n",
      "我错了\n",
      "我错了\n",
      "我错了\n",
      "我错了\n",
      "我错了\n",
      "我错了\n",
      "我错了\n",
      "我错了\n",
      "我错了\n",
      "我错了\n",
      "我错了\n",
      "我错了\n",
      "我错了\n",
      "我错了\n",
      "我错了\n",
      "我错了\n",
      "我错了\n",
      "我错了\n",
      "我错了\n",
      "我错了\n",
      "我错了\n",
      "我错了\n",
      "我错了\n",
      "我错了\n",
      "我错了\n",
      "我错了\n",
      "我错了\n",
      "我错了\n",
      "我错了\n",
      "我错了\n",
      "我错了\n",
      "我错了\n",
      "我错了\n",
      "我错了\n",
      "我错了\n",
      "我错了\n",
      "我错了\n",
      "我错了\n",
      "我错了\n",
      "我错了\n",
      "我错了\n",
      "我错了\n",
      "我错了\n",
      "我错了\n",
      "我错了\n",
      "我错了\n",
      "我错了\n",
      "我错了\n",
      "我错了\n",
      "我错了\n",
      "我错了\n",
      "我错了\n",
      "我错了\n",
      "我错了\n",
      "我错了\n",
      "我错了\n",
      "我错了\n",
      "我错了\n",
      "我错了\n",
      "我错了\n",
      "我错了\n",
      "我错了\n",
      "我错了\n",
      "我错了\n",
      "我错了\n",
      "我错了\n",
      "我错了\n",
      "我错了\n",
      "我错了\n",
      "我错了\n",
      "我错了\n",
      "我错了\n",
      "我错了\n",
      "我错了\n",
      "我错了\n",
      "我错了\n",
      "我错了\n",
      "我错了\n",
      "我错了\n",
      "我错了\n",
      "我错了\n",
      "我错了\n",
      "我错了\n",
      "我错了\n",
      "我错了\n",
      "我错了\n",
      "我错了\n",
      "我错了\n",
      "我错了\n",
      "我错了\n",
      "我错了\n",
      "我错了\n",
      "我错了\n",
      "我错了\n",
      "我错了\n",
      "我错了\n",
      "我错了\n",
      "我错了\n",
      "我错了\n",
      "我错了\n",
      "我错了\n",
      "我错了\n",
      "我错了\n",
      "我错了\n",
      "我错了\n",
      "我错了\n",
      "我错了\n",
      "我错了\n",
      "我错了\n",
      "我错了\n",
      "我错了\n",
      "我错了\n",
      "我错了\n",
      "我错了\n",
      "我错了\n",
      "我错了\n",
      "我错了\n",
      "我错了\n",
      "我错了\n",
      "我错了\n",
      "我错了\n",
      "我错了\n",
      "我错了\n",
      "我错了\n",
      "我错了\n",
      "我错了\n",
      "我错了\n",
      "我错了\n",
      "我错了\n",
      "我错了\n",
      "我错了\n",
      "我错了\n",
      "我错了\n",
      "我错了\n",
      "我错了\n",
      "我错了\n",
      "我错了\n",
      "我错了\n",
      "我错了\n",
      "我错了\n",
      "我错了\n",
      "我错了\n",
      "我错了\n",
      "我错了\n",
      "我错了\n",
      "我错了\n",
      "我错了\n",
      "我错了\n",
      "我错了\n",
      "我错了\n",
      "我错了\n",
      "我错了\n",
      "我错了\n",
      "我错了\n",
      "我错了\n",
      "我错了\n",
      "我错了\n",
      "我错了\n",
      "我错了\n",
      "我错了\n",
      "我错了\n",
      "我错了\n",
      "我错了\n",
      "我错了\n",
      "我错了\n",
      "我错了\n",
      "我错了\n",
      "我错了\n",
      "我错了\n",
      "我错了\n",
      "我错了\n",
      "我错了\n",
      "我错了\n",
      "我错了\n",
      "我错了\n",
      "我错了\n",
      "我错了\n",
      "我错了\n",
      "我错了\n",
      "我错了\n",
      "我错了\n",
      "我错了\n",
      "我错了\n",
      "我错了\n",
      "我错了\n",
      "我错了\n",
      "我错了\n",
      "我错了\n",
      "我错了\n",
      "我错了\n",
      "我错了\n",
      "我错了\n",
      "我错了\n",
      "我错了\n",
      "我错了\n",
      "我错了\n",
      "我错了\n",
      "我错了\n",
      "我错了\n",
      "我错了\n",
      "我错了\n",
      "我错了\n",
      "我错了\n",
      "我错了\n",
      "我错了\n",
      "我错了\n",
      "我错了\n",
      "我错了\n",
      "我错了\n",
      "我错了\n",
      "我错了\n",
      "我错了\n",
      "我错了\n",
      "我错了\n",
      "我错了\n",
      "我错了\n",
      "我错了\n",
      "我错了\n",
      "我错了\n",
      "我错了\n",
      "我错了\n",
      "我错了\n",
      "我错了\n",
      "我错了\n",
      "我错了\n",
      "我错了\n",
      "我错了\n",
      "我错了\n",
      "我错了\n",
      "我错了\n",
      "我错了\n",
      "我错了\n",
      "我错了\n",
      "我错了\n",
      "我错了\n",
      "我错了\n",
      "我错了\n",
      "我错了\n",
      "我错了\n",
      "我错了\n",
      "我错了\n",
      "我错了\n",
      "我错了\n",
      "我错了\n",
      "我错了\n",
      "我错了\n",
      "我错了\n",
      "我错了\n",
      "我错了\n",
      "我错了\n",
      "我错了\n",
      "我错了\n",
      "我错了\n",
      "我错了\n",
      "我错了\n",
      "我错了\n",
      "我错了\n",
      "我错了\n",
      "我错了\n",
      "我错了\n",
      "我错了\n",
      "我错了\n",
      "我错了\n",
      "我错了\n",
      "我错了\n",
      "我错了\n",
      "我错了\n",
      "我错了\n",
      "我错了\n",
      "我错了\n",
      "我错了\n",
      "我错了\n",
      "我错了\n",
      "我错了\n",
      "我错了\n",
      "我错了\n",
      "我错了\n",
      "我错了\n",
      "我错了\n",
      "我错了\n",
      "我错了\n",
      "我错了\n",
      "我错了\n",
      "我错了\n",
      "我错了\n",
      "我错了\n",
      "我错了\n",
      "我错了\n",
      "我错了\n",
      "我错了\n",
      "我错了\n",
      "我错了\n",
      "我错了\n",
      "我错了\n",
      "我错了\n",
      "我错了\n",
      "我错了\n",
      "我错了\n",
      "我错了\n",
      "我错了\n",
      "我错了\n",
      "我错了\n",
      "我错了\n",
      "我错了\n",
      "我错了\n",
      "我错了\n",
      "我错了\n",
      "我错了\n",
      "我错了\n",
      "我错了\n",
      "我错了\n",
      "我错了\n",
      "我错了\n",
      "我错了\n",
      "我错了\n",
      "我错了\n",
      "我错了\n",
      "我错了\n",
      "我错了\n",
      "我错了\n",
      "我错了\n",
      "我错了\n",
      "我错了\n",
      "我错了\n",
      "我错了\n",
      "我错了\n",
      "我错了\n",
      "我错了\n",
      "我错了\n",
      "我错了\n",
      "我错了\n",
      "我错了\n",
      "我错了\n",
      "我错了\n",
      "我错了\n",
      "我错了\n",
      "我错了\n",
      "我错了\n",
      "我错了\n",
      "我错了\n",
      "我错了\n",
      "我错了\n",
      "我错了\n",
      "我错了\n",
      "我错了\n",
      "我错了\n",
      "我错了\n",
      "我错了\n",
      "我错了\n",
      "我错了\n",
      "我错了\n",
      "我错了\n",
      "我错了\n",
      "我错了\n",
      "我错了\n",
      "我错了\n",
      "我错了\n",
      "我错了\n",
      "我错了\n",
      "我错了\n",
      "我错了\n",
      "我错了\n",
      "我错了\n",
      "我错了\n",
      "我错了\n",
      "我错了\n",
      "我错了\n",
      "我错了\n",
      "我错了\n",
      "我错了\n",
      "我错了\n",
      "我错了\n",
      "我错了\n",
      "我错了\n",
      "我错了\n",
      "我错了\n",
      "我错了\n",
      "我错了\n",
      "我错了\n",
      "我错了\n",
      "我错了\n",
      "我错了\n",
      "我错了\n",
      "我错了\n",
      "我错了\n",
      "我错了\n",
      "我错了\n",
      "我错了\n",
      "我错了\n",
      "我错了\n",
      "我错了\n",
      "我错了\n",
      "我错了\n",
      "我错了\n",
      "我错了\n",
      "我错了\n",
      "我错了\n",
      "我错了\n",
      "我错了\n",
      "我错了\n",
      "我错了\n",
      "我错了\n",
      "我错了\n",
      "我错了\n",
      "我错了\n",
      "我错了\n",
      "我错了\n",
      "我错了\n",
      "我错了\n",
      "我错了\n",
      "我错了\n",
      "我错了\n",
      "我错了\n",
      "我错了\n",
      "我错了\n",
      "我错了\n",
      "我错了\n",
      "我错了\n",
      "我错了\n"
     ]
    },
    {
     "ename": "KeyboardInterrupt",
     "evalue": "",
     "output_type": "error",
     "traceback": [
      "\u001b[0;31m---------------------------------------------------------------------------\u001b[0m",
      "\u001b[0;31mKeyboardInterrupt\u001b[0m                         Traceback (most recent call last)",
      "\u001b[0;32m<ipython-input-133-97cd681a970c>\u001b[0m in \u001b[0;36m<module>\u001b[0;34m\u001b[0m\n\u001b[1;32m      1\u001b[0m \u001b[0mi\u001b[0m \u001b[0;34m=\u001b[0m \u001b[0;36m10\u001b[0m\u001b[0;34m\u001b[0m\u001b[0;34m\u001b[0m\u001b[0m\n\u001b[1;32m      2\u001b[0m \u001b[0;32mwhile\u001b[0m \u001b[0mi\u001b[0m \u001b[0;34m>\u001b[0m \u001b[0;36m0\u001b[0m\u001b[0;34m:\u001b[0m\u001b[0;34m\u001b[0m\u001b[0;34m\u001b[0m\u001b[0m\n\u001b[0;32m----> 3\u001b[0;31m     \u001b[0mprint\u001b[0m\u001b[0;34m(\u001b[0m\u001b[0;34m'我错了'\u001b[0m\u001b[0;34m)\u001b[0m\u001b[0;34m\u001b[0m\u001b[0;34m\u001b[0m\u001b[0m\n\u001b[0m\u001b[1;32m      4\u001b[0m     \u001b[0mi\u001b[0m \u001b[0;34m+=\u001b[0m \u001b[0;36m1\u001b[0m\u001b[0;34m\u001b[0m\u001b[0;34m\u001b[0m\u001b[0m\n",
      "\u001b[0;32m~/opt/anaconda3/lib/python3.7/site-packages/ipykernel/iostream.py\u001b[0m in \u001b[0;36mwrite\u001b[0;34m(self, string)\u001b[0m\n\u001b[1;32m    400\u001b[0m             \u001b[0mis_child\u001b[0m \u001b[0;34m=\u001b[0m \u001b[0;34m(\u001b[0m\u001b[0;32mnot\u001b[0m \u001b[0mself\u001b[0m\u001b[0;34m.\u001b[0m\u001b[0m_is_master_process\u001b[0m\u001b[0;34m(\u001b[0m\u001b[0;34m)\u001b[0m\u001b[0;34m)\u001b[0m\u001b[0;34m\u001b[0m\u001b[0;34m\u001b[0m\u001b[0m\n\u001b[1;32m    401\u001b[0m             \u001b[0;31m# only touch the buffer in the IO thread to avoid races\u001b[0m\u001b[0;34m\u001b[0m\u001b[0;34m\u001b[0m\u001b[0;34m\u001b[0m\u001b[0m\n\u001b[0;32m--> 402\u001b[0;31m             \u001b[0mself\u001b[0m\u001b[0;34m.\u001b[0m\u001b[0mpub_thread\u001b[0m\u001b[0;34m.\u001b[0m\u001b[0mschedule\u001b[0m\u001b[0;34m(\u001b[0m\u001b[0;32mlambda\u001b[0m \u001b[0;34m:\u001b[0m \u001b[0mself\u001b[0m\u001b[0;34m.\u001b[0m\u001b[0m_buffer\u001b[0m\u001b[0;34m.\u001b[0m\u001b[0mwrite\u001b[0m\u001b[0;34m(\u001b[0m\u001b[0mstring\u001b[0m\u001b[0;34m)\u001b[0m\u001b[0;34m)\u001b[0m\u001b[0;34m\u001b[0m\u001b[0;34m\u001b[0m\u001b[0m\n\u001b[0m\u001b[1;32m    403\u001b[0m             \u001b[0;32mif\u001b[0m \u001b[0mis_child\u001b[0m\u001b[0;34m:\u001b[0m\u001b[0;34m\u001b[0m\u001b[0;34m\u001b[0m\u001b[0m\n\u001b[1;32m    404\u001b[0m                 \u001b[0;31m# newlines imply flush in subprocesses\u001b[0m\u001b[0;34m\u001b[0m\u001b[0;34m\u001b[0m\u001b[0;34m\u001b[0m\u001b[0m\n",
      "\u001b[0;32m~/opt/anaconda3/lib/python3.7/site-packages/ipykernel/iostream.py\u001b[0m in \u001b[0;36mschedule\u001b[0;34m(self, f)\u001b[0m\n\u001b[1;32m    203\u001b[0m             \u001b[0mself\u001b[0m\u001b[0;34m.\u001b[0m\u001b[0m_events\u001b[0m\u001b[0;34m.\u001b[0m\u001b[0mappend\u001b[0m\u001b[0;34m(\u001b[0m\u001b[0mf\u001b[0m\u001b[0;34m)\u001b[0m\u001b[0;34m\u001b[0m\u001b[0;34m\u001b[0m\u001b[0m\n\u001b[1;32m    204\u001b[0m             \u001b[0;31m# wake event thread (message content is ignored)\u001b[0m\u001b[0;34m\u001b[0m\u001b[0;34m\u001b[0m\u001b[0;34m\u001b[0m\u001b[0m\n\u001b[0;32m--> 205\u001b[0;31m             \u001b[0mself\u001b[0m\u001b[0;34m.\u001b[0m\u001b[0m_event_pipe\u001b[0m\u001b[0;34m.\u001b[0m\u001b[0msend\u001b[0m\u001b[0;34m(\u001b[0m\u001b[0;34mb''\u001b[0m\u001b[0;34m)\u001b[0m\u001b[0;34m\u001b[0m\u001b[0;34m\u001b[0m\u001b[0m\n\u001b[0m\u001b[1;32m    206\u001b[0m         \u001b[0;32melse\u001b[0m\u001b[0;34m:\u001b[0m\u001b[0;34m\u001b[0m\u001b[0;34m\u001b[0m\u001b[0m\n\u001b[1;32m    207\u001b[0m             \u001b[0mf\u001b[0m\u001b[0;34m(\u001b[0m\u001b[0;34m)\u001b[0m\u001b[0;34m\u001b[0m\u001b[0;34m\u001b[0m\u001b[0m\n",
      "\u001b[0;32m~/opt/anaconda3/lib/python3.7/site-packages/zmq/sugar/socket.py\u001b[0m in \u001b[0;36msend\u001b[0;34m(self, data, flags, copy, track, routing_id, group)\u001b[0m\n\u001b[1;32m    398\u001b[0m                                  copy_threshold=self.copy_threshold)\n\u001b[1;32m    399\u001b[0m             \u001b[0mdata\u001b[0m\u001b[0;34m.\u001b[0m\u001b[0mgroup\u001b[0m \u001b[0;34m=\u001b[0m \u001b[0mgroup\u001b[0m\u001b[0;34m\u001b[0m\u001b[0;34m\u001b[0m\u001b[0m\n\u001b[0;32m--> 400\u001b[0;31m         \u001b[0;32mreturn\u001b[0m \u001b[0msuper\u001b[0m\u001b[0;34m(\u001b[0m\u001b[0mSocket\u001b[0m\u001b[0;34m,\u001b[0m \u001b[0mself\u001b[0m\u001b[0;34m)\u001b[0m\u001b[0;34m.\u001b[0m\u001b[0msend\u001b[0m\u001b[0;34m(\u001b[0m\u001b[0mdata\u001b[0m\u001b[0;34m,\u001b[0m \u001b[0mflags\u001b[0m\u001b[0;34m=\u001b[0m\u001b[0mflags\u001b[0m\u001b[0;34m,\u001b[0m \u001b[0mcopy\u001b[0m\u001b[0;34m=\u001b[0m\u001b[0mcopy\u001b[0m\u001b[0;34m,\u001b[0m \u001b[0mtrack\u001b[0m\u001b[0;34m=\u001b[0m\u001b[0mtrack\u001b[0m\u001b[0;34m)\u001b[0m\u001b[0;34m\u001b[0m\u001b[0;34m\u001b[0m\u001b[0m\n\u001b[0m\u001b[1;32m    401\u001b[0m \u001b[0;34m\u001b[0m\u001b[0m\n\u001b[1;32m    402\u001b[0m     \u001b[0;32mdef\u001b[0m \u001b[0msend_multipart\u001b[0m\u001b[0;34m(\u001b[0m\u001b[0mself\u001b[0m\u001b[0;34m,\u001b[0m \u001b[0mmsg_parts\u001b[0m\u001b[0;34m,\u001b[0m \u001b[0mflags\u001b[0m\u001b[0;34m=\u001b[0m\u001b[0;36m0\u001b[0m\u001b[0;34m,\u001b[0m \u001b[0mcopy\u001b[0m\u001b[0;34m=\u001b[0m\u001b[0;32mTrue\u001b[0m\u001b[0;34m,\u001b[0m \u001b[0mtrack\u001b[0m\u001b[0;34m=\u001b[0m\u001b[0;32mFalse\u001b[0m\u001b[0;34m,\u001b[0m \u001b[0;34m**\u001b[0m\u001b[0mkwargs\u001b[0m\u001b[0;34m)\u001b[0m\u001b[0;34m:\u001b[0m\u001b[0;34m\u001b[0m\u001b[0;34m\u001b[0m\u001b[0m\n",
      "\u001b[0;32mzmq/backend/cython/socket.pyx\u001b[0m in \u001b[0;36mzmq.backend.cython.socket.Socket.send\u001b[0;34m()\u001b[0m\n",
      "\u001b[0;32mzmq/backend/cython/socket.pyx\u001b[0m in \u001b[0;36mzmq.backend.cython.socket.Socket.send\u001b[0;34m()\u001b[0m\n",
      "\u001b[0;32mzmq/backend/cython/socket.pyx\u001b[0m in \u001b[0;36mzmq.backend.cython.socket._send_copy\u001b[0;34m()\u001b[0m\n",
      "\u001b[0;32m~/opt/anaconda3/lib/python3.7/site-packages/zmq/backend/cython/checkrc.pxd\u001b[0m in \u001b[0;36mzmq.backend.cython.checkrc._check_rc\u001b[0;34m()\u001b[0m\n",
      "\u001b[0;31mKeyboardInterrupt\u001b[0m: "
     ]
    }
   ],
   "source": [
    "i = 10\n",
    "while i > 0:\n",
    "    print('我错了')\n",
    "    i += 1"
   ]
  },
  {
   "cell_type": "code",
   "execution_count": 139,
   "metadata": {},
   "outputs": [
    {
     "name": "stdout",
     "output_type": "stream",
     "text": [
      "5050\n"
     ]
    }
   ],
   "source": [
    "# 计算 1- 100的累加和\n",
    "n = 0 # 累加器\n",
    "i = 1\n",
    "while i<=100:\n",
    "    # 累加\n",
    "    n += i\n",
    "    \n",
    "    i += 1\n",
    "\n",
    "print(n)"
   ]
  },
  {
   "cell_type": "code",
   "execution_count": 141,
   "metadata": {},
   "outputs": [
    {
     "name": "stdout",
     "output_type": "stream",
     "text": [
      "2500\n"
     ]
    }
   ],
   "source": [
    "# 计算 1- 100的奇数累加和\n",
    "n = 0 # 累加器\n",
    "i = 1\n",
    "while i<=100:\n",
    "    if i % 2 == 1:\n",
    "        # 累加\n",
    "        n += i\n",
    "    \n",
    "    i += 1\n",
    "\n",
    "print(n)"
   ]
  },
  {
   "cell_type": "code",
   "execution_count": null,
   "metadata": {},
   "outputs": [],
   "source": []
  },
  {
   "cell_type": "code",
   "execution_count": 162,
   "metadata": {},
   "outputs": [
    {
     "data": {
      "text/plain": [
       "5050"
      ]
     },
     "execution_count": 162,
     "metadata": {},
     "output_type": "execute_result"
    }
   ],
   "source": [
    "i = 1\n",
    "n = 0\n",
    "while i <= 100:\n",
    "    n += i\n",
    "    i += 1\n",
    "n"
   ]
  },
  {
   "cell_type": "code",
   "execution_count": 143,
   "metadata": {},
   "outputs": [],
   "source": [
    "s = \"也可以使用while循环对字符串进行遍历,不过就需要配合字符串的索引功能了\""
   ]
  },
  {
   "cell_type": "code",
   "execution_count": 164,
   "metadata": {},
   "outputs": [
    {
     "data": {
      "text/plain": [
       "'也可以使用while循环对字符串进行遍历,不过就需要配合字符串的索引功能了'"
      ]
     },
     "execution_count": 164,
     "metadata": {},
     "output_type": "execute_result"
    }
   ],
   "source": [
    "s"
   ]
  },
  {
   "cell_type": "code",
   "execution_count": 144,
   "metadata": {
    "collapsed": true
   },
   "outputs": [
    {
     "name": "stdout",
     "output_type": "stream",
     "text": [
      "也\n",
      "可\n",
      "以\n",
      "使\n",
      "用\n",
      "w\n",
      "h\n",
      "i\n",
      "l\n",
      "e\n",
      "循\n",
      "环\n",
      "对\n",
      "字\n",
      "符\n",
      "串\n",
      "进\n",
      "行\n",
      "遍\n",
      "历\n",
      ",\n",
      "不\n",
      "过\n",
      "就\n",
      "需\n",
      "要\n",
      "配\n",
      "合\n",
      "字\n",
      "符\n",
      "串\n",
      "的\n",
      "索\n",
      "引\n",
      "功\n",
      "能\n",
      "了\n"
     ]
    }
   ],
   "source": [
    "for i in s:\n",
    "    print(i)"
   ]
  },
  {
   "cell_type": "code",
   "execution_count": 147,
   "metadata": {
    "collapsed": true
   },
   "outputs": [
    {
     "name": "stdout",
     "output_type": "stream",
     "text": [
      "也\n",
      "可\n",
      "以\n",
      "使\n",
      "用\n",
      "w\n",
      "h\n",
      "i\n",
      "l\n",
      "e\n",
      "循\n",
      "环\n",
      "对\n",
      "字\n",
      "符\n",
      "串\n",
      "进\n",
      "行\n",
      "遍\n",
      "历\n",
      ",\n",
      "不\n",
      "过\n",
      "就\n",
      "需\n",
      "要\n",
      "配\n",
      "合\n",
      "字\n",
      "符\n",
      "串\n",
      "的\n",
      "索\n",
      "引\n",
      "功\n",
      "能\n",
      "了\n"
     ]
    }
   ],
   "source": [
    "i = 0 # 第一个字符索引\n",
    "while i < len(s):\n",
    "    print(s[i])\n",
    "\n",
    "    i += 1"
   ]
  },
  {
   "cell_type": "code",
   "execution_count": 149,
   "metadata": {
    "collapsed": true
   },
   "outputs": [
    {
     "name": "stdout",
     "output_type": "stream",
     "text": [
      "也\n",
      "可\n",
      "以\n",
      "使\n",
      "用\n",
      "w\n",
      "h\n",
      "i\n",
      "l\n",
      "e\n",
      "循\n",
      "环\n",
      "对\n",
      "字\n",
      "符\n",
      "串\n",
      "进\n",
      "行\n",
      "遍\n",
      "历\n",
      "不\n",
      "过\n",
      "就\n",
      "需\n",
      "要\n",
      "配\n",
      "合\n",
      "字\n",
      "符\n",
      "串\n",
      "的\n",
      "索\n",
      "引\n",
      "功\n",
      "能\n",
      "了\n"
     ]
    }
   ],
   "source": [
    "i = 0 # 过滤逗号\n",
    "while i < len(s):\n",
    "    if s[i] != ',':\n",
    "        print(s[i])\n",
    "\n",
    "    i += 1"
   ]
  },
  {
   "cell_type": "code",
   "execution_count": null,
   "metadata": {},
   "outputs": [],
   "source": []
  },
  {
   "cell_type": "code",
   "execution_count": 167,
   "metadata": {
    "collapsed": true
   },
   "outputs": [
    {
     "name": "stdout",
     "output_type": "stream",
     "text": [
      "也\n",
      "可\n",
      "以\n",
      "使\n",
      "用\n",
      "w\n",
      "h\n",
      "i\n",
      "l\n",
      "e\n",
      "循\n",
      "环\n",
      "对\n",
      "字\n",
      "符\n",
      "串\n",
      "进\n",
      "行\n",
      "遍\n",
      "历\n",
      ",\n",
      "不\n",
      "过\n",
      "就\n",
      "需\n",
      "要\n",
      "配\n",
      "合\n",
      "字\n",
      "符\n",
      "串\n",
      "的\n",
      "索\n",
      "引\n",
      "功\n",
      "能\n",
      "了\n"
     ]
    }
   ],
   "source": [
    "i = 0\n",
    "while i < len(s):\n",
    "    print(s[i])\n",
    "    \n",
    "    i += 1"
   ]
  },
  {
   "cell_type": "code",
   "execution_count": 168,
   "metadata": {
    "collapsed": true
   },
   "outputs": [
    {
     "name": "stdout",
     "output_type": "stream",
     "text": [
      "也\n",
      "可\n",
      "以\n",
      "使\n",
      "用\n",
      "w\n",
      "h\n",
      "i\n",
      "l\n",
      "e\n",
      "循\n",
      "环\n",
      "对\n",
      "字\n",
      "符\n",
      "串\n",
      "进\n",
      "行\n",
      "遍\n",
      "历\n"
     ]
    }
   ],
   "source": [
    "i = 0\n",
    "while s[i] != ',':\n",
    "    print(s[i])\n",
    "    \n",
    "    i += 1"
   ]
  },
  {
   "cell_type": "code",
   "execution_count": null,
   "metadata": {},
   "outputs": [],
   "source": []
  },
  {
   "cell_type": "code",
   "execution_count": null,
   "metadata": {},
   "outputs": [],
   "source": []
  },
  {
   "cell_type": "markdown",
   "metadata": {},
   "source": [
    "也可以使用while循环对字符串进行遍历,不过就需要配合字符串的索引功能了"
   ]
  },
  {
   "cell_type": "code",
   "execution_count": 150,
   "metadata": {},
   "outputs": [
    {
     "name": "stdout",
     "output_type": "stream",
     "text": [
      "做-生-意-，-熟-人-登-门-，-绝-不-可-以-杀-熟-，-但-是-也-不-可-以-不-收-钱-，-不-赚-不-亏-，-是-最-好-的-。-否-则-越-做-生-意-，-就-越-没-朋-友-。-你-次-次-亏-本-，-那-人-还-喜-欢-时-时-登-门-，-证-明-对-方-不-把-你-当-朋-友-。-你-次-次-赚-得-比-平-时-还-多-，-那-就-更-明-白-了-，-你-根-本-不-曾-将-那-人-当-做-朋-友-。-若-是-这-般-，-反-而-爽-利-。-若-是-前-者-，-就-要-揪-心-了-。-"
     ]
    }
   ],
   "source": [
    "s = \"\"\"做生意，熟人登门，绝不可以杀熟，但是也不可以不收钱，不赚不亏，是最好的。否则越做生意，就越没朋友。你次次亏本，那人还喜欢时时登门，证明对方不把你当朋友。你次次赚得比平时还多，那就更明白了，你根本不曾将那人当做朋友。若是这般，反而爽利。若是前者，就要揪心了。\"\"\"\n",
    "\n",
    "i = 0\n",
    "while i < len(s):\n",
    "    print(s[i],end='-' )\n",
    "    i += 1\n",
    "\n"
   ]
  },
  {
   "cell_type": "code",
   "execution_count": null,
   "metadata": {},
   "outputs": [],
   "source": []
  },
  {
   "cell_type": "code",
   "execution_count": null,
   "metadata": {
    "collapsed": true
   },
   "outputs": [],
   "source": []
  },
  {
   "cell_type": "code",
   "execution_count": 35,
   "metadata": {},
   "outputs": [
    {
     "name": "stdout",
     "output_type": "stream",
     "text": [
      "1~100的累积和为:5050\n"
     ]
    }
   ],
   "source": [
    "#计算1~100的累积和（包含1和100）\n",
    "\n",
    "i = 1\n",
    "sum_n = 0\n",
    "while i<=100:\n",
    "    sum_n = sum_n + i\n",
    "    i += 1\n",
    "\n",
    "print(\"1~100的累积和为:{}\".format(sum_n))"
   ]
  },
  {
   "cell_type": "code",
   "execution_count": 37,
   "metadata": {},
   "outputs": [
    {
     "name": "stdout",
     "output_type": "stream",
     "text": [
      "1~100的累积和为:2550\n"
     ]
    }
   ],
   "source": [
    "# 计算1~100之间偶数的累积和（包含1和100）\n",
    "i = 1\n",
    "sum_n = 0\n",
    "while i<=100:\n",
    "    if i%2 == 0:\n",
    "        sum_n = sum_n + i\n",
    "    i+=1\n",
    "\n",
    "print(\"1~100的累积和为:{}\".format(sum_n))"
   ]
  },
  {
   "cell_type": "code",
   "execution_count": null,
   "metadata": {},
   "outputs": [],
   "source": []
  },
  {
   "cell_type": "markdown",
   "metadata": {},
   "source": [
    "### 小练习3:\n",
    "\n",
    "打印-1到-20中所有3的倍数\n"
   ]
  },
  {
   "cell_type": "code",
   "execution_count": 151,
   "metadata": {},
   "outputs": [
    {
     "name": "stdout",
     "output_type": "stream",
     "text": [
      "-3\n",
      "-6\n",
      "-9\n",
      "-12\n",
      "-15\n",
      "-18\n"
     ]
    }
   ],
   "source": [
    "i = -1\n",
    "while i >= -20:\n",
    "    if i % 3 == 0:\n",
    "        print(i)\n",
    "    \n",
    "    i -= 1"
   ]
  },
  {
   "cell_type": "code",
   "execution_count": 155,
   "metadata": {},
   "outputs": [
    {
     "ename": "KeyboardInterrupt",
     "evalue": "",
     "output_type": "error",
     "traceback": [
      "\u001b[0;31m---------------------------------------------------------------------------\u001b[0m",
      "\u001b[0;31mKeyboardInterrupt\u001b[0m                         Traceback (most recent call last)",
      "\u001b[0;32m<ipython-input-155-822390b4305d>\u001b[0m in \u001b[0;36m<module>\u001b[0;34m\u001b[0m\n\u001b[1;32m      1\u001b[0m \u001b[0;32mwhile\u001b[0m \u001b[0;36m1\u001b[0m\u001b[0;34m:\u001b[0m\u001b[0;34m\u001b[0m\u001b[0;34m\u001b[0m\u001b[0m\n\u001b[0;32m----> 2\u001b[0;31m     \u001b[0;32mpass\u001b[0m\u001b[0;34m\u001b[0m\u001b[0;34m\u001b[0m\u001b[0m\n\u001b[0m",
      "\u001b[0;31mKeyboardInterrupt\u001b[0m: "
     ]
    }
   ],
   "source": [
    "while 1:\n",
    "    pass"
   ]
  },
  {
   "cell_type": "markdown",
   "metadata": {},
   "source": [
    "对数字0 每次 加 7  , 然后把这个数字打印出来\n",
    "\n",
    "一直运行到 这个数字是 100的倍数 停止"
   ]
  },
  {
   "cell_type": "code",
   "execution_count": null,
   "metadata": {},
   "outputs": [],
   "source": []
  },
  {
   "cell_type": "code",
   "execution_count": null,
   "metadata": {},
   "outputs": [],
   "source": [
    "i = 0\n",
    "while (i==0)  or (    not(i% 100 == 0)): # 如果这个数是100的倍数,这个条件应该为假\n",
    "    \n",
    "    print(i)\n",
    "    i += 7"
   ]
  },
  {
   "cell_type": "code",
   "execution_count": 161,
   "metadata": {
    "collapsed": true
   },
   "outputs": [
    {
     "name": "stdout",
     "output_type": "stream",
     "text": [
      "0\n",
      "7\n",
      "14\n",
      "21\n",
      "28\n",
      "35\n",
      "42\n",
      "49\n",
      "56\n",
      "63\n",
      "70\n",
      "77\n",
      "84\n",
      "91\n",
      "98\n",
      "105\n",
      "112\n",
      "119\n",
      "126\n",
      "133\n",
      "140\n",
      "147\n",
      "154\n",
      "161\n",
      "168\n",
      "175\n",
      "182\n",
      "189\n",
      "196\n",
      "203\n",
      "210\n",
      "217\n",
      "224\n",
      "231\n",
      "238\n",
      "245\n",
      "252\n",
      "259\n",
      "266\n",
      "273\n",
      "280\n",
      "287\n",
      "294\n",
      "301\n",
      "308\n",
      "315\n",
      "322\n",
      "329\n",
      "336\n",
      "343\n",
      "350\n",
      "357\n",
      "364\n",
      "371\n",
      "378\n",
      "385\n",
      "392\n",
      "399\n",
      "406\n",
      "413\n",
      "420\n",
      "427\n",
      "434\n",
      "441\n",
      "448\n",
      "455\n",
      "462\n",
      "469\n",
      "476\n",
      "483\n",
      "490\n",
      "497\n",
      "504\n",
      "511\n",
      "518\n",
      "525\n",
      "532\n",
      "539\n",
      "546\n",
      "553\n",
      "560\n",
      "567\n",
      "574\n",
      "581\n",
      "588\n",
      "595\n",
      "602\n",
      "609\n",
      "616\n",
      "623\n",
      "630\n",
      "637\n",
      "644\n",
      "651\n",
      "658\n",
      "665\n",
      "672\n",
      "679\n",
      "686\n",
      "693\n"
     ]
    }
   ],
   "source": [
    "i = 0\n",
    "while (i==0)  or (    i% 100 != 0): # 如果这个数是100的倍数,这个条件应该为假\n",
    "    \n",
    "    print(i)\n",
    "    i += 7"
   ]
  },
  {
   "cell_type": "code",
   "execution_count": 160,
   "metadata": {},
   "outputs": [
    {
     "data": {
      "text/plain": [
       "False"
      ]
     },
     "execution_count": 160,
     "metadata": {},
     "output_type": "execute_result"
    }
   ],
   "source": [
    "not(200 % 100 == 0)"
   ]
  },
  {
   "cell_type": "code",
   "execution_count": null,
   "metadata": {},
   "outputs": [],
   "source": [
    "# 缩进的含义,代表包含关系\n",
    "if xxx:\n",
    "    这个代码不是一定被运行的"
   ]
  },
  {
   "cell_type": "code",
   "execution_count": null,
   "metadata": {},
   "outputs": [],
   "source": [
    "while xxxx:\n",
    "    这个代码不一定被运行,上面的条件成立."
   ]
  },
  {
   "cell_type": "code",
   "execution_count": 158,
   "metadata": {
    "collapsed": true
   },
   "outputs": [
    {
     "ename": "KeyboardInterrupt",
     "evalue": "",
     "output_type": "error",
     "traceback": [
      "\u001b[0;31m---------------------------------------------------------------------------\u001b[0m",
      "\u001b[0;31mKeyboardInterrupt\u001b[0m                         Traceback (most recent call last)",
      "\u001b[0;32m<ipython-input-158-6da2d2f2d462>\u001b[0m in \u001b[0;36m<module>\u001b[0;34m\u001b[0m\n\u001b[1;32m      1\u001b[0m \u001b[0mi\u001b[0m\u001b[0;34m=\u001b[0m\u001b[0;34m-\u001b[0m\u001b[0;36m1\u001b[0m\u001b[0;34m\u001b[0m\u001b[0;34m\u001b[0m\u001b[0m\n\u001b[1;32m      2\u001b[0m \u001b[0;32mwhile\u001b[0m \u001b[0mi\u001b[0m\u001b[0;34m>=\u001b[0m\u001b[0;34m-\u001b[0m\u001b[0;36m20\u001b[0m\u001b[0;34m:\u001b[0m\u001b[0;34m\u001b[0m\u001b[0;34m\u001b[0m\u001b[0m\n\u001b[0;32m----> 3\u001b[0;31m     \u001b[0;32mif\u001b[0m \u001b[0mi\u001b[0m\u001b[0;34m%\u001b[0m\u001b[0;36m3\u001b[0m\u001b[0;34m==\u001b[0m\u001b[0;36m0\u001b[0m\u001b[0;34m:\u001b[0m\u001b[0;34m\u001b[0m\u001b[0;34m\u001b[0m\u001b[0m\n\u001b[0m\u001b[1;32m      4\u001b[0m         \u001b[0mprint\u001b[0m\u001b[0;34m(\u001b[0m\u001b[0mi\u001b[0m\u001b[0;34m)\u001b[0m\u001b[0;34m\u001b[0m\u001b[0;34m\u001b[0m\u001b[0m\n\u001b[1;32m      5\u001b[0m \u001b[0;34m\u001b[0m\u001b[0m\n",
      "\u001b[0;31mKeyboardInterrupt\u001b[0m: "
     ]
    }
   ],
   "source": [
    "i=-1\n",
    "while i>=-20:\n",
    "    if i%3==0:\n",
    "        print(i)\n",
    "      \n",
    "    i-=1"
   ]
  },
  {
   "cell_type": "code",
   "execution_count": 165,
   "metadata": {},
   "outputs": [
    {
     "ename": "SyntaxError",
     "evalue": "invalid character in identifier (<ipython-input-165-2f915247f948>, line 3)",
     "output_type": "error",
     "traceback": [
      "\u001b[0;36m  File \u001b[0;32m\"<ipython-input-165-2f915247f948>\"\u001b[0;36m, line \u001b[0;32m3\u001b[0m\n\u001b[0;31m    print(s[i])     #这个没明白会打印出什么来呢？\u001b[0m\n\u001b[0m        ^\u001b[0m\n\u001b[0;31mSyntaxError\u001b[0m\u001b[0;31m:\u001b[0m invalid character in identifier\n"
     ]
    }
   ],
   "source": [
    "i=0#第一个字符索引\n",
    "while i<len(s):\n",
    "    print(s[i])     #这个没明白会打印出什么来呢？\n",
    "    \n",
    "    i += 1"
   ]
  },
  {
   "cell_type": "code",
   "execution_count": 166,
   "metadata": {},
   "outputs": [
    {
     "data": {
      "text/plain": [
       "'做生意，熟人登门，绝不可以杀熟，但是也不可以不收钱，不赚不亏，是最好的。否则越做生意，就越没朋友。你次次亏本，那人还喜欢时时登门，证明对方不把你当朋友。你次次赚得比平时还多，那就更明白了，你根本不曾将那人当做朋友。若是这般，反而爽利。若是前者，就要揪心了。'"
      ]
     },
     "execution_count": 166,
     "metadata": {},
     "output_type": "execute_result"
    }
   ],
   "source": [
    "s"
   ]
  },
  {
   "cell_type": "code",
   "execution_count": 168,
   "metadata": {},
   "outputs": [
    {
     "data": {
      "text/plain": [
       "'做'"
      ]
     },
     "execution_count": 168,
     "metadata": {},
     "output_type": "execute_result"
    }
   ],
   "source": [
    "s[0]"
   ]
  },
  {
   "cell_type": "code",
   "execution_count": 169,
   "metadata": {},
   "outputs": [
    {
     "data": {
      "text/plain": [
       "'生'"
      ]
     },
     "execution_count": 169,
     "metadata": {},
     "output_type": "execute_result"
    }
   ],
   "source": [
    "s[1]"
   ]
  },
  {
   "cell_type": "code",
   "execution_count": 167,
   "metadata": {
    "collapsed": true
   },
   "outputs": [
    {
     "name": "stdout",
     "output_type": "stream",
     "text": [
      "做\n",
      "生\n",
      "意\n",
      "，\n",
      "熟\n",
      "人\n",
      "登\n",
      "门\n",
      "，\n",
      "绝\n",
      "不\n",
      "可\n",
      "以\n",
      "杀\n",
      "熟\n",
      "，\n",
      "但\n",
      "是\n",
      "也\n",
      "不\n",
      "可\n",
      "以\n",
      "不\n",
      "收\n",
      "钱\n",
      "，\n",
      "不\n",
      "赚\n",
      "不\n",
      "亏\n",
      "，\n",
      "是\n",
      "最\n",
      "好\n",
      "的\n",
      "。\n",
      "否\n",
      "则\n",
      "越\n",
      "做\n",
      "生\n",
      "意\n",
      "，\n",
      "就\n",
      "越\n",
      "没\n",
      "朋\n",
      "友\n",
      "。\n",
      "你\n",
      "次\n",
      "次\n",
      "亏\n",
      "本\n",
      "，\n",
      "那\n",
      "人\n",
      "还\n",
      "喜\n",
      "欢\n",
      "时\n",
      "时\n",
      "登\n",
      "门\n",
      "，\n",
      "证\n",
      "明\n",
      "对\n",
      "方\n",
      "不\n",
      "把\n",
      "你\n",
      "当\n",
      "朋\n",
      "友\n",
      "。\n",
      "你\n",
      "次\n",
      "次\n",
      "赚\n",
      "得\n",
      "比\n",
      "平\n",
      "时\n",
      "还\n",
      "多\n",
      "，\n",
      "那\n",
      "就\n",
      "更\n",
      "明\n",
      "白\n",
      "了\n",
      "，\n",
      "你\n",
      "根\n",
      "本\n",
      "不\n",
      "曾\n",
      "将\n",
      "那\n",
      "人\n",
      "当\n",
      "做\n",
      "朋\n",
      "友\n",
      "。\n",
      "若\n",
      "是\n",
      "这\n",
      "般\n",
      "，\n",
      "反\n",
      "而\n",
      "爽\n",
      "利\n",
      "。\n",
      "若\n",
      "是\n",
      "前\n",
      "者\n",
      "，\n",
      "就\n",
      "要\n",
      "揪\n",
      "心\n",
      "了\n",
      "。\n"
     ]
    }
   ],
   "source": [
    "i = 0\n",
    "while i < len(s):\n",
    "    \n",
    "    \n",
    "    i += 1"
   ]
  },
  {
   "cell_type": "code",
   "execution_count": null,
   "metadata": {},
   "outputs": [],
   "source": []
  },
  {
   "cell_type": "code",
   "execution_count": null,
   "metadata": {},
   "outputs": [],
   "source": []
  },
  {
   "cell_type": "markdown",
   "metadata": {},
   "source": [
    "### break\n",
    "\n",
    "退出本\"层\"循环"
   ]
  },
  {
   "cell_type": "code",
   "execution_count": 185,
   "metadata": {},
   "outputs": [
    {
     "name": "stdout",
     "output_type": "stream",
     "text": [
      "甲a\n",
      "甲b\n",
      "甲c\n",
      "乙a\n",
      "乙b\n",
      "乙c\n",
      "丙a\n",
      "丙b\n",
      "丙c\n"
     ]
    }
   ],
   "source": [
    "for i in ['甲','乙','丙']:\n",
    "    for j in ['a','b','c']:\n",
    "        print(i+j)"
   ]
  },
  {
   "cell_type": "code",
   "execution_count": 186,
   "metadata": {},
   "outputs": [
    {
     "name": "stdout",
     "output_type": "stream",
     "text": [
      "甲a\n",
      "乙a\n",
      "丙a\n"
     ]
    }
   ],
   "source": [
    "for i in ['甲','乙','丙']:\n",
    "    for j in ['a','b','c']:\n",
    "        if j =='b':\n",
    "            break\n",
    "        print(i+j)"
   ]
  },
  {
   "cell_type": "code",
   "execution_count": 187,
   "metadata": {},
   "outputs": [
    {
     "name": "stdout",
     "output_type": "stream",
     "text": [
      "甲a\n",
      "甲b\n",
      "甲c\n"
     ]
    }
   ],
   "source": [
    "for i in ['甲','乙','丙']:\n",
    "    if i == '乙': # 打断的是外层循环\n",
    "        break\n",
    "    for j in ['a','b','c']:\n",
    "        \n",
    "        print(i+j)\n",
    "    "
   ]
  },
  {
   "cell_type": "code",
   "execution_count": null,
   "metadata": {},
   "outputs": [],
   "source": []
  },
  {
   "cell_type": "code",
   "execution_count": null,
   "metadata": {},
   "outputs": [],
   "source": []
  },
  {
   "cell_type": "code",
   "execution_count": null,
   "metadata": {},
   "outputs": [],
   "source": []
  },
  {
   "cell_type": "code",
   "execution_count": 170,
   "metadata": {},
   "outputs": [],
   "source": [
    "name = '我想要去打游戏,不想学习'"
   ]
  },
  {
   "cell_type": "code",
   "execution_count": 172,
   "metadata": {
    "collapsed": true
   },
   "outputs": [
    {
     "name": "stdout",
     "output_type": "stream",
     "text": [
      "我\n",
      "想\n",
      "要\n",
      "去\n",
      "打\n",
      "游\n",
      "戏\n"
     ]
    }
   ],
   "source": [
    "for i in name:\n",
    "    if i == ',':\n",
    "        break\n",
    "    print(i)"
   ]
  },
  {
   "cell_type": "code",
   "execution_count": null,
   "metadata": {},
   "outputs": [],
   "source": [
    "对数字0 每次 加 7 , 然后把这个数字打印出来\n",
    "\n",
    "一直运行到 这个数字是 100的倍数 停止"
   ]
  },
  {
   "cell_type": "code",
   "execution_count": 175,
   "metadata": {
    "collapsed": true
   },
   "outputs": [
    {
     "name": "stdout",
     "output_type": "stream",
     "text": [
      "0\n",
      "7\n",
      "14\n",
      "21\n",
      "28\n",
      "35\n",
      "42\n",
      "49\n",
      "56\n",
      "63\n",
      "70\n",
      "77\n",
      "84\n",
      "91\n",
      "98\n",
      "105\n",
      "112\n",
      "119\n",
      "126\n",
      "133\n",
      "140\n",
      "147\n",
      "154\n",
      "161\n",
      "168\n",
      "175\n",
      "182\n",
      "189\n",
      "196\n",
      "203\n",
      "210\n",
      "217\n",
      "224\n",
      "231\n",
      "238\n",
      "245\n",
      "252\n",
      "259\n",
      "266\n",
      "273\n",
      "280\n",
      "287\n",
      "294\n",
      "301\n",
      "308\n",
      "315\n",
      "322\n",
      "329\n",
      "336\n",
      "343\n",
      "350\n",
      "357\n",
      "364\n",
      "371\n",
      "378\n",
      "385\n",
      "392\n",
      "399\n",
      "406\n",
      "413\n",
      "420\n",
      "427\n",
      "434\n",
      "441\n",
      "448\n",
      "455\n",
      "462\n",
      "469\n",
      "476\n",
      "483\n",
      "490\n",
      "497\n",
      "504\n",
      "511\n",
      "518\n",
      "525\n",
      "532\n",
      "539\n",
      "546\n",
      "553\n",
      "560\n",
      "567\n",
      "574\n",
      "581\n",
      "588\n",
      "595\n",
      "602\n",
      "609\n",
      "616\n",
      "623\n",
      "630\n",
      "637\n",
      "644\n",
      "651\n",
      "658\n",
      "665\n",
      "672\n",
      "679\n",
      "686\n",
      "693\n"
     ]
    }
   ],
   "source": [
    "\n",
    "for i in range(0,10000,7):\n",
    "    # 当i==0\n",
    "    if i % 100 == 0 and i != 0: # 当i 等于 0 ,或者 i 不是100的整数的时候, 条件为 假\n",
    "        break\n",
    "\n",
    "    print(i)"
   ]
  },
  {
   "cell_type": "code",
   "execution_count": 178,
   "metadata": {
    "collapsed": true
   },
   "outputs": [
    {
     "name": "stdout",
     "output_type": "stream",
     "text": [
      "7\n",
      "14\n",
      "21\n",
      "28\n",
      "35\n",
      "42\n",
      "49\n",
      "56\n",
      "63\n",
      "70\n",
      "77\n",
      "84\n",
      "91\n",
      "98\n",
      "105\n",
      "112\n",
      "119\n",
      "126\n",
      "133\n",
      "140\n",
      "147\n",
      "154\n",
      "161\n",
      "168\n",
      "175\n",
      "182\n",
      "189\n",
      "196\n",
      "203\n",
      "210\n",
      "217\n",
      "224\n",
      "231\n",
      "238\n",
      "245\n",
      "252\n",
      "259\n",
      "266\n",
      "273\n",
      "280\n",
      "287\n",
      "294\n",
      "301\n",
      "308\n",
      "315\n",
      "322\n",
      "329\n",
      "336\n",
      "343\n",
      "350\n",
      "357\n",
      "364\n",
      "371\n",
      "378\n",
      "385\n",
      "392\n",
      "399\n",
      "406\n",
      "413\n",
      "420\n",
      "427\n",
      "434\n",
      "441\n",
      "448\n",
      "455\n",
      "462\n",
      "469\n",
      "476\n",
      "483\n",
      "490\n",
      "497\n",
      "504\n",
      "511\n",
      "518\n",
      "525\n",
      "532\n",
      "539\n",
      "546\n",
      "553\n",
      "560\n",
      "567\n",
      "574\n",
      "581\n",
      "588\n",
      "595\n",
      "602\n",
      "609\n",
      "616\n",
      "623\n",
      "630\n",
      "637\n",
      "644\n",
      "651\n",
      "658\n",
      "665\n",
      "672\n",
      "679\n",
      "686\n",
      "693\n",
      "700\n"
     ]
    }
   ],
   "source": [
    "k = 0\n",
    "for i in range(10000):\n",
    "    \n",
    "    if i % 100 == 0 and i != 0: \n",
    "        break\n",
    "    print(k)\n",
    "    k += 7"
   ]
  },
  {
   "cell_type": "code",
   "execution_count": null,
   "metadata": {},
   "outputs": [],
   "source": []
  },
  {
   "cell_type": "code",
   "execution_count": 181,
   "metadata": {
    "collapsed": true
   },
   "outputs": [
    {
     "name": "stdout",
     "output_type": "stream",
     "text": [
      "我\n",
      "------\n",
      "想\n",
      "------\n",
      "要\n",
      "------\n",
      "去\n",
      "------\n",
      "打\n",
      "------\n",
      "游\n",
      "------\n",
      "戏\n",
      "------\n"
     ]
    }
   ],
   "source": [
    "for i in name:\n",
    "    if i == ',':\n",
    "        break\n",
    "    print(i)\n",
    "    print('------')"
   ]
  },
  {
   "cell_type": "code",
   "execution_count": 182,
   "metadata": {
    "collapsed": true
   },
   "outputs": [
    {
     "name": "stdout",
     "output_type": "stream",
     "text": [
      "我\n",
      "------\n",
      "想\n",
      "------\n",
      "要\n",
      "------\n",
      "去\n",
      "------\n",
      "打\n",
      "------\n",
      "游\n",
      "------\n",
      "戏\n",
      "------\n",
      ",\n",
      "------\n"
     ]
    }
   ],
   "source": [
    "for i in name:\n",
    "    \n",
    "    print(i)\n",
    "    print('------')\n",
    "    if i == ',':\n",
    "        break"
   ]
  },
  {
   "cell_type": "code",
   "execution_count": 183,
   "metadata": {},
   "outputs": [
    {
     "name": "stdout",
     "output_type": "stream",
     "text": [
      "我\n",
      "------\n"
     ]
    }
   ],
   "source": [
    "for i in name:\n",
    "    \n",
    "    print(i)\n",
    "    print('------')\n",
    "    break"
   ]
  },
  {
   "cell_type": "code",
   "execution_count": 20,
   "metadata": {},
   "outputs": [
    {
     "name": "stdout",
     "output_type": "stream",
     "text": [
      "----\n",
      "我\n",
      "----\n",
      "想\n",
      "----\n",
      "要\n",
      "----\n",
      "去\n",
      "----\n",
      "打\n",
      "----\n",
      "游\n",
      "----\n",
      "戏\n",
      "----\n"
     ]
    }
   ],
   "source": [
    "name = '我想要去打游戏,不想学习'\n",
    "\n",
    "for x in name:\n",
    "    print('----')\n",
    "    if x == ',': \n",
    "        break\n",
    "    print(x)"
   ]
  },
  {
   "cell_type": "code",
   "execution_count": 179,
   "metadata": {},
   "outputs": [
    {
     "name": "stdout",
     "output_type": "stream",
     "text": [
      "----\n",
      "1\n",
      "----\n",
      "2\n",
      "----\n",
      "3\n",
      "----\n",
      "4\n"
     ]
    }
   ],
   "source": [
    "i = 0\n",
    "\n",
    "while i<10:\n",
    "    i += 1\n",
    "    if i == 5:\n",
    "        break\n",
    "    print('----')\n",
    "    print(i)"
   ]
  },
  {
   "cell_type": "code",
   "execution_count": 180,
   "metadata": {},
   "outputs": [
    {
     "name": "stdout",
     "output_type": "stream",
     "text": [
      "----\n",
      "1\n",
      "----\n",
      "2\n",
      "----\n",
      "3\n",
      "----\n",
      "4\n",
      "----\n"
     ]
    }
   ],
   "source": [
    "i = 0\n",
    "\n",
    "while i<10:\n",
    "    i = i+1\n",
    "    print('----')\n",
    "    if i==5:\n",
    "        break\n",
    "    print(i)"
   ]
  },
  {
   "cell_type": "markdown",
   "metadata": {},
   "source": [
    "break的作用：用来结束整个循环"
   ]
  },
  {
   "cell_type": "markdown",
   "metadata": {},
   "source": [
    "### continue\n",
    "\n",
    "结束本\"次\"循环\n",
    "\n",
    "continue的作用：用来结束本次循环，紧接着执行下一次的循环"
   ]
  },
  {
   "cell_type": "code",
   "execution_count": 189,
   "metadata": {},
   "outputs": [
    {
     "name": "stdout",
     "output_type": "stream",
     "text": [
      "0\n",
      "1\n",
      "2\n",
      "3\n",
      "4\n",
      "5\n",
      "7\n",
      "8\n",
      "9\n"
     ]
    }
   ],
   "source": [
    "for i in range(10):\n",
    "    if i == 6:\n",
    "        continue\n",
    "    print(i)"
   ]
  },
  {
   "cell_type": "code",
   "execution_count": null,
   "metadata": {},
   "outputs": [],
   "source": []
  },
  {
   "cell_type": "code",
   "execution_count": 193,
   "metadata": {},
   "outputs": [
    {
     "name": "stdout",
     "output_type": "stream",
     "text": [
      "我\n",
      "想\n",
      "要\n",
      "去\n",
      "打\n",
      "游\n",
      "戏\n",
      "不\n",
      "想\n",
      "学\n",
      "习\n"
     ]
    }
   ],
   "source": [
    "name = '我想要去打游戏,不想学习'\n",
    "for i in name:\n",
    "    # 如果遇到了逗号, 就不打印了\n",
    "    if i == ',':\n",
    "        continue\n",
    "    \n",
    "    print(i)"
   ]
  },
  {
   "cell_type": "code",
   "execution_count": 198,
   "metadata": {},
   "outputs": [],
   "source": [
    "scores = [98, 88, 66, 44, 55, 101, 76 ,22,]"
   ]
  },
  {
   "cell_type": "code",
   "execution_count": 199,
   "metadata": {},
   "outputs": [
    {
     "name": "stdout",
     "output_type": "stream",
     "text": [
      "98\n",
      "88\n",
      "66\n",
      "44\n",
      "55\n"
     ]
    }
   ],
   "source": [
    "# 当出现分数异常值的时候,说明数据有错误,我们就不用再往后循环了\n",
    "for i in scores:\n",
    "    if i < 0 or i > 100:\n",
    "        break\n",
    "    print(i)"
   ]
  },
  {
   "cell_type": "code",
   "execution_count": 200,
   "metadata": {},
   "outputs": [
    {
     "name": "stdout",
     "output_type": "stream",
     "text": [
      "98\n",
      "88\n",
      "66\n",
      "101\n",
      "76\n"
     ]
    }
   ],
   "source": [
    "scores = [98, 88, 66, 44, 55, 101, 76 ,22,]\n",
    "for i in scores:\n",
    "    \n",
    "    if i < 60:\n",
    "        continue\n",
    "    print(i)"
   ]
  },
  {
   "cell_type": "code",
   "execution_count": null,
   "metadata": {},
   "outputs": [],
   "source": []
  },
  {
   "cell_type": "code",
   "execution_count": null,
   "metadata": {},
   "outputs": [],
   "source": []
  },
  {
   "cell_type": "code",
   "execution_count": 190,
   "metadata": {},
   "outputs": [
    {
     "name": "stdout",
     "output_type": "stream",
     "text": [
      "98\n",
      "88\n",
      "66\n",
      "44\n",
      "55\n"
     ]
    }
   ],
   "source": [
    "for score in scores:\n",
    "    if score  < 0 or score > 100:\n",
    "        # 分数异常\n",
    "        break\n",
    "    \n",
    "    print(score)\n",
    "    "
   ]
  },
  {
   "cell_type": "code",
   "execution_count": 191,
   "metadata": {},
   "outputs": [
    {
     "name": "stdout",
     "output_type": "stream",
     "text": [
      "98\n",
      "88\n",
      "66\n",
      "44\n",
      "55\n",
      "76\n",
      "22\n"
     ]
    }
   ],
   "source": [
    "for score in scores:\n",
    "    if score  < 0 or score > 100:\n",
    "        # 分数异常\n",
    "        continue\n",
    "    \n",
    "    print(score)\n",
    "    "
   ]
  },
  {
   "cell_type": "code",
   "execution_count": null,
   "metadata": {},
   "outputs": [],
   "source": []
  },
  {
   "cell_type": "code",
   "execution_count": 22,
   "metadata": {},
   "outputs": [
    {
     "name": "stdout",
     "output_type": "stream",
     "text": [
      "----\n",
      "我\n",
      "----\n",
      "想\n",
      "----\n",
      "要\n",
      "----\n",
      "去\n",
      "----\n",
      "打\n",
      "----\n",
      "游\n",
      "----\n",
      "戏\n",
      "----\n",
      "----\n",
      "不\n",
      "----\n",
      "想\n",
      "----\n",
      "学\n",
      "----\n",
      "习\n"
     ]
    }
   ],
   "source": [
    "name = '我想要去打游戏,不想学习'\n",
    "\n",
    "for x in name:\n",
    "    print('----')\n",
    "    if x == ',': \n",
    "        continue\n",
    "    print(x)"
   ]
  },
  {
   "cell_type": "code",
   "execution_count": 192,
   "metadata": {
    "scrolled": false
   },
   "outputs": [
    {
     "name": "stdout",
     "output_type": "stream",
     "text": [
      "----\n",
      "1\n",
      "----\n",
      "2\n",
      "----\n",
      "3\n",
      "----\n",
      "4\n",
      "----\n",
      "----\n",
      "6\n",
      "----\n",
      "7\n",
      "----\n",
      "8\n",
      "----\n",
      "9\n",
      "----\n",
      "10\n"
     ]
    }
   ],
   "source": [
    "i = 0\n",
    "\n",
    "while i<10:\n",
    "    i = i+1\n",
    "    print('----')\n",
    "    if i==5:\n",
    "        continue\n",
    "    print(i)"
   ]
  },
  {
   "cell_type": "markdown",
   "metadata": {},
   "source": [
    "注意:\n",
    "\n",
    "break/continue只能用在循环中，除此以外不能单独使用\n",
    "\n",
    "break/continue在嵌套循环中，只对最近的一层循环起作用"
   ]
  },
  {
   "cell_type": "code",
   "execution_count": null,
   "metadata": {},
   "outputs": [],
   "source": []
  },
  {
   "cell_type": "code",
   "execution_count": 201,
   "metadata": {},
   "outputs": [
    {
     "name": "stdout",
     "output_type": "stream",
     "text": [
      "甲a\n",
      "甲b\n",
      "甲c\n",
      "乙a\n",
      "乙b\n",
      "乙c\n",
      "丙a\n",
      "丙b\n",
      "丙c\n"
     ]
    }
   ],
   "source": [
    "for i in ['甲','乙','丙']:\n",
    "    for j in ['a','b','c']:\n",
    "        print(i+j)"
   ]
  },
  {
   "cell_type": "code",
   "execution_count": 202,
   "metadata": {},
   "outputs": [
    {
     "name": "stdout",
     "output_type": "stream",
     "text": [
      "甲a\n",
      "甲c\n",
      "乙a\n",
      "乙c\n",
      "丙a\n",
      "丙c\n"
     ]
    }
   ],
   "source": [
    "for i in ['甲','乙','丙']:\n",
    "    for j in ['a','b','c']:\n",
    "        if j == 'b':\n",
    "            continue\n",
    "        print(i+j)"
   ]
  },
  {
   "cell_type": "code",
   "execution_count": 203,
   "metadata": {},
   "outputs": [
    {
     "name": "stdout",
     "output_type": "stream",
     "text": [
      "甲a\n",
      "甲b\n",
      "甲c\n",
      "丙a\n",
      "丙b\n",
      "丙c\n"
     ]
    }
   ],
   "source": [
    "for i in ['甲','乙','丙']:\n",
    "    if i == '乙':\n",
    "        continue\n",
    "    for j in ['a','b','c']:\n",
    "        print(i+j)"
   ]
  },
  {
   "cell_type": "code",
   "execution_count": null,
   "metadata": {},
   "outputs": [],
   "source": []
  },
  {
   "cell_type": "markdown",
   "metadata": {},
   "source": [
    "### break/continue小练习:\n",
    "\n",
    "打印成绩表格中的所有学生分数\n",
    "\n",
    "如果遇到不及格的分数则不打印,\n",
    "\n",
    "如果遇到分数不在正常范围之内0-100,则终止打印并输出错误消息"
   ]
  },
  {
   "cell_type": "code",
   "execution_count": 205,
   "metadata": {},
   "outputs": [],
   "source": [
    "score = [68, 72, 85, 44, 38, 92, 87, 67, -32, 98, 88]"
   ]
  },
  {
   "cell_type": "code",
   "execution_count": 208,
   "metadata": {},
   "outputs": [
    {
     "name": "stdout",
     "output_type": "stream",
     "text": [
      "68\n",
      "72\n",
      "85\n",
      "92\n",
      "87\n",
      "67\n",
      "您输入的分数有错误\n"
     ]
    }
   ],
   "source": [
    "for i in score:\n",
    "    if 0> i or i > 100: # 分出错误\n",
    "        print('您输入的分数有错误')\n",
    "        break\n",
    "        \n",
    "    if  i<60: # 不及格\n",
    "        continue\n",
    "    print(i)"
   ]
  },
  {
   "cell_type": "code",
   "execution_count": null,
   "metadata": {},
   "outputs": [],
   "source": []
  },
  {
   "cell_type": "markdown",
   "metadata": {},
   "source": [
    "打印成绩表格中的所有学生分数\n",
    "\n",
    "如果遇到不及格的分数则不打印\n",
    "\n",
    "如果遇到分数不在正常范围之内0-100\n",
    "\n",
    "则跳过该学生,直接打印下一个"
   ]
  },
  {
   "cell_type": "code",
   "execution_count": null,
   "metadata": {},
   "outputs": [],
   "source": []
  },
  {
   "cell_type": "code",
   "execution_count": null,
   "metadata": {},
   "outputs": [],
   "source": []
  },
  {
   "cell_type": "code",
   "execution_count": null,
   "metadata": {
    "collapsed": true
   },
   "outputs": [],
   "source": []
  },
  {
   "cell_type": "markdown",
   "metadata": {},
   "source": [
    "### 练习 寻找水仙花数\n",
    "\n",
    "题目：打印出所有的\"水仙花数\"，所谓\"水仙花数\"是指一个三位数，其各位数字立方和等于该数本身。例如：153是一个\"水仙花数\"，因为153=1的三次方＋5的三次方＋3的三次方。"
   ]
  },
  {
   "cell_type": "code",
   "execution_count": 217,
   "metadata": {},
   "outputs": [
    {
     "name": "stdout",
     "output_type": "stream",
     "text": [
      "153\n",
      "370\n",
      "371\n",
      "407\n"
     ]
    }
   ],
   "source": [
    "for i in range(100,1000):\n",
    "    a = i % 10 # 提取个位\n",
    "    b = i // 10 % 10 # 提取十位\n",
    "    c = i // 100 # 提取百位\n",
    "    if (a**3 + b**3 + c**3) == i: # 比较是否相等\n",
    "        print(i)"
   ]
  },
  {
   "cell_type": "code",
   "execution_count": 223,
   "metadata": {},
   "outputs": [
    {
     "name": "stdout",
     "output_type": "stream",
     "text": [
      "153\n",
      "370\n",
      "371\n",
      "407\n"
     ]
    }
   ],
   "source": [
    "for i in range(100,1000):\n",
    "    s = str(i) # 将数字转换成字符串\n",
    "    a = s[0]\n",
    "    b = s[1]\n",
    "    c = s[2]\n",
    "    if int(a)**3 + int(b)**3 + int(c)**3 == i:\n",
    "        print(i)"
   ]
  },
  {
   "cell_type": "code",
   "execution_count": 222,
   "metadata": {},
   "outputs": [
    {
     "data": {
      "text/plain": [
       "'5'"
      ]
     },
     "execution_count": 222,
     "metadata": {},
     "output_type": "execute_result"
    }
   ],
   "source": [
    "str(365)[2]"
   ]
  },
  {
   "cell_type": "code",
   "execution_count": null,
   "metadata": {},
   "outputs": [],
   "source": []
  },
  {
   "cell_type": "code",
   "execution_count": 210,
   "metadata": {},
   "outputs": [
    {
     "data": {
      "text/plain": [
       "5"
      ]
     },
     "execution_count": 210,
     "metadata": {},
     "output_type": "execute_result"
    }
   ],
   "source": [
    "365 % 10"
   ]
  },
  {
   "cell_type": "code",
   "execution_count": 211,
   "metadata": {},
   "outputs": [
    {
     "data": {
      "text/plain": [
       "3"
      ]
     },
     "execution_count": 211,
     "metadata": {},
     "output_type": "execute_result"
    }
   ],
   "source": [
    "365 // 100"
   ]
  },
  {
   "cell_type": "code",
   "execution_count": 213,
   "metadata": {},
   "outputs": [
    {
     "data": {
      "text/plain": [
       "6"
      ]
     },
     "execution_count": 213,
     "metadata": {},
     "output_type": "execute_result"
    }
   ],
   "source": [
    "365 // 10 % 10"
   ]
  },
  {
   "cell_type": "code",
   "execution_count": 215,
   "metadata": {},
   "outputs": [
    {
     "data": {
      "text/plain": [
       "6"
      ]
     },
     "execution_count": 215,
     "metadata": {},
     "output_type": "execute_result"
    }
   ],
   "source": [
    "365 % 100 // 10"
   ]
  },
  {
   "cell_type": "code",
   "execution_count": null,
   "metadata": {},
   "outputs": [],
   "source": []
  },
  {
   "cell_type": "code",
   "execution_count": 213,
   "metadata": {},
   "outputs": [
    {
     "data": {
      "text/plain": [
       "3"
      ]
     },
     "execution_count": 213,
     "metadata": {},
     "output_type": "execute_result"
    }
   ],
   "source": [
    "356 // 100"
   ]
  },
  {
   "cell_type": "code",
   "execution_count": 214,
   "metadata": {},
   "outputs": [
    {
     "data": {
      "text/plain": [
       "6"
      ]
     },
     "execution_count": 214,
     "metadata": {},
     "output_type": "execute_result"
    }
   ],
   "source": [
    "356 % 10"
   ]
  },
  {
   "cell_type": "code",
   "execution_count": 216,
   "metadata": {},
   "outputs": [
    {
     "data": {
      "text/plain": [
       "5"
      ]
     },
     "execution_count": 216,
     "metadata": {},
     "output_type": "execute_result"
    }
   ],
   "source": [
    "356 // 10 % 10"
   ]
  },
  {
   "cell_type": "code",
   "execution_count": 218,
   "metadata": {},
   "outputs": [
    {
     "data": {
      "text/plain": [
       "5"
      ]
     },
     "execution_count": 218,
     "metadata": {},
     "output_type": "execute_result"
    }
   ],
   "source": [
    "356 % 100 // 10"
   ]
  },
  {
   "cell_type": "code",
   "execution_count": null,
   "metadata": {},
   "outputs": [],
   "source": []
  },
  {
   "cell_type": "code",
   "execution_count": null,
   "metadata": {},
   "outputs": [],
   "source": []
  },
  {
   "cell_type": "code",
   "execution_count": null,
   "metadata": {},
   "outputs": [],
   "source": []
  },
  {
   "cell_type": "code",
   "execution_count": null,
   "metadata": {},
   "outputs": [],
   "source": []
  },
  {
   "cell_type": "code",
   "execution_count": null,
   "metadata": {},
   "outputs": [],
   "source": []
  },
  {
   "cell_type": "code",
   "execution_count": null,
   "metadata": {},
   "outputs": [],
   "source": []
  },
  {
   "cell_type": "code",
   "execution_count": null,
   "metadata": {},
   "outputs": [],
   "source": []
  },
  {
   "cell_type": "code",
   "execution_count": null,
   "metadata": {},
   "outputs": [],
   "source": []
  },
  {
   "cell_type": "code",
   "execution_count": null,
   "metadata": {},
   "outputs": [],
   "source": []
  },
  {
   "cell_type": "code",
   "execution_count": null,
   "metadata": {
    "collapsed": true
   },
   "outputs": [],
   "source": []
  }
 ],
 "metadata": {
  "kernelspec": {
   "display_name": "Python 3",
   "language": "python",
   "name": "python3"
  },
  "language_info": {
   "codemirror_mode": {
    "name": "ipython",
    "version": 3
   },
   "file_extension": ".py",
   "mimetype": "text/x-python",
   "name": "python",
   "nbconvert_exporter": "python",
   "pygments_lexer": "ipython3",
   "version": "3.7.4"
  },
  "nbTranslate": {
   "displayLangs": [
    "en"
   ],
   "hotkey": "alt-t",
   "langInMainMenu": true,
   "sourceLang": "ch",
   "targetLang": "en",
   "useGoogleTranslate": true
  },
  "toc": {
   "base_numbering": 1,
   "nav_menu": {},
   "number_sections": true,
   "sideBar": true,
   "skip_h1_title": false,
   "title_cell": "Table of Contents",
   "title_sidebar": "Contents",
   "toc_cell": true,
   "toc_position": {
    "height": "calc(100% - 180px)",
    "left": "10px",
    "top": "150px",
    "width": "165px"
   },
   "toc_section_display": true,
   "toc_window_display": true
  },
  "varInspector": {
   "cols": {
    "lenName": 16,
    "lenType": 16,
    "lenVar": 40
   },
   "kernels_config": {
    "python": {
     "delete_cmd_postfix": "",
     "delete_cmd_prefix": "del ",
     "library": "var_list.py",
     "varRefreshCmd": "print(var_dic_list())"
    },
    "r": {
     "delete_cmd_postfix": ") ",
     "delete_cmd_prefix": "rm(",
     "library": "var_list.r",
     "varRefreshCmd": "cat(var_dic_list()) "
    }
   },
   "types_to_exclude": [
    "module",
    "function",
    "builtin_function_or_method",
    "instance",
    "_Feature"
   ],
   "window_display": false
  }
 },
 "nbformat": 4,
 "nbformat_minor": 2
}
