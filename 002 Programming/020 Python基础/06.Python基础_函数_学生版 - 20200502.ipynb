{
 "cells": [
  {
   "cell_type": "markdown",
   "metadata": {
    "toc": true
   },
   "source": [
    "<h1>Table of Contents<span class=\"tocSkip\"></span></h1>\n",
    "<div class=\"toc\"><ul class=\"toc-item\"><li><span><a href=\"#函数的定义\" data-toc-modified-id=\"函数的定义-1\"><span class=\"toc-item-num\">1&nbsp;&nbsp;</span>函数的定义</a></span><ul class=\"toc-item\"><li><span><a href=\"#函数定义和调用\" data-toc-modified-id=\"函数定义和调用-1.1\"><span class=\"toc-item-num\">1.1&nbsp;&nbsp;</span>函数定义和调用</a></span></li><li><span><a href=\"#小练习\" data-toc-modified-id=\"小练习-1.2\"><span class=\"toc-item-num\">1.2&nbsp;&nbsp;</span>小练习</a></span></li><li><span><a href=\"#函数的理念和作用\" data-toc-modified-id=\"函数的理念和作用-1.3\"><span class=\"toc-item-num\">1.3&nbsp;&nbsp;</span>函数的理念和作用</a></span></li><li><span><a href=\"#函数参数\" data-toc-modified-id=\"函数参数-1.4\"><span class=\"toc-item-num\">1.4&nbsp;&nbsp;</span>函数参数</a></span></li><li><span><a href=\"#函数返回值\" data-toc-modified-id=\"函数返回值-1.5\"><span class=\"toc-item-num\">1.5&nbsp;&nbsp;</span>函数返回值</a></span><ul class=\"toc-item\"><li><span><a href=\"#返回多个值\" data-toc-modified-id=\"返回多个值-1.5.1\"><span class=\"toc-item-num\">1.5.1&nbsp;&nbsp;</span>返回多个值</a></span></li></ul></li><li><span><a href=\"#小练习\" data-toc-modified-id=\"小练习-1.6\"><span class=\"toc-item-num\">1.6&nbsp;&nbsp;</span>小练习</a></span><ul class=\"toc-item\"><li><span><a href=\"#小练习\" data-toc-modified-id=\"小练习-1.6.1\"><span class=\"toc-item-num\">1.6.1&nbsp;&nbsp;</span>小练习</a></span></li><li><span><a href=\"#小练习\" data-toc-modified-id=\"小练习-1.6.2\"><span class=\"toc-item-num\">1.6.2&nbsp;&nbsp;</span>小练习</a></span></li><li><span><a href=\"#编写一个函数\" data-toc-modified-id=\"编写一个函数-1.6.3\"><span class=\"toc-item-num\">1.6.3&nbsp;&nbsp;</span>编写一个函数</a></span></li></ul></li><li><span><a href=\"#函数的文档说明\" data-toc-modified-id=\"函数的文档说明-1.7\"><span class=\"toc-item-num\">1.7&nbsp;&nbsp;</span>函数的文档说明</a></span></li><li><span><a href=\"#调用函数时参数的顺序\" data-toc-modified-id=\"调用函数时参数的顺序-1.8\"><span class=\"toc-item-num\">1.8&nbsp;&nbsp;</span>调用函数时参数的顺序</a></span></li><li><span><a href=\"#函数参数种类\" data-toc-modified-id=\"函数参数种类-1.9\"><span class=\"toc-item-num\">1.9&nbsp;&nbsp;</span>函数参数种类</a></span><ul class=\"toc-item\"><li><span><a href=\"#位置参数\" data-toc-modified-id=\"位置参数-1.9.1\"><span class=\"toc-item-num\">1.9.1&nbsp;&nbsp;</span>位置参数</a></span></li><li><span><a href=\"#默认参数\" data-toc-modified-id=\"默认参数-1.9.2\"><span class=\"toc-item-num\">1.9.2&nbsp;&nbsp;</span>默认参数</a></span></li></ul></li><li><span><a href=\"#局部变量与全局变量\" data-toc-modified-id=\"局部变量与全局变量-1.10\"><span class=\"toc-item-num\">1.10&nbsp;&nbsp;</span>局部变量与全局变量</a></span><ul class=\"toc-item\"><li><span><a href=\"#局部变量\" data-toc-modified-id=\"局部变量-1.10.1\"><span class=\"toc-item-num\">1.10.1&nbsp;&nbsp;</span>局部变量</a></span></li><li><span><a href=\"#全局变量\" data-toc-modified-id=\"全局变量-1.10.2\"><span class=\"toc-item-num\">1.10.2&nbsp;&nbsp;</span>全局变量</a></span></li><li><span><a href=\"#全局变量和局部变量名字相同问题\" data-toc-modified-id=\"全局变量和局部变量名字相同问题-1.10.3\"><span class=\"toc-item-num\">1.10.3&nbsp;&nbsp;</span>全局变量和局部变量名字相同问题</a></span></li><li><span><a href=\"#修改全局变量\" data-toc-modified-id=\"修改全局变量-1.10.4\"><span class=\"toc-item-num\">1.10.4&nbsp;&nbsp;</span>修改全局变量</a></span></li><li><span><a href=\"#可变类型的全局变量\" data-toc-modified-id=\"可变类型的全局变量-1.10.5\"><span class=\"toc-item-num\">1.10.5&nbsp;&nbsp;</span>可变类型的全局变量</a></span></li><li><span><a href=\"#小练习\" data-toc-modified-id=\"小练习-1.10.6\"><span class=\"toc-item-num\">1.10.6&nbsp;&nbsp;</span>小练习</a></span></li></ul></li><li><span><a href=\"#可变参数与关键字参数(选学)\" data-toc-modified-id=\"可变参数与关键字参数(选学)-1.11\"><span class=\"toc-item-num\">1.11&nbsp;&nbsp;</span>可变参数与关键字参数(选学)</a></span><ul class=\"toc-item\"><li><span><a href=\"#可变长参数\" data-toc-modified-id=\"可变长参数-1.11.1\"><span class=\"toc-item-num\">1.11.1&nbsp;&nbsp;</span>可变长参数</a></span></li><li><span><a href=\"#关键字参数\" data-toc-modified-id=\"关键字参数-1.11.2\"><span class=\"toc-item-num\">1.11.2&nbsp;&nbsp;</span>关键字参数</a></span></li><li><span><a href=\"#小练习\" data-toc-modified-id=\"小练习-1.11.3\"><span class=\"toc-item-num\">1.11.3&nbsp;&nbsp;</span>小练习</a></span></li></ul></li><li><span><a href=\"#匿名函数(选学)\" data-toc-modified-id=\"匿名函数(选学)-1.12\"><span class=\"toc-item-num\">1.12&nbsp;&nbsp;</span>匿名函数(选学)</a></span><ul class=\"toc-item\"><li><span><a href=\"#lambda函数作用\" data-toc-modified-id=\"lambda函数作用-1.12.1\"><span class=\"toc-item-num\">1.12.1&nbsp;&nbsp;</span>lambda函数作用</a></span></li><li><span><a href=\"#结合高级函数map使用\" data-toc-modified-id=\"结合高级函数map使用-1.12.2\"><span class=\"toc-item-num\">1.12.2&nbsp;&nbsp;</span>结合高级函数map使用</a></span></li></ul></li></ul></li></ul></div>"
   ]
  },
  {
   "cell_type": "markdown",
   "metadata": {},
   "source": [
    "# 函数的定义"
   ]
  },
  {
   "cell_type": "markdown",
   "metadata": {},
   "source": [
    "## 函数定义和调用"
   ]
  },
  {
   "cell_type": "markdown",
   "metadata": {
    "collapsed": true
   },
   "source": [
    "定义函数的格式如下：\n",
    "\n",
    "```python\n",
    "def 函数名():\n",
    "    代码\n",
    "```"
   ]
  },
  {
   "cell_type": "markdown",
   "metadata": {},
   "source": [
    "如果在开发程序时，需要某块代码多次，但是为了提高编写的效率以及代码的重用，所以把具有独立功能的代码块组织为一个小模块，这就是函数"
   ]
  },
  {
   "cell_type": "code",
   "execution_count": 121,
   "metadata": {
    "collapsed": true
   },
   "outputs": [],
   "source": [
    "# 定义一个函数，能够完成打印信息的功能\n",
    "def printInfo():\n",
    "    print ('------------------------------------')\n",
    "    print ('         人生苦短，我用Python')\n",
    "    print ('------------------------------------')"
   ]
  },
  {
   "cell_type": "code",
   "execution_count": 122,
   "metadata": {},
   "outputs": [
    {
     "name": "stdout",
     "output_type": "stream",
     "text": [
      "------------------------------------\n",
      "         人生苦短，我用Python\n",
      "------------------------------------\n"
     ]
    }
   ],
   "source": [
    "printInfo()"
   ]
  },
  {
   "cell_type": "code",
   "execution_count": null,
   "metadata": {
    "collapsed": true
   },
   "outputs": [],
   "source": []
  },
  {
   "cell_type": "markdown",
   "metadata": {},
   "source": [
    "## 小练习\n",
    "\n",
    "要求：定义一个函数，能够打印自己的姓名和年龄，并且调用这个函数让它执行"
   ]
  },
  {
   "cell_type": "code",
   "execution_count": null,
   "metadata": {
    "collapsed": true
   },
   "outputs": [],
   "source": []
  },
  {
   "cell_type": "code",
   "execution_count": null,
   "metadata": {
    "collapsed": true
   },
   "outputs": [],
   "source": []
  },
  {
   "cell_type": "markdown",
   "metadata": {},
   "source": [
    "## 函数的理念和作用"
   ]
  },
  {
   "cell_type": "markdown",
   "metadata": {
    "collapsed": true
   },
   "source": [
    "对于大型的项目, 比较长的代码, 即使是代码的编写者也不可能对内部的每个逻辑记得很清楚.\n",
    "\n",
    "这个时候很有可能读不懂代码到底都在写一些什么东西了.\n",
    "\n",
    "但是对于一个封装好的函数, 我们只需要知道函数需要传入的参数, 以及函数输出的结果就可以了, 并不需要了解内不是如何实现这一功能的.就是把函数当成一个黑匣子来看待.\n",
    "\n",
    "这样就大大简化了程序开发的难度, 所以这也是使用函数的一个很便捷的地方."
   ]
  },
  {
   "cell_type": "code",
   "execution_count": null,
   "metadata": {
    "collapsed": true
   },
   "outputs": [],
   "source": []
  },
  {
   "cell_type": "markdown",
   "metadata": {},
   "source": [
    "## 函数参数"
   ]
  },
  {
   "cell_type": "markdown",
   "metadata": {},
   "source": [
    "思考一个问题，如下：\n",
    "\n",
    "现在需要定义一个函数，这个函数能够完成2个数的加法运算，并且把结果打印出来，该怎样设计？下面的代码可以吗？有什么缺陷吗？"
   ]
  },
  {
   "cell_type": "code",
   "execution_count": 1,
   "metadata": {},
   "outputs": [
    {
     "name": "stdout",
     "output_type": "stream",
     "text": [
      "33\n"
     ]
    }
   ],
   "source": [
    "def add2num():\n",
    "    a = 11\n",
    "    b = 22\n",
    "    c = a+b\n",
    "    print (c)\n",
    "add2num()"
   ]
  },
  {
   "cell_type": "markdown",
   "metadata": {},
   "source": [
    "为了让一个函数更通用，即想让它计算哪两个数的和，就让它计算哪两个数的和，在定义函数的时候可以让函数接收数据，就解决了这个问题，这就是 函数的参数"
   ]
  },
  {
   "cell_type": "code",
   "execution_count": 1,
   "metadata": {},
   "outputs": [],
   "source": [
    "def add2num(a, b):\n",
    "    c = a+b\n",
    "    print (c)\n"
   ]
  },
  {
   "cell_type": "code",
   "execution_count": 2,
   "metadata": {},
   "outputs": [
    {
     "name": "stdout",
     "output_type": "stream",
     "text": [
      "43\n"
     ]
    }
   ],
   "source": [
    "add2num(38, 5)"
   ]
  },
  {
   "cell_type": "code",
   "execution_count": null,
   "metadata": {
    "collapsed": true
   },
   "outputs": [],
   "source": []
  },
  {
   "cell_type": "markdown",
   "metadata": {
    "collapsed": true
   },
   "source": [
    "有了函数的参数之后, 函数已经变得更好用一些了, 但是还不太够, 还缺了什么呢?"
   ]
  },
  {
   "cell_type": "markdown",
   "metadata": {},
   "source": [
    "## 函数返回值"
   ]
  },
  {
   "cell_type": "markdown",
   "metadata": {},
   "source": [
    "定义了一个函数，完成了获取室内温度，那么函数当然应该把温度值返回给调用函数的人，只有调用者拥有了这个返回值，才能够根据当前的温度做适当的调整.\n",
    "\n",
    "这就是函数返回值的作用"
   ]
  },
  {
   "cell_type": "code",
   "execution_count": 3,
   "metadata": {},
   "outputs": [],
   "source": [
    "def add_a_b(a, b):\n",
    "    c = a+b\n",
    "    return c"
   ]
  },
  {
   "cell_type": "code",
   "execution_count": 4,
   "metadata": {},
   "outputs": [
    {
     "data": {
      "text/plain": [
       "8"
      ]
     },
     "execution_count": 4,
     "metadata": {},
     "output_type": "execute_result"
    }
   ],
   "source": [
    "add_a_b(3,5)"
   ]
  },
  {
   "cell_type": "code",
   "execution_count": 6,
   "metadata": {},
   "outputs": [],
   "source": [
    "get_the_return_value = add_a_b(3, 5)"
   ]
  },
  {
   "cell_type": "code",
   "execution_count": 7,
   "metadata": {},
   "outputs": [
    {
     "data": {
      "text/plain": [
       "8"
      ]
     },
     "execution_count": 7,
     "metadata": {},
     "output_type": "execute_result"
    }
   ],
   "source": [
    "get_the_return_value"
   ]
  },
  {
   "cell_type": "code",
   "execution_count": null,
   "metadata": {},
   "outputs": [],
   "source": []
  },
  {
   "cell_type": "markdown",
   "metadata": {},
   "source": [
    "**return 的一个注意事项**"
   ]
  },
  {
   "cell_type": "code",
   "execution_count": 148,
   "metadata": {
    "collapsed": true
   },
   "outputs": [],
   "source": [
    "def add2num(a, b):\n",
    "    c = a+b\n",
    "    return c\n",
    "    d = a*b\n",
    "    print(d)"
   ]
  },
  {
   "cell_type": "markdown",
   "metadata": {},
   "source": [
    "当函数中的代码运行到 return,则函数向调用它的代码送回返回值, 函数结束.\n",
    "\n",
    "不管函数后面还有什么代码, 都不会再被运行了."
   ]
  },
  {
   "cell_type": "markdown",
   "metadata": {},
   "source": [
    "### 返回多个值\n",
    "\n",
    "有的时候, 我们可能会需要函数同时返回多个值, 这个时候应该如何处理呢? "
   ]
  },
  {
   "cell_type": "code",
   "execution_count": 85,
   "metadata": {
    "collapsed": true
   },
   "outputs": [],
   "source": [
    "def divid(a, b):\n",
    "    shang = a//b\n",
    "    yushu = a%b \n",
    "    return shang, yushu\n",
    "\n",
    "sh, yu = divid(5, 2)"
   ]
  },
  {
   "cell_type": "code",
   "execution_count": 87,
   "metadata": {},
   "outputs": [
    {
     "data": {
      "text/plain": [
       "2"
      ]
     },
     "execution_count": 87,
     "metadata": {},
     "output_type": "execute_result"
    }
   ],
   "source": [
    "sh"
   ]
  },
  {
   "cell_type": "code",
   "execution_count": 88,
   "metadata": {},
   "outputs": [
    {
     "data": {
      "text/plain": [
       "1"
      ]
     },
     "execution_count": 88,
     "metadata": {},
     "output_type": "execute_result"
    }
   ],
   "source": [
    "yu"
   ]
  },
  {
   "cell_type": "code",
   "execution_count": 84,
   "metadata": {},
   "outputs": [
    {
     "data": {
      "text/plain": [
       "(3, 1)"
      ]
     },
     "execution_count": 84,
     "metadata": {},
     "output_type": "execute_result"
    }
   ],
   "source": [
    "divmod(7, 2)"
   ]
  },
  {
   "cell_type": "markdown",
   "metadata": {},
   "source": [
    "## 小练习\n",
    "\n",
    "要求：定义一个函数，完成前2个数完成加法运算，然后对第3个数，进行减法；然后调用这个函数"
   ]
  },
  {
   "cell_type": "code",
   "execution_count": 5,
   "metadata": {
    "collapsed": true
   },
   "outputs": [],
   "source": []
  },
  {
   "cell_type": "code",
   "execution_count": 7,
   "metadata": {},
   "outputs": [
    {
     "name": "stdout",
     "output_type": "stream",
     "text": [
      "10\n"
     ]
    }
   ],
   "source": []
  },
  {
   "cell_type": "markdown",
   "metadata": {},
   "source": [
    "### 小练习\n",
    "\n",
    "完成一个函数, 功能和abs相同"
   ]
  },
  {
   "cell_type": "code",
   "execution_count": null,
   "metadata": {
    "collapsed": true
   },
   "outputs": [],
   "source": []
  },
  {
   "cell_type": "markdown",
   "metadata": {},
   "source": [
    "### 小练习\n",
    "完成一个函数功能和sum相同"
   ]
  },
  {
   "cell_type": "code",
   "execution_count": null,
   "metadata": {
    "collapsed": true
   },
   "outputs": [],
   "source": []
  },
  {
   "cell_type": "code",
   "execution_count": null,
   "metadata": {
    "collapsed": true
   },
   "outputs": [],
   "source": []
  },
  {
   "cell_type": "markdown",
   "metadata": {},
   "source": [
    "### 编写一个函数\n",
    "\n",
    "函数功能: 可以根据输入分数来输出不同的等级\n",
    "\n",
    "学习成绩>=90分的同学用A表示，60-89分之间的用B表示，60分以下的用C表示。"
   ]
  },
  {
   "cell_type": "code",
   "execution_count": null,
   "metadata": {},
   "outputs": [],
   "source": []
  },
  {
   "cell_type": "code",
   "execution_count": null,
   "metadata": {},
   "outputs": [],
   "source": []
  },
  {
   "cell_type": "code",
   "execution_count": null,
   "metadata": {
    "collapsed": true
   },
   "outputs": [],
   "source": []
  },
  {
   "cell_type": "markdown",
   "metadata": {},
   "source": [
    "## 函数的文档说明"
   ]
  },
  {
   "cell_type": "code",
   "execution_count": 6,
   "metadata": {
    "collapsed": true
   },
   "outputs": [],
   "source": [
    "def test(a,b):\n",
    "    \"\"\"用来完成对2个数求和\n",
    "    参数:\n",
    "    a:我们的第一个参数用来相加\n",
    "    b:这是相加的第二个参数\n",
    "    return\n",
    "    很抱歉, 这个函数没有返回值\"\"\"\n",
    "    return a + b"
   ]
  },
  {
   "cell_type": "code",
   "execution_count": 7,
   "metadata": {
    "collapsed": true
   },
   "outputs": [],
   "source": [
    "test?"
   ]
  },
  {
   "cell_type": "code",
   "execution_count": 8,
   "metadata": {},
   "outputs": [
    {
     "name": "stdout",
     "output_type": "stream",
     "text": [
      "用来完成对2个数求和\n",
      "    参数:\n",
      "    a:我们的第一个参数用来相加\n",
      "    b:这是相加的第二个参数\n",
      "    return\n",
      "    很抱歉, 这个函数没有返回值\n"
     ]
    }
   ],
   "source": [
    "print(test.__doc__)"
   ]
  },
  {
   "cell_type": "code",
   "execution_count": null,
   "metadata": {
    "collapsed": true
   },
   "outputs": [],
   "source": []
  },
  {
   "cell_type": "markdown",
   "metadata": {},
   "source": [
    "## 调用函数时参数的顺序"
   ]
  },
  {
   "cell_type": "code",
   "execution_count": 12,
   "metadata": {
    "collapsed": true
   },
   "outputs": [],
   "source": [
    "def test(a,b, c):\n",
    "    print(a,b, c)"
   ]
  },
  {
   "cell_type": "code",
   "execution_count": 14,
   "metadata": {},
   "outputs": [
    {
     "ename": "SyntaxError",
     "evalue": "positional argument follows keyword argument (<ipython-input-14-053cfd34d770>, line 1)",
     "output_type": "error",
     "traceback": [
      "\u001b[1;36m  File \u001b[1;32m\"<ipython-input-14-053cfd34d770>\"\u001b[1;36m, line \u001b[1;32m1\u001b[0m\n\u001b[1;33m    test(a=3,3, b=1)\u001b[0m\n\u001b[1;37m            ^\u001b[0m\n\u001b[1;31mSyntaxError\u001b[0m\u001b[1;31m:\u001b[0m positional argument follows keyword argument\n"
     ]
    }
   ],
   "source": [
    "test(a=3,3, b=1)"
   ]
  },
  {
   "cell_type": "code",
   "execution_count": 139,
   "metadata": {},
   "outputs": [
    {
     "name": "stdout",
     "output_type": "stream",
     "text": [
      "1 2\n"
     ]
    }
   ],
   "source": [
    "# 这样可以\n",
    "test(b=2, a=1)"
   ]
  },
  {
   "cell_type": "code",
   "execution_count": 10,
   "metadata": {},
   "outputs": [
    {
     "name": "stdout",
     "output_type": "stream",
     "text": [
      "1 2\n"
     ]
    }
   ],
   "source": [
    "test(1, b=2)"
   ]
  },
  {
   "cell_type": "markdown",
   "metadata": {},
   "source": [
    "定义时小括号中的参数，用来接收参数用的，称为 “形参”\n",
    "\n",
    "调用时小括号中的参数，用来传递给函数用的，称为 “实参”"
   ]
  },
  {
   "cell_type": "markdown",
   "metadata": {},
   "source": [
    "## 函数参数种类"
   ]
  },
  {
   "cell_type": "markdown",
   "metadata": {},
   "source": [
    "### 位置参数"
   ]
  },
  {
   "cell_type": "code",
   "execution_count": 2,
   "metadata": {
    "collapsed": true
   },
   "outputs": [],
   "source": [
    "def power(a, b):\n",
    "    s = 1\n",
    "    for i in range(b):\n",
    "        s *= a\n",
    "    print(s)"
   ]
  },
  {
   "cell_type": "code",
   "execution_count": 3,
   "metadata": {},
   "outputs": [
    {
     "name": "stdout",
     "output_type": "stream",
     "text": [
      "1296\n"
     ]
    }
   ],
   "source": [
    "power(6, 4)"
   ]
  },
  {
   "cell_type": "code",
   "execution_count": 18,
   "metadata": {
    "collapsed": true
   },
   "outputs": [],
   "source": [
    "def power(x, n):\n",
    "    s = 1\n",
    "    while n > 0:\n",
    "        n = n - 1\n",
    "        s = s * x\n",
    "    return s"
   ]
  },
  {
   "cell_type": "code",
   "execution_count": 20,
   "metadata": {},
   "outputs": [
    {
     "data": {
      "text/plain": [
       "16"
      ]
     },
     "execution_count": 20,
     "metadata": {},
     "output_type": "execute_result"
    }
   ],
   "source": [
    "power(2, 4)"
   ]
  },
  {
   "cell_type": "markdown",
   "metadata": {},
   "source": [
    "power(x, n)函数有两个参数：x和n，这两个参数都是位置参数，\n",
    "\n",
    "调用函数时，要按照函数设定的顺序依次传入的参数称为位置参数"
   ]
  },
  {
   "cell_type": "code",
   "execution_count": 21,
   "metadata": {},
   "outputs": [
    {
     "ename": "TypeError",
     "evalue": "power() missing 1 required positional argument: 'n'",
     "output_type": "error",
     "traceback": [
      "\u001b[1;31m---------------------------------------------------------------------------\u001b[0m",
      "\u001b[1;31mTypeError\u001b[0m                                 Traceback (most recent call last)",
      "\u001b[1;32m<ipython-input-21-bcc09a071cf3>\u001b[0m in \u001b[0;36m<module>\u001b[1;34m()\u001b[0m\n\u001b[1;32m----> 1\u001b[1;33m \u001b[0mpower\u001b[0m\u001b[1;33m(\u001b[0m\u001b[1;36m5\u001b[0m\u001b[1;33m)\u001b[0m\u001b[1;33m\u001b[0m\u001b[0m\n\u001b[0m\u001b[0;32m      2\u001b[0m \u001b[1;31m# 则报错, 因为少了一个位置参数\u001b[0m\u001b[1;33m\u001b[0m\u001b[1;33m\u001b[0m\u001b[0m\n",
      "\u001b[1;31mTypeError\u001b[0m: power() missing 1 required positional argument: 'n'"
     ]
    }
   ],
   "source": [
    "power(5)\n",
    "# 则报错, 因为少了一个位置参数"
   ]
  },
  {
   "cell_type": "markdown",
   "metadata": {},
   "source": [
    "我们现在可以思考一下: 我们在平时使用次方功能的时候,最常用的是几次方呢?\n",
    "\n",
    "有没有办法将代码简化一些呢?"
   ]
  },
  {
   "cell_type": "markdown",
   "metadata": {},
   "source": [
    "### 默认参数"
   ]
  },
  {
   "cell_type": "code",
   "execution_count": 4,
   "metadata": {
    "collapsed": true
   },
   "outputs": [],
   "source": [
    "def power(x, n=2): # 因为我们最常计算的是2次方, 因此设置默认参数n=2\n",
    "    s = 1\n",
    "    while n > 0:\n",
    "        n = n - 1\n",
    "        s = s * x\n",
    "    return s"
   ]
  },
  {
   "cell_type": "code",
   "execution_count": 5,
   "metadata": {},
   "outputs": [
    {
     "data": {
      "text/plain": [
       "9"
      ]
     },
     "execution_count": 5,
     "metadata": {},
     "output_type": "execute_result"
    }
   ],
   "source": [
    "power(3)"
   ]
  },
  {
   "cell_type": "markdown",
   "metadata": {},
   "source": [
    "注意:必选参数在前，默认参数在后，否则会报错\n",
    "\n",
    "默认参数降低了函数调用的难度，而一旦需要更复杂的调用时，又可以传递更多的参数来实现。无论是简单调用还是复杂调用，函数只需要定义一个。"
   ]
  },
  {
   "cell_type": "code",
   "execution_count": null,
   "metadata": {
    "collapsed": true
   },
   "outputs": [],
   "source": []
  },
  {
   "cell_type": "code",
   "execution_count": null,
   "metadata": {
    "collapsed": true
   },
   "outputs": [],
   "source": []
  },
  {
   "cell_type": "code",
   "execution_count": null,
   "metadata": {
    "collapsed": true
   },
   "outputs": [],
   "source": []
  },
  {
   "cell_type": "code",
   "execution_count": null,
   "metadata": {
    "collapsed": true
   },
   "outputs": [],
   "source": []
  },
  {
   "cell_type": "code",
   "execution_count": null,
   "metadata": {
    "collapsed": true
   },
   "outputs": [],
   "source": []
  },
  {
   "cell_type": "code",
   "execution_count": null,
   "metadata": {
    "collapsed": true
   },
   "outputs": [],
   "source": []
  },
  {
   "cell_type": "markdown",
   "metadata": {
    "collapsed": true
   },
   "source": [
    "## 局部变量与全局变量"
   ]
  },
  {
   "cell_type": "markdown",
   "metadata": {},
   "source": [
    "### 局部变量\n",
    "\n",
    "就是在函数内部定义的变量"
   ]
  },
  {
   "cell_type": "code",
   "execution_count": 2,
   "metadata": {},
   "outputs": [
    {
     "name": "stdout",
     "output_type": "stream",
     "text": [
      "在test1中a= 300\n",
      "在test2中a= 400\n",
      "200\n"
     ]
    }
   ],
   "source": [
    "a = 200\n",
    "def test1():\n",
    "    a = 300\n",
    "    print(\"在test1中a=\", a)\n",
    "    \n",
    "def test2():\n",
    "    a = 400\n",
    "    print(\"在test2中a=\", a)\n",
    "    \n",
    "test1()\n",
    "test2()\n",
    "print(a)"
   ]
  },
  {
   "cell_type": "markdown",
   "metadata": {},
   "source": [
    "不同的函数，可以定义相同的名字的局部变量，但是各用个的不会产生影响\n",
    "\n",
    "局部变量的作用，为了临时保存数据需要在函数中定义变量来进行存储，这就是它的作用"
   ]
  },
  {
   "cell_type": "markdown",
   "metadata": {},
   "source": [
    "### 全局变量\n",
    "\n",
    "如果一个变量，既能在一个函数中使用，也能在其他的函数中使用，这样的变量就是全局变量"
   ]
  },
  {
   "cell_type": "code",
   "execution_count": 9,
   "metadata": {},
   "outputs": [
    {
     "name": "stdout",
     "output_type": "stream",
     "text": [
      "100\n",
      "1100\n"
     ]
    }
   ],
   "source": [
    "# 定义全局变量\n",
    "a = 100\n",
    "\n",
    "def test1():\n",
    "    print(a)\n",
    "\n",
    "def test2():\n",
    "    b = 1000\n",
    "    \n",
    "    print(a+b)\n",
    "\n",
    "# 调用函数\n",
    "test1()\n",
    "test2()"
   ]
  },
  {
   "cell_type": "markdown",
   "metadata": {},
   "source": [
    "### 全局变量和局部变量名字相同问题"
   ]
  },
  {
   "cell_type": "code",
   "execution_count": 6,
   "metadata": {
    "scrolled": true
   },
   "outputs": [
    {
     "name": "stdout",
     "output_type": "stream",
     "text": [
      "test1中a是:  300\n",
      "test2中a是:  100\n",
      "100\n"
     ]
    }
   ],
   "source": [
    "# 定义全局变量\n",
    "a = 100\n",
    "def test1():\n",
    "    a = 300\n",
    "    print(\"test1中a是: \", a)\n",
    "def test2():\n",
    "    print(\"test2中a是: \", a)\n",
    "test1()\n",
    "test2()\n",
    "print(a)"
   ]
  },
  {
   "cell_type": "markdown",
   "metadata": {
    "collapsed": true
   },
   "source": [
    "### 修改全局变量\n",
    "\n",
    "一个自然而然的需求, 能不能再函数内部修改全局变量呢?"
   ]
  },
  {
   "cell_type": "code",
   "execution_count": null,
   "metadata": {
    "collapsed": true
   },
   "outputs": [],
   "source": []
  },
  {
   "cell_type": "code",
   "execution_count": 7,
   "metadata": {},
   "outputs": [
    {
     "name": "stdout",
     "output_type": "stream",
     "text": [
      "test1中a是:  300\n",
      "test2中a是:  300\n",
      "300\n"
     ]
    }
   ],
   "source": [
    "# 定义全局变量\n",
    "a = 100\n",
    "def test1():\n",
    "    global a\n",
    "    a = 300\n",
    "    print(\"test1中a是: \", a)\n",
    "def test2():\n",
    "    print(\"test2中a是: \", a)\n",
    "test1()\n",
    "test2()\n",
    "print(a)"
   ]
  },
  {
   "cell_type": "markdown",
   "metadata": {
    "collapsed": true
   },
   "source": [
    "总结一下: \n",
    "\n",
    "1. 在函数外边定义的变量叫做全局变量\n",
    "2. 全局变量能够在所有的函数中进行访问\n",
    "3. 如果在函数中修改全局变量，那么就需要使用global进行声明，否则出错\n",
    "4. 如果全局变量的名字和局部变量的名字相同，那么使用的是局部变量的，小技巧强龙不压地头蛇"
   ]
  },
  {
   "cell_type": "code",
   "execution_count": null,
   "metadata": {},
   "outputs": [],
   "source": []
  },
  {
   "cell_type": "markdown",
   "metadata": {},
   "source": [
    "### 可变类型的全局变量"
   ]
  },
  {
   "cell_type": "code",
   "execution_count": 9,
   "metadata": {},
   "outputs": [
    {
     "ename": "UnboundLocalError",
     "evalue": "local variable 'a' referenced before assignment",
     "output_type": "error",
     "traceback": [
      "\u001b[1;31m---------------------------------------------------------------------------\u001b[0m",
      "\u001b[1;31mUnboundLocalError\u001b[0m                         Traceback (most recent call last)",
      "\u001b[1;32m<ipython-input-9-36648ce4c0b3>\u001b[0m in \u001b[0;36m<module>\u001b[1;34m()\u001b[0m\n\u001b[0;32m      4\u001b[0m     \u001b[0mprint\u001b[0m \u001b[1;33m(\u001b[0m\u001b[0ma\u001b[0m\u001b[1;33m)\u001b[0m\u001b[1;33m\u001b[0m\u001b[0m\n\u001b[0;32m      5\u001b[0m \u001b[1;33m\u001b[0m\u001b[0m\n\u001b[1;32m----> 6\u001b[1;33m \u001b[0mf\u001b[0m\u001b[1;33m(\u001b[0m\u001b[1;33m)\u001b[0m\u001b[1;33m\u001b[0m\u001b[0m\n\u001b[0m",
      "\u001b[1;32m<ipython-input-9-36648ce4c0b3>\u001b[0m in \u001b[0;36mf\u001b[1;34m()\u001b[0m\n\u001b[0;32m      1\u001b[0m \u001b[0ma\u001b[0m \u001b[1;33m=\u001b[0m \u001b[1;36m1\u001b[0m\u001b[1;33m\u001b[0m\u001b[0m\n\u001b[0;32m      2\u001b[0m \u001b[1;32mdef\u001b[0m \u001b[0mf\u001b[0m\u001b[1;33m(\u001b[0m\u001b[1;33m)\u001b[0m\u001b[1;33m:\u001b[0m\u001b[1;33m\u001b[0m\u001b[0m\n\u001b[1;32m----> 3\u001b[1;33m     \u001b[0ma\u001b[0m \u001b[1;33m+=\u001b[0m \u001b[1;36m1\u001b[0m\u001b[1;33m\u001b[0m\u001b[0m\n\u001b[0m\u001b[0;32m      4\u001b[0m     \u001b[0mprint\u001b[0m \u001b[1;33m(\u001b[0m\u001b[0ma\u001b[0m\u001b[1;33m)\u001b[0m\u001b[1;33m\u001b[0m\u001b[0m\n\u001b[0;32m      5\u001b[0m \u001b[1;33m\u001b[0m\u001b[0m\n",
      "\u001b[1;31mUnboundLocalError\u001b[0m: local variable 'a' referenced before assignment"
     ]
    }
   ],
   "source": [
    "a = 1\n",
    "def f():\n",
    "    a += 1\n",
    "    print (a)\n",
    "\n",
    "f()"
   ]
  },
  {
   "cell_type": "code",
   "execution_count": 13,
   "metadata": {},
   "outputs": [
    {
     "name": "stdout",
     "output_type": "stream",
     "text": [
      "2\n"
     ]
    }
   ],
   "source": [
    "a = 1\n",
    "def f():\n",
    "    global a\n",
    "    a += 1\n",
    "    print (a)\n",
    "\n",
    "f()"
   ]
  },
  {
   "cell_type": "code",
   "execution_count": 12,
   "metadata": {},
   "outputs": [
    {
     "name": "stdout",
     "output_type": "stream",
     "text": [
      "[1, 1]\n"
     ]
    }
   ],
   "source": [
    "li = [1,]\n",
    "def f2():\n",
    "    li.append(1)\n",
    "    print (li)\n",
    "f2()"
   ]
  },
  {
   "cell_type": "markdown",
   "metadata": {},
   "source": [
    "在函数中不使用global声明全局变量时不能修改全局变量的本质是不能修改全局变量的指向，即不能将全局变量指向新的数据。\n",
    "\n",
    "对于不可变类型的全局变量来说，因其指向的数据不能修改，所以不使用global时无法修改全局变量。\n",
    "\n",
    "对于可变类型的全局变量来说，因其指向的数据可以修改，所以不使用global时也可修改全局变量。"
   ]
  },
  {
   "cell_type": "markdown",
   "metadata": {},
   "source": [
    "### 小练习"
   ]
  },
  {
   "cell_type": "markdown",
   "metadata": {
    "collapsed": true
   },
   "source": [
    "写函数，检查传入列表的长度，如果大于2，那么仅保留前两个长度的内容，并将新内容返回给调用者。\n",
    "\n",
    "写函数，检查传入字典的每一个value的长度,如果大于2，那么仅保留前两个长度的内容，并将新内容返回给调用者。"
   ]
  },
  {
   "cell_type": "code",
   "execution_count": 183,
   "metadata": {
    "collapsed": true
   },
   "outputs": [],
   "source": [
    "dic = {\"k1\": \"v1v1\", \"k2\": [11,22,33,44], 'k3':'gogogo'}"
   ]
  },
  {
   "cell_type": "code",
   "execution_count": 177,
   "metadata": {
    "collapsed": true
   },
   "outputs": [],
   "source": [
    "L = [4, 5, 6, 7, '3434']\n",
    "L1 = [3, 4]"
   ]
  },
  {
   "cell_type": "code",
   "execution_count": 179,
   "metadata": {
    "collapsed": true
   },
   "outputs": [],
   "source": [
    "def cal_list_lenth(x):\n",
    "    if len(x) > 2:\n",
    "        return x[0:2]\n",
    "    else:\n",
    "        return x "
   ]
  },
  {
   "cell_type": "code",
   "execution_count": 181,
   "metadata": {},
   "outputs": [
    {
     "data": {
      "text/plain": [
       "[3, 4]"
      ]
     },
     "execution_count": 181,
     "metadata": {},
     "output_type": "execute_result"
    }
   ],
   "source": [
    "cal_list_lenth(L1)"
   ]
  },
  {
   "cell_type": "markdown",
   "metadata": {},
   "source": [
    "写函数，检查传入字典的每一个value的长度,如果大于2，那么仅保留前两个长度的内容，并将新内容返回给调用者。"
   ]
  },
  {
   "cell_type": "code",
   "execution_count": 184,
   "metadata": {},
   "outputs": [
    {
     "data": {
      "text/plain": [
       "{'k1': 'v1v1', 'k2': [11, 22, 33, 44], 'k3': 'gogogo'}"
      ]
     },
     "execution_count": 184,
     "metadata": {},
     "output_type": "execute_result"
    }
   ],
   "source": [
    "dic"
   ]
  },
  {
   "cell_type": "code",
   "execution_count": 188,
   "metadata": {},
   "outputs": [
    {
     "data": {
      "text/plain": [
       "'v1v1'"
      ]
     },
     "execution_count": 188,
     "metadata": {},
     "output_type": "execute_result"
    }
   ],
   "source": [
    "dic['k1'] = "
   ]
  },
  {
   "cell_type": "code",
   "execution_count": 186,
   "metadata": {},
   "outputs": [
    {
     "data": {
      "text/plain": [
       "dict_items([('k1', 'v1v1'), ('k3', 'gogogo'), ('k2', [11, 22, 33, 44])])"
      ]
     },
     "execution_count": 186,
     "metadata": {},
     "output_type": "execute_result"
    }
   ],
   "source": [
    "dic.items()"
   ]
  },
  {
   "cell_type": "code",
   "execution_count": 1,
   "metadata": {
    "collapsed": true
   },
   "outputs": [],
   "source": [
    "def get_the_dic(x):\n",
    "    for i, j in x.items():\n",
    "        if len(j) > 2:\n",
    "            x[i] = j[0:2]\n",
    "    return x"
   ]
  },
  {
   "cell_type": "code",
   "execution_count": 5,
   "metadata": {
    "collapsed": true
   },
   "outputs": [],
   "source": [
    "dic = {\"k1\": \"v1v1\", \"k2\": [11,22,33,44], 'k3':'gogogo'}"
   ]
  },
  {
   "cell_type": "code",
   "execution_count": 3,
   "metadata": {},
   "outputs": [
    {
     "data": {
      "text/plain": [
       "{'k1': 'v1', 'k2': [11, 22], 'k3': 'go'}"
      ]
     },
     "execution_count": 3,
     "metadata": {},
     "output_type": "execute_result"
    }
   ],
   "source": [
    "get_the_dic(dic)"
   ]
  },
  {
   "cell_type": "code",
   "execution_count": 4,
   "metadata": {},
   "outputs": [
    {
     "data": {
      "text/plain": [
       "{'k1': 'v1', 'k2': [11, 22], 'k3': 'go'}"
      ]
     },
     "execution_count": 4,
     "metadata": {},
     "output_type": "execute_result"
    }
   ],
   "source": [
    "dic"
   ]
  },
  {
   "cell_type": "code",
   "execution_count": 6,
   "metadata": {
    "collapsed": true
   },
   "outputs": [],
   "source": [
    "def get_the_dict(dic):\n",
    "    for i, j in dic.items():\n",
    "        if len(j) > 2:\n",
    "            dic[i] = j[0:2]\n",
    "    return dic"
   ]
  },
  {
   "cell_type": "code",
   "execution_count": 7,
   "metadata": {},
   "outputs": [
    {
     "data": {
      "text/plain": [
       "{'k1': 'v1', 'k2': [11, 22], 'k3': 'go'}"
      ]
     },
     "execution_count": 7,
     "metadata": {},
     "output_type": "execute_result"
    }
   ],
   "source": [
    "get_the_dict(dic)"
   ]
  },
  {
   "cell_type": "code",
   "execution_count": 8,
   "metadata": {},
   "outputs": [
    {
     "data": {
      "text/plain": [
       "{'k1': 'v1', 'k2': [11, 22], 'k3': 'go'}"
      ]
     },
     "execution_count": 8,
     "metadata": {},
     "output_type": "execute_result"
    }
   ],
   "source": [
    "dic"
   ]
  },
  {
   "cell_type": "code",
   "execution_count": 167,
   "metadata": {},
   "outputs": [
    {
     "name": "stdout",
     "output_type": "stream",
     "text": [
      "k1 v1v1\n",
      "k3 gogogo\n",
      "k2 [11, 22, 33, 44]\n"
     ]
    }
   ],
   "source": [
    "dic\n",
    "for i, j in dic.items():\n",
    "    print(i, j)"
   ]
  },
  {
   "cell_type": "code",
   "execution_count": null,
   "metadata": {},
   "outputs": [],
   "source": []
  },
  {
   "cell_type": "code",
   "execution_count": null,
   "metadata": {},
   "outputs": [],
   "source": []
  },
  {
   "cell_type": "markdown",
   "metadata": {},
   "source": [
    "## 可变参数与关键字参数(选学)\n",
    "\n",
    "可变参数, 就是当我们定义函数的时候还不知道具体需要传入多少个参数, 或者参数太长了不方便写.\n",
    "\n",
    "可变参数就是传入的参数个数是可变的，可以是1个、2个到任意个，还可以是0个。\n",
    "\n",
    "而关键字参数允许你传入0个或任意个含参数名的参数，这些关键字参数在函数内部自动组装为一个dict。"
   ]
  },
  {
   "cell_type": "markdown",
   "metadata": {},
   "source": [
    "### 可变长参数"
   ]
  },
  {
   "cell_type": "markdown",
   "metadata": {
    "collapsed": true
   },
   "source": [
    "原来写一个函数计算一个列表的加和, 现在想要这样一个功能, 不需要传入列表, 可以传入任意个参数, 然后计算参数的加和"
   ]
  },
  {
   "cell_type": "code",
   "execution_count": null,
   "metadata": {
    "collapsed": true
   },
   "outputs": [],
   "source": [
    "change_sum(1, 2, 3, 4, 5, 6, 7) # (1, 2, 3, 4, 5, 6, 7)"
   ]
  },
  {
   "cell_type": "code",
   "execution_count": 54,
   "metadata": {
    "collapsed": true
   },
   "outputs": [],
   "source": [
    "def change_sum(*args):\n",
    "    sum = 0\n",
    "    print(args)\n",
    "    return sum"
   ]
  },
  {
   "cell_type": "code",
   "execution_count": 55,
   "metadata": {},
   "outputs": [
    {
     "name": "stdout",
     "output_type": "stream",
     "text": [
      "(1, 2, 3, 4, 5, 6, 7, 8, 9, 10)\n"
     ]
    }
   ],
   "source": [
    "change_sum(1, 2, 3, 4, 5, 6, 7, 8, 9, 10)"
   ]
  },
  {
   "cell_type": "code",
   "execution_count": 36,
   "metadata": {
    "collapsed": true
   },
   "outputs": [],
   "source": [
    "# 进一步简化\n",
    "def total_sum2(*args):\n",
    "    a = 0\n",
    "    for i in args:\n",
    "        a += i\n",
    "    print(a)\n"
   ]
  },
  {
   "cell_type": "code",
   "execution_count": 98,
   "metadata": {
    "collapsed": true
   },
   "outputs": [],
   "source": [
    "def fun(a,b=2, *args):\n",
    "    print(a)\n",
    "    print(b)\n",
    "    print(\"-\"*50)\n",
    "    print(*args)"
   ]
  },
  {
   "cell_type": "code",
   "execution_count": 99,
   "metadata": {},
   "outputs": [
    {
     "name": "stdout",
     "output_type": "stream",
     "text": [
      "1\n",
      "2\n",
      "--------------------------------------------------\n",
      "34 5 5 6 7\n"
     ]
    }
   ],
   "source": [
    "fun(1, 2, 34,5 , 5, 6, 7)"
   ]
  },
  {
   "cell_type": "code",
   "execution_count": 37,
   "metadata": {},
   "outputs": [
    {
     "name": "stdout",
     "output_type": "stream",
     "text": [
      "500500\n"
     ]
    }
   ],
   "source": [
    "total_sum2(*range(1, 1001))"
   ]
  },
  {
   "cell_type": "markdown",
   "metadata": {},
   "source": [
    "### 关键字参数"
   ]
  },
  {
   "cell_type": "code",
   "execution_count": 2,
   "metadata": {
    "collapsed": true
   },
   "outputs": [],
   "source": [
    "def fun(a, b, *args, **kwargs):\n",
    "    \"\"\"可变参数演示示例\"\"\"\n",
    "    print (\"a =\", a)\n",
    "    print (\"b =\", b) \n",
    "    print (\"args =\", args)\n",
    "    print (\"kwargs: \")\n",
    "    print(kwargs)"
   ]
  },
  {
   "cell_type": "code",
   "execution_count": 3,
   "metadata": {},
   "outputs": [
    {
     "name": "stdout",
     "output_type": "stream",
     "text": [
      "a = 1\n",
      "b = 2\n",
      "args = (3, 4, 5)\n",
      "kwargs: \n",
      "{'m': 6, 'n': 7, 'p': 8}\n"
     ]
    }
   ],
   "source": [
    "fun(1, 2, 3, 4, 5, m=6, n=7, p=8)"
   ]
  },
  {
   "cell_type": "code",
   "execution_count": 42,
   "metadata": {
    "collapsed": true
   },
   "outputs": [],
   "source": [
    "def fun(a, b, *args, **kwargs):\n",
    "    \"\"\"可变参数演示示例\"\"\"\n",
    "    print (\"a =\", a)\n",
    "    print (\"b =\", b) \n",
    "    print (\"args =\", args)\n",
    "    print (\"kwargs: \")\n",
    "    for key, value in kwargs.items():\n",
    "        print (key, \"=\", value)"
   ]
  },
  {
   "cell_type": "code",
   "execution_count": 43,
   "metadata": {},
   "outputs": [
    {
     "name": "stdout",
     "output_type": "stream",
     "text": [
      "a = 1\n",
      "b = 2\n",
      "args = (3, 4, 5)\n",
      "kwargs: \n",
      "m = 6\n",
      "n = 7\n",
      "p = 8\n"
     ]
    }
   ],
   "source": [
    "fun(1, 2, 3, 4, 5, m=6, n=7, p=8)"
   ]
  },
  {
   "cell_type": "code",
   "execution_count": 44,
   "metadata": {},
   "outputs": [
    {
     "name": "stdout",
     "output_type": "stream",
     "text": [
      "a = 1\n",
      "b = 2\n",
      "args = (3, 4, 5)\n",
      "kwargs: \n",
      "m = 6\n",
      "n = 7\n",
      "p = 8\n"
     ]
    }
   ],
   "source": [
    "c = (3, 4, 5)\n",
    "d = {\"m\":6, \"n\":7, \"p\":8}\n",
    "fun(1, 2, *c, **d)    # 注意元组与字典的传参方式"
   ]
  },
  {
   "cell_type": "code",
   "execution_count": 45,
   "metadata": {},
   "outputs": [
    {
     "name": "stdout",
     "output_type": "stream",
     "text": [
      "a = 1\n",
      "b = 2\n",
      "args = ((3, 4, 5), {'m': 6, 'n': 7, 'p': 8})\n",
      "kwargs: \n"
     ]
    }
   ],
   "source": [
    "fun(1, 2, c, d)"
   ]
  },
  {
   "cell_type": "code",
   "execution_count": null,
   "metadata": {
    "collapsed": true
   },
   "outputs": [],
   "source": []
  },
  {
   "cell_type": "markdown",
   "metadata": {},
   "source": [
    "### 小练习\n",
    "\n",
    "给定一组数字a，b，c……，请计算$a^2 + b^2 + c^2 + ……$"
   ]
  },
  {
   "cell_type": "code",
   "execution_count": null,
   "metadata": {},
   "outputs": [],
   "source": []
  },
  {
   "cell_type": "code",
   "execution_count": null,
   "metadata": {},
   "outputs": [],
   "source": []
  },
  {
   "cell_type": "markdown",
   "metadata": {},
   "source": [
    "可变参数允许你传入0个或任意个参数，这些可变参数在函数调用时自动组装为一个tuple"
   ]
  },
  {
   "cell_type": "code",
   "execution_count": null,
   "metadata": {},
   "outputs": [],
   "source": []
  },
  {
   "cell_type": "code",
   "execution_count": null,
   "metadata": {},
   "outputs": [],
   "source": []
  },
  {
   "cell_type": "markdown",
   "metadata": {},
   "source": [
    "## 匿名函数(选学)\n",
    "\n",
    "用lambda关键词能创建小型匿名函数。这种函数得名于省略了用def声明函数的标准步骤\n",
    "\n",
    "lambda函数的语法只包含一个语句，如下：\n",
    "```python\n",
    " lambda [参数列表]:表达式\n",
    "\n",
    " lambda [arg1 [,arg2,.....argn]]:expression\n",
    "\n",
    "```"
   ]
  },
  {
   "cell_type": "code",
   "execution_count": 1,
   "metadata": {},
   "outputs": [],
   "source": [
    "sum_num = lambda arg1, arg2: arg1 + arg2"
   ]
  },
  {
   "cell_type": "code",
   "execution_count": 2,
   "metadata": {},
   "outputs": [],
   "source": [
    "# 等同于\n",
    "def sum_num_2(arg1, arg2):\n",
    "    return arg1 + arg2"
   ]
  },
  {
   "cell_type": "code",
   "execution_count": 3,
   "metadata": {},
   "outputs": [
    {
     "data": {
      "text/plain": [
       "<function __main__.sum_num_2(arg1, arg2)>"
      ]
     },
     "execution_count": 3,
     "metadata": {},
     "output_type": "execute_result"
    }
   ],
   "source": [
    "sum_num_2"
   ]
  },
  {
   "cell_type": "code",
   "execution_count": 4,
   "metadata": {},
   "outputs": [
    {
     "data": {
      "text/plain": [
       "<function __main__.<lambda>(arg1, arg2)>"
      ]
     },
     "execution_count": 4,
     "metadata": {},
     "output_type": "execute_result"
    }
   ],
   "source": [
    "sum_num"
   ]
  },
  {
   "cell_type": "code",
   "execution_count": 5,
   "metadata": {},
   "outputs": [
    {
     "data": {
      "text/plain": [
       "3"
      ]
     },
     "execution_count": 5,
     "metadata": {},
     "output_type": "execute_result"
    }
   ],
   "source": [
    "sum_num(1, 2)"
   ]
  },
  {
   "cell_type": "code",
   "execution_count": 6,
   "metadata": {},
   "outputs": [
    {
     "data": {
      "text/plain": [
       "30"
      ]
     },
     "execution_count": 6,
     "metadata": {},
     "output_type": "execute_result"
    }
   ],
   "source": [
    "sum_num_2(10, 20)"
   ]
  },
  {
   "cell_type": "code",
   "execution_count": null,
   "metadata": {},
   "outputs": [],
   "source": []
  },
  {
   "cell_type": "markdown",
   "metadata": {},
   "source": [
    "### lambda函数作用"
   ]
  },
  {
   "cell_type": "markdown",
   "metadata": {},
   "source": [
    "1. 使用Python写一些执行脚本时，使用lambda可以省去定义函数的过程，让代码更加精简。\n",
    "\n",
    "2. 对于一些抽象的，不会别的地方再复用的函数，有时候给函数起个名字也是个难题，使用lambda不需要考虑命名的问题。\n",
    "\n",
    "3. 使用lambda在某些时候让代码更容易理解。"
   ]
  },
  {
   "cell_type": "markdown",
   "metadata": {},
   "source": [
    "### 结合高级函数map使用\n",
    "\n",
    "map函数功能, 将一个函数映射到一个可遍历数据中的每一个元素中的去"
   ]
  },
  {
   "cell_type": "code",
   "execution_count": null,
   "metadata": {},
   "outputs": [],
   "source": [
    "map(func, *iterables) "
   ]
  },
  {
   "cell_type": "code",
   "execution_count": 11,
   "metadata": {},
   "outputs": [
    {
     "data": {
      "text/plain": [
       "[1, 2, 3, 4, 5, 6, 7, 8, 9]"
      ]
     },
     "execution_count": 11,
     "metadata": {},
     "output_type": "execute_result"
    }
   ],
   "source": [
    "k = list(range(1,10))\n",
    "k"
   ]
  },
  {
   "cell_type": "code",
   "execution_count": 12,
   "metadata": {},
   "outputs": [],
   "source": [
    "def f(x):\n",
    "    return x*2"
   ]
  },
  {
   "cell_type": "code",
   "execution_count": 14,
   "metadata": {},
   "outputs": [
    {
     "data": {
      "text/plain": [
       "[2, 4, 6, 8, 10, 12, 14, 16, 18]"
      ]
     },
     "execution_count": 14,
     "metadata": {},
     "output_type": "execute_result"
    }
   ],
   "source": [
    "list(map(f, k))"
   ]
  },
  {
   "cell_type": "code",
   "execution_count": 15,
   "metadata": {},
   "outputs": [
    {
     "data": {
      "text/plain": [
       "[2, 4, 6, 8, 10, 12, 14, 16, 18]"
      ]
     },
     "execution_count": 15,
     "metadata": {},
     "output_type": "execute_result"
    }
   ],
   "source": [
    "# 上面代码用lambda就可以简化成\n",
    "list(map(lambda x:x*2, k))"
   ]
  },
  {
   "cell_type": "code",
   "execution_count": null,
   "metadata": {},
   "outputs": [],
   "source": []
  },
  {
   "cell_type": "code",
   "execution_count": null,
   "metadata": {},
   "outputs": [],
   "source": []
  },
  {
   "cell_type": "code",
   "execution_count": null,
   "metadata": {},
   "outputs": [],
   "source": []
  },
  {
   "cell_type": "code",
   "execution_count": 9,
   "metadata": {},
   "outputs": [
    {
     "data": {
      "text/plain": [
       "[18, 9, 24, 12, 27]"
      ]
     },
     "execution_count": 9,
     "metadata": {},
     "output_type": "execute_result"
    }
   ],
   "source": [
    "foo = [2, 18, 9, 22, 17, 24, 8, 12, 27]\n",
    "list(filter(lambda x: x % 3 == 0, foo))"
   ]
  },
  {
   "cell_type": "code",
   "execution_count": null,
   "metadata": {},
   "outputs": [],
   "source": []
  },
  {
   "cell_type": "code",
   "execution_count": null,
   "metadata": {},
   "outputs": [],
   "source": []
  },
  {
   "cell_type": "code",
   "execution_count": null,
   "metadata": {},
   "outputs": [],
   "source": []
  },
  {
   "cell_type": "code",
   "execution_count": null,
   "metadata": {},
   "outputs": [],
   "source": []
  },
  {
   "cell_type": "code",
   "execution_count": null,
   "metadata": {
    "collapsed": true
   },
   "outputs": [],
   "source": []
  },
  {
   "cell_type": "code",
   "execution_count": null,
   "metadata": {
    "collapsed": true
   },
   "outputs": [],
   "source": []
  },
  {
   "cell_type": "code",
   "execution_count": null,
   "metadata": {
    "collapsed": true
   },
   "outputs": [],
   "source": []
  },
  {
   "cell_type": "code",
   "execution_count": null,
   "metadata": {
    "collapsed": true
   },
   "outputs": [],
   "source": []
  }
 ],
 "metadata": {
  "kernelspec": {
   "display_name": "Python 3",
   "language": "python",
   "name": "python3"
  },
  "language_info": {
   "codemirror_mode": {
    "name": "ipython",
    "version": 3
   },
   "file_extension": ".py",
   "mimetype": "text/x-python",
   "name": "python",
   "nbconvert_exporter": "python",
   "pygments_lexer": "ipython3",
   "version": "3.7.4"
  },
  "nbTranslate": {
   "displayLangs": [
    "en"
   ],
   "hotkey": "alt-t",
   "langInMainMenu": true,
   "sourceLang": "ch",
   "targetLang": "en",
   "useGoogleTranslate": true
  },
  "toc": {
   "base_numbering": 1,
   "nav_menu": {},
   "number_sections": true,
   "sideBar": true,
   "skip_h1_title": false,
   "title_cell": "Table of Contents",
   "title_sidebar": "Contents",
   "toc_cell": true,
   "toc_position": {
    "height": "calc(100% - 180px)",
    "left": "10px",
    "top": "150px",
    "width": "270px"
   },
   "toc_section_display": true,
   "toc_window_display": true
  },
  "varInspector": {
   "cols": {
    "lenName": 16,
    "lenType": 16,
    "lenVar": 40
   },
   "kernels_config": {
    "python": {
     "delete_cmd_postfix": "",
     "delete_cmd_prefix": "del ",
     "library": "var_list.py",
     "varRefreshCmd": "print(var_dic_list())"
    },
    "r": {
     "delete_cmd_postfix": ") ",
     "delete_cmd_prefix": "rm(",
     "library": "var_list.r",
     "varRefreshCmd": "cat(var_dic_list()) "
    }
   },
   "types_to_exclude": [
    "module",
    "function",
    "builtin_function_or_method",
    "instance",
    "_Feature"
   ],
   "window_display": false
  }
 },
 "nbformat": 4,
 "nbformat_minor": 2
}
