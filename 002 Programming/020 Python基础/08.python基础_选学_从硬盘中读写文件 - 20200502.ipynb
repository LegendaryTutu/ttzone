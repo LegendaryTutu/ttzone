{
 "cells": [
  {
   "cell_type": "markdown",
   "metadata": {
    "toc": true
   },
   "source": [
    "<h1>目录<span class=\"tocSkip\"></span></h1>\n",
    "<div class=\"toc\"><ul class=\"toc-item\"><li><span><a href=\"#打开文件\" data-toc-modified-id=\"打开文件-1\"><span class=\"toc-item-num\">1&nbsp;&nbsp;</span>打开文件</a></span></li><li><span><a href=\"#关闭文件\" data-toc-modified-id=\"关闭文件-2\"><span class=\"toc-item-num\">2&nbsp;&nbsp;</span>关闭文件</a></span></li><li><span><a href=\"#文件的读写\" data-toc-modified-id=\"文件的读写-3\"><span class=\"toc-item-num\">3&nbsp;&nbsp;</span>文件的读写</a></span></li><li><span><a href=\"#读数据(read)\" data-toc-modified-id=\"读数据(read)-4\"><span class=\"toc-item-num\">4&nbsp;&nbsp;</span>读数据(read)</a></span></li><li><span><a href=\"#读数据（readlines）\" data-toc-modified-id=\"读数据（readlines）-5\"><span class=\"toc-item-num\">5&nbsp;&nbsp;</span>读数据（readlines）</a></span></li><li><span><a href=\"#打开/关闭文件\" data-toc-modified-id=\"打开/关闭文件-6\"><span class=\"toc-item-num\">6&nbsp;&nbsp;</span>打开/关闭文件</a></span><ul class=\"toc-item\"><li><span><a href=\"#小练习:\" data-toc-modified-id=\"小练习:-6.1\"><span class=\"toc-item-num\">6.1&nbsp;&nbsp;</span>小练习:</a></span></li></ul></li><li><span><a href=\"#文件的重命名、删除\" data-toc-modified-id=\"文件的重命名、删除-7\"><span class=\"toc-item-num\">7&nbsp;&nbsp;</span>文件的重命名、删除</a></span><ul class=\"toc-item\"><li><span><a href=\"#文件重命名\" data-toc-modified-id=\"文件重命名-7.1\"><span class=\"toc-item-num\">7.1&nbsp;&nbsp;</span>文件重命名</a></span></li><li><span><a href=\"#删除文件\" data-toc-modified-id=\"删除文件-7.2\"><span class=\"toc-item-num\">7.2&nbsp;&nbsp;</span>删除文件</a></span></li></ul></li><li><span><a href=\"#文件夹的相关操作\" data-toc-modified-id=\"文件夹的相关操作-8\"><span class=\"toc-item-num\">8&nbsp;&nbsp;</span>文件夹的相关操作</a></span><ul class=\"toc-item\"><li><span><a href=\"#创建文件夹\" data-toc-modified-id=\"创建文件夹-8.1\"><span class=\"toc-item-num\">8.1&nbsp;&nbsp;</span>创建文件夹</a></span></li><li><span><a href=\"#获取当前目录\" data-toc-modified-id=\"获取当前目录-8.2\"><span class=\"toc-item-num\">8.2&nbsp;&nbsp;</span>获取当前目录</a></span></li><li><span><a href=\"#获取目录列表\" data-toc-modified-id=\"获取目录列表-8.3\"><span class=\"toc-item-num\">8.3&nbsp;&nbsp;</span>获取目录列表</a></span></li><li><span><a href=\"#删除文件夹\" data-toc-modified-id=\"删除文件夹-8.4\"><span class=\"toc-item-num\">8.4&nbsp;&nbsp;</span>删除文件夹</a></span></li></ul></li><li><span><a href=\"#应用1:制作文件的备份\" data-toc-modified-id=\"应用1:制作文件的备份-9\"><span class=\"toc-item-num\">9&nbsp;&nbsp;</span>应用1:制作文件的备份</a></span></li><li><span><a href=\"#应用2：批量修改文件名\" data-toc-modified-id=\"应用2：批量修改文件名-10\"><span class=\"toc-item-num\">10&nbsp;&nbsp;</span>应用2：批量修改文件名</a></span></li><li><span><a href=\"#附录:-os方法大全\" data-toc-modified-id=\"附录:-os方法大全-11\"><span class=\"toc-item-num\">11&nbsp;&nbsp;</span>附录: os方法大全</a></span></li></ul></div>"
   ]
  },
  {
   "cell_type": "markdown",
   "metadata": {},
   "source": [
    "# I/O操作"
   ]
  },
  {
   "cell_type": "markdown",
   "metadata": {
    "collapsed": true
   },
   "source": [
    "## 打开文件"
   ]
  },
  {
   "cell_type": "markdown",
   "metadata": {},
   "source": [
    "在python，使用open函数，可以打开一个已经存在的文件，或者创建一个新文件\n",
    "```python\n",
    "open(文件名，访问模式)\n",
    "```"
   ]
  },
  {
   "cell_type": "code",
   "execution_count": 18,
   "metadata": {
    "collapsed": true
   },
   "outputs": [],
   "source": [
    "f = open('test.txt', 'a')"
   ]
  },
  {
   "cell_type": "code",
   "execution_count": 19,
   "metadata": {},
   "outputs": [
    {
     "data": {
      "text/plain": [
       "1063"
      ]
     },
     "execution_count": 19,
     "metadata": {},
     "output_type": "execute_result"
    }
   ],
   "source": [
    "f.write('''如果我死了，那些争夺我遗产的人会很兴奋：什么？他死了，他真的死了？他真的死了！哈哈！他死了！他真的死了！我想想，这样我就可以买个车，换个大点的房子，还能吃点不舍得吃的，去些平时消费不起的场所，早点死多好，何必等到现在那，人终有一死。不如成全我了，毕竟他这么无私，祝他上天堂哈哈！我谢谢他。不，我该恨他，怎么不早点死？愿他下地狱！我只是为了自己过得好一点，我每月赚几万块多吗？油价这么贵，海鲜这么贵，还得平时喝个酒旅个游，我还会有孩子，哪里不是开销的地方，我活的这么悲惨只是为了让自己过得好一点，我没有错，谁不想让自己过得好一点！他会尊重我的自私？——恩，他一定会的。\n",
    "\n",
    "　　如果我死了，那些垂涎于我爱人的会很激动：妈的，终于死了！这王八蛋！盼星星盼月亮终于死了。早点死啊，他那老婆可馋死我了，那身材，那大白腿，想想都过瘾！这下子我就不用害怕了，妈的，他活着我也不怕！这下子我就不用偷偷摸摸的了，妈的，他活着我也不怕！这下子我就不用跟他称兄道弟了，妈的，他活着我也不想跟他称兄道弟！占着茅坑不拉屎，凭什么那么漂亮的女人要跟他受罪？他那活的还算个人了？哪里比得上我，能让这女人吃香的喝辣的，马桶都是镀金边的！为什么不是金边的？金边的得多少钱，有那个钱找什么样的没有，我还用得上盼着他死？他这一死我也算做点好事，不然这么年轻守了寡还得改嫁，万一改嫁的是奔着她那张脸那个身材的人那。我这算是做点好事，给自己积德了，他应该谢谢我的！为什么我这么无私奉献那——妈的，老子一直就这么无私啊！\n",
    "\n",
    "　　如果我死了，那些我能帮助的人会很伤心：他怎么能死那？他怎么能死那！他死了谁帮我工作，他死了谁帮我做那些别人不愿做的事？他不能死他不能死！算了，死了就死了，我抓紧找下一个人吧。唉！他死了谁体现我的社会价值啊，他死了我怎么奔赴我的需求我的追求！他这就死了，我很伤心。曾经有那么个人可以帮我买东西的时候省钱，可以帮我去打架，可以难过的时候陪我喝酒，开导我听我倾诉，他怎么可以死！我恨他，我是不是该恨他？没错，我应该恨他，不说一声就死了。我恨他——这么不负责的人我恨他！\n",
    "\n",
    "　　如果我死了，那些朋友圈的高大上会埋怨我：他死了？那谁给我评论，谁给我点赞！我那些修过的照片，丰盛又廉价的美食小视频，盗的风景艺术图片谁给我评论，谁来展现我的品位我的生活。他怎么可以死，那谁来当我的仰慕者，谁来做围观群众，谁来发出一声哇塞！死了！算了，死了就死了吧。别问为什么——我这么高大上的人在乎个市井小民干嘛。\n",
    "\n",
    "　　 若是有来生\n",
    "\n",
    "　　若是有来生，我要做一个聋子。\n",
    "''')"
   ]
  },
  {
   "cell_type": "code",
   "execution_count": 20,
   "metadata": {
    "collapsed": true
   },
   "outputs": [],
   "source": [
    "f.close()"
   ]
  },
  {
   "cell_type": "code",
   "execution_count": 30,
   "metadata": {
    "collapsed": true
   },
   "outputs": [],
   "source": [
    "f = open('test.txt', 'r')"
   ]
  },
  {
   "cell_type": "code",
   "execution_count": null,
   "metadata": {
    "collapsed": true
   },
   "outputs": [],
   "source": []
  },
  {
   "cell_type": "code",
   "execution_count": 31,
   "metadata": {
    "collapsed": true
   },
   "outputs": [],
   "source": [
    "data = f.read()\n",
    "f.close()"
   ]
  },
  {
   "cell_type": "code",
   "execution_count": 32,
   "metadata": {
    "collapsed": true
   },
   "outputs": [
    {
     "name": "stdout",
     "output_type": "stream",
     "text": [
      "很久都不曾写过文章了，上一篇文章还是四个月之前的。以此去命题，并非有什么轻生的念头，只是有感而发，勿念。其实我很想做个自私的人，因为这会让你吃尽苦头又吃足了甜头。而你却依然活的天真活的开心——序。\n",
      "\n",
      "　　 如果我死了\n",
      "\n",
      "　　如果我死了，那些愧对我的人会很开心：终于不用还钱了，哎呀，不然真不知道怎么办那，不敢见他，吓得我朋友圈都不敢发了！不对，我这样的人怕他干嘛？反正也不能把我怎么样。我每天活的多潇洒，灯红酒绿左拥右抱的。怕他干嘛，我是没错的，我怎么能委屈自己那？我要活的开心就不能在乎那么多，人这一辈子就是有舍有得，凭自己本事借的钱为什么要还？——不用还。\n",
      "\n",
      "　　如果我死了，那些我曾追求的人会很开心：每天烦我，我怎么知道喜不喜欢他？可能喜欢吧，可能不喜欢？无所谓了反正他都死了。哎呀，他一死去，就没人对我嘘寒问暖请我吃饭了，没人每天担心我了！算了，毕竟我这么漂亮，比不上明星也有自己的亮点，还会有下一个傻子不顾一切追求我的。可下一个人什么时候出现那？这么想来我还是亏本的啊，我怎么能做亏本的买卖——不能！他要是不死去多好，还能多一个追求者！我不喜欢他，我只是喜欢他追我无条件对我好，我这么做是有道理的，哪个人是不渴望被人爱的孩子那？我还是个孩子啊，我渴望人爱我追求我不图回报的对我好，我接受他的好有错吗？我是没错的？——恩。\n",
      "\n",
      "　　如果我死了，那些高谈阔论肆无忌惮吹牛逼的人会心头一震：他怎么死了？他不能死啊，他一死没人听我吹嘘了。我那些“丰功伟绩”辉煌历史，我那些绝地反击的故事跟谁炫耀啊？我曾经多么励志，我曾经多么孝顺，我曾经多么受人尊敬我曾经多么爱家人爱工作啊！他不能死，他死了谁听我吹嘘？不行，我还得再找个人！他死了，唉，他死了我英雄无用武之地，他死了我怎么展现给大家一个“君子好汉”的形象啊？不行，多亏他死了！他不死真求到我怎么办，那我是不是要兑现我说的力所能及尽力而为？我只是随口一说啊，虽然我这么完美，可他不该当真的啊——不该当真的。\n",
      "如果我死了，那些争夺我遗产的人会很兴奋：什么？他死了，他真的死了？他真的死了！哈哈！他死了！他真的死了！我想想，这样我就可以买个车，换个大点的房子，还能吃点不舍得吃的，去些平时消费不起的场所，早点死多好，何必等到现在那，人终有一死。不如成全我了，毕竟他这么无私，祝他上天堂哈哈！我谢谢他。不，我该恨他，怎么不早点死？愿他下地狱！我只是为了自己过得好一点，我每月赚几万块多吗？油价这么贵，海鲜这么贵，还得平时喝个酒旅个游，我还会有孩子，哪里不是开销的地方，我活的这么悲惨只是为了让自己过得好一点，我没有错，谁不想让自己过得好一点！他会尊重我的自私？——恩，他一定会的。\n",
      "\n",
      "　　如果我死了，那些垂涎于我爱人的会很激动：妈的，终于死了！这王八蛋！盼星星盼月亮终于死了。早点死啊，他那老婆可馋死我了，那身材，那大白腿，想想都过瘾！这下子我就不用害怕了，妈的，他活着我也不怕！这下子我就不用偷偷摸摸的了，妈的，他活着我也不怕！这下子我就不用跟他称兄道弟了，妈的，他活着我也不想跟他称兄道弟！占着茅坑不拉屎，凭什么那么漂亮的女人要跟他受罪？他那活的还算个人了？哪里比得上我，能让这女人吃香的喝辣的，马桶都是镀金边的！为什么不是金边的？金边的得多少钱，有那个钱找什么样的没有，我还用得上盼着他死？他这一死我也算做点好事，不然这么年轻守了寡还得改嫁，万一改嫁的是奔着她那张脸那个身材的人那。我这算是做点好事，给自己积德了，他应该谢谢我的！为什么我这么无私奉献那——妈的，老子一直就这么无私啊！\n",
      "\n",
      "　　如果我死了，那些我能帮助的人会很伤心：他怎么能死那？他怎么能死那！他死了谁帮我工作，他死了谁帮我做那些别人不愿做的事？他不能死他不能死！算了，死了就死了，我抓紧找下一个人吧。唉！他死了谁体现我的社会价值啊，他死了我怎么奔赴我的需求我的追求！他这就死了，我很伤心。曾经有那么个人可以帮我买东西的时候省钱，可以帮我去打架，可以难过的时候陪我喝酒，开导我听我倾诉，他怎么可以死！我恨他，我是不是该恨他？没错，我应该恨他，不说一声就死了。我恨他——这么不负责的人我恨他！\n",
      "\n",
      "　　如果我死了，那些朋友圈的高大上会埋怨我：他死了？那谁给我评论，谁给我点赞！我那些修过的照片，丰盛又廉价的美食小视频，盗的风景艺术图片谁给我评论，谁来展现我的品位我的生活。他怎么可以死，那谁来当我的仰慕者，谁来做围观群众，谁来发出一声哇塞！死了！算了，死了就死了吧。别问为什么——我这么高大上的人在乎个市井小民干嘛。\n",
      "\n",
      "　　 若是有来生\n",
      "\n",
      "　　若是有来生，我要做一个聋子。\n",
      "\n"
     ]
    }
   ],
   "source": [
    "print(data)"
   ]
  },
  {
   "cell_type": "code",
   "execution_count": 34,
   "metadata": {
    "collapsed": true
   },
   "outputs": [],
   "source": [
    "f.close()"
   ]
  },
  {
   "cell_type": "code",
   "execution_count": null,
   "metadata": {},
   "outputs": [],
   "source": []
  },
  {
   "cell_type": "markdown",
   "metadata": {},
   "source": [
    "| 访问模式 | 说明                                                         |\n",
    "| -------- | ------------------------------------------------------------ |\n",
    "| r        | 以只读方式打开文件。文件的指针将会放在文件的开头。这是默认模式。 |\n",
    "| w        | 打开一个文件只用于写入。如果该文件已存在则将其覆盖。如果该文件不存在，创建新文件。 |\n",
    "| a        | 打开一个文件用于追加。如果该文件已存在，文件指针将会放在文件的结尾。也就是说，新的内容将会被写入到已有内容之后。如果该文件不存在，创建新文件进行写入。 |\n",
    "| rb       | 以二进制格式打开一个文件用于只读。文件指针将会放在文件的开头。这是默认模式。 |\n",
    "| wb       | 以二进制格式打开一个文件只用于写入。如果该文件已存在则将其覆盖。如果该文件不存在，创建新文件。 |\n",
    "| ab       | 以二进制格式打开一个文件用于追加。如果该文件已存在，文件指针将会放在文件的结尾。也就是说，新的内容将会被写入到已有内容之后。如果该文件不存在，创建新文件进行写入。 |\n",
    "| r+       | 打开一个文件用于读写。文件指针将会放在文件的开头。           |\n",
    "| w+       | 打开一个文件用于读写。如果该文件已存在则将其覆盖。如果该文件不存在，创建新文件。 |\n",
    "| a+       | 打开一个文件用于读写。如果该文件已存在，文件指针将会放在文件的结尾。文件打开时会是追加模式。如果该文件不存在，创建新文件用于读写。 |\n",
    "| rb+      | 以二进制格式打开一个文件用于读写。文件指针将会放在文件的开头。 |\n",
    "| wb+      | 以二进制格式打开一个文件用于读写。如果该文件已存在则将其覆盖。如果该文件不存在，创建新文件。 |\n",
    "| ab+      | 以二进制格式打开一个文件用于追加。如果该文件已存在，文件指针将会放在文件的结尾。如果该文件不存在，创建新文件用于读写。 |"
   ]
  },
  {
   "cell_type": "markdown",
   "metadata": {},
   "source": [
    "## 关闭文件"
   ]
  },
  {
   "cell_type": "code",
   "execution_count": 2,
   "metadata": {
    "collapsed": true
   },
   "outputs": [],
   "source": [
    "f.close()\n",
    "# 这是会在内存中释放文件, 文件才可以删除"
   ]
  },
  {
   "cell_type": "markdown",
   "metadata": {},
   "source": [
    "## 文件的读写"
   ]
  },
  {
   "cell_type": "code",
   "execution_count": 4,
   "metadata": {
    "collapsed": true
   },
   "outputs": [],
   "source": [
    "# 使用write()可以完成向文件写入数据\n",
    "f = open('test.txt', 'w')\n",
    "f.write('hello world, i am here!')\n",
    "f.close()\n",
    "\n",
    "# 注意： 如果文件不存在那么创建，如果存在那么就先清空，然后写入数据"
   ]
  },
  {
   "cell_type": "markdown",
   "metadata": {},
   "source": [
    "## 读数据(read)\n",
    "\n",
    "使用read(num)可以从文件中读取数据，num表示要从文件中读取的数据的长度（单位是字节），如果没有传入num，那么就表示读取文件中所有的数据"
   ]
  },
  {
   "cell_type": "code",
   "execution_count": 5,
   "metadata": {},
   "outputs": [
    {
     "name": "stdout",
     "output_type": "stream",
     "text": [
      "hello\n",
      "------------------------------\n",
      " world, i am here!\n"
     ]
    }
   ],
   "source": [
    "f = open('test.txt', 'r')\n",
    "content = f.read(5)\n",
    "print(content)\n",
    "print(\"-\"*30)\n",
    "content = f.read()\n",
    "print(content)\n",
    "f.close()"
   ]
  },
  {
   "cell_type": "markdown",
   "metadata": {},
   "source": [
    "注意：\n",
    "\n",
    "如果open是打开一个文件，那么可以不用写打开的模式，即只写 open('test.txt')\n",
    "\n",
    "如果使用读了多次，那么后面读取的数据是从上次读完后的位置开始的"
   ]
  },
  {
   "cell_type": "code",
   "execution_count": 6,
   "metadata": {},
   "outputs": [
    {
     "name": "stdout",
     "output_type": "stream",
     "text": [
      "hel\n"
     ]
    }
   ],
   "source": [
    "f = open('test.txt', 'r')\n",
    "content = f.read(3)\n",
    "print(content)"
   ]
  },
  {
   "cell_type": "code",
   "execution_count": 15,
   "metadata": {},
   "outputs": [
    {
     "data": {
      "text/plain": [
       "''"
      ]
     },
     "execution_count": 15,
     "metadata": {},
     "output_type": "execute_result"
    }
   ],
   "source": [
    "f.read(3)"
   ]
  },
  {
   "cell_type": "code",
   "execution_count": 35,
   "metadata": {},
   "outputs": [
    {
     "data": {
      "text/plain": [
       "['很久都不曾写过文章了，上一篇文章还是四个月之前的。以此去命题，并非有什么轻生的念头，只是有感而发，勿念。其实我很想做个自私的人，因为这会让你吃尽苦头又吃足了甜头。而你却依然活的天真活的开心——序。\\n',\n",
       " '\\n',\n",
       " '\\u3000\\u3000 如果我死了\\n',\n",
       " '\\n',\n",
       " '\\u3000\\u3000如果我死了，那些愧对我的人会很开心：终于不用还钱了，哎呀，不然真不知道怎么办那，不敢见他，吓得我朋友圈都不敢发了！不对，我这样的人怕他干嘛？反正也不能把我怎么样。我每天活的多潇洒，灯红酒绿左拥右抱的。怕他干嘛，我是没错的，我怎么能委屈自己那？我要活的开心就不能在乎那么多，人这一辈子就是有舍有得，凭自己本事借的钱为什么要还？——不用还。\\n',\n",
       " '\\n',\n",
       " '\\u3000\\u3000如果我死了，那些我曾追求的人会很开心：每天烦我，我怎么知道喜不喜欢他？可能喜欢吧，可能不喜欢？无所谓了反正他都死了。哎呀，他一死去，就没人对我嘘寒问暖请我吃饭了，没人每天担心我了！算了，毕竟我这么漂亮，比不上明星也有自己的亮点，还会有下一个傻子不顾一切追求我的。可下一个人什么时候出现那？这么想来我还是亏本的啊，我怎么能做亏本的买卖——不能！他要是不死去多好，还能多一个追求者！我不喜欢他，我只是喜欢他追我无条件对我好，我这么做是有道理的，哪个人是不渴望被人爱的孩子那？我还是个孩子啊，我渴望人爱我追求我不图回报的对我好，我接受他的好有错吗？我是没错的？——恩。\\n',\n",
       " '\\n',\n",
       " '\\u3000\\u3000如果我死了，那些高谈阔论肆无忌惮吹牛逼的人会心头一震：他怎么死了？他不能死啊，他一死没人听我吹嘘了。我那些“丰功伟绩”辉煌历史，我那些绝地反击的故事跟谁炫耀啊？我曾经多么励志，我曾经多么孝顺，我曾经多么受人尊敬我曾经多么爱家人爱工作啊！他不能死，他死了谁听我吹嘘？不行，我还得再找个人！他死了，唉，他死了我英雄无用武之地，他死了我怎么展现给大家一个“君子好汉”的形象啊？不行，多亏他死了！他不死真求到我怎么办，那我是不是要兑现我说的力所能及尽力而为？我只是随口一说啊，虽然我这么完美，可他不该当真的啊——不该当真的。\\n',\n",
       " '如果我死了，那些争夺我遗产的人会很兴奋：什么？他死了，他真的死了？他真的死了！哈哈！他死了！他真的死了！我想想，这样我就可以买个车，换个大点的房子，还能吃点不舍得吃的，去些平时消费不起的场所，早点死多好，何必等到现在那，人终有一死。不如成全我了，毕竟他这么无私，祝他上天堂哈哈！我谢谢他。不，我该恨他，怎么不早点死？愿他下地狱！我只是为了自己过得好一点，我每月赚几万块多吗？油价这么贵，海鲜这么贵，还得平时喝个酒旅个游，我还会有孩子，哪里不是开销的地方，我活的这么悲惨只是为了让自己过得好一点，我没有错，谁不想让自己过得好一点！他会尊重我的自私？——恩，他一定会的。\\n',\n",
       " '\\n',\n",
       " '\\u3000\\u3000如果我死了，那些垂涎于我爱人的会很激动：妈的，终于死了！这王八蛋！盼星星盼月亮终于死了。早点死啊，他那老婆可馋死我了，那身材，那大白腿，想想都过瘾！这下子我就不用害怕了，妈的，他活着我也不怕！这下子我就不用偷偷摸摸的了，妈的，他活着我也不怕！这下子我就不用跟他称兄道弟了，妈的，他活着我也不想跟他称兄道弟！占着茅坑不拉屎，凭什么那么漂亮的女人要跟他受罪？他那活的还算个人了？哪里比得上我，能让这女人吃香的喝辣的，马桶都是镀金边的！为什么不是金边的？金边的得多少钱，有那个钱找什么样的没有，我还用得上盼着他死？他这一死我也算做点好事，不然这么年轻守了寡还得改嫁，万一改嫁的是奔着她那张脸那个身材的人那。我这算是做点好事，给自己积德了，他应该谢谢我的！为什么我这么无私奉献那——妈的，老子一直就这么无私啊！\\n',\n",
       " '\\n',\n",
       " '\\u3000\\u3000如果我死了，那些我能帮助的人会很伤心：他怎么能死那？他怎么能死那！他死了谁帮我工作，他死了谁帮我做那些别人不愿做的事？他不能死他不能死！算了，死了就死了，我抓紧找下一个人吧。唉！他死了谁体现我的社会价值啊，他死了我怎么奔赴我的需求我的追求！他这就死了，我很伤心。曾经有那么个人可以帮我买东西的时候省钱，可以帮我去打架，可以难过的时候陪我喝酒，开导我听我倾诉，他怎么可以死！我恨他，我是不是该恨他？没错，我应该恨他，不说一声就死了。我恨他——这么不负责的人我恨他！\\n',\n",
       " '\\n',\n",
       " '\\u3000\\u3000如果我死了，那些朋友圈的高大上会埋怨我：他死了？那谁给我评论，谁给我点赞！我那些修过的照片，丰盛又廉价的美食小视频，盗的风景艺术图片谁给我评论，谁来展现我的品位我的生活。他怎么可以死，那谁来当我的仰慕者，谁来做围观群众，谁来发出一声哇塞！死了！算了，死了就死了吧。别问为什么——我这么高大上的人在乎个市井小民干嘛。\\n',\n",
       " '\\n',\n",
       " '\\u3000\\u3000 若是有来生\\n',\n",
       " '\\n',\n",
       " '\\u3000\\u3000若是有来生，我要做一个聋子。\\n']"
      ]
     },
     "execution_count": 35,
     "metadata": {},
     "output_type": "execute_result"
    }
   ],
   "source": [
    "f= open('test.txt', 'r')\n",
    "data = f.readlines()\n",
    "data"
   ]
  },
  {
   "cell_type": "code",
   "execution_count": 36,
   "metadata": {
    "collapsed": true
   },
   "outputs": [],
   "source": [
    "f.close()"
   ]
  },
  {
   "cell_type": "code",
   "execution_count": 37,
   "metadata": {
    "collapsed": true
   },
   "outputs": [],
   "source": [
    "f= open(\"test.txt\", 'r')"
   ]
  },
  {
   "cell_type": "code",
   "execution_count": 38,
   "metadata": {
    "collapsed": true
   },
   "outputs": [],
   "source": [
    "data = f.readlines()"
   ]
  },
  {
   "cell_type": "code",
   "execution_count": 48,
   "metadata": {},
   "outputs": [
    {
     "name": "stdout",
     "output_type": "stream",
     "text": [
      "['很久都不曾写过文章了', '上一篇文章还是四个月之前的。以此去命题', '并非有什么轻生的念头', '只是有感而发', '勿念。其实我很想做个自私的人', '因为这会让你吃尽苦头又吃足了甜头。而你却依然活的天真活的开心——序。\\n']\n",
      "['\\n']\n",
      "['\\u3000\\u3000 如果我死了\\n']\n",
      "['\\n']\n",
      "['\\u3000\\u3000如果我死了', '那些愧对我的人会很开心：终于不用还钱了', '哎呀', '不然真不知道怎么办那', '不敢见他', '吓得我朋友圈都不敢发了！不对', '我这样的人怕他干嘛？反正也不能把我怎么样。我每天活的多潇洒', '灯红酒绿左拥右抱的。怕他干嘛', '我是没错的', '我怎么能委屈自己那？我要活的开心就不能在乎那么多', '人这一辈子就是有舍有得', '凭自己本事借的钱为什么要还？——不用还。\\n']\n",
      "['\\n']\n",
      "['\\u3000\\u3000如果我死了', '那些我曾追求的人会很开心：每天烦我', '我怎么知道喜不喜欢他？可能喜欢吧', '可能不喜欢？无所谓了反正他都死了。哎呀', '他一死去', '就没人对我嘘寒问暖请我吃饭了', '没人每天担心我了！算了', '毕竟我这么漂亮', '比不上明星也有自己的亮点', '还会有下一个傻子不顾一切追求我的。可下一个人什么时候出现那？这么想来我还是亏本的啊', '我怎么能做亏本的买卖——不能！他要是不死去多好', '还能多一个追求者！我不喜欢他', '我只是喜欢他追我无条件对我好', '我这么做是有道理的', '哪个人是不渴望被人爱的孩子那？我还是个孩子啊', '我渴望人爱我追求我不图回报的对我好', '我接受他的好有错吗？我是没错的？——恩。\\n']\n",
      "['\\n']\n",
      "['\\u3000\\u3000如果我死了', '那些高谈阔论肆无忌惮吹牛逼的人会心头一震：他怎么死了？他不能死啊', '他一死没人听我吹嘘了。我那些“丰功伟绩”辉煌历史', '我那些绝地反击的故事跟谁炫耀啊？我曾经多么励志', '我曾经多么孝顺', '我曾经多么受人尊敬我曾经多么爱家人爱工作啊！他不能死', '他死了谁听我吹嘘？不行', '我还得再找个人！他死了', '唉', '他死了我英雄无用武之地', '他死了我怎么展现给大家一个“君子好汉”的形象啊？不行', '多亏他死了！他不死真求到我怎么办', '那我是不是要兑现我说的力所能及尽力而为？我只是随口一说啊', '虽然我这么完美', '可他不该当真的啊——不该当真的。\\n']\n",
      "['如果我死了', '那些争夺我遗产的人会很兴奋：什么？他死了', '他真的死了？他真的死了！哈哈！他死了！他真的死了！我想想', '这样我就可以买个车', '换个大点的房子', '还能吃点不舍得吃的', '去些平时消费不起的场所', '早点死多好', '何必等到现在那', '人终有一死。不如成全我了', '毕竟他这么无私', '祝他上天堂哈哈！我谢谢他。不', '我该恨他', '怎么不早点死？愿他下地狱！我只是为了自己过得好一点', '我每月赚几万块多吗？油价这么贵', '海鲜这么贵', '还得平时喝个酒旅个游', '我还会有孩子', '哪里不是开销的地方', '我活的这么悲惨只是为了让自己过得好一点', '我没有错', '谁不想让自己过得好一点！他会尊重我的自私？——恩', '他一定会的。\\n']\n",
      "['\\n']\n",
      "['\\u3000\\u3000如果我死了', '那些垂涎于我爱人的会很激动：妈的', '终于死了！这王八蛋！盼星星盼月亮终于死了。早点死啊', '他那老婆可馋死我了', '那身材', '那大白腿', '想想都过瘾！这下子我就不用害怕了', '妈的', '他活着我也不怕！这下子我就不用偷偷摸摸的了', '妈的', '他活着我也不怕！这下子我就不用跟他称兄道弟了', '妈的', '他活着我也不想跟他称兄道弟！占着茅坑不拉屎', '凭什么那么漂亮的女人要跟他受罪？他那活的还算个人了？哪里比得上我', '能让这女人吃香的喝辣的', '马桶都是镀金边的！为什么不是金边的？金边的得多少钱', '有那个钱找什么样的没有', '我还用得上盼着他死？他这一死我也算做点好事', '不然这么年轻守了寡还得改嫁', '万一改嫁的是奔着她那张脸那个身材的人那。我这算是做点好事', '给自己积德了', '他应该谢谢我的！为什么我这么无私奉献那——妈的', '老子一直就这么无私啊！\\n']\n",
      "['\\n']\n",
      "['\\u3000\\u3000如果我死了', '那些我能帮助的人会很伤心：他怎么能死那？他怎么能死那！他死了谁帮我工作', '他死了谁帮我做那些别人不愿做的事？他不能死他不能死！算了', '死了就死了', '我抓紧找下一个人吧。唉！他死了谁体现我的社会价值啊', '他死了我怎么奔赴我的需求我的追求！他这就死了', '我很伤心。曾经有那么个人可以帮我买东西的时候省钱', '可以帮我去打架', '可以难过的时候陪我喝酒', '开导我听我倾诉', '他怎么可以死！我恨他', '我是不是该恨他？没错', '我应该恨他', '不说一声就死了。我恨他——这么不负责的人我恨他！\\n']\n",
      "['\\n']\n",
      "['\\u3000\\u3000如果我死了', '那些朋友圈的高大上会埋怨我：他死了？那谁给我评论', '谁给我点赞！我那些修过的照片', '丰盛又廉价的美食小视频', '盗的风景艺术图片谁给我评论', '谁来展现我的品位我的生活。他怎么可以死', '那谁来当我的仰慕者', '谁来做围观群众', '谁来发出一声哇塞！死了！算了', '死了就死了吧。别问为什么——我这么高大上的人在乎个市井小民干嘛。\\n']\n",
      "['\\n']\n",
      "['\\u3000\\u3000 若是有来生\\n']\n",
      "['\\n']\n",
      "['\\u3000\\u3000若是有来生', '我要做一个聋子。\\n']\n"
     ]
    }
   ],
   "source": [
    "for i in data:\n",
    "    print(i.split(\"，\"))"
   ]
  },
  {
   "cell_type": "markdown",
   "metadata": {},
   "source": [
    "## 读数据（readlines）"
   ]
  },
  {
   "cell_type": "markdown",
   "metadata": {},
   "source": [
    "就像read没有参数时一样，readlines可以按照行的方式把整个文件中的内容进行一次性读取，并且返回的是一个列表，其中每一行的数据为一个元素"
   ]
  },
  {
   "cell_type": "code",
   "execution_count": 19,
   "metadata": {
    "collapsed": true
   },
   "outputs": [],
   "source": [
    "f = open(\"决策树的几个辅助函数.ipynb\", \"r\", encoding='utf-8')\n",
    "data = f.readlines()"
   ]
  },
  {
   "cell_type": "code",
   "execution_count": 24,
   "metadata": {},
   "outputs": [
    {
     "data": {
      "text/plain": [
       "'\\n'"
      ]
     },
     "execution_count": 24,
     "metadata": {},
     "output_type": "execute_result"
    }
   ],
   "source": []
  },
  {
   "cell_type": "markdown",
   "metadata": {},
   "source": [
    "## 打开/关闭文件\n",
    "执行文件操作时，最后一定不能忘记的操作是关闭文件，即使报错了也要 close。普通的方式是在 finnally 块中显示的调用 close 方法。"
   ]
  },
  {
   "cell_type": "code",
   "execution_count": null,
   "metadata": {
    "collapsed": true
   },
   "outputs": [],
   "source": []
  },
  {
   "cell_type": "code",
   "execution_count": 1,
   "metadata": {},
   "outputs": [
    {
     "name": "stdout",
     "output_type": "stream",
     "text": [
      "utf-8\n"
     ]
    }
   ],
   "source": [
    "f = open('决策树的几个辅助函数.ipynb', encoding='utf-8')\n",
    "print(f.encoding)\n",
    "try:\n",
    "    data = f.read()\n",
    "finally:\n",
    "    f.close()"
   ]
  },
  {
   "cell_type": "markdown",
   "metadata": {},
   "source": [
    "如果不关闭文件:\n",
    "1. 会导致内存始终被占用, 得不到释放\n",
    "2. 会导致文件被占用中, 无法删除, 剪切等操作m"
   ]
  },
  {
   "cell_type": "markdown",
   "metadata": {},
   "source": [
    "更简便的写法是这样的:"
   ]
  },
  {
   "cell_type": "code",
   "execution_count": null,
   "metadata": {
    "collapsed": true
   },
   "outputs": [],
   "source": [
    "with open('决策树的几个辅助函数.ipynb', encoding='utf-8') as f:\n",
    "    data = f.read()\n",
    "# 这样打开的文件, 代码运行结束后会自动关闭"
   ]
  },
  {
   "cell_type": "code",
   "execution_count": null,
   "metadata": {
    "collapsed": true
   },
   "outputs": [],
   "source": []
  },
  {
   "cell_type": "code",
   "execution_count": null,
   "metadata": {},
   "outputs": [],
   "source": []
  },
  {
   "cell_type": "markdown",
   "metadata": {},
   "source": [
    "1. 以写入方式打开文件\n",
    "2. 写入一些内容\n",
    "3. 重新打开文件, 追加方式\n",
    "4. 追加一些内容\n",
    "5. 只读方式打开文件, 读取文件中的内容"
   ]
  },
  {
   "cell_type": "markdown",
   "metadata": {},
   "source": [
    "### 小练习: \n",
    "\n",
    "https://baike.baidu.com/item/我有一个梦想/1375?fr=aladdin\n",
    "\n",
    "1. 复制中文版文章内容,赋值给变量\n",
    "2. 写入到本地文件中,名称为 我有一个梦想.txt\n",
    "3. 重新打开文件, 在文件后面追加 英文版内容\n",
    "4. 以读取方式打开文件, 把文件内容按换行符进行分割操作"
   ]
  },
  {
   "cell_type": "code",
   "execution_count": null,
   "metadata": {},
   "outputs": [],
   "source": []
  },
  {
   "cell_type": "code",
   "execution_count": null,
   "metadata": {},
   "outputs": [],
   "source": []
  },
  {
   "cell_type": "code",
   "execution_count": null,
   "metadata": {},
   "outputs": [],
   "source": []
  },
  {
   "cell_type": "markdown",
   "metadata": {},
   "source": [
    "## 文件的重命名、删除"
   ]
  },
  {
   "cell_type": "markdown",
   "metadata": {},
   "source": [
    "有些时候，需要对文件进行重命名、删除等一些操作，python的os模块中都有这么功能"
   ]
  },
  {
   "cell_type": "markdown",
   "metadata": {},
   "source": [
    "### 文件重命名\n",
    "\n",
    "os模块中的rename()可以完成对文件的重命名操作\n",
    "\n",
    "rename(需要修改的文件名, 新的文件名)"
   ]
  },
  {
   "cell_type": "code",
   "execution_count": 49,
   "metadata": {
    "collapsed": true
   },
   "outputs": [],
   "source": [
    "f.close()"
   ]
  },
  {
   "cell_type": "code",
   "execution_count": 50,
   "metadata": {
    "collapsed": true
   },
   "outputs": [],
   "source": [
    "import os"
   ]
  },
  {
   "cell_type": "code",
   "execution_count": 51,
   "metadata": {},
   "outputs": [
    {
     "name": "stdout",
     "output_type": "stream",
     "text": [
      "['F_OK', 'MutableMapping', 'O_APPEND', 'O_BINARY', 'O_CREAT', 'O_EXCL', 'O_NOINHERIT', 'O_RANDOM', 'O_RDONLY', 'O_RDWR', 'O_SEQUENTIAL', 'O_SHORT_LIVED', 'O_TEMPORARY', 'O_TEXT', 'O_TRUNC', 'O_WRONLY', 'P_DETACH', 'P_NOWAIT', 'P_NOWAITO', 'P_OVERLAY', 'P_WAIT', 'R_OK', 'SEEK_CUR', 'SEEK_END', 'SEEK_SET', 'TMP_MAX', 'W_OK', 'X_OK', '_DummyDirEntry', '_Environ', '__all__', '__builtins__', '__cached__', '__doc__', '__file__', '__loader__', '__name__', '__package__', '__spec__', '_dummy_scandir', '_execvpe', '_exists', '_exit', '_get_exports_list', '_putenv', '_unsetenv', '_wrap_close', 'abort', 'access', 'altsep', 'chdir', 'chmod', 'close', 'closerange', 'cpu_count', 'curdir', 'defpath', 'device_encoding', 'devnull', 'dup', 'dup2', 'environ', 'errno', 'error', 'execl', 'execle', 'execlp', 'execlpe', 'execv', 'execve', 'execvp', 'execvpe', 'extsep', 'fdopen', 'fsdecode', 'fsencode', 'fstat', 'fsync', 'ftruncate', 'get_exec_path', 'get_handle_inheritable', 'get_inheritable', 'get_terminal_size', 'getcwd', 'getcwdb', 'getenv', 'getlogin', 'getpid', 'getppid', 'isatty', 'kill', 'linesep', 'link', 'listdir', 'lseek', 'lstat', 'makedirs', 'mkdir', 'name', 'open', 'pardir', 'path', 'pathsep', 'pipe', 'popen', 'putenv', 'read', 'readlink', 'remove', 'removedirs', 'rename', 'renames', 'replace', 'rmdir', 'scandir', 'sep', 'set_handle_inheritable', 'set_inheritable', 'spawnl', 'spawnle', 'spawnv', 'spawnve', 'st', 'startfile', 'stat', 'stat_float_times', 'stat_result', 'statvfs_result', 'strerror', 'supports_bytes_environ', 'supports_dir_fd', 'supports_effective_ids', 'supports_fd', 'supports_follow_symlinks', 'symlink', 'sys', 'system', 'terminal_size', 'times', 'times_result', 'truncate', 'umask', 'uname_result', 'unlink', 'urandom', 'utime', 'waitpid', 'walk', 'write']\n"
     ]
    }
   ],
   "source": [
    "print(dir(os))"
   ]
  },
  {
   "cell_type": "code",
   "execution_count": 52,
   "metadata": {
    "collapsed": true
   },
   "outputs": [],
   "source": [
    "os.rename(\"test.txt\", 'onepaper.txt')"
   ]
  },
  {
   "cell_type": "code",
   "execution_count": 54,
   "metadata": {
    "collapsed": true
   },
   "outputs": [],
   "source": [
    "os.remove('onepaper.txt')"
   ]
  },
  {
   "cell_type": "code",
   "execution_count": null,
   "metadata": {
    "collapsed": true
   },
   "outputs": [],
   "source": []
  },
  {
   "cell_type": "code",
   "execution_count": 25,
   "metadata": {
    "collapsed": true
   },
   "outputs": [],
   "source": [
    " import os\n",
    "\n",
    "os.rename(\"test.txt\", \"我不太会了.txt\")"
   ]
  },
  {
   "cell_type": "markdown",
   "metadata": {},
   "source": [
    "### 删除文件"
   ]
  },
  {
   "cell_type": "markdown",
   "metadata": {},
   "source": [
    "os模块中的remove()可以完成对文件的删除操作\n",
    "\n",
    "remove(待删除的文件名)"
   ]
  },
  {
   "cell_type": "code",
   "execution_count": 26,
   "metadata": {
    "collapsed": true
   },
   "outputs": [],
   "source": [
    "import os\n",
    "\n",
    "os.remove(\"我不太会了.txt\")"
   ]
  },
  {
   "cell_type": "markdown",
   "metadata": {},
   "source": [
    "## 文件夹的相关操作"
   ]
  },
  {
   "cell_type": "markdown",
   "metadata": {},
   "source": [
    "### 创建文件夹"
   ]
  },
  {
   "cell_type": "code",
   "execution_count": 55,
   "metadata": {
    "collapsed": true
   },
   "outputs": [],
   "source": [
    "os.mkdir('中国河南大学')"
   ]
  },
  {
   "cell_type": "code",
   "execution_count": 57,
   "metadata": {},
   "outputs": [
    {
     "data": {
      "text/plain": [
       "'H:\\\\FangCloudV2\\\\个人文件\\\\大数据资料同步公司端\\\\Python课件\\\\pythoncode\\\\备课文件夹'"
      ]
     },
     "execution_count": 57,
     "metadata": {},
     "output_type": "execute_result"
    }
   ],
   "source": [
    "os.getcwd()"
   ]
  },
  {
   "cell_type": "code",
   "execution_count": 64,
   "metadata": {},
   "outputs": [
    {
     "name": "stdout",
     "output_type": "stream",
     "text": [
      "文件备份_.ipynb_checkpoints\n",
      "文件备份_1.png\n",
      "文件备份_1[复件].png\n",
      "文件备份_debug\n",
      "文件备份_Matplotlib学习\n",
      "文件备份_Numpy学习\n",
      "文件备份_output\n",
      "文件备份_Pandas\n",
      "文件备份_PM2点5研究\n",
      "文件备份_python exercise\n",
      "文件备份_Python基础第1部分_菜单_快捷键_基本语法_变量.ipynb\n",
      "文件备份_Python基础第2部分_标准数据类型_数值型_字符串.ipynb\n",
      "文件备份_Python基础第3部分__控制流语句_顺序结构_判断结构_循环结构.ipynb\n",
      "文件备份_Python基础第4部分_列表_元组_字典_集合.ipynb\n",
      "文件备份_Python基础第5部分_异常与错误_常用内置函数.ipynb\n",
      "文件备份_Python基础第5部分_异常与错误_常用内置函数_调整版.ipynb\n",
      "文件备份_Python基础第6部分_函数.ipynb\n",
      "文件备份_Python基础第6部分_函数_调整版.ipynb\n",
      "文件备份_Python基础第7部分_模块_datetime模块_IO操作.ipynb\n",
      "文件备份_Python基础第7部分_模块_datetime模块_IO操作_调整版.ipynb\n",
      "文件备份_Python简介.ipynb\n",
      "文件备份_Python练习题.ipynb\n",
      "文件备份_Python网络爬虫.pdf\n",
      "文件备份_test.py\n",
      "文件备份_test2.py\n",
      "文件备份_Untitled.ipynb\n",
      "文件备份_Untitled1.ipynb\n",
      "文件备份_Untitled2.ipynb\n",
      "文件备份___pycache__\n",
      "文件备份_中国河南大学\n",
      "文件备份_代码\n",
      "文件备份_作业.ipynb\n",
      "文件备份_决策树的几个辅助函数.ipynb\n",
      "文件备份_无代码版文档\n",
      "文件备份_爬虫课件\n",
      "文件备份_第一天作业\n",
      "文件备份_练习代码.ipynb\n",
      "文件备份_英雄信息.csv\n"
     ]
    }
   ],
   "source": [
    "for i in os.listdir():\n",
    "    d = '文件备份_'+ i\n",
    "    print(d)"
   ]
  },
  {
   "cell_type": "code",
   "execution_count": 27,
   "metadata": {
    "collapsed": true
   },
   "outputs": [],
   "source": [
    "import os\n",
    "\n",
    "os.mkdir(\"张三\")"
   ]
  },
  {
   "cell_type": "markdown",
   "metadata": {},
   "source": [
    "### 获取当前目录"
   ]
  },
  {
   "cell_type": "code",
   "execution_count": 28,
   "metadata": {},
   "outputs": [
    {
     "data": {
      "text/plain": [
       "'H:\\\\FangCloudV2\\\\个人文件\\\\大数据资料同步公司端\\\\Python课件\\\\pythoncode\\\\备课文件夹'"
      ]
     },
     "execution_count": 28,
     "metadata": {},
     "output_type": "execute_result"
    }
   ],
   "source": [
    "import os\n",
    "\n",
    "os.getcwd()"
   ]
  },
  {
   "cell_type": "markdown",
   "metadata": {},
   "source": [
    "### 获取目录列表"
   ]
  },
  {
   "cell_type": "code",
   "execution_count": 30,
   "metadata": {
    "collapsed": true
   },
   "outputs": [
    {
     "data": {
      "text/plain": [
       "['.ipynb_checkpoints',\n",
       " '1.png',\n",
       " 'debug',\n",
       " 'Numpy.ipynb',\n",
       " 'output',\n",
       " 'Pandas学习.ipynb',\n",
       " 'Pandas学习_豆瓣电影版-Copy1.ipynb',\n",
       " 'Pandas学习_豆瓣电影版.ipynb',\n",
       " 'PM2点5研究',\n",
       " 'Python基础第1部分_菜单_快捷键_基本语法_变量.ipynb',\n",
       " 'Python基础第2部分_标准数据类型_数值型_字符串.ipynb',\n",
       " 'Python基础第3部分__控制流语句_顺序结构_判断结构_循环结构.ipynb',\n",
       " 'Python基础第4部分_列表_元组_字典_集合.ipynb',\n",
       " 'Python基础第5部分_异常与错误_常用内置函数.ipynb',\n",
       " 'Python基础第6部分_函数.ipynb',\n",
       " 'Python基础第7部分_模块.ipynb',\n",
       " 'Python简介.ipynb',\n",
       " 'Python练习题.ipynb',\n",
       " 'testSet.txt',\n",
       " 'Untitled.ipynb',\n",
       " 'Untitled1.ipynb',\n",
       " '__pycache__',\n",
       " '代码',\n",
       " '作业.ipynb',\n",
       " '决策树的几个辅助函数.ipynb',\n",
       " '张三',\n",
       " '电影基本信息.CSV',\n",
       " '第一天作业',\n",
       " '练习代码.ipynb']"
      ]
     },
     "execution_count": 30,
     "metadata": {},
     "output_type": "execute_result"
    }
   ],
   "source": [
    "import os\n",
    "\n",
    "os.listdir()"
   ]
  },
  {
   "cell_type": "markdown",
   "metadata": {},
   "source": [
    "### 删除文件夹"
   ]
  },
  {
   "cell_type": "code",
   "execution_count": 65,
   "metadata": {
    "collapsed": true
   },
   "outputs": [],
   "source": [
    "os.rmdir(\"中国河南大学\")"
   ]
  },
  {
   "cell_type": "code",
   "execution_count": null,
   "metadata": {
    "collapsed": true
   },
   "outputs": [],
   "source": []
  },
  {
   "cell_type": "code",
   "execution_count": 31,
   "metadata": {
    "collapsed": true
   },
   "outputs": [],
   "source": [
    "import os\n",
    "\n",
    "os.rmdir(\"张三\")"
   ]
  },
  {
   "cell_type": "markdown",
   "metadata": {},
   "source": [
    "## 应用1:制作文件的备份"
   ]
  },
  {
   "cell_type": "code",
   "execution_count": null,
   "metadata": {},
   "outputs": [],
   "source": []
  },
  {
   "cell_type": "code",
   "execution_count": null,
   "metadata": {},
   "outputs": [],
   "source": []
  },
  {
   "cell_type": "code",
   "execution_count": null,
   "metadata": {},
   "outputs": [],
   "source": []
  },
  {
   "cell_type": "code",
   "execution_count": null,
   "metadata": {},
   "outputs": [],
   "source": []
  },
  {
   "cell_type": "markdown",
   "metadata": {},
   "source": [
    "## 应用2：批量修改文件名"
   ]
  },
  {
   "cell_type": "code",
   "execution_count": null,
   "metadata": {},
   "outputs": [],
   "source": []
  },
  {
   "cell_type": "code",
   "execution_count": null,
   "metadata": {},
   "outputs": [],
   "source": []
  },
  {
   "cell_type": "code",
   "execution_count": null,
   "metadata": {},
   "outputs": [],
   "source": []
  },
  {
   "cell_type": "code",
   "execution_count": null,
   "metadata": {},
   "outputs": [],
   "source": []
  },
  {
   "cell_type": "markdown",
   "metadata": {},
   "source": [
    "## 附录: os方法大全\n",
    "```python\n",
    "import os\n",
    "\n",
    "print(os.getcwd())        # 获得当前工作目录\n",
    "print(os.chdir(\"dirname\")) # 改变当前脚本的工作路径，相当于shell下的cd\n",
    "print(os.curdir)            # 返回当前目录‘.'\n",
    "print(os.pardir)            # 获取当前目录的父目录字符串名‘..'\n",
    "print(os.makedirs('dirname1/dirname2'))     # 可生成多层递归目录\n",
    "print(os.removedirs('dirname1/dirname2'))      # 若目录为空，则删除，并递归到上一级目录，如若也为空，则删除，依此类推\n",
    "print(os.mkdir('test4'))         # 生成单级目录；相当于shell中mkdir dirname\n",
    "print(os.rmdir('test4'))        # 删除单级空目录，若目录不为空则无法删除，报错；相当于shell中rmdir dirname\n",
    "print(os.listdir('/pythonStudy/s12/test'))   # 列出指定目录下的所有文件和子目录，包括隐藏文件，并以列表方式打印\n",
    "print(os.remove('log.log'))            # 删除一个指定的文件\n",
    "print(os.rename(\"oldname\",\"newname\"))    # 重命名文件/目录)\n",
    "print(os.stat('/pythonStudy/s12/test'))     # 获取文件/目录信息\n",
    "print(os.pathsep)            # 输出用于分割文件路径的字符串';'\n",
    "print(os.name)               # 输出字符串指示当前使用平台。win->'nt'; Linux->'posix'\n",
    "print(os.system(command='bash'))   # 运行shell命令，直接显示\n",
    "print(os.environ)                  # 获得系统的环境变量\n",
    "print(os.path.abspath('/pythonStudy/s12/test'))   # 返回path规范化的绝对路径\n",
    "print(os.path.split('/pythonStudy/s12/test'))     # 将path分割成目录和文件名二元组返回\n",
    "print(os.path.dirname('/pythonStudy/s12/test'))    # 返回path的目录。其实就是os.path.split(path)的第一个元素\n",
    "print(os.path.basename('/pythonStudy/s12/test'))   # 返回path最后的文件名。如果path以／或\\结尾，那么就会返回空值。即os.path.split(path)的第二个元素\n",
    "print(os.path.exists('test'))                 # 判断path是否存在\n",
    "print(os.path.isabs('/pythonStudy/s12/test'))    # 如果path是绝对路径，返回True\n",
    "print(os.path.isfile('test'))                   # 如果path是一个存在的文件，返回True。否则返回False\n",
    "print(os.path.isdir('/pythonStudy/s12/test'))    # 如果path是一个存在的目录，则返回True。否则返回False\n",
    "print(os.path.getatime('/pythonStudy/s12/test'))   # 返回path所指向的文件或者目录的最后存取时间\n",
    "print(os.path.getmtime('/pythonStudy/s12/test'))   # 返回path所指向的文件或者目录的最后修改时间\n",
    "\n",
    "```"
   ]
  },
  {
   "cell_type": "code",
   "execution_count": null,
   "metadata": {
    "collapsed": true
   },
   "outputs": [],
   "source": []
  },
  {
   "cell_type": "code",
   "execution_count": null,
   "metadata": {
    "collapsed": true
   },
   "outputs": [],
   "source": []
  },
  {
   "cell_type": "code",
   "execution_count": null,
   "metadata": {},
   "outputs": [],
   "source": []
  },
  {
   "cell_type": "code",
   "execution_count": null,
   "metadata": {},
   "outputs": [],
   "source": []
  },
  {
   "cell_type": "code",
   "execution_count": null,
   "metadata": {},
   "outputs": [],
   "source": []
  },
  {
   "cell_type": "code",
   "execution_count": null,
   "metadata": {},
   "outputs": [],
   "source": []
  }
 ],
 "metadata": {
  "kernelspec": {
   "display_name": "Python 3",
   "language": "python",
   "name": "python3"
  },
  "language_info": {
   "codemirror_mode": {
    "name": "ipython",
    "version": 3
   },
   "file_extension": ".py",
   "mimetype": "text/x-python",
   "name": "python",
   "nbconvert_exporter": "python",
   "pygments_lexer": "ipython3",
   "version": "3.7.4"
  },
  "toc": {
   "base_numbering": 1,
   "nav_menu": {},
   "number_sections": true,
   "sideBar": true,
   "skip_h1_title": true,
   "title_cell": "目录",
   "title_sidebar": "目录",
   "toc_cell": true,
   "toc_position": {
    "height": "calc(100% - 180px)",
    "left": "10px",
    "top": "150px",
    "width": "230.39999389648438px"
   },
   "toc_section_display": true,
   "toc_window_display": true
  }
 },
 "nbformat": 4,
 "nbformat_minor": 2
}
