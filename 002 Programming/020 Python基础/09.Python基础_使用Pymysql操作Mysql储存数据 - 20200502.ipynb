{
 "cells": [
  {
   "cell_type": "markdown",
   "metadata": {
    "toc": true
   },
   "source": [
    "<h1>Table of Contents<span class=\"tocSkip\"></span></h1>\n",
    "<div class=\"toc\"><ul class=\"toc-item\"><li><span><a href=\"#关系数据库存储-MySQL为例\" data-toc-modified-id=\"关系数据库存储-MySQL为例-1\"><span class=\"toc-item-num\">1&nbsp;&nbsp;</span>关系数据库存储-MySQL为例</a></span><ul class=\"toc-item\"><li><span><a href=\"#关系数据库介绍\" data-toc-modified-id=\"关系数据库介绍-1.1\"><span class=\"toc-item-num\">1.1&nbsp;&nbsp;</span>关系数据库介绍</a></span></li></ul></li><li><span><a href=\"#Pymysql-安装\" data-toc-modified-id=\"Pymysql-安装-2\"><span class=\"toc-item-num\">2&nbsp;&nbsp;</span>Pymysql 安装</a></span></li><li><span><a href=\"#连接数据库\" data-toc-modified-id=\"连接数据库-3\"><span class=\"toc-item-num\">3&nbsp;&nbsp;</span>连接数据库</a></span></li><li><span><a href=\"#建立游标,执行sql\" data-toc-modified-id=\"建立游标,执行sql-4\"><span class=\"toc-item-num\">4&nbsp;&nbsp;</span>建立游标,执行sql</a></span></li><li><span><a href=\"#执行事务\" data-toc-modified-id=\"执行事务-5\"><span class=\"toc-item-num\">5&nbsp;&nbsp;</span>执行事务</a></span></li><li><span><a href=\"#查询数据\" data-toc-modified-id=\"查询数据-6\"><span class=\"toc-item-num\">6&nbsp;&nbsp;</span>查询数据</a></span></li><li><span><a href=\"#练习题\" data-toc-modified-id=\"练习题-7\"><span class=\"toc-item-num\">7&nbsp;&nbsp;</span>练习题</a></span></li></ul></div>"
   ]
  },
  {
   "cell_type": "markdown",
   "metadata": {
    "collapsed": true
   },
   "source": [
    "## 关系数据库存储-MySQL为例"
   ]
  },
  {
   "cell_type": "markdown",
   "metadata": {},
   "source": [
    "### 关系数据库介绍"
   ]
  },
  {
   "cell_type": "markdown",
   "metadata": {
    "collapsed": true
   },
   "source": [
    "假设你已经（或者有能力）获取大量数据（通过爬取），那么选择何种方式去存储数据非常重要\n",
    "\n",
    "一般而言就爬虫问题，我们可以选择：\n",
    "\n",
    "1. 文本文件的形式保存（比如csv）\n",
    "2. 数据库\n",
    "\n",
    "第一种\n",
    "\n",
    "- 优势：方便，随时使用，不需要第三方的支持\n",
    "- 劣势：健壮性差，扩展性差\n",
    "\n",
    "第二种\n",
    "\n",
    "- 优势：良好的扩展性，使用广泛\n",
    "- 劣势：对技术有一定要求"
   ]
  },
  {
   "cell_type": "markdown",
   "metadata": {},
   "source": [
    "## Pymysql 安装\n",
    "\n",
    "Python配合MySQL,我们使用pymysql进行操作"
   ]
  },
  {
   "cell_type": "markdown",
   "metadata": {},
   "source": [
    "MySQL和Python的连接库：\n",
    "\n",
    "- Python3.x: pymysql\n",
    "\n",
    "利用 pip安装\n",
    "\n",
    "pip install pymysql"
   ]
  },
  {
   "cell_type": "markdown",
   "metadata": {},
   "source": [
    "利用conda安装\n",
    "\n",
    "conda install pymysql"
   ]
  },
  {
   "cell_type": "markdown",
   "metadata": {},
   "source": [
    "## 连接数据库"
   ]
  },
  {
   "cell_type": "code",
   "execution_count": 3,
   "metadata": {},
   "outputs": [],
   "source": [
    "import pymysql"
   ]
  },
  {
   "cell_type": "code",
   "execution_count": 4,
   "metadata": {},
   "outputs": [],
   "source": [
    "connect = pymysql.connect(host=\"117.51.148.31\", \n",
    "                          port=3306, \n",
    "                          user=\"root\",\n",
    "                          password='0123456789', \n",
    "                          database='pythongo',\n",
    "                          charset='utf8' )"
   ]
  },
  {
   "cell_type": "markdown",
   "metadata": {},
   "source": [
    "## 建立游标,执行sql"
   ]
  },
  {
   "cell_type": "code",
   "execution_count": 5,
   "metadata": {},
   "outputs": [],
   "source": [
    "cursor = connect.cursor()"
   ]
  },
  {
   "cell_type": "code",
   "execution_count": 6,
   "metadata": {},
   "outputs": [],
   "source": [
    "sql = \"create database cda_test2 character set utf8 collate utf8_general_ci; \""
   ]
  },
  {
   "cell_type": "code",
   "execution_count": 7,
   "metadata": {
    "collapsed": true
   },
   "outputs": [
    {
     "name": "stderr",
     "output_type": "stream",
     "text": [
      "/Users/mac/opt/anaconda3/lib/python3.7/site-packages/pymysql/cursors.py:170: Warning: (3719, \"'utf8' is currently an alias for the character set UTF8MB3, but will be an alias for UTF8MB4 in a future release. Please consider using UTF8MB4 in order to be unambiguous.\")\n",
      "  result = self._query(query)\n",
      "/Users/mac/opt/anaconda3/lib/python3.7/site-packages/pymysql/cursors.py:170: Warning: (3778, \"'utf8_general_ci' is a collation of the deprecated character set UTF8MB3. Please consider using UTF8MB4 with an appropriate collation instead.\")\n",
      "  result = self._query(query)\n"
     ]
    },
    {
     "data": {
      "text/plain": [
       "1"
      ]
     },
     "execution_count": 7,
     "metadata": {},
     "output_type": "execute_result"
    }
   ],
   "source": [
    "# 创建数据库\n",
    "cursor.execute(sql)"
   ]
  },
  {
   "cell_type": "code",
   "execution_count": 10,
   "metadata": {},
   "outputs": [],
   "source": [
    "# 创建表格\n",
    "sql2 = \"create table Student(Sid varchar(10),Sname nvarchar(10),Sage datetime,Ssex nvarchar(10))\""
   ]
  },
  {
   "cell_type": "code",
   "execution_count": 11,
   "metadata": {},
   "outputs": [
    {
     "name": "stderr",
     "output_type": "stream",
     "text": [
      "/Users/mac/opt/anaconda3/lib/python3.7/site-packages/pymysql/cursors.py:170: Warning: (3720, 'NATIONAL/NCHAR/NVARCHAR implies the character set UTF8MB3, which will be replaced by UTF8MB4 in a future release. Please consider using CHAR(x) CHARACTER SET UTF8MB4 in order to be unambiguous.')\n",
      "  result = self._query(query)\n"
     ]
    },
    {
     "data": {
      "text/plain": [
       "0"
      ]
     },
     "execution_count": 11,
     "metadata": {},
     "output_type": "execute_result"
    }
   ],
   "source": [
    "cursor.execute(sql2)"
   ]
  },
  {
   "cell_type": "code",
   "execution_count": null,
   "metadata": {},
   "outputs": [],
   "source": []
  },
  {
   "cell_type": "code",
   "execution_count": null,
   "metadata": {},
   "outputs": [],
   "source": []
  },
  {
   "cell_type": "code",
   "execution_count": 12,
   "metadata": {},
   "outputs": [
    {
     "data": {
      "text/plain": [
       "1"
      ]
     },
     "execution_count": 12,
     "metadata": {},
     "output_type": "execute_result"
    }
   ],
   "source": [
    "# 插入数据\n",
    "cursor.execute(\"insert into Student values('01' , N'赵雷' , '1990-01-01' , N'男');\")"
   ]
  },
  {
   "cell_type": "code",
   "execution_count": 13,
   "metadata": {},
   "outputs": [],
   "source": [
    "# 一次插入多条数据\n",
    "data = [('02','钱电' ,'1990-12-21', '男'),\n",
    "       ('03' , '孙风' , '1990-05-20' , '男'),\n",
    "       ('04' , '李云' , '1990-08-06' , '男')]"
   ]
  },
  {
   "cell_type": "code",
   "execution_count": 14,
   "metadata": {},
   "outputs": [
    {
     "data": {
      "text/plain": [
       "3"
      ]
     },
     "execution_count": 14,
     "metadata": {},
     "output_type": "execute_result"
    }
   ],
   "source": [
    "cursor.executemany(\"\"\"insert into Student values(%s, %s , %s , %s)\"\"\" , data)"
   ]
  },
  {
   "cell_type": "code",
   "execution_count": 15,
   "metadata": {},
   "outputs": [],
   "source": [
    "# 插入操作必须在commit后才会生效\n",
    "connect.commit()"
   ]
  },
  {
   "cell_type": "markdown",
   "metadata": {},
   "source": [
    "## 执行事务\n",
    "\n",
    "事务机制可以确保数据一致性。\n",
    "\n",
    "事务应该具有4个属性：原子性、一致性、隔离性、持久性。这四个属性通常称为ACID特性。\n",
    "\n",
    "- 原子性（atomicity）。一个事务是一个不可分割的工作单位，事务中包括的诸操作要么都做，要么都不做。\n",
    "- 一致性（consistency）。事务必须是使数据库从一个一致性状态变到另一个一致性状态。一致性与原子性是密切相关的。\n",
    "- 隔离性（isolation）。一个事务的执行不能被其他事务干扰。即一个事务内部的操作及使用的数据对并发的其他事务是隔离的，并发执行的各个事务之间不能互相干扰。\n",
    "- 持久性（durability）。持续性也称永久性（permanence），指一个事务一旦提交，它对数据库中数据的改变就应该是永久性的。接下来的其他操作或故障不应该对其有任何影响。"
   ]
  },
  {
   "cell_type": "code",
   "execution_count": null,
   "metadata": {},
   "outputs": [],
   "source": [
    "# 换一种方法插入数据也可以"
   ]
  },
  {
   "cell_type": "code",
   "execution_count": 16,
   "metadata": {},
   "outputs": [],
   "source": [
    "# 插入数据\n",
    "sql3 = \"\"\"insert into Student values('04' , N'李云' , '1990-08-06' , N'男')\n",
    "insert into Student values('05' , N'周梅' , '1991-12-01' , N'女')\n",
    "insert into Student values('06' , N'吴兰' , '1992-03-01' , N'女')\n",
    "insert into Student values('07' , N'郑竹' , '1989-07-01' , N'女')\n",
    "insert into Student values('08' , N'王菊' , '1990-01-20' , N'女')\"\"\""
   ]
  },
  {
   "cell_type": "code",
   "execution_count": null,
   "metadata": {},
   "outputs": [],
   "source": []
  },
  {
   "cell_type": "code",
   "execution_count": 17,
   "metadata": {},
   "outputs": [],
   "source": [
    "for i in sql3.splitlines():\n",
    "    cursor.execute(i)\n",
    "try:\n",
    "   # 执行sql语句\n",
    "   connect.commit()\n",
    "except:\n",
    "   # 发生错误时回滚\n",
    "   connect.rollback()"
   ]
  },
  {
   "cell_type": "markdown",
   "metadata": {},
   "source": [
    "## 查询数据"
   ]
  },
  {
   "cell_type": "code",
   "execution_count": 18,
   "metadata": {},
   "outputs": [
    {
     "data": {
      "text/plain": [
       "9"
      ]
     },
     "execution_count": 18,
     "metadata": {},
     "output_type": "execute_result"
    }
   ],
   "source": [
    "cursor.execute('select * from Student')"
   ]
  },
  {
   "cell_type": "code",
   "execution_count": 19,
   "metadata": {},
   "outputs": [
    {
     "data": {
      "text/plain": [
       "('01', '赵雷', datetime.datetime(1990, 1, 1, 0, 0), '男')"
      ]
     },
     "execution_count": 19,
     "metadata": {},
     "output_type": "execute_result"
    }
   ],
   "source": [
    "one = cursor.fetchone()\n",
    "one"
   ]
  },
  {
   "cell_type": "code",
   "execution_count": 20,
   "metadata": {},
   "outputs": [
    {
     "data": {
      "text/plain": [
       "(('02', '钱电', datetime.datetime(1990, 12, 21, 0, 0), '男'),\n",
       " ('03', '孙风', datetime.datetime(1990, 5, 20, 0, 0), '男'),\n",
       " ('04', '李云', datetime.datetime(1990, 8, 6, 0, 0), '男'))"
      ]
     },
     "execution_count": 20,
     "metadata": {},
     "output_type": "execute_result"
    }
   ],
   "source": [
    "three = cursor.fetchmany(3)\n",
    "three"
   ]
  },
  {
   "cell_type": "code",
   "execution_count": 21,
   "metadata": {},
   "outputs": [
    {
     "data": {
      "text/plain": [
       "(('04', '李云', datetime.datetime(1990, 8, 6, 0, 0), '男'),\n",
       " ('05', '周梅', datetime.datetime(1991, 12, 1, 0, 0), '女'),\n",
       " ('06', '吴兰', datetime.datetime(1992, 3, 1, 0, 0), '女'),\n",
       " ('07', '郑竹', datetime.datetime(1989, 7, 1, 0, 0), '女'),\n",
       " ('08', '王菊', datetime.datetime(1990, 1, 20, 0, 0), '女'))"
      ]
     },
     "execution_count": 21,
     "metadata": {},
     "output_type": "execute_result"
    }
   ],
   "source": [
    "last = cursor.fetchall()\n",
    "last"
   ]
  },
  {
   "cell_type": "code",
   "execution_count": null,
   "metadata": {},
   "outputs": [],
   "source": []
  },
  {
   "cell_type": "code",
   "execution_count": null,
   "metadata": {},
   "outputs": [],
   "source": []
  },
  {
   "cell_type": "markdown",
   "metadata": {},
   "source": [
    "## 练习题"
   ]
  },
  {
   "cell_type": "markdown",
   "metadata": {},
   "source": [
    "练习：创建salgrade表并添加数据\n",
    "通过create和insert命令的语法练习，理解数据库的基本结构，且熟练掌握数据定义语言和数据操作语言的使用。\n",
    "表结构及记录如下：\n",
    "\n",
    "\n",
    "| 字段名 | 数据类型 |\n",
    "| ------ | -------- |\n",
    "| grade  | int      |\n",
    "| basic  | int      |\n",
    "| award  | int      |\n",
    "\n",
    "\n",
    "\n",
    "| **grade** | **basic** | **award** |\n",
    "| --------- | --------- | --------- |\n",
    "| 1         | 700       | 1200      |\n",
    "| 2         | 1201      | 1400      |\n",
    "| 3         | 1401      | 2000      |\n",
    "| 4         | 2001      | 3000      |\n",
    "| 5         | 3001      | 9999      |"
   ]
  },
  {
   "cell_type": "markdown",
   "metadata": {},
   "source": [
    "- 查询基本工资大于1400的数据\n",
    "- 查询奖金在1500-5000的人有哪些"
   ]
  },
  {
   "cell_type": "markdown",
   "metadata": {},
   "source": [
    "```mysql\n",
    "-- 练习：创建salgrade表并插入数据\n",
    "create table salgrade (\n",
    "    name varchar(60),\n",
    "    basic int,\n",
    "    award int\n",
    ");\n",
    "\n",
    "-- 插入工资等级信息\n",
    "insert into salgrade values ('张三',700,1200),\n",
    "\t\t\t\t\t\t\t('李四',1201,1400),\n",
    "\t\t\t\t\t\t\t('王五',1401,2000),\n",
    "\t\t\t\t\t\t\t('赵六',2001,3000),\n",
    "\t\t\t\t\t\t\t('孙七',3001,9999);\n",
    "```                           "
   ]
  },
  {
   "cell_type": "code",
   "execution_count": 40,
   "metadata": {},
   "outputs": [],
   "source": [
    "sql = 'drop table salgrade;'"
   ]
  },
  {
   "cell_type": "code",
   "execution_count": 41,
   "metadata": {},
   "outputs": [
    {
     "data": {
      "text/plain": [
       "0"
      ]
     },
     "execution_count": 41,
     "metadata": {},
     "output_type": "execute_result"
    }
   ],
   "source": [
    "cursor.execute(sql)"
   ]
  },
  {
   "cell_type": "code",
   "execution_count": null,
   "metadata": {},
   "outputs": [],
   "source": []
  },
  {
   "cell_type": "code",
   "execution_count": 42,
   "metadata": {},
   "outputs": [],
   "source": [
    "sql = \"\"\"-- 练习：创建salgrade表并插入数据\n",
    "create table salgrade (\n",
    "    name varchar(60),\n",
    "    basic int,\n",
    "    award int\n",
    ");\"\"\""
   ]
  },
  {
   "cell_type": "code",
   "execution_count": 43,
   "metadata": {},
   "outputs": [
    {
     "data": {
      "text/plain": [
       "0"
      ]
     },
     "execution_count": 43,
     "metadata": {},
     "output_type": "execute_result"
    }
   ],
   "source": [
    "cursor.execute(sql)"
   ]
  },
  {
   "cell_type": "code",
   "execution_count": 44,
   "metadata": {},
   "outputs": [],
   "source": [
    "sql2 = \"\"\"-- 插入工资等级信息\n",
    "insert into salgrade values ('张三',700,1200),\n",
    "                            ('李四',1201,1400),\n",
    "                            ('王五',1401,2000),\n",
    "                            ('赵六',2001,3000),\n",
    "                            ('孙七',3001,9999);\"\"\""
   ]
  },
  {
   "cell_type": "code",
   "execution_count": 45,
   "metadata": {},
   "outputs": [
    {
     "data": {
      "text/plain": [
       "5"
      ]
     },
     "execution_count": 45,
     "metadata": {},
     "output_type": "execute_result"
    }
   ],
   "source": [
    "cursor.execute(sql2)"
   ]
  },
  {
   "cell_type": "code",
   "execution_count": 46,
   "metadata": {},
   "outputs": [],
   "source": [
    "connect.commit()"
   ]
  },
  {
   "cell_type": "code",
   "execution_count": 47,
   "metadata": {},
   "outputs": [],
   "source": [
    "sql3 = \"\"\"select * from salgrade\"\"\""
   ]
  },
  {
   "cell_type": "code",
   "execution_count": 48,
   "metadata": {},
   "outputs": [
    {
     "data": {
      "text/plain": [
       "5"
      ]
     },
     "execution_count": 48,
     "metadata": {},
     "output_type": "execute_result"
    }
   ],
   "source": [
    "cursor.execute(sql3)"
   ]
  },
  {
   "cell_type": "code",
   "execution_count": 49,
   "metadata": {},
   "outputs": [
    {
     "data": {
      "text/plain": [
       "(('张三', 700, 1200),\n",
       " ('李四', 1201, 1400),\n",
       " ('王五', 1401, 2000),\n",
       " ('赵六', 2001, 3000),\n",
       " ('孙七', 3001, 9999))"
      ]
     },
     "execution_count": 49,
     "metadata": {},
     "output_type": "execute_result"
    }
   ],
   "source": [
    "test = cursor.fetchall()\n",
    "test"
   ]
  },
  {
   "cell_type": "code",
   "execution_count": 50,
   "metadata": {},
   "outputs": [],
   "source": [
    "sql4 = \"\"\"select * from salgrade where basic>1400;\"\"\""
   ]
  },
  {
   "cell_type": "code",
   "execution_count": 51,
   "metadata": {},
   "outputs": [
    {
     "data": {
      "text/plain": [
       "3"
      ]
     },
     "execution_count": 51,
     "metadata": {},
     "output_type": "execute_result"
    }
   ],
   "source": [
    "cursor.execute(sql4)"
   ]
  },
  {
   "cell_type": "code",
   "execution_count": 52,
   "metadata": {},
   "outputs": [
    {
     "data": {
      "text/plain": [
       "(('王五', 1401, 2000), ('赵六', 2001, 3000), ('孙七', 3001, 9999))"
      ]
     },
     "execution_count": 52,
     "metadata": {},
     "output_type": "execute_result"
    }
   ],
   "source": [
    "cursor.fetchall()"
   ]
  },
  {
   "cell_type": "code",
   "execution_count": 58,
   "metadata": {},
   "outputs": [],
   "source": [
    "sql = \"\"\"select * from salgrade where award >1500 and award<5000;\"\"\""
   ]
  },
  {
   "cell_type": "code",
   "execution_count": 59,
   "metadata": {},
   "outputs": [
    {
     "data": {
      "text/plain": [
       "2"
      ]
     },
     "execution_count": 59,
     "metadata": {},
     "output_type": "execute_result"
    }
   ],
   "source": [
    "cursor.execute(sql)"
   ]
  },
  {
   "cell_type": "code",
   "execution_count": 60,
   "metadata": {},
   "outputs": [
    {
     "data": {
      "text/plain": [
       "(('王五', 1401, 2000), ('赵六', 2001, 3000))"
      ]
     },
     "execution_count": 60,
     "metadata": {},
     "output_type": "execute_result"
    }
   ],
   "source": [
    "cursor.fetchall()"
   ]
  },
  {
   "cell_type": "code",
   "execution_count": 62,
   "metadata": {},
   "outputs": [],
   "source": [
    "sql = \"\"\"select * from salgrade where award between 1500 and 5000;\"\"\""
   ]
  },
  {
   "cell_type": "code",
   "execution_count": 63,
   "metadata": {},
   "outputs": [
    {
     "data": {
      "text/plain": [
       "2"
      ]
     },
     "execution_count": 63,
     "metadata": {},
     "output_type": "execute_result"
    }
   ],
   "source": [
    "cursor.execute(sql)"
   ]
  },
  {
   "cell_type": "code",
   "execution_count": 64,
   "metadata": {},
   "outputs": [
    {
     "data": {
      "text/plain": [
       "(('王五', 1401, 2000), ('赵六', 2001, 3000))"
      ]
     },
     "execution_count": 64,
     "metadata": {},
     "output_type": "execute_result"
    }
   ],
   "source": [
    "cursor.fetchall()"
   ]
  },
  {
   "cell_type": "code",
   "execution_count": null,
   "metadata": {},
   "outputs": [],
   "source": []
  },
  {
   "cell_type": "code",
   "execution_count": null,
   "metadata": {},
   "outputs": [],
   "source": []
  },
  {
   "cell_type": "code",
   "execution_count": null,
   "metadata": {},
   "outputs": [],
   "source": []
  },
  {
   "cell_type": "code",
   "execution_count": null,
   "metadata": {
    "collapsed": true
   },
   "outputs": [],
   "source": []
  },
  {
   "cell_type": "code",
   "execution_count": null,
   "metadata": {
    "collapsed": true
   },
   "outputs": [],
   "source": []
  },
  {
   "cell_type": "code",
   "execution_count": null,
   "metadata": {
    "collapsed": true
   },
   "outputs": [],
   "source": []
  },
  {
   "cell_type": "code",
   "execution_count": null,
   "metadata": {
    "collapsed": true
   },
   "outputs": [],
   "source": []
  },
  {
   "cell_type": "code",
   "execution_count": null,
   "metadata": {
    "collapsed": true
   },
   "outputs": [],
   "source": []
  },
  {
   "cell_type": "code",
   "execution_count": null,
   "metadata": {
    "collapsed": true
   },
   "outputs": [],
   "source": []
  },
  {
   "cell_type": "code",
   "execution_count": null,
   "metadata": {
    "collapsed": true
   },
   "outputs": [],
   "source": []
  },
  {
   "cell_type": "code",
   "execution_count": null,
   "metadata": {
    "collapsed": true
   },
   "outputs": [],
   "source": []
  }
 ],
 "metadata": {
  "kernelspec": {
   "display_name": "Python 3",
   "language": "python",
   "name": "python3"
  },
  "language_info": {
   "codemirror_mode": {
    "name": "ipython",
    "version": 3
   },
   "file_extension": ".py",
   "mimetype": "text/x-python",
   "name": "python",
   "nbconvert_exporter": "python",
   "pygments_lexer": "ipython3",
   "version": "3.7.4"
  },
  "nbTranslate": {
   "displayLangs": [
    "en"
   ],
   "hotkey": "alt-t",
   "langInMainMenu": true,
   "sourceLang": "ch",
   "targetLang": "en",
   "useGoogleTranslate": true
  },
  "toc": {
   "base_numbering": 1,
   "nav_menu": {},
   "number_sections": true,
   "sideBar": true,
   "skip_h1_title": false,
   "title_cell": "Table of Contents",
   "title_sidebar": "Contents",
   "toc_cell": true,
   "toc_position": {
    "height": "calc(100% - 180px)",
    "left": "10px",
    "top": "150px",
    "width": "165px"
   },
   "toc_section_display": true,
   "toc_window_display": true
  },
  "varInspector": {
   "cols": {
    "lenName": 16,
    "lenType": 16,
    "lenVar": 40
   },
   "kernels_config": {
    "python": {
     "delete_cmd_postfix": "",
     "delete_cmd_prefix": "del ",
     "library": "var_list.py",
     "varRefreshCmd": "print(var_dic_list())"
    },
    "r": {
     "delete_cmd_postfix": ") ",
     "delete_cmd_prefix": "rm(",
     "library": "var_list.r",
     "varRefreshCmd": "cat(var_dic_list()) "
    }
   },
   "types_to_exclude": [
    "module",
    "function",
    "builtin_function_or_method",
    "instance",
    "_Feature"
   ],
   "window_display": false
  }
 },
 "nbformat": 4,
 "nbformat_minor": 2
}
