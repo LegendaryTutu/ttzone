{
 "cells": [
  {
   "cell_type": "markdown",
   "metadata": {
    "toc": true
   },
   "source": [
    "<h1>Table of Contents<span class=\"tocSkip\"></span></h1>\n",
    "<div class=\"toc\"><ul class=\"toc-item\"><li><span><a href=\"#面向对象学习\" data-toc-modified-id=\"面向对象学习-1\"><span class=\"toc-item-num\">1&nbsp;&nbsp;</span>面向对象学习</a></span><ul class=\"toc-item\"><li><span><a href=\"#面向对象技术简介\" data-toc-modified-id=\"面向对象技术简介-1.1\"><span class=\"toc-item-num\">1.1&nbsp;&nbsp;</span>面向对象技术简介</a></span></li><li><span><a href=\"#创建类\" data-toc-modified-id=\"创建类-1.2\"><span class=\"toc-item-num\">1.2&nbsp;&nbsp;</span>创建类</a></span></li><li><span><a href=\"#类的实例化(对象)\" data-toc-modified-id=\"类的实例化(对象)-1.3\"><span class=\"toc-item-num\">1.3&nbsp;&nbsp;</span>类的实例化(对象)</a></span></li><li><span><a href=\"#属性的引用\" data-toc-modified-id=\"属性的引用-1.4\"><span class=\"toc-item-num\">1.4&nbsp;&nbsp;</span>属性的引用</a></span></li><li><span><a href=\"#类属性的操作\" data-toc-modified-id=\"类属性的操作-1.5\"><span class=\"toc-item-num\">1.5&nbsp;&nbsp;</span>类属性的操作</a></span></li><li><span><a href=\"#类的方法\" data-toc-modified-id=\"类的方法-1.6\"><span class=\"toc-item-num\">1.6&nbsp;&nbsp;</span>类的方法</a></span></li><li><span><a href=\"#类的方法的参数\" data-toc-modified-id=\"类的方法的参数-1.7\"><span class=\"toc-item-num\">1.7&nbsp;&nbsp;</span>类的方法的参数</a></span></li><li><span><a href=\"#练习:-编写一个方法\" data-toc-modified-id=\"练习:-编写一个方法-1.8\"><span class=\"toc-item-num\">1.8&nbsp;&nbsp;</span>练习: 编写一个方法</a></span></li><li><span><a href=\"#初始化方法\" data-toc-modified-id=\"初始化方法-1.9\"><span class=\"toc-item-num\">1.9&nbsp;&nbsp;</span>初始化方法</a></span><ul class=\"toc-item\"><li><span><a href=\"#可以在方法中直接使用类属性和实例属性\" data-toc-modified-id=\"可以在方法中直接使用类属性和实例属性-1.9.1\"><span class=\"toc-item-num\">1.9.1&nbsp;&nbsp;</span>可以在方法中直接使用类属性和实例属性</a></span></li></ul></li><li><span><a href=\"#类的方法参数写法\" data-toc-modified-id=\"类的方法参数写法-1.10\"><span class=\"toc-item-num\">1.10&nbsp;&nbsp;</span>类的方法参数写法</a></span></li><li><span><a href=\"#练习:-给CDA学员类添加一个新的方法sleep\" data-toc-modified-id=\"练习:-给CDA学员类添加一个新的方法sleep-1.11\"><span class=\"toc-item-num\">1.11&nbsp;&nbsp;</span>练习: 给CDA学员类添加一个新的方法sleep</a></span></li><li><span><a href=\"#也可以在类创建之后再添加\" data-toc-modified-id=\"也可以在类创建之后再添加-1.12\"><span class=\"toc-item-num\">1.12&nbsp;&nbsp;</span>也可以在类创建之后再添加</a></span></li><li><span><a href=\"#练习\" data-toc-modified-id=\"练习-1.13\"><span class=\"toc-item-num\">1.13&nbsp;&nbsp;</span>练习</a></span><ul class=\"toc-item\"><li><span><a href=\"#给计算器添加一个减法功能\" data-toc-modified-id=\"给计算器添加一个减法功能-1.13.1\"><span class=\"toc-item-num\">1.13.1&nbsp;&nbsp;</span>给计算器添加一个减法功能</a></span></li></ul></li><li><span><a href=\"#实例之间的交互\" data-toc-modified-id=\"实例之间的交互-1.14\"><span class=\"toc-item-num\">1.14&nbsp;&nbsp;</span>实例之间的交互</a></span></li><li><span><a href=\"#继承\" data-toc-modified-id=\"继承-1.15\"><span class=\"toc-item-num\">1.15&nbsp;&nbsp;</span>继承</a></span><ul class=\"toc-item\"><li><span><a href=\"#继承与抽象（先抽象再继承）\" data-toc-modified-id=\"继承与抽象（先抽象再继承）-1.15.1\"><span class=\"toc-item-num\">1.15.1&nbsp;&nbsp;</span>继承与抽象（先抽象再继承）</a></span></li><li><span><a href=\"#Python中继承的基本语法\" data-toc-modified-id=\"Python中继承的基本语法-1.15.2\"><span class=\"toc-item-num\">1.15.2&nbsp;&nbsp;</span>Python中继承的基本语法</a></span></li><li><span><a href=\"#上面的两个类中,-有一部分功能是相同的\" data-toc-modified-id=\"上面的两个类中,-有一部分功能是相同的-1.15.3\"><span class=\"toc-item-num\">1.15.3&nbsp;&nbsp;</span>上面的两个类中, 有一部分功能是相同的</a></span></li><li><span><a href=\"#方法重写\" data-toc-modified-id=\"方法重写-1.15.4\"><span class=\"toc-item-num\">1.15.4&nbsp;&nbsp;</span>方法重写</a></span></li></ul></li><li><span><a href=\"#练习\" data-toc-modified-id=\"练习-1.16\"><span class=\"toc-item-num\">1.16&nbsp;&nbsp;</span>练习</a></span></li></ul></li></ul></div>"
   ]
  },
  {
   "cell_type": "markdown",
   "metadata": {},
   "source": [
    "# 面向对象学习"
   ]
  },
  {
   "cell_type": "code",
   "execution_count": 218,
   "metadata": {},
   "outputs": [],
   "source": [
    "from IPython.core.interactiveshell import InteractiveShell\n",
    "InteractiveShell.ast_node_interactivity = \"all\""
   ]
  },
  {
   "cell_type": "markdown",
   "metadata": {},
   "source": [
    "面向过程的思维:\n",
    "\n",
    "我们要去解决一个问题,我们会将这个问题拆分成一个一个的过程,然后依次执行.\n",
    "\n",
    "举例: 你想吃一顿饺子.\n",
    "\n",
    "第一步: 菜市场买材料\n",
    "\n",
    "第二步: 洗菜,切菜,剁馅\n",
    "\n",
    "第三步: 和面,擀皮\n",
    "\n",
    "第四步: 包饺子\n",
    "\n",
    "第五步: 煮饺子\n",
    "\n",
    "第六步: 吃饺子\n",
    "\n",
    "面向对象吃饺子:\n",
    "\n",
    "定义一个对象:我们把需要的技能, 赋予这个对象.\n",
    "\n",
    "举例: 我们有一个妈妈对象,这个对象学习了,买菜技能,切菜技能,包饺子,煮饺子.\n",
    "\n",
    "\n",
    "今天下午你想晚上吃饺子:\n",
    "\n",
    "妈,我晚上想吃饺子.\n",
    "\n",
    "妈.切菜(韭菜)\n",
    "\n",
    "妈.煮饺子(包好的饺子)\n",
    "\n",
    "等着吃饺子\n",
    "\n"
   ]
  },
  {
   "cell_type": "code",
   "execution_count": null,
   "metadata": {},
   "outputs": [],
   "source": []
  },
  {
   "cell_type": "code",
   "execution_count": null,
   "metadata": {},
   "outputs": [],
   "source": []
  },
  {
   "cell_type": "code",
   "execution_count": null,
   "metadata": {},
   "outputs": [],
   "source": []
  },
  {
   "cell_type": "markdown",
   "metadata": {},
   "source": [
    "## 面向对象技术简介\n",
    "\n",
    "面向过程: 根据业务逻辑从上到下写代码\n",
    "\n",
    "面向对象：将数据与函数绑定到一起，进行封装，这样能够更快速的开发程序，减少了重复代码的重写过程\n",
    "\n",
    "面向过程的程序设计把计算机程序视为一系列的命令集合，即一组函数的顺序执行。为了简化程序设计，面向过程把函数继续切分为子函数，即把大块函数通过切割成小块函数来降低系统的复杂度。\n",
    "\n",
    "面向过程编程最易被初学者接受，其往往用一长段代码来实现指定功能，开发过程的思路是将数据与函数按照执行的逻辑顺序组织在一起，数据与函数分开考虑。"
   ]
  },
  {
   "cell_type": "markdown",
   "metadata": {},
   "source": [
    "面向过程的程序设计的核心是过程（流水线式思维），过程即解决问题的步骤，面向过程的设计就好比精心设计好一条流水线，考虑周全什么时候处理什么东西。\n",
    "\n",
    "优点是：极大的降低了写程序的复杂度，只需要顺着要执行的步骤，堆叠代码即可。\n",
    "\n",
    "缺点是：一套流水线或者流程就是用来解决一个问题，代码牵一发而动全身。\n",
    "\n",
    "面向对象的程序设计的核心是对象（上帝式思维），要理解对象为何物，必须把自己当成上帝，上帝眼里世间存在的万物皆为对象，不存在的也可以创造出来。面向对象的程序设计好比如来设计西游记，如来要解决的问题是把经书传给东土大唐，如来想了想解决这个问题需要四个人：唐僧，沙和尚，猪八戒，孙悟空，每个人都有各自的特征和技能（这就是对象的概念，特征和技能分别对应对象的属性和方法），然而这并不好玩，于是如来又安排了一群妖魔鬼怪，为了防止师徒四人在取经路上被搞死，又安排了一群神仙保驾护航，这些都是对象。然后取经开始，师徒四人与妖魔鬼怪神仙互相缠斗着直到最后取得真经。如来根本不会管师徒四人按照什么流程去取。\n",
    "\n",
    "面向对象的程序设计的\n",
    "\n",
    "优点是：解决了程序的扩展性。对某一个对象单独修改，会立刻反映到整个体系中，如对游戏中一个人物参数的特征和技能修改都很容易。\n",
    "\n",
    "缺点：可控性差，无法向面向过程的程序设计流水线式的可以很精准的预测问题的处理流程与结果，面向对象的程序一旦开始就由对象之间的交互解决问题，即便是上帝也无法预测最终结果。于是我们经常看到一个游戏人某一参数的修改极有可能导致阴霸的技能出现，一刀砍死3个人，这个游戏就失去平衡。"
   ]
  },
  {
   "cell_type": "markdown",
   "metadata": {},
   "source": [
    "\n",
    "\n",
    "1. 类(Class): 用来描述具有相同的属性和方法的对象的集合。它定义了该集合中每个对象所共有的属性和方法。对象是类的实例。\n",
    "8. 方法：类中定义的函数。\n",
    "3. 类变量：类变量在整个实例化的对象中是公用的。类变量定义在类中且在函数体之外。类变量通常不作为实例变量使用。\n",
    "2. 实例化：创建一个类的实例，类的具体对象。\n",
    "9. 对象：通过类定义的数据结构实例。对象包括两个数据成员（类变量和实例变量）和方法。\n",
    "4. 实例变量：定义在方法中的变量，只作用于当前实例的类。\n",
    "5. 数据成员：类变量或者实例变量, 用于处理类及其实例对象的相关的数据。\n",
    "6. 继承：即一个派生类（derived class）继承基类（base class）的字段和方法。继承也允许把一个派生类的对象作为一个基类对象对待。例如，有这样一个设计：一个Dog类型的对象派生自Animal类，这是模拟\"是一个（is-a）\"关系（例图，Dog是一个Animal）。\n",
    "7. 方法重写：如果从父类继承的方法不能满足子类的需求，可以对其进行改写，这个过程叫方法的覆盖（override），也称为方法的重写。\n"
   ]
  },
  {
   "cell_type": "markdown",
   "metadata": {},
   "source": [
    "## 创建类\n",
    "\n",
    "使用 class 语句来创建一个新类，class 之后为类的名称并以冒号结尾:"
   ]
  },
  {
   "cell_type": "code",
   "execution_count": 7,
   "metadata": {
    "collapsed": true
   },
   "outputs": [
    {
     "ename": "NameError",
     "evalue": "name '类的属性' is not defined",
     "output_type": "error",
     "traceback": [
      "\u001b[0;31m---------------------------------------------------------------------------\u001b[0m",
      "\u001b[0;31mNameError\u001b[0m                                 Traceback (most recent call last)",
      "\u001b[0;32m<ipython-input-7-0167c9ff8b78>\u001b[0m in \u001b[0;36m<module>\u001b[0;34m\u001b[0m\n\u001b[0;32m----> 1\u001b[0;31m \u001b[0;32mclass\u001b[0m \u001b[0m类名称\u001b[0m\u001b[0;34m:\u001b[0m\u001b[0;34m\u001b[0m\u001b[0;34m\u001b[0m\u001b[0m\n\u001b[0m\u001b[1;32m      2\u001b[0m     \u001b[0m类的属性\u001b[0m\u001b[0;34m\u001b[0m\u001b[0;34m\u001b[0m\u001b[0m\n\u001b[1;32m      3\u001b[0m     \u001b[0m类的方法\u001b[0m\u001b[0;34m\u001b[0m\u001b[0;34m\u001b[0m\u001b[0m\n",
      "\u001b[0;32m<ipython-input-7-0167c9ff8b78>\u001b[0m in \u001b[0;36m类名称\u001b[0;34m()\u001b[0m\n\u001b[1;32m      1\u001b[0m \u001b[0;32mclass\u001b[0m \u001b[0m类名称\u001b[0m\u001b[0;34m:\u001b[0m\u001b[0;34m\u001b[0m\u001b[0;34m\u001b[0m\u001b[0m\n\u001b[0;32m----> 2\u001b[0;31m     \u001b[0m类的属性\u001b[0m\u001b[0;34m\u001b[0m\u001b[0;34m\u001b[0m\u001b[0m\n\u001b[0m\u001b[1;32m      3\u001b[0m     \u001b[0m类的方法\u001b[0m\u001b[0;34m\u001b[0m\u001b[0;34m\u001b[0m\u001b[0m\n",
      "\u001b[0;31mNameError\u001b[0m: name '类的属性' is not defined"
     ]
    }
   ],
   "source": [
    "class 类名称:\n",
    "    类的属性\n",
    "    类的方法"
   ]
  },
  {
   "cell_type": "code",
   "execution_count": 23,
   "metadata": {},
   "outputs": [],
   "source": [
    "# 定义一个CDA学员的类\n",
    "class CDA学员:\n",
    "    \"\"\"类功能: 用于记录所有CDA学员\"\"\"\n",
    "    # 类属性: 将来用这个类实例化出的所有对象,都有的属性\n",
    "    eyes_num = 2 # 所有用这个类实例化的对象一定都有2只眼睛\n",
    "    hair_color  = 'black'"
   ]
  },
  {
   "cell_type": "code",
   "execution_count": 10,
   "metadata": {},
   "outputs": [
    {
     "data": {
      "text/plain": [
       "__main__.CDA学员"
      ]
     },
     "execution_count": 10,
     "metadata": {},
     "output_type": "execute_result"
    }
   ],
   "source": [
    "CDA学员"
   ]
  },
  {
   "cell_type": "code",
   "execution_count": null,
   "metadata": {},
   "outputs": [],
   "source": []
  },
  {
   "cell_type": "code",
   "execution_count": null,
   "metadata": {},
   "outputs": [],
   "source": [
    "# 习惯性: 类使用大写字母开头"
   ]
  },
  {
   "cell_type": "code",
   "execution_count": 2,
   "metadata": {},
   "outputs": [],
   "source": [
    "class CDA学员:\n",
    "    '''说明:这是一个用于记录CDA学员的类\n",
    "    参数说明:目前还没有参数'''\n",
    "    place = \"北京\"\n",
    "    name = \"小熊\""
   ]
  },
  {
   "cell_type": "markdown",
   "metadata": {},
   "source": [
    "## 类的实例化(对象)"
   ]
  },
  {
   "cell_type": "code",
   "execution_count": 24,
   "metadata": {},
   "outputs": [],
   "source": [
    "c1 = CDA学员()"
   ]
  },
  {
   "cell_type": "code",
   "execution_count": 12,
   "metadata": {},
   "outputs": [
    {
     "data": {
      "text/plain": [
       "<__main__.CDA学员 at 0x10bf04610>"
      ]
     },
     "execution_count": 12,
     "metadata": {},
     "output_type": "execute_result"
    }
   ],
   "source": [
    "c1"
   ]
  },
  {
   "cell_type": "code",
   "execution_count": 13,
   "metadata": {},
   "outputs": [
    {
     "data": {
      "text/plain": [
       "__main__.CDA学员"
      ]
     },
     "execution_count": 13,
     "metadata": {},
     "output_type": "execute_result"
    }
   ],
   "source": [
    "type(c1)"
   ]
  },
  {
   "cell_type": "code",
   "execution_count": 25,
   "metadata": {},
   "outputs": [],
   "source": [
    "c2 = CDA学员()"
   ]
  },
  {
   "cell_type": "code",
   "execution_count": 15,
   "metadata": {},
   "outputs": [
    {
     "data": {
      "text/plain": [
       "__main__.CDA学员"
      ]
     },
     "execution_count": 15,
     "metadata": {},
     "output_type": "execute_result"
    }
   ],
   "source": [
    "type(c2)"
   ]
  },
  {
   "cell_type": "code",
   "execution_count": null,
   "metadata": {},
   "outputs": [],
   "source": []
  },
  {
   "cell_type": "code",
   "execution_count": null,
   "metadata": {},
   "outputs": [],
   "source": []
  },
  {
   "cell_type": "code",
   "execution_count": 3,
   "metadata": {},
   "outputs": [],
   "source": [
    "c1 = CDA学员()"
   ]
  },
  {
   "cell_type": "markdown",
   "metadata": {},
   "source": [
    "## 属性的引用"
   ]
  },
  {
   "cell_type": "code",
   "execution_count": 26,
   "metadata": {},
   "outputs": [
    {
     "data": {
      "text/plain": [
       "2"
      ]
     },
     "execution_count": 26,
     "metadata": {},
     "output_type": "execute_result"
    }
   ],
   "source": [
    "c1.eyes_num"
   ]
  },
  {
   "cell_type": "code",
   "execution_count": 27,
   "metadata": {},
   "outputs": [
    {
     "data": {
      "text/plain": [
       "'black'"
      ]
     },
     "execution_count": 27,
     "metadata": {},
     "output_type": "execute_result"
    }
   ],
   "source": [
    "c1.hair_color"
   ]
  },
  {
   "cell_type": "code",
   "execution_count": 28,
   "metadata": {},
   "outputs": [
    {
     "data": {
      "text/plain": [
       "2"
      ]
     },
     "execution_count": 28,
     "metadata": {},
     "output_type": "execute_result"
    }
   ],
   "source": [
    "c2.eyes_num"
   ]
  },
  {
   "cell_type": "code",
   "execution_count": 29,
   "metadata": {},
   "outputs": [
    {
     "data": {
      "text/plain": [
       "'black'"
      ]
     },
     "execution_count": 29,
     "metadata": {},
     "output_type": "execute_result"
    }
   ],
   "source": [
    "c2.hair_color"
   ]
  },
  {
   "cell_type": "code",
   "execution_count": null,
   "metadata": {},
   "outputs": [],
   "source": []
  },
  {
   "cell_type": "code",
   "execution_count": null,
   "metadata": {},
   "outputs": [],
   "source": []
  },
  {
   "cell_type": "code",
   "execution_count": null,
   "metadata": {},
   "outputs": [],
   "source": []
  },
  {
   "cell_type": "code",
   "execution_count": 4,
   "metadata": {},
   "outputs": [
    {
     "data": {
      "text/plain": [
       "'北京'"
      ]
     },
     "execution_count": 4,
     "metadata": {},
     "output_type": "execute_result"
    }
   ],
   "source": [
    "c1.place"
   ]
  },
  {
   "cell_type": "code",
   "execution_count": 5,
   "metadata": {},
   "outputs": [
    {
     "data": {
      "text/plain": [
       "'小熊'"
      ]
     },
     "execution_count": 5,
     "metadata": {},
     "output_type": "execute_result"
    }
   ],
   "source": [
    "c1.name"
   ]
  },
  {
   "cell_type": "code",
   "execution_count": 6,
   "metadata": {},
   "outputs": [
    {
     "data": {
      "text/plain": [
       "'北京'"
      ]
     },
     "execution_count": 6,
     "metadata": {},
     "output_type": "execute_result"
    }
   ],
   "source": [
    "c2 = CDA学员()\n",
    "c2.place"
   ]
  },
  {
   "cell_type": "code",
   "execution_count": 7,
   "metadata": {},
   "outputs": [
    {
     "data": {
      "text/plain": [
       "'小熊'"
      ]
     },
     "execution_count": 7,
     "metadata": {},
     "output_type": "execute_result"
    }
   ],
   "source": [
    "c2.name"
   ]
  },
  {
   "cell_type": "markdown",
   "metadata": {},
   "source": [
    "## 类属性的操作\n",
    "\n",
    "属性可以重新赋值"
   ]
  },
  {
   "cell_type": "code",
   "execution_count": 30,
   "metadata": {},
   "outputs": [],
   "source": [
    "# 改变类的属性值 , 当改变类的属性值,所有对象都会同步改变\n",
    "CDA学员.eyes_num = 3"
   ]
  },
  {
   "cell_type": "code",
   "execution_count": 31,
   "metadata": {},
   "outputs": [
    {
     "data": {
      "text/plain": [
       "3"
      ]
     },
     "execution_count": 31,
     "metadata": {},
     "output_type": "execute_result"
    }
   ],
   "source": [
    "c1.eyes_num"
   ]
  },
  {
   "cell_type": "code",
   "execution_count": 32,
   "metadata": {},
   "outputs": [
    {
     "data": {
      "text/plain": [
       "3"
      ]
     },
     "execution_count": 32,
     "metadata": {},
     "output_type": "execute_result"
    }
   ],
   "source": [
    "c2.eyes_num"
   ]
  },
  {
   "cell_type": "code",
   "execution_count": 33,
   "metadata": {},
   "outputs": [],
   "source": [
    "# 添加一个新的属性, 所有对象都会获得这个新的属性\n",
    "CDA学员.name = '张三'"
   ]
  },
  {
   "cell_type": "code",
   "execution_count": 34,
   "metadata": {},
   "outputs": [
    {
     "data": {
      "text/plain": [
       "'张三'"
      ]
     },
     "execution_count": 34,
     "metadata": {},
     "output_type": "execute_result"
    }
   ],
   "source": [
    "c1.name"
   ]
  },
  {
   "cell_type": "code",
   "execution_count": 36,
   "metadata": {},
   "outputs": [
    {
     "data": {
      "text/plain": [
       "'张三'"
      ]
     },
     "execution_count": 36,
     "metadata": {},
     "output_type": "execute_result"
    }
   ],
   "source": [
    "c2.name"
   ]
  },
  {
   "cell_type": "code",
   "execution_count": null,
   "metadata": {},
   "outputs": [],
   "source": []
  },
  {
   "cell_type": "code",
   "execution_count": null,
   "metadata": {},
   "outputs": [],
   "source": []
  },
  {
   "cell_type": "code",
   "execution_count": null,
   "metadata": {},
   "outputs": [],
   "source": []
  },
  {
   "cell_type": "code",
   "execution_count": 8,
   "metadata": {},
   "outputs": [],
   "source": [
    "# 我们给某个对象的属性重新赋值, 则改变这个对象的该属性值\n",
    "c1.place = '深圳'"
   ]
  },
  {
   "cell_type": "code",
   "execution_count": 9,
   "metadata": {},
   "outputs": [
    {
     "data": {
      "text/plain": [
       "'深圳'"
      ]
     },
     "execution_count": 9,
     "metadata": {},
     "output_type": "execute_result"
    }
   ],
   "source": [
    "c1.place"
   ]
  },
  {
   "cell_type": "code",
   "execution_count": 10,
   "metadata": {},
   "outputs": [
    {
     "data": {
      "text/plain": [
       "'北京'"
      ]
     },
     "execution_count": 10,
     "metadata": {},
     "output_type": "execute_result"
    }
   ],
   "source": [
    "# 其他对象该属性不会发生变化\n",
    "c2.place"
   ]
  },
  {
   "cell_type": "markdown",
   "metadata": {},
   "source": [
    "也可以添加新的属性"
   ]
  },
  {
   "cell_type": "code",
   "execution_count": 37,
   "metadata": {},
   "outputs": [],
   "source": [
    "# 通过类名.属性名 可以给类添加新的属性\n",
    "CDA学员.skill= \"python\""
   ]
  },
  {
   "cell_type": "code",
   "execution_count": 38,
   "metadata": {},
   "outputs": [
    {
     "data": {
      "text/plain": [
       "'python'"
      ]
     },
     "execution_count": 38,
     "metadata": {},
     "output_type": "execute_result"
    }
   ],
   "source": [
    "CDA学员.skill"
   ]
  },
  {
   "cell_type": "code",
   "execution_count": 39,
   "metadata": {},
   "outputs": [
    {
     "data": {
      "text/plain": [
       "'python'"
      ]
     },
     "execution_count": 39,
     "metadata": {},
     "output_type": "execute_result"
    }
   ],
   "source": [
    "# 每一个由该类别实例化的对象也会具有该属性\n",
    "c1.skill"
   ]
  },
  {
   "cell_type": "code",
   "execution_count": 40,
   "metadata": {},
   "outputs": [
    {
     "data": {
      "text/plain": [
       "'python'"
      ]
     },
     "execution_count": 40,
     "metadata": {},
     "output_type": "execute_result"
    }
   ],
   "source": [
    "c2.skill"
   ]
  },
  {
   "cell_type": "code",
   "execution_count": null,
   "metadata": {},
   "outputs": [],
   "source": []
  },
  {
   "cell_type": "markdown",
   "metadata": {},
   "source": [
    "类属性一般用来储存所有通过类实例化的对象共有的属性.\n",
    "\n",
    "这里两个学员都在北京, 是类共有的属性, 用类属性来保存是合理的.\n",
    "\n",
    "但两个学员姓名都是小熊, 这明显是不合适的. \n",
    "\n",
    "那么我们如何更改让每个实例(对象)都有不同的变量值呢?"
   ]
  },
  {
   "cell_type": "markdown",
   "metadata": {},
   "source": [
    "## 类的方法\n",
    "\n",
    "在这之前, 我们首先学习一下类的方法"
   ]
  },
  {
   "cell_type": "code",
   "execution_count": 42,
   "metadata": {},
   "outputs": [],
   "source": [
    "# 定义一个CDA学员的类\n",
    "class CDA学员:\n",
    "    \"\"\"类功能: 用于记录所有CDA学员\"\"\"\n",
    "    # 类属性: 将来用这个类实例化出的所有对象,都有的属性\n",
    "    eyes_num = 2 # 所有用这个类实例化的对象一定都有2只眼睛\n",
    "    hair_color  = 'black'\n",
    "    # 给这个类添加功能, 学名: 叫做方法  method,(类里面定义的函数)\n",
    "    def listen_class(self): # 在函数里面定义的方法,都有一个默认的参数 self\n",
    "        # self 指代的是我们将来要用这个类实例化的想象\n",
    "        return '这个人在听课'"
   ]
  },
  {
   "cell_type": "code",
   "execution_count": 43,
   "metadata": {},
   "outputs": [],
   "source": [
    "c1 = CDA学员()\n",
    "c2 = CDA学员()"
   ]
  },
  {
   "cell_type": "code",
   "execution_count": 45,
   "metadata": {},
   "outputs": [
    {
     "data": {
      "text/plain": [
       "'black'"
      ]
     },
     "execution_count": 45,
     "metadata": {},
     "output_type": "execute_result"
    }
   ],
   "source": [
    "c1.hair_color"
   ]
  },
  {
   "cell_type": "code",
   "execution_count": 46,
   "metadata": {},
   "outputs": [
    {
     "data": {
      "text/plain": [
       "'这个人在听课'"
      ]
     },
     "execution_count": 46,
     "metadata": {},
     "output_type": "execute_result"
    }
   ],
   "source": [
    "c1.listen_class() # 方法必须加括号"
   ]
  },
  {
   "cell_type": "code",
   "execution_count": 47,
   "metadata": {},
   "outputs": [
    {
     "data": {
      "text/plain": [
       "'这个人在听课'"
      ]
     },
     "execution_count": 47,
     "metadata": {},
     "output_type": "execute_result"
    }
   ],
   "source": [
    "c2.listen_class()"
   ]
  },
  {
   "cell_type": "code",
   "execution_count": null,
   "metadata": {},
   "outputs": [],
   "source": []
  },
  {
   "cell_type": "code",
   "execution_count": null,
   "metadata": {},
   "outputs": [],
   "source": []
  },
  {
   "cell_type": "code",
   "execution_count": null,
   "metadata": {},
   "outputs": [],
   "source": []
  },
  {
   "cell_type": "code",
   "execution_count": null,
   "metadata": {},
   "outputs": [],
   "source": []
  },
  {
   "cell_type": "code",
   "execution_count": 18,
   "metadata": {},
   "outputs": [],
   "source": [
    "class CDA学员:\n",
    "    '''说明:这是一个用于记录CDA学员的类'''\n",
    "    place = \"北京\" # 所有的实例都有这个共同的属性\n",
    "    def listen_class(self):\n",
    "        return '这个人正在听课'"
   ]
  },
  {
   "cell_type": "code",
   "execution_count": 19,
   "metadata": {},
   "outputs": [],
   "source": [
    "c1 = CDA学员()\n",
    "c2 = CDA学员()"
   ]
  },
  {
   "cell_type": "code",
   "execution_count": 20,
   "metadata": {},
   "outputs": [
    {
     "data": {
      "text/plain": [
       "'这个人正在听课'"
      ]
     },
     "execution_count": 20,
     "metadata": {},
     "output_type": "execute_result"
    }
   ],
   "source": [
    "c1.listen_class()"
   ]
  },
  {
   "cell_type": "code",
   "execution_count": 21,
   "metadata": {},
   "outputs": [
    {
     "data": {
      "text/plain": [
       "'这个人正在听课'"
      ]
     },
     "execution_count": 21,
     "metadata": {},
     "output_type": "execute_result"
    }
   ],
   "source": [
    "c2.listen_class()"
   ]
  },
  {
   "cell_type": "markdown",
   "metadata": {},
   "source": [
    "类的方法实际上就是封装在类中的函数, 类中的方法一定会具有一个参数, 这个参数就是该对象本身,\n",
    "\n",
    "我们这里以self来代表目前调用这个方法的对象.\n",
    "\n",
    "也就是说类的方法和函数的区别在于, 方法已经有了一个要操作的对象了, 而函数需要把操作的目标传入进去."
   ]
  },
  {
   "cell_type": "markdown",
   "metadata": {},
   "source": [
    "## 类的方法的参数\n",
    "\n",
    "和函数相同, 类也可以具有参数, 参数在调用方法的时候传入即可."
   ]
  },
  {
   "cell_type": "code",
   "execution_count": 48,
   "metadata": {},
   "outputs": [],
   "source": [
    "# 定义一个CDA学员的类\n",
    "class CDA学员:\n",
    "    \"\"\"类功能: 用于记录所有CDA学员\"\"\"\n",
    "    # 类属性: 将来用这个类实例化出的所有对象,都有的属性\n",
    "    eyes_num = 2 # 所有用这个类实例化的对象一定都有2只眼睛\n",
    "    hair_color  = 'black'\n",
    "    # 给这个类添加功能, 学名: 叫做方法  method,(类里面定义的函数)\n",
    "    def listen_class(self): # 在函数里面定义的方法,都有一个默认的参数 self\n",
    "        # self 指代的是我们将来要用这个类实例化的想象\n",
    "        return '这个人在听课'\n",
    "    def sing_a_song(self , song_name):\n",
    "        return '这个人正在唱歌, 歌曲的名字叫做:{}'.format(song_name)\n",
    "        "
   ]
  },
  {
   "cell_type": "code",
   "execution_count": 49,
   "metadata": {},
   "outputs": [],
   "source": [
    "c1 = CDA学员()\n",
    "c2 = CDA学员()"
   ]
  },
  {
   "cell_type": "code",
   "execution_count": 50,
   "metadata": {},
   "outputs": [
    {
     "data": {
      "text/plain": [
       "'这个人在听课'"
      ]
     },
     "execution_count": 50,
     "metadata": {},
     "output_type": "execute_result"
    }
   ],
   "source": [
    "c1.listen_class()"
   ]
  },
  {
   "cell_type": "code",
   "execution_count": 51,
   "metadata": {},
   "outputs": [
    {
     "data": {
      "text/plain": [
       "'这个人在听课'"
      ]
     },
     "execution_count": 51,
     "metadata": {},
     "output_type": "execute_result"
    }
   ],
   "source": [
    "c2.listen_class()"
   ]
  },
  {
   "cell_type": "code",
   "execution_count": 53,
   "metadata": {},
   "outputs": [
    {
     "data": {
      "text/plain": [
       "'这个人正在唱歌, 歌曲的名字叫做:春天里'"
      ]
     },
     "execution_count": 53,
     "metadata": {},
     "output_type": "execute_result"
    }
   ],
   "source": [
    "c1.sing_a_song('春天里')"
   ]
  },
  {
   "cell_type": "code",
   "execution_count": 54,
   "metadata": {},
   "outputs": [
    {
     "data": {
      "text/plain": [
       "'这个人正在唱歌, 歌曲的名字叫做:小燕子'"
      ]
     },
     "execution_count": 54,
     "metadata": {},
     "output_type": "execute_result"
    }
   ],
   "source": [
    "c2.sing_a_song('小燕子')"
   ]
  },
  {
   "cell_type": "code",
   "execution_count": null,
   "metadata": {},
   "outputs": [],
   "source": []
  },
  {
   "cell_type": "code",
   "execution_count": null,
   "metadata": {},
   "outputs": [],
   "source": []
  },
  {
   "cell_type": "code",
   "execution_count": 22,
   "metadata": {},
   "outputs": [],
   "source": [
    "class CDA学员:\n",
    "    '''说明:这是一个用于记录CDA学员的类'''\n",
    "    place = \"北京\" # 所有的实例都有这个共同的属性\n",
    "    def listen_class(self):\n",
    "        return '这个人正在听课'\n",
    "    def song(self, song_name):\n",
    "        return \"这个人正在唱一首歌, 歌的名字叫做<{}>\".format(song_name)"
   ]
  },
  {
   "cell_type": "code",
   "execution_count": 23,
   "metadata": {},
   "outputs": [],
   "source": [
    "c1 = CDA学员()\n",
    "c2 = CDA学员()"
   ]
  },
  {
   "cell_type": "code",
   "execution_count": 24,
   "metadata": {},
   "outputs": [
    {
     "data": {
      "text/plain": [
       "'这个人正在唱一首歌, 歌的名字叫做<春天里>'"
      ]
     },
     "execution_count": 24,
     "metadata": {},
     "output_type": "execute_result"
    }
   ],
   "source": [
    "c1.song('春天里')"
   ]
  },
  {
   "cell_type": "code",
   "execution_count": 25,
   "metadata": {},
   "outputs": [
    {
     "data": {
      "text/plain": [
       "'这个人正在唱一首歌, 歌的名字叫做<套马的汉子>'"
      ]
     },
     "execution_count": 25,
     "metadata": {},
     "output_type": "execute_result"
    }
   ],
   "source": [
    "c2.song('套马的汉子')"
   ]
  },
  {
   "cell_type": "code",
   "execution_count": null,
   "metadata": {},
   "outputs": [],
   "source": []
  },
  {
   "cell_type": "markdown",
   "metadata": {},
   "source": [
    "## 练习: 编写一个方法\n",
    "\n",
    "调用该方法时, 返回这个学员所处的位置是xxxx"
   ]
  },
  {
   "cell_type": "code",
   "execution_count": 55,
   "metadata": {},
   "outputs": [],
   "source": [
    "# 定义一个CDA学员的类\n",
    "class CDA学员:\n",
    "    \"\"\"类功能: 用于记录所有CDA学员\"\"\"\n",
    "    # 类属性: 将来用这个类实例化出的所有对象,都有的属性\n",
    "    eyes_num = 2 # 所有用这个类实例化的对象一定都有2只眼睛\n",
    "    hair_color  = 'black'\n",
    "    # 给这个类添加功能, 学名: 叫做方法  method,(类里面定义的函数)\n",
    "    def listen_class(self): # 在函数里面定义的方法,都有一个默认的参数 self\n",
    "        # self 指代的是我们将来要用这个类实例化的想象\n",
    "        return '这个人在听课'\n",
    "    def sing_a_song(self , song_name):\n",
    "        return '这个人正在唱歌, 歌曲的名字叫做:{}'.format(song_name)\n",
    "    def return_location(self, location ):\n",
    "        return '这个学员目前处于:'+location"
   ]
  },
  {
   "cell_type": "code",
   "execution_count": 56,
   "metadata": {},
   "outputs": [],
   "source": [
    "c1 = CDA学员()\n",
    "c2 = CDA学员()"
   ]
  },
  {
   "cell_type": "code",
   "execution_count": 57,
   "metadata": {},
   "outputs": [
    {
     "data": {
      "text/plain": [
       "'这个学员目前处于:深圳'"
      ]
     },
     "execution_count": 57,
     "metadata": {},
     "output_type": "execute_result"
    }
   ],
   "source": [
    "c1.return_location('深圳')"
   ]
  },
  {
   "cell_type": "code",
   "execution_count": null,
   "metadata": {},
   "outputs": [],
   "source": []
  },
  {
   "cell_type": "code",
   "execution_count": null,
   "metadata": {},
   "outputs": [],
   "source": []
  },
  {
   "cell_type": "markdown",
   "metadata": {},
   "source": [
    "## 初始化方法\n",
    "\n",
    "在类被实例化的时候, 有一个方法会被自动运行, 这个方法就是 `__init__(self)`\n",
    "\n",
    "这个方法主要用于, 在一个对象被实例化的时候, 为它赋予一个属于自己的属性.\n",
    "\n",
    "例如, CDA学员姓名, 这个姓名我们不能用类属性进行保存, 因为每个学员的姓名是不同的.\n",
    "\n",
    "这种针对于每个对象不同的变量我们叫做实例变量"
   ]
  },
  {
   "cell_type": "code",
   "execution_count": 67,
   "metadata": {},
   "outputs": [],
   "source": [
    "L= [1,2,3]"
   ]
  },
  {
   "cell_type": "code",
   "execution_count": 68,
   "metadata": {},
   "outputs": [],
   "source": [
    "L.append(5)"
   ]
  },
  {
   "cell_type": "code",
   "execution_count": 69,
   "metadata": {},
   "outputs": [],
   "source": [
    "d = {'a':111,'b':22}"
   ]
  },
  {
   "cell_type": "code",
   "execution_count": 70,
   "metadata": {},
   "outputs": [
    {
     "data": {
      "text/plain": [
       "111"
      ]
     },
     "execution_count": 70,
     "metadata": {},
     "output_type": "execute_result"
    }
   ],
   "source": [
    "d['a']"
   ]
  },
  {
   "cell_type": "code",
   "execution_count": null,
   "metadata": {},
   "outputs": [],
   "source": []
  },
  {
   "cell_type": "code",
   "execution_count": null,
   "metadata": {},
   "outputs": [],
   "source": []
  },
  {
   "cell_type": "code",
   "execution_count": 86,
   "metadata": {},
   "outputs": [],
   "source": [
    "# 初始化方法: 当一个对象被创建出来的时候,就会自动运行一次的方法\n",
    "# 定义一个CDA学员的类\n",
    "class CDA学员:\n",
    "    \"\"\"类功能: 用于记录所有CDA学员\"\"\"\n",
    "    # 类属性: 将来用这个类实例化出的所有对象,都有的属性\n",
    "    eyes_num = 2 # 所有用这个类实例化的对象一定都有2只眼睛\n",
    "    hair_color  = 'black'\n",
    "    # 给这个类添加功能, 学名: 叫做方法  method,(类里面定义的函数)\n",
    "    def __init__(self, name, age): # 参数,传入这个对象的对象属性\n",
    "        # 把传进来的参数, 赋值给这个对象\n",
    "        self.name = name\n",
    "        self.age = age  \n",
    "    \n",
    "    def listen_class(self): # 在函数里面定义的方法,都有一个默认的参数 self\n",
    "        # self 指代的是我们将来要用这个类实例化的想象\n",
    "        return '这个人在听课'\n",
    "    def sing_a_song(self , song_name):\n",
    "        return '这个人正在唱歌, 歌曲的名字叫做:{}'.format(song_name)\n"
   ]
  },
  {
   "cell_type": "code",
   "execution_count": null,
   "metadata": {},
   "outputs": [],
   "source": []
  },
  {
   "cell_type": "code",
   "execution_count": 89,
   "metadata": {},
   "outputs": [],
   "source": [
    "# 当实例化的时候, __init__ 这个特殊方法就会自动被运行\n",
    "c1 = CDA学员('令狐冲', 28)"
   ]
  },
  {
   "cell_type": "code",
   "execution_count": 90,
   "metadata": {},
   "outputs": [],
   "source": [
    "c2 = CDA学员('李寻欢', 42)"
   ]
  },
  {
   "cell_type": "code",
   "execution_count": 91,
   "metadata": {},
   "outputs": [
    {
     "data": {
      "text/plain": [
       "2"
      ]
     },
     "execution_count": 91,
     "metadata": {},
     "output_type": "execute_result"
    }
   ],
   "source": [
    "c1.eyes_num"
   ]
  },
  {
   "cell_type": "code",
   "execution_count": 92,
   "metadata": {},
   "outputs": [
    {
     "data": {
      "text/plain": [
       "'令狐冲'"
      ]
     },
     "execution_count": 92,
     "metadata": {},
     "output_type": "execute_result"
    }
   ],
   "source": [
    "c1.name"
   ]
  },
  {
   "cell_type": "code",
   "execution_count": 93,
   "metadata": {},
   "outputs": [
    {
     "data": {
      "text/plain": [
       "'李寻欢'"
      ]
     },
     "execution_count": 93,
     "metadata": {},
     "output_type": "execute_result"
    }
   ],
   "source": [
    "c2.name"
   ]
  },
  {
   "cell_type": "code",
   "execution_count": 94,
   "metadata": {},
   "outputs": [
    {
     "data": {
      "text/plain": [
       "28"
      ]
     },
     "execution_count": 94,
     "metadata": {},
     "output_type": "execute_result"
    }
   ],
   "source": [
    "c1.age"
   ]
  },
  {
   "cell_type": "code",
   "execution_count": 95,
   "metadata": {},
   "outputs": [
    {
     "data": {
      "text/plain": [
       "42"
      ]
     },
     "execution_count": 95,
     "metadata": {},
     "output_type": "execute_result"
    }
   ],
   "source": [
    "c2.age"
   ]
  },
  {
   "cell_type": "code",
   "execution_count": 81,
   "metadata": {},
   "outputs": [
    {
     "data": {
      "text/plain": [
       "'这个人在听课'"
      ]
     },
     "execution_count": 81,
     "metadata": {},
     "output_type": "execute_result"
    }
   ],
   "source": [
    "c1.listen_class()"
   ]
  },
  {
   "cell_type": "code",
   "execution_count": 82,
   "metadata": {},
   "outputs": [
    {
     "data": {
      "text/plain": [
       "'这个人正在唱歌, 歌曲的名字叫做:套马的汉子'"
      ]
     },
     "execution_count": 82,
     "metadata": {},
     "output_type": "execute_result"
    }
   ],
   "source": [
    "c2.sing_a_song('套马的汉子')"
   ]
  },
  {
   "cell_type": "code",
   "execution_count": null,
   "metadata": {},
   "outputs": [],
   "source": []
  },
  {
   "cell_type": "code",
   "execution_count": null,
   "metadata": {},
   "outputs": [],
   "source": []
  },
  {
   "cell_type": "code",
   "execution_count": null,
   "metadata": {},
   "outputs": [],
   "source": []
  },
  {
   "cell_type": "code",
   "execution_count": null,
   "metadata": {},
   "outputs": [],
   "source": []
  },
  {
   "cell_type": "code",
   "execution_count": null,
   "metadata": {},
   "outputs": [],
   "source": []
  },
  {
   "cell_type": "code",
   "execution_count": 26,
   "metadata": {},
   "outputs": [],
   "source": [
    "class CDA学员:\n",
    "    '''说明:这是一个用于记录CDA学员的类'''\n",
    "    所在地点 = \"深圳\" # 所有的实例都有这个共同的属性\n",
    "    def __init__(self, name):# 这个name什么时候传呢? 实例化对象的时候传\n",
    "        self.姓名 = name\n",
    "    def listen_class(self):\n",
    "        return '这个人正在听课'\n",
    "    def song(self, song_name):\n",
    "        return \"这个人正在唱一首歌, 歌的名字叫做<{}>\".format(song_name)"
   ]
  },
  {
   "cell_type": "code",
   "execution_count": 27,
   "metadata": {},
   "outputs": [
    {
     "ename": "TypeError",
     "evalue": "__init__() missing 1 required positional argument: 'name'",
     "output_type": "error",
     "traceback": [
      "\u001b[0;31m---------------------------------------------------------------------------\u001b[0m",
      "\u001b[0;31mTypeError\u001b[0m                                 Traceback (most recent call last)",
      "\u001b[0;32m<ipython-input-27-a84fb988adb4>\u001b[0m in \u001b[0;36m<module>\u001b[0;34m\u001b[0m\n\u001b[1;32m      1\u001b[0m \u001b[0;31m# 对于有初始化方法, 且在初始化方法中有参数的类, 对其进行实例化的时候, 必须传入参数才可以\u001b[0m\u001b[0;34m\u001b[0m\u001b[0;34m\u001b[0m\u001b[0;34m\u001b[0m\u001b[0m\n\u001b[0;32m----> 2\u001b[0;31m \u001b[0mc1\u001b[0m \u001b[0;34m=\u001b[0m \u001b[0mCDA学员\u001b[0m\u001b[0;34m(\u001b[0m\u001b[0;34m)\u001b[0m\u001b[0;34m\u001b[0m\u001b[0;34m\u001b[0m\u001b[0m\n\u001b[0m",
      "\u001b[0;31mTypeError\u001b[0m: __init__() missing 1 required positional argument: 'name'"
     ]
    }
   ],
   "source": [
    "# 对于有初始化方法, 且在初始化方法中有参数的类, 对其进行实例化的时候, 必须传入参数才可以\n",
    "c1 = CDA学员() "
   ]
  },
  {
   "cell_type": "code",
   "execution_count": 32,
   "metadata": {},
   "outputs": [],
   "source": [
    "c1 = CDA学员('令狐冲')\n",
    "c2 = CDA学员('李寻欢')"
   ]
  },
  {
   "cell_type": "code",
   "execution_count": 33,
   "metadata": {},
   "outputs": [
    {
     "data": {
      "text/plain": [
       "'深圳'"
      ]
     },
     "execution_count": 33,
     "metadata": {},
     "output_type": "execute_result"
    }
   ],
   "source": [
    "c1.所在地点"
   ]
  },
  {
   "cell_type": "code",
   "execution_count": 34,
   "metadata": {},
   "outputs": [
    {
     "data": {
      "text/plain": [
       "'令狐冲'"
      ]
     },
     "execution_count": 34,
     "metadata": {},
     "output_type": "execute_result"
    }
   ],
   "source": [
    "c1.姓名"
   ]
  },
  {
   "cell_type": "code",
   "execution_count": 35,
   "metadata": {},
   "outputs": [
    {
     "data": {
      "text/plain": [
       "'李寻欢'"
      ]
     },
     "execution_count": 35,
     "metadata": {},
     "output_type": "execute_result"
    }
   ],
   "source": [
    "c2.姓名"
   ]
  },
  {
   "cell_type": "markdown",
   "metadata": {},
   "source": [
    "### 可以在方法中直接使用类属性和实例属性"
   ]
  },
  {
   "cell_type": "code",
   "execution_count": 122,
   "metadata": {},
   "outputs": [],
   "source": [
    "eyes_num = 10"
   ]
  },
  {
   "cell_type": "code",
   "execution_count": 128,
   "metadata": {},
   "outputs": [],
   "source": [
    "# 初始化方法: 当一个对象被创建出来的时候,就会自动运行一次的方法\n",
    "# 定义一个CDA学员的类\n",
    "class CDA学员:\n",
    "    \"\"\"类功能: 用于记录所有CDA学员\"\"\"\n",
    "    # 类属性: 将来用这个类实例化出的所有对象,都有的属性\n",
    "    eyes_num = 2 # 所有用这个类实例化的对象一定都有2只眼睛\n",
    "    hair_color  = 'black'\n",
    "    # 给这个类添加功能, 学名: 叫做方法  method,(类里面定义的函数)\n",
    "    def __init__(self, name, age): # 参数,传入这个对象的对象属性\n",
    "        # 把传进来的参数, 赋值给这个对象\n",
    "        self.name = name\n",
    "        self.age = age  \n",
    "    \n",
    "    def listen_class(self): # 在函数里面定义的方法,都有一个默认的参数 self\n",
    "        # self 指代的是我们将来要用这个类实例化的想象\n",
    "        return '这个人在听课'\n",
    "    def sing_a_song(self , song_name):\n",
    "        return '这个人正在唱歌, 歌曲的名字叫做:{}'.format(song_name)\n",
    "\n",
    "    def introduce(self):\n",
    "        return \"大家好,我叫做{},我今年{}岁,我有{}只眼睛,我的头发是{}色的.\".format(self.name,\n",
    "                                            self.age,self.eyes_num,self.hair_color)\n",
    "    # 如果调用属性什么前缀都不加,默认使用的是全局变量"
   ]
  },
  {
   "cell_type": "code",
   "execution_count": 129,
   "metadata": {},
   "outputs": [],
   "source": [
    "# 当实例化的时候, __init__ 这个特殊方法就会自动被运行\n",
    "c1 = CDA学员('令狐冲', 28)"
   ]
  },
  {
   "cell_type": "code",
   "execution_count": 130,
   "metadata": {},
   "outputs": [],
   "source": [
    "c2 = CDA学员('李寻欢', 42)"
   ]
  },
  {
   "cell_type": "code",
   "execution_count": 131,
   "metadata": {},
   "outputs": [
    {
     "data": {
      "text/plain": [
       "'大家好,我叫做令狐冲,我今年28岁,我有2只眼睛,我的头发是black色的.'"
      ]
     },
     "execution_count": 131,
     "metadata": {},
     "output_type": "execute_result"
    }
   ],
   "source": [
    "c1.introduce()"
   ]
  },
  {
   "cell_type": "code",
   "execution_count": 132,
   "metadata": {},
   "outputs": [
    {
     "data": {
      "text/plain": [
       "'大家好,我叫做李寻欢,我今年42岁,我有2只眼睛,我的头发是black色的.'"
      ]
     },
     "execution_count": 132,
     "metadata": {},
     "output_type": "execute_result"
    }
   ],
   "source": [
    "c2.introduce()"
   ]
  },
  {
   "cell_type": "code",
   "execution_count": null,
   "metadata": {},
   "outputs": [],
   "source": []
  },
  {
   "cell_type": "code",
   "execution_count": null,
   "metadata": {},
   "outputs": [],
   "source": []
  },
  {
   "cell_type": "code",
   "execution_count": 36,
   "metadata": {},
   "outputs": [],
   "source": [
    "class CDA学员:\n",
    "    '''说明:这是一个用于记录CDA学员的类'''\n",
    "    place = \"深圳\" # 所有的实例都有这个共同的属性\n",
    "    def __init__(self, name, age):# 这个name什么时候传呢? 实例化对象的时候传\n",
    "        self.name = name\n",
    "        self.age = age\n",
    "    def listen_class(self):\n",
    "        return '这个人正在听课'\n",
    "    def song(self, song_name):\n",
    "        return \"这个人正在唱一首歌, 歌的名字叫做<{}>\".format(song_name)\n",
    "    def introduce(self):\n",
    "        return \"大家好, 我的名字是{}, 我今年{}岁, 我来自{}\".format(self.name, self.age, self.place)"
   ]
  },
  {
   "cell_type": "code",
   "execution_count": 37,
   "metadata": {},
   "outputs": [],
   "source": [
    "c1 = CDA学员('张文海', 22)\n",
    "c2 = CDA学员('黄磊', 33)"
   ]
  },
  {
   "cell_type": "code",
   "execution_count": 38,
   "metadata": {},
   "outputs": [
    {
     "data": {
      "text/plain": [
       "22"
      ]
     },
     "execution_count": 38,
     "metadata": {},
     "output_type": "execute_result"
    }
   ],
   "source": [
    "c1.age"
   ]
  },
  {
   "cell_type": "code",
   "execution_count": 39,
   "metadata": {},
   "outputs": [
    {
     "data": {
      "text/plain": [
       "33"
      ]
     },
     "execution_count": 39,
     "metadata": {},
     "output_type": "execute_result"
    }
   ],
   "source": [
    "c2.age"
   ]
  },
  {
   "cell_type": "code",
   "execution_count": 40,
   "metadata": {},
   "outputs": [
    {
     "data": {
      "text/plain": [
       "'大家好, 我的名字是张文海, 我今年22岁, 我来自深圳'"
      ]
     },
     "execution_count": 40,
     "metadata": {},
     "output_type": "execute_result"
    }
   ],
   "source": [
    "c1.introduce()"
   ]
  },
  {
   "cell_type": "code",
   "execution_count": 41,
   "metadata": {},
   "outputs": [
    {
     "data": {
      "text/plain": [
       "'大家好, 我的名字是黄磊, 我今年33岁, 我来自深圳'"
      ]
     },
     "execution_count": 41,
     "metadata": {},
     "output_type": "execute_result"
    }
   ],
   "source": [
    "c2.introduce()"
   ]
  },
  {
   "cell_type": "markdown",
   "metadata": {},
   "source": [
    "## 类的方法参数写法"
   ]
  },
  {
   "cell_type": "code",
   "execution_count": 143,
   "metadata": {},
   "outputs": [],
   "source": [
    "# 初始化方法: 当一个对象被创建出来的时候,就会自动运行一次的方法\n",
    "# 定义一个CDA学员的类\n",
    "class CDA学员:\n",
    "    \"\"\"类功能: 用于记录所有CDA学员\"\"\"\n",
    "    # 类属性: 将来用这个类实例化出的所有对象,都有的属性\n",
    "    eyes_num = 2 # 所有用这个类实例化的对象一定都有2只眼睛\n",
    "    hair_color  = 'black'\n",
    "    # 给这个类添加功能, 学名: 叫做方法  method,(类里面定义的函数)\n",
    "    def __init__(self, name, age): # 参数,传入这个对象的对象属性\n",
    "        # 把传进来的参数, 赋值给这个对象\n",
    "        self.name = name\n",
    "        self.age = age  \n",
    "    \n",
    "    def listen_class(self , status): # 在函数里面定义的方法,都有一个默认的参数 self\n",
    "        # self 指代的是我们将来要用这个类实例化的想象\n",
    "        # 状态编码: 0 : 这个人没有听课  1: 这个人假装在听课  2: 这个人在认真听课\n",
    "        if status == 0:\n",
    "            return \"{}没有在听课中\".format(self.name)\n",
    "        elif status == 1:\n",
    "            return '{}在假装听课'.format(self.name)\n",
    "        else:\n",
    "            return '{}在认真听课'.format(self.name)\n",
    "    \n",
    "    \n",
    "    def sing_a_song(self , song_name):\n",
    "        return '这个人正在唱歌, 歌曲的名字叫做:{}'.format(song_name)\n",
    "\n",
    "    def introduce(self):\n",
    "        return \"大家好,我叫做{},我今年{}岁,我有{}只眼睛,我的头发是{}色的.\".format(self.name,\n",
    "                                            self.age,self.eyes_num,self.hair_color)\n",
    "    # 如果调用属性什么前缀都不加,默认使用的是全局变量"
   ]
  },
  {
   "cell_type": "code",
   "execution_count": 144,
   "metadata": {},
   "outputs": [],
   "source": [
    "# 当实例化的时候, __init__ 这个特殊方法就会自动被运行\n",
    "c1 = CDA学员('令狐冲', 28)"
   ]
  },
  {
   "cell_type": "code",
   "execution_count": 145,
   "metadata": {},
   "outputs": [],
   "source": [
    "c2 = CDA学员('李寻欢', 42)"
   ]
  },
  {
   "cell_type": "code",
   "execution_count": 146,
   "metadata": {},
   "outputs": [
    {
     "data": {
      "text/plain": [
       "'令狐冲没有在听课中'"
      ]
     },
     "execution_count": 146,
     "metadata": {},
     "output_type": "execute_result"
    }
   ],
   "source": [
    "c1.listen_class(0)"
   ]
  },
  {
   "cell_type": "code",
   "execution_count": 147,
   "metadata": {},
   "outputs": [
    {
     "data": {
      "text/plain": [
       "'李寻欢在假装听课'"
      ]
     },
     "execution_count": 147,
     "metadata": {},
     "output_type": "execute_result"
    }
   ],
   "source": [
    "c2.listen_class(1)"
   ]
  },
  {
   "cell_type": "code",
   "execution_count": null,
   "metadata": {},
   "outputs": [],
   "source": []
  },
  {
   "cell_type": "code",
   "execution_count": null,
   "metadata": {},
   "outputs": [],
   "source": []
  },
  {
   "cell_type": "code",
   "execution_count": null,
   "metadata": {},
   "outputs": [],
   "source": []
  },
  {
   "cell_type": "code",
   "execution_count": null,
   "metadata": {},
   "outputs": [],
   "source": []
  },
  {
   "cell_type": "code",
   "execution_count": 42,
   "metadata": {},
   "outputs": [],
   "source": [
    "class CDA学员:\n",
    "    '''说明:这是一个用于记录CDA学员的类\n",
    "    参数说明:目前还没有参数'''\n",
    "    place = \"深圳\" # 所有的实例都有这个共同的属性\n",
    "    def __init__(self, name, age):# 这个name什么时候传呢? 实例化对象的时候传\n",
    "        self.name = name\n",
    "        self.age = age\n",
    "    def listen_class(self, status):\n",
    "        '''参数为学员的状态, status 为0 代表, 没有听课, 1代表正在听课, 2代表假装听课'''\n",
    "        if status == 0:\n",
    "            return '{}没有在听课'.format(self.name)\n",
    "        elif status == 1:\n",
    "            return '{}正在认真听课'.format(self.name)\n",
    "        elif status == 2:\n",
    "            return '{}假装在听课'.format(self.name)\n",
    "    def song(self, song_name):\n",
    "        return \"这个人正在唱一首歌, 歌的名字叫做<{}>\".format(song_name)\n",
    "    def introduce(self):\n",
    "        return \"大家好, 我的名字是{}, 我今年{}岁, 我来自{}\".format(self.name, self.age, self.place)\n"
   ]
  },
  {
   "cell_type": "code",
   "execution_count": 44,
   "metadata": {},
   "outputs": [],
   "source": [
    "c1 = CDA学员('令狐冲', 22)\n",
    "c2 = CDA学员('李寻欢', 33)"
   ]
  },
  {
   "cell_type": "code",
   "execution_count": 45,
   "metadata": {},
   "outputs": [
    {
     "data": {
      "text/plain": [
       "'令狐冲没有在听课'"
      ]
     },
     "execution_count": 45,
     "metadata": {},
     "output_type": "execute_result"
    }
   ],
   "source": [
    "# 查看帮助文档\n",
    "c1.listen_class(0)"
   ]
  },
  {
   "cell_type": "code",
   "execution_count": 46,
   "metadata": {},
   "outputs": [
    {
     "data": {
      "text/plain": [
       "'令狐冲正在认真听课'"
      ]
     },
     "execution_count": 46,
     "metadata": {},
     "output_type": "execute_result"
    }
   ],
   "source": [
    "c1.listen_class(1)"
   ]
  },
  {
   "cell_type": "code",
   "execution_count": 47,
   "metadata": {},
   "outputs": [
    {
     "data": {
      "text/plain": [
       "'李寻欢假装在听课'"
      ]
     },
     "execution_count": 47,
     "metadata": {},
     "output_type": "execute_result"
    }
   ],
   "source": [
    "c2.listen_class(2)"
   ]
  },
  {
   "cell_type": "code",
   "execution_count": null,
   "metadata": {},
   "outputs": [],
   "source": []
  },
  {
   "cell_type": "markdown",
   "metadata": {},
   "source": [
    "## 练习: 给CDA学员类添加一个新的方法sleep\n",
    "\n",
    "如果传入yes, 则返回xxx正在睡觉\n",
    "\n",
    "如果传入no, 则返回xxx没有睡觉\n",
    "\n",
    "如果传入half , 则返回xxx正在半梦半醒之中"
   ]
  },
  {
   "cell_type": "code",
   "execution_count": 148,
   "metadata": {},
   "outputs": [],
   "source": [
    "class CDA学员:\n",
    "    '''说明:这是一个用于记录CDA学员的类\n",
    "    参数说明:目前还没有参数'''\n",
    "    place = \"深圳\" # 所有的实例都有这个共同的属性\n",
    "    def __init__(self, name, age):# 这个name什么时候传呢? 实例化对象的时候传\n",
    "        self.name = name\n",
    "        self.age = age\n",
    "    def listen_class(self, status):\n",
    "        '''参数为学员的状态, status 为0 代表, 没有听课, 1代表正在听课, 2代表假装听课'''\n",
    "        if status == 0:\n",
    "            return '{}没有在听课'.format(self.name)\n",
    "        elif status == 1:\n",
    "            return '{}正在认真听课'.format(self.name)\n",
    "        elif status == 2:\n",
    "            return '{}假装在听课'.format(self.name)\n",
    "    def song(self, song_name):\n",
    "        return \"这个人正在唱一首歌, 歌的名字叫做<{}>\".format(song_name)\n",
    "    def introduce(self):\n",
    "        return \"大家好, 我的名字是{}, 我今年{}岁, 我来自{}\".format(self.name, self.age, self.place)\n",
    "    def sleep(self, status):\n",
    "        if status == 'yes':\n",
    "            return \"{}正在睡觉\".format(self.name)\n",
    "        elif status == 'no':\n",
    "            return \"{}很清醒\".format(self.name)\n",
    "        else:\n",
    "            return \"{}正在半梦半醒之中\".format(self.name)\n"
   ]
  },
  {
   "cell_type": "code",
   "execution_count": 149,
   "metadata": {},
   "outputs": [],
   "source": [
    "c1 = CDA学员('令狐冲', 22)\n",
    "c2 = CDA学员('李寻欢', 33)"
   ]
  },
  {
   "cell_type": "code",
   "execution_count": 150,
   "metadata": {},
   "outputs": [
    {
     "data": {
      "text/plain": [
       "'令狐冲正在半梦半醒之中'"
      ]
     },
     "execution_count": 150,
     "metadata": {},
     "output_type": "execute_result"
    }
   ],
   "source": [
    "c1.sleep('half')"
   ]
  },
  {
   "cell_type": "code",
   "execution_count": 151,
   "metadata": {},
   "outputs": [
    {
     "data": {
      "text/plain": [
       "'李寻欢很清醒'"
      ]
     },
     "execution_count": 151,
     "metadata": {},
     "output_type": "execute_result"
    }
   ],
   "source": [
    "c2.sleep('no')"
   ]
  },
  {
   "cell_type": "code",
   "execution_count": null,
   "metadata": {},
   "outputs": [],
   "source": []
  },
  {
   "cell_type": "code",
   "execution_count": null,
   "metadata": {},
   "outputs": [],
   "source": []
  },
  {
   "cell_type": "code",
   "execution_count": 148,
   "metadata": {},
   "outputs": [],
   "source": [
    "class CDA学员:\n",
    "    '''说明:这是一个用于记录CDA学员的类\n",
    "    参数说明:目前还没有参数'''\n",
    "    place = \"深圳\" # 所有的实例都有这个共同的属性\n",
    "    def __init__(self, name, age):# 这个name什么时候传呢? 实例化对象的时候传\n",
    "        self.name = name\n",
    "        self.age = age\n",
    "    def listen_class(self, status):\n",
    "        '''参数为学员的状态, status 为0 代表, 没有听课, 1代表正在听课, 2代表假装听课'''\n",
    "        if status == 0:\n",
    "            return '{}没有在听课'.format(self.name)\n",
    "        elif status == 1:\n",
    "            return '{}正在认真听课'.format(self.name)\n",
    "        elif status == 2:\n",
    "            return '{}假装在听课'.format(self.name)\n",
    "    def song(self, song_name):\n",
    "        return \"这个人正在唱一首歌, 歌的名字叫做<{}>\".format(song_name)\n",
    "    def introduce(self):\n",
    "        return \"大家好, 我的名字是{}, 我今年{}岁, 我来自{}\".format(self.name, self.age, self.place)\n",
    "    def sleep(self, status):\n",
    "        if status == 'yes':\n",
    "            return \"{}正在睡觉\".format(self.name)\n",
    "        elif status == 'no':\n",
    "            return \"{}很清醒\".format(self.name)\n",
    "        else:\n",
    "            return \"{}正在半梦半醒之中\".format(self.name)\n"
   ]
  },
  {
   "cell_type": "code",
   "execution_count": 49,
   "metadata": {},
   "outputs": [],
   "source": [
    "c1 = CDA学员('令狐冲', 22)\n",
    "c2 = CDA学员('李寻欢', 33 )"
   ]
  },
  {
   "cell_type": "code",
   "execution_count": 50,
   "metadata": {},
   "outputs": [
    {
     "data": {
      "text/plain": [
       "'令狐冲正在睡觉'"
      ]
     },
     "execution_count": 50,
     "metadata": {},
     "output_type": "execute_result"
    }
   ],
   "source": [
    "c1.sleep('yes')"
   ]
  },
  {
   "cell_type": "code",
   "execution_count": 51,
   "metadata": {},
   "outputs": [
    {
     "data": {
      "text/plain": [
       "'李寻欢正在半梦半醒之中'"
      ]
     },
     "execution_count": 51,
     "metadata": {},
     "output_type": "execute_result"
    }
   ],
   "source": [
    "c2.sleep('half')"
   ]
  },
  {
   "cell_type": "code",
   "execution_count": null,
   "metadata": {},
   "outputs": [],
   "source": []
  },
  {
   "cell_type": "markdown",
   "metadata": {},
   "source": [
    "## 也可以在类创建之后再添加"
   ]
  },
  {
   "cell_type": "code",
   "execution_count": 152,
   "metadata": {},
   "outputs": [],
   "source": [
    "class CDA学员:\n",
    "    '''说明:这是一个用于记录CDA学员的类\n",
    "    参数说明:目前还没有参数'''\n",
    "    place = \"深圳\" # 所有的实例都有这个共同的属性\n",
    "    def __init__(self, name, age):# 这个name什么时候传呢? 实例化对象的时候传\n",
    "        self.name = name\n",
    "        self.age = age\n",
    "    def listen_class(self, status):\n",
    "        '''参数为学员的状态, status 为0 代表, 没有听课, 1代表正在听课, 2代表假装听课'''\n",
    "        if status == 0:\n",
    "            return '{}没有在听课'.format(self.name)\n",
    "        elif status == 1:\n",
    "            return '{}正在认真听课'.format(self.name)\n",
    "        elif status == 2:\n",
    "            return '{}假装在听课'.format(self.name)\n",
    "    def song(self, song_name):\n",
    "        return \"这个人正在唱一首歌, 歌的名字叫做<{}>\".format(song_name)\n",
    "    def introduce(self):\n",
    "        return \"大家好, 我的名字是{}, 我今年{}岁, 我来自{}\".format(self.name, self.age, self.place)\n",
    "    def sleep(self, status):\n",
    "        if status == 'yes':\n",
    "            return \"{}正在睡觉\".format(self.name)\n",
    "        elif status == 'no':\n",
    "            return \"{}很清醒\".format(self.name)\n",
    "        else:\n",
    "            return \"{}正在半梦半醒之中\".format(self.name)\n",
    "\n"
   ]
  },
  {
   "cell_type": "code",
   "execution_count": 153,
   "metadata": {},
   "outputs": [],
   "source": [
    "c1 = CDA学员('令狐冲', 22)\n",
    "c2 = CDA学员('李寻欢', 33 )"
   ]
  },
  {
   "cell_type": "code",
   "execution_count": 154,
   "metadata": {},
   "outputs": [],
   "source": [
    "# 我发现这个类的动作不太够,我想要一个新的跳高的动作\n",
    "# 定义这个函数\n",
    "def jump(self):\n",
    "    return self.name+'正在跳高'"
   ]
  },
  {
   "cell_type": "code",
   "execution_count": 158,
   "metadata": {},
   "outputs": [],
   "source": [
    "CDA学员.jump = jump"
   ]
  },
  {
   "cell_type": "code",
   "execution_count": 159,
   "metadata": {},
   "outputs": [
    {
     "data": {
      "text/plain": [
       "'令狐冲正在跳高'"
      ]
     },
     "execution_count": 159,
     "metadata": {},
     "output_type": "execute_result"
    }
   ],
   "source": [
    "# 原来用这个类实例化出来的对象,也都具有了这个技能\n",
    "c1.jump()"
   ]
  },
  {
   "cell_type": "code",
   "execution_count": 160,
   "metadata": {},
   "outputs": [
    {
     "data": {
      "text/plain": [
       "'李寻欢正在跳高'"
      ]
     },
     "execution_count": 160,
     "metadata": {},
     "output_type": "execute_result"
    }
   ],
   "source": [
    "c2.jump()"
   ]
  },
  {
   "cell_type": "code",
   "execution_count": null,
   "metadata": {},
   "outputs": [],
   "source": []
  },
  {
   "cell_type": "code",
   "execution_count": 165,
   "metadata": {},
   "outputs": [],
   "source": [
    "CDA学员.ear_nums = 2 # 新增类属性"
   ]
  },
  {
   "cell_type": "code",
   "execution_count": 166,
   "metadata": {},
   "outputs": [
    {
     "data": {
      "text/plain": [
       "2"
      ]
     },
     "execution_count": 166,
     "metadata": {},
     "output_type": "execute_result"
    }
   ],
   "source": [
    "c1.ear_nums"
   ]
  },
  {
   "cell_type": "code",
   "execution_count": 167,
   "metadata": {},
   "outputs": [
    {
     "data": {
      "text/plain": [
       "2"
      ]
     },
     "execution_count": 167,
     "metadata": {},
     "output_type": "execute_result"
    }
   ],
   "source": [
    "c2.ear_nums"
   ]
  },
  {
   "cell_type": "code",
   "execution_count": 168,
   "metadata": {},
   "outputs": [],
   "source": [
    "c1.武功 = '独孤九剑'"
   ]
  },
  {
   "cell_type": "code",
   "execution_count": 169,
   "metadata": {},
   "outputs": [
    {
     "data": {
      "text/plain": [
       "'独孤九剑'"
      ]
     },
     "execution_count": 169,
     "metadata": {},
     "output_type": "execute_result"
    }
   ],
   "source": [
    "c1.武功"
   ]
  },
  {
   "cell_type": "code",
   "execution_count": 170,
   "metadata": {},
   "outputs": [],
   "source": [
    "c2.武功 = '小李飞刀'"
   ]
  },
  {
   "cell_type": "code",
   "execution_count": 171,
   "metadata": {},
   "outputs": [
    {
     "data": {
      "text/plain": [
       "'小李飞刀'"
      ]
     },
     "execution_count": 171,
     "metadata": {},
     "output_type": "execute_result"
    }
   ],
   "source": [
    "c2.武功"
   ]
  },
  {
   "cell_type": "code",
   "execution_count": null,
   "metadata": {},
   "outputs": [],
   "source": []
  },
  {
   "cell_type": "code",
   "execution_count": 172,
   "metadata": {},
   "outputs": [],
   "source": [
    "# 初始化方法: 当一个对象被创建出来的时候,就会自动运行一次的方法\n",
    "# 定义一个CDA学员的类\n",
    "class CDA学员:\n",
    "    \"\"\"类功能: 用于记录所有CDA学员\"\"\"\n",
    "    # 类属性: 将来用这个类实例化出的所有对象,都有的属性\n",
    "    eyes_num = 2 # 所有用这个类实例化的对象一定都有2只眼睛\n",
    "    hair_color  = 'black'\n",
    "    # 给这个类添加功能, 学名: 叫做方法  method,(类里面定义的函数)\n",
    "    def __init__(self, name, age): # 参数,传入这个对象的对象属性\n",
    "        # 把传进来的参数, 赋值给这个对象\n",
    "        self.name = name\n",
    "        self.age = age  \n",
    "    \n",
    "    def listen_class(self , status): # 在函数里面定义的方法,都有一个默认的参数 self\n",
    "        # self 指代的是我们将来要用这个类实例化的想象\n",
    "        # 状态编码: 0 : 这个人没有听课  1: 这个人假装在听课  2: 这个人在认真听课\n",
    "        if status == 0:\n",
    "            return \"{}没有在听课中\".format(self.name)\n",
    "        elif status == 1:\n",
    "            return '{}在假装听课'.format(self.name)\n",
    "        else:\n",
    "            return '{}在认真听课'.format(self.name)\n",
    "    \n",
    "    \n",
    "    def sing_a_song(self , song_name):\n",
    "        return '这个人正在唱歌, 歌曲的名字叫做:{}'.format(song_name)\n",
    "\n",
    "    def introduce(self):\n",
    "        return \"大家好,我叫做{},我今年{}岁,我有{}只眼睛,我的头发是{}色的.\".format(self.name,\n",
    "                                            self.age,self.eyes_num,self.hair_color)\n",
    "    # 如果调用属性什么前缀都不加,默认使用的是全局变量"
   ]
  },
  {
   "cell_type": "code",
   "execution_count": 173,
   "metadata": {},
   "outputs": [],
   "source": [
    "c1 = CDA学员('令狐冲', 22)\n",
    "c2 = CDA学员('李寻欢', 33 )"
   ]
  },
  {
   "cell_type": "code",
   "execution_count": 174,
   "metadata": {},
   "outputs": [
    {
     "data": {
      "text/plain": [
       "'black'"
      ]
     },
     "execution_count": 174,
     "metadata": {},
     "output_type": "execute_result"
    }
   ],
   "source": [
    "c1.hair_color"
   ]
  },
  {
   "cell_type": "code",
   "execution_count": 175,
   "metadata": {},
   "outputs": [
    {
     "data": {
      "text/plain": [
       "'black'"
      ]
     },
     "execution_count": 175,
     "metadata": {},
     "output_type": "execute_result"
    }
   ],
   "source": [
    "c2.hair_color"
   ]
  },
  {
   "cell_type": "code",
   "execution_count": 176,
   "metadata": {},
   "outputs": [],
   "source": [
    "# 类属性可以用对象属性进行覆盖\n",
    "c2.hair_color = 'yellow'"
   ]
  },
  {
   "cell_type": "code",
   "execution_count": 177,
   "metadata": {},
   "outputs": [
    {
     "data": {
      "text/plain": [
       "'yellow'"
      ]
     },
     "execution_count": 177,
     "metadata": {},
     "output_type": "execute_result"
    }
   ],
   "source": [
    "c2.hair_color"
   ]
  },
  {
   "cell_type": "code",
   "execution_count": 178,
   "metadata": {},
   "outputs": [
    {
     "data": {
      "text/plain": [
       "'black'"
      ]
     },
     "execution_count": 178,
     "metadata": {},
     "output_type": "execute_result"
    }
   ],
   "source": [
    "c1.hair_color"
   ]
  },
  {
   "cell_type": "code",
   "execution_count": 179,
   "metadata": {},
   "outputs": [
    {
     "data": {
      "text/plain": [
       "'black'"
      ]
     },
     "execution_count": 179,
     "metadata": {},
     "output_type": "execute_result"
    }
   ],
   "source": [
    "CDA学员.hair_color"
   ]
  },
  {
   "cell_type": "code",
   "execution_count": null,
   "metadata": {},
   "outputs": [],
   "source": []
  },
  {
   "cell_type": "code",
   "execution_count": null,
   "metadata": {},
   "outputs": [],
   "source": []
  },
  {
   "cell_type": "code",
   "execution_count": null,
   "metadata": {},
   "outputs": [],
   "source": []
  },
  {
   "cell_type": "code",
   "execution_count": 161,
   "metadata": {},
   "outputs": [],
   "source": [
    "def jump(self):\n",
    "    return self.name + \"在跳高\""
   ]
  },
  {
   "cell_type": "code",
   "execution_count": 162,
   "metadata": {},
   "outputs": [],
   "source": [
    "CDA学员.jump = jump"
   ]
  },
  {
   "cell_type": "code",
   "execution_count": 163,
   "metadata": {},
   "outputs": [],
   "source": [
    "c3 = CDA学员(\"赵四\" , 33)"
   ]
  },
  {
   "cell_type": "code",
   "execution_count": 164,
   "metadata": {},
   "outputs": [
    {
     "data": {
      "text/plain": [
       "'赵四在跳高'"
      ]
     },
     "execution_count": 164,
     "metadata": {},
     "output_type": "execute_result"
    }
   ],
   "source": [
    "c3.jump()"
   ]
  },
  {
   "cell_type": "code",
   "execution_count": null,
   "metadata": {},
   "outputs": [],
   "source": []
  },
  {
   "cell_type": "code",
   "execution_count": null,
   "metadata": {},
   "outputs": [],
   "source": []
  },
  {
   "cell_type": "code",
   "execution_count": null,
   "metadata": {},
   "outputs": [],
   "source": [
    "\n"
   ]
  },
  {
   "cell_type": "code",
   "execution_count": null,
   "metadata": {},
   "outputs": [],
   "source": []
  },
  {
   "cell_type": "code",
   "execution_count": null,
   "metadata": {},
   "outputs": [],
   "source": []
  },
  {
   "cell_type": "markdown",
   "metadata": {},
   "source": [
    "##  练习 \n",
    "\n",
    "定义一个计算器Calculator的类\n",
    "\n",
    "**类属性**：  \n",
    "产地（Place_of_Origin） = ‘made in China'  \n",
    "  \n",
    "**实例属性**：  \n",
    "颜色（colour）  \n",
    "品牌（brand）  \n",
    "价格（price）\n",
    "\n",
    "**方法（技能）**：  \n",
    "sum(a, b)求两个数的和\n",
    "\n",
    "summ(a, b, c, d,....)求一系列数的和\n",
    "\n",
    "summ1(a, b, c, d,...)求一系列数的倒数和  \n",
    "\n",
    "额外添加一个方法: 计算器自我介绍功能: 介绍自己的产地,价格,品牌,颜色\n",
    "    \n",
    "**最后实例化三个对象出来试试功能**\n",
    "\n"
   ]
  },
  {
   "cell_type": "code",
   "execution_count": 185,
   "metadata": {},
   "outputs": [],
   "source": [
    "class Calculator:\n",
    "    Place_of_Origin = 'made in China'\n",
    "    def __init__(self, color,brand , price):\n",
    "        self.color = color\n",
    "        self.brand = brand\n",
    "        self.price = price\n",
    "    def sum(self,a,b):\n",
    "        return a + b\n",
    "    def summ(self, *args):\n",
    "        n = 0# 累加器\n",
    "        for i in args:\n",
    "            n+=i\n",
    "        return n\n",
    "    \n",
    "    def summ1(self,*args):\n",
    "        n = 0\n",
    "        for i in args:\n",
    "            n += 1/i\n",
    "        return n\n",
    "    def introduce(self):\n",
    "        # 如果在不允许换行的地方换行, 需要加 \\\n",
    "        return '我是一个可爱的{}的计算器,我是被{}创造出来的,\\\n",
    "你只需要花{}钱就可以获得我,我的产地是{}'.format(self.color,\n",
    "                                self.brand,self.price,self.Place_of_Origin )\n",
    "    "
   ]
  },
  {
   "cell_type": "code",
   "execution_count": 186,
   "metadata": {},
   "outputs": [],
   "source": [
    "a1 = Calculator('蓝色','晨光',32)"
   ]
  },
  {
   "cell_type": "code",
   "execution_count": 187,
   "metadata": {},
   "outputs": [],
   "source": [
    "a2 = Calculator('黑色','宜家',43)"
   ]
  },
  {
   "cell_type": "code",
   "execution_count": 188,
   "metadata": {},
   "outputs": [
    {
     "data": {
      "text/plain": [
       "'我是一个可爱的蓝色的计算器,我是被晨光创造出来的,你只需要花32钱就可以获得我,我的产地是made in China'"
      ]
     },
     "execution_count": 188,
     "metadata": {},
     "output_type": "execute_result"
    }
   ],
   "source": [
    "a1.introduce()"
   ]
  },
  {
   "cell_type": "code",
   "execution_count": 189,
   "metadata": {},
   "outputs": [
    {
     "data": {
      "text/plain": [
       "'我是一个可爱的黑色的计算器,我是被宜家创造出来的,你只需要花43钱就可以获得我,我的产地是made in China'"
      ]
     },
     "execution_count": 189,
     "metadata": {},
     "output_type": "execute_result"
    }
   ],
   "source": [
    "a2.introduce()"
   ]
  },
  {
   "cell_type": "code",
   "execution_count": 190,
   "metadata": {},
   "outputs": [
    {
     "data": {
      "text/plain": [
       "7"
      ]
     },
     "execution_count": 190,
     "metadata": {},
     "output_type": "execute_result"
    }
   ],
   "source": [
    "a1.sum(4,3)"
   ]
  },
  {
   "cell_type": "code",
   "execution_count": 191,
   "metadata": {},
   "outputs": [
    {
     "data": {
      "text/plain": [
       "11"
      ]
     },
     "execution_count": 191,
     "metadata": {},
     "output_type": "execute_result"
    }
   ],
   "source": [
    "a1.summ(3,2,1,2,3)"
   ]
  },
  {
   "cell_type": "code",
   "execution_count": 192,
   "metadata": {},
   "outputs": [
    {
     "data": {
      "text/plain": [
       "2.083333333333333"
      ]
     },
     "execution_count": 192,
     "metadata": {},
     "output_type": "execute_result"
    }
   ],
   "source": [
    "a1.summ1(4,3,2,1)"
   ]
  },
  {
   "cell_type": "code",
   "execution_count": null,
   "metadata": {},
   "outputs": [],
   "source": []
  },
  {
   "cell_type": "code",
   "execution_count": null,
   "metadata": {},
   "outputs": [],
   "source": []
  },
  {
   "cell_type": "code",
   "execution_count": null,
   "metadata": {},
   "outputs": [],
   "source": []
  },
  {
   "cell_type": "code",
   "execution_count": null,
   "metadata": {},
   "outputs": [],
   "source": []
  },
  {
   "cell_type": "code",
   "execution_count": 136,
   "metadata": {},
   "outputs": [],
   "source": [
    "class Calculator:\n",
    "    '''这是一个计算器'''\n",
    "    \n",
    "    # 类属性\n",
    "    Place_of_Origin = 'made in China'\n",
    "    \n",
    "    # 实例属性\n",
    "    def __init__(self, color, brand, price):\n",
    "        self.color = color\n",
    "        self.brand  = brand\n",
    "        self.price  = price\n",
    "        \n",
    "    # 技能（方法）\n",
    "    def sum(self, a, b):\n",
    "        '''这个函数计算两个数的和'''\n",
    "        print(a+b)\n",
    "        \n",
    "    def summ(self, *args):\n",
    "        '''这个函数计算一系列数的和'''\n",
    "        print(args)\n",
    "        s = 0\n",
    "        for i in args:\n",
    "            s += i\n",
    "        print(s)\n",
    "        \n",
    "    def summ1(self, *args):\n",
    "        '''这个函数计算一系列数的倒数和'''\n",
    "        print(args)\n",
    "        s = 0\n",
    "        for i in args:\n",
    "            s += (1/i)\n",
    "        print(s)  "
   ]
  },
  {
   "cell_type": "code",
   "execution_count": 137,
   "metadata": {},
   "outputs": [],
   "source": [
    "c1 = Calculator('黑色', '淘宝', '28元')"
   ]
  },
  {
   "cell_type": "code",
   "execution_count": 138,
   "metadata": {},
   "outputs": [
    {
     "data": {
      "text/plain": [
       "'黑色'"
      ]
     },
     "execution_count": 138,
     "metadata": {},
     "output_type": "execute_result"
    }
   ],
   "source": [
    "c1.color"
   ]
  },
  {
   "cell_type": "code",
   "execution_count": 139,
   "metadata": {},
   "outputs": [
    {
     "data": {
      "text/plain": [
       "'淘宝'"
      ]
     },
     "execution_count": 139,
     "metadata": {},
     "output_type": "execute_result"
    }
   ],
   "source": [
    "c1.brand"
   ]
  },
  {
   "cell_type": "code",
   "execution_count": 140,
   "metadata": {},
   "outputs": [
    {
     "data": {
      "text/plain": [
       "'28元'"
      ]
     },
     "execution_count": 140,
     "metadata": {},
     "output_type": "execute_result"
    }
   ],
   "source": [
    "c1.price"
   ]
  },
  {
   "cell_type": "code",
   "execution_count": 142,
   "metadata": {},
   "outputs": [
    {
     "data": {
      "text/plain": [
       "'made in China'"
      ]
     },
     "execution_count": 142,
     "metadata": {},
     "output_type": "execute_result"
    }
   ],
   "source": [
    "c1.Place_of_Origin"
   ]
  },
  {
   "cell_type": "code",
   "execution_count": 143,
   "metadata": {},
   "outputs": [
    {
     "data": {
      "text/plain": [
       "'这个函数计算两个数的和'"
      ]
     },
     "execution_count": 143,
     "metadata": {},
     "output_type": "execute_result"
    }
   ],
   "source": [
    "c1.sum.__doc__"
   ]
  },
  {
   "cell_type": "code",
   "execution_count": 144,
   "metadata": {},
   "outputs": [
    {
     "name": "stdout",
     "output_type": "stream",
     "text": [
      "9\n"
     ]
    }
   ],
   "source": [
    "x.sum(1,8)"
   ]
  },
  {
   "cell_type": "code",
   "execution_count": 145,
   "metadata": {},
   "outputs": [
    {
     "name": "stdout",
     "output_type": "stream",
     "text": [
      "(1, 2, 3, 4, 5, 6)\n",
      "21\n"
     ]
    }
   ],
   "source": [
    "x.summ(1, 2, 3, 4, 5, 6)"
   ]
  },
  {
   "cell_type": "code",
   "execution_count": 146,
   "metadata": {},
   "outputs": [
    {
     "name": "stdout",
     "output_type": "stream",
     "text": [
      "(1, 2, 4)\n",
      "1.75\n"
     ]
    }
   ],
   "source": [
    "x.summ1(1, 2, 4)"
   ]
  },
  {
   "cell_type": "markdown",
   "metadata": {},
   "source": [
    "### 给计算器添加一个减法功能\n",
    "\n",
    "计算两个传入参数的差"
   ]
  },
  {
   "cell_type": "code",
   "execution_count": 193,
   "metadata": {},
   "outputs": [],
   "source": [
    "def minus(self,a,b):\n",
    "    return a - b"
   ]
  },
  {
   "cell_type": "code",
   "execution_count": 194,
   "metadata": {},
   "outputs": [],
   "source": [
    "# 将功能传递进类\n",
    "Calculator.minus = minus"
   ]
  },
  {
   "cell_type": "code",
   "execution_count": 195,
   "metadata": {},
   "outputs": [
    {
     "data": {
      "text/plain": [
       "4"
      ]
     },
     "execution_count": 195,
     "metadata": {},
     "output_type": "execute_result"
    }
   ],
   "source": [
    "a1.minus(6,2)"
   ]
  },
  {
   "cell_type": "code",
   "execution_count": 196,
   "metadata": {},
   "outputs": [
    {
     "data": {
      "text/plain": [
       "4"
      ]
     },
     "execution_count": 196,
     "metadata": {},
     "output_type": "execute_result"
    }
   ],
   "source": [
    "a2.minus(6,2)"
   ]
  },
  {
   "cell_type": "code",
   "execution_count": null,
   "metadata": {},
   "outputs": [],
   "source": []
  },
  {
   "cell_type": "code",
   "execution_count": null,
   "metadata": {},
   "outputs": [],
   "source": []
  },
  {
   "cell_type": "markdown",
   "metadata": {},
   "source": [
    "## 实例之间的交互"
   ]
  },
  {
   "cell_type": "code",
   "execution_count": 204,
   "metadata": {},
   "outputs": [],
   "source": [
    "# 初始化方法: 当一个对象被创建出来的时候,就会自动运行一次的方法\n",
    "# 定义一个CDA学员的类\n",
    "class CDA学员:\n",
    "    \"\"\"类功能: 用于记录所有CDA学员\"\"\"\n",
    "    # 类属性: 将来用这个类实例化出的所有对象,都有的属性\n",
    "    eyes_num = 2 # 所有用这个类实例化的对象一定都有2只眼睛\n",
    "    hair_color  = 'black'\n",
    "    \n",
    "    feeling = '正常'# 感觉的类属性\n",
    "    \n",
    "    # 给这个类添加功能, 学名: 叫做方法  method,(类里面定义的函数)\n",
    "    def __init__(self, name, age): # 参数,传入这个对象的对象属性\n",
    "        # 把传进来的参数, 赋值给这个对象\n",
    "        self.name = name\n",
    "        self.age = age  \n",
    "    \n",
    "    def listen_class(self , status): # 在函数里面定义的方法,都有一个默认的参数 self\n",
    "        # self 指代的是我们将来要用这个类实例化的想象\n",
    "        # 状态编码: 0 : 这个人没有听课  1: 这个人假装在听课  2: 这个人在认真听课\n",
    "        if status == 0:\n",
    "            return \"{}没有在听课中\".format(self.name)\n",
    "        elif status == 1:\n",
    "            return '{}在假装听课'.format(self.name)\n",
    "        else:\n",
    "            return '{}在认真听课'.format(self.name)\n",
    "    def sing_a_song(self , song_name):\n",
    "        return '这个人正在唱歌, 歌曲的名字叫做:{}'.format(song_name)\n",
    "\n",
    "    def introduce(self):\n",
    "        return \"大家好,我叫做{},我今年{}岁,我有{}只眼睛,我的头发是{}色的.\".format(self.name,\n",
    "                                            self.age,self.eyes_num,self.hair_color)\n",
    "    # 如果调用属性什么前缀都不加,默认使用的是全局变量\n",
    "    def hit(self,another_student): # 攻击:一定要有一个攻击的对象, another_student将会攻击的对象\n",
    "        another_student.feeling = '疼痛'\n",
    "        another_student.thinking = '愤怒'\n",
    "        return self.name + \"攻击了\" + another_student.name"
   ]
  },
  {
   "cell_type": "code",
   "execution_count": 205,
   "metadata": {},
   "outputs": [],
   "source": [
    "c1 = CDA学员('令狐冲',32)\n",
    "c2 = CDA学员('岳不群',54)"
   ]
  },
  {
   "cell_type": "code",
   "execution_count": 206,
   "metadata": {},
   "outputs": [
    {
     "data": {
      "text/plain": [
       "'正常'"
      ]
     },
     "execution_count": 206,
     "metadata": {},
     "output_type": "execute_result"
    }
   ],
   "source": [
    "c2.feeling"
   ]
  },
  {
   "cell_type": "code",
   "execution_count": 200,
   "metadata": {},
   "outputs": [
    {
     "data": {
      "text/plain": [
       "'正常'"
      ]
     },
     "execution_count": 200,
     "metadata": {},
     "output_type": "execute_result"
    }
   ],
   "source": [
    "c1.feeling"
   ]
  },
  {
   "cell_type": "code",
   "execution_count": 207,
   "metadata": {
    "collapsed": true
   },
   "outputs": [
    {
     "ename": "AttributeError",
     "evalue": "'CDA学员' object has no attribute 'thinking'",
     "output_type": "error",
     "traceback": [
      "\u001b[0;31m---------------------------------------------------------------------------\u001b[0m",
      "\u001b[0;31mAttributeError\u001b[0m                            Traceback (most recent call last)",
      "\u001b[0;32m<ipython-input-207-a9cb0e803a58>\u001b[0m in \u001b[0;36m<module>\u001b[0;34m\u001b[0m\n\u001b[0;32m----> 1\u001b[0;31m \u001b[0mc1\u001b[0m\u001b[0;34m.\u001b[0m\u001b[0mthinking\u001b[0m\u001b[0;34m\u001b[0m\u001b[0;34m\u001b[0m\u001b[0m\n\u001b[0m",
      "\u001b[0;31mAttributeError\u001b[0m: 'CDA学员' object has no attribute 'thinking'"
     ]
    }
   ],
   "source": [
    "c1.thinking"
   ]
  },
  {
   "cell_type": "code",
   "execution_count": 208,
   "metadata": {},
   "outputs": [
    {
     "data": {
      "text/plain": [
       "'岳不群攻击了令狐冲'"
      ]
     },
     "execution_count": 208,
     "metadata": {},
     "output_type": "execute_result"
    }
   ],
   "source": [
    "c2.hit(c1)"
   ]
  },
  {
   "cell_type": "code",
   "execution_count": 209,
   "metadata": {},
   "outputs": [
    {
     "data": {
      "text/plain": [
       "'疼痛'"
      ]
     },
     "execution_count": 209,
     "metadata": {},
     "output_type": "execute_result"
    }
   ],
   "source": [
    "c1.feeling"
   ]
  },
  {
   "cell_type": "code",
   "execution_count": 210,
   "metadata": {},
   "outputs": [
    {
     "data": {
      "text/plain": [
       "'愤怒'"
      ]
     },
     "execution_count": 210,
     "metadata": {},
     "output_type": "execute_result"
    }
   ],
   "source": [
    "c1.thinking"
   ]
  },
  {
   "cell_type": "code",
   "execution_count": 211,
   "metadata": {},
   "outputs": [
    {
     "data": {
      "text/plain": [
       "'令狐冲攻击了岳不群'"
      ]
     },
     "execution_count": 211,
     "metadata": {},
     "output_type": "execute_result"
    }
   ],
   "source": [
    "c1.hit(c2)"
   ]
  },
  {
   "cell_type": "code",
   "execution_count": 212,
   "metadata": {},
   "outputs": [
    {
     "data": {
      "text/plain": [
       "'疼痛'"
      ]
     },
     "execution_count": 212,
     "metadata": {},
     "output_type": "execute_result"
    }
   ],
   "source": [
    "c2.feeling"
   ]
  },
  {
   "cell_type": "code",
   "execution_count": 213,
   "metadata": {},
   "outputs": [
    {
     "data": {
      "text/plain": [
       "'愤怒'"
      ]
     },
     "execution_count": 213,
     "metadata": {},
     "output_type": "execute_result"
    }
   ],
   "source": [
    "c2.thinking"
   ]
  },
  {
   "cell_type": "code",
   "execution_count": 235,
   "metadata": {},
   "outputs": [],
   "source": [
    "# 初始化方法: 当一个对象被创建出来的时候,就会自动运行一次的方法\n",
    "# 定义一个CDA学员的类\n",
    "class CDA学员:\n",
    "    \"\"\"类功能: 用于记录所有CDA学员\"\"\"\n",
    "    # 类属性: 将来用这个类实例化出的所有对象,都有的属性\n",
    "    eyes_num = 2 # 所有用这个类实例化的对象一定都有2只眼睛\n",
    "    hair_color  = 'black'\n",
    "    \n",
    "    feeling = '正常'# 感觉的类属性\n",
    "    \n",
    "    # 给这个类添加功能, 学名: 叫做方法  method,(类里面定义的函数)\n",
    "    def __init__(self, name, age, jineng): # 参数,传入这个对象的对象属性\n",
    "        # 把传进来的参数, 赋值给这个对象\n",
    "        self.name = name\n",
    "        self.age = age \n",
    "        self.jineng = jineng\n",
    "    \n",
    "    def listen_class(self , status): # 在函数里面定义的方法,都有一个默认的参数 self\n",
    "        # self 指代的是我们将来要用这个类实例化的想象\n",
    "        # 状态编码: 0 : 这个人没有听课  1: 这个人假装在听课  2: 这个人在认真听课\n",
    "        if status == 0:\n",
    "            return \"{}没有在听课中\".format(self.name)\n",
    "        elif status == 1:\n",
    "            return '{}在假装听课'.format(self.name)\n",
    "        else:\n",
    "            return '{}在认真听课'.format(self.name)\n",
    "    def sing_a_song(self , song_name):\n",
    "        return '这个人正在唱歌, 歌曲的名字叫做:{}'.format(song_name)\n",
    "\n",
    "    def introduce(self):\n",
    "        return \"大家好,我叫做{},我今年{}岁,我有{}只眼睛,我的头发是{}色的.\".format(self.name,\n",
    "                                            self.age,self.eyes_num,self.hair_color)\n",
    "    # 如果调用属性什么前缀都不加,默认使用的是全局变量\n",
    "    def hit(self,another_student): # 攻击:一定要有一个攻击的对象, another_student将会攻击的对象\n",
    "        another_student.feeling = '疼痛'\n",
    "        another_student.thinking = '愤怒'\n",
    "        if another_student.jineng == '独孤九剑':\n",
    "            another_student.feeling = '正常'\n",
    "            another_student.fantan(self)\n",
    "        \n",
    "        return self.name + \"攻击了\" + another_student.name\n",
    "    \n",
    "    def fantan(self, fantan_student):\n",
    "        fantan_student.feeling = '流血'\n",
    "        fantan_student.thinking = '委屈'\n",
    "        print( '触发了反弹')"
   ]
  },
  {
   "cell_type": "code",
   "execution_count": 242,
   "metadata": {},
   "outputs": [],
   "source": [
    "c1 = CDA学员('令狐冲',32, '独孤九剑')\n",
    "c2 = CDA学员('岳不群',54 , '辟邪剑法')\n",
    "c3 = CDA学员('林平之',24, '林家剑法')"
   ]
  },
  {
   "cell_type": "code",
   "execution_count": 237,
   "metadata": {},
   "outputs": [
    {
     "name": "stdout",
     "output_type": "stream",
     "text": [
      "触发了反弹\n"
     ]
    },
    {
     "data": {
      "text/plain": [
       "'岳不群攻击了令狐冲'"
      ]
     },
     "execution_count": 237,
     "metadata": {},
     "output_type": "execute_result"
    }
   ],
   "source": [
    "c2.hit(c1)"
   ]
  },
  {
   "cell_type": "code",
   "execution_count": 238,
   "metadata": {},
   "outputs": [
    {
     "data": {
      "text/plain": [
       "'正常'"
      ]
     },
     "execution_count": 238,
     "metadata": {},
     "output_type": "execute_result"
    }
   ],
   "source": [
    "c1.feeling"
   ]
  },
  {
   "cell_type": "code",
   "execution_count": 239,
   "metadata": {},
   "outputs": [
    {
     "data": {
      "text/plain": [
       "'愤怒'"
      ]
     },
     "execution_count": 239,
     "metadata": {},
     "output_type": "execute_result"
    }
   ],
   "source": [
    "c1.thinking"
   ]
  },
  {
   "cell_type": "code",
   "execution_count": 240,
   "metadata": {},
   "outputs": [
    {
     "data": {
      "text/plain": [
       "'流血'"
      ]
     },
     "execution_count": 240,
     "metadata": {},
     "output_type": "execute_result"
    }
   ],
   "source": [
    "c2.feeling"
   ]
  },
  {
   "cell_type": "code",
   "execution_count": 241,
   "metadata": {},
   "outputs": [
    {
     "data": {
      "text/plain": [
       "'委屈'"
      ]
     },
     "execution_count": 241,
     "metadata": {},
     "output_type": "execute_result"
    }
   ],
   "source": [
    "c2.thinking"
   ]
  },
  {
   "cell_type": "code",
   "execution_count": null,
   "metadata": {},
   "outputs": [],
   "source": []
  },
  {
   "cell_type": "code",
   "execution_count": 243,
   "metadata": {},
   "outputs": [
    {
     "data": {
      "text/plain": [
       "'岳不群攻击了林平之'"
      ]
     },
     "execution_count": 243,
     "metadata": {},
     "output_type": "execute_result"
    }
   ],
   "source": [
    "c2.hit(c3)"
   ]
  },
  {
   "cell_type": "code",
   "execution_count": 244,
   "metadata": {},
   "outputs": [
    {
     "data": {
      "text/plain": [
       "'疼痛'"
      ]
     },
     "execution_count": 244,
     "metadata": {},
     "output_type": "execute_result"
    }
   ],
   "source": [
    "c3.feeling"
   ]
  },
  {
   "cell_type": "code",
   "execution_count": 245,
   "metadata": {},
   "outputs": [
    {
     "data": {
      "text/plain": [
       "'愤怒'"
      ]
     },
     "execution_count": 245,
     "metadata": {},
     "output_type": "execute_result"
    }
   ],
   "source": [
    "c3.thinking"
   ]
  },
  {
   "cell_type": "code",
   "execution_count": 246,
   "metadata": {},
   "outputs": [
    {
     "data": {
      "text/plain": [
       "'正常'"
      ]
     },
     "execution_count": 246,
     "metadata": {},
     "output_type": "execute_result"
    }
   ],
   "source": [
    "c2.feeling"
   ]
  },
  {
   "cell_type": "code",
   "execution_count": null,
   "metadata": {},
   "outputs": [],
   "source": []
  },
  {
   "cell_type": "code",
   "execution_count": null,
   "metadata": {},
   "outputs": [],
   "source": []
  },
  {
   "cell_type": "code",
   "execution_count": null,
   "metadata": {},
   "outputs": [],
   "source": []
  },
  {
   "cell_type": "code",
   "execution_count": null,
   "metadata": {},
   "outputs": [],
   "source": []
  },
  {
   "cell_type": "code",
   "execution_count": null,
   "metadata": {},
   "outputs": [],
   "source": []
  },
  {
   "cell_type": "code",
   "execution_count": null,
   "metadata": {},
   "outputs": [],
   "source": []
  },
  {
   "cell_type": "code",
   "execution_count": null,
   "metadata": {},
   "outputs": [],
   "source": []
  },
  {
   "cell_type": "code",
   "execution_count": null,
   "metadata": {},
   "outputs": [],
   "source": []
  },
  {
   "cell_type": "code",
   "execution_count": 52,
   "metadata": {},
   "outputs": [],
   "source": [
    "class CDA学员:\n",
    "    '''说明:这是一个用于记录CDA学员的类\n",
    "    参数说明:目前还没有参数'''\n",
    "    place = \"深圳\" # 所有的实例都有这个共同的属性\n",
    "    feeling = '正常'\n",
    "    def __init__(self, name, age):# 这个name什么时候传呢? 实例化对象的时候传\n",
    "        self.name = name\n",
    "        self.age = age\n",
    "    def listen_class(self, status):\n",
    "        '''参数为学员的状态, status 为0 代表, 没有听课, 1代表正在听课, 2代表假装听课'''\n",
    "        if status == 0:\n",
    "            return '{}没有在听课'.format(self.name)\n",
    "        elif status == 1:\n",
    "            return '{}正在认真听课'.format(self.name)\n",
    "        elif status == 2:\n",
    "            return '{}假装在听课'.format(self.name)\n",
    "    def song(self, song_name):\n",
    "        return \"这个人正在唱一首歌, 歌的名字叫做<{}>\".format(song_name)\n",
    "    def introduce(self):\n",
    "        return \"大家好, 我的名字是{}, 我今年{}岁, 我来自{}\".format(self.name, self.age, self.place)\n",
    "    def sleep(self, status):\n",
    "        if status == 'yes':\n",
    "            return \"{}正在睡觉\".format(self.name)\n",
    "        elif status == 'no':\n",
    "            return \"{}很清醒\".format(self.name)\n",
    "        else:\n",
    "            return \"{}正在半梦半醒之中\".format(self.name)\n",
    "    def hit(self, one_student):\n",
    "        one_student.feeling = '疼痛'\n",
    "        one_student.thinking = '怒火'\n",
    "    "
   ]
  },
  {
   "cell_type": "code",
   "execution_count": 54,
   "metadata": {},
   "outputs": [],
   "source": [
    "c1 = CDA学员('令狐冲', 22)\n",
    "c2 = CDA学员('李寻欢', 33 )"
   ]
  },
  {
   "cell_type": "code",
   "execution_count": 55,
   "metadata": {},
   "outputs": [
    {
     "data": {
      "text/plain": [
       "'正常'"
      ]
     },
     "execution_count": 55,
     "metadata": {},
     "output_type": "execute_result"
    }
   ],
   "source": [
    "c2.feeling"
   ]
  },
  {
   "cell_type": "code",
   "execution_count": 56,
   "metadata": {},
   "outputs": [],
   "source": [
    "c1.hit(c2)"
   ]
  },
  {
   "cell_type": "code",
   "execution_count": 57,
   "metadata": {},
   "outputs": [
    {
     "data": {
      "text/plain": [
       "'疼痛'"
      ]
     },
     "execution_count": 57,
     "metadata": {},
     "output_type": "execute_result"
    }
   ],
   "source": [
    "c2.feeling"
   ]
  },
  {
   "cell_type": "code",
   "execution_count": 58,
   "metadata": {},
   "outputs": [
    {
     "data": {
      "text/plain": [
       "'怒火'"
      ]
     },
     "execution_count": 58,
     "metadata": {},
     "output_type": "execute_result"
    }
   ],
   "source": [
    "c2.thinking"
   ]
  },
  {
   "cell_type": "code",
   "execution_count": null,
   "metadata": {},
   "outputs": [],
   "source": []
  },
  {
   "cell_type": "code",
   "execution_count": 79,
   "metadata": {},
   "outputs": [],
   "source": [
    "class CDA学员:\n",
    "    '''说明:这是一个用于记录CDA学员的类\n",
    "    参数说明:目前还没有参数'''\n",
    "    place = \"深圳\" # 所有的实例都有这个共同的属性\n",
    "    feeling = '正常'\n",
    "    \n",
    "    def __init__(self, name, age):# 这个name什么时候传呢? 实例化对象的时候传\n",
    "        self.name = name\n",
    "        self.age = age\n",
    "    def listen_class(self, status):\n",
    "        '''参数为学员的状态, status 为0 代表, 没有听课, 1代表正在听课, 2代表假装听课'''\n",
    "        if status == 0:\n",
    "            return '{}没有在听课'.format(self.name)\n",
    "        elif status == 1:\n",
    "            return '{}正在认真听课'.format(self.name)\n",
    "        elif status == 2:\n",
    "            return '{}假装在听课'.format(self.name)\n",
    "    def song(self, song_name):\n",
    "        return \"这个人正在唱一首歌, 歌的名字叫做<{}>\".format(song_name)\n",
    "    def introduce(self):\n",
    "        return \"大家好, 我的名字是{}, 我今年{}岁, 我来自{}\".format(self.name, self.age, self.place)\n",
    "    def sleep(self, status):\n",
    "        if status == 'yes':\n",
    "            return \"{}正在睡觉\".format(self.name)\n",
    "        elif status == 'no':\n",
    "            return \"{}很清醒\".format(self.name)\n",
    "        else:\n",
    "            return \"{}正在半梦半醒之中\".format(self.name)\n",
    "    def hit(self, one_student):\n",
    "\n",
    "        # 假如在攻击别人的时候, 会触发对方的反弹能力\n",
    "        one_student.fantan(self)\n",
    "        return \"{}成功攻击了{}\".format(self.name,  one_student.name)\n",
    "    def fantan(self , other_student):\n",
    "        self.feeling = '疼痛'\n",
    "        self.thinking = '怒火'\n",
    "        self.status = '防御'\n",
    "        \n",
    "        other_student.feeling = '疼痛'\n",
    "        print( \"{}发起了反击\".format(self.name))"
   ]
  },
  {
   "cell_type": "code",
   "execution_count": 80,
   "metadata": {},
   "outputs": [],
   "source": [
    "c1 = CDA学员('令狐冲', 22)\n",
    "c2 = CDA学员('岳不群', 33 )"
   ]
  },
  {
   "cell_type": "code",
   "execution_count": 81,
   "metadata": {},
   "outputs": [
    {
     "data": {
      "text/plain": [
       "'正常'"
      ]
     },
     "execution_count": 81,
     "metadata": {},
     "output_type": "execute_result"
    }
   ],
   "source": [
    "c1.feeling"
   ]
  },
  {
   "cell_type": "code",
   "execution_count": 82,
   "metadata": {},
   "outputs": [
    {
     "data": {
      "text/plain": [
       "'正常'"
      ]
     },
     "execution_count": 82,
     "metadata": {},
     "output_type": "execute_result"
    }
   ],
   "source": [
    "c2.feeling"
   ]
  },
  {
   "cell_type": "code",
   "execution_count": 83,
   "metadata": {},
   "outputs": [
    {
     "name": "stdout",
     "output_type": "stream",
     "text": [
      "岳不群发起了反击\n"
     ]
    },
    {
     "data": {
      "text/plain": [
       "'令狐冲成功攻击了岳不群'"
      ]
     },
     "execution_count": 83,
     "metadata": {},
     "output_type": "execute_result"
    }
   ],
   "source": [
    "c1.hit(c2)\n",
    "# c1 调用 hit 方法 ,因此 self 代表 c1\n",
    "\n",
    "# 在 c1 的hit方法中, 触发了 c2 的fantan方法, self 为c1 传入进去了, 因此 c1 在 c2 的 fantan方法中也\n",
    "# 感受到了疼痛"
   ]
  },
  {
   "cell_type": "code",
   "execution_count": 85,
   "metadata": {},
   "outputs": [
    {
     "data": {
      "text/plain": [
       "'疼痛'"
      ]
     },
     "execution_count": 85,
     "metadata": {},
     "output_type": "execute_result"
    }
   ],
   "source": [
    "# c2 的感觉变成疼痛, 想法变成怒火\n",
    "c2.feeling"
   ]
  },
  {
   "cell_type": "code",
   "execution_count": 86,
   "metadata": {},
   "outputs": [
    {
     "data": {
      "text/plain": [
       "'怒火'"
      ]
     },
     "execution_count": 86,
     "metadata": {},
     "output_type": "execute_result"
    }
   ],
   "source": [
    "c2.thinking"
   ]
  },
  {
   "cell_type": "code",
   "execution_count": 87,
   "metadata": {},
   "outputs": [
    {
     "data": {
      "text/plain": [
       "'疼痛'"
      ]
     },
     "execution_count": 87,
     "metadata": {},
     "output_type": "execute_result"
    }
   ],
   "source": [
    "c1.feeling"
   ]
  },
  {
   "cell_type": "markdown",
   "metadata": {},
   "source": [
    "## 继承"
   ]
  },
  {
   "attachments": {
    "image.png": {
     "image/png": "[encoded data removed]"
    }
   },
   "cell_type": "markdown",
   "metadata": {},
   "source": [
    "### 继承与抽象（先抽象再继承）\n",
    "\n",
    "抽象即抽取类似或者说比较像的部分。\n",
    "\n",
    "抽象分成两个层次： \n",
    "\n",
    "1.将奥巴马和梅西这俩对象比较像的部分抽取成类； \n",
    "\n",
    "2.将人，猪，狗这三个类比较像的部分抽取成父类。\n",
    "\n",
    "抽象最主要的作用是划分类别（可以隔离关注点，降低复杂度）\n",
    "\n",
    "![image.png](attachment:image.png)"
   ]
  },
  {
   "attachments": {
    "image.png": {
     "image/png": "[encoded data removed]"
    }
   },
   "cell_type": "markdown",
   "metadata": {},
   "source": [
    "继承：是基于抽象的结果，通过编程语言去实现它，肯定是先经历抽象这个过程，才能通过继承的方式去表达出抽象的结构。\n",
    "\n",
    "抽象只是分析和设计的过程中，一个动作或者说一种技巧，通过抽象可以得到类\n",
    "\n",
    "![image.png](attachment:image.png)"
   ]
  },
  {
   "cell_type": "markdown",
   "metadata": {},
   "source": [
    "###  Python中继承的基本语法\n",
    "\n",
    "```\n",
    "class Classname(baseclasslist):\n",
    "    '''类的说明文档'''\n",
    "    statement           # 类体\n",
    "\n",
    "```\n",
    "Classname:类名  \n",
    "baseclasslist：用于指定要继承的基类，可以有多个，类名之间用逗号分隔，如果不指定，将默认使用所有Python对象的根类object。"
   ]
  },
  {
   "cell_type": "code",
   "execution_count": null,
   "metadata": {},
   "outputs": [],
   "source": [
    "class 类名(父类):\n",
    "    类里面的代码"
   ]
  },
  {
   "cell_type": "code",
   "execution_count": null,
   "metadata": {},
   "outputs": [],
   "source": []
  },
  {
   "cell_type": "code",
   "execution_count": 248,
   "metadata": {},
   "outputs": [],
   "source": [
    "class CDA学员:\n",
    "    '''说明:这是一个用于记录CDA学员的类\n",
    "    参数说明:目前还没有参数'''\n",
    "    place = \"深圳\" # 所有的实例都有这个共同的属性\n",
    "    feeling = '正常'\n",
    "    \n",
    "    def __init__(self, name, age):# 这个name什么时候传呢? 实例化对象的时候传\n",
    "        self.name = name\n",
    "        self.age = age\n",
    "    def listen_class(self, status):\n",
    "        '''参数为学员的状态, status 为0 代表, 没有听课, 1代表正在听课, 2代表假装听课'''\n",
    "        if status == 0:\n",
    "            return '{}没有在听课'.format(self.name)\n",
    "        elif status == 1:\n",
    "            return '{}正在认真听课'.format(self.name)\n",
    "        elif status == 2:\n",
    "            return '{}假装在听课'.format(self.name)\n",
    "    def song(self, song_name):\n",
    "        return \"这个人正在唱一首歌, 歌的名字叫做<{}>\".format(song_name)\n",
    "    def introduce(self):\n",
    "        return \"大家好, 我的名字是{}, 我今年{}岁, 我来自{}\".format(self.name, self.age, self.place)\n",
    "    def sleep(self, status):\n",
    "        if status == 'yes':\n",
    "            return \"{}正在睡觉\".format(self.name)\n",
    "        elif status == 'no':\n",
    "            return \"{}很清醒\".format(self.name)\n",
    "        else:\n",
    "            return \"{}正在半梦半醒之中\".format(self.name)\n",
    "    def hit(self, one_student):\n",
    "\n",
    "        # 假如在攻击别人的时候, 会触发对方的反弹能力\n",
    "        one_student.fantan(self)\n",
    "        return \"{}成功攻击了{}\".format(self.name,  one_student.name)\n",
    "    def fantan(self , other_student):\n",
    "        self.feeling = '疼痛'\n",
    "        self.thinking = '怒火'\n",
    "        self.status = '防御'\n",
    "        \n",
    "        other_student.feeling = '疼痛'\n",
    "        print( \"{}发起了反击\".format(self.name))"
   ]
  },
  {
   "cell_type": "code",
   "execution_count": 249,
   "metadata": {},
   "outputs": [],
   "source": [
    "class CDA讲师:\n",
    "    '''说明:这是一个用于记录CDA学员的类\n",
    "    参数说明:目前还没有参数'''\n",
    "    place = \"北京\" # 所有的实例都有这个共同的属性\n",
    "    feeling = '正常'\n",
    "    \n",
    "    def __init__(self, name, age):# 这个name什么时候传呢? 实例化对象的时候传\n",
    "        self.name = name\n",
    "        self.age = age\n",
    "    def teacher_class(self, status):\n",
    "        '''参数为学员的状态, status 为3 代表都在听课, 4代表有人在听课 , 5代表都没有在听课'''\n",
    "        if status == 3:\n",
    "            return '{}上课中,大家都在听课'.format(self.name)\n",
    "        elif status == 4:\n",
    "            return \"{}上课中, 有一部分人在听课\".format(self.name)\n",
    "        elif status == 5:\n",
    "            return '{}上课中, 没有人在听课'.format(self.name)\n",
    "    def song(self, song_name):\n",
    "        return \"这个人正在唱一首歌, 歌的名字叫做<{}>\".format(song_name)\n",
    "    def introduce(self):\n",
    "        return \"大家好, 我的名字是{}, 我今年{}岁, 我来自{}\".format(self.name, self.age, self.place)\n",
    "\n",
    "    def hit(self, one_student):\n",
    "        one_student.feeling = '严重受伤'\n",
    "        one_student.thinking = \"胆怯\"\n",
    "        self.thinking = '怒火中...'"
   ]
  },
  {
   "cell_type": "code",
   "execution_count": 250,
   "metadata": {},
   "outputs": [],
   "source": [
    "c1 = CDA学员('令狐冲', 22)\n",
    "c2 = CDA学员('岳不群', 33 )"
   ]
  },
  {
   "cell_type": "code",
   "execution_count": 251,
   "metadata": {},
   "outputs": [],
   "source": [
    "t1 = CDA讲师('风清扬' , 66)"
   ]
  },
  {
   "cell_type": "code",
   "execution_count": 252,
   "metadata": {},
   "outputs": [],
   "source": [
    "t1.hit(c1)"
   ]
  },
  {
   "cell_type": "code",
   "execution_count": 253,
   "metadata": {},
   "outputs": [
    {
     "data": {
      "text/plain": [
       "'严重受伤'"
      ]
     },
     "execution_count": 253,
     "metadata": {},
     "output_type": "execute_result"
    }
   ],
   "source": [
    "c1.feeling"
   ]
  },
  {
   "cell_type": "code",
   "execution_count": 254,
   "metadata": {},
   "outputs": [
    {
     "data": {
      "text/plain": [
       "'胆怯'"
      ]
     },
     "execution_count": 254,
     "metadata": {},
     "output_type": "execute_result"
    }
   ],
   "source": [
    "c1.thinking"
   ]
  },
  {
   "cell_type": "code",
   "execution_count": 255,
   "metadata": {},
   "outputs": [
    {
     "data": {
      "text/plain": [
       "'怒火中...'"
      ]
     },
     "execution_count": 255,
     "metadata": {},
     "output_type": "execute_result"
    }
   ],
   "source": [
    "t1.thinking"
   ]
  },
  {
   "cell_type": "code",
   "execution_count": null,
   "metadata": {},
   "outputs": [],
   "source": []
  },
  {
   "cell_type": "markdown",
   "metadata": {},
   "source": [
    "### 上面的两个类中, 有一部分功能是相同的\n",
    "\n",
    "居然要把相同的功能写两遍, 换你你能忍吗? 不能忍, 那么怎么办呢? 用继承"
   ]
  },
  {
   "cell_type": "code",
   "execution_count": 257,
   "metadata": {},
   "outputs": [],
   "source": [
    "class CDA人:\n",
    "    \"\"\"上面两个类中共同的部分,放入到这个父类当中\"\"\"\n",
    "    place = \"北京\" # 所有的实例都有这个共同的属性\n",
    "    feeling = '正常'\n",
    "    def __init__(self, name, age):# 这个name什么时候传呢? 实例化对象的时候传\n",
    "        self.name = name\n",
    "        self.age = age\n",
    "    def song(self, song_name):\n",
    "        return \"这个人正在唱一首歌, 歌的名字叫做<{}>\".format(song_name)\n",
    "    def introduce(self):\n",
    "        return \"大家好, 我的名字是{}, 我今年{}岁, 我来自{}\".format(self.name, self.age, self.place)"
   ]
  },
  {
   "cell_type": "code",
   "execution_count": 264,
   "metadata": {},
   "outputs": [],
   "source": [
    "class CDA学员(CDA人):# 继承CDA人类\n",
    "    # 我想给他添加一些新功能\n",
    "    def listen_class(self, status):\n",
    "        '''参数为学员的状态, status 为0 代表, 没有听课, 1代表正在听课, 2代表假装听课'''\n",
    "        if status == 0:\n",
    "            return '{}没有在听课'.format(self.name)\n",
    "        elif status == 1:\n",
    "            return '{}正在认真听课'.format(self.name)\n",
    "        elif status == 2:\n",
    "            return '{}假装在听课'.format(self.name)\n",
    "    def hit(self, one_student):\n",
    "\n",
    "        # 假如在攻击别人的时候, 会触发对方的反弹能力\n",
    "        one_student.fantan(self)\n",
    "        return \"{}成功攻击了{}\".format(self.name,  one_student.name)\n",
    "    def fantan(self , other_student):\n",
    "        self.feeling = '疼痛'\n",
    "        self.thinking = '怒火'\n",
    "        self.status = '防御'\n",
    "        \n",
    "        other_student.feeling = '疼痛'\n",
    "        print( \"{}发起了反击\".format(self.name))"
   ]
  },
  {
   "cell_type": "code",
   "execution_count": 269,
   "metadata": {},
   "outputs": [],
   "source": [
    "class CDA讲师(CDA人):\n",
    "    def teacher_class(self, status):\n",
    "        '''参数为学员的状态, status 为3 代表都在听课, 4代表有人在听课 , 5代表都没有在听课'''\n",
    "        if status == 3:\n",
    "            return '{}上课中,大家都在听课'.format(self.name)\n",
    "        elif status == 4:\n",
    "            return \"{}上课中, 有一部分人在听课\".format(self.name)\n",
    "        elif status == 5:\n",
    "            return '{}上课中, 没有人在听课'.format(self.name)\n",
    "    def hit(self, one_student):\n",
    "        one_student.feeling = '严重受伤'\n",
    "        one_student.thinking = \"胆怯\"\n",
    "        self.thinking = '怒火中...'"
   ]
  },
  {
   "cell_type": "code",
   "execution_count": 265,
   "metadata": {},
   "outputs": [],
   "source": [
    "c1 = CDA学员('张三',23)"
   ]
  },
  {
   "cell_type": "code",
   "execution_count": 266,
   "metadata": {},
   "outputs": [
    {
     "data": {
      "text/plain": [
       "'这个人正在唱一首歌, 歌的名字叫做<大家好>'"
      ]
     },
     "execution_count": 266,
     "metadata": {},
     "output_type": "execute_result"
    }
   ],
   "source": [
    "c1.song('大家好')"
   ]
  },
  {
   "cell_type": "code",
   "execution_count": 267,
   "metadata": {},
   "outputs": [
    {
     "data": {
      "text/plain": [
       "'大家好, 我的名字是张三, 我今年23岁, 我来自北京'"
      ]
     },
     "execution_count": 267,
     "metadata": {},
     "output_type": "execute_result"
    }
   ],
   "source": [
    "c1.introduce()"
   ]
  },
  {
   "cell_type": "code",
   "execution_count": 268,
   "metadata": {},
   "outputs": [
    {
     "data": {
      "text/plain": [
       "'张三没有在听课'"
      ]
     },
     "execution_count": 268,
     "metadata": {},
     "output_type": "execute_result"
    }
   ],
   "source": [
    "c1.listen_class(0)"
   ]
  },
  {
   "cell_type": "code",
   "execution_count": 270,
   "metadata": {},
   "outputs": [],
   "source": [
    "c4 =CDA讲师('王五',44)"
   ]
  },
  {
   "cell_type": "code",
   "execution_count": 271,
   "metadata": {},
   "outputs": [
    {
     "data": {
      "text/plain": [
       "'大家好, 我的名字是王五, 我今年44岁, 我来自北京'"
      ]
     },
     "execution_count": 271,
     "metadata": {},
     "output_type": "execute_result"
    }
   ],
   "source": [
    "c4.introduce()"
   ]
  },
  {
   "cell_type": "code",
   "execution_count": null,
   "metadata": {},
   "outputs": [],
   "source": []
  },
  {
   "cell_type": "code",
   "execution_count": 272,
   "metadata": {},
   "outputs": [
    {
     "data": {
      "text/plain": [
       "'王五上课中,大家都在听课'"
      ]
     },
     "execution_count": 272,
     "metadata": {},
     "output_type": "execute_result"
    }
   ],
   "source": [
    "c4.teacher_class(3)"
   ]
  },
  {
   "cell_type": "code",
   "execution_count": null,
   "metadata": {},
   "outputs": [],
   "source": []
  },
  {
   "cell_type": "code",
   "execution_count": null,
   "metadata": {},
   "outputs": [],
   "source": []
  },
  {
   "cell_type": "code",
   "execution_count": 102,
   "metadata": {},
   "outputs": [],
   "source": [
    "class CDA人:\n",
    "    '''说明:这是一个用于记录CDA学员的类\n",
    "    参数说明:目前还没有参数'''\n",
    "    place = \"深圳\" # 所有的实例都有这个共同的属性\n",
    "    feeling = '正常'\n",
    "    \n",
    "    def __init__(self, name, age):# 这个name什么时候传呢? 实例化对象的时候传\n",
    "        self.name = name\n",
    "        self.age = age\n",
    "    def song(self, song_name):\n",
    "        return \"这个人正在唱一首歌, 歌的名字叫做<{}>\".format(song_name)\n",
    "    def introduce(self):\n",
    "        return \"大家好, 我的名字是{}, 我今年{}岁, 我来自{}\".format(self.name, self.age, self.place)\n"
   ]
  },
  {
   "cell_type": "code",
   "execution_count": 103,
   "metadata": {},
   "outputs": [],
   "source": [
    "class CDA学员(CDA人):\n",
    "    pass"
   ]
  },
  {
   "cell_type": "code",
   "execution_count": 104,
   "metadata": {},
   "outputs": [],
   "source": [
    "c1 = CDA学员(\"张三\" , 25)"
   ]
  },
  {
   "cell_type": "code",
   "execution_count": 106,
   "metadata": {},
   "outputs": [
    {
     "data": {
      "text/plain": [
       "'这个人正在唱一首歌, 歌的名字叫做<打铁的人>'"
      ]
     },
     "execution_count": 106,
     "metadata": {},
     "output_type": "execute_result"
    }
   ],
   "source": [
    "c1.song('打铁的人')"
   ]
  },
  {
   "cell_type": "code",
   "execution_count": 107,
   "metadata": {},
   "outputs": [
    {
     "data": {
      "text/plain": [
       "'大家好, 我的名字是张三, 我今年25岁, 我来自深圳'"
      ]
     },
     "execution_count": 107,
     "metadata": {},
     "output_type": "execute_result"
    }
   ],
   "source": [
    "c1.introduce()"
   ]
  },
  {
   "cell_type": "code",
   "execution_count": 108,
   "metadata": {},
   "outputs": [],
   "source": [
    "class CDA学员(CDA人):\n",
    "    def listen_class(self, status):\n",
    "        '''参数为学员的状态, status 为0 代表, 没有听课, 1代表正在听课, 2代表假装听课'''\n",
    "        if status == 0:\n",
    "            return '{}没有在听课'.format(self.name)\n",
    "        elif status == 1:\n",
    "            return '{}正在认真听课'.format(self.name)\n",
    "        elif status == 2:\n",
    "            return '{}假装在听课'.format(self.name)\n",
    "        \n",
    "    def sleep(self, status):\n",
    "        if status == 'yes':\n",
    "            return \"{}正在睡觉\".format(self.name)\n",
    "        elif status == 'no':\n",
    "            return \"{}很清醒\".format(self.name)\n",
    "        else:\n",
    "            return \"{}正在半梦半醒之中\".format(self.name)\n",
    "        \n",
    "    def hit(self, one_student):\n",
    "\n",
    "        # 假如在攻击别人的时候, 会触发对方的反弹能力\n",
    "        one_student.fantan(self)\n",
    "        return \"{}成功攻击了{}\".format(self.name,  one_student.name)\n",
    "    def fantan(self , other_student):\n",
    "        self.feeling = '疼痛'\n",
    "        self.thinking = '怒火'\n",
    "        self.status = '防御'\n",
    "        \n",
    "        other_student.feeling = '疼痛'\n",
    "        print( \"{}发起了反击\".format(self.name))"
   ]
  },
  {
   "cell_type": "code",
   "execution_count": 109,
   "metadata": {},
   "outputs": [],
   "source": [
    "c1 = CDA学员('令狐冲' , 22)\n",
    "c2 = CDA学员('岳不群' , 33)"
   ]
  },
  {
   "cell_type": "code",
   "execution_count": 110,
   "metadata": {},
   "outputs": [
    {
     "data": {
      "text/plain": [
       "'大家好, 我的名字是令狐冲, 我今年22岁, 我来自深圳'"
      ]
     },
     "execution_count": 110,
     "metadata": {},
     "output_type": "execute_result"
    }
   ],
   "source": [
    "c1.introduce()"
   ]
  },
  {
   "cell_type": "code",
   "execution_count": 111,
   "metadata": {},
   "outputs": [
    {
     "data": {
      "text/plain": [
       "'令狐冲正在睡觉'"
      ]
     },
     "execution_count": 111,
     "metadata": {},
     "output_type": "execute_result"
    }
   ],
   "source": [
    "c1.sleep('yes')"
   ]
  },
  {
   "cell_type": "code",
   "execution_count": null,
   "metadata": {},
   "outputs": [],
   "source": []
  },
  {
   "cell_type": "code",
   "execution_count": 114,
   "metadata": {},
   "outputs": [],
   "source": [
    "class CDA讲师(CDA人):\n",
    "\n",
    "    def teacher_class(self, status):\n",
    "        '''参数为学员的状态, status 为3 代表都在听课, 4代表有人在听课 , 5代表都没有在听课'''\n",
    "        if status == 3:\n",
    "            return '{}上课中,大家都在听课'.format(self.name)\n",
    "        elif status == 4:\n",
    "            return \"{}上课中, 有一部分人在听课\".format(self.name)\n",
    "        elif status == 5:\n",
    "            return '{}上课中, 没有人在听课'.format(self.name)\n",
    "\n",
    "    def hit(self, one_student):\n",
    "        one_student.feeling = '严重受伤'\n",
    "        one_student.thinking = \"胆怯\"\n",
    "        self.thinking = '怒火中...'"
   ]
  },
  {
   "cell_type": "code",
   "execution_count": 116,
   "metadata": {},
   "outputs": [],
   "source": [
    "t1 = CDA讲师('少林方丈' , 46)"
   ]
  },
  {
   "cell_type": "code",
   "execution_count": 117,
   "metadata": {},
   "outputs": [
    {
     "data": {
      "text/plain": [
       "'少林方丈'"
      ]
     },
     "execution_count": 117,
     "metadata": {},
     "output_type": "execute_result"
    }
   ],
   "source": [
    "t1.name"
   ]
  },
  {
   "cell_type": "code",
   "execution_count": 119,
   "metadata": {},
   "outputs": [
    {
     "data": {
      "text/plain": [
       "46"
      ]
     },
     "execution_count": 119,
     "metadata": {},
     "output_type": "execute_result"
    }
   ],
   "source": [
    "t1.age"
   ]
  },
  {
   "cell_type": "code",
   "execution_count": 120,
   "metadata": {},
   "outputs": [
    {
     "data": {
      "text/plain": [
       "'大家好, 我的名字是少林方丈, 我今年46岁, 我来自深圳'"
      ]
     },
     "execution_count": 120,
     "metadata": {},
     "output_type": "execute_result"
    }
   ],
   "source": [
    "t1.introduce()"
   ]
  },
  {
   "cell_type": "code",
   "execution_count": 121,
   "metadata": {},
   "outputs": [],
   "source": [
    "t1.hit(c2)"
   ]
  },
  {
   "cell_type": "code",
   "execution_count": 122,
   "metadata": {},
   "outputs": [
    {
     "data": {
      "text/plain": [
       "'正常'"
      ]
     },
     "execution_count": 122,
     "metadata": {},
     "output_type": "execute_result"
    }
   ],
   "source": [
    "t1.feeling"
   ]
  },
  {
   "cell_type": "code",
   "execution_count": 123,
   "metadata": {},
   "outputs": [
    {
     "data": {
      "text/plain": [
       "'怒火中...'"
      ]
     },
     "execution_count": 123,
     "metadata": {},
     "output_type": "execute_result"
    }
   ],
   "source": [
    "t1.thinking"
   ]
  },
  {
   "cell_type": "code",
   "execution_count": 124,
   "metadata": {},
   "outputs": [
    {
     "data": {
      "text/plain": [
       "'严重受伤'"
      ]
     },
     "execution_count": 124,
     "metadata": {},
     "output_type": "execute_result"
    }
   ],
   "source": [
    "c2.feeling"
   ]
  },
  {
   "cell_type": "code",
   "execution_count": 125,
   "metadata": {},
   "outputs": [
    {
     "data": {
      "text/plain": [
       "'胆怯'"
      ]
     },
     "execution_count": 125,
     "metadata": {},
     "output_type": "execute_result"
    }
   ],
   "source": [
    "c2.thinking"
   ]
  },
  {
   "cell_type": "code",
   "execution_count": null,
   "metadata": {},
   "outputs": [],
   "source": []
  },
  {
   "cell_type": "code",
   "execution_count": null,
   "metadata": {},
   "outputs": [],
   "source": []
  },
  {
   "cell_type": "code",
   "execution_count": null,
   "metadata": {},
   "outputs": [],
   "source": []
  },
  {
   "cell_type": "code",
   "execution_count": null,
   "metadata": {},
   "outputs": [],
   "source": []
  },
  {
   "cell_type": "code",
   "execution_count": null,
   "metadata": {},
   "outputs": [],
   "source": []
  },
  {
   "cell_type": "markdown",
   "metadata": {},
   "source": [
    "### 方法重写\n",
    "\n",
    "如果你的父类方法的功能不能满足你的需求，你可以在子类重写你父类的方法，实例如下："
   ]
  },
  {
   "cell_type": "code",
   "execution_count": 274,
   "metadata": {},
   "outputs": [],
   "source": [
    "class CDA人:\n",
    "    '''说明:这是一个用于记录CDA学员的类\n",
    "    参数说明:目前还没有参数'''\n",
    "    place = \"深圳\" # 所有的实例都有这个共同的属性\n",
    "    feeling = '正常'\n",
    "    \n",
    "    def __init__(self, name, age):# 这个name什么时候传呢? 实例化对象的时候传\n",
    "        self.name = name\n",
    "        self.age = age\n",
    "    def song(self, song_name):\n",
    "        return \"这个人正在唱一首歌, 歌的名字叫做<{}>\".format(song_name)\n",
    "    def introduce(self):\n",
    "        return \"大家好, 我的名字是{}, 我今年{}岁, 我来自{}\".format(self.name, self.age, self.place)\n",
    "\n"
   ]
  },
  {
   "cell_type": "code",
   "execution_count": 275,
   "metadata": {},
   "outputs": [],
   "source": [
    "class CDA学员(CDA人):\n",
    "    # 在子类里面吗如果有和父类名称相同的方法,那么子类的方法,会覆盖掉父类的方法\n",
    "    def __init__(self,name,age , jineng):\n",
    "        self.name = name\n",
    "        self.age = age\n",
    "        self.jineng = jineng\n",
    "    \n",
    "    def listen_class(self, status):\n",
    "        '''参数为学员的状态, status 为0 代表, 没有听课, 1代表正在听课, 2代表假装听课'''\n",
    "        if status == 0:\n",
    "            return '{}没有在听课'.format(self.name)\n",
    "        elif status == 1:\n",
    "            return '{}正在认真听课'.format(self.name)\n",
    "        elif status == 2:\n",
    "            return '{}假装在听课'.format(self.name)\n",
    "        \n",
    "    def sleep(self, status):\n",
    "        if status == 'yes':\n",
    "            return \"{}正在睡觉\".format(self.name)\n",
    "        elif status == 'no':\n",
    "            return \"{}很清醒\".format(self.name)\n",
    "        else:\n",
    "            return \"{}正在半梦半醒之中\".format(self.name)"
   ]
  },
  {
   "cell_type": "code",
   "execution_count": 276,
   "metadata": {},
   "outputs": [],
   "source": [
    "c1 = CDA学员('令狐冲',32, '易筋经')"
   ]
  },
  {
   "cell_type": "code",
   "execution_count": 277,
   "metadata": {},
   "outputs": [
    {
     "data": {
      "text/plain": [
       "'易筋经'"
      ]
     },
     "execution_count": 277,
     "metadata": {},
     "output_type": "execute_result"
    }
   ],
   "source": [
    "c1.jineng"
   ]
  },
  {
   "cell_type": "code",
   "execution_count": null,
   "metadata": {},
   "outputs": [],
   "source": []
  },
  {
   "cell_type": "code",
   "execution_count": null,
   "metadata": {},
   "outputs": [],
   "source": []
  },
  {
   "cell_type": "code",
   "execution_count": null,
   "metadata": {},
   "outputs": [],
   "source": []
  },
  {
   "cell_type": "code",
   "execution_count": null,
   "metadata": {},
   "outputs": [],
   "source": []
  },
  {
   "cell_type": "code",
   "execution_count": null,
   "metadata": {},
   "outputs": [],
   "source": []
  },
  {
   "cell_type": "code",
   "execution_count": 278,
   "metadata": {},
   "outputs": [],
   "source": [
    "class CDA乐队队长(CDA人):\n",
    "    def song(self, song_name):\n",
    "        return \"乐队队长正在领唱一首歌, 歌的名字叫做<{}>\".format(song_name)\n"
   ]
  },
  {
   "cell_type": "code",
   "execution_count": 279,
   "metadata": {},
   "outputs": [],
   "source": [
    "y1 = CDA乐队队长('李雷' , 24)"
   ]
  },
  {
   "cell_type": "code",
   "execution_count": 280,
   "metadata": {},
   "outputs": [
    {
     "data": {
      "text/plain": [
       "'乐队队长正在领唱一首歌, 歌的名字叫做<最炫民族风>'"
      ]
     },
     "execution_count": 280,
     "metadata": {},
     "output_type": "execute_result"
    }
   ],
   "source": [
    "y1.song('最炫民族风')"
   ]
  },
  {
   "cell_type": "code",
   "execution_count": null,
   "metadata": {},
   "outputs": [],
   "source": []
  },
  {
   "cell_type": "markdown",
   "metadata": {},
   "source": [
    "再比如, 我们注意到, 在CDA学员和CDA讲师中都有hit的功能, 只是他们的hit功能有所区别.\n",
    "\n",
    "我们可以将hit功能也放入到CDA人当中, 然后对于和该功能不相同子类, 去重写这个方法."
   ]
  },
  {
   "cell_type": "code",
   "execution_count": 130,
   "metadata": {},
   "outputs": [],
   "source": [
    "class CDA人:\n",
    "    '''说明:这是一个用于记录CDA学员的类\n",
    "    参数说明:目前还没有参数'''\n",
    "    place = \"深圳\" # 所有的实例都有这个共同的属性\n",
    "    feeling = '正常'\n",
    "    \n",
    "    def __init__(self, name, age):# 这个name什么时候传呢? 实例化对象的时候传\n",
    "        self.name = name\n",
    "        self.age = age\n",
    "    def song(self, song_name):\n",
    "        return \"这个人正在唱一首歌, 歌的名字叫做<{}>\".format(song_name)\n",
    "    def introduce(self):\n",
    "        return \"大家好, 我的名字是{}, 我今年{}岁, 我来自{}\".format(self.name, self.age, self.place)\n",
    "    def hit(self, one_student):\n",
    "\n",
    "        # 假如在攻击别人的时候, 会触发对方的反弹能力\n",
    "        one_student.fantan(self)\n",
    "        return \"{}成功攻击了{}\".format(self.name,  one_student.name)\n"
   ]
  },
  {
   "cell_type": "code",
   "execution_count": 131,
   "metadata": {},
   "outputs": [],
   "source": [
    "class CDA学员(CDA人):\n",
    "    def listen_class(self, status):\n",
    "        '''参数为学员的状态, status 为0 代表, 没有听课, 1代表正在听课, 2代表假装听课'''\n",
    "        if status == 0:\n",
    "            return '{}没有在听课'.format(self.name)\n",
    "        elif status == 1:\n",
    "            return '{}正在认真听课'.format(self.name)\n",
    "        elif status == 2:\n",
    "            return '{}假装在听课'.format(self.name)\n",
    "        \n",
    "    def sleep(self, status):\n",
    "        if status == 'yes':\n",
    "            return \"{}正在睡觉\".format(self.name)\n",
    "        elif status == 'no':\n",
    "            return \"{}很清醒\".format(self.name)\n",
    "        else:\n",
    "            return \"{}正在半梦半醒之中\".format(self.name)\n",
    "    \n",
    "    def fantan(self , other_student):\n",
    "        self.feeling = '疼痛'\n",
    "        self.thinking = '怒火'\n",
    "        self.status = '防御'\n",
    "        \n",
    "        other_student.feeling = '疼痛'\n",
    "        print( \"{}发起了反击\".format(self.name))"
   ]
  },
  {
   "cell_type": "code",
   "execution_count": null,
   "metadata": {},
   "outputs": [],
   "source": []
  },
  {
   "cell_type": "code",
   "execution_count": 132,
   "metadata": {},
   "outputs": [],
   "source": [
    "class CDA讲师(CDA人):\n",
    "\n",
    "    def teacher_class(self, status):\n",
    "        '''参数为学员的状态, status 为3 代表都在听课, 4代表有人在听课 , 5代表都没有在听课'''\n",
    "        if status == 3:\n",
    "            return '{}上课中,大家都在听课'.format(self.name)\n",
    "        elif status == 4:\n",
    "            return \"{}上课中, 有一部分人在听课\".format(self.name)\n",
    "        elif status == 5:\n",
    "            return '{}上课中, 没有人在听课'.format(self.name)\n",
    "\n",
    "    def hit(self, one_student):\n",
    "        one_student.feeling = '严重受伤'\n",
    "        one_student.thinking = \"胆怯\"\n",
    "        self.thinking = '怒火中...'"
   ]
  },
  {
   "cell_type": "code",
   "execution_count": null,
   "metadata": {},
   "outputs": [],
   "source": []
  },
  {
   "cell_type": "code",
   "execution_count": null,
   "metadata": {},
   "outputs": [],
   "source": []
  },
  {
   "cell_type": "code",
   "execution_count": null,
   "metadata": {},
   "outputs": [],
   "source": []
  },
  {
   "cell_type": "code",
   "execution_count": null,
   "metadata": {
    "collapsed": true
   },
   "outputs": [],
   "source": []
  },
  {
   "cell_type": "code",
   "execution_count": null,
   "metadata": {
    "collapsed": true
   },
   "outputs": [],
   "source": []
  },
  {
   "cell_type": "markdown",
   "metadata": {},
   "source": [
    "## 练习 \n",
    "\n",
    "写一个羊肉串的类"
   ]
  },
  {
   "cell_type": "code",
   "execution_count": null,
   "metadata": {},
   "outputs": [],
   "source": []
  },
  {
   "cell_type": "code",
   "execution_count": null,
   "metadata": {},
   "outputs": [],
   "source": [
    "# 写一个数据库操作的类: 不管对数据库做什么操作, 我都有这个对象去帮我实现"
   ]
  },
  {
   "cell_type": "code",
   "execution_count": null,
   "metadata": {},
   "outputs": [],
   "source": []
  },
  {
   "cell_type": "code",
   "execution_count": null,
   "metadata": {},
   "outputs": [],
   "source": []
  },
  {
   "cell_type": "code",
   "execution_count": null,
   "metadata": {},
   "outputs": [],
   "source": []
  },
  {
   "cell_type": "code",
   "execution_count": null,
   "metadata": {},
   "outputs": [],
   "source": []
  }
 ],
 "metadata": {
  "kernelspec": {
   "display_name": "Python 3",
   "language": "python",
   "name": "python3"
  },
  "language_info": {
   "codemirror_mode": {
    "name": "ipython",
    "version": 3
   },
   "file_extension": ".py",
   "mimetype": "text/x-python",
   "name": "python",
   "nbconvert_exporter": "python",
   "pygments_lexer": "ipython3",
   "version": "3.7.4"
  },
  "toc": {
   "base_numbering": 1,
   "nav_menu": {},
   "number_sections": true,
   "sideBar": true,
   "skip_h1_title": false,
   "title_cell": "Table of Contents",
   "title_sidebar": "Contents",
   "toc_cell": true,
   "toc_position": {
    "height": "calc(100% - 180px)",
    "left": "10px",
    "top": "150px",
    "width": "165px"
   },
   "toc_section_display": true,
   "toc_window_display": true
  }
 },
 "nbformat": 4,
 "nbformat_minor": 2
}
