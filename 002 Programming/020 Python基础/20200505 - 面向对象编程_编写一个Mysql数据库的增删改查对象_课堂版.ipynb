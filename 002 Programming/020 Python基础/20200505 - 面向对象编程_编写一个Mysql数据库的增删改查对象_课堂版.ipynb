{
 "cells": [
  {
   "cell_type": "markdown",
   "metadata": {
    "toc": true
   },
   "source": [
    "<h1>目录<span class=\"tocSkip\"></span></h1>\n",
    "<div class=\"toc\"><ul class=\"toc-item\"><li><span><a href=\"#构建初始化方法和select方法\" data-toc-modified-id=\"构建初始化方法和select方法-1\"><span class=\"toc-item-num\">1&nbsp;&nbsp;</span>构建初始化方法和select方法</a></span></li><li><span><a href=\"#添加创建表格create方法\" data-toc-modified-id=\"添加创建表格create方法-2\"><span class=\"toc-item-num\">2&nbsp;&nbsp;</span>添加创建表格create方法</a></span></li><li><span><a href=\"#添加插入数据insert方法\" data-toc-modified-id=\"添加插入数据insert方法-3\"><span class=\"toc-item-num\">3&nbsp;&nbsp;</span>添加插入数据insert方法</a></span></li><li><span><a href=\"#添加删除数据drop和更新数据updata功能\" data-toc-modified-id=\"添加删除数据drop和更新数据updata功能-4\"><span class=\"toc-item-num\">4&nbsp;&nbsp;</span>添加删除数据drop和更新数据updata功能</a></span></li><li><span><a href=\"#完成代码\" data-toc-modified-id=\"完成代码-5\"><span class=\"toc-item-num\">5&nbsp;&nbsp;</span>完成代码</a></span></li></ul></div>"
   ]
  },
  {
   "cell_type": "markdown",
   "metadata": {},
   "source": [
    "# 用class类对mysql功能进行封装"
   ]
  },
  {
   "cell_type": "markdown",
   "metadata": {},
   "source": [
    "本课件继续修改思路:\n",
    "\n",
    "将几个不同的功能的修改,变成继承的方式.\n",
    "\n",
    "实践知识点: 方法重写."
   ]
  },
  {
   "cell_type": "markdown",
   "metadata": {},
   "source": [
    "## 构建初始化方法和select方法"
   ]
  },
  {
   "cell_type": "markdown",
   "metadata": {},
   "source": [
    "mysql数据库的操作非常复杂,不易于使用.\n",
    "\n",
    "设计一个Mysql数据库操作的类, 可以帮我们实现数据库操作的各种功能, 增删改查\n",
    "\n",
    "我们直接用这个类,就可以方便的实现, 各种对数据库的操作"
   ]
  },
  {
   "cell_type": "code",
   "execution_count": 8,
   "metadata": {},
   "outputs": [],
   "source": [
    "# 连接数据库的功能\n",
    "class MysqlOperating:\n",
    "    # 输出化方法, 当对象被实例化的时候, 就自动建立好和数据库的连接了\n",
    "    def __init__(self , host ,user,password,database,charset,port = 3306):        \n",
    "        import pymysql\n",
    "        self.connect = pymysql.connect(host = host,\n",
    "                         port=port,\n",
    "                         user = user,\n",
    "                         password= password,\n",
    "                         database = database,\n",
    "                         charset = charset)\n",
    "        # 光标也直接构建好\n",
    "        self.cursor = self.connect.cursor()\n",
    "        print(self.cursor)\n",
    "    def create(self, table,*args ):\n",
    "        \"\"\"创建表格功能\n",
    "        table:表名\n",
    "        *args: 每一个建立的字段及数据类型\"\"\"\n",
    "        columns = ','.join(args)\n",
    "        sql = \"create table {} ({})\".format(table,columns)\n",
    "        print(sql)\n",
    "        self.cursor.execute(sql)\n",
    "        return '创建'+table+'成功'"
   ]
  },
  {
   "cell_type": "code",
   "execution_count": 9,
   "metadata": {},
   "outputs": [
    {
     "name": "stdout",
     "output_type": "stream",
     "text": [
      "<pymysql.cursors.Cursor object at 0x1137c21d0>\n"
     ]
    }
   ],
   "source": [
    "mysql = MysqlOperating(host = \"49.233.10.201\", # 换成你自己的IP\n",
    "                      user='cda0329',\n",
    "                      password='123456',\n",
    "                      database='pythongo',\n",
    "                      charset='utf8',\n",
    "                      port = 3306)"
   ]
  },
  {
   "cell_type": "code",
   "execution_count": 10,
   "metadata": {},
   "outputs": [
    {
     "name": "stdout",
     "output_type": "stream",
     "text": [
      "create table Student (id varchar(10),name nvarchar(10),age int,sex nvarchar(10))\n"
     ]
    },
    {
     "name": "stderr",
     "output_type": "stream",
     "text": [
      "/Users/mac/opt/anaconda3/lib/python3.7/site-packages/pymysql/cursors.py:170: Warning: (3720, 'NATIONAL/NCHAR/NVARCHAR implies the character set UTF8MB3, which will be replaced by UTF8MB4 in a future release. Please consider using CHAR(x) CHARACTER SET UTF8MB4 in order to be unambiguous.')\n",
      "  result = self._query(query)\n"
     ]
    },
    {
     "data": {
      "text/plain": [
       "'创建Student成功'"
      ]
     },
     "execution_count": 10,
     "metadata": {},
     "output_type": "execute_result"
    }
   ],
   "source": [
    "mysql.create('Student','id varchar(10)','name nvarchar(10)',\n",
    "            'age int','sex nvarchar(10)')"
   ]
  },
  {
   "cell_type": "code",
   "execution_count": null,
   "metadata": {},
   "outputs": [],
   "source": []
  },
  {
   "cell_type": "code",
   "execution_count": 22,
   "metadata": {},
   "outputs": [],
   "source": [
    "class MysqlOperatingV2(MysqlOperating):# 集成上一个版本的功能\n",
    "    # 写一个插入功能\n",
    "    def insert(self , table, data ):\n",
    "        \"\"\"插入数据\n",
    "        table: 表名\n",
    "        data: 数据二维表格式\"\"\"\n",
    "        # %s 的个数有data里面有几列决定的\n",
    "        n = len(data[0])\n",
    "        s = ','.join([\"%s\" for i in range(n)])\n",
    "        self.cursor.executemany(\"\"\"insert into {} values({})\"\"\".format(table,s),data)\n",
    "        # 提交\n",
    "        self.connect.commit()"
   ]
  },
  {
   "cell_type": "code",
   "execution_count": 23,
   "metadata": {},
   "outputs": [
    {
     "name": "stdout",
     "output_type": "stream",
     "text": [
      "<pymysql.cursors.Cursor object at 0x1138a3090>\n"
     ]
    }
   ],
   "source": [
    "mysql = MysqlOperatingV2(host = \"49.233.10.201\", # 换成你自己的IP\n",
    "                      user='cda0329',\n",
    "                      password='123456',\n",
    "                      database='pythongo',\n",
    "                      charset='utf8',\n",
    "                      port = 3306)"
   ]
  },
  {
   "cell_type": "code",
   "execution_count": 24,
   "metadata": {},
   "outputs": [],
   "source": [
    "data = [['001','何炅','50','男'],\n",
    "        ['002','撒贝宁','44','男'],\n",
    "        ['003','王鸥','36','女'],\n",
    "        ['004','鬼鬼','31','女'],\n",
    "       ]"
   ]
  },
  {
   "cell_type": "code",
   "execution_count": 25,
   "metadata": {},
   "outputs": [],
   "source": [
    "mysql.insert('Student',data)"
   ]
  },
  {
   "cell_type": "code",
   "execution_count": 26,
   "metadata": {
    "scrolled": true
   },
   "outputs": [
    {
     "name": "stdout",
     "output_type": "stream",
     "text": [
      "create table Studentqq (id varchar(10),name nvarchar(10),age int,sex nvarchar(10))\n"
     ]
    },
    {
     "name": "stderr",
     "output_type": "stream",
     "text": [
      "/Users/mac/opt/anaconda3/lib/python3.7/site-packages/pymysql/cursors.py:170: Warning: (3720, 'NATIONAL/NCHAR/NVARCHAR implies the character set UTF8MB3, which will be replaced by UTF8MB4 in a future release. Please consider using CHAR(x) CHARACTER SET UTF8MB4 in order to be unambiguous.')\n",
      "  result = self._query(query)\n"
     ]
    },
    {
     "data": {
      "text/plain": [
       "'创建Studentqq成功'"
      ]
     },
     "execution_count": 26,
     "metadata": {},
     "output_type": "execute_result"
    }
   ],
   "source": [
    "mysql.create('Studentqq','id varchar(10)','name nvarchar(10)','age int','sex nvarchar(10)')"
   ]
  },
  {
   "cell_type": "code",
   "execution_count": null,
   "metadata": {},
   "outputs": [],
   "source": []
  },
  {
   "cell_type": "code",
   "execution_count": null,
   "metadata": {},
   "outputs": [],
   "source": []
  },
  {
   "cell_type": "code",
   "execution_count": null,
   "metadata": {},
   "outputs": [],
   "source": []
  },
  {
   "cell_type": "code",
   "execution_count": null,
   "metadata": {},
   "outputs": [],
   "source": []
  },
  {
   "cell_type": "code",
   "execution_count": null,
   "metadata": {},
   "outputs": [],
   "source": []
  },
  {
   "cell_type": "code",
   "execution_count": null,
   "metadata": {},
   "outputs": [],
   "source": []
  },
  {
   "cell_type": "code",
   "execution_count": null,
   "metadata": {},
   "outputs": [],
   "source": []
  },
  {
   "cell_type": "code",
   "execution_count": 5,
   "metadata": {},
   "outputs": [],
   "source": [
    "class MysqlConnection:\n",
    "    def __init__(self,ip,user,password,database,charset,port = 3306):\n",
    "        import pymysql\n",
    "        self.ip = ip\n",
    "        self.port = port\n",
    "        self.user = user\n",
    "        self.password = password\n",
    "        self.database = database\n",
    "        self.charset = charset\n",
    "        self.connect = pymysql.connect(host=ip, \n",
    "                          port=port, \n",
    "                          user=user,\n",
    "                          password=password, \n",
    "                          database=database,\n",
    "                          charset=charset )\n",
    "        self.cursor = self.connect.cursor()\n",
    "    def select(self,col,table, condition=None):\n",
    "        \"\"\"查询条件\"\"\"\n",
    "        sql = \"select \"+col+\" from \"+table\n",
    "        # 判断是否有传递进来kwargs,也就是过滤条件\n",
    "        if condition:\n",
    "            sql+=\" where \" + condition\n",
    "        # 执行代码\n",
    "        self.cursor.execute(sql)\n",
    "        self.data = self.cursor.fetchall()\n",
    "        return self.data"
   ]
  },
  {
   "cell_type": "code",
   "execution_count": 6,
   "metadata": {},
   "outputs": [],
   "source": [
    "mysql = MysqlConnection(\"117.51.137.136\",'root','0123456789','pythongo',\n",
    "                   charset='utf8',)"
   ]
  },
  {
   "cell_type": "code",
   "execution_count": 21,
   "metadata": {},
   "outputs": [
    {
     "data": {
      "text/plain": [
       "(('张三', 700, 1200),\n",
       " ('李四', 1201, 1400),\n",
       " ('王五', 1401, 2000),\n",
       " ('赵六', 2001, 3000),\n",
       " ('孙七', 3001, 9999))"
      ]
     },
     "execution_count": 21,
     "metadata": {},
     "output_type": "execute_result"
    }
   ],
   "source": [
    "data = mysql.select('*','salgrade')\n",
    "data"
   ]
  },
  {
   "cell_type": "code",
   "execution_count": 9,
   "metadata": {},
   "outputs": [
    {
     "data": {
      "text/plain": [
       "(('王五',), ('赵六',), ('孙七',))"
      ]
     },
     "execution_count": 9,
     "metadata": {},
     "output_type": "execute_result"
    }
   ],
   "source": [
    "data = mysql.select('name','salgrade','basic>1300')\n",
    "data"
   ]
  },
  {
   "cell_type": "code",
   "execution_count": 14,
   "metadata": {},
   "outputs": [
    {
     "data": {
      "text/plain": [
       "(('张三', 700, 1200), ('李四', 1201, 1400), ('王五', 1401, 2000), ('赵六', 2001, 3000))"
      ]
     },
     "execution_count": 14,
     "metadata": {},
     "output_type": "execute_result"
    }
   ],
   "source": [
    "data = mysql.select('*','salgrade','basic<2500')\n",
    "data"
   ]
  },
  {
   "cell_type": "code",
   "execution_count": 22,
   "metadata": {},
   "outputs": [
    {
     "data": {
      "text/plain": [
       "(('王五', 1401, 2000), ('赵六', 2001, 3000))"
      ]
     },
     "execution_count": 22,
     "metadata": {},
     "output_type": "execute_result"
    }
   ],
   "source": [
    "data = mysql.select('*','salgrade','basic<2500 and basic > 1300')\n",
    "data"
   ]
  },
  {
   "cell_type": "code",
   "execution_count": 24,
   "metadata": {},
   "outputs": [
    {
     "data": {
      "text/plain": [
       "(('王五', 1401, 2000), ('赵六', 2001, 3000))"
      ]
     },
     "execution_count": 24,
     "metadata": {},
     "output_type": "execute_result"
    }
   ],
   "source": [
    "mysql.select('*','salgrade','basic<2500 and basic > 1300')"
   ]
  },
  {
   "cell_type": "code",
   "execution_count": 25,
   "metadata": {},
   "outputs": [
    {
     "data": {
      "text/plain": [
       "(('王五', 1401, 2000), ('赵六', 2001, 3000))"
      ]
     },
     "execution_count": 25,
     "metadata": {},
     "output_type": "execute_result"
    }
   ],
   "source": [
    "mysql.data"
   ]
  },
  {
   "cell_type": "markdown",
   "metadata": {},
   "source": [
    "## 添加创建表格create方法"
   ]
  },
  {
   "cell_type": "code",
   "execution_count": 35,
   "metadata": {},
   "outputs": [],
   "source": [
    "class MysqlConnection:\n",
    "    def __init__(self,ip,user,password,database,charset,port = 3306):\n",
    "        import pymysql\n",
    "        self.ip = ip\n",
    "        self.port = port\n",
    "        self.user = user\n",
    "        self.password = password\n",
    "        self.database = database\n",
    "        self.charset = charset\n",
    "        self.connect = pymysql.connect(host=ip, \n",
    "                          port=port, \n",
    "                          user=user,\n",
    "                          password=password, \n",
    "                          database=database,\n",
    "                          charset=charset )\n",
    "        self.cursor = self.connect.cursor()\n",
    "    def select(self,col,table,condition=None):\n",
    "        \"\"\"查询条件\"\"\"\n",
    "        sql = \"select \"+col+\" from \"+table\n",
    "        # 判断是否有传递进来kwargs,也就是过滤条件\n",
    "        if condition:\n",
    "            sql+=\" where \" + condition\n",
    "        # 执行代码\n",
    "        self.cursor.execute(sql)\n",
    "        self.data = self.cursor.fetchall()\n",
    "        return self.data\n",
    "    def create(self,table,*args):\n",
    "        \"\"\"创建表格\"\"\"\n",
    "        # 创建表格\n",
    "#         sql = \"create table Student(Sid varchar(10),Sname nvarchar(10),Sage datetime,Ssex nvarchar(10))\"\n",
    "        columns = ','.join(args)\n",
    "        print(columns)\n",
    "        sql = \"create table {} ({})\".format(table,columns)\n",
    "        print(sql)\n",
    "        self.cursor.execute(sql)\n",
    "        "
   ]
  },
  {
   "cell_type": "code",
   "execution_count": 36,
   "metadata": {},
   "outputs": [],
   "source": [
    "mysql = MysqlConnection(\"117.51.137.136\",'root','0123456789','pythongo',\n",
    "                   charset='utf8',)"
   ]
  },
  {
   "cell_type": "code",
   "execution_count": 37,
   "metadata": {
    "collapsed": true
   },
   "outputs": [
    {
     "name": "stdout",
     "output_type": "stream",
     "text": [
      "sid varchar(10),sname varchar(10),sage datetime,ssex nvarchar(10)\n",
      "create table student2 (sid varchar(10),sname varchar(10),sage datetime,ssex nvarchar(10))\n"
     ]
    },
    {
     "name": "stderr",
     "output_type": "stream",
     "text": [
      "/Users/mac/opt/anaconda3/lib/python3.7/site-packages/pymysql/cursors.py:170: Warning: (3720, 'NATIONAL/NCHAR/NVARCHAR implies the character set UTF8MB3, which will be replaced by UTF8MB4 in a future release. Please consider using CHAR(x) CHARACTER SET UTF8MB4 in order to be unambiguous.')\n",
      "  result = self._query(query)\n"
     ]
    }
   ],
   "source": [
    "mysql.create('student2','sid varchar(10)','sname varchar(10)','sage datetime',\n",
    "            'ssex nvarchar(10)')"
   ]
  },
  {
   "cell_type": "markdown",
   "metadata": {},
   "source": [
    "## 添加插入数据insert方法"
   ]
  },
  {
   "cell_type": "code",
   "execution_count": 55,
   "metadata": {},
   "outputs": [],
   "source": [
    "class MysqlConnection:\n",
    "    def __init__(self,ip,user,password,database,charset,port = 3306):\n",
    "        import pymysql\n",
    "        self.ip = ip\n",
    "        self.port = port\n",
    "        self.user = user\n",
    "        self.password = password\n",
    "        self.database = database\n",
    "        self.charset = charset\n",
    "        self.connect = pymysql.connect(host=ip, \n",
    "                          port=port, \n",
    "                          user=user,\n",
    "                          password=password, \n",
    "                          database=database,\n",
    "                          charset=charset )\n",
    "        self.cursor = self.connect.cursor()\n",
    "    def select(self,col,table,condition=None):\n",
    "        \"\"\"查询条件\"\"\"\n",
    "        sql = \"select \"+col+\" from \"+table\n",
    "        # 判断是否有传递进来kwargs,也就是过滤条件\n",
    "        if condition:\n",
    "            sql+=\" where \" + condition\n",
    "        # 执行代码\n",
    "        self.cursor.execute(sql)\n",
    "        self.data = self.cursor.fetchall()\n",
    "        return self.data\n",
    "    def create(self,table,*args):\n",
    "        \"\"\"创建表格\"\"\"\n",
    "        # 创建表格\n",
    "#         sql = \"create table Student(Sid varchar(10),Sname nvarchar(10),Sage datetime,Ssex nvarchar(10))\"\n",
    "        columns = ','.join(args)\n",
    "#         print(columns)\n",
    "        sql = \"create table {} ({})\".format(table,columns)\n",
    "        print(sql)\n",
    "        self.cursor.execute(sql)\n",
    "    \n",
    "    def insert(self,table,data):\n",
    "        \"\"\"data: 二维表格形式\"\"\"\n",
    "        self.cursor.executemany(\"\"\"insert into {} values(%s, %s , %s , %s)\"\"\".format(table) , data)\n",
    "        # 插入操作必须在commit后才会生效\n",
    "        self.connect.commit()"
   ]
  },
  {
   "cell_type": "code",
   "execution_count": 56,
   "metadata": {},
   "outputs": [],
   "source": [
    "mysql = MysqlConnection(\"117.51.137.136\",'root','0123456789','pythongo',\n",
    "                   charset='utf8',)"
   ]
  },
  {
   "cell_type": "code",
   "execution_count": 42,
   "metadata": {},
   "outputs": [],
   "source": [
    "data = [['001','何炅','1970-2-3','男'],\n",
    "        ['002','撒贝宁','1984-12-21','男'],\n",
    "        ['003','王鸥','1986-4-4','女'],\n",
    "        ['004','鬼鬼','1988-8-8','女'],\n",
    "       ]"
   ]
  },
  {
   "cell_type": "code",
   "execution_count": 48,
   "metadata": {},
   "outputs": [],
   "source": [
    "mysql.insert('student2',data)"
   ]
  },
  {
   "cell_type": "code",
   "execution_count": null,
   "metadata": {},
   "outputs": [],
   "source": []
  },
  {
   "cell_type": "code",
   "execution_count": 50,
   "metadata": {
    "scrolled": true
   },
   "outputs": [
    {
     "name": "stdout",
     "output_type": "stream",
     "text": [
      "create table users (id varchar(10),username varchar(10),gender varchar(10),age int)\n"
     ]
    }
   ],
   "source": [
    "mysql.create('users',\n",
    "             'id varchar(10)',\n",
    "             'username varchar(10)',\n",
    "            'gender varchar(10)',\n",
    "            'age int',\n",
    "            )"
   ]
  },
  {
   "cell_type": "code",
   "execution_count": 57,
   "metadata": {},
   "outputs": [],
   "source": [
    "data = [['001','何炅','男','42'],\n",
    "        ['002','撒贝宁','男','39'],\n",
    "        ['003','王鸥','女','32'],\n",
    "        ['004','鬼鬼','女','30'],\n",
    "       ]"
   ]
  },
  {
   "cell_type": "code",
   "execution_count": 58,
   "metadata": {},
   "outputs": [],
   "source": [
    "mysql.insert('users',data)"
   ]
  },
  {
   "cell_type": "code",
   "execution_count": 59,
   "metadata": {},
   "outputs": [
    {
     "data": {
      "text/plain": [
       "(('001', '何炅', '男', 42),\n",
       " ('002', '撒贝宁', '男', 39),\n",
       " ('003', '王鸥', '女', 32),\n",
       " ('004', '鬼鬼', '女', 30),\n",
       " ('001', '何炅', '男', 42),\n",
       " ('002', '撒贝宁', '男', 39),\n",
       " ('003', '王鸥', '女', 32),\n",
       " ('004', '鬼鬼', '女', 30))"
      ]
     },
     "execution_count": 59,
     "metadata": {},
     "output_type": "execute_result"
    }
   ],
   "source": [
    "mysql.select('*','users')"
   ]
  },
  {
   "cell_type": "code",
   "execution_count": null,
   "metadata": {},
   "outputs": [],
   "source": []
  },
  {
   "cell_type": "code",
   "execution_count": null,
   "metadata": {},
   "outputs": [],
   "source": []
  },
  {
   "cell_type": "markdown",
   "metadata": {},
   "source": [
    "## 添加删除数据drop和更新数据updata功能"
   ]
  },
  {
   "cell_type": "code",
   "execution_count": 7,
   "metadata": {},
   "outputs": [],
   "source": [
    "class MysqlConnection:\n",
    "    \"\"\"数据库的增删改查功能整合\"\"\"\n",
    "    def __init__(self,ip,user,password,database,charset,port = 3306):\n",
    "        import pymysql\n",
    "        self.ip = ip\n",
    "        self.port = port\n",
    "        self.user = user\n",
    "        self.password = password\n",
    "        self.database = database\n",
    "        self.charset = charset\n",
    "        self.connect = pymysql.connect(host=ip, \n",
    "                          port=port, \n",
    "                          user=user,\n",
    "                          password=password, \n",
    "                          database=database,\n",
    "                          charset=charset )\n",
    "        self.cursor = self.connect.cursor()\n",
    "    def select(self,col,table,condition=None):\n",
    "        \"\"\"查询条件\"\"\"\n",
    "        sql = \"select \"+col+\" from \"+table\n",
    "        # 判断是否有传递进来kwargs,也就是过滤条件\n",
    "        if condition:\n",
    "            sql+=\" where \" + condition\n",
    "        # 执行代码\n",
    "        self.cursor.execute(sql)\n",
    "        self.data = self.cursor.fetchall()\n",
    "        return self.data\n",
    "    def create(self,table,*args):\n",
    "        \"\"\"创建表格\"\"\"\n",
    "        # 创建表格\n",
    "#         sql = \"create table Student(Sid varchar(10),Sname nvarchar(10),Sage datetime,Ssex nvarchar(10))\"\n",
    "        columns = ','.join(args)\n",
    "#         print(columns)\n",
    "        sql = \"create table {} ({})\".format(table,columns)\n",
    "        print(sql)\n",
    "        self.cursor.execute(sql)\n",
    "    \n",
    "    def insert(self,table,data):\n",
    "        \"\"\"data: 二维表格形式\"\"\"\n",
    "        # 计算data中有几列\n",
    "        n = len(data[0])\n",
    "        # 拼接n个%s,\n",
    "        s = \",\".join([\"%s\" for i in range(n)])\n",
    "        self.cursor.executemany(\"\"\"insert into {} values({})\"\"\".format(table,s) , data)\n",
    "        # 插入操作必须在commit后才会生效\n",
    "        self.connect.commit()\n",
    "    \n",
    "    def delete(self, table ,condition=None):\n",
    "        sql = \"delete from \"+table\n",
    "        if condition:\n",
    "            sql+= \" where \"+condition\n",
    "#         print(sql)\n",
    "        self.cursor.execute(sql)\n",
    "        self.connect.commit() # 提交\n",
    "        return '删除成功'\n",
    "    def update(self,table,key,value,condition=None ):\n",
    "        sql = \"update {} set {} = '{}' where {}\".format(table,key,value,condition)\n",
    "        self.cursor.execute(sql)\n",
    "        self.connect.commit() # 提交\n",
    "        return '更改成功'"
   ]
  },
  {
   "cell_type": "code",
   "execution_count": 105,
   "metadata": {},
   "outputs": [
    {
     "data": {
      "text/plain": [
       "'%s,%s,%s,%s,%s'"
      ]
     },
     "execution_count": 105,
     "metadata": {},
     "output_type": "execute_result"
    }
   ],
   "source": [
    "\",\".join([\"%s\" for i in range(5)])"
   ]
  },
  {
   "cell_type": "code",
   "execution_count": 118,
   "metadata": {},
   "outputs": [],
   "source": [
    "mysql = MysqlConnection(\"117.51.145.84\",'cda','123456','pythongo',\n",
    "                   charset='utf8',)"
   ]
  },
  {
   "cell_type": "code",
   "execution_count": 119,
   "metadata": {},
   "outputs": [],
   "source": [
    "with open('student_grade.txt','r') as f:\n",
    "    data = f.read()"
   ]
  },
  {
   "cell_type": "code",
   "execution_count": 120,
   "metadata": {},
   "outputs": [],
   "source": [
    "data_split = [i.split('\\t') for i in data.splitlines()]"
   ]
  },
  {
   "cell_type": "code",
   "execution_count": 121,
   "metadata": {
    "collapsed": true
   },
   "outputs": [
    {
     "data": {
      "text/plain": [
       "[['姓名', '语文', '数学', '英语', '总分', '班名次'],\n",
       " ['杨璐', '131', '143', '144', '418', '1'],\n",
       " ['王雪', '131', '135', '144', '410', '2'],\n",
       " ['韩林霖', '127', '139', '142', '408', '3'],\n",
       " ['沙龙逸', '123', '148', '136', '407', '4'],\n",
       " ['李鉴学', '126', '135', '140', '401', '5'],\n",
       " ['韩雨萌', '129', '133', '138', '400', '6'],\n",
       " ['刘帅', '116', '143', '140', '399', '7'],\n",
       " ['康惠雯', '114', '142', '139', '395', '8'],\n",
       " ['刘钰婷', '115', '139', '135', '389', '9'],\n",
       " ['林世博', '116', '142', '129', '387', '10'],\n",
       " ['张希', '123', '130', '134', '387', '11'],\n",
       " ['徐冲', '122', '124', '139', '385', '12'],\n",
       " ['苑宇飞', '118', '136', '131', '385', '13'],\n",
       " ['卢一凡', '121', '123', '139', '383', '14'],\n",
       " ['张瑞鑫', '126', '115', '139', '380', '15'],\n",
       " ['范作鑫', '121', '127', '131', '379', '16'],\n",
       " ['裴子翔', '111', '139', '128', '378', '17'],\n",
       " ['武传禹', '119', '129', '130', '378', '18'],\n",
       " ['任雪桐', '124', '108', '144', '376', '19'],\n",
       " ['刘姗', '124', '128', '122', '374', '20'],\n",
       " ['王柏坤', '121', '123', '128', '372', '21'],\n",
       " ['赵永刚', '116', '131', '122', '369', '22'],\n",
       " ['张馨月大', '114', '124', '122', '360', '23'],\n",
       " ['张曦月', '116', '123', '119', '358', '24'],\n",
       " ['胡丁文', '116', '122', '118', '356', '25'],\n",
       " ['赵美欣', '118', '126', '111', '355', '26'],\n",
       " ['赵殿宇', '112', '109', '130', '351', '27'],\n",
       " ['张智文', '109', '116', '125', '350', '28'],\n",
       " ['李季', '114', '117', '118', '349', '29'],\n",
       " ['杨加晖', '110', '102', '136', '348', '30'],\n",
       " ['何旭', '114', '113', '120', '347', '31'],\n",
       " ['张智凯', '110', '117', '119', '346', '32'],\n",
       " ['张晓爽', '113', '113', '119', '345', '33'],\n",
       " ['姜美慧', '117', '121', '106', '344', '34'],\n",
       " ['张埕镒', '112', '105', '126', '343', '35'],\n",
       " ['贺俊文', '103', '127', '110', '340', '36'],\n",
       " ['张馨月小', '108', '110', '119', '337', '37'],\n",
       " ['代诗涵', '105', '105', '126', '336', '38'],\n",
       " ['艾宇', '115', '111', '106', '332', '39'],\n",
       " ['黄俊焯', '101', '112', '106', '319', '40'],\n",
       " ['邹建志', '98', '104', '116', '318', '41'],\n",
       " ['张俊奎', '103', '103', '111', '317', '42'],\n",
       " ['孙波', '96', '130', '89', '315', '43'],\n",
       " ['张良', '105', '102', '105', '312', '44'],\n",
       " ['王春月', '118', '82', '112', '312', '45'],\n",
       " ['代明哲', '101', '91', '115', '307', '46'],\n",
       " ['张开羽', '112', '90', '104', '306', '47'],\n",
       " ['狄建译', '109', '68', '126', '303', '48'],\n",
       " ['张家硕', '107', '67', '129', '303', '49'],\n",
       " ['郭娜', '94', '98', '104', '296', '50'],\n",
       " ['周坤', '107', '76', '104', '287', '51'],\n",
       " ['洪禹', '106', '100', '80', '286', '52'],\n",
       " ['王治超', '105', '95', '82', '282', '53'],\n",
       " ['臧云飞', '101', '59', '108', '268', '54'],\n",
       " ['袁茂哲', '85', '95', '85', '265', '55'],\n",
       " ['丁婉艺', '95', '71', '85', '251', '56'],\n",
       " ['于娇莹', '97', '76', '71', '244', '57'],\n",
       " ['刘旭辉', '99', '87', '44', '230', '58'],\n",
       " ['张宇婷', '83', '61', '71', '215', '59'],\n",
       " ['黄明涛', '87', '77', '43', '207', '60'],\n",
       " ['吕文卓', '82', '53', '62', '197', '61'],\n",
       " ['王晟煜', '79', '49', '64', '192', '62'],\n",
       " ['孙龙基', '99', '21', '67', '187', '63'],\n",
       " ['赵森', '90', '29', '64', '183', '64'],\n",
       " ['满朝升', '78', '45', '47', '170', '65'],\n",
       " ['李忠浩', '86', '32', '46', '164', '66'],\n",
       " ['侯禹志', '75', '23', '34', '132', '67'],\n",
       " ['尹鸿涛', '66', '23', '34', '123', '68']]"
      ]
     },
     "execution_count": 121,
     "metadata": {},
     "output_type": "execute_result"
    }
   ],
   "source": [
    "data_split"
   ]
  },
  {
   "cell_type": "code",
   "execution_count": 122,
   "metadata": {},
   "outputs": [
    {
     "name": "stdout",
     "output_type": "stream",
     "text": [
      "create table grade (name varchar(10),Chinese int,Math int,English int,score int,grade_rank int)\n"
     ]
    }
   ],
   "source": [
    "# 添加一个新表\n",
    "mysql.create('grade','name varchar(10)','Chinese int','Math int','English int',\n",
    "            'score int','grade_rank int')"
   ]
  },
  {
   "cell_type": "code",
   "execution_count": 91,
   "metadata": {
    "collapsed": true
   },
   "outputs": [
    {
     "data": {
      "text/plain": [
       "[['姓名', '语文', '数学', '英语', '总分', '班名次'],\n",
       " ['杨璐', '131', '143', '144', '418', '1'],\n",
       " ['王雪', '131', '135', '144', '410', '2'],\n",
       " ['韩林霖', '127', '139', '142', '408', '3'],\n",
       " ['沙龙逸', '123', '148', '136', '407', '4'],\n",
       " ['李鉴学', '126', '135', '140', '401', '5'],\n",
       " ['韩雨萌', '129', '133', '138', '400', '6'],\n",
       " ['刘帅', '116', '143', '140', '399', '7'],\n",
       " ['康惠雯', '114', '142', '139', '395', '8'],\n",
       " ['刘钰婷', '115', '139', '135', '389', '9'],\n",
       " ['林世博', '116', '142', '129', '387', '10'],\n",
       " ['张希', '123', '130', '134', '387', '11'],\n",
       " ['徐冲', '122', '124', '139', '385', '12'],\n",
       " ['苑宇飞', '118', '136', '131', '385', '13'],\n",
       " ['卢一凡', '121', '123', '139', '383', '14'],\n",
       " ['张瑞鑫', '126', '115', '139', '380', '15'],\n",
       " ['范作鑫', '121', '127', '131', '379', '16'],\n",
       " ['裴子翔', '111', '139', '128', '378', '17'],\n",
       " ['武传禹', '119', '129', '130', '378', '18'],\n",
       " ['任雪桐', '124', '108', '144', '376', '19'],\n",
       " ['刘姗', '124', '128', '122', '374', '20'],\n",
       " ['王柏坤', '121', '123', '128', '372', '21'],\n",
       " ['赵永刚', '116', '131', '122', '369', '22'],\n",
       " ['张馨月大', '114', '124', '122', '360', '23'],\n",
       " ['张曦月', '116', '123', '119', '358', '24'],\n",
       " ['胡丁文', '116', '122', '118', '356', '25'],\n",
       " ['赵美欣', '118', '126', '111', '355', '26'],\n",
       " ['赵殿宇', '112', '109', '130', '351', '27'],\n",
       " ['张智文', '109', '116', '125', '350', '28'],\n",
       " ['李季', '114', '117', '118', '349', '29'],\n",
       " ['杨加晖', '110', '102', '136', '348', '30'],\n",
       " ['何旭', '114', '113', '120', '347', '31'],\n",
       " ['张智凯', '110', '117', '119', '346', '32'],\n",
       " ['张晓爽', '113', '113', '119', '345', '33'],\n",
       " ['姜美慧', '117', '121', '106', '344', '34'],\n",
       " ['张埕镒', '112', '105', '126', '343', '35'],\n",
       " ['贺俊文', '103', '127', '110', '340', '36'],\n",
       " ['张馨月小', '108', '110', '119', '337', '37'],\n",
       " ['代诗涵', '105', '105', '126', '336', '38'],\n",
       " ['艾宇', '115', '111', '106', '332', '39'],\n",
       " ['黄俊焯', '101', '112', '106', '319', '40'],\n",
       " ['邹建志', '98', '104', '116', '318', '41'],\n",
       " ['张俊奎', '103', '103', '111', '317', '42'],\n",
       " ['孙波', '96', '130', '89', '315', '43'],\n",
       " ['张良', '105', '102', '105', '312', '44'],\n",
       " ['王春月', '118', '82', '112', '312', '45'],\n",
       " ['代明哲', '101', '91', '115', '307', '46'],\n",
       " ['张开羽', '112', '90', '104', '306', '47'],\n",
       " ['狄建译', '109', '68', '126', '303', '48'],\n",
       " ['张家硕', '107', '67', '129', '303', '49'],\n",
       " ['郭娜', '94', '98', '104', '296', '50'],\n",
       " ['周坤', '107', '76', '104', '287', '51'],\n",
       " ['洪禹', '106', '100', '80', '286', '52'],\n",
       " ['王治超', '105', '95', '82', '282', '53'],\n",
       " ['臧云飞', '101', '59', '108', '268', '54'],\n",
       " ['袁茂哲', '85', '95', '85', '265', '55'],\n",
       " ['丁婉艺', '95', '71', '85', '251', '56'],\n",
       " ['于娇莹', '97', '76', '71', '244', '57'],\n",
       " ['刘旭辉', '99', '87', '44', '230', '58'],\n",
       " ['张宇婷', '83', '61', '71', '215', '59'],\n",
       " ['黄明涛', '87', '77', '43', '207', '60'],\n",
       " ['吕文卓', '82', '53', '62', '197', '61'],\n",
       " ['王晟煜', '79', '49', '64', '192', '62'],\n",
       " ['孙龙基', '99', '21', '67', '187', '63'],\n",
       " ['赵森', '90', '29', '64', '183', '64'],\n",
       " ['满朝升', '78', '45', '47', '170', '65'],\n",
       " ['李忠浩', '86', '32', '46', '164', '66'],\n",
       " ['侯禹志', '75', '23', '34', '132', '67'],\n",
       " ['尹鸿涛', '66', '23', '34', '123', '68']]"
      ]
     },
     "execution_count": 91,
     "metadata": {},
     "output_type": "execute_result"
    }
   ],
   "source": [
    "# 插入数据\n",
    "# 准备数据\n",
    "data_split"
   ]
  },
  {
   "cell_type": "code",
   "execution_count": 123,
   "metadata": {},
   "outputs": [],
   "source": [
    "mysql.insert('grade',data_split[1:])"
   ]
  },
  {
   "cell_type": "code",
   "execution_count": 124,
   "metadata": {},
   "outputs": [
    {
     "data": {
      "text/plain": [
       "(('张宇婷', 83, 61, 71, 215, 59),\n",
       " ('黄明涛', 87, 77, 43, 207, 60),\n",
       " ('吕文卓', 82, 53, 62, 197, 61),\n",
       " ('王晟煜', 79, 49, 64, 192, 62),\n",
       " ('满朝升', 78, 45, 47, 170, 65),\n",
       " ('李忠浩', 86, 32, 46, 164, 66),\n",
       " ('侯禹志', 75, 23, 34, 132, 67),\n",
       " ('尹鸿涛', 66, 23, 34, 123, 68))"
      ]
     },
     "execution_count": 124,
     "metadata": {},
     "output_type": "execute_result"
    }
   ],
   "source": [
    "# 查询数据\n",
    "data =mysql.select('*','grade','Math < 90 and Chinese <90 and English < 90')\n",
    "data"
   ]
  },
  {
   "cell_type": "code",
   "execution_count": 125,
   "metadata": {},
   "outputs": [
    {
     "data": {
      "text/plain": [
       "'更改成功'"
      ]
     },
     "execution_count": 125,
     "metadata": {},
     "output_type": "execute_result"
    }
   ],
   "source": [
    "# 修改数据\n",
    "# 凡是数学不及格的,都给改成90分.\n",
    "mysql.update('grade','Math','90', 'Math<90')"
   ]
  },
  {
   "cell_type": "code",
   "execution_count": 126,
   "metadata": {},
   "outputs": [
    {
     "data": {
      "text/plain": [
       "'删除成功'"
      ]
     },
     "execution_count": 126,
     "metadata": {},
     "output_type": "execute_result"
    }
   ],
   "source": [
    "# 删除数据, 凡是英语不及格的,都删除掉\n",
    "mysql.delete('grade','English < 90')"
   ]
  },
  {
   "cell_type": "code",
   "execution_count": null,
   "metadata": {},
   "outputs": [],
   "source": []
  },
  {
   "cell_type": "code",
   "execution_count": null,
   "metadata": {},
   "outputs": [],
   "source": []
  },
  {
   "cell_type": "code",
   "execution_count": null,
   "metadata": {},
   "outputs": [],
   "source": []
  },
  {
   "cell_type": "code",
   "execution_count": null,
   "metadata": {},
   "outputs": [],
   "source": []
  },
  {
   "cell_type": "code",
   "execution_count": null,
   "metadata": {},
   "outputs": [],
   "source": []
  },
  {
   "cell_type": "code",
   "execution_count": null,
   "metadata": {},
   "outputs": [],
   "source": []
  },
  {
   "cell_type": "code",
   "execution_count": null,
   "metadata": {},
   "outputs": [],
   "source": []
  },
  {
   "cell_type": "code",
   "execution_count": null,
   "metadata": {},
   "outputs": [],
   "source": []
  },
  {
   "cell_type": "code",
   "execution_count": null,
   "metadata": {},
   "outputs": [],
   "source": []
  },
  {
   "cell_type": "markdown",
   "metadata": {},
   "source": [
    "## 完成代码"
   ]
  },
  {
   "cell_type": "code",
   "execution_count": 40,
   "metadata": {},
   "outputs": [],
   "source": [
    "# 连接数据库的功能\n",
    "class MysqlOperating:\n",
    "    # 输出化方法, 当对象被实例化的时候, 就自动建立好和数据库的连接了\n",
    "    def __init__(self , host ,user,password,database,charset,port = 3306):        \n",
    "        import pymysql\n",
    "        self.connect = pymysql.connect(host = host,\n",
    "                         port=port,\n",
    "                         user = user,\n",
    "                         password= password,\n",
    "                         database = database,\n",
    "                         charset = charset)\n",
    "        # 光标也直接构建好\n",
    "        self.cursor = self.connect.cursor()\n",
    "        print(self.cursor)\n",
    "    def create(self, table,*args ):\n",
    "        \"\"\"创建表格功能\n",
    "        table:表名\n",
    "        *args: 每一个建立的字段及数据类型\"\"\"\n",
    "        columns = ','.join(args)\n",
    "        sql = \"create table {} ({})\".format(table,columns)\n",
    "        print(sql)\n",
    "        self.cursor.execute(sql)\n",
    "        return '创建'+table+'成功'\n",
    "    # 写一个插入功能\n",
    "    def insert(self , table, data ):\n",
    "        \"\"\"插入数据\n",
    "        table: 表名\n",
    "        data: 数据二维表格式\"\"\"\n",
    "        # %s 的个数有data里面有几列决定的\n",
    "        n = len(data[0])\n",
    "        s = ','.join([\"%s\" for i in range(n)])\n",
    "        self.cursor.executemany(\"\"\"insert into {} values({})\"\"\".format(table,s),data)\n",
    "        # 提交\n",
    "        self.connect.commit()\n",
    "        \n",
    "    # 查询功能\n",
    "    def select(self , col, table ,condition = None):\n",
    "        \"\"\"查询语句\n",
    "        col : 列名\n",
    "        table : 表名\n",
    "        condition : 查询条件\"\"\"\n",
    "        sql = 'select {} from {}'.format(col, table)\n",
    "        # 判断是否传入了查询条件\n",
    "        if condition:\n",
    "            # 在刚才的sql语法后面添加过滤条件\n",
    "            sql += \" where \"+ condition\n",
    "        print(sql)\n",
    "        # 执行查询\n",
    "        self.cursor.execute(sql)\n",
    "        # 提取数据,提取全部数据\n",
    "        self.data = self.cursor.fetchall()\n",
    "        return self.data\n",
    "    # 删除数据    \n",
    "    def delete(self, table ,condition=None):\n",
    "        sql = \"delete from \"+table\n",
    "        if condition:\n",
    "            sql+= \" where \"+condition\n",
    "        print(sql)\n",
    "        self.cursor.execute(sql)\n",
    "        self.connect.commit() # 提交\n",
    "        return '删除成功'\n",
    "    # 更新数据\n",
    "    def update(self,table,key,value,condition=None ):\n",
    "        sql = \"update {} set {} = '{}' where {}\".format(table,key,value,condition)\n",
    "        self.cursor.execute(sql)\n",
    "        self.connect.commit() # 提交\n",
    "        return '更改成功'"
   ]
  },
  {
   "cell_type": "code",
   "execution_count": 41,
   "metadata": {},
   "outputs": [
    {
     "name": "stdout",
     "output_type": "stream",
     "text": [
      "<pymysql.cursors.Cursor object at 0x1135abed0>\n"
     ]
    }
   ],
   "source": [
    "mysql = MysqlOperating(host = \"49.233.10.201\", # 换成你自己的IP\n",
    "                      user='cda0329',\n",
    "                      password='123456',\n",
    "                      database='pythongo',\n",
    "                      charset='utf8',\n",
    "                      port = 3306)"
   ]
  },
  {
   "cell_type": "code",
   "execution_count": 35,
   "metadata": {},
   "outputs": [
    {
     "name": "stdout",
     "output_type": "stream",
     "text": [
      "delete from Student where name = \"王鸥\"\n"
     ]
    },
    {
     "data": {
      "text/plain": [
       "'删除成功'"
      ]
     },
     "execution_count": 35,
     "metadata": {},
     "output_type": "execute_result"
    }
   ],
   "source": [
    "mysql.delete('Student','name = \"王鸥\"')"
   ]
  },
  {
   "cell_type": "code",
   "execution_count": 36,
   "metadata": {},
   "outputs": [
    {
     "data": {
      "text/plain": [
       "'更改成功'"
      ]
     },
     "execution_count": 36,
     "metadata": {},
     "output_type": "execute_result"
    }
   ],
   "source": [
    "# 修改\n",
    "mysql.update('Student','age','45','name=\"何炅\"')"
   ]
  },
  {
   "cell_type": "code",
   "execution_count": null,
   "metadata": {},
   "outputs": [],
   "source": []
  },
  {
   "cell_type": "code",
   "execution_count": null,
   "metadata": {},
   "outputs": [],
   "source": []
  },
  {
   "cell_type": "code",
   "execution_count": 29,
   "metadata": {
    "collapsed": true
   },
   "outputs": [
    {
     "name": "stdout",
     "output_type": "stream",
     "text": [
      "select * from Student\n"
     ]
    },
    {
     "data": {
      "text/plain": [
       "(('001', '何炅', 50, '男'),\n",
       " ('002', '撒贝宁', 44, '男'),\n",
       " ('003', '王鸥', 36, '女'),\n",
       " ('004', '鬼鬼', 31, '女'),\n",
       " ('001', '何炅', 50, '男'),\n",
       " ('002', '撒贝宁', 44, '男'),\n",
       " ('003', '王鸥', 36, '女'),\n",
       " ('004', '鬼鬼', 31, '女'),\n",
       " ('001', '何炅', 50, '男'),\n",
       " ('002', '撒贝宁', 44, '男'),\n",
       " ('003', '王鸥', 36, '女'),\n",
       " ('004', '鬼鬼', 31, '女'),\n",
       " ('001', '何炅', 50, '男'),\n",
       " ('002', '撒贝宁', 44, '男'),\n",
       " ('003', '王鸥', 36, '女'),\n",
       " ('004', '鬼鬼', 31, '女'),\n",
       " ('001', '何炅', 50, '男'),\n",
       " ('002', '撒贝宁', 44, '男'),\n",
       " ('003', '王鸥', 36, '女'),\n",
       " ('004', '鬼鬼', 31, '女'),\n",
       " ('001', '何炅', 50, '男'),\n",
       " ('002', '撒贝宁', 44, '男'),\n",
       " ('003', '王鸥', 36, '女'),\n",
       " ('004', '鬼鬼', 31, '女'),\n",
       " ('001', '何炅', 50, '男'),\n",
       " ('002', '撒贝宁', 44, '男'),\n",
       " ('003', '王鸥', 36, '女'),\n",
       " ('004', '鬼鬼', 31, '女'),\n",
       " ('001', '何炅', 50, '男'),\n",
       " ('002', '撒贝宁', 44, '男'),\n",
       " ('003', '王鸥', 36, '女'),\n",
       " ('004', '鬼鬼', 31, '女'),\n",
       " ('001', '何炅', 50, '男'),\n",
       " ('002', '撒贝宁', 44, '男'),\n",
       " ('003', '王鸥', 36, '女'),\n",
       " ('004', '鬼鬼', 31, '女'),\n",
       " ('001', '何炅', 50, '男'),\n",
       " ('002', '撒贝宁', 44, '男'),\n",
       " ('003', '王鸥', 36, '女'),\n",
       " ('004', '鬼鬼', 31, '女'))"
      ]
     },
     "execution_count": 29,
     "metadata": {},
     "output_type": "execute_result"
    }
   ],
   "source": [
    "mysql.select('*','Student')"
   ]
  },
  {
   "cell_type": "code",
   "execution_count": 30,
   "metadata": {
    "collapsed": true
   },
   "outputs": [
    {
     "name": "stdout",
     "output_type": "stream",
     "text": [
      "select name,age from Student\n"
     ]
    },
    {
     "data": {
      "text/plain": [
       "(('何炅', 50),\n",
       " ('撒贝宁', 44),\n",
       " ('王鸥', 36),\n",
       " ('鬼鬼', 31),\n",
       " ('何炅', 50),\n",
       " ('撒贝宁', 44),\n",
       " ('王鸥', 36),\n",
       " ('鬼鬼', 31),\n",
       " ('何炅', 50),\n",
       " ('撒贝宁', 44),\n",
       " ('王鸥', 36),\n",
       " ('鬼鬼', 31),\n",
       " ('何炅', 50),\n",
       " ('撒贝宁', 44),\n",
       " ('王鸥', 36),\n",
       " ('鬼鬼', 31),\n",
       " ('何炅', 50),\n",
       " ('撒贝宁', 44),\n",
       " ('王鸥', 36),\n",
       " ('鬼鬼', 31),\n",
       " ('何炅', 50),\n",
       " ('撒贝宁', 44),\n",
       " ('王鸥', 36),\n",
       " ('鬼鬼', 31),\n",
       " ('何炅', 50),\n",
       " ('撒贝宁', 44),\n",
       " ('王鸥', 36),\n",
       " ('鬼鬼', 31),\n",
       " ('何炅', 50),\n",
       " ('撒贝宁', 44),\n",
       " ('王鸥', 36),\n",
       " ('鬼鬼', 31),\n",
       " ('何炅', 50),\n",
       " ('撒贝宁', 44),\n",
       " ('王鸥', 36),\n",
       " ('鬼鬼', 31),\n",
       " ('何炅', 50),\n",
       " ('撒贝宁', 44),\n",
       " ('王鸥', 36),\n",
       " ('鬼鬼', 31))"
      ]
     },
     "execution_count": 30,
     "metadata": {},
     "output_type": "execute_result"
    }
   ],
   "source": [
    "mysql.select('name,age','Student')"
   ]
  },
  {
   "cell_type": "code",
   "execution_count": 31,
   "metadata": {
    "collapsed": true
   },
   "outputs": [
    {
     "name": "stdout",
     "output_type": "stream",
     "text": [
      "select id,name,age from Student where sex = \"女\"\n"
     ]
    },
    {
     "data": {
      "text/plain": [
       "(('003', '王鸥', 36),\n",
       " ('004', '鬼鬼', 31),\n",
       " ('003', '王鸥', 36),\n",
       " ('004', '鬼鬼', 31),\n",
       " ('003', '王鸥', 36),\n",
       " ('004', '鬼鬼', 31),\n",
       " ('003', '王鸥', 36),\n",
       " ('004', '鬼鬼', 31),\n",
       " ('003', '王鸥', 36),\n",
       " ('004', '鬼鬼', 31),\n",
       " ('003', '王鸥', 36),\n",
       " ('004', '鬼鬼', 31),\n",
       " ('003', '王鸥', 36),\n",
       " ('004', '鬼鬼', 31),\n",
       " ('003', '王鸥', 36),\n",
       " ('004', '鬼鬼', 31),\n",
       " ('003', '王鸥', 36),\n",
       " ('004', '鬼鬼', 31),\n",
       " ('003', '王鸥', 36),\n",
       " ('004', '鬼鬼', 31))"
      ]
     },
     "execution_count": 31,
     "metadata": {},
     "output_type": "execute_result"
    }
   ],
   "source": [
    "mysql.select('id,name,age','Student','sex = \"女\"')"
   ]
  },
  {
   "cell_type": "code",
   "execution_count": 32,
   "metadata": {
    "collapsed": true
   },
   "outputs": [
    {
     "name": "stdout",
     "output_type": "stream",
     "text": [
      "select * from Student where name = \"何炅\"\n"
     ]
    },
    {
     "data": {
      "text/plain": [
       "(('001', '何炅', 50, '男'),\n",
       " ('001', '何炅', 50, '男'),\n",
       " ('001', '何炅', 50, '男'),\n",
       " ('001', '何炅', 50, '男'),\n",
       " ('001', '何炅', 50, '男'),\n",
       " ('001', '何炅', 50, '男'),\n",
       " ('001', '何炅', 50, '男'),\n",
       " ('001', '何炅', 50, '男'),\n",
       " ('001', '何炅', 50, '男'),\n",
       " ('001', '何炅', 50, '男'))"
      ]
     },
     "execution_count": 32,
     "metadata": {},
     "output_type": "execute_result"
    }
   ],
   "source": [
    "mysql.select('*','Student','name = \"何炅\"')"
   ]
  },
  {
   "cell_type": "code",
   "execution_count": null,
   "metadata": {},
   "outputs": [],
   "source": []
  },
  {
   "cell_type": "code",
   "execution_count": null,
   "metadata": {},
   "outputs": [],
   "source": []
  },
  {
   "cell_type": "code",
   "execution_count": 37,
   "metadata": {},
   "outputs": [],
   "source": [
    "# 固定的代码\n",
    "f = open('student_grade.txt','r')\n",
    "data = f.read()\n",
    "f.close()"
   ]
  },
  {
   "cell_type": "code",
   "execution_count": 38,
   "metadata": {},
   "outputs": [],
   "source": [
    "# 建一个空列表\n",
    "student_grade = []\n",
    "for line in data.splitlines():\n",
    "#     print(line)\n",
    "    student_grade.append( line.split('\\t') )"
   ]
  },
  {
   "cell_type": "code",
   "execution_count": 39,
   "metadata": {
    "collapsed": true
   },
   "outputs": [
    {
     "data": {
      "text/plain": [
       "[['姓名', '语文', '数学', '英语', '总分', '班名次'],\n",
       " ['杨璐', '131', '143', '144', '418', '1'],\n",
       " ['王雪', '131', '135', '144', '410', '2'],\n",
       " ['韩林霖', '127', '139', '142', '408', '3'],\n",
       " ['沙龙逸', '123', '148', '136', '407', '4'],\n",
       " ['李鉴学', '126', '135', '140', '401', '5'],\n",
       " ['韩雨萌', '129', '133', '138', '400', '6'],\n",
       " ['刘帅', '116', '143', '140', '399', '7'],\n",
       " ['康惠雯', '114', '142', '139', '395', '8'],\n",
       " ['刘钰婷', '115', '139', '135', '389', '9'],\n",
       " ['林世博', '116', '142', '129', '387', '10'],\n",
       " ['张希', '123', '130', '134', '387', '11'],\n",
       " ['徐冲', '122', '124', '139', '385', '12'],\n",
       " ['苑宇飞', '118', '136', '131', '385', '13'],\n",
       " ['卢一凡', '121', '123', '139', '383', '14'],\n",
       " ['张瑞鑫', '126', '115', '139', '380', '15'],\n",
       " ['范作鑫', '121', '127', '131', '379', '16'],\n",
       " ['裴子翔', '111', '139', '128', '378', '17'],\n",
       " ['武传禹', '119', '129', '130', '378', '18'],\n",
       " ['任雪桐', '124', '108', '144', '376', '19'],\n",
       " ['刘姗', '124', '128', '122', '374', '20'],\n",
       " ['王柏坤', '121', '123', '128', '372', '21'],\n",
       " ['赵永刚', '116', '131', '122', '369', '22'],\n",
       " ['张馨月大', '114', '124', '122', '360', '23'],\n",
       " ['张曦月', '116', '123', '119', '358', '24'],\n",
       " ['胡丁文', '116', '122', '118', '356', '25'],\n",
       " ['赵美欣', '118', '126', '111', '355', '26'],\n",
       " ['赵殿宇', '112', '109', '130', '351', '27'],\n",
       " ['张智文', '109', '116', '125', '350', '28'],\n",
       " ['李季', '114', '117', '118', '349', '29'],\n",
       " ['杨加晖', '110', '102', '136', '348', '30'],\n",
       " ['何旭', '114', '113', '120', '347', '31'],\n",
       " ['张智凯', '110', '117', '119', '346', '32'],\n",
       " ['张晓爽', '113', '113', '119', '345', '33'],\n",
       " ['姜美慧', '117', '121', '106', '344', '34'],\n",
       " ['张埕镒', '112', '105', '126', '343', '35'],\n",
       " ['贺俊文', '103', '127', '110', '340', '36'],\n",
       " ['张馨月小', '108', '110', '119', '337', '37'],\n",
       " ['代诗涵', '105', '105', '126', '336', '38'],\n",
       " ['艾宇', '115', '111', '106', '332', '39'],\n",
       " ['黄俊焯', '101', '112', '106', '319', '40'],\n",
       " ['邹建志', '98', '104', '116', '318', '41'],\n",
       " ['张俊奎', '103', '103', '111', '317', '42'],\n",
       " ['孙波', '96', '130', '89', '315', '43'],\n",
       " ['张良', '105', '102', '105', '312', '44'],\n",
       " ['王春月', '118', '82', '112', '312', '45'],\n",
       " ['代明哲', '101', '91', '115', '307', '46'],\n",
       " ['张开羽', '112', '90', '104', '306', '47'],\n",
       " ['狄建译', '109', '68', '126', '303', '48'],\n",
       " ['张家硕', '107', '67', '129', '303', '49'],\n",
       " ['郭娜', '94', '98', '104', '296', '50'],\n",
       " ['周坤', '107', '76', '104', '287', '51'],\n",
       " ['洪禹', '106', '100', '80', '286', '52'],\n",
       " ['王治超', '105', '95', '82', '282', '53'],\n",
       " ['臧云飞', '101', '59', '108', '268', '54'],\n",
       " ['袁茂哲', '85', '95', '85', '265', '55'],\n",
       " ['丁婉艺', '95', '71', '85', '251', '56'],\n",
       " ['于娇莹', '97', '76', '71', '244', '57'],\n",
       " ['刘旭辉', '99', '87', '44', '230', '58'],\n",
       " ['张宇婷', '83', '61', '71', '215', '59'],\n",
       " ['黄明涛', '87', '77', '43', '207', '60'],\n",
       " ['吕文卓', '82', '53', '62', '197', '61'],\n",
       " ['王晟煜', '79', '49', '64', '192', '62'],\n",
       " ['孙龙基', '99', '21', '67', '187', '63'],\n",
       " ['赵森', '90', '29', '64', '183', '64'],\n",
       " ['满朝升', '78', '45', '47', '170', '65'],\n",
       " ['李忠浩', '86', '32', '46', '164', '66'],\n",
       " ['侯禹志', '75', '23', '34', '132', '67'],\n",
       " ['尹鸿涛', '66', '23', '34', '123', '68']]"
      ]
     },
     "execution_count": 39,
     "metadata": {},
     "output_type": "execute_result"
    }
   ],
   "source": [
    "student_grade"
   ]
  },
  {
   "cell_type": "code",
   "execution_count": null,
   "metadata": {},
   "outputs": [],
   "source": []
  },
  {
   "cell_type": "code",
   "execution_count": 42,
   "metadata": {},
   "outputs": [
    {
     "name": "stdout",
     "output_type": "stream",
     "text": [
      "<pymysql.cursors.Cursor object at 0x113896c90>\n"
     ]
    }
   ],
   "source": [
    "# 对比\n",
    "mysql = MysqlOperating(host = \"49.233.10.201\", # 换成你自己的IP\n",
    "                      user='cda0329',\n",
    "                      password='123456',\n",
    "                      database='pythongo',\n",
    "                      charset='utf8',\n",
    "                      port = 3306)"
   ]
  },
  {
   "cell_type": "code",
   "execution_count": 44,
   "metadata": {},
   "outputs": [
    {
     "name": "stdout",
     "output_type": "stream",
     "text": [
      "create table grade (name varchar(10),Chinese int,Math int,English int,total_num int,rank1 int)\n"
     ]
    },
    {
     "data": {
      "text/plain": [
       "'创建grade成功'"
      ]
     },
     "execution_count": 44,
     "metadata": {},
     "output_type": "execute_result"
    }
   ],
   "source": [
    "mysql.create('grade','name varchar(10)','Chinese int',\n",
    "            'Math int','English int', 'total_num int','rank1 int')"
   ]
  },
  {
   "cell_type": "code",
   "execution_count": 47,
   "metadata": {},
   "outputs": [],
   "source": [
    "mysql.insert(\"grade\",student_grade[1:])"
   ]
  },
  {
   "cell_type": "code",
   "execution_count": 48,
   "metadata": {
    "collapsed": true
   },
   "outputs": [
    {
     "name": "stdout",
     "output_type": "stream",
     "text": [
      "select * from grade where English < 90\n"
     ]
    },
    {
     "data": {
      "text/plain": [
       "(('孙波', 96, 130, 89, 315, 43),\n",
       " ('洪禹', 106, 100, 80, 286, 52),\n",
       " ('王治超', 105, 95, 82, 282, 53),\n",
       " ('袁茂哲', 85, 95, 85, 265, 55),\n",
       " ('丁婉艺', 95, 71, 85, 251, 56),\n",
       " ('于娇莹', 97, 76, 71, 244, 57),\n",
       " ('刘旭辉', 99, 87, 44, 230, 58),\n",
       " ('张宇婷', 83, 61, 71, 215, 59),\n",
       " ('黄明涛', 87, 77, 43, 207, 60),\n",
       " ('吕文卓', 82, 53, 62, 197, 61),\n",
       " ('王晟煜', 79, 49, 64, 192, 62),\n",
       " ('孙龙基', 99, 21, 67, 187, 63),\n",
       " ('赵森', 90, 29, 64, 183, 64),\n",
       " ('满朝升', 78, 45, 47, 170, 65),\n",
       " ('李忠浩', 86, 32, 46, 164, 66),\n",
       " ('侯禹志', 75, 23, 34, 132, 67),\n",
       " ('尹鸿涛', 66, 23, 34, 123, 68))"
      ]
     },
     "execution_count": 48,
     "metadata": {},
     "output_type": "execute_result"
    }
   ],
   "source": [
    "# 英语不及格的同学\n",
    "mysql.select('*','grade','English < 90')"
   ]
  },
  {
   "cell_type": "code",
   "execution_count": 49,
   "metadata": {},
   "outputs": [
    {
     "name": "stdout",
     "output_type": "stream",
     "text": [
      "delete from grade where Math >= 140\n"
     ]
    },
    {
     "data": {
      "text/plain": [
       "'删除成功'"
      ]
     },
     "execution_count": 49,
     "metadata": {},
     "output_type": "execute_result"
    }
   ],
   "source": [
    "mysql.delete('grade','Math >= 140')"
   ]
  },
  {
   "cell_type": "code",
   "execution_count": 50,
   "metadata": {},
   "outputs": [
    {
     "data": {
      "text/plain": [
       "'更改成功'"
      ]
     },
     "execution_count": 50,
     "metadata": {},
     "output_type": "execute_result"
    }
   ],
   "source": [
    "mysql.update('grade', \"Math\", 90 ,\"Math < 90\" )"
   ]
  },
  {
   "cell_type": "code",
   "execution_count": null,
   "metadata": {},
   "outputs": [],
   "source": [
    "    "
   ]
  },
  {
   "cell_type": "code",
   "execution_count": null,
   "metadata": {},
   "outputs": [],
   "source": []
  },
  {
   "cell_type": "code",
   "execution_count": null,
   "metadata": {},
   "outputs": [],
   "source": []
  },
  {
   "cell_type": "code",
   "execution_count": null,
   "metadata": {},
   "outputs": [],
   "source": []
  },
  {
   "cell_type": "code",
   "execution_count": null,
   "metadata": {},
   "outputs": [],
   "source": []
  },
  {
   "cell_type": "code",
   "execution_count": null,
   "metadata": {},
   "outputs": [],
   "source": []
  },
  {
   "cell_type": "code",
   "execution_count": null,
   "metadata": {},
   "outputs": [],
   "source": []
  },
  {
   "cell_type": "code",
   "execution_count": null,
   "metadata": {},
   "outputs": [],
   "source": []
  },
  {
   "cell_type": "code",
   "execution_count": null,
   "metadata": {},
   "outputs": [],
   "source": []
  },
  {
   "cell_type": "code",
   "execution_count": null,
   "metadata": {},
   "outputs": [],
   "source": []
  },
  {
   "cell_type": "code",
   "execution_count": null,
   "metadata": {},
   "outputs": [],
   "source": []
  }
 ],
 "metadata": {
  "kernelspec": {
   "display_name": "Python 3",
   "language": "python",
   "name": "python3"
  },
  "language_info": {
   "codemirror_mode": {
    "name": "ipython",
    "version": 3
   },
   "file_extension": ".py",
   "mimetype": "text/x-python",
   "name": "python",
   "nbconvert_exporter": "python",
   "pygments_lexer": "ipython3",
   "version": "3.7.4"
  },
  "toc": {
   "base_numbering": 1,
   "nav_menu": {},
   "number_sections": true,
   "sideBar": true,
   "skip_h1_title": true,
   "title_cell": "目录",
   "title_sidebar": "目录",
   "toc_cell": true,
   "toc_position": {
    "height": "calc(100% - 180px)",
    "left": "10px",
    "top": "150px",
    "width": "230.39999389648438px"
   },
   "toc_section_display": true,
   "toc_window_display": true
  }
 },
 "nbformat": 4,
 "nbformat_minor": 2
}
