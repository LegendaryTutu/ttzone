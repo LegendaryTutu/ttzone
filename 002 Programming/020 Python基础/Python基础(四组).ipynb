{
 "cells": [
  {
   "cell_type": "markdown",
   "metadata": {},
   "source": [
    "# Python基础（四组）"
   ]
  },
  {
   "cell_type": "markdown",
   "metadata": {},
   "source": [
    "# 1.快捷键"
   ]
  },
  {
   "cell_type": "markdown",
   "metadata": {},
   "source": [
    "- 运行代码 3个快捷键:Ctrl+Enter, Alt+Enter, Shift+Enter.\n",
    "- 插入快捷键2个: B(below)向下插入单元格, A(above)向上方插入单元格\n",
    "- 剪切快捷键: X\n",
    "- 粘贴快捷键: V\n",
    "- 进入编辑模式：Enter；进入命令模式: Esc\n",
    "- 查看帮助文档：Shift+Tab\n",
    "- 单行注释：Ctrl+?\n",
    "- 补全代码：Tab"
   ]
  },
  {
   "cell_type": "markdown",
   "metadata": {},
   "source": [
    "# 2.数据类型"
   ]
  },
  {
   "cell_type": "markdown",
   "metadata": {},
   "source": [
    "- type()\n",
    "- int() 整数型：不可变，有序\n",
    "- float() 浮点型：不可变，有序\n",
    "- str() 字符串：不可变，有序\n",
    "- bool() 布尔\n",
    "- list() 列表：可变，有序\n",
    "- tuple() 元组：不可变，有序\n",
    "- dict() 字典：可变，无序\n",
    "- set() 集合：可变，无序"
   ]
  },
  {
   "cell_type": "markdown",
   "metadata": {},
   "source": [
    "# 3.内置函数"
   ]
  },
  {
   "cell_type": "markdown",
   "metadata": {},
   "source": [
    "数学相关:\n",
    "\n",
    "- max() 最大值\n",
    "- min() 最大值\n",
    "- sum() 加和\n",
    "- abs() 绝对值\n",
    "- pow() 次方\n",
    "- round() 四舍五入\n",
    "- bin() 将整数转换成二进制\n",
    "- divmod() 同时取得整除值和余数值\n",
    "\n",
    "其他:\n",
    "- input() 获取用户输入\n",
    "- print() 打印\n",
    "- id() 查看变量的内存地址\n",
    "- ord() 将字母转换成对应数字\n",
    "- chr() 将数字转换成对应字母\n",
    "\n",
    "逻辑相关:\n",
    "- all() 用于判断可迭代参数中所有元素是否都为 TRUE，是返回 True，否则返回 False。元素除了是 0、空、FALSE 外都算 TRUE。\n",
    "- any() 用于判断可迭代参数是否全部为 False，是则返回 False，如果有一个为 True，则返回 True。\n",
    "\n",
    "序列相关:\n",
    "- range() 生成整数序列\n",
    "- len() 计算序列长度\n",
    "- enumerate() 枚举序列, 同时返回序列的索引值和储存值\n",
    "- reversed() 翻转\n",
    "- sorted() 排序\n",
    "- filter() 过滤\n",
    "- map() 映射"
   ]
  },
  {
   "cell_type": "code",
   "execution_count": 1,
   "metadata": {},
   "outputs": [
    {
     "data": {
      "text/plain": [
       "[0, 1, 2, 3, 4, 5, 6, 7, 8, 9]"
      ]
     },
     "execution_count": 1,
     "metadata": {},
     "output_type": "execute_result"
    }
   ],
   "source": [
    "list(range(10))"
   ]
  },
  {
   "cell_type": "code",
   "execution_count": 2,
   "metadata": {},
   "outputs": [
    {
     "data": {
      "text/plain": [
       "[(0, 'a'),\n",
       " (1, 'b'),\n",
       " (2, 'c'),\n",
       " (3, 'd'),\n",
       " (4, 'e'),\n",
       " (5, 'f'),\n",
       " (6, 'g'),\n",
       " (7, 'h'),\n",
       " (8, 'i'),\n",
       " (9, 'j'),\n",
       " (10, 'k'),\n",
       " (11, 'l'),\n",
       " (12, 'm'),\n",
       " (13, 'n')]"
      ]
     },
     "execution_count": 2,
     "metadata": {},
     "output_type": "execute_result"
    }
   ],
   "source": [
    "s = 'abcdefghijklmn'\n",
    "list(enumerate(s))"
   ]
  },
  {
   "cell_type": "code",
   "execution_count": 3,
   "metadata": {},
   "outputs": [
    {
     "data": {
      "text/plain": [
       "[1, 1, 2, 3, 3, 4, 5, 6, 8, 10, 22, 55]"
      ]
     },
     "execution_count": 3,
     "metadata": {},
     "output_type": "execute_result"
    }
   ],
   "source": [
    "k = [2, 3, 1, 55, 22, 4, 5, 6, 1, 3, 8, 10]\n",
    "sorted(k)"
   ]
  },
  {
   "cell_type": "markdown",
   "metadata": {},
   "source": [
    "# 4.控制流语句"
   ]
  },
  {
   "cell_type": "markdown",
   "metadata": {},
   "source": [
    "## 4.1代码块分隔符:缩进规则\n",
    "- Python 采用代码缩进和冒号（ : ）来区分代码块之间的层次。对于类定义、函数定义、流程控制语句、异常处理语句等，行尾的冒号和下一行的缩进，表示下一个代码块的开始，而缩进的结束则表示此代码块的结束。\n",
    "- Python 对代码的缩进要求非常严，同一个级别代码块的缩进量必须一样,通常可以使用Tab 键实现\n",
    "- 整体缩进快捷键 Ctrl+[  或   Tab键; 整体取消缩进快捷键 Ctrl+] 或 Shift+Tab"
   ]
  },
  {
   "cell_type": "code",
   "execution_count": 4,
   "metadata": {},
   "outputs": [
    {
     "name": "stdout",
     "output_type": "stream",
     "text": [
      "y= 10\n"
     ]
    }
   ],
   "source": [
    "x,y=5,10\n",
    "if x<5:\n",
    "    y=12\n",
    "    if y==10:\n",
    "        y=15\n",
    "print('y=',y)"
   ]
  },
  {
   "cell_type": "code",
   "execution_count": 5,
   "metadata": {},
   "outputs": [
    {
     "name": "stdout",
     "output_type": "stream",
     "text": [
      "y= 15\n"
     ]
    }
   ],
   "source": [
    "x,y=5,10\n",
    "if x<5:\n",
    "    y=12\n",
    "if y==10:\n",
    "    y=15\n",
    "print('y=',y)"
   ]
  },
  {
   "cell_type": "code",
   "execution_count": 6,
   "metadata": {},
   "outputs": [
    {
     "ename": "IndentationError",
     "evalue": "expected an indented block (<ipython-input-6-792eda5625b3>, line 5)",
     "output_type": "error",
     "traceback": [
      "\u001b[1;36m  File \u001b[1;32m\"<ipython-input-6-792eda5625b3>\"\u001b[1;36m, line \u001b[1;32m5\u001b[0m\n\u001b[1;33m    y=15\u001b[0m\n\u001b[1;37m    ^\u001b[0m\n\u001b[1;31mIndentationError\u001b[0m\u001b[1;31m:\u001b[0m expected an indented block\n"
     ]
    }
   ],
   "source": [
    "x,y=5,10\n",
    "if x<5:\n",
    "    y=12\n",
    "    if y==10:\n",
    "    y=15\n",
    "print('y=',y)"
   ]
  },
  {
   "cell_type": "markdown",
   "metadata": {},
   "source": [
    "以上三段代码完全相同,但由于缩进不同,造成了不同的输出结果,第一段代码与第二段代码造成了输出结果的不同,而第三段代码出现了异常错误,\n",
    "同一个级别代码块的缩进量必须一样,以免发生逻辑错误或语法错误."
   ]
  },
  {
   "cell_type": "markdown",
   "metadata": {},
   "source": [
    "## 4.2条件判断表达式\n",
    "- 任何非零数字或非空对象都为真\n",
    "- 数字零、空对象以特殊对象None都为假\n",
    "- 比较运算和布尔运算都会返回True或False"
   ]
  },
  {
   "cell_type": "code",
   "execution_count": 7,
   "metadata": {},
   "outputs": [],
   "source": [
    "def bool_test(x):\n",
    "    '''判断变量的布尔值'''\n",
    "    if x:\n",
    "        print('True')\n",
    "    else:\n",
    "        print('False')"
   ]
  },
  {
   "cell_type": "code",
   "execution_count": 8,
   "metadata": {},
   "outputs": [
    {
     "name": "stdout",
     "output_type": "stream",
     "text": [
      "True\n"
     ]
    }
   ],
   "source": [
    "bool_test('a')"
   ]
  },
  {
   "cell_type": "code",
   "execution_count": 9,
   "metadata": {},
   "outputs": [
    {
     "name": "stdout",
     "output_type": "stream",
     "text": [
      "True\n"
     ]
    }
   ],
   "source": [
    "bool_test(100)"
   ]
  },
  {
   "cell_type": "code",
   "execution_count": 10,
   "metadata": {},
   "outputs": [
    {
     "name": "stdout",
     "output_type": "stream",
     "text": [
      "False\n"
     ]
    }
   ],
   "source": [
    "bool_test([])"
   ]
  },
  {
   "cell_type": "markdown",
   "metadata": {},
   "source": [
    "## 4.3 if 条件判断\n",
    "```python\n",
    "if <条件判断1>:\n",
    "    <执行1>\n",
    "elif <条件判断2>:\n",
    "    <执行2>\n",
    "elif <条件判断3>:\n",
    "    <执行3>\n",
    "else:\n",
    "    <执行4>\n",
    "```\n",
    "- if 后面 判断表达式,判断表达式后跟冒号: \n",
    "- if: 必须出现,只能出现一次 {1}\n",
    "- elif: 可以没有, 有几次都可以{0,无穷大}\n",
    "- else: 可以没有,如果出现只能一次 {0,1}\n",
    "- if语句执行顺序从上而下，遇到第一满足条件的分支时，便执行分支内的语句，执行完便跳出if语句。"
   ]
  },
  {
   "cell_type": "code",
   "execution_count": 11,
   "metadata": {},
   "outputs": [
    {
     "name": "stdout",
     "output_type": "stream",
     "text": [
      "大于0\n"
     ]
    }
   ],
   "source": [
    "x=25\n",
    "if x>0:\n",
    "    print(\"大于0\")\n",
    "elif x>10:\n",
    "    print('大于10')\n",
    "elif x>20:\n",
    "    print('大于20') ##在这段代码中,语法没有错误,X为任何值都无法进入第二分支,这就失去了分支的意义."
   ]
  },
  {
   "cell_type": "code",
   "execution_count": 12,
   "metadata": {},
   "outputs": [
    {
     "name": "stdout",
     "output_type": "stream",
     "text": [
      "小于10\n"
     ]
    }
   ],
   "source": [
    "x=8\n",
    "if x<10:\n",
    "    print(\"小于10\")\n",
    "elif x<5:\n",
    "    print('小于5')\n",
    "elif x<0:\n",
    "    print('小于0') ##同样在这段代码中,语法没有错误,X为任何值也都无法进入第二分支,这就失去了分支的意义."
   ]
  },
  {
   "cell_type": "markdown",
   "metadata": {},
   "source": [
    "- 如果要对不同数据区间进行不同的操作，当用>时，应从大到小进行分支的判断，而用<时，应从小到大进行分支的判断。\n",
    "- if语句执行顺序从上而下，应避免if语句的陷阱，一旦遇到能够成立的判断条件，则不再执行其他的语句块，最终只能有一个语句块被执行，所以要注意if条件的排列顺序。"
   ]
  },
  {
   "cell_type": "markdown",
   "metadata": {},
   "source": [
    "### if 嵌套\n",
    "\n",
    "```python\n",
    " if 条件1:\n",
    "    满足条件1 做的事情1\n",
    "    满足条件1 做的事情2\n",
    "    ...(省略)...\n",
    "    if 条件2:\n",
    "        满足条件2 做的事情1\n",
    "        满足条件2 做的事情2\n",
    "        ...(省略)...       \n",
    "```\n",
    "- if语句的嵌套可以放在if的任何分支之中。\n",
    "- if嵌套，在理论上是可以无限嵌套的。 \n",
    "- 在if嵌套多层时，一定要注意代码的缩进，以免发生错误。"
   ]
  },
  {
   "cell_type": "code",
   "execution_count": 19,
   "metadata": {},
   "outputs": [
    {
     "name": "stdout",
     "output_type": "stream",
     "text": [
      "请输入一个数字:0\n",
      "亲，能不能输入一个正数啊！\n"
     ]
    }
   ],
   "source": [
    "num = float(input(\"请输入一个数字:\"))\n",
    "if num >= 1:\n",
    "    if num <= 9:\n",
    "        print(\"这个数在1-9之间\")\n",
    "    else:\n",
    "        print(\"我不猜了\")\n",
    "else:\n",
    "    print(\"亲，能不能输入一个正数啊！\")"
   ]
  },
  {
   "cell_type": "markdown",
   "metadata": {},
   "source": [
    "## 4.4 循环语句---for循环\n",
    "\n",
    "```python\n",
    "  for 变量 in 字符串|列表|元组|字典|集合：\n",
    "      代码块\n",
    "```\n",
    "- 格式中，变量用于存放从序列类型变量中读取出来的元素\n",
    "- for循环可遍历除数字以外的数据基本类型，如字符串、元组、列表、集合、字典、文件等\n",
    "- 在使用 for 循环时，最基本的应用就是进行数值循环，如使用 range() 函数，生成一系列连续整数进行数值循环\n",
    "- range() 函数联合len()函数一起使用，可通过序列索引对序列类型变量进行遍历"
   ]
  },
  {
   "cell_type": "code",
   "execution_count": 20,
   "metadata": {},
   "outputs": [
    {
     "name": "stdout",
     "output_type": "stream",
     "text": [
      "apple\n",
      "orange\n",
      "banana\n",
      "grape\n"
     ]
    }
   ],
   "source": [
    "#for循环遍历列表\n",
    "Fruits=['apple','orange','banana','grape']\n",
    "for fruit in Fruits:\n",
    "    print(fruit)"
   ]
  },
  {
   "cell_type": "code",
   "execution_count": 21,
   "metadata": {},
   "outputs": [
    {
     "name": "stdout",
     "output_type": "stream",
     "text": [
      "0 : C\n",
      "1 : A\n",
      "2 : D\n"
     ]
    }
   ],
   "source": [
    "#for循环，枚举序列\n",
    "for index,value in enumerate('CAD'):\n",
    "    print(index, ':', value)"
   ]
  },
  {
   "cell_type": "code",
   "execution_count": 22,
   "metadata": {},
   "outputs": [
    {
     "name": "stdout",
     "output_type": "stream",
     "text": [
      "计算 1+2+...+100 的结果为：5050\n"
     ]
    }
   ],
   "source": [
    "#for循环，数值循环—range()函数\n",
    "print(\"计算 1+2+...+100 的结果为：\",end='')\n",
    "\n",
    "#保存累加结果的变量\n",
    "result = 0\n",
    "#逐个获取从 1 到 100 这些值，并做累加操作\n",
    "for i in range(101):\n",
    "    result += i\n",
    "print(result)"
   ]
  },
  {
   "cell_type": "code",
   "execution_count": 23,
   "metadata": {},
   "outputs": [
    {
     "name": "stdout",
     "output_type": "stream",
     "text": [
      "0 : banana\n",
      "1 : apple\n",
      "2 : mango\n",
      "3 : grape\n"
     ]
    }
   ],
   "source": [
    "#for循环,range()函数联合len()函数一起使用,进行索引遍历\n",
    "fruits = ['banana','apple','mango','grape']\n",
    "for index in range(len(fruits)):\n",
    "    print(index,':', fruits[index])"
   ]
  },
  {
   "cell_type": "markdown",
   "metadata": {},
   "source": [
    "## 4.5 while循环语句\n",
    "```python\n",
    "while 条件表达式:\n",
    "    执行代码1\n",
    "    执行代码2\n",
    "     ...(省略)...\n",
    "else:\n",
    "    执行代码\n",
    "```\n",
    "- 循环语句是在满足一定条件下重复执行某段程序，直至条件不满足为止\n",
    "- 条件表达式是循环执行的条件，每次循环执行前，都要执行条件表达式，如果条件表达式为假，则不执行循环语句，退出循环\n",
    "- 如果条件表达式在循环开始时就为假，则不执行循环语句，直接退出循环,执行else分支。\n",
    "- while循环语句的执行取决于是否满足循环条件，当循环条件一直满足或循环条件一直不变时，循环将一直持续下去，这种循环称为“死循环”或者“无限循环”。我们应避免“死循环”,循环条件必须要在循环体中改变.\n",
    "- 每次循环退出后，都会执行else语句，如不需要，此分支可省略。\n",
    "- 也可以使用while循环对序列类型变量进行遍历,不过就需要配合索引功能了"
   ]
  },
  {
   "cell_type": "code",
   "execution_count": 24,
   "metadata": {
    "collapsed": true
   },
   "outputs": [
    {
     "name": "stdout",
     "output_type": "stream",
     "text": [
      "输入一个数字，我将告诉你，它是奇数，还是偶数哦O(∩_∩)O~ \n",
      "输入“不玩了”，将退出本程序： 4\n",
      "该数是偶数\n",
      "\n",
      "输入一个数字，我将告诉你，它是奇数，还是偶数哦O(∩_∩)O~ \n",
      "输入“不玩了”，将退出本程序： 3\n",
      "该数是奇数\n",
      "\n",
      "输入一个数字，我将告诉你，它是奇数，还是偶数哦O(∩_∩)O~ \n",
      "输入“不玩了”，将退出本程序： 4.2\n",
      "输入的必须是数字哦\n",
      "  \n",
      "输入一个数字，我将告诉你，它是奇数，还是偶数哦O(∩_∩)O~ \n",
      "输入“不玩了”，将退出本程序： 2\n",
      "该数是偶数\n",
      "\n",
      "输入一个数字，我将告诉你，它是奇数，还是偶数哦O(∩_∩)O~ \n",
      "输入“不玩了”，将退出本程序： 不玩了\n",
      "\n",
      "退出本程序\n"
     ]
    }
   ],
   "source": [
    "prompt = '输入一个数字，我将告诉你，它是奇数，还是偶数哦O(∩_∩)O~ '\n",
    "prompt += '\\n输入“不玩了”，将退出本程序： '\n",
    "exit = '不玩了' # 退出指令\n",
    "content = input(prompt) # 输入内容\n",
    "while content!=exit:    \n",
    "    if content.isdigit():\n",
    "        number = int(content)\n",
    "        if (number % 2 == 0):\n",
    "            print('该数是偶数\\n')\n",
    "        else:\n",
    "            print('该数是奇数\\n')\n",
    "    else:\n",
    "        print('输入的必须是数字哦\\n  ')\n",
    "    content = input(prompt)\n",
    "else:\n",
    "    print('\\n退出本程序')"
   ]
  },
  {
   "cell_type": "code",
   "execution_count": 5,
   "metadata": {},
   "outputs": [
    {
     "name": "stdout",
     "output_type": "stream",
     "text": [
      "55\n"
     ]
    }
   ],
   "source": [
    "#while循环对列表进行遍历,不过就需要配合索引功能了\n",
    "L=[1,2,3,4,5,6,7,8,9,10]\n",
    "i=0\n",
    "sum=0\n",
    "while i<len(L):\n",
    "    sum+=L[i]\n",
    "    i+=1\n",
    "print(sum)"
   ]
  },
  {
   "cell_type": "markdown",
   "metadata": {},
   "source": [
    "## 4.6 break语句\n",
    "- break语句用在while和for循环中\n",
    "- break语句用来终止循环语句，即循环条件没有False条件或者序列还没被完全递归完，也会停止执行循环语句,并退出循环体。\n",
    "- 如果您使用嵌套循环，break语句将停止执行最深层的循环，退出该层循环体,并开始执行下一行代码。"
   ]
  },
  {
   "cell_type": "code",
   "execution_count": 6,
   "metadata": {},
   "outputs": [
    {
     "name": "stdout",
     "output_type": "stream",
     "text": [
      "i= 0\n",
      "j= 1\n",
      "j= 2\n",
      "j= 3\n",
      "j= 4\n",
      "j= 5\n",
      "---------------\n",
      "i= 1\n",
      "j= 1\n",
      "j= 2\n",
      "j= 3\n",
      "j= 4\n",
      "j= 5\n",
      "---------------\n"
     ]
    }
   ],
   "source": [
    "for i in range(2): #第一层循环体\n",
    "    print('i=',i)\n",
    "    j=0\n",
    "    while j<5: #第二层循环体\n",
    "        j+=1\n",
    "        print('j=',j)         \n",
    "    print('---------------')"
   ]
  },
  {
   "cell_type": "code",
   "execution_count": 7,
   "metadata": {},
   "outputs": [
    {
     "name": "stdout",
     "output_type": "stream",
     "text": [
      "i= 0\n",
      "j= 1\n",
      "j= 2\n",
      "---------------\n",
      "i= 1\n",
      "j= 1\n",
      "j= 2\n",
      "---------------\n"
     ]
    }
   ],
   "source": [
    "for i in range(2):#第一层循环体\n",
    "    print('i=',i)\n",
    "    j=0\n",
    "    while j<5: #第二层循环体\n",
    "        j+=1\n",
    "        if j == 3:\n",
    "            break      # 中断该层循环,跳出该层循环,返回第一层循环中,执行该while语句后的代码\n",
    "        print('j=',j)         \n",
    "    print('---------------')"
   ]
  },
  {
   "cell_type": "markdown",
   "metadata": {},
   "source": [
    "从以上两段代码中可以看出,break只能退出本层的循环中,即它终止第二层的循环,并返回到第一层循环中继续执行以下的代码."
   ]
  },
  {
   "cell_type": "markdown",
   "metadata": {},
   "source": [
    "## 4.7 continue语句\n",
    "- continue语句用在while和for循环中\n",
    "- continue语句跳过当前循环的剩余语句，然后继续进行本层循环体的下一轮循环\n",
    "- continue语句不会终止当前循环体，也不会跳出本层循环。"
   ]
  },
  {
   "cell_type": "code",
   "execution_count": 8,
   "metadata": {},
   "outputs": [
    {
     "name": "stdout",
     "output_type": "stream",
     "text": [
      "i= 0\n",
      "j= 1\n",
      "j= 2\n",
      "j= 4\n",
      "j= 5\n",
      "---------------\n",
      "i= 1\n",
      "j= 1\n",
      "j= 2\n",
      "j= 4\n",
      "j= 5\n",
      "---------------\n"
     ]
    }
   ],
   "source": [
    "for i in range(2):#第一层循环体\n",
    "    print('i=',i)\n",
    "    j=0\n",
    "    while j<5: #第二层循环体\n",
    "        j+=1\n",
    "        if j == 3:\n",
    "            continue      # 终止本次循环,返回该层循环本开始的地方,即while条件判断处.\n",
    "        print('j=',j) \n",
    "    print('---------------')"
   ]
  },
  {
   "cell_type": "markdown",
   "metadata": {},
   "source": [
    "continue语句不会终止当前循环体，也不会跳出本层循环。"
   ]
  },
  {
   "cell_type": "markdown",
   "metadata": {},
   "source": [
    "# 5.列表"
   ]
  },
  {
   "cell_type": "markdown",
   "metadata": {},
   "source": [
    "列表中的元素,没有数据类型的限制,可以为任何数据类型"
   ]
  },
  {
   "cell_type": "code",
   "execution_count": 10,
   "metadata": {},
   "outputs": [
    {
     "data": {
      "text/plain": [
       "[1, 2, 3, 'on', 'go', True, False, None]"
      ]
     },
     "execution_count": 10,
     "metadata": {},
     "output_type": "execute_result"
    }
   ],
   "source": [
    "L= [1, 2, 3,'on','go',True,False,None]\n",
    "L"
   ]
  },
  {
   "cell_type": "markdown",
   "metadata": {},
   "source": [
    "## 5.1 索引和切片"
   ]
  },
  {
   "cell_type": "code",
   "execution_count": 11,
   "metadata": {},
   "outputs": [
    {
     "data": {
      "text/plain": [
       "[9, 6, 3]"
      ]
     },
     "execution_count": 11,
     "metadata": {},
     "output_type": "execute_result"
    }
   ],
   "source": [
    "L = [1,2,3,4,5,6,7,8,9,0]\n",
    "L[-2:0:-3]  #L[起始位置:终止位置:步长] 包含起始位置,不包含终止位置"
   ]
  },
  {
   "cell_type": "markdown",
   "metadata": {},
   "source": [
    "## 5.2 修改元素值\n",
    "通过元素的索引位置来索引元素"
   ]
  },
  {
   "cell_type": "code",
   "execution_count": 12,
   "metadata": {},
   "outputs": [
    {
     "data": {
      "text/plain": [
       "['R', 2, 3, 4, 5]"
      ]
     },
     "execution_count": 12,
     "metadata": {},
     "output_type": "execute_result"
    }
   ],
   "source": [
    "L=[1,2,3,4,5]\n",
    "L[0]='R'\n",
    "L   #一个元素"
   ]
  },
  {
   "cell_type": "code",
   "execution_count": 13,
   "metadata": {},
   "outputs": [
    {
     "data": {
      "text/plain": [
       "[1, 2, 'C', 'P']"
      ]
     },
     "execution_count": 13,
     "metadata": {},
     "output_type": "execute_result"
    }
   ],
   "source": [
    "L=[1,2,3,4,5]\n",
    "L[2:]='C','P'\n",
    "L  # 多个元素"
   ]
  },
  {
   "cell_type": "markdown",
   "metadata": {},
   "source": [
    "## 5.3 添加元素"
   ]
  },
  {
   "cell_type": "markdown",
   "metadata": {},
   "source": [
    "### 5.3.1 append\n",
    "通过append可以向列表添加元素"
   ]
  },
  {
   "cell_type": "code",
   "execution_count": 14,
   "metadata": {},
   "outputs": [
    {
     "data": {
      "text/plain": [
       "['Superman', 'Hulk', 'Spiderman', 'Leifengxia']"
      ]
     },
     "execution_count": 14,
     "metadata": {},
     "output_type": "execute_result"
    }
   ],
   "source": [
    "L = ['Superman','Hulk','Spiderman']\n",
    "L.append('Leifengxia')\n",
    "L"
   ]
  },
  {
   "cell_type": "markdown",
   "metadata": {},
   "source": [
    "### 5.3.2 extend\n",
    "通过extend可以追加元素到列表中"
   ]
  },
  {
   "cell_type": "code",
   "execution_count": 15,
   "metadata": {},
   "outputs": [
    {
     "data": {
      "text/plain": [
       "[1, 2, 3, 4]"
      ]
     },
     "execution_count": 15,
     "metadata": {},
     "output_type": "execute_result"
    }
   ],
   "source": [
    "a = [1,2]\n",
    "b = [3,4]\n",
    "a.extend(b)\n",
    "a"
   ]
  },
  {
   "cell_type": "markdown",
   "metadata": {},
   "source": [
    "### 5.3.3 insert\n",
    "insert(index, object) 在指定位置index前插入元素object"
   ]
  },
  {
   "cell_type": "code",
   "execution_count": 16,
   "metadata": {},
   "outputs": [
    {
     "data": {
      "text/plain": [
       "['插', '入', '元', '素']"
      ]
     },
     "execution_count": 16,
     "metadata": {},
     "output_type": "execute_result"
    }
   ],
   "source": [
    "a = ['插','入','素']\n",
    "a.insert( 2,'元')\n",
    "a"
   ]
  },
  {
   "cell_type": "markdown",
   "metadata": {},
   "source": [
    "## 5.4 查找元素"
   ]
  },
  {
   "cell_type": "code",
   "execution_count": 17,
   "metadata": {},
   "outputs": [],
   "source": [
    "test = ['插', '入', '元', '素']"
   ]
  },
  {
   "cell_type": "code",
   "execution_count": 18,
   "metadata": {},
   "outputs": [
    {
     "data": {
      "text/plain": [
       "True"
      ]
     },
     "execution_count": 18,
     "metadata": {},
     "output_type": "execute_result"
    }
   ],
   "source": [
    "'入' in test"
   ]
  },
  {
   "cell_type": "code",
   "execution_count": 19,
   "metadata": {},
   "outputs": [
    {
     "data": {
      "text/plain": [
       "False"
      ]
     },
     "execution_count": 19,
     "metadata": {},
     "output_type": "execute_result"
    }
   ],
   "source": [
    "'元' not in test"
   ]
  },
  {
   "cell_type": "code",
   "execution_count": 23,
   "metadata": {},
   "outputs": [
    {
     "data": {
      "text/plain": [
       "1"
      ]
     },
     "execution_count": 23,
     "metadata": {},
     "output_type": "execute_result"
    }
   ],
   "source": [
    "test.index('入') #查找在列表的位置，查找时必须在列表中存在。"
   ]
  },
  {
   "cell_type": "code",
   "execution_count": 21,
   "metadata": {},
   "outputs": [
    {
     "data": {
      "text/plain": [
       "1"
      ]
     },
     "execution_count": 21,
     "metadata": {},
     "output_type": "execute_result"
    }
   ],
   "source": [
    "test.count('元') #计数，查找在列表中出现几次"
   ]
  },
  {
   "cell_type": "markdown",
   "metadata": {},
   "source": [
    "## 5.5 删除元素"
   ]
  },
  {
   "cell_type": "markdown",
   "metadata": {},
   "source": [
    "### 5.5.1 del"
   ]
  },
  {
   "cell_type": "code",
   "execution_count": 24,
   "metadata": {},
   "outputs": [
    {
     "data": {
      "text/plain": [
       "['加勒比海盗', '骇客帝国', '指环王', '霍比特人', '速度与激情']"
      ]
     },
     "execution_count": 24,
     "metadata": {},
     "output_type": "execute_result"
    }
   ],
   "source": [
    "movieName = ['加勒比海盗','骇客帝国','第一滴血','指环王','霍比特人','速度与激情']\n",
    "del movieName[2]\n",
    "movieName"
   ]
  },
  {
   "cell_type": "code",
   "execution_count": 25,
   "metadata": {},
   "outputs": [
    {
     "data": {
      "text/plain": [
       "['加勒比海盗', '指环王', '霍比特人', '速度与激情']"
      ]
     },
     "execution_count": 25,
     "metadata": {},
     "output_type": "execute_result"
    }
   ],
   "source": [
    "movieName = ['加勒比海盗','骇客帝国','第一滴血','指环王','霍比特人','速度与激情']\n",
    "del movieName[1:3]  #移除第二个和第三个\n",
    "movieName"
   ]
  },
  {
   "cell_type": "markdown",
   "metadata": {},
   "source": [
    "### 5.5.2 pop"
   ]
  },
  {
   "cell_type": "code",
   "execution_count": 29,
   "metadata": {},
   "outputs": [
    {
     "data": {
      "text/plain": [
       "['加勒比海盗', '第一滴血', '指环王', '霍比特人', '速度与激情']"
      ]
     },
     "execution_count": 29,
     "metadata": {},
     "output_type": "execute_result"
    }
   ],
   "source": [
    "movieName = ['加勒比海盗','骇客帝国','第一滴血','指环王','霍比特人','速度与激情']\n",
    "movieName.pop(1)  \n",
    "# movieName"
   ]
  },
  {
   "cell_type": "markdown",
   "metadata": {},
   "source": [
    "### 5.5.3 remove"
   ]
  },
  {
   "cell_type": "code",
   "execution_count": 32,
   "metadata": {},
   "outputs": [
    {
     "data": {
      "text/plain": [
       "['加勒比海盗', '第一滴血', '指环王', '霍比特人', '速度与激情']"
      ]
     },
     "execution_count": 32,
     "metadata": {},
     "output_type": "execute_result"
    }
   ],
   "source": [
    "movieName = ['加勒比海盗','骇客帝国','第一滴血','指环王','霍比特人','速度与激情']\n",
    "movieName.remove('骇客帝国')\n",
    "movieName"
   ]
  },
  {
   "cell_type": "markdown",
   "metadata": {},
   "source": [
    "## 5.6 排序"
   ]
  },
  {
   "cell_type": "markdown",
   "metadata": {},
   "source": [
    "### 5.6.1 sort\n",
    "将list按特定顺序重新排列，默认为由小到大，参数reverse=True可改为倒序，由大到小"
   ]
  },
  {
   "cell_type": "code",
   "execution_count": 37,
   "metadata": {},
   "outputs": [],
   "source": [
    "a = [1, 4, 2, 3]"
   ]
  },
  {
   "cell_type": "code",
   "execution_count": 34,
   "metadata": {},
   "outputs": [
    {
     "data": {
      "text/plain": [
       "[1, 2, 3, 4]"
      ]
     },
     "execution_count": 34,
     "metadata": {},
     "output_type": "execute_result"
    }
   ],
   "source": [
    "a.sort()  #  按特定顺序重新排列，默认为由小到大\n",
    "a"
   ]
  },
  {
   "cell_type": "code",
   "execution_count": 35,
   "metadata": {},
   "outputs": [
    {
     "data": {
      "text/plain": [
       "[4, 3, 2, 1]"
      ]
     },
     "execution_count": 35,
     "metadata": {},
     "output_type": "execute_result"
    }
   ],
   "source": [
    "a.sort(reverse=True) #顺序改为倒序并由大到小。\n",
    "a"
   ]
  },
  {
   "cell_type": "markdown",
   "metadata": {},
   "source": [
    "### 5.6.2 reverse\n",
    "将list逆置"
   ]
  },
  {
   "cell_type": "code",
   "execution_count": 38,
   "metadata": {},
   "outputs": [
    {
     "data": {
      "text/plain": [
       "[3, 2, 4, 1]"
      ]
     },
     "execution_count": 38,
     "metadata": {},
     "output_type": "execute_result"
    }
   ],
   "source": [
    "a.reverse() #将a逆置\n",
    "a"
   ]
  },
  {
   "cell_type": "markdown",
   "metadata": {},
   "source": [
    "# 6.元组tuple\n",
    "Python的元组与列表类似，不同之处在于元组的元素不能修改。元组使用小括号，列表使用方括号，不可变数据类型。"
   ]
  },
  {
   "cell_type": "code",
   "execution_count": 39,
   "metadata": {},
   "outputs": [
    {
     "data": {
      "text/plain": [
       "('et', 77, 99.9, 'OK')"
      ]
     },
     "execution_count": 39,
     "metadata": {},
     "output_type": "execute_result"
    }
   ],
   "source": [
    "aTuple = ('et',77,99.9,'OK')\n",
    "aTuple"
   ]
  },
  {
   "cell_type": "code",
   "execution_count": 40,
   "metadata": {},
   "outputs": [
    {
     "data": {
      "text/plain": [
       "'et'"
      ]
     },
     "execution_count": 40,
     "metadata": {},
     "output_type": "execute_result"
    }
   ],
   "source": [
    "aTuple[0]"
   ]
  },
  {
   "cell_type": "markdown",
   "metadata": {},
   "source": [
    "## 两个陷阱"
   ]
  },
  {
   "cell_type": "markdown",
   "metadata": {},
   "source": [
    "只有一个元素的原则"
   ]
  },
  {
   "cell_type": "code",
   "execution_count": 41,
   "metadata": {},
   "outputs": [
    {
     "data": {
      "text/plain": [
       "1"
      ]
     },
     "execution_count": 41,
     "metadata": {},
     "output_type": "execute_result"
    }
   ],
   "source": [
    "#这样定义出来的是数字, 而不是元组\n",
    "tp1 = (1)\n",
    "tp1"
   ]
  },
  {
   "cell_type": "code",
   "execution_count": 42,
   "metadata": {},
   "outputs": [
    {
     "data": {
      "text/plain": [
       "(1,)"
      ]
     },
     "execution_count": 42,
     "metadata": {},
     "output_type": "execute_result"
    }
   ],
   "source": [
    "#如果想要定义一个元素的元组，要加逗号，不加逗号打印出来为整数\n",
    "tp2 = (1,) \n",
    "tp2"
   ]
  },
  {
   "cell_type": "markdown",
   "metadata": {},
   "source": [
    "不可变特点:元素里面的内存地址不能变"
   ]
  },
  {
   "cell_type": "code",
   "execution_count": 43,
   "metadata": {},
   "outputs": [
    {
     "data": {
      "text/plain": [
       "('a', 'b', ['x', 'B'])"
      ]
     },
     "execution_count": 43,
     "metadata": {},
     "output_type": "execute_result"
    }
   ],
   "source": [
    "tp3=('a','b',['A','B'])\n",
    "tp3[2][0]='x'\n",
    "tp3       #当A变成x时是列表中的元素变了，但是指向的列表还是原来的列表，列表的内存地址并没有改变。"
   ]
  },
  {
   "cell_type": "markdown",
   "metadata": {},
   "source": [
    "# 7.字典dict"
   ]
  },
  {
   "cell_type": "markdown",
   "metadata": {},
   "source": [
    "## 7.1 键值对构成\n",
    "- 字典的key只支持不可变的数据类型,如:数值,布尔,字符串,元组，字典的key不能有重复值\n",
    "- 字典的value是可以随意的"
   ]
  },
  {
   "cell_type": "code",
   "execution_count": 44,
   "metadata": {},
   "outputs": [
    {
     "data": {
      "text/plain": [
       "{'语文': 145, '数学': 120, '英语': 135, '理综': 270}"
      ]
     },
     "execution_count": 44,
     "metadata": {},
     "output_type": "execute_result"
    }
   ],
   "source": [
    "d = {'语文':145,'数学':120,'英语':135,'理综':270}\n",
    "d"
   ]
  },
  {
   "cell_type": "markdown",
   "metadata": {},
   "source": [
    "## 7.2 增改\n",
    "- key存在即修改，key不存在即新增\n",
    "- 一个key只能对应一个value，所以，多次对一个key放入value，后面的值会把前面的值冲掉\n",
    "- 如果key不存在，dict就会报错"
   ]
  },
  {
   "cell_type": "code",
   "execution_count": 45,
   "metadata": {},
   "outputs": [
    {
     "data": {
      "text/plain": [
       "{'语文': 145, '数学': 120, '英语': 135, '理综': 270, '物理': 70}"
      ]
     },
     "execution_count": 45,
     "metadata": {},
     "output_type": "execute_result"
    }
   ],
   "source": [
    "#新增\n",
    "d['物理']=70\n",
    "d"
   ]
  },
  {
   "cell_type": "code",
   "execution_count": 46,
   "metadata": {},
   "outputs": [
    {
     "data": {
      "text/plain": [
       "{'语文': 145, '数学': 100, '英语': 135, '理综': 270, '物理': 70}"
      ]
     },
     "execution_count": 46,
     "metadata": {},
     "output_type": "execute_result"
    }
   ],
   "source": [
    "#修改\n",
    "d['数学']=100\n",
    "d"
   ]
  },
  {
   "cell_type": "markdown",
   "metadata": {},
   "source": [
    "## 7.3删除"
   ]
  },
  {
   "cell_type": "code",
   "execution_count": 47,
   "metadata": {},
   "outputs": [
    {
     "data": {
      "text/plain": [
       "{'语文': 145, '数学': 100, '英语': 135, '理综': 270}"
      ]
     },
     "execution_count": 47,
     "metadata": {},
     "output_type": "execute_result"
    }
   ],
   "source": [
    "d.pop('物理') #key必须要传值，因为字典是无序的\n",
    "d"
   ]
  },
  {
   "cell_type": "code",
   "execution_count": 48,
   "metadata": {},
   "outputs": [
    {
     "data": {
      "text/plain": [
       "{'语文': 145, '数学': 100, '英语': 135}"
      ]
     },
     "execution_count": 48,
     "metadata": {},
     "output_type": "execute_result"
    }
   ],
   "source": [
    "d.popitem() #随机删除一个\n",
    "d"
   ]
  },
  {
   "cell_type": "code",
   "execution_count": 49,
   "metadata": {},
   "outputs": [
    {
     "data": {
      "text/plain": [
       "{'数学': 100, '英语': 135}"
      ]
     },
     "execution_count": 49,
     "metadata": {},
     "output_type": "execute_result"
    }
   ],
   "source": [
    "del d['语文'] #从数据源删除\n",
    "d"
   ]
  },
  {
   "cell_type": "code",
   "execution_count": 50,
   "metadata": {},
   "outputs": [
    {
     "data": {
      "text/plain": [
       "{}"
      ]
     },
     "execution_count": 50,
     "metadata": {},
     "output_type": "execute_result"
    }
   ],
   "source": [
    "d.clear() #清空字典\n",
    "d"
   ]
  },
  {
   "cell_type": "markdown",
   "metadata": {},
   "source": [
    "## 7.4 判断key是否存在\n",
    "- in方法：返回的是布尔值,key存在返回True;key不存在返回False。 \n",
    "- get方法：key存在,返回对应的value;key不存在,可以返回None，或者指定的value。"
   ]
  },
  {
   "cell_type": "code",
   "execution_count": 51,
   "metadata": {},
   "outputs": [],
   "source": [
    "d = {'语文':145,'数学':120,'英语':135,'理综':270}"
   ]
  },
  {
   "cell_type": "code",
   "execution_count": 52,
   "metadata": {},
   "outputs": [
    {
     "data": {
      "text/plain": [
       "True"
      ]
     },
     "execution_count": 52,
     "metadata": {},
     "output_type": "execute_result"
    }
   ],
   "source": [
    " '语文' in d"
   ]
  },
  {
   "cell_type": "code",
   "execution_count": 53,
   "metadata": {},
   "outputs": [
    {
     "data": {
      "text/plain": [
       "145"
      ]
     },
     "execution_count": 53,
     "metadata": {},
     "output_type": "execute_result"
    }
   ],
   "source": [
    "d.get('语文')"
   ]
  },
  {
   "cell_type": "code",
   "execution_count": 54,
   "metadata": {},
   "outputs": [
    {
     "data": {
      "text/plain": [
       "'不存在'"
      ]
     },
     "execution_count": 54,
     "metadata": {},
     "output_type": "execute_result"
    }
   ],
   "source": [
    "d.get('生物','不存在')"
   ]
  },
  {
   "cell_type": "markdown",
   "metadata": {},
   "source": [
    "## 7.5 辅助遍历的方法"
   ]
  },
  {
   "cell_type": "code",
   "execution_count": 55,
   "metadata": {},
   "outputs": [
    {
     "data": {
      "text/plain": [
       "dict_keys(['语文', '数学', '英语', '理综'])"
      ]
     },
     "execution_count": 55,
     "metadata": {},
     "output_type": "execute_result"
    }
   ],
   "source": [
    "d.keys() #将所有的key变为列表返回"
   ]
  },
  {
   "cell_type": "code",
   "execution_count": 56,
   "metadata": {},
   "outputs": [
    {
     "data": {
      "text/plain": [
       "dict_values([145, 120, 135, 270])"
      ]
     },
     "execution_count": 56,
     "metadata": {},
     "output_type": "execute_result"
    }
   ],
   "source": [
    "d.values() #将所有的values变成列表返回"
   ]
  },
  {
   "cell_type": "code",
   "execution_count": 57,
   "metadata": {},
   "outputs": [
    {
     "data": {
      "text/plain": [
       "dict_items([('语文', 145), ('数学', 120), ('英语', 135), ('理综', 270)])"
      ]
     },
     "execution_count": 57,
     "metadata": {},
     "output_type": "execute_result"
    }
   ],
   "source": [
    "d.items() #将key和values打包成元组返回"
   ]
  },
  {
   "cell_type": "code",
   "execution_count": 59,
   "metadata": {},
   "outputs": [
    {
     "name": "stdout",
     "output_type": "stream",
     "text": [
      "语文 135\n",
      "数学 110\n",
      "英语 125\n",
      "理综 260\n"
     ]
    }
   ],
   "source": [
    "for k,v in d.items():   \n",
    "    print(k,v)"
   ]
  },
  {
   "cell_type": "markdown",
   "metadata": {},
   "source": [
    "直接对字典进行遍历,临时变量会接收到字典的key"
   ]
  },
  {
   "cell_type": "code",
   "execution_count": 58,
   "metadata": {},
   "outputs": [
    {
     "data": {
      "text/plain": [
       "{'语文': 135, '数学': 110, '英语': 125, '理综': 260}"
      ]
     },
     "execution_count": 58,
     "metadata": {},
     "output_type": "execute_result"
    }
   ],
   "source": [
    "# 给所有科都减去10分\n",
    "for key in d:\n",
    "    d[key] -= 10\n",
    "d"
   ]
  },
  {
   "cell_type": "markdown",
   "metadata": {},
   "source": [
    "# 8.集合set\n",
    "无序的不重复元素序列,是一个没有value的dict."
   ]
  },
  {
   "cell_type": "code",
   "execution_count": 60,
   "metadata": {},
   "outputs": [
    {
     "data": {
      "text/plain": [
       "{1, 2, 3, 4, 6, 7}"
      ]
     },
     "execution_count": 60,
     "metadata": {},
     "output_type": "execute_result"
    }
   ],
   "source": [
    "s = set([2, 1, 3, 4, 6, 7])#注意set是无序的\n",
    "s"
   ]
  },
  {
   "cell_type": "code",
   "execution_count": 61,
   "metadata": {},
   "outputs": [
    {
     "data": {
      "text/plain": [
       "{1, 2, 3}"
      ]
     },
     "execution_count": 61,
     "metadata": {},
     "output_type": "execute_result"
    }
   ],
   "source": [
    "s = set([1, 1, 2, 2, 3, 3])#过滤重复值\n",
    "s"
   ]
  },
  {
   "cell_type": "markdown",
   "metadata": {},
   "source": [
    "## 8.1 增添"
   ]
  },
  {
   "cell_type": "code",
   "execution_count": 62,
   "metadata": {},
   "outputs": [
    {
     "data": {
      "text/plain": [
       "{1, 2, 3, 4}"
      ]
     },
     "execution_count": 62,
     "metadata": {},
     "output_type": "execute_result"
    }
   ],
   "source": [
    "s.add(4) #但对于已经存在的值不会有效果\n",
    "s"
   ]
  },
  {
   "cell_type": "markdown",
   "metadata": {},
   "source": [
    "## 8.2 删除"
   ]
  },
  {
   "cell_type": "code",
   "execution_count": 63,
   "metadata": {},
   "outputs": [
    {
     "data": {
      "text/plain": [
       "{1, 2, 3}"
      ]
     },
     "execution_count": 63,
     "metadata": {},
     "output_type": "execute_result"
    }
   ],
   "source": [
    "s.remove(4) #移除\n",
    "s"
   ]
  },
  {
   "cell_type": "code",
   "execution_count": 68,
   "metadata": {},
   "outputs": [
    {
     "data": {
      "text/plain": [
       "{2, 3}"
      ]
     },
     "execution_count": 68,
     "metadata": {},
     "output_type": "execute_result"
    }
   ],
   "source": [
    "s.pop()#随机弹出\n",
    "s"
   ]
  },
  {
   "cell_type": "code",
   "execution_count": 69,
   "metadata": {},
   "outputs": [
    {
     "data": {
      "text/plain": [
       "set()"
      ]
     },
     "execution_count": 69,
     "metadata": {},
     "output_type": "execute_result"
    }
   ],
   "source": [
    "s.clear() #清空\n",
    "s"
   ]
  },
  {
   "cell_type": "markdown",
   "metadata": {},
   "source": [
    "## 8.3 集合计算方法\n",
    "- & 与 交集 两个都有的元素\n",
    "- | 或 并集 两个有一个以上的\n",
    "- -差集\n",
    "- ^    补集"
   ]
  },
  {
   "cell_type": "code",
   "execution_count": 70,
   "metadata": {},
   "outputs": [],
   "source": [
    "s1={1,2,3,4}\n",
    "s2={2,4,5,6,7}"
   ]
  },
  {
   "cell_type": "code",
   "execution_count": 71,
   "metadata": {},
   "outputs": [
    {
     "data": {
      "text/plain": [
       "{2, 4}"
      ]
     },
     "execution_count": 71,
     "metadata": {},
     "output_type": "execute_result"
    }
   ],
   "source": [
    "s1 & s2"
   ]
  },
  {
   "cell_type": "code",
   "execution_count": 72,
   "metadata": {},
   "outputs": [
    {
     "data": {
      "text/plain": [
       "{1, 2, 3, 4, 5, 6, 7}"
      ]
     },
     "execution_count": 72,
     "metadata": {},
     "output_type": "execute_result"
    }
   ],
   "source": [
    "s1 | s2"
   ]
  },
  {
   "cell_type": "code",
   "execution_count": 73,
   "metadata": {},
   "outputs": [
    {
     "data": {
      "text/plain": [
       "{5, 6, 7}"
      ]
     },
     "execution_count": 73,
     "metadata": {},
     "output_type": "execute_result"
    }
   ],
   "source": [
    "s2-s1"
   ]
  },
  {
   "cell_type": "code",
   "execution_count": 74,
   "metadata": {},
   "outputs": [
    {
     "data": {
      "text/plain": [
       "{1, 3, 5, 6, 7}"
      ]
     },
     "execution_count": 74,
     "metadata": {},
     "output_type": "execute_result"
    }
   ],
   "source": [
    "s1^s2"
   ]
  },
  {
   "cell_type": "markdown",
   "metadata": {},
   "source": [
    "# 9.函数"
   ]
  },
  {
   "cell_type": "markdown",
   "metadata": {},
   "source": [
    "## 9.1 函数的定义及作用\n",
    "- 函数的定义：把具有独立功能的代码块组织成为一个小模块，在需要的时候调用\n",
    "- 函数的使用步骤：1.定义函数–封装独立的功能 2.调用函数–享受封装的成果 \n",
    "- 函数的作用：在开发时，使用函数可以提高编写的效率以及代码的重用\n",
    "- 函数名的命名规则：应该符合标识符的命名规则 ，可由字母、下划线和数字组成 ，不能以数字开头 ，不能与关键字重名"
   ]
  },
  {
   "cell_type": "code",
   "execution_count": 75,
   "metadata": {},
   "outputs": [],
   "source": [
    "#绝对值函数\n",
    "def test(x):\n",
    "    if x>=0:\n",
    "        return x\n",
    "    else:\n",
    "        return -x "
   ]
  },
  {
   "cell_type": "code",
   "execution_count": 76,
   "metadata": {},
   "outputs": [
    {
     "data": {
      "text/plain": [
       "2"
      ]
     },
     "execution_count": 76,
     "metadata": {},
     "output_type": "execute_result"
    }
   ],
   "source": [
    "s=test(-2)\n",
    "s"
   ]
  },
  {
   "attachments": {
    "image.png": {
     "image/png": "[encoded data removed]"
    }
   },
   "cell_type": "markdown",
   "metadata": {},
   "source": [
    "## 9.2 函数的参数\n",
    "![image.png](attachment:image.png)"
   ]
  },
  {
   "cell_type": "code",
   "execution_count": 90,
   "metadata": {},
   "outputs": [],
   "source": [
    "def test1(x, n=2): # 因为我们最常计算的是2次方, 因此设置默认参数n=2\n",
    "    \"\"\"x的n次方\"\"\"\n",
    "    s = 1\n",
    "    while n > 0:\n",
    "        n = n - 1\n",
    "        s = s * x\n",
    "    return s"
   ]
  },
  {
   "cell_type": "code",
   "execution_count": 91,
   "metadata": {},
   "outputs": [
    {
     "data": {
      "text/plain": [
       "16"
      ]
     },
     "execution_count": 91,
     "metadata": {},
     "output_type": "execute_result"
    }
   ],
   "source": [
    "test1(4)"
   ]
  },
  {
   "cell_type": "code",
   "execution_count": 77,
   "metadata": {},
   "outputs": [],
   "source": [
    "def test2(*args):\n",
    "    \"\"\"用来计算一组数字的平方和\n",
    "    *args:可变长参数\"\"\"\n",
    "    s=0\n",
    "    for i in args:\n",
    "        s+=i**2\n",
    "    return s"
   ]
  },
  {
   "cell_type": "code",
   "execution_count": 78,
   "metadata": {},
   "outputs": [
    {
     "data": {
      "text/plain": [
       "14"
      ]
     },
     "execution_count": 78,
     "metadata": {},
     "output_type": "execute_result"
    }
   ],
   "source": [
    "s2=test2(1,2,3)\n",
    "s2"
   ]
  },
  {
   "cell_type": "code",
   "execution_count": 92,
   "metadata": {},
   "outputs": [],
   "source": [
    "def test3(a,b,*args,**kwargs):\n",
    "    \"\"\"可变参数演示\"\"\"\n",
    "    print('a=',a)\n",
    "    print('b=',b)\n",
    "    print('args=',args)\n",
    "    print('kwagrs: ')\n",
    "    print(kwargs)"
   ]
  },
  {
   "cell_type": "code",
   "execution_count": 80,
   "metadata": {
    "collapsed": true
   },
   "outputs": [
    {
     "ename": "SyntaxError",
     "evalue": "positional argument follows keyword argument (<ipython-input-80-7aa86c5b0cd2>, line 1)",
     "output_type": "error",
     "traceback": [
      "\u001b[1;36m  File \u001b[1;32m\"<ipython-input-80-7aa86c5b0cd2>\"\u001b[1;36m, line \u001b[1;32m1\u001b[0m\n\u001b[1;33m    test3(1,2,3,m=6,n=7,p=8,4,5)# 错误原因： 关键字参数m=6之类的，必须在位置参数之后\u001b[0m\n\u001b[1;37m                           ^\u001b[0m\n\u001b[1;31mSyntaxError\u001b[0m\u001b[1;31m:\u001b[0m positional argument follows keyword argument\n"
     ]
    }
   ],
   "source": [
    "test3(1,2,3,m=6,n=7,p=8,4,5)# 错误原因： 关键字参数m=6之类的，必须在位置参数之后"
   ]
  },
  {
   "cell_type": "code",
   "execution_count": 93,
   "metadata": {
    "collapsed": true
   },
   "outputs": [
    {
     "name": "stdout",
     "output_type": "stream",
     "text": [
      "a= 1\n",
      "b= 2\n",
      "args= (3, 4, 5)\n",
      "kwagrs: \n",
      "{'m': 6, 'n': 7, 'p': 8}\n"
     ]
    }
   ],
   "source": [
    "test3(1,2,3,4,5,m=6,n=7,p=8)"
   ]
  },
  {
   "cell_type": "markdown",
   "metadata": {},
   "source": [
    "## 9.3 全局变量与局部变量\n",
    "- 局部变量是在函数内部定义的变量，只能在函数内部使用 \n",
    "- 全局变量是在函数外部定义的变量，(没有定义在某一个函数内)，所有函数内部都可以使用这个变量 \n",
    "- 若在函数中修改全局变量，则需使用global声明 \n",
    "- 局部变量与全局变量的名字相同时，优先使用局部变量"
   ]
  },
  {
   "cell_type": "code",
   "execution_count": 94,
   "metadata": {},
   "outputs": [
    {
     "name": "stdout",
     "output_type": "stream",
     "text": [
      "2\n"
     ]
    }
   ],
   "source": [
    "a=1# 全局变量\n",
    "def test4():\n",
    "    global a # global关键字使用全局变量\n",
    "    a+=1\n",
    "    print(a)\n",
    "test4()"
   ]
  },
  {
   "cell_type": "markdown",
   "metadata": {},
   "source": [
    "# 10.模块"
   ]
  },
  {
   "cell_type": "code",
   "execution_count": null,
   "metadata": {},
   "outputs": [],
   "source": [
    "import math\n",
    "import pandas as pd"
   ]
  },
  {
   "cell_type": "code",
   "execution_count": null,
   "metadata": {},
   "outputs": [],
   "source": [
    "from math import sin,cos,tan #from模块 import 函数名1，函数名2...\n",
    "from math import * # 引入math中所有函数"
   ]
  },
  {
   "cell_type": "markdown",
   "metadata": {},
   "source": [
    "## 10.1 datetime时间模块"
   ]
  },
  {
   "cell_type": "code",
   "execution_count": null,
   "metadata": {},
   "outputs": [],
   "source": [
    "from datetime import datetime as dt"
   ]
  },
  {
   "cell_type": "code",
   "execution_count": null,
   "metadata": {},
   "outputs": [],
   "source": [
    "dt.now().second # 取出‘秒’"
   ]
  },
  {
   "cell_type": "code",
   "execution_count": null,
   "metadata": {},
   "outputs": [],
   "source": [
    "dt.now().timestamp() # 时间戳"
   ]
  },
  {
   "cell_type": "code",
   "execution_count": null,
   "metadata": {},
   "outputs": [],
   "source": [
    "dt(2000,1,1,1,1,2).timestamp() # datetime转换为时间戳"
   ]
  },
  {
   "cell_type": "code",
   "execution_count": null,
   "metadata": {},
   "outputs": [],
   "source": [
    "print(dt.fromtimestamp(946659662)) # 时间戳转换为datetime"
   ]
  },
  {
   "cell_type": "code",
   "execution_count": null,
   "metadata": {},
   "outputs": [],
   "source": [
    "# str转换为datetime\n",
    "time = input(\"请输入你想查询的时间: 格式为: \")\n",
    "c = dt.strptime(time, '%Y-%m-%d %H:%M:%S')\n",
    "print(c)"
   ]
  },
  {
   "cell_type": "code",
   "execution_count": null,
   "metadata": {},
   "outputs": [],
   "source": [
    "# datetime转换为str\n",
    "test_day=dt(2020,5,24,12,12,12)\n",
    "t=test_day.strftime('%y-%m-%d %H:%M:%S')\n",
    "y=test_day.strftime('%c')\n",
    "print(t)\n",
    "print(y)"
   ]
  },
  {
   "cell_type": "markdown",
   "metadata": {},
   "source": [
    "## 10.2 time时间模块"
   ]
  },
  {
   "cell_type": "code",
   "execution_count": null,
   "metadata": {},
   "outputs": [],
   "source": [
    "import time"
   ]
  },
  {
   "cell_type": "code",
   "execution_count": null,
   "metadata": {},
   "outputs": [],
   "source": [
    "c=10\n",
    "for i in range(c):\n",
    "    print(i)\n",
    "    time.sleep(0.5)"
   ]
  },
  {
   "cell_type": "code",
   "execution_count": null,
   "metadata": {},
   "outputs": [],
   "source": [
    "time.asctime() # 获取当前时间"
   ]
  },
  {
   "cell_type": "code",
   "execution_count": null,
   "metadata": {},
   "outputs": [],
   "source": [
    "time.time() # 获取当前时间戳"
   ]
  },
  {
   "cell_type": "code",
   "execution_count": null,
   "metadata": {},
   "outputs": [],
   "source": [
    "time.strftime('%Y-%m-%d') # time转换为str"
   ]
  },
  {
   "cell_type": "code",
   "execution_count": null,
   "metadata": {},
   "outputs": [],
   "source": [
    "record = time.time()\n",
    "print(dt.fromtimestamp(record))"
   ]
  },
  {
   "cell_type": "markdown",
   "metadata": {},
   "source": [
    "## 10.3 random模块"
   ]
  },
  {
   "cell_type": "code",
   "execution_count": 95,
   "metadata": {},
   "outputs": [],
   "source": [
    "import random"
   ]
  },
  {
   "cell_type": "code",
   "execution_count": 99,
   "metadata": {},
   "outputs": [
    {
     "name": "stdout",
     "output_type": "stream",
     "text": [
      "0.3862052506009295\n"
     ]
    }
   ],
   "source": [
    "print(random.random()) #返回一个0-1随机小数"
   ]
  },
  {
   "cell_type": "code",
   "execution_count": 97,
   "metadata": {},
   "outputs": [
    {
     "name": "stdout",
     "output_type": "stream",
     "text": [
      "2\n"
     ]
    }
   ],
   "source": [
    "print(random.randint(1,5)) #返回1-5随机整型数据"
   ]
  },
  {
   "cell_type": "markdown",
   "metadata": {},
   "source": [
    "# 11.文件读写"
   ]
  },
  {
   "cell_type": "markdown",
   "metadata": {},
   "source": [
    "```\n",
    "a=open('file文件路径','mode模式',Encoding='编码方式')\n",
    "常用模式：\n",
    "      'r' 以只读方式打开文件。文件的指针将会放在文件的开头。这是默认模式。\n",
    "      'w' 打开一个文件只用于写入。如果该文件已存在则将其覆盖。如果该文件不存在，创建新文件。\n",
    "      'a' 打开一个文件用于追加。如果该文件已存在，文件指针将会放在文件的结尾。也就是说，新的内容将会被写入到已有内容之后。如果该文件\n",
    "          不存在，创建新文件进行写入。\n",
    "编码方式：utf-8,gbk\n",
    "```"
   ]
  },
  {
   "cell_type": "markdown",
   "metadata": {},
   "source": [
    "**第一步.打开文件**"
   ]
  },
  {
   "cell_type": "code",
   "execution_count": 4,
   "metadata": {},
   "outputs": [],
   "source": [
    "f = open('test.txt','w',encoding='utf-8')"
   ]
  },
  {
   "cell_type": "markdown",
   "metadata": {},
   "source": [
    "**第二步.操作文件**"
   ]
  },
  {
   "cell_type": "code",
   "execution_count": 2,
   "metadata": {},
   "outputs": [
    {
     "data": {
      "text/plain": [
       "23"
      ]
     },
     "execution_count": 2,
     "metadata": {},
     "output_type": "execute_result"
    }
   ],
   "source": [
    "content=\"\"\"hello world, i am here!\"\"\"\n",
    "f.write(content)"
   ]
  },
  {
   "cell_type": "code",
   "execution_count": 6,
   "metadata": {},
   "outputs": [
    {
     "data": {
      "text/plain": [
       "' worl'"
      ]
     },
     "execution_count": 6,
     "metadata": {},
     "output_type": "execute_result"
    }
   ],
   "source": [
    "f.read(5)"
   ]
  },
  {
   "cell_type": "code",
   "execution_count": 7,
   "metadata": {},
   "outputs": [
    {
     "data": {
      "text/plain": [
       "['d, i am here!']"
      ]
     },
     "execution_count": 7,
     "metadata": {},
     "output_type": "execute_result"
    }
   ],
   "source": [
    "f.readlines() #readlines可以按照行的方式把整个文件中的内容进行一次性读取，并且返回的是一个列表，其中每一行的数据为一个元素"
   ]
  },
  {
   "cell_type": "markdown",
   "metadata": {},
   "source": [
    "**第三步.关闭文件**"
   ]
  },
  {
   "cell_type": "code",
   "execution_count": 8,
   "metadata": {},
   "outputs": [],
   "source": [
    "f.close() # 释放文件内存"
   ]
  },
  {
   "cell_type": "markdown",
   "metadata": {},
   "source": [
    "# 12.os模块的使用"
   ]
  },
  {
   "cell_type": "code",
   "execution_count": null,
   "metadata": {},
   "outputs": [],
   "source": [
    "os.rename() #文件重命名"
   ]
  },
  {
   "cell_type": "code",
   "execution_count": null,
   "metadata": {},
   "outputs": [],
   "source": [
    "os.remove('文件名') #文件删除"
   ]
  },
  {
   "cell_type": "code",
   "execution_count": null,
   "metadata": {},
   "outputs": [],
   "source": [
    "os.mkdir('新文件夹名') #创建文件夹"
   ]
  },
  {
   "cell_type": "code",
   "execution_count": null,
   "metadata": {},
   "outputs": [],
   "source": [
    "os.getcwd() #获取当前工作目录"
   ]
  },
  {
   "cell_type": "code",
   "execution_count": null,
   "metadata": {},
   "outputs": [],
   "source": [
    "os.listdir() #获取文件夹文件列表"
   ]
  },
  {
   "cell_type": "code",
   "execution_count": null,
   "metadata": {},
   "outputs": [],
   "source": [
    "os.rmdir('文件夹名') #删除文件夹"
   ]
  },
  {
   "cell_type": "markdown",
   "metadata": {},
   "source": [
    "# 13.MySQL模块的使用"
   ]
  },
  {
   "cell_type": "code",
   "execution_count": 1,
   "metadata": {},
   "outputs": [],
   "source": [
    "#pymysql安装\n",
    "import pymysql"
   ]
  },
  {
   "cell_type": "code",
   "execution_count": 2,
   "metadata": {},
   "outputs": [],
   "source": [
    "#连接数据库（local）\n",
    "connect=pymysql.connect(host = '127.0.0.1',\n",
    "                         port=3306,\n",
    "                         user = 'root',\n",
    "                         password='1234',\n",
    "                         database = 'cda',\n",
    "                         charset = 'utf8')"
   ]
  },
  {
   "cell_type": "code",
   "execution_count": 3,
   "metadata": {},
   "outputs": [],
   "source": [
    "#创建游标，执行sql\n",
    "cursor = connect.cursor()"
   ]
  },
  {
   "cell_type": "markdown",
   "metadata": {},
   "source": [
    "**建表**"
   ]
  },
  {
   "cell_type": "code",
   "execution_count": 13,
   "metadata": {},
   "outputs": [],
   "source": [
    "name='test_0329_1'\n",
    "sql1=\"\"\"create table {}(id varchar(10),name varchar(10), gender  nvarchar(10))\"\"\".format(name)"
   ]
  },
  {
   "cell_type": "code",
   "execution_count": 14,
   "metadata": {},
   "outputs": [
    {
     "data": {
      "text/plain": [
       "0"
      ]
     },
     "execution_count": 14,
     "metadata": {},
     "output_type": "execute_result"
    }
   ],
   "source": [
    "cursor.execute(sql1) # 执行sql代码"
   ]
  },
  {
   "cell_type": "markdown",
   "metadata": {},
   "source": [
    "**插入数据**"
   ]
  },
  {
   "cell_type": "code",
   "execution_count": 17,
   "metadata": {},
   "outputs": [],
   "source": [
    "data = [['01', '赵雷', '男'],\n",
    "['02', '钱电', '男'],\n",
    "['03', '孙风', '男'],\n",
    "['04', '李云', '男'],\n",
    "['05', '周梅', '女'],\n",
    "['06', '吴兰', '女'],\n",
    "['07', '郑竹', '女'],\n",
    "['08', '王菊', '女']]\n",
    "cursor.executemany(\"\"\"insert into test_0329_1 values(%s, %s , %s)\"\"\" , data)\n",
    "connect.commit()"
   ]
  },
  {
   "cell_type": "markdown",
   "metadata": {},
   "source": [
    "**查询数据**"
   ]
  },
  {
   "cell_type": "code",
   "execution_count": 24,
   "metadata": {
    "scrolled": true
   },
   "outputs": [
    {
     "data": {
      "text/plain": [
       "8"
      ]
     },
     "execution_count": 24,
     "metadata": {},
     "output_type": "execute_result"
    }
   ],
   "source": [
    "cursor.execute('select * from test_0329_1')"
   ]
  },
  {
   "cell_type": "code",
   "execution_count": 19,
   "metadata": {},
   "outputs": [
    {
     "data": {
      "text/plain": [
       "('01', '赵雷', '男')"
      ]
     },
     "execution_count": 19,
     "metadata": {},
     "output_type": "execute_result"
    }
   ],
   "source": [
    "one = cursor.fetchone() # 提取一条\n",
    "one"
   ]
  },
  {
   "cell_type": "code",
   "execution_count": 23,
   "metadata": {},
   "outputs": [
    {
     "data": {
      "text/plain": [
       "(('01', '赵雷', '男'), ('02', '钱电', '男'), ('03', '孙风', '男'))"
      ]
     },
     "execution_count": 23,
     "metadata": {},
     "output_type": "execute_result"
    }
   ],
   "source": [
    "three = cursor.fetchmany(3) # 提取查询到的前3条\n",
    "three"
   ]
  },
  {
   "cell_type": "code",
   "execution_count": 25,
   "metadata": {},
   "outputs": [
    {
     "data": {
      "text/plain": [
       "(('01', '赵雷', '男'),\n",
       " ('02', '钱电', '男'),\n",
       " ('03', '孙风', '男'),\n",
       " ('04', '李云', '男'),\n",
       " ('05', '周梅', '女'),\n",
       " ('06', '吴兰', '女'),\n",
       " ('07', '郑竹', '女'),\n",
       " ('08', '王菊', '女'))"
      ]
     },
     "execution_count": 25,
     "metadata": {},
     "output_type": "execute_result"
    }
   ],
   "source": [
    "all0 = cursor.fetchall() # 查询到的所有\n",
    "all0"
   ]
  },
  {
   "cell_type": "markdown",
   "metadata": {},
   "source": [
    "# 14.面向对象的编程"
   ]
  },
  {
   "cell_type": "markdown",
   "metadata": {},
   "source": [
    "```\n",
    "概述: \n",
    "1.面向过程编程:解决一个问题,我们会将这个问题拆分成一个一个的过程,然后依次执行. \n",
    "2.面向对象编程:根据需求,开发一些(对象),然后把完成这个需求所需要的数据和功能,都封装在这个对象里面,让这个对象自己帮我们完成整个工作 \n",
    "3.面向对象程序设计特点:封装\\继承\\多态 \n",
    "  3.1封装:将对象的属性和行为封装,保证内部数据结构的完整性,避免外部对内部数据的影响,提高程序的可维护性. \n",
    "  3.2继承:继承是实现重复利用的重要手段. \n",
    "  3.3多态:父类对象应用子类的特征,子类继承的同时进而具备自己的特征.\n",
    "```"
   ]
  },
  {
   "cell_type": "markdown",
   "metadata": {},
   "source": [
    "类:表示具有相同属性和方法对象的集合"
   ]
  },
  {
   "cell_type": "code",
   "execution_count": null,
   "metadata": {},
   "outputs": [],
   "source": []
  },
  {
   "cell_type": "code",
   "execution_count": 38,
   "metadata": {},
   "outputs": [],
   "source": [
    "class CDA学员:             # 创建类\n",
    "    \"\"\"类功能: 用于记录所有CDA学员\"\"\"\n",
    "    eyes_num = 2           # 类变量（类属性）: 将来用这个类实例化出的所有对象,都有的属性\n",
    "    hair_color  = 'black'  # 所有用这个类实例化的对象一定都有2只眼睛，黑色头发\n",
    "    \n",
    "    # 每一个实例化出来的对象都有不同的数据，用__init__初始化方法去赋予\n",
    "    def __init__(self, name, age): # 参数,传入这个对象的对象属性\n",
    "        # 把传进来的参数, 赋值给这个对象\n",
    "        self.name = name\n",
    "        self.age = age  \n",
    "    # 给类添加功能(方法method)(类里面定义的函数)\n",
    "    def listen_class(self): # 在函数里面定义的方法,都有一个默认的参数 self，self 指代的是我们将来要用这个类实例化的想象\n",
    "        return '这个人在听课'\n",
    "    def place(self,place_name):\n",
    "        return '学员所处位置：{}'.format(place_name)"
   ]
  },
  {
   "cell_type": "code",
   "execution_count": 39,
   "metadata": {},
   "outputs": [],
   "source": [
    "c1 = CDA学员('张三', 22)\n",
    "c2 = CDA学员('李四', 33) # 类的实例化"
   ]
  },
  {
   "cell_type": "code",
   "execution_count": 40,
   "metadata": {},
   "outputs": [
    {
     "data": {
      "text/plain": [
       "2"
      ]
     },
     "execution_count": 40,
     "metadata": {},
     "output_type": "execute_result"
    }
   ],
   "source": [
    "c1.eyes_num #查看类属性"
   ]
  },
  {
   "cell_type": "code",
   "execution_count": 41,
   "metadata": {},
   "outputs": [
    {
     "data": {
      "text/plain": [
       "'这个人在听课'"
      ]
     },
     "execution_count": 41,
     "metadata": {},
     "output_type": "execute_result"
    }
   ],
   "source": [
    "c1.listen_class() "
   ]
  },
  {
   "cell_type": "code",
   "execution_count": 35,
   "metadata": {},
   "outputs": [
    {
     "data": {
      "text/plain": [
       "'学员所处位置：北京'"
      ]
     },
     "execution_count": 35,
     "metadata": {},
     "output_type": "execute_result"
    }
   ],
   "source": [
    "c1.place('北京')"
   ]
  },
  {
   "cell_type": "markdown",
   "metadata": {},
   "source": [
    "**添加新功能**"
   ]
  },
  {
   "cell_type": "code",
   "execution_count": 47,
   "metadata": {},
   "outputs": [],
   "source": [
    "def read(self):\n",
    "    return self.name + '在读书'\n",
    "CDA学员.read = read # 传一个新的方法"
   ]
  },
  {
   "cell_type": "code",
   "execution_count": 48,
   "metadata": {},
   "outputs": [],
   "source": [
    "c3 = CDA学员('王五' , 44)"
   ]
  },
  {
   "cell_type": "code",
   "execution_count": 49,
   "metadata": {},
   "outputs": [
    {
     "data": {
      "text/plain": [
       "'王五在读书'"
      ]
     },
     "execution_count": 49,
     "metadata": {},
     "output_type": "execute_result"
    }
   ],
   "source": [
    "c3.read()"
   ]
  }
 ],
 "metadata": {
  "kernelspec": {
   "display_name": "Python 3",
   "language": "python",
   "name": "python3"
  },
  "language_info": {
   "codemirror_mode": {
    "name": "ipython",
    "version": 3
   },
   "file_extension": ".py",
   "mimetype": "text/x-python",
   "name": "python",
   "nbconvert_exporter": "python",
   "pygments_lexer": "ipython3",
   "version": "3.7.4"
  }
 },
 "nbformat": 4,
 "nbformat_minor": 2
}
