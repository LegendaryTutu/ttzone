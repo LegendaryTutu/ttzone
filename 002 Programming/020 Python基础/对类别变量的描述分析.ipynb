{
 "cells": [
  {
   "cell_type": "markdown",
   "metadata": {},
   "source": [
    "# 对分类变量的图表描述"
   ]
  },
  {
   "cell_type": "markdown",
   "metadata": {},
   "source": [
    "- 对分类变量的描述分析，一般是对变量中的各类别进行对比分析、占比分析  \n",
    "    对比分析的是不同类别的频数大小，占比分析的是不同类别频数占样本量的比例\n",
    "\n",
    "\n",
    "- 图的底层都是表"
   ]
  },
  {
   "cell_type": "code",
   "execution_count": 186,
   "metadata": {},
   "outputs": [],
   "source": [
    "# 导入R数据\n",
    "load(\"D:/Rdata/example/ch2/example2_1.RData\")"
   ]
  },
  {
   "cell_type": "code",
   "execution_count": 187,
   "metadata": {
    "scrolled": true
   },
   "outputs": [
    {
     "data": {
      "text/html": [
       "<table>\n",
       "<thead><tr><th scope=col>社区</th><th scope=col>性别</th><th scope=col>态度</th></tr></thead>\n",
       "<tbody>\n",
       "\t<tr><td>A社区</td><td>男   </td><td>反对 </td></tr>\n",
       "\t<tr><td>B社区</td><td>女   </td><td>反对 </td></tr>\n",
       "\t<tr><td>D社区</td><td>女   </td><td>反对 </td></tr>\n",
       "\t<tr><td>C社区</td><td>男   </td><td>反对 </td></tr>\n",
       "\t<tr><td>A社区</td><td>男   </td><td>赞成 </td></tr>\n",
       "</tbody>\n",
       "</table>\n"
      ],
      "text/latex": [
       "\\begin{tabular}{r|lll}\n",
       " 社区 & 性别 & 态度\\\\\n",
       "\\hline\n",
       "\t A社区 & 男    & 反对 \\\\\n",
       "\t B社区 & 女    & 反对 \\\\\n",
       "\t D社区 & 女    & 反对 \\\\\n",
       "\t C社区 & 男    & 反对 \\\\\n",
       "\t A社区 & 男    & 赞成 \\\\\n",
       "\\end{tabular}\n"
      ],
      "text/markdown": [
       "\n",
       "| 社区 | 性别 | 态度 |\n",
       "|---|---|---|\n",
       "| A社区 | 男    | 反对  |\n",
       "| B社区 | 女    | 反对  |\n",
       "| D社区 | 女    | 反对  |\n",
       "| C社区 | 男    | 反对  |\n",
       "| A社区 | 男    | 赞成  |\n",
       "\n"
      ],
      "text/plain": [
       "  社区  性别 态度\n",
       "1 A社区 男   反对\n",
       "2 B社区 女   反对\n",
       "3 D社区 女   反对\n",
       "4 C社区 男   反对\n",
       "5 A社区 男   赞成"
      ]
     },
     "metadata": {},
     "output_type": "display_data"
    }
   ],
   "source": [
    "# 查看数据前几行\n",
    "head(example2_1,5)"
   ]
  },
  {
   "cell_type": "code",
   "execution_count": 188,
   "metadata": {
    "scrolled": true
   },
   "outputs": [
    {
     "data": {
      "text/plain": [
       "    社区    性别      态度   \n",
       " A社区:27   男:36   反对:31  \n",
       " B社区:17   女:44   赞成:49  \n",
       " C社区:21                    \n",
       " D社区:15                    "
      ]
     },
     "metadata": {},
     "output_type": "display_data"
    }
   ],
   "source": [
    "# 统计量描述\n",
    "summary(example2_1)"
   ]
  },
  {
   "cell_type": "markdown",
   "metadata": {},
   "source": [
    "## 频数和频率分布表"
   ]
  },
  {
   "cell_type": "markdown",
   "metadata": {},
   "source": [
    "### 一维频数（频率）分布表"
   ]
  },
  {
   "cell_type": "code",
   "execution_count": 189,
   "metadata": {},
   "outputs": [],
   "source": [
    "# 求频数分布表\n",
    "count1 <- table(example2_1$社区)\n",
    "count2 <- table(example2_1$性别)\n",
    "count3 <- table(example2_1$态度)"
   ]
  },
  {
   "cell_type": "code",
   "execution_count": 190,
   "metadata": {
    "scrolled": true
   },
   "outputs": [
    {
     "data": {
      "text/plain": [
       "\n",
       "A社区 B社区 C社区 D社区 \n",
       "   27    17    21    15 "
      ]
     },
     "metadata": {},
     "output_type": "display_data"
    },
    {
     "data": {
      "text/plain": [
       "\n",
       "男 女 \n",
       "36 44 "
      ]
     },
     "metadata": {},
     "output_type": "display_data"
    },
    {
     "data": {
      "text/plain": [
       "\n",
       "反对 赞成 \n",
       "  31   49 "
      ]
     },
     "metadata": {},
     "output_type": "display_data"
    }
   ],
   "source": [
    "count1\n",
    "count2\n",
    "count3"
   ]
  },
  {
   "cell_type": "code",
   "execution_count": 191,
   "metadata": {
    "scrolled": true
   },
   "outputs": [
    {
     "data": {
      "text/plain": [
       "\n",
       "A社区 B社区 C社区 D社区 \n",
       "33.75 21.25 26.25 18.75 "
      ]
     },
     "metadata": {},
     "output_type": "display_data"
    },
    {
     "data": {
      "text/plain": [
       "\n",
       "男 女 \n",
       "45 55 "
      ]
     },
     "metadata": {},
     "output_type": "display_data"
    },
    {
     "data": {
      "text/plain": [
       "\n",
       " 反对  赞成 \n",
       "38.75 61.25 "
      ]
     },
     "metadata": {},
     "output_type": "display_data"
    }
   ],
   "source": [
    "# 求频率分布表（百分比）\n",
    "p1 <- prop.table(count1)*100   \n",
    "p2 <- prop.table(count2)*100\n",
    "p3 <- prop.table(count3)*100\n",
    "p1\n",
    "p2\n",
    "p3"
   ]
  },
  {
   "cell_type": "markdown",
   "metadata": {},
   "source": [
    "### 二维列联表\n",
    "\n",
    "- 又称交叉表（cross table)"
   ]
  },
  {
   "cell_type": "code",
   "execution_count": 192,
   "metadata": {},
   "outputs": [
    {
     "data": {
      "text/plain": [
       "       \n",
       "        男 女\n",
       "  A社区  9 18\n",
       "  B社区 10  7\n",
       "  C社区 13  8\n",
       "  D社区  4 11"
      ]
     },
     "metadata": {},
     "output_type": "display_data"
    }
   ],
   "source": [
    "cro_table <- table(example2_1$社区, example2_1$性别)\n",
    "cro_table"
   ]
  },
  {
   "cell_type": "code",
   "execution_count": 193,
   "metadata": {
    "scrolled": true
   },
   "outputs": [
    {
     "data": {
      "text/html": [
       "<table>\n",
       "<thead><tr><th></th><th scope=col>男</th><th scope=col>女</th><th scope=col>Sum</th></tr></thead>\n",
       "<tbody>\n",
       "\t<tr><th scope=row>A社区</th><td> 9</td><td>18</td><td>27</td></tr>\n",
       "\t<tr><th scope=row>B社区</th><td>10</td><td> 7</td><td>17</td></tr>\n",
       "\t<tr><th scope=row>C社区</th><td>13</td><td> 8</td><td>21</td></tr>\n",
       "\t<tr><th scope=row>D社区</th><td> 4</td><td>11</td><td>15</td></tr>\n",
       "\t<tr><th scope=row>Sum</th><td>36</td><td>44</td><td>80</td></tr>\n",
       "</tbody>\n",
       "</table>\n"
      ],
      "text/latex": [
       "\\begin{tabular}{r|lll}\n",
       "  & 男 & 女 & Sum\\\\\n",
       "\\hline\n",
       "\tA社区 &  9 & 18 & 27\\\\\n",
       "\tB社区 & 10 &  7 & 17\\\\\n",
       "\tC社区 & 13 &  8 & 21\\\\\n",
       "\tD社区 &  4 & 11 & 15\\\\\n",
       "\tSum & 36 & 44 & 80\\\\\n",
       "\\end{tabular}\n"
      ],
      "text/markdown": [
       "\n",
       "| <!--/--> | 男 | 女 | Sum |\n",
       "|---|---|---|---|\n",
       "| A社区 |  9 | 18 | 27 |\n",
       "| B社区 | 10 |  7 | 17 |\n",
       "| C社区 | 13 |  8 | 21 |\n",
       "| D社区 |  4 | 11 | 15 |\n",
       "| Sum | 36 | 44 | 80 |\n",
       "\n"
      ],
      "text/plain": [
       "       \n",
       "        男 女 Sum\n",
       "  A社区  9 18 27 \n",
       "  B社区 10  7 17 \n",
       "  C社区 13  8 21 \n",
       "  D社区  4 11 15 \n",
       "  Sum   36 44 80 "
      ]
     },
     "metadata": {},
     "output_type": "display_data"
    },
    {
     "data": {
      "text/html": [
       "<table>\n",
       "<thead><tr><th></th><th scope=col>男</th><th scope=col>女</th><th scope=col>Sum</th></tr></thead>\n",
       "<tbody>\n",
       "\t<tr><th scope=row>A社区</th><td>0.1125</td><td>0.2250</td><td>0.3375</td></tr>\n",
       "\t<tr><th scope=row>B社区</th><td>0.1250</td><td>0.0875</td><td>0.2125</td></tr>\n",
       "\t<tr><th scope=row>C社区</th><td>0.1625</td><td>0.1000</td><td>0.2625</td></tr>\n",
       "\t<tr><th scope=row>D社区</th><td>0.0500</td><td>0.1375</td><td>0.1875</td></tr>\n",
       "\t<tr><th scope=row>Sum</th><td>0.4500</td><td>0.5500</td><td>1.0000</td></tr>\n",
       "</tbody>\n",
       "</table>\n"
      ],
      "text/latex": [
       "\\begin{tabular}{r|lll}\n",
       "  & 男 & 女 & Sum\\\\\n",
       "\\hline\n",
       "\tA社区 & 0.1125 & 0.2250 & 0.3375\\\\\n",
       "\tB社区 & 0.1250 & 0.0875 & 0.2125\\\\\n",
       "\tC社区 & 0.1625 & 0.1000 & 0.2625\\\\\n",
       "\tD社区 & 0.0500 & 0.1375 & 0.1875\\\\\n",
       "\tSum & 0.4500 & 0.5500 & 1.0000\\\\\n",
       "\\end{tabular}\n"
      ],
      "text/markdown": [
       "\n",
       "| <!--/--> | 男 | 女 | Sum |\n",
       "|---|---|---|---|\n",
       "| A社区 | 0.1125 | 0.2250 | 0.3375 |\n",
       "| B社区 | 0.1250 | 0.0875 | 0.2125 |\n",
       "| C社区 | 0.1625 | 0.1000 | 0.2625 |\n",
       "| D社区 | 0.0500 | 0.1375 | 0.1875 |\n",
       "| Sum | 0.4500 | 0.5500 | 1.0000 |\n",
       "\n"
      ],
      "text/plain": [
       "       \n",
       "        男     女     Sum   \n",
       "  A社区 0.1125 0.2250 0.3375\n",
       "  B社区 0.1250 0.0875 0.2125\n",
       "  C社区 0.1625 0.1000 0.2625\n",
       "  D社区 0.0500 0.1375 0.1875\n",
       "  Sum   0.4500 0.5500 1.0000"
      ]
     },
     "metadata": {},
     "output_type": "display_data"
    }
   ],
   "source": [
    "# 增加边际和\n",
    "addmargins(cro_table)    \n",
    "\n",
    "# 频率分布表（乘以100可转换成百分比）\n",
    "addmargins(prop.table(cro_table))   "
   ]
  },
  {
   "cell_type": "code",
   "execution_count": 203,
   "metadata": {},
   "outputs": [],
   "source": [
    "# install.packages(\"gmodels\")"
   ]
  },
  {
   "cell_type": "code",
   "execution_count": 204,
   "metadata": {},
   "outputs": [
    {
     "name": "stdout",
     "output_type": "stream",
     "text": [
      "\n",
      " \n",
      "   Cell Contents\n",
      "|-------------------------|\n",
      "|                       N |\n",
      "| Chi-square contribution |\n",
      "|           N / Row Total |\n",
      "|           N / Col Total |\n",
      "|         N / Table Total |\n",
      "|-------------------------|\n",
      "\n",
      " \n",
      "Total Observations in Table:  80 \n",
      "\n",
      " \n",
      "              | example2_1$态度 \n",
      "example2_1$性别 |      反对 |      赞成 | Row Total | \n",
      "--------------|-----------|-----------|-----------|\n",
      "           男 |        14 |        22 |        36 | \n",
      "              |     0.000 |     0.000 |           | \n",
      "              |     0.389 |     0.611 |     0.450 | \n",
      "              |     0.452 |     0.449 |           | \n",
      "              |     0.175 |     0.275 |           | \n",
      "--------------|-----------|-----------|-----------|\n",
      "           女 |        17 |        27 |        44 | \n",
      "              |     0.000 |     0.000 |           | \n",
      "              |     0.386 |     0.614 |     0.550 | \n",
      "              |     0.548 |     0.551 |           | \n",
      "              |     0.212 |     0.338 |           | \n",
      "--------------|-----------|-----------|-----------|\n",
      " Column Total |        31 |        49 |        80 | \n",
      "              |     0.388 |     0.613 |           | \n",
      "--------------|-----------|-----------|-----------|\n",
      "\n",
      " \n"
     ]
    }
   ],
   "source": [
    "# 使用CrossTable函数生成二维列联表\n",
    "library(gmodels)\n",
    "CrossTable(example2_1$性别, example2_1$态度)"
   ]
  },
  {
   "cell_type": "markdown",
   "metadata": {},
   "source": [
    "### 多维列联表\n",
    "\n",
    "- multidimensional contingency table"
   ]
  },
  {
   "cell_type": "code",
   "execution_count": 205,
   "metadata": {
    "scrolled": true
   },
   "outputs": [
    {
     "data": {
      "text/plain": [
       ", , 态度 = 反对\n",
       "\n",
       "       性别\n",
       "社区    男 女\n",
       "  A社区  4  9\n",
       "  B社区  3  2\n",
       "  C社区  5  2\n",
       "  D社区  2  4\n",
       "\n",
       ", , 态度 = 赞成\n",
       "\n",
       "       性别\n",
       "社区    男 女\n",
       "  A社区  5  9\n",
       "  B社区  7  5\n",
       "  C社区  8  6\n",
       "  D社区  2  7\n"
      ]
     },
     "metadata": {},
     "output_type": "display_data"
    }
   ],
   "source": [
    "# 将数据框转成多维汇总表\n",
    "mul_table <- table(example2_1)\n",
    "mul_table"
   ]
  },
  {
   "cell_type": "code",
   "execution_count": 206,
   "metadata": {},
   "outputs": [
    {
     "data": {
      "text/plain": [
       "          社区 A社区 B社区 C社区 D社区\n",
       "性别 态度                             \n",
       "男   反对          4     3     5     2\n",
       "     赞成          5     7     8     2\n",
       "女   反对          9     2     2     4\n",
       "     赞成          9     5     6     7"
      ]
     },
     "metadata": {},
     "output_type": "display_data"
    }
   ],
   "source": [
    "# 将多维汇总表转成一张扁平表\n",
    "fmul_table <- ftable(mul_table, row.vars=c('性别','态度'), col.vars = c('社区'))\n",
    "fmul_table"
   ]
  },
  {
   "cell_type": "code",
   "execution_count": 207,
   "metadata": {},
   "outputs": [
    {
     "data": {
      "text/plain": [
       "          社区 A社区 B社区 C社区 D社区 Sum\n",
       "性别 态度                                 \n",
       "男   反对          4     3     5     2  14\n",
       "     赞成          5     7     8     2  22\n",
       "     Sum           9    10    13     4  36\n",
       "女   反对          9     2     2     4  17\n",
       "     赞成          9     5     6     7  27\n",
       "     Sum          18     7     8    11  44\n",
       "Sum  反对         13     5     7     6  31\n",
       "     赞成         14    12    14     9  49\n",
       "     Sum          27    17    21    15  80"
      ]
     },
     "metadata": {},
     "output_type": "display_data"
    }
   ],
   "source": [
    "# 增加边际汇总\n",
    "fmul_table_sum <- ftable(addmargins(mul_table), row.vars=c('性别','态度'), col.vars = c('社区'))\n",
    "fmul_table_sum"
   ]
  },
  {
   "cell_type": "code",
   "execution_count": 208,
   "metadata": {
    "scrolled": true
   },
   "outputs": [
    {
     "data": {
      "text/plain": [
       "          社区 A社区 B社区 C社区 D社区\n",
       "性别 态度                             \n",
       "男   反对          4     3     5     2\n",
       "     赞成          5     7     8     2\n",
       "女   反对          9     2     2     4\n",
       "     赞成          9     5     6     7"
      ]
     },
     "metadata": {},
     "output_type": "display_data"
    }
   ],
   "source": [
    "ftable(table(example2_1),row.vars=c('性别','态度'), col.vars = c('社区'))"
   ]
  },
  {
   "cell_type": "code",
   "execution_count": null,
   "metadata": {},
   "outputs": [],
   "source": []
  },
  {
   "cell_type": "markdown",
   "metadata": {},
   "source": [
    "## 分类变量的可视化"
   ]
  },
  {
   "cell_type": "markdown",
   "metadata": {},
   "source": [
    "### 简单条形图和帕累托图\n",
    "\n",
    "- 一个分类变量的图表描述"
   ]
  },
  {
   "cell_type": "code",
   "execution_count": 333,
   "metadata": {},
   "outputs": [],
   "source": [
    "# 导入R数据\n",
    "load(\"D:/Rdata/example/ch2/example2_1.RData\")"
   ]
  },
  {
   "cell_type": "code",
   "execution_count": 334,
   "metadata": {
    "scrolled": true
   },
   "outputs": [
    {
     "data": {
      "text/plain": [
       "\n",
       "A社区 B社区 C社区 D社区 \n",
       "   27    17    21    15 "
      ]
     },
     "metadata": {},
     "output_type": "display_data"
    }
   ],
   "source": [
    "# 生成频数分布表\n",
    "fre_table <- table(example2_1$社区)\n",
    "fre_table"
   ]
  },
  {
   "cell_type": "code",
   "execution_count": 335,
   "metadata": {},
   "outputs": [],
   "source": [
    "# 导入R数据\n",
    "load(\"D:/Rdata/example/ch2/example2_1.RData\")"
   ]
  },
  {
   "cell_type": "code",
   "execution_count": 336,
   "metadata": {
    "scrolled": true
   },
   "outputs": [
    {
     "data": {
      "text/plain": [
       "\n",
       "A社区 B社区 C社区 D社区 \n",
       "   27    17    21    15 "
      ]
     },
     "metadata": {},
     "output_type": "display_data"
    }
   ],
   "source": [
    "# 生成频数分布表\n",
    "fre_table <- table(example2_1$社区)\n",
    "fre_table"
   ]
  },
  {
   "cell_type": "code",
   "execution_count": 348,
   "metadata": {
    "scrolled": true
   },
   "outputs": [
    {
     "data": {
      "image/png": "[encoded data removed]",
      "text/plain": [
       "Plot with title \"\""
      ]
     },
     "metadata": {},
     "output_type": "display_data"
    }
   ],
   "source": [
    "# 设置画布大小\n",
    "options(repr.plot.width=10, repr.plot.height=4)\n",
    "\n",
    "# 图形参数设置函数par()\n",
    "par(\n",
    "    mfrow=c(1,3),\n",
    "    mai=c(0.7,0.7,0.7,0.7),  # 设置图形边距大小\n",
    "    cex=0.8,\n",
    "#     cex.lab = 0.7,\n",
    "    cex.main=1.5    # 图形标题大小\n",
    ")\n",
    "\n",
    "# 水平条形图\n",
    "barplot(fre_table, xlab = '频数', ylab = '社区', horiz = TRUE, main = '(a)水平条形图',col = 2:5)\n",
    "\n",
    "# 垂直条形图\n",
    "barplot(fre_table, xlab = '频数', ylab = '社区', horiz = FALSE, main = '(b)垂直条形图',col = 2:5)\n",
    "\n",
    "# 帕累托图 \n",
    "sort_fre_table <- sort(fre_table, decreasing = TRUE)   # 排序\n",
    "barplot(sort_fre_table, xlab = '频数', ylab = '社区', main = '(c)帕累托图', col = 2:5)    # 排序后的垂直条形图\n",
    "cum_pro <- cumsum(sort_fre_table)/sum(sort_fre_table)    # 计算累积百分比\n",
    "par(new = TRUE)    # 继续在当前子画布上作图\n",
    "plot(cum_pro, \n",
    "     type = 'b',    # 线图种类，\"b\"是点线结合的方式\n",
    "     lwd = 2,     # 线宽\n",
    "     pch = 15,    # 点的种类\n",
    "     axes = FALSE,    # 取消坐标轴\n",
    "     xlab = '',      #  横坐标轴标题为空\n",
    "     ylab = '',      #  纵坐标轴标题为空\n",
    "     main = ''       #  标题为空\n",
    "    )\n",
    "axis(4)   # 坐标轴设置，添加右侧纵坐标轴\n",
    "par(las = 0)  # 设置坐标轴标题方向\n",
    "mtext('累积频率', side = 4, line = 3, cex = 0.8, adj = 0.5)   # 在当前图形区域的四个边缘之一,显示文本\n",
    "mtext('累积分布曲线', \n",
    "      side = 3,     # 第3个边缘，即上边缘 \n",
    "      line = -2.5,   # 距离边缘的相对距离\n",
    "      cex = 0.8,     # 文字和符号的大小缩小为80%\n",
    "      adj = 0.7     # 对齐方式 0-1，0.5是居中\n",
    "     )   "
   ]
  },
  {
   "cell_type": "code",
   "execution_count": null,
   "metadata": {},
   "outputs": [],
   "source": []
  },
  {
   "cell_type": "markdown",
   "metadata": {},
   "source": [
    "### 饼图和扇形图\n",
    "\n",
    "- 一个分类变量的图表描述\n",
    "\n",
    "- 饼图适用于观测样本数据的整体结构；扇形图能更加直观的看出各类别占比的大小顺序，方便类别直接进行比较。"
   ]
  },
  {
   "cell_type": "code",
   "execution_count": null,
   "metadata": {},
   "outputs": [],
   "source": []
  },
  {
   "cell_type": "code",
   "execution_count": 459,
   "metadata": {
    "scrolled": true
   },
   "outputs": [
    {
     "data": {
      "image/png": "[encoded data removed]",
      "text/plain": [
       "plot without title"
      ]
     },
     "metadata": {},
     "output_type": "display_data"
    }
   ],
   "source": [
    "# 设置画布大小\n",
    "options(repr.plot.width=12, repr.plot.height=12)\n",
    "\n",
    "# 设置画布布局\n",
    "layout(matrix(c(1,0,2,0),2,2),widths = c(1,2),heights = c(1,1))\n",
    "\n",
    "# 饼图\n",
    "name <- names(fre_table)\n",
    "percent <- prop.table(fre_table)*100\n",
    "label_pie <- paste(name,\" \",percent,\"%\",sep=\"\")\n",
    "pie(fre_table, labels=label_pie, col = 2:5)\n",
    "\n",
    "# 扇形图\n",
    "# install.packages('plotrix')\n",
    "# library(plotrix)\n",
    "name <- names(fre_table)\n",
    "percent <- prop.table(fre_table)*100\n",
    "label_pie <- paste(name,\" \",percent,\"%\",sep=\"\")\n",
    "fan.plot(fre_table, labels=label_pie, col = 2:5)"
   ]
  },
  {
   "cell_type": "code",
   "execution_count": null,
   "metadata": {},
   "outputs": [],
   "source": []
  },
  {
   "cell_type": "markdown",
   "metadata": {},
   "source": [
    "  "
   ]
  },
  {
   "cell_type": "markdown",
   "metadata": {},
   "source": [
    "### 复式条形图和脊形（柱）图"
   ]
  },
  {
   "cell_type": "markdown",
   "metadata": {},
   "source": [
    "- 两个分类变量的图表描述"
   ]
  },
  {
   "cell_type": "code",
   "execution_count": 338,
   "metadata": {},
   "outputs": [],
   "source": [
    "# 导入R数据\n",
    "load(\"D:/Rdata/example/ch2/example2_1.RData\")"
   ]
  },
  {
   "cell_type": "code",
   "execution_count": 339,
   "metadata": {
    "scrolled": true
   },
   "outputs": [
    {
     "data": {
      "text/plain": [
       "    \n",
       "     A社区 B社区 C社区 D社区\n",
       "  男     9    10    13     4\n",
       "  女    18     7     8    11"
      ]
     },
     "metadata": {},
     "output_type": "display_data"
    }
   ],
   "source": [
    "# 生成频数分布表\n",
    "fre_cross_table <- table(example2_1$性别, example2_1$社区)\n",
    "fre_cross_table"
   ]
  },
  {
   "cell_type": "code",
   "execution_count": 359,
   "metadata": {
    "scrolled": false
   },
   "outputs": [
    {
     "data": {
      "image/png": "[encoded data removed]",
      "text/plain": [
       "Plot with title \"(b)堆叠条形图\""
      ]
     },
     "metadata": {},
     "output_type": "display_data"
    }
   ],
   "source": [
    "# 设置画布大小\n",
    "options(repr.plot.width=10, repr.plot.height=6)\n",
    "\n",
    "# 图形参数设置函数par()\n",
    "par(\n",
    "    mfrow=c(1,2),\n",
    "    mai=c(0.7,0.7,0.7,0.7),  # 设置图形边距大小\n",
    "    cex=0.8,\n",
    "#     cex.lab = 0.7,\n",
    "    cex.main=1.5    # 图形标题大小\n",
    ")\n",
    "\n",
    "# 并列（簇状）条形图\n",
    "barplot(fre_cross_table, xlab = '频数', ylab = '社区', horiz = FALSE, main = '(a)并列条形图',col = 3:4, ylim = c(0,20),\n",
    "        beside = TRUE, legend=rownames(fre_cross_table), \n",
    "        args.legend = list(x =10)   # 设置图例的位置，数字表示相对左纵轴的位置\n",
    "       )\n",
    "\n",
    "# 堆叠条形图\n",
    "barplot(fre_cross_table, xlab = '频数', ylab = '社区', horiz = FALSE, main = '(b)堆叠条形图',col = 2:3, ylim = c(0,30),\n",
    "        beside = FALSE, legend=rownames(fre_cross_table),\n",
    "        args.legend = list(x ='topright')   # 设置图例的位置\n",
    "       )\n",
    "\n"
   ]
  },
  {
   "cell_type": "markdown",
   "metadata": {},
   "source": [
    "- 脊形（柱）图"
   ]
  },
  {
   "cell_type": "code",
   "execution_count": 1,
   "metadata": {},
   "outputs": [
    {
     "data": {
      "text/html": [
       "<table>\n",
       "<thead><tr><th scope=col>社区</th><th scope=col>性别</th><th scope=col>态度</th></tr></thead>\n",
       "<tbody>\n",
       "\t<tr><td>A社区</td><td>男   </td><td>反对 </td></tr>\n",
       "\t<tr><td>B社区</td><td>女   </td><td>反对 </td></tr>\n",
       "\t<tr><td>D社区</td><td>女   </td><td>反对 </td></tr>\n",
       "\t<tr><td>C社区</td><td>男   </td><td>反对 </td></tr>\n",
       "\t<tr><td>A社区</td><td>男   </td><td>赞成 </td></tr>\n",
       "\t<tr><td>D社区</td><td>女   </td><td>反对 </td></tr>\n",
       "</tbody>\n",
       "</table>\n"
      ],
      "text/latex": [
       "\\begin{tabular}{r|lll}\n",
       " 社区 & 性别 & 态度\\\\\n",
       "\\hline\n",
       "\t A社区 & 男    & 反对 \\\\\n",
       "\t B社区 & 女    & 反对 \\\\\n",
       "\t D社区 & 女    & 反对 \\\\\n",
       "\t C社区 & 男    & 反对 \\\\\n",
       "\t A社区 & 男    & 赞成 \\\\\n",
       "\t D社区 & 女    & 反对 \\\\\n",
       "\\end{tabular}\n"
      ],
      "text/markdown": [
       "\n",
       "| 社区 | 性别 | 态度 |\n",
       "|---|---|---|\n",
       "| A社区 | 男    | 反对  |\n",
       "| B社区 | 女    | 反对  |\n",
       "| D社区 | 女    | 反对  |\n",
       "| C社区 | 男    | 反对  |\n",
       "| A社区 | 男    | 赞成  |\n",
       "| D社区 | 女    | 反对  |\n",
       "\n"
      ],
      "text/plain": [
       "  社区  性别 态度\n",
       "1 A社区 男   反对\n",
       "2 B社区 女   反对\n",
       "3 D社区 女   反对\n",
       "4 C社区 男   反对\n",
       "5 A社区 男   赞成\n",
       "6 D社区 女   反对"
      ]
     },
     "metadata": {},
     "output_type": "display_data"
    }
   ],
   "source": [
    "# 导入R数据\n",
    "load(\"D:/Rdata/example/ch2/example2_1.RData\")\n",
    "head(example2_1)"
   ]
  },
  {
   "cell_type": "code",
   "execution_count": 361,
   "metadata": {
    "scrolled": true
   },
   "outputs": [
    {
     "data": {
      "text/plain": [
       "    \n",
       "     A社区 B社区 C社区 D社区\n",
       "  男     9    10    13     4\n",
       "  女    18     7     8    11"
      ]
     },
     "metadata": {},
     "output_type": "display_data"
    }
   ],
   "source": [
    "# 生成频数分布表\n",
    "fre_mul_table <- table(example2_1$性别, example2_1$社区)\n",
    "fre_mul_table"
   ]
  },
  {
   "cell_type": "code",
   "execution_count": 362,
   "metadata": {},
   "outputs": [
    {
     "data": {
      "text/html": [
       "<dl class=dl-horizontal>\n",
       "\t<dt>A社区</dt>\n",
       "\t\t<dd>0.3375</dd>\n",
       "\t<dt>C社区</dt>\n",
       "\t\t<dd>0.6</dd>\n",
       "\t<dt>B社区</dt>\n",
       "\t\t<dd>0.8125</dd>\n",
       "\t<dt>D社区</dt>\n",
       "\t\t<dd>1</dd>\n",
       "</dl>\n"
      ],
      "text/latex": [
       "\\begin{description*}\n",
       "\\item[A社区] 0.3375\n",
       "\\item[C社区] 0.6\n",
       "\\item[B社区] 0.8125\n",
       "\\item[D社区] 1\n",
       "\\end{description*}\n"
      ],
      "text/markdown": [
       "A社区\n",
       ":   0.3375C社区\n",
       ":   0.6B社区\n",
       ":   0.8125D社区\n",
       ":   1\n",
       "\n"
      ],
      "text/plain": [
       " A社区  C社区  B社区  D社区 \n",
       "0.3375 0.6000 0.8125 1.0000 "
      ]
     },
     "metadata": {},
     "output_type": "display_data"
    }
   ],
   "source": [
    "pro"
   ]
  },
  {
   "cell_type": "code",
   "execution_count": 363,
   "metadata": {},
   "outputs": [],
   "source": [
    "# install.packages('lmtest')\n",
    "# install.packages('vcd')\n",
    "library(vcd)"
   ]
  },
  {
   "cell_type": "code",
   "execution_count": 364,
   "metadata": {},
   "outputs": [
    {
     "data": {
      "image/png": "[encoded data removed]",
      "text/plain": [
       "plot without title"
      ]
     },
     "metadata": {},
     "output_type": "display_data"
    }
   ],
   "source": [
    "# 设置画布大小\n",
    "options(repr.plot.width=5, repr.plot.height=4)\n",
    "\n",
    "# 脊形（柱）图：堆叠条形图变种，了解即可\n",
    "spine(性别~社区, data = example2_1, xlab = '性别', ylab = '社区', margins = c(4,3.5,1,2.5))"
   ]
  },
  {
   "cell_type": "code",
   "execution_count": null,
   "metadata": {},
   "outputs": [],
   "source": []
  },
  {
   "cell_type": "markdown",
   "metadata": {},
   "source": [
    "### 马赛克图（多分类变量图表描述）\n",
    "\n",
    "- 了解即可"
   ]
  },
  {
   "cell_type": "code",
   "execution_count": 365,
   "metadata": {},
   "outputs": [
    {
     "data": {
      "image/png": "[encoded data removed]",
      "text/plain": [
       "Plot with title \"\""
      ]
     },
     "metadata": {},
     "output_type": "display_data"
    }
   ],
   "source": [
    "# 设置画布大小\n",
    "options(repr.plot.width=10, repr.plot.height=8)\n",
    "mosaicplot(~性别+社区+态度, data = example2_1, color = 2:3, main = '')"
   ]
  },
  {
   "cell_type": "markdown",
   "metadata": {},
   "source": [
    " "
   ]
  },
  {
   "cell_type": "code",
   "execution_count": null,
   "metadata": {},
   "outputs": [],
   "source": []
  },
  {
   "cell_type": "markdown",
   "metadata": {},
   "source": [
    "# 分类变量的描述统计量"
   ]
  },
  {
   "cell_type": "markdown",
   "metadata": {},
   "source": [
    "## 描述水平的统计量（集中趋势度量）：众数"
   ]
  },
  {
   "cell_type": "code",
   "execution_count": 43,
   "metadata": {
    "scrolled": false
   },
   "outputs": [
    {
     "data": {
      "text/html": [
       "<table>\n",
       "<thead><tr><th scope=col>分数</th></tr></thead>\n",
       "<tbody>\n",
       "\t<tr><td>85</td></tr>\n",
       "\t<tr><td>55</td></tr>\n",
       "\t<tr><td>91</td></tr>\n",
       "\t<tr><td>66</td></tr>\n",
       "\t<tr><td>79</td></tr>\n",
       "</tbody>\n",
       "</table>\n"
      ],
      "text/latex": [
       "\\begin{tabular}{r|l}\n",
       " 分数\\\\\n",
       "\\hline\n",
       "\t 85\\\\\n",
       "\t 55\\\\\n",
       "\t 91\\\\\n",
       "\t 66\\\\\n",
       "\t 79\\\\\n",
       "\\end{tabular}\n"
      ],
      "text/markdown": [
       "\n",
       "| 分数 |\n",
       "|---|\n",
       "| 85 |\n",
       "| 55 |\n",
       "| 91 |\n",
       "| 66 |\n",
       "| 79 |\n",
       "\n"
      ],
      "text/plain": [
       "  分数\n",
       "1 85  \n",
       "2 55  \n",
       "3 91  \n",
       "4 66  \n",
       "5 79  "
      ]
     },
     "metadata": {},
     "output_type": "display_data"
    }
   ],
   "source": [
    "load(\"D:\\\\Rdata\\\\example\\\\ch3\\\\example3_1.RData\")\n",
    "head(example3_1,5)"
   ]
  },
  {
   "cell_type": "code",
   "execution_count": 44,
   "metadata": {},
   "outputs": [
    {
     "data": {
      "text/html": [
       "<strong>86:</strong> 14"
      ],
      "text/latex": [
       "\\textbf{86:} 14"
      ],
      "text/markdown": [
       "**86:** 14"
      ],
      "text/plain": [
       "86 \n",
       "14 "
      ]
     },
     "metadata": {},
     "output_type": "display_data"
    }
   ],
   "source": [
    "# 众数（mode)\n",
    "mo <- which.max(table(example3_1))\n",
    "mo"
   ]
  },
  {
   "cell_type": "code",
   "execution_count": 45,
   "metadata": {},
   "outputs": [],
   "source": [
    "names(mo) <- NULL"
   ]
  },
  {
   "cell_type": "code",
   "execution_count": 46,
   "metadata": {},
   "outputs": [
    {
     "data": {
      "text/html": [
       "14"
      ],
      "text/latex": [
       "14"
      ],
      "text/markdown": [
       "14"
      ],
      "text/plain": [
       "[1] 14"
      ]
     },
     "metadata": {},
     "output_type": "display_data"
    }
   ],
   "source": [
    "mo"
   ]
  },
  {
   "cell_type": "markdown",
   "metadata": {},
   "source": [
    "## 描述差异的统计量（离散程度度量）：异众比率\n",
    "\n",
    "- 通过异众比率判断众数的代表性好不好"
   ]
  },
  {
   "cell_type": "code",
   "execution_count": 47,
   "metadata": {},
   "outputs": [
    {
     "data": {
      "text/html": [
       "0.533333333333333"
      ],
      "text/latex": [
       "0.533333333333333"
      ],
      "text/markdown": [
       "0.533333333333333"
      ],
      "text/plain": [
       "[1] 0.5333333"
      ]
     },
     "metadata": {},
     "output_type": "display_data"
    }
   ],
   "source": [
    "s <- sum(table(example3_1))\n",
    "\n",
    "# 异众比率（variation ratio）\n",
    "vs <- (s-mo)/s\n",
    "vs"
   ]
  }
 ],
 "metadata": {
  "kernelspec": {
   "display_name": "R",
   "language": "R",
   "name": "ir"
  },
  "language_info": {
   "codemirror_mode": "r",
   "file_extension": ".r",
   "mimetype": "text/x-r-source",
   "name": "R",
   "pygments_lexer": "r",
   "version": "3.6.1"
  },
  "toc": {
   "base_numbering": 1,
   "nav_menu": {},
   "number_sections": true,
   "sideBar": true,
   "skip_h1_title": false,
   "title_cell": "Table of Contents",
   "title_sidebar": "Contents",
   "toc_cell": false,
   "toc_position": {},
   "toc_section_display": true,
   "toc_window_display": true
  }
 },
 "nbformat": 4,
 "nbformat_minor": 4
}
