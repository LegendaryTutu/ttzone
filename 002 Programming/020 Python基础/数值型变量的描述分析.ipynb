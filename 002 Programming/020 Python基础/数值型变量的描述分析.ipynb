{
 "cells": [
  {
   "cell_type": "markdown",
   "metadata": {},
   "source": [
    "# 数值型变量的图表描述"
   ]
  },
  {
   "cell_type": "markdown",
   "metadata": {},
   "source": [
    "## 展示数据分布的图形"
   ]
  },
  {
   "cell_type": "markdown",
   "metadata": {},
   "source": [
    "### 直方图（histogram）"
   ]
  },
  {
   "cell_type": "code",
   "execution_count": 3,
   "metadata": {},
   "outputs": [
    {
     "data": {
      "text/html": [
       "<table>\n",
       "<thead><tr><th scope=col>销售额</th></tr></thead>\n",
       "<tbody>\n",
       "\t<tr><td>272</td></tr>\n",
       "\t<tr><td>181</td></tr>\n",
       "\t<tr><td>225</td></tr>\n",
       "\t<tr><td>199</td></tr>\n",
       "\t<tr><td>188</td></tr>\n",
       "\t<tr><td>240</td></tr>\n",
       "</tbody>\n",
       "</table>\n"
      ],
      "text/latex": [
       "\\begin{tabular}{r|l}\n",
       " 销售额\\\\\n",
       "\\hline\n",
       "\t 272\\\\\n",
       "\t 181\\\\\n",
       "\t 225\\\\\n",
       "\t 199\\\\\n",
       "\t 188\\\\\n",
       "\t 240\\\\\n",
       "\\end{tabular}\n"
      ],
      "text/markdown": [
       "\n",
       "| 销售额 |\n",
       "|---|\n",
       "| 272 |\n",
       "| 181 |\n",
       "| 225 |\n",
       "| 199 |\n",
       "| 188 |\n",
       "| 240 |\n",
       "\n"
      ],
      "text/plain": [
       "  销售额\n",
       "1 272   \n",
       "2 181   \n",
       "3 225   \n",
       "4 199   \n",
       "5 188   \n",
       "6 240   "
      ]
     },
     "metadata": {},
     "output_type": "display_data"
    }
   ],
   "source": [
    "load(\"D:/Rdata/example/ch2/example2_2.RData\")\n",
    "head(example2_2)"
   ]
  },
  {
   "cell_type": "code",
   "execution_count": 27,
   "metadata": {
    "scrolled": false
   },
   "outputs": [
    {
     "data": {
      "image/png": "[encoded data removed]",
      "text/plain": [
       "Plot with title \"(c)增加正态密度线\""
      ]
     },
     "metadata": {},
     "output_type": "display_data"
    }
   ],
   "source": [
    "# 图形参数设置函数par()\n",
    "par(mfrow=c(2,2),mai=c(0.6,0.6,0.4,0.1),cex=0.7)\n",
    "\n",
    "# 普通直方图\n",
    "hist(example2_2$销售额, xlab='销售额', ylab='频数', main='(a)普通')\n",
    "\n",
    "# 分成20组\n",
    "hist(example2_2$销售额, breaks=20, col='lightblue', xlab='销售额', ylab='频数', main='(b)分成20组')\n",
    "\n",
    "# 增加轴须线和核密度线\n",
    "hist(example2_2$销售额, prob=TRUE, breaks=20, col='lightblue', xlab='销售额', ylab='密度', main='(c)增加轴须线和核密度线')\n",
    "rug(example2_2$销售额)     # 增加轴须线\n",
    "lines(density(example2_2$销售额), col='red')   # 增加核密度曲线\n",
    "\n",
    "# 增加正态密度线\n",
    "hist(example2_2$销售额, \n",
    "     prob=TRUE,    # 设置轴为密度\n",
    "     breaks=20,     # 分成20组\n",
    "     col='lightblue', \n",
    "     xlab='销售额', \n",
    "     ylab='密度', \n",
    "     main='(c)增加正态密度线')\n",
    "curve(dnorm(x,mean(example2_2$销售额), sd(example2_2$销售额)), add=TRUE, col='red')     # 增加正态密度线\n",
    "rug(jitter(example2_2$销售额))"
   ]
  },
  {
   "cell_type": "markdown",
   "metadata": {},
   "source": [
    "### 茎叶图"
   ]
  },
  {
   "cell_type": "code",
   "execution_count": 38,
   "metadata": {},
   "outputs": [
    {
     "data": {
      "text/html": [
       "<table>\n",
       "<thead><tr><th scope=col>销售额</th></tr></thead>\n",
       "<tbody>\n",
       "\t<tr><td>272</td></tr>\n",
       "\t<tr><td>181</td></tr>\n",
       "\t<tr><td>225</td></tr>\n",
       "\t<tr><td>199</td></tr>\n",
       "\t<tr><td>188</td></tr>\n",
       "\t<tr><td>240</td></tr>\n",
       "</tbody>\n",
       "</table>\n"
      ],
      "text/latex": [
       "\\begin{tabular}{r|l}\n",
       " 销售额\\\\\n",
       "\\hline\n",
       "\t 272\\\\\n",
       "\t 181\\\\\n",
       "\t 225\\\\\n",
       "\t 199\\\\\n",
       "\t 188\\\\\n",
       "\t 240\\\\\n",
       "\\end{tabular}\n"
      ],
      "text/markdown": [
       "\n",
       "| 销售额 |\n",
       "|---|\n",
       "| 272 |\n",
       "| 181 |\n",
       "| 225 |\n",
       "| 199 |\n",
       "| 188 |\n",
       "| 240 |\n",
       "\n"
      ],
      "text/plain": [
       "  销售额\n",
       "1 272   \n",
       "2 181   \n",
       "3 225   \n",
       "4 199   \n",
       "5 188   \n",
       "6 240   "
      ]
     },
     "metadata": {},
     "output_type": "display_data"
    }
   ],
   "source": [
    "load(\"D:/Rdata/example/ch2/example2_2.RData\")\n",
    "head(example2_2)"
   ]
  },
  {
   "cell_type": "code",
   "execution_count": 30,
   "metadata": {},
   "outputs": [
    {
     "name": "stdout",
     "output_type": "stream",
     "text": [
      "\n",
      "  The decimal point is 1 digit(s) to the right of the |\n",
      "\n",
      "  16 | 17\n",
      "  17 | 1222\n",
      "  18 | 1136788\n",
      "  19 | 11234566667889999\n",
      "  20 | 000012333334455566677778899\n",
      "  21 | 00224556666777788889\n",
      "  22 | 0222344445556689\n",
      "  23 | 0334455678889\n",
      "  24 | 0133368\n",
      "  25 | 2234\n",
      "  26 | 15\n",
      "  27 | 2\n",
      "\n"
     ]
    }
   ],
   "source": [
    "# 相当于每组间距为10\n",
    "stem(example2_2$销售额)"
   ]
  },
  {
   "cell_type": "markdown",
   "metadata": {},
   "source": [
    "### 箱线图"
   ]
  },
  {
   "cell_type": "markdown",
   "metadata": {},
   "source": [
    "理解并区分：\n",
    "\n",
    "- 最大值、最小值、中位数、上四分位数、下四分位数\n",
    "\n",
    "- 上相邻值、下相邻值：排除异常值后的最大、最小值\n",
    "\n",
    "- 上围栏值、下围栏值\n",
    "\n",
    "- 四分位差IQR、离群点"
   ]
  },
  {
   "cell_type": "code",
   "execution_count": 39,
   "metadata": {},
   "outputs": [
    {
     "data": {
      "text/html": [
       "<table>\n",
       "<thead><tr><th scope=col>销售额</th></tr></thead>\n",
       "<tbody>\n",
       "\t<tr><td>272</td></tr>\n",
       "\t<tr><td>181</td></tr>\n",
       "\t<tr><td>225</td></tr>\n",
       "\t<tr><td>199</td></tr>\n",
       "\t<tr><td>188</td></tr>\n",
       "\t<tr><td>240</td></tr>\n",
       "</tbody>\n",
       "</table>\n"
      ],
      "text/latex": [
       "\\begin{tabular}{r|l}\n",
       " 销售额\\\\\n",
       "\\hline\n",
       "\t 272\\\\\n",
       "\t 181\\\\\n",
       "\t 225\\\\\n",
       "\t 199\\\\\n",
       "\t 188\\\\\n",
       "\t 240\\\\\n",
       "\\end{tabular}\n"
      ],
      "text/markdown": [
       "\n",
       "| 销售额 |\n",
       "|---|\n",
       "| 272 |\n",
       "| 181 |\n",
       "| 225 |\n",
       "| 199 |\n",
       "| 188 |\n",
       "| 240 |\n",
       "\n"
      ],
      "text/plain": [
       "  销售额\n",
       "1 272   \n",
       "2 181   \n",
       "3 225   \n",
       "4 199   \n",
       "5 188   \n",
       "6 240   "
      ]
     },
     "metadata": {},
     "output_type": "display_data"
    }
   ],
   "source": [
    "load(\"D:/Rdata/example/ch2/example2_2.RData\")\n",
    "head(example2_2)"
   ]
  },
  {
   "cell_type": "code",
   "execution_count": 37,
   "metadata": {
    "scrolled": false
   },
   "outputs": [
    {
     "data": {
      "image/png": "[encoded data removed]",
      "text/plain": [
       "Plot with title \"极值与箱子连线的箱线图（range=0,varwidth=T)\""
      ]
     },
     "metadata": {},
     "output_type": "display_data"
    }
   ],
   "source": [
    "# 相邻值与箱子连线的箱线图\n",
    "# 图形参数设置函数par()\n",
    "par(mfrow=c(3,1),mai=c(0.4,0.2,0.3,0.2))\n",
    "x <- rnorm(1000,50,5)\n",
    "boxplot(x, range=1.5,  # 1.5倍IQR\n",
    "        col = 'red', horizontal = TRUE, main='相邻值与箱子连线的箱线图(range=1.5)', cex=0.8)\n",
    "\n",
    "boxplot(x, range=3,    # 3倍IQR\n",
    "        col = 'green',\n",
    "        horizontal = TRUE,  # 横向箱子\n",
    "        main='相邻值与箱子连线的箱线图(range=3)', \n",
    "        cex=0.8)\n",
    "\n",
    "boxplot(x, range=0,\n",
    "        varwidth=TRUE,   # 箱子的宽度与样本量的平方根成比例\n",
    "        col = 'pink',\n",
    "        horizontal = TRUE,  \n",
    "        main='极值与箱子连线的箱线图（range=0,varwidth=T)',\n",
    "        cex=0.8)"
   ]
  },
  {
   "cell_type": "code",
   "execution_count": 41,
   "metadata": {},
   "outputs": [
    {
     "data": {
      "text/html": [
       "<table>\n",
       "<thead><tr><th scope=col>亚历山大.彼得里夫利</th><th scope=col>拉尔夫.许曼</th><th scope=col>克里斯蒂安.赖茨</th><th scope=col>列昂尼德.叶基莫夫</th><th scope=col>基思.桑德森</th><th scope=col>罗曼.邦达鲁克</th></tr></thead>\n",
       "<tbody>\n",
       "\t<tr><td>10.1</td><td> 8.4</td><td> 9.9</td><td> 8.8</td><td> 9.7</td><td> 9.8</td></tr>\n",
       "\t<tr><td> 8.4</td><td> 9.6</td><td>10.7</td><td>10.7</td><td>10.5</td><td> 9.2</td></tr>\n",
       "\t<tr><td>10.3</td><td>10.2</td><td> 9.0</td><td> 9.7</td><td> 9.0</td><td>10.3</td></tr>\n",
       "\t<tr><td>10.2</td><td>10.8</td><td>10.5</td><td> 9.6</td><td> 9.6</td><td> 7.2</td></tr>\n",
       "\t<tr><td>10.4</td><td>10.5</td><td>10.3</td><td>10.0</td><td> 9.0</td><td> 9.9</td></tr>\n",
       "\t<tr><td> 9.6</td><td>10.3</td><td>10.6</td><td>10.2</td><td> 9.9</td><td>10.5</td></tr>\n",
       "</tbody>\n",
       "</table>\n"
      ],
      "text/latex": [
       "\\begin{tabular}{r|llllll}\n",
       " 亚历山大.彼得里夫利 & 拉尔夫.许曼 & 克里斯蒂安.赖茨 & 列昂尼德.叶基莫夫 & 基思.桑德森 & 罗曼.邦达鲁克\\\\\n",
       "\\hline\n",
       "\t 10.1 &  8.4 &  9.9 &  8.8 &  9.7 &  9.8\\\\\n",
       "\t  8.4 &  9.6 & 10.7 & 10.7 & 10.5 &  9.2\\\\\n",
       "\t 10.3 & 10.2 &  9.0 &  9.7 &  9.0 & 10.3\\\\\n",
       "\t 10.2 & 10.8 & 10.5 &  9.6 &  9.6 &  7.2\\\\\n",
       "\t 10.4 & 10.5 & 10.3 & 10.0 &  9.0 &  9.9\\\\\n",
       "\t  9.6 & 10.3 & 10.6 & 10.2 &  9.9 & 10.5\\\\\n",
       "\\end{tabular}\n"
      ],
      "text/markdown": [
       "\n",
       "| 亚历山大.彼得里夫利 | 拉尔夫.许曼 | 克里斯蒂安.赖茨 | 列昂尼德.叶基莫夫 | 基思.桑德森 | 罗曼.邦达鲁克 |\n",
       "|---|---|---|---|---|---|\n",
       "| 10.1 |  8.4 |  9.9 |  8.8 |  9.7 |  9.8 |\n",
       "|  8.4 |  9.6 | 10.7 | 10.7 | 10.5 |  9.2 |\n",
       "| 10.3 | 10.2 |  9.0 |  9.7 |  9.0 | 10.3 |\n",
       "| 10.2 | 10.8 | 10.5 |  9.6 |  9.6 |  7.2 |\n",
       "| 10.4 | 10.5 | 10.3 | 10.0 |  9.0 |  9.9 |\n",
       "|  9.6 | 10.3 | 10.6 | 10.2 |  9.9 | 10.5 |\n",
       "\n"
      ],
      "text/plain": [
       "  亚历山大.彼得里夫利 拉尔夫.许曼 克里斯蒂安.赖茨 列昂尼德.叶基莫夫 基思.桑德森\n",
       "1 10.1                 8.4         9.9             8.8               9.7       \n",
       "2  8.4                 9.6        10.7            10.7              10.5       \n",
       "3 10.3                10.2         9.0             9.7               9.0       \n",
       "4 10.2                10.8        10.5             9.6               9.6       \n",
       "5 10.4                10.5        10.3            10.0               9.0       \n",
       "6  9.6                10.3        10.6            10.2               9.9       \n",
       "  罗曼.邦达鲁克\n",
       "1  9.8         \n",
       "2  9.2         \n",
       "3 10.3         \n",
       "4  7.2         \n",
       "5  9.9         \n",
       "6 10.5         "
      ]
     },
     "metadata": {},
     "output_type": "display_data"
    }
   ],
   "source": [
    "load(\"D:/Rdata/example/ch2/example2_3.RData\")\n",
    "head(example2_3)"
   ]
  },
  {
   "cell_type": "code",
   "execution_count": 42,
   "metadata": {},
   "outputs": [
    {
     "data": {
      "image/png": "[encoded data removed]",
      "text/plain": [
       "plot without title"
      ]
     },
     "metadata": {},
     "output_type": "display_data"
    }
   ],
   "source": [
    "boxplot(example2_3, col = 'lightblue', xlab = '运动员', ylab = '射击环数', cex.lab=0.8, cex.axis=0.6)"
   ]
  },
  {
   "cell_type": "code",
   "execution_count": null,
   "metadata": {},
   "outputs": [],
   "source": []
  },
  {
   "cell_type": "markdown",
   "metadata": {},
   "source": [
    "### 小提琴图"
   ]
  },
  {
   "cell_type": "markdown",
   "metadata": {},
   "source": [
    "弥补了箱线图无法看出数据实际分布形状的不足，在箱线图基础上组合了核密度线"
   ]
  },
  {
   "cell_type": "code",
   "execution_count": 43,
   "metadata": {},
   "outputs": [
    {
     "data": {
      "text/html": [
       "<table>\n",
       "<thead><tr><th scope=col>亚历山大.彼得里夫利</th><th scope=col>拉尔夫.许曼</th><th scope=col>克里斯蒂安.赖茨</th><th scope=col>列昂尼德.叶基莫夫</th><th scope=col>基思.桑德森</th><th scope=col>罗曼.邦达鲁克</th></tr></thead>\n",
       "<tbody>\n",
       "\t<tr><td>10.1</td><td> 8.4</td><td> 9.9</td><td> 8.8</td><td> 9.7</td><td> 9.8</td></tr>\n",
       "\t<tr><td> 8.4</td><td> 9.6</td><td>10.7</td><td>10.7</td><td>10.5</td><td> 9.2</td></tr>\n",
       "\t<tr><td>10.3</td><td>10.2</td><td> 9.0</td><td> 9.7</td><td> 9.0</td><td>10.3</td></tr>\n",
       "\t<tr><td>10.2</td><td>10.8</td><td>10.5</td><td> 9.6</td><td> 9.6</td><td> 7.2</td></tr>\n",
       "\t<tr><td>10.4</td><td>10.5</td><td>10.3</td><td>10.0</td><td> 9.0</td><td> 9.9</td></tr>\n",
       "\t<tr><td> 9.6</td><td>10.3</td><td>10.6</td><td>10.2</td><td> 9.9</td><td>10.5</td></tr>\n",
       "</tbody>\n",
       "</table>\n"
      ],
      "text/latex": [
       "\\begin{tabular}{r|llllll}\n",
       " 亚历山大.彼得里夫利 & 拉尔夫.许曼 & 克里斯蒂安.赖茨 & 列昂尼德.叶基莫夫 & 基思.桑德森 & 罗曼.邦达鲁克\\\\\n",
       "\\hline\n",
       "\t 10.1 &  8.4 &  9.9 &  8.8 &  9.7 &  9.8\\\\\n",
       "\t  8.4 &  9.6 & 10.7 & 10.7 & 10.5 &  9.2\\\\\n",
       "\t 10.3 & 10.2 &  9.0 &  9.7 &  9.0 & 10.3\\\\\n",
       "\t 10.2 & 10.8 & 10.5 &  9.6 &  9.6 &  7.2\\\\\n",
       "\t 10.4 & 10.5 & 10.3 & 10.0 &  9.0 &  9.9\\\\\n",
       "\t  9.6 & 10.3 & 10.6 & 10.2 &  9.9 & 10.5\\\\\n",
       "\\end{tabular}\n"
      ],
      "text/markdown": [
       "\n",
       "| 亚历山大.彼得里夫利 | 拉尔夫.许曼 | 克里斯蒂安.赖茨 | 列昂尼德.叶基莫夫 | 基思.桑德森 | 罗曼.邦达鲁克 |\n",
       "|---|---|---|---|---|---|\n",
       "| 10.1 |  8.4 |  9.9 |  8.8 |  9.7 |  9.8 |\n",
       "|  8.4 |  9.6 | 10.7 | 10.7 | 10.5 |  9.2 |\n",
       "| 10.3 | 10.2 |  9.0 |  9.7 |  9.0 | 10.3 |\n",
       "| 10.2 | 10.8 | 10.5 |  9.6 |  9.6 |  7.2 |\n",
       "| 10.4 | 10.5 | 10.3 | 10.0 |  9.0 |  9.9 |\n",
       "|  9.6 | 10.3 | 10.6 | 10.2 |  9.9 | 10.5 |\n",
       "\n"
      ],
      "text/plain": [
       "  亚历山大.彼得里夫利 拉尔夫.许曼 克里斯蒂安.赖茨 列昂尼德.叶基莫夫 基思.桑德森\n",
       "1 10.1                 8.4         9.9             8.8               9.7       \n",
       "2  8.4                 9.6        10.7            10.7              10.5       \n",
       "3 10.3                10.2         9.0             9.7               9.0       \n",
       "4 10.2                10.8        10.5             9.6               9.6       \n",
       "5 10.4                10.5        10.3            10.0               9.0       \n",
       "6  9.6                10.3        10.6            10.2               9.9       \n",
       "  罗曼.邦达鲁克\n",
       "1  9.8         \n",
       "2  9.2         \n",
       "3 10.3         \n",
       "4  7.2         \n",
       "5  9.9         \n",
       "6 10.5         "
      ]
     },
     "metadata": {},
     "output_type": "display_data"
    }
   ],
   "source": [
    "load(\"D:/Rdata/example/ch2/example2_3.RData\")\n",
    "head(example2_3)"
   ]
  },
  {
   "cell_type": "code",
   "execution_count": 48,
   "metadata": {},
   "outputs": [],
   "source": [
    "# install.packages('sm')\n",
    "# install.packages('vioplot')\n",
    "library(vioplot)"
   ]
  },
  {
   "cell_type": "code",
   "execution_count": 49,
   "metadata": {},
   "outputs": [],
   "source": [
    "x1 <- example2_3$亚历山大.彼得里夫利\n",
    "x2 <- example2_3$拉尔夫.许曼\n",
    "x3 <- example2_3$克里斯蒂安.赖茨\n",
    "x4 <- example2_3$列昂尼德.叶基莫夫\n",
    "x5 <- example2_3$基思.桑德森\n",
    "x6 <- example2_3$罗曼.邦达鲁克"
   ]
  },
  {
   "cell_type": "code",
   "execution_count": 58,
   "metadata": {},
   "outputs": [],
   "source": [
    "?options"
   ]
  },
  {
   "cell_type": "code",
   "execution_count": 64,
   "metadata": {},
   "outputs": [
    {
     "data": {
      "image/png": "[encoded data removed]",
      "text/plain": [
       "Plot with title \"\""
      ]
     },
     "metadata": {},
     "output_type": "display_data"
    }
   ],
   "source": [
    "# # 设置画布大小\n",
    "options(repr.plot.width=15, repr.plot.height=8)\n",
    "\n",
    "# 小提琴图\n",
    "vioplot(x1,x2,x3,x4,x5,x6,col='lightblue',names=names(example2_3),cex.lab = 0.8)"
   ]
  },
  {
   "cell_type": "markdown",
   "metadata": {},
   "source": [
    "### 点图"
   ]
  },
  {
   "cell_type": "code",
   "execution_count": 94,
   "metadata": {},
   "outputs": [
    {
     "data": {
      "text/html": [
       "<table>\n",
       "<thead><tr><th scope=col>id</th><th scope=col>运动员</th><th scope=col>射击环数</th></tr></thead>\n",
       "<tbody>\n",
       "\t<tr><td>1                  </td><td>亚历山大.彼得里夫利</td><td>10.1               </td></tr>\n",
       "\t<tr><td>2                  </td><td>亚历山大.彼得里夫利</td><td> 8.4               </td></tr>\n",
       "\t<tr><td>3                  </td><td>亚历山大.彼得里夫利</td><td>10.3               </td></tr>\n",
       "\t<tr><td>4                  </td><td>亚历山大.彼得里夫利</td><td>10.2               </td></tr>\n",
       "\t<tr><td>5                  </td><td>亚历山大.彼得里夫利</td><td>10.4               </td></tr>\n",
       "\t<tr><td>6                  </td><td>亚历山大.彼得里夫利</td><td> 9.6               </td></tr>\n",
       "</tbody>\n",
       "</table>\n"
      ],
      "text/latex": [
       "\\begin{tabular}{r|lll}\n",
       " id & 运动员 & 射击环数\\\\\n",
       "\\hline\n",
       "\t 1                   & 亚历山大.彼得里夫利 & 10.1               \\\\\n",
       "\t 2                   & 亚历山大.彼得里夫利 &  8.4               \\\\\n",
       "\t 3                   & 亚历山大.彼得里夫利 & 10.3               \\\\\n",
       "\t 4                   & 亚历山大.彼得里夫利 & 10.2               \\\\\n",
       "\t 5                   & 亚历山大.彼得里夫利 & 10.4               \\\\\n",
       "\t 6                   & 亚历山大.彼得里夫利 &  9.6               \\\\\n",
       "\\end{tabular}\n"
      ],
      "text/markdown": [
       "\n",
       "| id | 运动员 | 射击环数 |\n",
       "|---|---|---|\n",
       "| 1                   | 亚历山大.彼得里夫利 | 10.1                |\n",
       "| 2                   | 亚历山大.彼得里夫利 |  8.4                |\n",
       "| 3                   | 亚历山大.彼得里夫利 | 10.3                |\n",
       "| 4                   | 亚历山大.彼得里夫利 | 10.2                |\n",
       "| 5                   | 亚历山大.彼得里夫利 | 10.4                |\n",
       "| 6                   | 亚历山大.彼得里夫利 |  9.6                |\n",
       "\n"
      ],
      "text/plain": [
       "  id 运动员              射击环数\n",
       "1 1  亚历山大.彼得里夫利 10.1    \n",
       "2 2  亚历山大.彼得里夫利  8.4    \n",
       "3 3  亚历山大.彼得里夫利 10.3    \n",
       "4 4  亚历山大.彼得里夫利 10.2    \n",
       "5 5  亚历山大.彼得里夫利 10.4    \n",
       "6 6  亚历山大.彼得里夫利  9.6    "
      ]
     },
     "metadata": {},
     "output_type": "display_data"
    }
   ],
   "source": [
    "load(\"D:/Rdata/example/ch2/example2_3_1.RData\")\n",
    "head(example2_3_1)"
   ]
  },
  {
   "cell_type": "code",
   "execution_count": 95,
   "metadata": {},
   "outputs": [],
   "source": [
    "library(lattice)"
   ]
  },
  {
   "cell_type": "code",
   "execution_count": 96,
   "metadata": {},
   "outputs": [
    {
     "data": {
      "image/png": "[encoded data removed]",
      "text/plain": [
       "plot without title"
      ]
     },
     "metadata": {},
     "output_type": "display_data"
    }
   ],
   "source": [
    "dotplot(射击环数~运动员, data = example2_3_1,col='blue',pch=19)"
   ]
  },
  {
   "cell_type": "markdown",
   "metadata": {},
   "source": [
    "### 核密度图"
   ]
  },
  {
   "cell_type": "markdown",
   "metadata": {},
   "source": [
    "对数据的分布密度做出估计，利用该图可以看出实际分布状况"
   ]
  },
  {
   "cell_type": "code",
   "execution_count": 3,
   "metadata": {},
   "outputs": [
    {
     "data": {
      "text/html": [
       "<table>\n",
       "<thead><tr><th scope=col>id</th><th scope=col>运动员</th><th scope=col>射击环数</th></tr></thead>\n",
       "<tbody>\n",
       "\t<tr><td>1                  </td><td>亚历山大.彼得里夫利</td><td>10.1               </td></tr>\n",
       "\t<tr><td>2                  </td><td>亚历山大.彼得里夫利</td><td> 8.4               </td></tr>\n",
       "\t<tr><td>3                  </td><td>亚历山大.彼得里夫利</td><td>10.3               </td></tr>\n",
       "\t<tr><td>4                  </td><td>亚历山大.彼得里夫利</td><td>10.2               </td></tr>\n",
       "\t<tr><td>5                  </td><td>亚历山大.彼得里夫利</td><td>10.4               </td></tr>\n",
       "\t<tr><td>6                  </td><td>亚历山大.彼得里夫利</td><td> 9.6               </td></tr>\n",
       "</tbody>\n",
       "</table>\n"
      ],
      "text/latex": [
       "\\begin{tabular}{r|lll}\n",
       " id & 运动员 & 射击环数\\\\\n",
       "\\hline\n",
       "\t 1                   & 亚历山大.彼得里夫利 & 10.1               \\\\\n",
       "\t 2                   & 亚历山大.彼得里夫利 &  8.4               \\\\\n",
       "\t 3                   & 亚历山大.彼得里夫利 & 10.3               \\\\\n",
       "\t 4                   & 亚历山大.彼得里夫利 & 10.2               \\\\\n",
       "\t 5                   & 亚历山大.彼得里夫利 & 10.4               \\\\\n",
       "\t 6                   & 亚历山大.彼得里夫利 &  9.6               \\\\\n",
       "\\end{tabular}\n"
      ],
      "text/markdown": [
       "\n",
       "| id | 运动员 | 射击环数 |\n",
       "|---|---|---|\n",
       "| 1                   | 亚历山大.彼得里夫利 | 10.1                |\n",
       "| 2                   | 亚历山大.彼得里夫利 |  8.4                |\n",
       "| 3                   | 亚历山大.彼得里夫利 | 10.3                |\n",
       "| 4                   | 亚历山大.彼得里夫利 | 10.2                |\n",
       "| 5                   | 亚历山大.彼得里夫利 | 10.4                |\n",
       "| 6                   | 亚历山大.彼得里夫利 |  9.6                |\n",
       "\n"
      ],
      "text/plain": [
       "  id 运动员              射击环数\n",
       "1 1  亚历山大.彼得里夫利 10.1    \n",
       "2 2  亚历山大.彼得里夫利  8.4    \n",
       "3 3  亚历山大.彼得里夫利 10.3    \n",
       "4 4  亚历山大.彼得里夫利 10.2    \n",
       "5 5  亚历山大.彼得里夫利 10.4    \n",
       "6 6  亚历山大.彼得里夫利  9.6    "
      ]
     },
     "metadata": {},
     "output_type": "display_data"
    }
   ],
   "source": [
    "load(\"D:/Rdata/example/ch2/example2_3_1.RData\")\n",
    "head(example2_3_1)"
   ]
  },
  {
   "cell_type": "code",
   "execution_count": 4,
   "metadata": {},
   "outputs": [],
   "source": [
    "library(lattice)"
   ]
  },
  {
   "cell_type": "code",
   "execution_count": 5,
   "metadata": {},
   "outputs": [
    {
     "data": {
      "image/png": "[encoded data removed]",
      "text/plain": [
       "plot without title"
      ]
     },
     "metadata": {},
     "output_type": "display_data"
    }
   ],
   "source": [
    "par(cex=0.7,mai=c(0.6,0.6,0.1,0.1))\n",
    "densityplot(~射击环数|运动员, data=example2_3_1, col='blue',cex=0.5)"
   ]
  },
  {
   "cell_type": "code",
   "execution_count": 6,
   "metadata": {},
   "outputs": [],
   "source": [
    "help(attach)"
   ]
  },
  {
   "cell_type": "code",
   "execution_count": 7,
   "metadata": {
    "scrolled": false
   },
   "outputs": [
    {
     "data": {
      "text/html": [
       "<table>\n",
       "<thead><tr><th scope=col>id</th><th scope=col>运动员</th><th scope=col>射击环数</th></tr></thead>\n",
       "<tbody>\n",
       "\t<tr><td>1                  </td><td>亚历山大.彼得里夫利</td><td>10.1               </td></tr>\n",
       "\t<tr><td>2                  </td><td>亚历山大.彼得里夫利</td><td> 8.4               </td></tr>\n",
       "\t<tr><td>3                  </td><td>亚历山大.彼得里夫利</td><td>10.3               </td></tr>\n",
       "\t<tr><td>4                  </td><td>亚历山大.彼得里夫利</td><td>10.2               </td></tr>\n",
       "\t<tr><td>5                  </td><td>亚历山大.彼得里夫利</td><td>10.4               </td></tr>\n",
       "\t<tr><td>6                  </td><td>亚历山大.彼得里夫利</td><td> 9.6               </td></tr>\n",
       "</tbody>\n",
       "</table>\n"
      ],
      "text/latex": [
       "\\begin{tabular}{r|lll}\n",
       " id & 运动员 & 射击环数\\\\\n",
       "\\hline\n",
       "\t 1                   & 亚历山大.彼得里夫利 & 10.1               \\\\\n",
       "\t 2                   & 亚历山大.彼得里夫利 &  8.4               \\\\\n",
       "\t 3                   & 亚历山大.彼得里夫利 & 10.3               \\\\\n",
       "\t 4                   & 亚历山大.彼得里夫利 & 10.2               \\\\\n",
       "\t 5                   & 亚历山大.彼得里夫利 & 10.4               \\\\\n",
       "\t 6                   & 亚历山大.彼得里夫利 &  9.6               \\\\\n",
       "\\end{tabular}\n"
      ],
      "text/markdown": [
       "\n",
       "| id | 运动员 | 射击环数 |\n",
       "|---|---|---|\n",
       "| 1                   | 亚历山大.彼得里夫利 | 10.1                |\n",
       "| 2                   | 亚历山大.彼得里夫利 |  8.4                |\n",
       "| 3                   | 亚历山大.彼得里夫利 | 10.3                |\n",
       "| 4                   | 亚历山大.彼得里夫利 | 10.2                |\n",
       "| 5                   | 亚历山大.彼得里夫利 | 10.4                |\n",
       "| 6                   | 亚历山大.彼得里夫利 |  9.6                |\n",
       "\n"
      ],
      "text/plain": [
       "  id 运动员              射击环数\n",
       "1 1  亚历山大.彼得里夫利 10.1    \n",
       "2 2  亚历山大.彼得里夫利  8.4    \n",
       "3 3  亚历山大.彼得里夫利 10.3    \n",
       "4 4  亚历山大.彼得里夫利 10.2    \n",
       "5 5  亚历山大.彼得里夫利 10.4    \n",
       "6 6  亚历山大.彼得里夫利  9.6    "
      ]
     },
     "metadata": {},
     "output_type": "display_data"
    }
   ],
   "source": [
    "# 用sm.density.compare绘制\n",
    "attach(example2_3_1)\n",
    "head(example2_3_1)"
   ]
  },
  {
   "cell_type": "markdown",
   "metadata": {},
   "source": [
    "## 展示变量间关系的图形"
   ]
  },
  {
   "cell_type": "markdown",
   "metadata": {},
   "source": [
    "### 散点图"
   ]
  },
  {
   "cell_type": "code",
   "execution_count": 1,
   "metadata": {},
   "outputs": [
    {
     "data": {
      "text/html": [
       "<table>\n",
       "<thead><tr><th scope=col>销售收入</th><th scope=col>销售网点数</th><th scope=col>销售人员数</th><th scope=col>广告费用</th></tr></thead>\n",
       "<tbody>\n",
       "\t<tr><td>4373</td><td>186 </td><td>552 </td><td>651 </td></tr>\n",
       "\t<tr><td> 281</td><td> 15 </td><td>226 </td><td> 42 </td></tr>\n",
       "\t<tr><td> 473</td><td> 23 </td><td>237 </td><td> 65 </td></tr>\n",
       "\t<tr><td>1909</td><td> 87 </td><td>405 </td><td>276 </td></tr>\n",
       "\t<tr><td> 321</td><td> 19 </td><td>239 </td><td> 49 </td></tr>\n",
       "\t<tr><td>2145</td><td>104 </td><td>398 </td><td>313 </td></tr>\n",
       "</tbody>\n",
       "</table>\n"
      ],
      "text/latex": [
       "\\begin{tabular}{r|llll}\n",
       " 销售收入 & 销售网点数 & 销售人员数 & 广告费用\\\\\n",
       "\\hline\n",
       "\t 4373 & 186  & 552  & 651 \\\\\n",
       "\t  281 &  15  & 226  &  42 \\\\\n",
       "\t  473 &  23  & 237  &  65 \\\\\n",
       "\t 1909 &  87  & 405  & 276 \\\\\n",
       "\t  321 &  19  & 239  &  49 \\\\\n",
       "\t 2145 & 104  & 398  & 313 \\\\\n",
       "\\end{tabular}\n"
      ],
      "text/markdown": [
       "\n",
       "| 销售收入 | 销售网点数 | 销售人员数 | 广告费用 |\n",
       "|---|---|---|---|\n",
       "| 4373 | 186  | 552  | 651  |\n",
       "|  281 |  15  | 226  |  42  |\n",
       "|  473 |  23  | 237  |  65  |\n",
       "| 1909 |  87  | 405  | 276  |\n",
       "|  321 |  19  | 239  |  49  |\n",
       "| 2145 | 104  | 398  | 313  |\n",
       "\n"
      ],
      "text/plain": [
       "  销售收入 销售网点数 销售人员数 广告费用\n",
       "1 4373     186        552        651     \n",
       "2  281      15        226         42     \n",
       "3  473      23        237         65     \n",
       "4 1909      87        405        276     \n",
       "5  321      19        239         49     \n",
       "6 2145     104        398        313     "
      ]
     },
     "metadata": {},
     "output_type": "display_data"
    }
   ],
   "source": [
    "load(\"D:/Rdata/example/ch2/example2_4.RData\")\n",
    "head(example2_4)"
   ]
  },
  {
   "cell_type": "markdown",
   "metadata": {},
   "source": [
    "**（1） 比较两变量关系的散点图**"
   ]
  },
  {
   "cell_type": "code",
   "execution_count": 27,
   "metadata": {},
   "outputs": [
    {
     "data": {
      "image/png": "[encoded data removed]",
      "text/plain": [
       "Plot with title \"(a)普通带网格线\""
      ]
     },
     "metadata": {},
     "output_type": "display_data"
    }
   ],
   "source": [
    "# 设置画布大小\n",
    "options(repr.plot.width=10, repr.plot.height=4)\n",
    "par(mfcol = c(1,2), mai=c(0.7,0.7,0.3,0.1), cex=0.8, cex.main=0.8)\n",
    "\n",
    "# 绘制散点图\n",
    "plot(example2_4$广告费用, example2_4$销售收入, main=\"(a)普通带网格线\", type=\"p\")\n",
    "grid()  # 增加网格线\n",
    "rug(example2_4$广告费用, side=1, col=4);rug(example2_4$销售收入,side=2,col=4)  # 增加轴须线\n",
    "\n",
    "\n",
    "# 带拟合直线的散点图\n",
    "plot(example2_4$广告费用, example2_4$销售收入, main=\"(a)普通带网格线\")\n",
    "# 添加拟合直线\n",
    "abline(lm(销售收入~广告费用, data=example2_4), col='red')\n",
    "# 增加轴须线\n",
    "rug(example2_4$广告费用, side=1, col=4);rug(example2_4$销售收入,side=2,col=4)"
   ]
  },
  {
   "cell_type": "markdown",
   "metadata": {},
   "source": [
    "**(2) 比较1个变量与多个变量之间的关系的散点图：重叠散点图**"
   ]
  },
  {
   "cell_type": "code",
   "execution_count": 37,
   "metadata": {
    "scrolled": false
   },
   "outputs": [
    {
     "data": {
      "image/png": "[encoded data removed]",
      "text/plain": [
       "plot without title"
      ]
     },
     "metadata": {},
     "output_type": "display_data"
    }
   ],
   "source": [
    "# 设置画布大小\n",
    "options(repr.plot.width=5, repr.plot.height=4)\n",
    "par(mfcol = c(1,1), mai=c(0.7,0.7,0.3,0.1), cex=0.8, cex.main=0.8)\n",
    "\n",
    "# 绘制重叠散点图\n",
    "plot(example2_4$广告费用, example2_4$销售收入,xlab = \"\", ylab=\"销售收入\")\n",
    "abline(lm(销售收入~广告费用, data=example2_4), col='red')\n",
    "\n",
    "points(example2_4$销售网点数, example2_4$销售收入,pch=2, col='blue')\n",
    "abline(lm(销售收入~销售网点数, data=example2_4), col='blue')\n",
    "\n",
    "points(example2_4$销售人员数, example2_4$销售收入,pch=3, col=3)\n",
    "abline(lm(销售收入~销售人员数, data=example2_4), col=3)"
   ]
  },
  {
   "cell_type": "markdown",
   "metadata": {},
   "source": [
    "**(3) 比较多个变量之间的两两关系：矩阵散点图**"
   ]
  },
  {
   "cell_type": "code",
   "execution_count": 40,
   "metadata": {},
   "outputs": [
    {
     "data": {
      "image/png": "[encoded data removed]",
      "text/plain": [
       "plot without title"
      ]
     },
     "metadata": {},
     "output_type": "display_data"
    }
   ],
   "source": [
    "# 设置画布大小\n",
    "options(repr.plot.width=8, repr.plot.height=6)\n",
    "par(mfcol = c(1,1), mai=c(0.7,0.7,0.3,0.1), cex=0.8, cex.main=0.8)\n",
    "\n",
    "plot(example2_4, \n",
    "     cex=0.6, \n",
    "     gap=0.5   # 调整矩阵之间的距离\n",
    "    )"
   ]
  },
  {
   "cell_type": "markdown",
   "metadata": {},
   "source": [
    "### 气泡图"
   ]
  },
  {
   "cell_type": "code",
   "execution_count": 46,
   "metadata": {},
   "outputs": [
    {
     "name": "stderr",
     "output_type": "stream",
     "text": [
      "The following objects are masked from example2_4 (pos = 3):\n",
      "\n",
      "    广告费用, 销售人员数, 销售收入, 销售网点数\n",
      "\n",
      "The following objects are masked from example2_4 (pos = 4):\n",
      "\n",
      "    广告费用, 销售人员数, 销售收入, 销售网点数\n",
      "\n",
      "The following objects are masked from example2_4 (pos = 5):\n",
      "\n",
      "    广告费用, 销售人员数, 销售收入, 销售网点数\n",
      "\n",
      "The following objects are masked from example2_4 (pos = 6):\n",
      "\n",
      "    广告费用, 销售人员数, 销售收入, 销售网点数\n",
      "\n",
      "The following objects are masked from example2_4 (pos = 7):\n",
      "\n",
      "    广告费用, 销售人员数, 销售收入, 销售网点数\n",
      "\n"
     ]
    }
   ],
   "source": [
    "# 直接引用example2_4数据库中的对象\n",
    "attach(example2_4)"
   ]
  },
  {
   "cell_type": "code",
   "execution_count": 54,
   "metadata": {},
   "outputs": [
    {
     "data": {
      "image/png": "[encoded data removed]",
      "text/plain": [
       "plot without title"
      ]
     },
     "metadata": {},
     "output_type": "display_data"
    }
   ],
   "source": [
    "symbols(广告费用, 销售网点数, 销售收入, \n",
    "        inches=0.3, \n",
    "        fg=\"white\",   # 气泡边界颜色\n",
    "        bg=\"lightblue\",    # 气泡颜色\n",
    "        ylab=\"销售网点数\",xlab=\"广告费用\")"
   ]
  },
  {
   "cell_type": "markdown",
   "metadata": {},
   "source": [
    "## 比较多样本相似性的图形"
   ]
  },
  {
   "cell_type": "markdown",
   "metadata": {},
   "source": [
    "### 轮廓图"
   ]
  },
  {
   "cell_type": "code",
   "execution_count": 55,
   "metadata": {
    "scrolled": true
   },
   "outputs": [
    {
     "data": {
      "text/html": [
       "<table>\n",
       "<thead><tr><th scope=col>消费项目</th><th scope=col>食品</th><th scope=col>衣着</th><th scope=col>居住</th><th scope=col>家庭设备用品及服务</th><th scope=col>医疗保健</th><th scope=col>交通和通信</th><th scope=col>教育文化娱乐服务</th><th scope=col>其他商品和服务</th></tr></thead>\n",
       "<tbody>\n",
       "\t<tr><td>最低收入户</td><td>2525.32   </td><td> 513.56   </td><td> 656.28   </td><td> 288.55   </td><td> 405.29   </td><td> 448.25   </td><td> 502.61   </td><td>131.98    </td></tr>\n",
       "\t<tr><td>低收入户  </td><td>3246.69   </td><td> 804.73   </td><td> 775.10   </td><td> 427.16   </td><td> 478.30   </td><td> 669.08   </td><td> 746.67   </td><td>212.45    </td></tr>\n",
       "\t<tr><td>中等偏下户</td><td>3946.00   </td><td>1076.03   </td><td>1009.97   </td><td> 600.94   </td><td> 637.75   </td><td>1051.75   </td><td>1037.97   </td><td>288.80    </td></tr>\n",
       "\t<tr><td>中等收入户</td><td>4773.83   </td><td>1408.10   </td><td>1260.28   </td><td> 833.59   </td><td> 864.67   </td><td>1620.62   </td><td>1421.25   </td><td>427.09    </td></tr>\n",
       "\t<tr><td>中等偏上户</td><td>5710.14   </td><td>1786.57   </td><td>1504.21   </td><td>1110.95   </td><td>1060.13   </td><td>2357.96   </td><td>2001.47   </td><td>608.93    </td></tr>\n",
       "\t<tr><td>高收入户  </td><td>6756.00   </td><td>2226.70   </td><td>1999.99   </td><td>1500.24   </td><td>1313.60   </td><td>3630.63   </td><td>2739.70   </td><td>833.53    </td></tr>\n",
       "</tbody>\n",
       "</table>\n"
      ],
      "text/latex": [
       "\\begin{tabular}{r|lllllllll}\n",
       " 消费项目 & 食品 & 衣着 & 居住 & 家庭设备用品及服务 & 医疗保健 & 交通和通信 & 教育文化娱乐服务 & 其他商品和服务\\\\\n",
       "\\hline\n",
       "\t 最低收入户 & 2525.32    &  513.56    &  656.28    &  288.55    &  405.29    &  448.25    &  502.61    & 131.98    \\\\\n",
       "\t 低收入户   & 3246.69    &  804.73    &  775.10    &  427.16    &  478.30    &  669.08    &  746.67    & 212.45    \\\\\n",
       "\t 中等偏下户 & 3946.00    & 1076.03    & 1009.97    &  600.94    &  637.75    & 1051.75    & 1037.97    & 288.80    \\\\\n",
       "\t 中等收入户 & 4773.83    & 1408.10    & 1260.28    &  833.59    &  864.67    & 1620.62    & 1421.25    & 427.09    \\\\\n",
       "\t 中等偏上户 & 5710.14    & 1786.57    & 1504.21    & 1110.95    & 1060.13    & 2357.96    & 2001.47    & 608.93    \\\\\n",
       "\t 高收入户   & 6756.00    & 2226.70    & 1999.99    & 1500.24    & 1313.60    & 3630.63    & 2739.70    & 833.53    \\\\\n",
       "\\end{tabular}\n"
      ],
      "text/markdown": [
       "\n",
       "| 消费项目 | 食品 | 衣着 | 居住 | 家庭设备用品及服务 | 医疗保健 | 交通和通信 | 教育文化娱乐服务 | 其他商品和服务 |\n",
       "|---|---|---|---|---|---|---|---|---|\n",
       "| 最低收入户 | 2525.32    |  513.56    |  656.28    |  288.55    |  405.29    |  448.25    |  502.61    | 131.98     |\n",
       "| 低收入户   | 3246.69    |  804.73    |  775.10    |  427.16    |  478.30    |  669.08    |  746.67    | 212.45     |\n",
       "| 中等偏下户 | 3946.00    | 1076.03    | 1009.97    |  600.94    |  637.75    | 1051.75    | 1037.97    | 288.80     |\n",
       "| 中等收入户 | 4773.83    | 1408.10    | 1260.28    |  833.59    |  864.67    | 1620.62    | 1421.25    | 427.09     |\n",
       "| 中等偏上户 | 5710.14    | 1786.57    | 1504.21    | 1110.95    | 1060.13    | 2357.96    | 2001.47    | 608.93     |\n",
       "| 高收入户   | 6756.00    | 2226.70    | 1999.99    | 1500.24    | 1313.60    | 3630.63    | 2739.70    | 833.53     |\n",
       "\n"
      ],
      "text/plain": [
       "  消费项目   食品    衣着    居住    家庭设备用品及服务 医疗保健 交通和通信\n",
       "1 最低收入户 2525.32  513.56  656.28  288.55             405.29   448.25   \n",
       "2 低收入户   3246.69  804.73  775.10  427.16             478.30   669.08   \n",
       "3 中等偏下户 3946.00 1076.03 1009.97  600.94             637.75  1051.75   \n",
       "4 中等收入户 4773.83 1408.10 1260.28  833.59             864.67  1620.62   \n",
       "5 中等偏上户 5710.14 1786.57 1504.21 1110.95            1060.13  2357.96   \n",
       "6 高收入户   6756.00 2226.70 1999.99 1500.24            1313.60  3630.63   \n",
       "  教育文化娱乐服务 其他商品和服务\n",
       "1  502.61          131.98        \n",
       "2  746.67          212.45        \n",
       "3 1037.97          288.80        \n",
       "4 1421.25          427.09        \n",
       "5 2001.47          608.93        \n",
       "6 2739.70          833.53        "
      ]
     },
     "metadata": {},
     "output_type": "display_data"
    }
   ],
   "source": [
    "load(\"D:/Rdata/example/ch2/example2_5.RData\")\n",
    "head(example2_5)"
   ]
  },
  {
   "cell_type": "code",
   "execution_count": 84,
   "metadata": {},
   "outputs": [
    {
     "data": {
      "image/png": "[encoded data removed]",
      "text/plain": [
       "plot without title"
      ]
     },
     "metadata": {},
     "output_type": "display_data"
    }
   ],
   "source": [
    "# 设置画布大小\n",
    "options(repr.plot.width=10, repr.plot.height=6)\n",
    "par(mfcol = c(1,1), mai=c(0.7,0.7,0.3,0.1), cex=0.8, cex.main=0.8)\n",
    "\n",
    "matplot(t(example2_5[2:9]), type='b', lty=1:7, col=1:7, xlab=\"消费项目\", ylab=\"支出金额\", pch=1, xaxt=\"n\")\n",
    "axis(side=1, at=1:8, \n",
    "     labels=c(\"食品\",\"衣着\",\"居住\",\"家庭设备用品及服务\",\"医疗保健\",\"交通和通信\",\"教育文化娱乐服务\",\"其他商品和服务\"), \n",
    "     cex.axis=0.9\n",
    "    )\n",
    "legend(x=\"topright\", legend=c(\"食品\",\"衣着\",\"居住\",\"家庭设备用品及服务\",\"医疗保健\",\"交通和通信\",\"教育文化娱乐服务\",\"其他商品和服务\"), \n",
    "      lty=1:7,col=1:7,text.width=1, cex=1\n",
    "      )"
   ]
  },
  {
   "cell_type": "markdown",
   "metadata": {},
   "source": [
    "### 雷达图"
   ]
  },
  {
   "cell_type": "code",
   "execution_count": null,
   "metadata": {},
   "outputs": [],
   "source": [
    "install.packages(\"fmsb\")"
   ]
  },
  {
   "cell_type": "code",
   "execution_count": 90,
   "metadata": {},
   "outputs": [],
   "source": [
    "library(fmsb)"
   ]
  },
  {
   "cell_type": "code",
   "execution_count": 111,
   "metadata": {},
   "outputs": [
    {
     "data": {
      "image/png": "[encoded data removed]",
      "text/plain": [
       "Plot with title \"\""
      ]
     },
     "metadata": {},
     "output_type": "display_data"
    }
   ],
   "source": [
    "radarchart(example2_5[,2:9], axistype=0, seg=4, maxmin=FALSE, vlabels=names(example2_5[,2:9]),pcol=1:7,plwd=1.5)\n",
    "legend(x=\"topleft\", legend=c(\"食品\",\"衣着\",\"居住\",\"家庭设备用品及服务\",\"医疗保健\",\"交通和通信\",\"教育文化娱乐服务\",\"其他商品和服务\"), \n",
    "      lty=1:7,col=1:7,text.width=0.3, cex=0.6\n",
    "      )"
   ]
  },
  {
   "cell_type": "code",
   "execution_count": null,
   "metadata": {},
   "outputs": [],
   "source": []
  },
  {
   "cell_type": "markdown",
   "metadata": {},
   "source": [
    "### 其他图形：星图、脸谱图等"
   ]
  },
  {
   "cell_type": "markdown",
   "metadata": {},
   "source": [
    "## 时间序列图"
   ]
  },
  {
   "cell_type": "code",
   "execution_count": 112,
   "metadata": {},
   "outputs": [
    {
     "data": {
      "text/html": [
       "<table>\n",
       "<thead><tr><th scope=col>年份</th><th scope=col>农村居民消费水平</th><th scope=col>城镇居民消费水平</th></tr></thead>\n",
       "<tbody>\n",
       "\t<tr><td>2000</td><td>1917</td><td>6999</td></tr>\n",
       "\t<tr><td>2001</td><td>2032</td><td>7324</td></tr>\n",
       "\t<tr><td>2002</td><td>2157</td><td>7745</td></tr>\n",
       "\t<tr><td>2003</td><td>2292</td><td>8104</td></tr>\n",
       "\t<tr><td>2004</td><td>2521</td><td>8880</td></tr>\n",
       "\t<tr><td>2005</td><td>2784</td><td>9832</td></tr>\n",
       "</tbody>\n",
       "</table>\n"
      ],
      "text/latex": [
       "\\begin{tabular}{r|lll}\n",
       " 年份 & 农村居民消费水平 & 城镇居民消费水平\\\\\n",
       "\\hline\n",
       "\t 2000 & 1917 & 6999\\\\\n",
       "\t 2001 & 2032 & 7324\\\\\n",
       "\t 2002 & 2157 & 7745\\\\\n",
       "\t 2003 & 2292 & 8104\\\\\n",
       "\t 2004 & 2521 & 8880\\\\\n",
       "\t 2005 & 2784 & 9832\\\\\n",
       "\\end{tabular}\n"
      ],
      "text/markdown": [
       "\n",
       "| 年份 | 农村居民消费水平 | 城镇居民消费水平 |\n",
       "|---|---|---|\n",
       "| 2000 | 1917 | 6999 |\n",
       "| 2001 | 2032 | 7324 |\n",
       "| 2002 | 2157 | 7745 |\n",
       "| 2003 | 2292 | 8104 |\n",
       "| 2004 | 2521 | 8880 |\n",
       "| 2005 | 2784 | 9832 |\n",
       "\n"
      ],
      "text/plain": [
       "  年份 农村居民消费水平 城镇居民消费水平\n",
       "1 2000 1917             6999            \n",
       "2 2001 2032             7324            \n",
       "3 2002 2157             7745            \n",
       "4 2003 2292             8104            \n",
       "5 2004 2521             8880            \n",
       "6 2005 2784             9832            "
      ]
     },
     "metadata": {},
     "output_type": "display_data"
    }
   ],
   "source": [
    "load(\"D:/Rdata/example/ch2/example2_9.RData\")\n",
    "head(example2_9)"
   ]
  },
  {
   "cell_type": "code",
   "execution_count": 115,
   "metadata": {},
   "outputs": [],
   "source": [
    "example2_9 <- ts(example2_9, start=2000)"
   ]
  },
  {
   "cell_type": "code",
   "execution_count": 124,
   "metadata": {
    "scrolled": false
   },
   "outputs": [
    {
     "data": {
      "image/png": "[encoded data removed]",
      "text/plain": [
       "plot without title"
      ]
     },
     "metadata": {},
     "output_type": "display_data"
    }
   ],
   "source": [
    "# 设置画布大小\n",
    "options(repr.plot.width=10, repr.plot.height=6)\n",
    "par(mfcol = c(1,1), mai=c(0.7,0.7,0.3,0.1), cex=0.8, cex.main=0.8)\n",
    "\n",
    "plot(example2_9[,2],lwd=1.5, ylim=c(2000,30000), xlab='年份', ylab='居民消费水平', type='b')\n",
    "grid(col='gray60')\n",
    "lines(example2_9[,3], type='b',lty=2,lwd=1.5,col='blue')\n",
    "legend(x='topleft', legend = c(\"农村居民消费水平\", \"城镇居民消费水平\"), lty=1:2, col=c(1,4), cex=1.3)"
   ]
  },
  {
   "cell_type": "markdown",
   "metadata": {},
   "source": [
    "# 数值变量的统计量描述"
   ]
  },
  {
   "cell_type": "markdown",
   "metadata": {},
   "source": [
    "## 描述水平的统计量"
   ]
  },
  {
   "cell_type": "markdown",
   "metadata": {},
   "source": [
    "### （简单）平均数"
   ]
  },
  {
   "cell_type": "code",
   "execution_count": 125,
   "metadata": {},
   "outputs": [
    {
     "data": {
      "text/html": [
       "<table>\n",
       "<thead><tr><th scope=col>分数</th></tr></thead>\n",
       "<tbody>\n",
       "\t<tr><td>85</td></tr>\n",
       "\t<tr><td>55</td></tr>\n",
       "\t<tr><td>91</td></tr>\n",
       "\t<tr><td>66</td></tr>\n",
       "\t<tr><td>79</td></tr>\n",
       "\t<tr><td>97</td></tr>\n",
       "</tbody>\n",
       "</table>\n"
      ],
      "text/latex": [
       "\\begin{tabular}{r|l}\n",
       " 分数\\\\\n",
       "\\hline\n",
       "\t 85\\\\\n",
       "\t 55\\\\\n",
       "\t 91\\\\\n",
       "\t 66\\\\\n",
       "\t 79\\\\\n",
       "\t 97\\\\\n",
       "\\end{tabular}\n"
      ],
      "text/markdown": [
       "\n",
       "| 分数 |\n",
       "|---|\n",
       "| 85 |\n",
       "| 55 |\n",
       "| 91 |\n",
       "| 66 |\n",
       "| 79 |\n",
       "| 97 |\n",
       "\n"
      ],
      "text/plain": [
       "  分数\n",
       "1 85  \n",
       "2 55  \n",
       "3 91  \n",
       "4 66  \n",
       "5 79  \n",
       "6 97  "
      ]
     },
     "metadata": {},
     "output_type": "display_data"
    }
   ],
   "source": [
    "load(\"D:/Rdata/example/ch3/example3_1.RData\")\n",
    "head(example3_1)"
   ]
  },
  {
   "cell_type": "code",
   "execution_count": 126,
   "metadata": {
    "scrolled": true
   },
   "outputs": [
    {
     "data": {
      "text/html": [
       "80"
      ],
      "text/latex": [
       "80"
      ],
      "text/markdown": [
       "80"
      ],
      "text/plain": [
       "[1] 80"
      ]
     },
     "metadata": {},
     "output_type": "display_data"
    }
   ],
   "source": [
    "mean(example3_1$分数)"
   ]
  },
  {
   "cell_type": "markdown",
   "metadata": {},
   "source": [
    "### 加权平均数"
   ]
  },
  {
   "cell_type": "code",
   "execution_count": 130,
   "metadata": {},
   "outputs": [
    {
     "data": {
      "text/html": [
       "<table>\n",
       "<thead><tr><th scope=col>分组</th><th scope=col>组中值</th><th scope=col>人数</th></tr></thead>\n",
       "<tbody>\n",
       "\t<tr><td>60以下</td><td>55    </td><td> 3    </td></tr>\n",
       "\t<tr><td>60—70 </td><td>65    </td><td> 4    </td></tr>\n",
       "\t<tr><td>70—80 </td><td>75    </td><td> 4    </td></tr>\n",
       "\t<tr><td>80—90 </td><td>85    </td><td>10    </td></tr>\n",
       "\t<tr><td>90—100</td><td>95    </td><td> 9    </td></tr>\n",
       "</tbody>\n",
       "</table>\n"
      ],
      "text/latex": [
       "\\begin{tabular}{r|lll}\n",
       " 分组 & 组中值 & 人数\\\\\n",
       "\\hline\n",
       "\t 60以下 & 55     &  3    \\\\\n",
       "\t 60—70  & 65     &  4    \\\\\n",
       "\t 70—80  & 75     &  4    \\\\\n",
       "\t 80—90  & 85     & 10    \\\\\n",
       "\t 90—100 & 95     &  9    \\\\\n",
       "\\end{tabular}\n"
      ],
      "text/markdown": [
       "\n",
       "| 分组 | 组中值 | 人数 |\n",
       "|---|---|---|\n",
       "| 60以下 | 55     |  3     |\n",
       "| 60—70  | 65     |  4     |\n",
       "| 70—80  | 75     |  4     |\n",
       "| 80—90  | 85     | 10     |\n",
       "| 90—100 | 95     |  9     |\n",
       "\n"
      ],
      "text/plain": [
       "  分组   组中值 人数\n",
       "1 60以下 55      3  \n",
       "2 60—70  65      4  \n",
       "3 70—80  75      4  \n",
       "4 80—90  85     10  \n",
       "5 90—100 95      9  "
      ]
     },
     "metadata": {},
     "output_type": "display_data"
    }
   ],
   "source": [
    "load(\"D:/Rdata/example/ch3/example3_2.RData\")\n",
    "head(example3_2)"
   ]
  },
  {
   "cell_type": "code",
   "execution_count": 131,
   "metadata": {},
   "outputs": [
    {
     "data": {
      "text/html": [
       "81"
      ],
      "text/latex": [
       "81"
      ],
      "text/markdown": [
       "81"
      ],
      "text/plain": [
       "[1] 81"
      ]
     },
     "metadata": {},
     "output_type": "display_data"
    }
   ],
   "source": [
    "weighted.mean(example3_2$组中值, example3_2$人数)"
   ]
  },
  {
   "cell_type": "markdown",
   "metadata": {},
   "source": [
    "### 分位数\n",
    "\n",
    "- 用于描述顺序变量"
   ]
  },
  {
   "cell_type": "markdown",
   "metadata": {},
   "source": [
    "**（1）中位数**"
   ]
  },
  {
   "cell_type": "code",
   "execution_count": 133,
   "metadata": {},
   "outputs": [
    {
     "data": {
      "text/html": [
       "85"
      ],
      "text/latex": [
       "85"
      ],
      "text/markdown": [
       "85"
      ],
      "text/plain": [
       "[1] 85"
      ]
     },
     "metadata": {},
     "output_type": "display_data"
    }
   ],
   "source": [
    "median(example3_1$分数)"
   ]
  },
  {
   "cell_type": "markdown",
   "metadata": {},
   "source": [
    "**（2）四分位数**"
   ]
  },
  {
   "cell_type": "code",
   "execution_count": 136,
   "metadata": {},
   "outputs": [
    {
     "data": {
      "text/html": [
       "<dl class=dl-horizontal>\n",
       "\t<dt>25%</dt>\n",
       "\t\t<dd>69.25</dd>\n",
       "\t<dt>75%</dt>\n",
       "\t\t<dd>90.25</dd>\n",
       "</dl>\n"
      ],
      "text/latex": [
       "\\begin{description*}\n",
       "\\item[25\\textbackslash{}\\%] 69.25\n",
       "\\item[75\\textbackslash{}\\%] 90.25\n",
       "\\end{description*}\n"
      ],
      "text/markdown": [
       "25%\n",
       ":   69.2575%\n",
       ":   90.25\n",
       "\n"
      ],
      "text/plain": [
       "  25%   75% \n",
       "69.25 90.25 "
      ]
     },
     "metadata": {},
     "output_type": "display_data"
    }
   ],
   "source": [
    "quantile(example3_1$分数, probs=c(0.25,0.75),type=6)"
   ]
  },
  {
   "cell_type": "markdown",
   "metadata": {},
   "source": [
    "## 描述差异的统计量 "
   ]
  },
  {
   "cell_type": "markdown",
   "metadata": {},
   "source": [
    "### 极差"
   ]
  },
  {
   "cell_type": "code",
   "execution_count": 132,
   "metadata": {},
   "outputs": [
    {
     "data": {
      "text/html": [
       "47"
      ],
      "text/latex": [
       "47"
      ],
      "text/markdown": [
       "47"
      ],
      "text/plain": [
       "[1] 47"
      ]
     },
     "metadata": {},
     "output_type": "display_data"
    }
   ],
   "source": [
    "range <- max(example3_1$分数) - min(example3_1$分数)\n",
    "range"
   ]
  },
  {
   "cell_type": "markdown",
   "metadata": {},
   "source": [
    "### 四分位差\n",
    "\n",
    "- 用于描述顺序变量"
   ]
  },
  {
   "cell_type": "code",
   "execution_count": 137,
   "metadata": {},
   "outputs": [
    {
     "data": {
      "text/html": [
       "21"
      ],
      "text/latex": [
       "21"
      ],
      "text/markdown": [
       "21"
      ],
      "text/plain": [
       "[1] 21"
      ]
     },
     "metadata": {},
     "output_type": "display_data"
    }
   ],
   "source": [
    "IQR(example3_1$分数, type=6)"
   ]
  },
  {
   "cell_type": "markdown",
   "metadata": {},
   "source": [
    "### 方差和标准差"
   ]
  },
  {
   "cell_type": "code",
   "execution_count": 138,
   "metadata": {},
   "outputs": [
    {
     "data": {
      "text/html": [
       "174.620689655172"
      ],
      "text/latex": [
       "174.620689655172"
      ],
      "text/markdown": [
       "174.620689655172"
      ],
      "text/plain": [
       "[1] 174.6207"
      ]
     },
     "metadata": {},
     "output_type": "display_data"
    }
   ],
   "source": [
    "var(example3_1$分数)"
   ]
  },
  {
   "cell_type": "code",
   "execution_count": 139,
   "metadata": {},
   "outputs": [
    {
     "data": {
      "text/html": [
       "13.2144121948414"
      ],
      "text/latex": [
       "13.2144121948414"
      ],
      "text/markdown": [
       "13.2144121948414"
      ],
      "text/plain": [
       "[1] 13.21441"
      ]
     },
     "metadata": {},
     "output_type": "display_data"
    }
   ],
   "source": [
    "sd(example3_1$分数)"
   ]
  },
  {
   "cell_type": "markdown",
   "metadata": {},
   "source": [
    "### 变异系数"
   ]
  },
  {
   "cell_type": "code",
   "execution_count": 140,
   "metadata": {},
   "outputs": [
    {
     "data": {
      "text/html": [
       "<table>\n",
       "<thead><tr><th scope=col>纳塔利娅.帕杰林娜</th><th scope=col>郭文珺</th><th scope=col>卓格巴德拉赫.蒙赫珠勒</th><th scope=col>妮诺.萨卢克瓦泽</th><th scope=col>维多利亚.柴卡</th><th scope=col>莱万多夫斯卡.萨贡</th><th scope=col>亚斯娜.舍卡里奇</th><th scope=col>米拉.内万苏</th></tr></thead>\n",
       "<tbody>\n",
       "\t<tr><td>10.0</td><td>10.0</td><td> 9.3</td><td> 9.8</td><td> 9.3</td><td> 8.1</td><td>10.2</td><td> 8.7</td></tr>\n",
       "\t<tr><td> 8.5</td><td>10.5</td><td>10.0</td><td>10.3</td><td> 9.4</td><td>10.3</td><td> 9.6</td><td> 9.3</td></tr>\n",
       "\t<tr><td>10.0</td><td>10.4</td><td> 8.7</td><td>10.0</td><td>10.4</td><td> 9.2</td><td> 9.9</td><td> 9.2</td></tr>\n",
       "\t<tr><td>10.2</td><td>10.4</td><td> 8.3</td><td> 9.5</td><td>10.1</td><td> 9.9</td><td> 9.9</td><td>10.3</td></tr>\n",
       "\t<tr><td>10.6</td><td>10.1</td><td> 9.2</td><td>10.2</td><td>10.2</td><td> 9.8</td><td> 9.3</td><td> 9.8</td></tr>\n",
       "\t<tr><td>10.5</td><td>10.3</td><td> 9.5</td><td>10.7</td><td>10.5</td><td>10.4</td><td> 9.1</td><td>10.0</td></tr>\n",
       "</tbody>\n",
       "</table>\n"
      ],
      "text/latex": [
       "\\begin{tabular}{r|llllllll}\n",
       " 纳塔利娅.帕杰林娜 & 郭文珺 & 卓格巴德拉赫.蒙赫珠勒 & 妮诺.萨卢克瓦泽 & 维多利亚.柴卡 & 莱万多夫斯卡.萨贡 & 亚斯娜.舍卡里奇 & 米拉.内万苏\\\\\n",
       "\\hline\n",
       "\t 10.0 & 10.0 &  9.3 &  9.8 &  9.3 &  8.1 & 10.2 &  8.7\\\\\n",
       "\t  8.5 & 10.5 & 10.0 & 10.3 &  9.4 & 10.3 &  9.6 &  9.3\\\\\n",
       "\t 10.0 & 10.4 &  8.7 & 10.0 & 10.4 &  9.2 &  9.9 &  9.2\\\\\n",
       "\t 10.2 & 10.4 &  8.3 &  9.5 & 10.1 &  9.9 &  9.9 & 10.3\\\\\n",
       "\t 10.6 & 10.1 &  9.2 & 10.2 & 10.2 &  9.8 &  9.3 &  9.8\\\\\n",
       "\t 10.5 & 10.3 &  9.5 & 10.7 & 10.5 & 10.4 &  9.1 & 10.0\\\\\n",
       "\\end{tabular}\n"
      ],
      "text/markdown": [
       "\n",
       "| 纳塔利娅.帕杰林娜 | 郭文珺 | 卓格巴德拉赫.蒙赫珠勒 | 妮诺.萨卢克瓦泽 | 维多利亚.柴卡 | 莱万多夫斯卡.萨贡 | 亚斯娜.舍卡里奇 | 米拉.内万苏 |\n",
       "|---|---|---|---|---|---|---|---|\n",
       "| 10.0 | 10.0 |  9.3 |  9.8 |  9.3 |  8.1 | 10.2 |  8.7 |\n",
       "|  8.5 | 10.5 | 10.0 | 10.3 |  9.4 | 10.3 |  9.6 |  9.3 |\n",
       "| 10.0 | 10.4 |  8.7 | 10.0 | 10.4 |  9.2 |  9.9 |  9.2 |\n",
       "| 10.2 | 10.4 |  8.3 |  9.5 | 10.1 |  9.9 |  9.9 | 10.3 |\n",
       "| 10.6 | 10.1 |  9.2 | 10.2 | 10.2 |  9.8 |  9.3 |  9.8 |\n",
       "| 10.5 | 10.3 |  9.5 | 10.7 | 10.5 | 10.4 |  9.1 | 10.0 |\n",
       "\n"
      ],
      "text/plain": [
       "  纳塔利娅.帕杰林娜 郭文珺 卓格巴德拉赫.蒙赫珠勒 妮诺.萨卢克瓦泽 维多利亚.柴卡\n",
       "1 10.0              10.0    9.3                   9.8             9.3         \n",
       "2  8.5              10.5   10.0                  10.3             9.4         \n",
       "3 10.0              10.4    8.7                  10.0            10.4         \n",
       "4 10.2              10.4    8.3                   9.5            10.1         \n",
       "5 10.6              10.1    9.2                  10.2            10.2         \n",
       "6 10.5              10.3    9.5                  10.7            10.5         \n",
       "  莱万多夫斯卡.萨贡 亚斯娜.舍卡里奇 米拉.内万苏\n",
       "1  8.1              10.2             8.7       \n",
       "2 10.3               9.6             9.3       \n",
       "3  9.2               9.9             9.2       \n",
       "4  9.9               9.9            10.3       \n",
       "5  9.8               9.3             9.8       \n",
       "6 10.4               9.1            10.0       "
      ]
     },
     "metadata": {},
     "output_type": "display_data"
    }
   ],
   "source": [
    "load(\"D:/Rdata/example/ch3/example3_9.RData\")\n",
    "head(example3_9)"
   ]
  },
  {
   "cell_type": "code",
   "execution_count": 141,
   "metadata": {},
   "outputs": [
    {
     "data": {
      "text/html": [
       "<table>\n",
       "<thead><tr><th></th><th scope=col>平均环数</th><th scope=col>标准差</th><th scope=col>变异系数</th></tr></thead>\n",
       "<tbody>\n",
       "\t<tr><th scope=row>纳塔利娅.帕杰林娜</th><td> 9.81 </td><td>0.6154</td><td>0.0627</td></tr>\n",
       "\t<tr><th scope=row>郭文珺</th><td>10.23 </td><td>0.4373</td><td>0.0427</td></tr>\n",
       "\t<tr><th scope=row>卓格巴德拉赫.蒙赫珠勒</th><td> 9.26 </td><td>0.7074</td><td>0.0764</td></tr>\n",
       "\t<tr><th scope=row>妮诺.萨卢克瓦泽</th><td>10.14 </td><td>0.5461</td><td>0.0539</td></tr>\n",
       "\t<tr><th scope=row>维多利亚.柴卡</th><td> 9.80 </td><td>0.6498</td><td>0.0663</td></tr>\n",
       "\t<tr><th scope=row>莱万多夫斯卡.萨贡</th><td> 9.73 </td><td>0.7334</td><td>0.0754</td></tr>\n",
       "\t<tr><th scope=row>亚斯娜.舍卡里奇</th><td> 9.69 </td><td>0.3573</td><td>0.0369</td></tr>\n",
       "\t<tr><th scope=row>米拉.内万苏</th><td> 9.65 </td><td>0.4625</td><td>0.0479</td></tr>\n",
       "</tbody>\n",
       "</table>\n"
      ],
      "text/latex": [
       "\\begin{tabular}{r|lll}\n",
       "  & 平均环数 & 标准差 & 变异系数\\\\\n",
       "\\hline\n",
       "\t纳塔利娅.帕杰林娜 &  9.81  & 0.6154 & 0.0627\\\\\n",
       "\t郭文珺 & 10.23  & 0.4373 & 0.0427\\\\\n",
       "\t卓格巴德拉赫.蒙赫珠勒 &  9.26  & 0.7074 & 0.0764\\\\\n",
       "\t妮诺.萨卢克瓦泽 & 10.14  & 0.5461 & 0.0539\\\\\n",
       "\t维多利亚.柴卡 &  9.80  & 0.6498 & 0.0663\\\\\n",
       "\t莱万多夫斯卡.萨贡 &  9.73  & 0.7334 & 0.0754\\\\\n",
       "\t亚斯娜.舍卡里奇 &  9.69  & 0.3573 & 0.0369\\\\\n",
       "\t米拉.内万苏 &  9.65  & 0.4625 & 0.0479\\\\\n",
       "\\end{tabular}\n"
      ],
      "text/markdown": [
       "\n",
       "| <!--/--> | 平均环数 | 标准差 | 变异系数 |\n",
       "|---|---|---|---|\n",
       "| 纳塔利娅.帕杰林娜 |  9.81  | 0.6154 | 0.0627 |\n",
       "| 郭文珺 | 10.23  | 0.4373 | 0.0427 |\n",
       "| 卓格巴德拉赫.蒙赫珠勒 |  9.26  | 0.7074 | 0.0764 |\n",
       "| 妮诺.萨卢克瓦泽 | 10.14  | 0.5461 | 0.0539 |\n",
       "| 维多利亚.柴卡 |  9.80  | 0.6498 | 0.0663 |\n",
       "| 莱万多夫斯卡.萨贡 |  9.73  | 0.7334 | 0.0754 |\n",
       "| 亚斯娜.舍卡里奇 |  9.69  | 0.3573 | 0.0369 |\n",
       "| 米拉.内万苏 |  9.65  | 0.4625 | 0.0479 |\n",
       "\n"
      ],
      "text/plain": [
       "                      平均环数 标准差 变异系数\n",
       "纳塔利娅.帕杰林娜      9.81    0.6154 0.0627  \n",
       "郭文珺                10.23    0.4373 0.0427  \n",
       "卓格巴德拉赫.蒙赫珠勒  9.26    0.7074 0.0764  \n",
       "妮诺.萨卢克瓦泽       10.14    0.5461 0.0539  \n",
       "维多利亚.柴卡          9.80    0.6498 0.0663  \n",
       "莱万多夫斯卡.萨贡      9.73    0.7334 0.0754  \n",
       "亚斯娜.舍卡里奇        9.69    0.3573 0.0369  \n",
       "米拉.内万苏            9.65    0.4625 0.0479  "
      ]
     },
     "metadata": {},
     "output_type": "display_data"
    }
   ],
   "source": [
    "mean <- apply(example3_9, 2, mean)\n",
    "sd <- apply(example3_9, 2, sd)\n",
    "cv <- sd/mean\n",
    "x <- data.frame(\"平均环数\"=mean, \"标准差\"=sd, \"变异系数\"=cv)\n",
    "round(x,4)"
   ]
  },
  {
   "cell_type": "markdown",
   "metadata": {},
   "source": [
    "### 标准分数"
   ]
  },
  {
   "cell_type": "code",
   "execution_count": 148,
   "metadata": {},
   "outputs": [
    {
     "data": {
      "text/html": [
       "<table>\n",
       "<tbody>\n",
       "\t<tr><td> 0.37837476</td></tr>\n",
       "\t<tr><td>-1.89187378</td></tr>\n",
       "\t<tr><td> 0.83242446</td></tr>\n",
       "\t<tr><td>-1.05944932</td></tr>\n",
       "\t<tr><td>-0.07567495</td></tr>\n",
       "\t<tr><td> 1.28647417</td></tr>\n",
       "</tbody>\n",
       "</table>\n"
      ],
      "text/latex": [
       "\\begin{tabular}{l}\n",
       "\t  0.37837476\\\\\n",
       "\t -1.89187378\\\\\n",
       "\t  0.83242446\\\\\n",
       "\t -1.05944932\\\\\n",
       "\t -0.07567495\\\\\n",
       "\t  1.28647417\\\\\n",
       "\\end{tabular}\n"
      ],
      "text/markdown": [
       "\n",
       "|  0.37837476 |\n",
       "| -1.89187378 |\n",
       "|  0.83242446 |\n",
       "| -1.05944932 |\n",
       "| -0.07567495 |\n",
       "|  1.28647417 |\n",
       "\n"
      ],
      "text/plain": [
       "     [,1]       \n",
       "[1,]  0.37837476\n",
       "[2,] -1.89187378\n",
       "[3,]  0.83242446\n",
       "[4,] -1.05944932\n",
       "[5,] -0.07567495\n",
       "[6,]  1.28647417"
      ]
     },
     "metadata": {},
     "output_type": "display_data"
    }
   ],
   "source": [
    "z <- scale(example3_1$分数)\n",
    "head(z)"
   ]
  },
  {
   "cell_type": "markdown",
   "metadata": {},
   "source": [
    "# 描述分布形状的统计量"
   ]
  },
  {
   "cell_type": "markdown",
   "metadata": {},
   "source": [
    "## 偏度系数"
   ]
  },
  {
   "cell_type": "code",
   "execution_count": 155,
   "metadata": {},
   "outputs": [
    {
     "ename": "ERROR",
     "evalue": "Error in library(agricolae): there is no package called 'agricolae'\n",
     "output_type": "error",
     "traceback": [
      "Error in library(agricolae): there is no package called 'agricolae'\nTraceback:\n",
      "1. library(agricolae)"
     ]
    }
   ],
   "source": [
    "library(agricolae)"
   ]
  },
  {
   "cell_type": "code",
   "execution_count": 154,
   "metadata": {},
   "outputs": [
    {
     "ename": "ERROR",
     "evalue": "Error in example$分数: 类别为'closure'的对象不可以取子集\n",
     "output_type": "error",
     "traceback": [
      "Error in example$分数: 类别为'closure'的对象不可以取子集\nTraceback:\n",
      "1. skewness(example$分数)"
     ]
    }
   ],
   "source": [
    "skewness(example$分数)"
   ]
  },
  {
   "cell_type": "markdown",
   "metadata": {},
   "source": [
    "## 峰度系数"
   ]
  },
  {
   "cell_type": "code",
   "execution_count": null,
   "metadata": {},
   "outputs": [],
   "source": [
    "library(agricolae)"
   ]
  },
  {
   "cell_type": "code",
   "execution_count": null,
   "metadata": {},
   "outputs": [],
   "source": [
    "kurtosis(example$分数)"
   ]
  },
  {
   "cell_type": "markdown",
   "metadata": {},
   "source": [
    "# R当中计算描述统计量的函数"
   ]
  },
  {
   "cell_type": "code",
   "execution_count": 156,
   "metadata": {},
   "outputs": [
    {
     "data": {
      "text/html": [
       "<table>\n",
       "<thead><tr><th scope=col>纳塔利娅.帕杰林娜</th><th scope=col>郭文珺</th><th scope=col>卓格巴德拉赫.蒙赫珠勒</th><th scope=col>妮诺.萨卢克瓦泽</th><th scope=col>维多利亚.柴卡</th><th scope=col>莱万多夫斯卡.萨贡</th><th scope=col>亚斯娜.舍卡里奇</th><th scope=col>米拉.内万苏</th></tr></thead>\n",
       "<tbody>\n",
       "\t<tr><td>10.0</td><td>10.0</td><td> 9.3</td><td> 9.8</td><td> 9.3</td><td> 8.1</td><td>10.2</td><td> 8.7</td></tr>\n",
       "\t<tr><td> 8.5</td><td>10.5</td><td>10.0</td><td>10.3</td><td> 9.4</td><td>10.3</td><td> 9.6</td><td> 9.3</td></tr>\n",
       "\t<tr><td>10.0</td><td>10.4</td><td> 8.7</td><td>10.0</td><td>10.4</td><td> 9.2</td><td> 9.9</td><td> 9.2</td></tr>\n",
       "\t<tr><td>10.2</td><td>10.4</td><td> 8.3</td><td> 9.5</td><td>10.1</td><td> 9.9</td><td> 9.9</td><td>10.3</td></tr>\n",
       "\t<tr><td>10.6</td><td>10.1</td><td> 9.2</td><td>10.2</td><td>10.2</td><td> 9.8</td><td> 9.3</td><td> 9.8</td></tr>\n",
       "\t<tr><td>10.5</td><td>10.3</td><td> 9.5</td><td>10.7</td><td>10.5</td><td>10.4</td><td> 9.1</td><td>10.0</td></tr>\n",
       "</tbody>\n",
       "</table>\n"
      ],
      "text/latex": [
       "\\begin{tabular}{r|llllllll}\n",
       " 纳塔利娅.帕杰林娜 & 郭文珺 & 卓格巴德拉赫.蒙赫珠勒 & 妮诺.萨卢克瓦泽 & 维多利亚.柴卡 & 莱万多夫斯卡.萨贡 & 亚斯娜.舍卡里奇 & 米拉.内万苏\\\\\n",
       "\\hline\n",
       "\t 10.0 & 10.0 &  9.3 &  9.8 &  9.3 &  8.1 & 10.2 &  8.7\\\\\n",
       "\t  8.5 & 10.5 & 10.0 & 10.3 &  9.4 & 10.3 &  9.6 &  9.3\\\\\n",
       "\t 10.0 & 10.4 &  8.7 & 10.0 & 10.4 &  9.2 &  9.9 &  9.2\\\\\n",
       "\t 10.2 & 10.4 &  8.3 &  9.5 & 10.1 &  9.9 &  9.9 & 10.3\\\\\n",
       "\t 10.6 & 10.1 &  9.2 & 10.2 & 10.2 &  9.8 &  9.3 &  9.8\\\\\n",
       "\t 10.5 & 10.3 &  9.5 & 10.7 & 10.5 & 10.4 &  9.1 & 10.0\\\\\n",
       "\\end{tabular}\n"
      ],
      "text/markdown": [
       "\n",
       "| 纳塔利娅.帕杰林娜 | 郭文珺 | 卓格巴德拉赫.蒙赫珠勒 | 妮诺.萨卢克瓦泽 | 维多利亚.柴卡 | 莱万多夫斯卡.萨贡 | 亚斯娜.舍卡里奇 | 米拉.内万苏 |\n",
       "|---|---|---|---|---|---|---|---|\n",
       "| 10.0 | 10.0 |  9.3 |  9.8 |  9.3 |  8.1 | 10.2 |  8.7 |\n",
       "|  8.5 | 10.5 | 10.0 | 10.3 |  9.4 | 10.3 |  9.6 |  9.3 |\n",
       "| 10.0 | 10.4 |  8.7 | 10.0 | 10.4 |  9.2 |  9.9 |  9.2 |\n",
       "| 10.2 | 10.4 |  8.3 |  9.5 | 10.1 |  9.9 |  9.9 | 10.3 |\n",
       "| 10.6 | 10.1 |  9.2 | 10.2 | 10.2 |  9.8 |  9.3 |  9.8 |\n",
       "| 10.5 | 10.3 |  9.5 | 10.7 | 10.5 | 10.4 |  9.1 | 10.0 |\n",
       "\n"
      ],
      "text/plain": [
       "  纳塔利娅.帕杰林娜 郭文珺 卓格巴德拉赫.蒙赫珠勒 妮诺.萨卢克瓦泽 维多利亚.柴卡\n",
       "1 10.0              10.0    9.3                   9.8             9.3         \n",
       "2  8.5              10.5   10.0                  10.3             9.4         \n",
       "3 10.0              10.4    8.7                  10.0            10.4         \n",
       "4 10.2              10.4    8.3                   9.5            10.1         \n",
       "5 10.6              10.1    9.2                  10.2            10.2         \n",
       "6 10.5              10.3    9.5                  10.7            10.5         \n",
       "  莱万多夫斯卡.萨贡 亚斯娜.舍卡里奇 米拉.内万苏\n",
       "1  8.1              10.2             8.7       \n",
       "2 10.3               9.6             9.3       \n",
       "3  9.2               9.9             9.2       \n",
       "4  9.9               9.9            10.3       \n",
       "5  9.8               9.3             9.8       \n",
       "6 10.4               9.1            10.0       "
      ]
     },
     "metadata": {},
     "output_type": "display_data"
    }
   ],
   "source": [
    "# 使用pastecs包中的stat.desc函数计算描述统计量\n",
    "load(\"D:/Rdata/example/ch3/example3_9.RData\")\n",
    "head(example3_9)"
   ]
  },
  {
   "cell_type": "code",
   "execution_count": 159,
   "metadata": {},
   "outputs": [
    {
     "name": "stdout",
     "output_type": "stream",
     "text": [
      "package 'pastecs' successfully unpacked and MD5 sums checked\n",
      "\n",
      "The downloaded binary packages are in\n",
      "\tC:\\Users\\EDZ\\AppData\\Local\\Temp\\RtmpSkCKcs\\downloaded_packages\n"
     ]
    }
   ],
   "source": [
    "install.packages(\"pastecs\")"
   ]
  },
  {
   "cell_type": "code",
   "execution_count": 160,
   "metadata": {},
   "outputs": [
    {
     "name": "stderr",
     "output_type": "stream",
     "text": [
      "Warning message:\n",
      "\"package 'pastecs' was built under R version 3.6.3\""
     ]
    }
   ],
   "source": [
    "library(pastecs)"
   ]
  },
  {
   "cell_type": "code",
   "execution_count": 161,
   "metadata": {},
   "outputs": [
    {
     "data": {
      "text/html": [
       "<table>\n",
       "<thead><tr><th></th><th scope=col>纳塔利娅.帕杰林娜</th><th scope=col>郭文珺</th><th scope=col>卓格巴德拉赫.蒙赫珠勒</th><th scope=col>妮诺.萨卢克瓦泽</th><th scope=col>维多利亚.柴卡</th><th scope=col>莱万多夫斯卡.萨贡</th><th scope=col>亚斯娜.舍卡里奇</th><th scope=col>米拉.内万苏</th></tr></thead>\n",
       "<tbody>\n",
       "\t<tr><th scope=row>nbr.val</th><td>10.0000 </td><td> 10.0000</td><td>10.0000 </td><td> 10.0000</td><td>10.0000 </td><td>10.0000 </td><td>10.0000 </td><td>10.0000 </td></tr>\n",
       "\t<tr><th scope=row>nbr.null</th><td> 0.0000 </td><td>  0.0000</td><td> 0.0000 </td><td>  0.0000</td><td> 0.0000 </td><td> 0.0000 </td><td> 0.0000 </td><td> 0.0000 </td></tr>\n",
       "\t<tr><th scope=row>nbr.na</th><td> 0.0000 </td><td>  0.0000</td><td> 0.0000 </td><td>  0.0000</td><td> 0.0000 </td><td> 0.0000 </td><td> 0.0000 </td><td> 0.0000 </td></tr>\n",
       "\t<tr><th scope=row>min</th><td> 8.5000 </td><td>  9.4000</td><td> 8.3000 </td><td>  9.1000</td><td> 8.6000 </td><td> 8.1000 </td><td> 9.1000 </td><td> 8.7000 </td></tr>\n",
       "\t<tr><th scope=row>max</th><td>10.6000 </td><td> 10.8000</td><td>10.7000 </td><td> 10.8000</td><td>10.5000 </td><td>10.7000 </td><td>10.2000 </td><td>10.3000 </td></tr>\n",
       "\t<tr><th scope=row>range</th><td> 2.1000 </td><td>  1.4000</td><td> 2.4000 </td><td>  1.7000</td><td> 1.9000 </td><td> 2.6000 </td><td> 1.1000 </td><td> 1.6000 </td></tr>\n",
       "\t<tr><th scope=row>sum</th><td>98.1000 </td><td>102.3000</td><td>92.6000 </td><td>101.4000</td><td>98.0000 </td><td>97.3000 </td><td>96.9000 </td><td>96.5000 </td></tr>\n",
       "\t<tr><th scope=row>median</th><td> 9.9000 </td><td> 10.3500</td><td> 9.2000 </td><td> 10.2500</td><td> 9.9500 </td><td> 9.8500 </td><td> 9.8000 </td><td> 9.7500 </td></tr>\n",
       "\t<tr><th scope=row>mean</th><td> 9.8100 </td><td> 10.2300</td><td> 9.2600 </td><td> 10.1400</td><td> 9.8000 </td><td> 9.7300 </td><td> 9.6900 </td><td> 9.6500 </td></tr>\n",
       "\t<tr><th scope=row>SE.mean</th><td> 0.1946 </td><td>  0.1383</td><td> 0.2237 </td><td>  0.1727</td><td> 0.2055 </td><td> 0.2319 </td><td> 0.1130 </td><td> 0.1462 </td></tr>\n",
       "\t<tr><th scope=row>CI.mean.0.95</th><td> 0.4403 </td><td>  0.3128</td><td> 0.5061 </td><td>  0.3907</td><td> 0.4648 </td><td> 0.5246 </td><td> 0.2556 </td><td> 0.3308 </td></tr>\n",
       "\t<tr><th scope=row>var</th><td> 0.3788 </td><td>  0.1912</td><td> 0.5004 </td><td>  0.2982</td><td> 0.4222 </td><td> 0.5379 </td><td> 0.1277 </td><td> 0.2139 </td></tr>\n",
       "\t<tr><th scope=row>std.dev</th><td> 0.6154 </td><td>  0.4373</td><td> 0.7074 </td><td>  0.5461</td><td> 0.6498 </td><td> 0.7334 </td><td> 0.3573 </td><td> 0.4625 </td></tr>\n",
       "\t<tr><th scope=row>coef.var</th><td> 0.0627 </td><td>  0.0427</td><td> 0.0764 </td><td>  0.0539</td><td> 0.0663 </td><td> 0.0754 </td><td> 0.0369 </td><td> 0.0479 </td></tr>\n",
       "</tbody>\n",
       "</table>\n"
      ],
      "text/latex": [
       "\\begin{tabular}{r|llllllll}\n",
       "  & 纳塔利娅.帕杰林娜 & 郭文珺 & 卓格巴德拉赫.蒙赫珠勒 & 妮诺.萨卢克瓦泽 & 维多利亚.柴卡 & 莱万多夫斯卡.萨贡 & 亚斯娜.舍卡里奇 & 米拉.内万苏\\\\\n",
       "\\hline\n",
       "\tnbr.val & 10.0000  &  10.0000 & 10.0000  &  10.0000 & 10.0000  & 10.0000  & 10.0000  & 10.0000 \\\\\n",
       "\tnbr.null &  0.0000  &   0.0000 &  0.0000  &   0.0000 &  0.0000  &  0.0000  &  0.0000  &  0.0000 \\\\\n",
       "\tnbr.na &  0.0000  &   0.0000 &  0.0000  &   0.0000 &  0.0000  &  0.0000  &  0.0000  &  0.0000 \\\\\n",
       "\tmin &  8.5000  &   9.4000 &  8.3000  &   9.1000 &  8.6000  &  8.1000  &  9.1000  &  8.7000 \\\\\n",
       "\tmax & 10.6000  &  10.8000 & 10.7000  &  10.8000 & 10.5000  & 10.7000  & 10.2000  & 10.3000 \\\\\n",
       "\trange &  2.1000  &   1.4000 &  2.4000  &   1.7000 &  1.9000  &  2.6000  &  1.1000  &  1.6000 \\\\\n",
       "\tsum & 98.1000  & 102.3000 & 92.6000  & 101.4000 & 98.0000  & 97.3000  & 96.9000  & 96.5000 \\\\\n",
       "\tmedian &  9.9000  &  10.3500 &  9.2000  &  10.2500 &  9.9500  &  9.8500  &  9.8000  &  9.7500 \\\\\n",
       "\tmean &  9.8100  &  10.2300 &  9.2600  &  10.1400 &  9.8000  &  9.7300  &  9.6900  &  9.6500 \\\\\n",
       "\tSE.mean &  0.1946  &   0.1383 &  0.2237  &   0.1727 &  0.2055  &  0.2319  &  0.1130  &  0.1462 \\\\\n",
       "\tCI.mean.0.95 &  0.4403  &   0.3128 &  0.5061  &   0.3907 &  0.4648  &  0.5246  &  0.2556  &  0.3308 \\\\\n",
       "\tvar &  0.3788  &   0.1912 &  0.5004  &   0.2982 &  0.4222  &  0.5379  &  0.1277  &  0.2139 \\\\\n",
       "\tstd.dev &  0.6154  &   0.4373 &  0.7074  &   0.5461 &  0.6498  &  0.7334  &  0.3573  &  0.4625 \\\\\n",
       "\tcoef.var &  0.0627  &   0.0427 &  0.0764  &   0.0539 &  0.0663  &  0.0754  &  0.0369  &  0.0479 \\\\\n",
       "\\end{tabular}\n"
      ],
      "text/markdown": [
       "\n",
       "| <!--/--> | 纳塔利娅.帕杰林娜 | 郭文珺 | 卓格巴德拉赫.蒙赫珠勒 | 妮诺.萨卢克瓦泽 | 维多利亚.柴卡 | 莱万多夫斯卡.萨贡 | 亚斯娜.舍卡里奇 | 米拉.内万苏 |\n",
       "|---|---|---|---|---|---|---|---|---|\n",
       "| nbr.val | 10.0000  |  10.0000 | 10.0000  |  10.0000 | 10.0000  | 10.0000  | 10.0000  | 10.0000  |\n",
       "| nbr.null |  0.0000  |   0.0000 |  0.0000  |   0.0000 |  0.0000  |  0.0000  |  0.0000  |  0.0000  |\n",
       "| nbr.na |  0.0000  |   0.0000 |  0.0000  |   0.0000 |  0.0000  |  0.0000  |  0.0000  |  0.0000  |\n",
       "| min |  8.5000  |   9.4000 |  8.3000  |   9.1000 |  8.6000  |  8.1000  |  9.1000  |  8.7000  |\n",
       "| max | 10.6000  |  10.8000 | 10.7000  |  10.8000 | 10.5000  | 10.7000  | 10.2000  | 10.3000  |\n",
       "| range |  2.1000  |   1.4000 |  2.4000  |   1.7000 |  1.9000  |  2.6000  |  1.1000  |  1.6000  |\n",
       "| sum | 98.1000  | 102.3000 | 92.6000  | 101.4000 | 98.0000  | 97.3000  | 96.9000  | 96.5000  |\n",
       "| median |  9.9000  |  10.3500 |  9.2000  |  10.2500 |  9.9500  |  9.8500  |  9.8000  |  9.7500  |\n",
       "| mean |  9.8100  |  10.2300 |  9.2600  |  10.1400 |  9.8000  |  9.7300  |  9.6900  |  9.6500  |\n",
       "| SE.mean |  0.1946  |   0.1383 |  0.2237  |   0.1727 |  0.2055  |  0.2319  |  0.1130  |  0.1462  |\n",
       "| CI.mean.0.95 |  0.4403  |   0.3128 |  0.5061  |   0.3907 |  0.4648  |  0.5246  |  0.2556  |  0.3308  |\n",
       "| var |  0.3788  |   0.1912 |  0.5004  |   0.2982 |  0.4222  |  0.5379  |  0.1277  |  0.2139  |\n",
       "| std.dev |  0.6154  |   0.4373 |  0.7074  |   0.5461 |  0.6498  |  0.7334  |  0.3573  |  0.4625  |\n",
       "| coef.var |  0.0627  |   0.0427 |  0.0764  |   0.0539 |  0.0663  |  0.0754  |  0.0369  |  0.0479  |\n",
       "\n"
      ],
      "text/plain": [
       "             纳塔利娅.帕杰林娜 郭文珺   卓格巴德拉赫.蒙赫珠勒 妮诺.萨卢克瓦泽\n",
       "nbr.val      10.0000            10.0000 10.0000                10.0000       \n",
       "nbr.null      0.0000             0.0000  0.0000                 0.0000       \n",
       "nbr.na        0.0000             0.0000  0.0000                 0.0000       \n",
       "min           8.5000             9.4000  8.3000                 9.1000       \n",
       "max          10.6000            10.8000 10.7000                10.8000       \n",
       "range         2.1000             1.4000  2.4000                 1.7000       \n",
       "sum          98.1000           102.3000 92.6000               101.4000       \n",
       "median        9.9000            10.3500  9.2000                10.2500       \n",
       "mean          9.8100            10.2300  9.2600                10.1400       \n",
       "SE.mean       0.1946             0.1383  0.2237                 0.1727       \n",
       "CI.mean.0.95  0.4403             0.3128  0.5061                 0.3907       \n",
       "var           0.3788             0.1912  0.5004                 0.2982       \n",
       "std.dev       0.6154             0.4373  0.7074                 0.5461       \n",
       "coef.var      0.0627             0.0427  0.0764                 0.0539       \n",
       "             维多利亚.柴卡 莱万多夫斯卡.萨贡 亚斯娜.舍卡里奇 米拉.内万苏\n",
       "nbr.val      10.0000       10.0000           10.0000         10.0000    \n",
       "nbr.null      0.0000        0.0000            0.0000          0.0000    \n",
       "nbr.na        0.0000        0.0000            0.0000          0.0000    \n",
       "min           8.6000        8.1000            9.1000          8.7000    \n",
       "max          10.5000       10.7000           10.2000         10.3000    \n",
       "range         1.9000        2.6000            1.1000          1.6000    \n",
       "sum          98.0000       97.3000           96.9000         96.5000    \n",
       "median        9.9500        9.8500            9.8000          9.7500    \n",
       "mean          9.8000        9.7300            9.6900          9.6500    \n",
       "SE.mean       0.2055        0.2319            0.1130          0.1462    \n",
       "CI.mean.0.95  0.4648        0.5246            0.2556          0.3308    \n",
       "var           0.4222        0.5379            0.1277          0.2139    \n",
       "std.dev       0.6498        0.7334            0.3573          0.4625    \n",
       "coef.var      0.0663        0.0754            0.0369          0.0479    "
      ]
     },
     "metadata": {},
     "output_type": "display_data"
    }
   ],
   "source": [
    "round(stat.desc(example3_9),4)"
   ]
  },
  {
   "cell_type": "code",
   "execution_count": 162,
   "metadata": {},
   "outputs": [],
   "source": [
    "# 使用psych 包中的 describe 函数计算描述统计量"
   ]
  },
  {
   "cell_type": "code",
   "execution_count": null,
   "metadata": {},
   "outputs": [],
   "source": [
    "describe(example3_9)"
   ]
  },
  {
   "cell_type": "code",
   "execution_count": null,
   "metadata": {},
   "outputs": [],
   "source": []
  }
 ],
 "metadata": {
  "kernelspec": {
   "display_name": "R",
   "language": "R",
   "name": "ir"
  },
  "language_info": {
   "codemirror_mode": "r",
   "file_extension": ".r",
   "mimetype": "text/x-r-source",
   "name": "R",
   "pygments_lexer": "r",
   "version": "3.6.1"
  },
  "toc": {
   "base_numbering": 1,
   "nav_menu": {},
   "number_sections": true,
   "sideBar": true,
   "skip_h1_title": false,
   "title_cell": "Table of Contents",
   "title_sidebar": "Contents",
   "toc_cell": false,
   "toc_position": {
    "height": "calc(100% - 180px)",
    "left": "10px",
    "top": "150px",
    "width": "281.6px"
   },
   "toc_section_display": true,
   "toc_window_display": true
  }
 },
 "nbformat": 4,
 "nbformat_minor": 4
}
