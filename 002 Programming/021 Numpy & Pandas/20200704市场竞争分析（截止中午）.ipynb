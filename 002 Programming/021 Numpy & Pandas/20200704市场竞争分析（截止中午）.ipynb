{
 "cells": [
  {
   "cell_type": "code",
   "execution_count": 36,
   "metadata": {
    "ExecuteTime": {
     "end_time": "2020-07-04T03:21:22.961635Z",
     "start_time": "2020-07-04T03:21:22.954651Z"
    }
   },
   "outputs": [],
   "source": [
    "# from IPython.core.interactiveshell import InteractiveShell\n",
    "# InteractiveShell.ast_node_interactivity = \"last\"\n",
    "\n",
    "import numpy as np\n",
    "import pandas as pd\n",
    "import matplotlib.pyplot as plt\n",
    "import seaborn as sns\n",
    "sns.set()\n",
    "pd.set_option('float_format', lambda x: '%.2f' % x)\n",
    "\n",
    "#显示中文\n",
    "plt.rcParams['font.sans-serif']='simhei'\n",
    "plt.rcParams['axes.unicode_minus']=False"
   ]
  },
  {
   "cell_type": "markdown",
   "metadata": {},
   "source": [
    "# 宏观市场-竞争分析"
   ]
  },
  {
   "cell_type": "markdown",
   "metadata": {},
   "source": [
    "## 宏观市场潜力分析"
   ]
  },
  {
   "cell_type": "code",
   "execution_count": 37,
   "metadata": {
    "ExecuteTime": {
     "end_time": "2020-07-04T03:21:23.069882Z",
     "start_time": "2020-07-04T03:21:22.964659Z"
    }
   },
   "outputs": [],
   "source": [
    "wxy=pd.read_excel(r\"E:\\课件目录\\拜耳电商案例课件资料\\电商案例数据\\驱虫剂市场\\蚊香液市场近三年交易额.xlsx\")\n",
    "tz=pd.read_excel(r\"E:\\课件目录\\拜耳电商案例课件资料\\电商案例数据\\驱虫剂市场\\电蚊香套装市场近三年交易额.xlsx\")\n",
    "fmfz=pd.read_excel(r\"E:\\课件目录\\拜耳电商案例课件资料\\电商案例数据\\驱虫剂市场\\防霉防蛀片市场近三年交易额.xlsx\")\n",
    "ms=pd.read_excel(r\"E:\\课件目录\\拜耳电商案例课件资料\\电商案例数据\\驱虫剂市场\\灭鼠杀虫剂市场近三年交易额.xlsx\")\n",
    "wx=pd.read_excel(r\"E:\\课件目录\\拜耳电商案例课件资料\\电商案例数据\\驱虫剂市场\\盘香灭蟑香蚊香盘市场近三年交易额.xlsx\")\n",
    "jrq=pd.read_excel(r\"E:\\课件目录\\拜耳电商案例课件资料\\电商案例数据\\驱虫剂市场\\蚊香加热器市场近三年交易额.xlsx\")\n",
    "wxp=pd.read_excel(r\"E:\\课件目录\\拜耳电商案例课件资料\\电商案例数据\\驱虫剂市场\\蚊香片市场近三年交易额.xlsx\")"
   ]
  },
  {
   "cell_type": "code",
   "execution_count": 38,
   "metadata": {
    "ExecuteTime": {
     "end_time": "2020-07-04T03:21:23.127679Z",
     "start_time": "2020-07-04T03:21:23.073626Z"
    }
   },
   "outputs": [
    {
     "data": {
      "text/html": [
       "<div>\n",
       "<style scoped>\n",
       "    .dataframe tbody tr th:only-of-type {\n",
       "        vertical-align: middle;\n",
       "    }\n",
       "\n",
       "    .dataframe tbody tr th {\n",
       "        vertical-align: top;\n",
       "    }\n",
       "\n",
       "    .dataframe thead th {\n",
       "        text-align: right;\n",
       "    }\n",
       "</style>\n",
       "<table border=\"1\" class=\"dataframe\">\n",
       "  <thead>\n",
       "    <tr style=\"text-align: right;\">\n",
       "      <th></th>\n",
       "      <th>时间</th>\n",
       "      <th>蚊香液</th>\n",
       "      <th>电蚊香套装</th>\n",
       "      <th>防霉防蛀片</th>\n",
       "      <th>灭鼠杀虫剂</th>\n",
       "      <th>蚊香</th>\n",
       "      <th>蚊香加热器</th>\n",
       "      <th>蚊香片</th>\n",
       "    </tr>\n",
       "  </thead>\n",
       "  <tbody>\n",
       "    <tr>\n",
       "      <th>0</th>\n",
       "      <td>2018-10-01</td>\n",
       "      <td>7814546.15</td>\n",
       "      <td>106531.29</td>\n",
       "      <td>8541153.59</td>\n",
       "      <td>113654778.06</td>\n",
       "      <td>4171283.35</td>\n",
       "      <td>315639.48</td>\n",
       "      <td>1032414.29</td>\n",
       "    </tr>\n",
       "    <tr>\n",
       "      <th>1</th>\n",
       "      <td>2018-09-01</td>\n",
       "      <td>10654973.47</td>\n",
       "      <td>105666.63</td>\n",
       "      <td>8825870.43</td>\n",
       "      <td>144026060.60</td>\n",
       "      <td>6784500.17</td>\n",
       "      <td>457366.41</td>\n",
       "      <td>1566651.88</td>\n",
       "    </tr>\n",
       "    <tr>\n",
       "      <th>2</th>\n",
       "      <td>2018-08-01</td>\n",
       "      <td>17835577.80</td>\n",
       "      <td>201467.03</td>\n",
       "      <td>6320153.44</td>\n",
       "      <td>154042579.93</td>\n",
       "      <td>10709683.41</td>\n",
       "      <td>746513.13</td>\n",
       "      <td>2617149.00</td>\n",
       "    </tr>\n",
       "    <tr>\n",
       "      <th>3</th>\n",
       "      <td>2018-07-01</td>\n",
       "      <td>38877917.83</td>\n",
       "      <td>438635.29</td>\n",
       "      <td>6302595.06</td>\n",
       "      <td>148003236.35</td>\n",
       "      <td>16589184.89</td>\n",
       "      <td>1871757.00</td>\n",
       "      <td>6209040.06</td>\n",
       "    </tr>\n",
       "    <tr>\n",
       "      <th>4</th>\n",
       "      <td>2018-06-01</td>\n",
       "      <td>76499091.86</td>\n",
       "      <td>953749.78</td>\n",
       "      <td>7047206.98</td>\n",
       "      <td>135943823.74</td>\n",
       "      <td>23526385.73</td>\n",
       "      <td>3641025.92</td>\n",
       "      <td>12484919.63</td>\n",
       "    </tr>\n",
       "  </tbody>\n",
       "</table>\n",
       "</div>"
      ],
      "text/plain": [
       "          时间         蚊香液     电蚊香套装      防霉防蛀片        灭鼠杀虫剂          蚊香  \\\n",
       "0 2018-10-01  7814546.15 106531.29 8541153.59 113654778.06  4171283.35   \n",
       "1 2018-09-01 10654973.47 105666.63 8825870.43 144026060.60  6784500.17   \n",
       "2 2018-08-01 17835577.80 201467.03 6320153.44 154042579.93 10709683.41   \n",
       "3 2018-07-01 38877917.83 438635.29 6302595.06 148003236.35 16589184.89   \n",
       "4 2018-06-01 76499091.86 953749.78 7047206.98 135943823.74 23526385.73   \n",
       "\n",
       "       蚊香加热器         蚊香片  \n",
       "0  315639.48  1032414.29  \n",
       "1  457366.41  1566651.88  \n",
       "2  746513.13  2617149.00  \n",
       "3 1871757.00  6209040.06  \n",
       "4 3641025.92 12484919.63  "
      ]
     },
     "execution_count": 38,
     "metadata": {},
     "output_type": "execute_result"
    }
   ],
   "source": [
    "d=pd.merge(wxy,tz,on=\"时间\",how=\"inner\") \n",
    "\n",
    "for i in [fmfz,ms,wx,jrq,wxp]:        # 用循环语句将多个表依次连接\n",
    "    d=pd.merge(d,i,on=\"时间\",how=\"inner\")\n",
    "\n",
    "d.head()\n",
    "\n",
    "d.columns=[\"时间\",\"蚊香液\",\"电蚊香套装\",\"防霉防蛀片\",\"灭鼠杀虫剂\",\"蚊香\",\"蚊香加热器\",\"蚊香片\"]\n",
    "\n",
    "d.head()"
   ]
  },
  {
   "cell_type": "code",
   "execution_count": 39,
   "metadata": {
    "ExecuteTime": {
     "end_time": "2020-07-04T03:21:23.148636Z",
     "start_time": "2020-07-04T03:21:23.130635Z"
    }
   },
   "outputs": [
    {
     "data": {
      "text/html": [
       "<div>\n",
       "<style scoped>\n",
       "    .dataframe tbody tr th:only-of-type {\n",
       "        vertical-align: middle;\n",
       "    }\n",
       "\n",
       "    .dataframe tbody tr th {\n",
       "        vertical-align: top;\n",
       "    }\n",
       "\n",
       "    .dataframe thead th {\n",
       "        text-align: right;\n",
       "    }\n",
       "</style>\n",
       "<table border=\"1\" class=\"dataframe\">\n",
       "  <thead>\n",
       "    <tr style=\"text-align: right;\">\n",
       "      <th></th>\n",
       "      <th>时间</th>\n",
       "      <th>蚊香液</th>\n",
       "      <th>电蚊香套装</th>\n",
       "      <th>防霉防蛀片</th>\n",
       "      <th>灭鼠杀虫剂</th>\n",
       "      <th>蚊香</th>\n",
       "      <th>蚊香加热器</th>\n",
       "      <th>蚊香片</th>\n",
       "    </tr>\n",
       "  </thead>\n",
       "  <tbody>\n",
       "    <tr>\n",
       "      <th>0</th>\n",
       "      <td>2018-10-01</td>\n",
       "      <td>7814546.15</td>\n",
       "      <td>106531.29</td>\n",
       "      <td>8541153.59</td>\n",
       "      <td>113654778.06</td>\n",
       "      <td>4171283.35</td>\n",
       "      <td>315639.48</td>\n",
       "      <td>1032414.29</td>\n",
       "    </tr>\n",
       "    <tr>\n",
       "      <th>1</th>\n",
       "      <td>2018-09-01</td>\n",
       "      <td>10654973.47</td>\n",
       "      <td>105666.63</td>\n",
       "      <td>8825870.43</td>\n",
       "      <td>144026060.60</td>\n",
       "      <td>6784500.17</td>\n",
       "      <td>457366.41</td>\n",
       "      <td>1566651.88</td>\n",
       "    </tr>\n",
       "    <tr>\n",
       "      <th>2</th>\n",
       "      <td>2018-08-01</td>\n",
       "      <td>17835577.80</td>\n",
       "      <td>201467.03</td>\n",
       "      <td>6320153.44</td>\n",
       "      <td>154042579.93</td>\n",
       "      <td>10709683.41</td>\n",
       "      <td>746513.13</td>\n",
       "      <td>2617149.00</td>\n",
       "    </tr>\n",
       "    <tr>\n",
       "      <th>3</th>\n",
       "      <td>2018-07-01</td>\n",
       "      <td>38877917.83</td>\n",
       "      <td>438635.29</td>\n",
       "      <td>6302595.06</td>\n",
       "      <td>148003236.35</td>\n",
       "      <td>16589184.89</td>\n",
       "      <td>1871757.00</td>\n",
       "      <td>6209040.06</td>\n",
       "    </tr>\n",
       "    <tr>\n",
       "      <th>4</th>\n",
       "      <td>2018-06-01</td>\n",
       "      <td>76499091.86</td>\n",
       "      <td>953749.78</td>\n",
       "      <td>7047206.98</td>\n",
       "      <td>135943823.74</td>\n",
       "      <td>23526385.73</td>\n",
       "      <td>3641025.92</td>\n",
       "      <td>12484919.63</td>\n",
       "    </tr>\n",
       "  </tbody>\n",
       "</table>\n",
       "</div>"
      ],
      "text/plain": [
       "          时间         蚊香液     电蚊香套装      防霉防蛀片        灭鼠杀虫剂          蚊香  \\\n",
       "0 2018-10-01  7814546.15 106531.29 8541153.59 113654778.06  4171283.35   \n",
       "1 2018-09-01 10654973.47 105666.63 8825870.43 144026060.60  6784500.17   \n",
       "2 2018-08-01 17835577.80 201467.03 6320153.44 154042579.93 10709683.41   \n",
       "3 2018-07-01 38877917.83 438635.29 6302595.06 148003236.35 16589184.89   \n",
       "4 2018-06-01 76499091.86 953749.78 7047206.98 135943823.74 23526385.73   \n",
       "\n",
       "       蚊香加热器         蚊香片  \n",
       "0  315639.48  1032414.29  \n",
       "1  457366.41  1566651.88  \n",
       "2  746513.13  2617149.00  \n",
       "3 1871757.00  6209040.06  \n",
       "4 3641025.92 12484919.63  "
      ]
     },
     "execution_count": 39,
     "metadata": {},
     "output_type": "execute_result"
    }
   ],
   "source": [
    "d.head()"
   ]
  },
  {
   "cell_type": "markdown",
   "metadata": {},
   "source": [
    "## 一级市场的容量分析"
   ]
  },
  {
   "cell_type": "markdown",
   "metadata": {
    "ExecuteTime": {
     "end_time": "2020-07-04T02:43:28.867363Z",
     "start_time": "2020-07-04T02:43:28.856374Z"
    }
   },
   "source": [
    "把datetime格式的字段设置为该表的索引，可以方便后续对表进行按时间维度分析："
   ]
  },
  {
   "cell_type": "code",
   "execution_count": 40,
   "metadata": {
    "ExecuteTime": {
     "end_time": "2020-07-04T03:21:23.177636Z",
     "start_time": "2020-07-04T03:21:23.152627Z"
    }
   },
   "outputs": [],
   "source": [
    "d=d.set_index(\"时间\")"
   ]
  },
  {
   "cell_type": "code",
   "execution_count": 41,
   "metadata": {
    "ExecuteTime": {
     "end_time": "2020-07-04T03:21:23.222667Z",
     "start_time": "2020-07-04T03:21:23.180636Z"
    }
   },
   "outputs": [
    {
     "data": {
      "text/html": [
       "<div>\n",
       "<style scoped>\n",
       "    .dataframe tbody tr th:only-of-type {\n",
       "        vertical-align: middle;\n",
       "    }\n",
       "\n",
       "    .dataframe tbody tr th {\n",
       "        vertical-align: top;\n",
       "    }\n",
       "\n",
       "    .dataframe thead th {\n",
       "        text-align: right;\n",
       "    }\n",
       "</style>\n",
       "<table border=\"1\" class=\"dataframe\">\n",
       "  <thead>\n",
       "    <tr style=\"text-align: right;\">\n",
       "      <th></th>\n",
       "      <th>蚊香液</th>\n",
       "      <th>电蚊香套装</th>\n",
       "      <th>防霉防蛀片</th>\n",
       "      <th>灭鼠杀虫剂</th>\n",
       "      <th>蚊香</th>\n",
       "      <th>蚊香加热器</th>\n",
       "      <th>蚊香片</th>\n",
       "    </tr>\n",
       "    <tr>\n",
       "      <th>时间</th>\n",
       "      <th></th>\n",
       "      <th></th>\n",
       "      <th></th>\n",
       "      <th></th>\n",
       "      <th></th>\n",
       "      <th></th>\n",
       "      <th></th>\n",
       "    </tr>\n",
       "  </thead>\n",
       "  <tbody>\n",
       "    <tr>\n",
       "      <th>2018-10-01</th>\n",
       "      <td>7814546.15</td>\n",
       "      <td>106531.29</td>\n",
       "      <td>8541153.59</td>\n",
       "      <td>113654778.06</td>\n",
       "      <td>4171283.35</td>\n",
       "      <td>315639.48</td>\n",
       "      <td>1032414.29</td>\n",
       "    </tr>\n",
       "    <tr>\n",
       "      <th>2018-09-01</th>\n",
       "      <td>10654973.47</td>\n",
       "      <td>105666.63</td>\n",
       "      <td>8825870.43</td>\n",
       "      <td>144026060.60</td>\n",
       "      <td>6784500.17</td>\n",
       "      <td>457366.41</td>\n",
       "      <td>1566651.88</td>\n",
       "    </tr>\n",
       "    <tr>\n",
       "      <th>2018-08-01</th>\n",
       "      <td>17835577.80</td>\n",
       "      <td>201467.03</td>\n",
       "      <td>6320153.44</td>\n",
       "      <td>154042579.93</td>\n",
       "      <td>10709683.41</td>\n",
       "      <td>746513.13</td>\n",
       "      <td>2617149.00</td>\n",
       "    </tr>\n",
       "    <tr>\n",
       "      <th>2018-07-01</th>\n",
       "      <td>38877917.83</td>\n",
       "      <td>438635.29</td>\n",
       "      <td>6302595.06</td>\n",
       "      <td>148003236.35</td>\n",
       "      <td>16589184.89</td>\n",
       "      <td>1871757.00</td>\n",
       "      <td>6209040.06</td>\n",
       "    </tr>\n",
       "    <tr>\n",
       "      <th>2018-06-01</th>\n",
       "      <td>76499091.86</td>\n",
       "      <td>953749.78</td>\n",
       "      <td>7047206.98</td>\n",
       "      <td>135943823.74</td>\n",
       "      <td>23526385.73</td>\n",
       "      <td>3641025.92</td>\n",
       "      <td>12484919.63</td>\n",
       "    </tr>\n",
       "  </tbody>\n",
       "</table>\n",
       "</div>"
      ],
      "text/plain": [
       "                   蚊香液     电蚊香套装      防霉防蛀片        灭鼠杀虫剂          蚊香  \\\n",
       "时间                                                                     \n",
       "2018-10-01  7814546.15 106531.29 8541153.59 113654778.06  4171283.35   \n",
       "2018-09-01 10654973.47 105666.63 8825870.43 144026060.60  6784500.17   \n",
       "2018-08-01 17835577.80 201467.03 6320153.44 154042579.93 10709683.41   \n",
       "2018-07-01 38877917.83 438635.29 6302595.06 148003236.35 16589184.89   \n",
       "2018-06-01 76499091.86 953749.78 7047206.98 135943823.74 23526385.73   \n",
       "\n",
       "                蚊香加热器         蚊香片  \n",
       "时间                                 \n",
       "2018-10-01  315639.48  1032414.29  \n",
       "2018-09-01  457366.41  1566651.88  \n",
       "2018-08-01  746513.13  2617149.00  \n",
       "2018-07-01 1871757.00  6209040.06  \n",
       "2018-06-01 3641025.92 12484919.63  "
      ]
     },
     "execution_count": 41,
     "metadata": {},
     "output_type": "execute_result"
    }
   ],
   "source": [
    "d.head()"
   ]
  },
  {
   "cell_type": "code",
   "execution_count": 42,
   "metadata": {
    "ExecuteTime": {
     "end_time": "2020-07-04T03:21:23.267648Z",
     "start_time": "2020-07-04T03:21:23.225658Z"
    }
   },
   "outputs": [
    {
     "data": {
      "text/html": [
       "<div>\n",
       "<style scoped>\n",
       "    .dataframe tbody tr th:only-of-type {\n",
       "        vertical-align: middle;\n",
       "    }\n",
       "\n",
       "    .dataframe tbody tr th {\n",
       "        vertical-align: top;\n",
       "    }\n",
       "\n",
       "    .dataframe thead th {\n",
       "        text-align: right;\n",
       "    }\n",
       "</style>\n",
       "<table border=\"1\" class=\"dataframe\">\n",
       "  <thead>\n",
       "    <tr style=\"text-align: right;\">\n",
       "      <th></th>\n",
       "      <th>蚊香液</th>\n",
       "      <th>电蚊香套装</th>\n",
       "      <th>防霉防蛀片</th>\n",
       "      <th>灭鼠杀虫剂</th>\n",
       "      <th>蚊香</th>\n",
       "      <th>蚊香加热器</th>\n",
       "      <th>蚊香片</th>\n",
       "      <th>一级市场销售额</th>\n",
       "    </tr>\n",
       "    <tr>\n",
       "      <th>时间</th>\n",
       "      <th></th>\n",
       "      <th></th>\n",
       "      <th></th>\n",
       "      <th></th>\n",
       "      <th></th>\n",
       "      <th></th>\n",
       "      <th></th>\n",
       "      <th></th>\n",
       "    </tr>\n",
       "  </thead>\n",
       "  <tbody>\n",
       "    <tr>\n",
       "      <th>2018-10-01</th>\n",
       "      <td>7814546.15</td>\n",
       "      <td>106531.29</td>\n",
       "      <td>8541153.59</td>\n",
       "      <td>113654778.06</td>\n",
       "      <td>4171283.35</td>\n",
       "      <td>315639.48</td>\n",
       "      <td>1032414.29</td>\n",
       "      <td>135636346.21</td>\n",
       "    </tr>\n",
       "    <tr>\n",
       "      <th>2018-09-01</th>\n",
       "      <td>10654973.47</td>\n",
       "      <td>105666.63</td>\n",
       "      <td>8825870.43</td>\n",
       "      <td>144026060.60</td>\n",
       "      <td>6784500.17</td>\n",
       "      <td>457366.41</td>\n",
       "      <td>1566651.88</td>\n",
       "      <td>172421089.59</td>\n",
       "    </tr>\n",
       "    <tr>\n",
       "      <th>2018-08-01</th>\n",
       "      <td>17835577.80</td>\n",
       "      <td>201467.03</td>\n",
       "      <td>6320153.44</td>\n",
       "      <td>154042579.93</td>\n",
       "      <td>10709683.41</td>\n",
       "      <td>746513.13</td>\n",
       "      <td>2617149.00</td>\n",
       "      <td>192473123.74</td>\n",
       "    </tr>\n",
       "    <tr>\n",
       "      <th>2018-07-01</th>\n",
       "      <td>38877917.83</td>\n",
       "      <td>438635.29</td>\n",
       "      <td>6302595.06</td>\n",
       "      <td>148003236.35</td>\n",
       "      <td>16589184.89</td>\n",
       "      <td>1871757.00</td>\n",
       "      <td>6209040.06</td>\n",
       "      <td>218292366.48</td>\n",
       "    </tr>\n",
       "    <tr>\n",
       "      <th>2018-06-01</th>\n",
       "      <td>76499091.86</td>\n",
       "      <td>953749.78</td>\n",
       "      <td>7047206.98</td>\n",
       "      <td>135943823.74</td>\n",
       "      <td>23526385.73</td>\n",
       "      <td>3641025.92</td>\n",
       "      <td>12484919.63</td>\n",
       "      <td>260096203.64</td>\n",
       "    </tr>\n",
       "  </tbody>\n",
       "</table>\n",
       "</div>"
      ],
      "text/plain": [
       "                   蚊香液     电蚊香套装      防霉防蛀片        灭鼠杀虫剂          蚊香  \\\n",
       "时间                                                                     \n",
       "2018-10-01  7814546.15 106531.29 8541153.59 113654778.06  4171283.35   \n",
       "2018-09-01 10654973.47 105666.63 8825870.43 144026060.60  6784500.17   \n",
       "2018-08-01 17835577.80 201467.03 6320153.44 154042579.93 10709683.41   \n",
       "2018-07-01 38877917.83 438635.29 6302595.06 148003236.35 16589184.89   \n",
       "2018-06-01 76499091.86 953749.78 7047206.98 135943823.74 23526385.73   \n",
       "\n",
       "                蚊香加热器         蚊香片      一级市场销售额  \n",
       "时间                                              \n",
       "2018-10-01  315639.48  1032414.29 135636346.21  \n",
       "2018-09-01  457366.41  1566651.88 172421089.59  \n",
       "2018-08-01  746513.13  2617149.00 192473123.74  \n",
       "2018-07-01 1871757.00  6209040.06 218292366.48  \n",
       "2018-06-01 3641025.92 12484919.63 260096203.64  "
      ]
     },
     "execution_count": 42,
     "metadata": {},
     "output_type": "execute_result"
    }
   ],
   "source": [
    "d[\"一级市场销售额\"]=d.sum(axis=1)\n",
    "d.head()"
   ]
  },
  {
   "cell_type": "code",
   "execution_count": 43,
   "metadata": {
    "ExecuteTime": {
     "end_time": "2020-07-04T03:21:23.759724Z",
     "start_time": "2020-07-04T03:21:23.273636Z"
    }
   },
   "outputs": [
    {
     "data": {
      "text/plain": [
       "<matplotlib.axes._subplots.AxesSubplot at 0x2166c043408>"
      ]
     },
     "execution_count": 43,
     "metadata": {},
     "output_type": "execute_result"
    },
    {
     "data": {
      "image/png": "[encoded data removed]",
      "text/plain": [
       "<Figure size 432x288 with 1 Axes>"
      ]
     },
     "metadata": {},
     "output_type": "display_data"
    }
   ],
   "source": [
    "d.一级市场销售额.plot()"
   ]
  },
  {
   "cell_type": "markdown",
   "metadata": {},
   "source": [
    "- 整个一级市场在近两年来，市场总体容量是增加的\n",
    "- 每年夏天是这一年一级市场交易额的高峰期，有明显的季节性波动\n",
    "- 整个一级市场的容量增速有所放缓"
   ]
  },
  {
   "cell_type": "markdown",
   "metadata": {},
   "source": [
    "通过折线图发现，如果作年度市场容量分析，缺少了2018年11月和12月的数据，可以用线性回归做简单的填补："
   ]
  },
  {
   "cell_type": "markdown",
   "metadata": {
    "ExecuteTime": {
     "end_time": "2020-07-04T02:52:31.847755Z",
     "start_time": "2020-07-04T02:52:31.831741Z"
    }
   },
   "source": [
    "预测2018年11月的销售额：\n",
    "- 抽取2015年到2017年11月的数据\n",
    "- 利用抽取的数据，对每个二级市场单独建立线性回归模型，得到每个二级市场的2018年11月的销售额预测结果"
   ]
  },
  {
   "cell_type": "code",
   "execution_count": 44,
   "metadata": {
    "ExecuteTime": {
     "end_time": "2020-07-04T03:21:23.782722Z",
     "start_time": "2020-07-04T03:21:23.765719Z"
    }
   },
   "outputs": [
    {
     "data": {
      "text/html": [
       "<div>\n",
       "<style scoped>\n",
       "    .dataframe tbody tr th:only-of-type {\n",
       "        vertical-align: middle;\n",
       "    }\n",
       "\n",
       "    .dataframe tbody tr th {\n",
       "        vertical-align: top;\n",
       "    }\n",
       "\n",
       "    .dataframe thead th {\n",
       "        text-align: right;\n",
       "    }\n",
       "</style>\n",
       "<table border=\"1\" class=\"dataframe\">\n",
       "  <thead>\n",
       "    <tr style=\"text-align: right;\">\n",
       "      <th></th>\n",
       "      <th>蚊香液</th>\n",
       "      <th>电蚊香套装</th>\n",
       "      <th>防霉防蛀片</th>\n",
       "      <th>灭鼠杀虫剂</th>\n",
       "      <th>蚊香</th>\n",
       "      <th>蚊香加热器</th>\n",
       "      <th>蚊香片</th>\n",
       "      <th>一级市场销售额</th>\n",
       "    </tr>\n",
       "    <tr>\n",
       "      <th>时间</th>\n",
       "      <th></th>\n",
       "      <th></th>\n",
       "      <th></th>\n",
       "      <th></th>\n",
       "      <th></th>\n",
       "      <th></th>\n",
       "      <th></th>\n",
       "      <th></th>\n",
       "    </tr>\n",
       "  </thead>\n",
       "  <tbody>\n",
       "    <tr>\n",
       "      <th>2018-10-01</th>\n",
       "      <td>7814546.15</td>\n",
       "      <td>106531.29</td>\n",
       "      <td>8541153.59</td>\n",
       "      <td>113654778.06</td>\n",
       "      <td>4171283.35</td>\n",
       "      <td>315639.48</td>\n",
       "      <td>1032414.29</td>\n",
       "      <td>135636346.21</td>\n",
       "    </tr>\n",
       "    <tr>\n",
       "      <th>2018-09-01</th>\n",
       "      <td>10654973.47</td>\n",
       "      <td>105666.63</td>\n",
       "      <td>8825870.43</td>\n",
       "      <td>144026060.60</td>\n",
       "      <td>6784500.17</td>\n",
       "      <td>457366.41</td>\n",
       "      <td>1566651.88</td>\n",
       "      <td>172421089.59</td>\n",
       "    </tr>\n",
       "    <tr>\n",
       "      <th>2018-08-01</th>\n",
       "      <td>17835577.80</td>\n",
       "      <td>201467.03</td>\n",
       "      <td>6320153.44</td>\n",
       "      <td>154042579.93</td>\n",
       "      <td>10709683.41</td>\n",
       "      <td>746513.13</td>\n",
       "      <td>2617149.00</td>\n",
       "      <td>192473123.74</td>\n",
       "    </tr>\n",
       "    <tr>\n",
       "      <th>2018-07-01</th>\n",
       "      <td>38877917.83</td>\n",
       "      <td>438635.29</td>\n",
       "      <td>6302595.06</td>\n",
       "      <td>148003236.35</td>\n",
       "      <td>16589184.89</td>\n",
       "      <td>1871757.00</td>\n",
       "      <td>6209040.06</td>\n",
       "      <td>218292366.48</td>\n",
       "    </tr>\n",
       "    <tr>\n",
       "      <th>2018-06-01</th>\n",
       "      <td>76499091.86</td>\n",
       "      <td>953749.78</td>\n",
       "      <td>7047206.98</td>\n",
       "      <td>135943823.74</td>\n",
       "      <td>23526385.73</td>\n",
       "      <td>3641025.92</td>\n",
       "      <td>12484919.63</td>\n",
       "      <td>260096203.64</td>\n",
       "    </tr>\n",
       "  </tbody>\n",
       "</table>\n",
       "</div>"
      ],
      "text/plain": [
       "                   蚊香液     电蚊香套装      防霉防蛀片        灭鼠杀虫剂          蚊香  \\\n",
       "时间                                                                     \n",
       "2018-10-01  7814546.15 106531.29 8541153.59 113654778.06  4171283.35   \n",
       "2018-09-01 10654973.47 105666.63 8825870.43 144026060.60  6784500.17   \n",
       "2018-08-01 17835577.80 201467.03 6320153.44 154042579.93 10709683.41   \n",
       "2018-07-01 38877917.83 438635.29 6302595.06 148003236.35 16589184.89   \n",
       "2018-06-01 76499091.86 953749.78 7047206.98 135943823.74 23526385.73   \n",
       "\n",
       "                蚊香加热器         蚊香片      一级市场销售额  \n",
       "时间                                              \n",
       "2018-10-01  315639.48  1032414.29 135636346.21  \n",
       "2018-09-01  457366.41  1566651.88 172421089.59  \n",
       "2018-08-01  746513.13  2617149.00 192473123.74  \n",
       "2018-07-01 1871757.00  6209040.06 218292366.48  \n",
       "2018-06-01 3641025.92 12484919.63 260096203.64  "
      ]
     },
     "execution_count": 44,
     "metadata": {},
     "output_type": "execute_result"
    }
   ],
   "source": [
    "d.head()"
   ]
  },
  {
   "cell_type": "code",
   "execution_count": 45,
   "metadata": {
    "ExecuteTime": {
     "end_time": "2020-07-04T03:21:23.825716Z",
     "start_time": "2020-07-04T03:21:23.787741Z"
    }
   },
   "outputs": [
    {
     "data": {
      "text/html": [
       "<div>\n",
       "<style scoped>\n",
       "    .dataframe tbody tr th:only-of-type {\n",
       "        vertical-align: middle;\n",
       "    }\n",
       "\n",
       "    .dataframe tbody tr th {\n",
       "        vertical-align: top;\n",
       "    }\n",
       "\n",
       "    .dataframe thead th {\n",
       "        text-align: right;\n",
       "    }\n",
       "</style>\n",
       "<table border=\"1\" class=\"dataframe\">\n",
       "  <thead>\n",
       "    <tr style=\"text-align: right;\">\n",
       "      <th></th>\n",
       "      <th>蚊香液</th>\n",
       "      <th>电蚊香套装</th>\n",
       "      <th>防霉防蛀片</th>\n",
       "      <th>灭鼠杀虫剂</th>\n",
       "      <th>蚊香</th>\n",
       "      <th>蚊香加热器</th>\n",
       "      <th>蚊香片</th>\n",
       "      <th>一级市场销售额</th>\n",
       "    </tr>\n",
       "    <tr>\n",
       "      <th>时间</th>\n",
       "      <th></th>\n",
       "      <th></th>\n",
       "      <th></th>\n",
       "      <th></th>\n",
       "      <th></th>\n",
       "      <th></th>\n",
       "      <th></th>\n",
       "      <th></th>\n",
       "    </tr>\n",
       "  </thead>\n",
       "  <tbody>\n",
       "    <tr>\n",
       "      <th>2015-11-01</th>\n",
       "      <td>1579795.72</td>\n",
       "      <td>185094.22</td>\n",
       "      <td>3364112.14</td>\n",
       "      <td>33038726.31</td>\n",
       "      <td>1197791.27</td>\n",
       "      <td>86889.91</td>\n",
       "      <td>325744.43</td>\n",
       "      <td>39778154.00</td>\n",
       "    </tr>\n",
       "    <tr>\n",
       "      <th>2016-11-01</th>\n",
       "      <td>2758827.44</td>\n",
       "      <td>106291.23</td>\n",
       "      <td>4975519.21</td>\n",
       "      <td>47806248.76</td>\n",
       "      <td>1473418.20</td>\n",
       "      <td>82835.82</td>\n",
       "      <td>512990.23</td>\n",
       "      <td>57716130.89</td>\n",
       "    </tr>\n",
       "    <tr>\n",
       "      <th>2017-11-01</th>\n",
       "      <td>4257593.87</td>\n",
       "      <td>94993.76</td>\n",
       "      <td>5447184.43</td>\n",
       "      <td>58382172.96</td>\n",
       "      <td>1581530.20</td>\n",
       "      <td>168141.79</td>\n",
       "      <td>617094.94</td>\n",
       "      <td>70548711.95</td>\n",
       "    </tr>\n",
       "  </tbody>\n",
       "</table>\n",
       "</div>"
      ],
      "text/plain": [
       "                  蚊香液     电蚊香套装      防霉防蛀片       灭鼠杀虫剂         蚊香     蚊香加热器  \\\n",
       "时间                                                                            \n",
       "2015-11-01 1579795.72 185094.22 3364112.14 33038726.31 1197791.27  86889.91   \n",
       "2016-11-01 2758827.44 106291.23 4975519.21 47806248.76 1473418.20  82835.82   \n",
       "2017-11-01 4257593.87  94993.76 5447184.43 58382172.96 1581530.20 168141.79   \n",
       "\n",
       "                 蚊香片     一级市场销售额  \n",
       "时间                                \n",
       "2015-11-01 325744.43 39778154.00  \n",
       "2016-11-01 512990.23 57716130.89  \n",
       "2017-11-01 617094.94 70548711.95  "
      ]
     },
     "execution_count": 45,
     "metadata": {},
     "output_type": "execute_result"
    }
   ],
   "source": [
    "d_11=pd.concat([d[\"2015-11\"],d[\"2016-11\"],d[\"2017-11\"]],axis=0)\n",
    "d_11"
   ]
  },
  {
   "cell_type": "markdown",
   "metadata": {},
   "source": [
    "对上表每个二级市场在2018-11月的销售额做预测："
   ]
  },
  {
   "cell_type": "code",
   "execution_count": 46,
   "metadata": {
    "ExecuteTime": {
     "end_time": "2020-07-04T03:21:23.866717Z",
     "start_time": "2020-07-04T03:21:23.828724Z"
    },
    "run_control": {
     "marked": false
    }
   },
   "outputs": [],
   "source": [
    "from sklearn import linear_model    # 想清楚x和y数据集分别是什么\n",
    "\n",
    "y_11=[]      # 该空列表用来存储预测结果\n",
    "\n",
    "x_train=np.array([2015,2016,2017]).reshape(-1,1)      # 记得转数组\n",
    "\n",
    "for i in d.columns:    # 每次抽取一列的字段名\n",
    "    y_train=d_11[i].values   # 记得转数组\n",
    "    lr=linear_model.LinearRegression().fit(x_train,y_train)   # 建立模型，训练模型\n",
    "    y_pre=lr.predict(np.array([[2018]]))   \n",
    "    y_11.append(y_pre[0])  # y_pre是数组，要把预测值从数组中抽取"
   ]
  },
  {
   "cell_type": "code",
   "execution_count": 47,
   "metadata": {
    "ExecuteTime": {
     "end_time": "2020-07-04T03:21:23.899746Z",
     "start_time": "2020-07-04T03:21:23.868723Z"
    }
   },
   "outputs": [
    {
     "data": {
      "text/plain": [
       "[5543203.826666832,\n",
       " 38692.609999999404,\n",
       " 6678677.549999952,\n",
       " 71752495.99333572,\n",
       " 1801318.8199999928,\n",
       " 193874.38666665554,\n",
       " 776627.0433334112,\n",
       " 86784890.22999954]"
      ]
     },
     "execution_count": 47,
     "metadata": {},
     "output_type": "execute_result"
    }
   ],
   "source": [
    "y_11"
   ]
  },
  {
   "cell_type": "markdown",
   "metadata": {
    "ExecuteTime": {
     "end_time": "2020-07-04T03:12:26.988913Z",
     "start_time": "2020-07-04T03:12:26.979894Z"
    }
   },
   "source": [
    "要想把上面的y_11作为2018-11的销售预测结果合并到d_11表中去，就要先生成时间格式的数值，因为d_11索引就是datetime类型。"
   ]
  },
  {
   "cell_type": "code",
   "execution_count": 49,
   "metadata": {
    "ExecuteTime": {
     "end_time": "2020-07-04T03:21:33.883313Z",
     "start_time": "2020-07-04T03:21:33.875323Z"
    }
   },
   "outputs": [
    {
     "data": {
      "text/plain": [
       "蚊香液        5543203.83\n",
       "电蚊香套装        38692.61\n",
       "防霉防蛀片      6678677.55\n",
       "灭鼠杀虫剂     71752495.99\n",
       "蚊香         1801318.82\n",
       "蚊香加热器       193874.39\n",
       "蚊香片         776627.04\n",
       "一级市场销售额   86784890.23\n",
       "Name: 2018-11-01 00:00:00, dtype: float64"
      ]
     },
     "execution_count": 49,
     "metadata": {},
     "output_type": "execute_result"
    }
   ],
   "source": [
    "ss=pd.Series(y_11,\n",
    "          index=d_11.columns,\n",
    "          name=pd.to_datetime(\"2018-11-01\"))\n",
    "\n",
    "ss "
   ]
  },
  {
   "cell_type": "markdown",
   "metadata": {},
   "source": [
    "把上面的Series返回d_11的最后一行："
   ]
  },
  {
   "cell_type": "code",
   "execution_count": 50,
   "metadata": {
    "ExecuteTime": {
     "end_time": "2020-07-04T03:21:42.016541Z",
     "start_time": "2020-07-04T03:21:41.995530Z"
    }
   },
   "outputs": [
    {
     "data": {
      "text/html": [
       "<div>\n",
       "<style scoped>\n",
       "    .dataframe tbody tr th:only-of-type {\n",
       "        vertical-align: middle;\n",
       "    }\n",
       "\n",
       "    .dataframe tbody tr th {\n",
       "        vertical-align: top;\n",
       "    }\n",
       "\n",
       "    .dataframe thead th {\n",
       "        text-align: right;\n",
       "    }\n",
       "</style>\n",
       "<table border=\"1\" class=\"dataframe\">\n",
       "  <thead>\n",
       "    <tr style=\"text-align: right;\">\n",
       "      <th></th>\n",
       "      <th>蚊香液</th>\n",
       "      <th>电蚊香套装</th>\n",
       "      <th>防霉防蛀片</th>\n",
       "      <th>灭鼠杀虫剂</th>\n",
       "      <th>蚊香</th>\n",
       "      <th>蚊香加热器</th>\n",
       "      <th>蚊香片</th>\n",
       "      <th>一级市场销售额</th>\n",
       "    </tr>\n",
       "    <tr>\n",
       "      <th>时间</th>\n",
       "      <th></th>\n",
       "      <th></th>\n",
       "      <th></th>\n",
       "      <th></th>\n",
       "      <th></th>\n",
       "      <th></th>\n",
       "      <th></th>\n",
       "      <th></th>\n",
       "    </tr>\n",
       "  </thead>\n",
       "  <tbody>\n",
       "    <tr>\n",
       "      <th>2015-11-01</th>\n",
       "      <td>1579795.72</td>\n",
       "      <td>185094.22</td>\n",
       "      <td>3364112.14</td>\n",
       "      <td>33038726.31</td>\n",
       "      <td>1197791.27</td>\n",
       "      <td>86889.91</td>\n",
       "      <td>325744.43</td>\n",
       "      <td>39778154.00</td>\n",
       "    </tr>\n",
       "    <tr>\n",
       "      <th>2016-11-01</th>\n",
       "      <td>2758827.44</td>\n",
       "      <td>106291.23</td>\n",
       "      <td>4975519.21</td>\n",
       "      <td>47806248.76</td>\n",
       "      <td>1473418.20</td>\n",
       "      <td>82835.82</td>\n",
       "      <td>512990.23</td>\n",
       "      <td>57716130.89</td>\n",
       "    </tr>\n",
       "    <tr>\n",
       "      <th>2017-11-01</th>\n",
       "      <td>4257593.87</td>\n",
       "      <td>94993.76</td>\n",
       "      <td>5447184.43</td>\n",
       "      <td>58382172.96</td>\n",
       "      <td>1581530.20</td>\n",
       "      <td>168141.79</td>\n",
       "      <td>617094.94</td>\n",
       "      <td>70548711.95</td>\n",
       "    </tr>\n",
       "    <tr>\n",
       "      <th>2018-11-01</th>\n",
       "      <td>5543203.83</td>\n",
       "      <td>38692.61</td>\n",
       "      <td>6678677.55</td>\n",
       "      <td>71752495.99</td>\n",
       "      <td>1801318.82</td>\n",
       "      <td>193874.39</td>\n",
       "      <td>776627.04</td>\n",
       "      <td>86784890.23</td>\n",
       "    </tr>\n",
       "  </tbody>\n",
       "</table>\n",
       "</div>"
      ],
      "text/plain": [
       "                  蚊香液     电蚊香套装      防霉防蛀片       灭鼠杀虫剂         蚊香     蚊香加热器  \\\n",
       "时间                                                                            \n",
       "2015-11-01 1579795.72 185094.22 3364112.14 33038726.31 1197791.27  86889.91   \n",
       "2016-11-01 2758827.44 106291.23 4975519.21 47806248.76 1473418.20  82835.82   \n",
       "2017-11-01 4257593.87  94993.76 5447184.43 58382172.96 1581530.20 168141.79   \n",
       "2018-11-01 5543203.83  38692.61 6678677.55 71752495.99 1801318.82 193874.39   \n",
       "\n",
       "                 蚊香片     一级市场销售额  \n",
       "时间                                \n",
       "2015-11-01 325744.43 39778154.00  \n",
       "2016-11-01 512990.23 57716130.89  \n",
       "2017-11-01 617094.94 70548711.95  \n",
       "2018-11-01 776627.04 86784890.23  "
      ]
     },
     "execution_count": 50,
     "metadata": {},
     "output_type": "execute_result"
    }
   ],
   "source": [
    "d_11=d_11.append(ss)\n",
    "\n",
    "d_11"
   ]
  },
  {
   "cell_type": "markdown",
   "metadata": {},
   "source": [
    "同理，对二级市场12月的数据进行相同方式预测："
   ]
  },
  {
   "cell_type": "code",
   "execution_count": 51,
   "metadata": {
    "ExecuteTime": {
     "end_time": "2020-07-04T03:38:58.753945Z",
     "start_time": "2020-07-04T03:38:58.713977Z"
    }
   },
   "outputs": [
    {
     "data": {
      "text/html": [
       "<div>\n",
       "<style scoped>\n",
       "    .dataframe tbody tr th:only-of-type {\n",
       "        vertical-align: middle;\n",
       "    }\n",
       "\n",
       "    .dataframe tbody tr th {\n",
       "        vertical-align: top;\n",
       "    }\n",
       "\n",
       "    .dataframe thead th {\n",
       "        text-align: right;\n",
       "    }\n",
       "</style>\n",
       "<table border=\"1\" class=\"dataframe\">\n",
       "  <thead>\n",
       "    <tr style=\"text-align: right;\">\n",
       "      <th></th>\n",
       "      <th>蚊香液</th>\n",
       "      <th>电蚊香套装</th>\n",
       "      <th>防霉防蛀片</th>\n",
       "      <th>灭鼠杀虫剂</th>\n",
       "      <th>蚊香</th>\n",
       "      <th>蚊香加热器</th>\n",
       "      <th>蚊香片</th>\n",
       "      <th>一级市场销售额</th>\n",
       "    </tr>\n",
       "    <tr>\n",
       "      <th>时间</th>\n",
       "      <th></th>\n",
       "      <th></th>\n",
       "      <th></th>\n",
       "      <th></th>\n",
       "      <th></th>\n",
       "      <th></th>\n",
       "      <th></th>\n",
       "      <th></th>\n",
       "    </tr>\n",
       "  </thead>\n",
       "  <tbody>\n",
       "    <tr>\n",
       "      <th>2015-12-01</th>\n",
       "      <td>583284.49</td>\n",
       "      <td>110068.83</td>\n",
       "      <td>2333602.08</td>\n",
       "      <td>24727556.28</td>\n",
       "      <td>818479.56</td>\n",
       "      <td>34076.91</td>\n",
       "      <td>134890.48</td>\n",
       "      <td>28741958.63</td>\n",
       "    </tr>\n",
       "    <tr>\n",
       "      <th>2016-12-01</th>\n",
       "      <td>1558633.63</td>\n",
       "      <td>84350.57</td>\n",
       "      <td>3504367.98</td>\n",
       "      <td>35466680.56</td>\n",
       "      <td>1234900.05</td>\n",
       "      <td>52118.96</td>\n",
       "      <td>293737.20</td>\n",
       "      <td>42194788.95</td>\n",
       "    </tr>\n",
       "    <tr>\n",
       "      <th>2017-12-01</th>\n",
       "      <td>2213102.83</td>\n",
       "      <td>71600.17</td>\n",
       "      <td>3259747.23</td>\n",
       "      <td>42922831.01</td>\n",
       "      <td>796930.46</td>\n",
       "      <td>69145.59</td>\n",
       "      <td>314120.38</td>\n",
       "      <td>49647477.67</td>\n",
       "    </tr>\n",
       "    <tr>\n",
       "      <th>2018-12-01</th>\n",
       "      <td>3081491.99</td>\n",
       "      <td>50204.53</td>\n",
       "      <td>3958717.58</td>\n",
       "      <td>52567630.68</td>\n",
       "      <td>928554.26</td>\n",
       "      <td>86849.17</td>\n",
       "      <td>426812.59</td>\n",
       "      <td>61100260.79</td>\n",
       "    </tr>\n",
       "  </tbody>\n",
       "</table>\n",
       "</div>"
      ],
      "text/plain": [
       "                  蚊香液     电蚊香套装      防霉防蛀片       灭鼠杀虫剂         蚊香    蚊香加热器  \\\n",
       "时间                                                                           \n",
       "2015-12-01  583284.49 110068.83 2333602.08 24727556.28  818479.56 34076.91   \n",
       "2016-12-01 1558633.63  84350.57 3504367.98 35466680.56 1234900.05 52118.96   \n",
       "2017-12-01 2213102.83  71600.17 3259747.23 42922831.01  796930.46 69145.59   \n",
       "2018-12-01 3081491.99  50204.53 3958717.58 52567630.68  928554.26 86849.17   \n",
       "\n",
       "                 蚊香片     一级市场销售额  \n",
       "时间                                \n",
       "2015-12-01 134890.48 28741958.63  \n",
       "2016-12-01 293737.20 42194788.95  \n",
       "2017-12-01 314120.38 49647477.67  \n",
       "2018-12-01 426812.59 61100260.79  "
      ]
     },
     "execution_count": 51,
     "metadata": {},
     "output_type": "execute_result"
    }
   ],
   "source": [
    "d_12=pd.concat([d[\"2015-12\"],d[\"2016-12\"],d[\"2017-12\"]],axis=0)\n",
    "d_12\n",
    "\n",
    "# \n",
    "from sklearn import linear_model    # 想清楚x和y数据集分别是什么\n",
    "\n",
    "y_12=[]      # 该空列表用来存储预测结果\n",
    "\n",
    "x_train=np.array([2015,2016,2017]).reshape(-1,1)      # 记得转数组\n",
    "\n",
    "for i in d.columns:    # 每次抽取一列的字段名\n",
    "    y_train=d_12[i].values   # 记得转数组\n",
    "    lr=linear_model.LinearRegression().fit(x_train,y_train)   # 建立模型，训练模型\n",
    "    y_pre=lr.predict(np.array([[2018]]))   \n",
    "    y_12.append(y_pre[0])  # y_pre是数组，要把预测值从数组中抽取\n",
    "\n",
    "\n",
    "#\n",
    "ss=pd.Series(y_12,\n",
    "          index=d_12.columns,\n",
    "          name=pd.to_datetime(\"2018-12-01\"))\n",
    "\n",
    "\n",
    "d_12=d_12.append(ss)\n",
    "\n",
    "d_12"
   ]
  },
  {
   "cell_type": "markdown",
   "metadata": {},
   "source": [
    "把d,d_11,d_12纵向合并到一起，然后去重、排序："
   ]
  },
  {
   "cell_type": "code",
   "execution_count": 58,
   "metadata": {
    "ExecuteTime": {
     "end_time": "2020-07-04T03:42:57.639499Z",
     "start_time": "2020-07-04T03:42:57.620482Z"
    }
   },
   "outputs": [
    {
     "data": {
      "text/html": [
       "<div>\n",
       "<style scoped>\n",
       "    .dataframe tbody tr th:only-of-type {\n",
       "        vertical-align: middle;\n",
       "    }\n",
       "\n",
       "    .dataframe tbody tr th {\n",
       "        vertical-align: top;\n",
       "    }\n",
       "\n",
       "    .dataframe thead th {\n",
       "        text-align: right;\n",
       "    }\n",
       "</style>\n",
       "<table border=\"1\" class=\"dataframe\">\n",
       "  <thead>\n",
       "    <tr style=\"text-align: right;\">\n",
       "      <th></th>\n",
       "      <th>蚊香液</th>\n",
       "      <th>电蚊香套装</th>\n",
       "      <th>防霉防蛀片</th>\n",
       "      <th>灭鼠杀虫剂</th>\n",
       "      <th>蚊香</th>\n",
       "      <th>蚊香加热器</th>\n",
       "      <th>蚊香片</th>\n",
       "      <th>一级市场销售额</th>\n",
       "    </tr>\n",
       "    <tr>\n",
       "      <th>时间</th>\n",
       "      <th></th>\n",
       "      <th></th>\n",
       "      <th></th>\n",
       "      <th></th>\n",
       "      <th></th>\n",
       "      <th></th>\n",
       "      <th></th>\n",
       "      <th></th>\n",
       "    </tr>\n",
       "  </thead>\n",
       "  <tbody>\n",
       "    <tr>\n",
       "      <th>2018-12-01</th>\n",
       "      <td>3081491.99</td>\n",
       "      <td>50204.53</td>\n",
       "      <td>3958717.58</td>\n",
       "      <td>52567630.68</td>\n",
       "      <td>928554.26</td>\n",
       "      <td>86849.17</td>\n",
       "      <td>426812.59</td>\n",
       "      <td>61100260.79</td>\n",
       "    </tr>\n",
       "    <tr>\n",
       "      <th>2018-11-01</th>\n",
       "      <td>5543203.83</td>\n",
       "      <td>38692.61</td>\n",
       "      <td>6678677.55</td>\n",
       "      <td>71752495.99</td>\n",
       "      <td>1801318.82</td>\n",
       "      <td>193874.39</td>\n",
       "      <td>776627.04</td>\n",
       "      <td>86784890.23</td>\n",
       "    </tr>\n",
       "    <tr>\n",
       "      <th>2018-10-01</th>\n",
       "      <td>7814546.15</td>\n",
       "      <td>106531.29</td>\n",
       "      <td>8541153.59</td>\n",
       "      <td>113654778.06</td>\n",
       "      <td>4171283.35</td>\n",
       "      <td>315639.48</td>\n",
       "      <td>1032414.29</td>\n",
       "      <td>135636346.21</td>\n",
       "    </tr>\n",
       "    <tr>\n",
       "      <th>2018-09-01</th>\n",
       "      <td>10654973.47</td>\n",
       "      <td>105666.63</td>\n",
       "      <td>8825870.43</td>\n",
       "      <td>144026060.60</td>\n",
       "      <td>6784500.17</td>\n",
       "      <td>457366.41</td>\n",
       "      <td>1566651.88</td>\n",
       "      <td>172421089.59</td>\n",
       "    </tr>\n",
       "    <tr>\n",
       "      <th>2018-08-01</th>\n",
       "      <td>17835577.80</td>\n",
       "      <td>201467.03</td>\n",
       "      <td>6320153.44</td>\n",
       "      <td>154042579.93</td>\n",
       "      <td>10709683.41</td>\n",
       "      <td>746513.13</td>\n",
       "      <td>2617149.00</td>\n",
       "      <td>192473123.74</td>\n",
       "    </tr>\n",
       "  </tbody>\n",
       "</table>\n",
       "</div>"
      ],
      "text/plain": [
       "                   蚊香液     电蚊香套装      防霉防蛀片        灭鼠杀虫剂          蚊香  \\\n",
       "时间                                                                     \n",
       "2018-12-01  3081491.99  50204.53 3958717.58  52567630.68   928554.26   \n",
       "2018-11-01  5543203.83  38692.61 6678677.55  71752495.99  1801318.82   \n",
       "2018-10-01  7814546.15 106531.29 8541153.59 113654778.06  4171283.35   \n",
       "2018-09-01 10654973.47 105666.63 8825870.43 144026060.60  6784500.17   \n",
       "2018-08-01 17835577.80 201467.03 6320153.44 154042579.93 10709683.41   \n",
       "\n",
       "               蚊香加热器        蚊香片      一级市场销售额  \n",
       "时间                                            \n",
       "2018-12-01  86849.17  426812.59  61100260.79  \n",
       "2018-11-01 193874.39  776627.04  86784890.23  \n",
       "2018-10-01 315639.48 1032414.29 135636346.21  \n",
       "2018-09-01 457366.41 1566651.88 172421089.59  \n",
       "2018-08-01 746513.13 2617149.00 192473123.74  "
      ]
     },
     "execution_count": 58,
     "metadata": {},
     "output_type": "execute_result"
    }
   ],
   "source": [
    "data_all=pd.concat([d,d_11,d_12],axis=0).drop_duplicates().sort_index(ascending=False).iloc[:-2,:]\n",
    "data_all.head()"
   ]
  },
  {
   "cell_type": "markdown",
   "metadata": {},
   "source": [
    "接下来作年度市场容量分析：\n",
    "- 只要DataFrame的索引是datetime数据类型的，该DataFrame就可以调用resample进行重采样\n",
    "- 可以把df.resample()方法看作是专门给时间用的\"df.groupby()\"\n",
    "- df.resample()方法与df.groupby()生成的对象的数据结构是一样"
   ]
  },
  {
   "cell_type": "code",
   "execution_count": 62,
   "metadata": {
    "ExecuteTime": {
     "end_time": "2020-07-04T03:50:36.196819Z",
     "start_time": "2020-07-04T03:50:35.994827Z"
    }
   },
   "outputs": [
    {
     "data": {
      "text/plain": [
       "<matplotlib.axes._subplots.AxesSubplot at 0x2167c783a88>"
      ]
     },
     "execution_count": 62,
     "metadata": {},
     "output_type": "execute_result"
    },
    {
     "data": {
      "image/png": "[encoded data removed]",
      "text/plain": [
       "<Figure size 432x288 with 1 Axes>"
      ]
     },
     "metadata": {},
     "output_type": "display_data"
    }
   ],
   "source": [
    "data_all.resample(\"Y\")[\"一级市场销售额\"].sum().plot()"
   ]
  },
  {
   "cell_type": "code",
   "execution_count": 64,
   "metadata": {
    "ExecuteTime": {
     "end_time": "2020-07-04T03:51:26.129502Z",
     "start_time": "2020-07-04T03:51:25.921522Z"
    }
   },
   "outputs": [
    {
     "data": {
      "text/plain": [
       "<matplotlib.axes._subplots.AxesSubplot at 0x21671237b08>"
      ]
     },
     "execution_count": 64,
     "metadata": {},
     "output_type": "execute_result"
    },
    {
     "data": {
      "image/png": "[encoded data removed]",
      "text/plain": [
       "<Figure size 432x288 with 1 Axes>"
      ]
     },
     "metadata": {},
     "output_type": "display_data"
    }
   ],
   "source": [
    "data_all.resample(\"Y\")[\"一级市场销售额\"].sum().plot(kind=\"bar\")"
   ]
  },
  {
   "cell_type": "markdown",
   "metadata": {},
   "source": [
    "与2016-2017年销售额增速相比，2017-2018年有所下滑。"
   ]
  },
  {
   "cell_type": "code",
   "execution_count": 65,
   "metadata": {
    "ExecuteTime": {
     "end_time": "2020-07-04T03:52:53.874815Z",
     "start_time": "2020-07-04T03:52:53.365693Z"
    }
   },
   "outputs": [
    {
     "data": {
      "text/plain": [
       "<matplotlib.axes._subplots.AxesSubplot at 0x2167690e848>"
      ]
     },
     "execution_count": 65,
     "metadata": {},
     "output_type": "execute_result"
    },
    {
     "data": {
      "image/png": "[encoded data removed]",
      "text/plain": [
       "<Figure size 432x288 with 1 Axes>"
      ]
     },
     "metadata": {},
     "output_type": "display_data"
    }
   ],
   "source": [
    "data_all.resample(\"M\")[\"一级市场销售额\"].sum().plot(kind=\"bar\")"
   ]
  },
  {
   "cell_type": "markdown",
   "metadata": {},
   "source": [
    "## 二级市场容量分析"
   ]
  },
  {
   "cell_type": "code",
   "execution_count": 66,
   "metadata": {
    "ExecuteTime": {
     "end_time": "2020-07-04T03:54:35.325644Z",
     "start_time": "2020-07-04T03:54:35.302636Z"
    }
   },
   "outputs": [
    {
     "data": {
      "text/html": [
       "<div>\n",
       "<style scoped>\n",
       "    .dataframe tbody tr th:only-of-type {\n",
       "        vertical-align: middle;\n",
       "    }\n",
       "\n",
       "    .dataframe tbody tr th {\n",
       "        vertical-align: top;\n",
       "    }\n",
       "\n",
       "    .dataframe thead th {\n",
       "        text-align: right;\n",
       "    }\n",
       "</style>\n",
       "<table border=\"1\" class=\"dataframe\">\n",
       "  <thead>\n",
       "    <tr style=\"text-align: right;\">\n",
       "      <th></th>\n",
       "      <th>蚊香液</th>\n",
       "      <th>电蚊香套装</th>\n",
       "      <th>防霉防蛀片</th>\n",
       "      <th>灭鼠杀虫剂</th>\n",
       "      <th>蚊香</th>\n",
       "      <th>蚊香加热器</th>\n",
       "      <th>蚊香片</th>\n",
       "      <th>一级市场销售额</th>\n",
       "    </tr>\n",
       "    <tr>\n",
       "      <th>时间</th>\n",
       "      <th></th>\n",
       "      <th></th>\n",
       "      <th></th>\n",
       "      <th></th>\n",
       "      <th></th>\n",
       "      <th></th>\n",
       "      <th></th>\n",
       "      <th></th>\n",
       "    </tr>\n",
       "  </thead>\n",
       "  <tbody>\n",
       "    <tr>\n",
       "      <th>2018-12-01</th>\n",
       "      <td>3081491.99</td>\n",
       "      <td>50204.53</td>\n",
       "      <td>3958717.58</td>\n",
       "      <td>52567630.68</td>\n",
       "      <td>928554.26</td>\n",
       "      <td>86849.17</td>\n",
       "      <td>426812.59</td>\n",
       "      <td>61100260.79</td>\n",
       "    </tr>\n",
       "    <tr>\n",
       "      <th>2018-11-01</th>\n",
       "      <td>5543203.83</td>\n",
       "      <td>38692.61</td>\n",
       "      <td>6678677.55</td>\n",
       "      <td>71752495.99</td>\n",
       "      <td>1801318.82</td>\n",
       "      <td>193874.39</td>\n",
       "      <td>776627.04</td>\n",
       "      <td>86784890.23</td>\n",
       "    </tr>\n",
       "    <tr>\n",
       "      <th>2018-10-01</th>\n",
       "      <td>7814546.15</td>\n",
       "      <td>106531.29</td>\n",
       "      <td>8541153.59</td>\n",
       "      <td>113654778.06</td>\n",
       "      <td>4171283.35</td>\n",
       "      <td>315639.48</td>\n",
       "      <td>1032414.29</td>\n",
       "      <td>135636346.21</td>\n",
       "    </tr>\n",
       "    <tr>\n",
       "      <th>2018-09-01</th>\n",
       "      <td>10654973.47</td>\n",
       "      <td>105666.63</td>\n",
       "      <td>8825870.43</td>\n",
       "      <td>144026060.60</td>\n",
       "      <td>6784500.17</td>\n",
       "      <td>457366.41</td>\n",
       "      <td>1566651.88</td>\n",
       "      <td>172421089.59</td>\n",
       "    </tr>\n",
       "    <tr>\n",
       "      <th>2018-08-01</th>\n",
       "      <td>17835577.80</td>\n",
       "      <td>201467.03</td>\n",
       "      <td>6320153.44</td>\n",
       "      <td>154042579.93</td>\n",
       "      <td>10709683.41</td>\n",
       "      <td>746513.13</td>\n",
       "      <td>2617149.00</td>\n",
       "      <td>192473123.74</td>\n",
       "    </tr>\n",
       "  </tbody>\n",
       "</table>\n",
       "</div>"
      ],
      "text/plain": [
       "                   蚊香液     电蚊香套装      防霉防蛀片        灭鼠杀虫剂          蚊香  \\\n",
       "时间                                                                     \n",
       "2018-12-01  3081491.99  50204.53 3958717.58  52567630.68   928554.26   \n",
       "2018-11-01  5543203.83  38692.61 6678677.55  71752495.99  1801318.82   \n",
       "2018-10-01  7814546.15 106531.29 8541153.59 113654778.06  4171283.35   \n",
       "2018-09-01 10654973.47 105666.63 8825870.43 144026060.60  6784500.17   \n",
       "2018-08-01 17835577.80 201467.03 6320153.44 154042579.93 10709683.41   \n",
       "\n",
       "               蚊香加热器        蚊香片      一级市场销售额  \n",
       "时间                                            \n",
       "2018-12-01  86849.17  426812.59  61100260.79  \n",
       "2018-11-01 193874.39  776627.04  86784890.23  \n",
       "2018-10-01 315639.48 1032414.29 135636346.21  \n",
       "2018-09-01 457366.41 1566651.88 172421089.59  \n",
       "2018-08-01 746513.13 2617149.00 192473123.74  "
      ]
     },
     "execution_count": 66,
     "metadata": {},
     "output_type": "execute_result"
    }
   ],
   "source": [
    "data_all.head()"
   ]
  },
  {
   "cell_type": "code",
   "execution_count": 67,
   "metadata": {
    "ExecuteTime": {
     "end_time": "2020-07-04T03:55:23.785619Z",
     "start_time": "2020-07-04T03:55:23.177027Z"
    }
   },
   "outputs": [
    {
     "data": {
      "text/plain": [
       "<matplotlib.axes._subplots.AxesSubplot at 0x21671165e88>"
      ]
     },
     "execution_count": 67,
     "metadata": {},
     "output_type": "execute_result"
    },
    {
     "data": {
      "image/png": "[encoded data removed]",
      "text/plain": [
       "<Figure size 720x432 with 1 Axes>"
      ]
     },
     "metadata": {},
     "output_type": "display_data"
    }
   ],
   "source": [
    "data_all.iloc[:,:-1].plot(figsize=(10,6))"
   ]
  },
  {
   "cell_type": "markdown",
   "metadata": {},
   "source": [
    "- 虽然一级市场销售额在2017-2018年增速放缓\n",
    "- 但是拜耳主营业务产品所处的二级市场（灭鼠杀虫剂）增速放缓不明显，且容量出于扩展状态"
   ]
  },
  {
   "cell_type": "markdown",
   "metadata": {},
   "source": [
    "## 二级市场占比分析"
   ]
  },
  {
   "cell_type": "markdown",
   "metadata": {},
   "source": [
    "## 二级市场增量分析"
   ]
  }
 ],
 "metadata": {
  "kernelspec": {
   "display_name": "Python 3",
   "language": "python",
   "name": "python3"
  },
  "language_info": {
   "codemirror_mode": {
    "name": "ipython",
    "version": 3
   },
   "file_extension": ".py",
   "mimetype": "text/x-python",
   "name": "python",
   "nbconvert_exporter": "python",
   "pygments_lexer": "ipython3",
   "version": "3.7.6"
  },
  "toc": {
   "base_numbering": 1,
   "nav_menu": {},
   "number_sections": true,
   "sideBar": true,
   "skip_h1_title": false,
   "title_cell": "Table of Contents",
   "title_sidebar": "Contents",
   "toc_cell": false,
   "toc_position": {
    "height": "calc(100% - 180px)",
    "left": "10px",
    "top": "150px",
    "width": "178.667px"
   },
   "toc_section_display": true,
   "toc_window_display": true
  },
  "varInspector": {
   "cols": {
    "lenName": 16,
    "lenType": 16,
    "lenVar": 40
   },
   "kernels_config": {
    "python": {
     "delete_cmd_postfix": "",
     "delete_cmd_prefix": "del ",
     "library": "var_list.py",
     "varRefreshCmd": "print(var_dic_list())"
    },
    "r": {
     "delete_cmd_postfix": ") ",
     "delete_cmd_prefix": "rm(",
     "library": "var_list.r",
     "varRefreshCmd": "cat(var_dic_list()) "
    }
   },
   "types_to_exclude": [
    "module",
    "function",
    "builtin_function_or_method",
    "instance",
    "_Feature"
   ],
   "window_display": false
  }
 },
 "nbformat": 4,
 "nbformat_minor": 4
}
