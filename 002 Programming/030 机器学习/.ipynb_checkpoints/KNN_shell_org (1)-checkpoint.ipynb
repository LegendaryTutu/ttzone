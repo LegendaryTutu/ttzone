{
 "cells": [
  {
   "cell_type": "code",
   "execution_count": 1,
   "metadata": {},
   "outputs": [],
   "source": [
    "# 导入一些包\n",
    "import numpy as np\n",
    "import pandas as pd\n",
    "import matplotlib as mpl\n",
    "import matplotlib.pyplot as plt\n",
    "%matplotlib inline\n",
    "from sklearn.datasets import make_blobs"
   ]
  },
  {
   "cell_type": "code",
   "execution_count": 93,
   "metadata": {},
   "outputs": [
    {
     "data": {
      "text/plain": [
       "<matplotlib.collections.PathCollection at 0x1a1a092410>"
      ]
     },
     "execution_count": 93,
     "metadata": {},
     "output_type": "execute_result"
    },
    {
     "data": {
      "image/png": "[encoded data removed]",
      "text/plain": [
       "<Figure size 432x288 with 1 Axes>"
      ]
     },
     "metadata": {
      "needs_background": "light"
     },
     "output_type": "display_data"
    }
   ],
   "source": [
    "# 模拟出一些数据集出来\n",
    "\n",
    "#r = np.random.randint(1,100)\n",
    "r = 4\n",
    "#print(r)\n",
    "k = 3\n",
    "x , y = make_blobs(n_samples = 50,\n",
    "                   cluster_std = [0.3, 0.3, 0.3],\n",
    "                   centers = [[0,0],[1,1],[-1,1]]\n",
    "                   ,random_state = r\n",
    "                  )\n",
    "sim_data = pd.DataFrame(x, columns = ['x1', 'x2'])\n",
    "sim_data['label'] = y\n",
    "sim_data.head(5)\n",
    "\n",
    "datasets = sim_data.copy()\n",
    "\n",
    "# 设置测试点\n",
    "\n",
    "p = [0, 0]\n",
    "\n",
    "plt.scatter(sim_data['x1'], sim_data['x2'], c = y)\n",
    "plt.scatter(p[0], p[1], c = 'red', marker = 'x')"
   ]
  },
  {
   "cell_type": "code",
   "execution_count": 94,
   "metadata": {},
   "outputs": [],
   "source": [
    "# 计算每一个点到测试点距离的平方\n",
    "\n",
    "X = datasets.iloc[:,:-1]\n",
    "y = datasets.iloc[:, -1]\n",
    "\n",
    "d = np.power(X - p, 2).sum(axis = 1)"
   ]
  },
  {
   "cell_type": "code",
   "execution_count": 69,
   "metadata": {},
   "outputs": [],
   "source": [
    "# 把计算出来的距离与标签拼接起来\n",
    "\n",
    "df_dist = pd.DataFrame({'dist' : d, 'label' : y})"
   ]
  },
  {
   "cell_type": "code",
   "execution_count": 80,
   "metadata": {},
   "outputs": [
    {
     "data": {
      "text/plain": [
       "0"
      ]
     },
     "execution_count": 80,
     "metadata": {},
     "output_type": "execute_result"
    }
   ],
   "source": [
    "# 确认前k个点\n",
    "k = 3"
   ]
  },
  {
   "cell_type": "code",
   "execution_count": 6,
   "metadata": {},
   "outputs": [],
   "source": [
    "# 开始投票\n",
    "\n",
    "df_dist.sort_values(by = 'dist').iloc[:k, -1].mode().values[0]"
   ]
  },
  {
   "cell_type": "code",
   "execution_count": 82,
   "metadata": {},
   "outputs": [],
   "source": [
    "# 封装成一个函数\n",
    "def knn_classify(p, datasets, k):\n",
    "    X = datasets.iloc[:,:-1]\n",
    "    y = datasets.iloc[:, -1]\n",
    "    d = np.power(X - p, 2).sum(axis = 1)\n",
    "    df_dist = pd.DataFrame({'dist' : d, 'label' : y})\n",
    "    predict = df_dist.sort_values(by = 'dist').iloc[:k, -1].mode().values[0]\n",
    "    return predict"
   ]
  },
  {
   "cell_type": "code",
   "execution_count": 88,
   "metadata": {},
   "outputs": [
    {
     "data": {
      "text/plain": [
       "2"
      ]
     },
     "execution_count": 88,
     "metadata": {},
     "output_type": "execute_result"
    }
   ],
   "source": [
    "# 测试\n",
    "knn_classify(p = [-1,1], datasets = datasets, k = 5)"
   ]
  },
  {
   "cell_type": "code",
   "execution_count": 90,
   "metadata": {},
   "outputs": [
    {
     "data": {
      "text/html": [
       "<div>\n",
       "<style scoped>\n",
       "    .dataframe tbody tr th:only-of-type {\n",
       "        vertical-align: middle;\n",
       "    }\n",
       "\n",
       "    .dataframe tbody tr th {\n",
       "        vertical-align: top;\n",
       "    }\n",
       "\n",
       "    .dataframe thead th {\n",
       "        text-align: right;\n",
       "    }\n",
       "</style>\n",
       "<table border=\"1\" class=\"dataframe\">\n",
       "  <thead>\n",
       "    <tr style=\"text-align: right;\">\n",
       "      <th></th>\n",
       "      <th>电影名称</th>\n",
       "      <th>打斗镜头</th>\n",
       "      <th>接吻镜头</th>\n",
       "      <th>电影类型</th>\n",
       "    </tr>\n",
       "  </thead>\n",
       "  <tbody>\n",
       "    <tr>\n",
       "      <td>0</td>\n",
       "      <td>无问西东</td>\n",
       "      <td>1</td>\n",
       "      <td>101</td>\n",
       "      <td>爱情片</td>\n",
       "    </tr>\n",
       "    <tr>\n",
       "      <td>1</td>\n",
       "      <td>后来的我们</td>\n",
       "      <td>5</td>\n",
       "      <td>89</td>\n",
       "      <td>爱情片</td>\n",
       "    </tr>\n",
       "    <tr>\n",
       "      <td>2</td>\n",
       "      <td>前任3</td>\n",
       "      <td>12</td>\n",
       "      <td>97</td>\n",
       "      <td>爱情片</td>\n",
       "    </tr>\n",
       "    <tr>\n",
       "      <td>3</td>\n",
       "      <td>红海行动</td>\n",
       "      <td>108</td>\n",
       "      <td>5</td>\n",
       "      <td>动作片</td>\n",
       "    </tr>\n",
       "    <tr>\n",
       "      <td>4</td>\n",
       "      <td>唐人街探案</td>\n",
       "      <td>112</td>\n",
       "      <td>9</td>\n",
       "      <td>动作片</td>\n",
       "    </tr>\n",
       "    <tr>\n",
       "      <td>5</td>\n",
       "      <td>战狼2</td>\n",
       "      <td>115</td>\n",
       "      <td>8</td>\n",
       "      <td>动作片</td>\n",
       "    </tr>\n",
       "  </tbody>\n",
       "</table>\n",
       "</div>"
      ],
      "text/plain": [
       "    电影名称  打斗镜头  接吻镜头 电影类型\n",
       "0   无问西东     1   101  爱情片\n",
       "1  后来的我们     5    89  爱情片\n",
       "2    前任3    12    97  爱情片\n",
       "3   红海行动   108     5  动作片\n",
       "4  唐人街探案   112     9  动作片\n",
       "5    战狼2   115     8  动作片"
      ]
     },
     "execution_count": 90,
     "metadata": {},
     "output_type": "execute_result"
    }
   ],
   "source": [
    "# 尝试其它的数据集\n",
    "\n",
    "rowdata={'电影名称':['无问西东','后来的我们','前任3','红海行动','唐人街探案','战狼2'],\n",
    "         '打斗镜头':[1,5,12,108,112,115],\n",
    "         '接吻镜头':[101,89,97,5,9,8],\n",
    "         '电影类型':['爱情片','爱情片','爱情片','动作片','动作片','动作片']} \n",
    "\n",
    "movie_data=pd.DataFrame(rowdata)\n",
    "movie_data"
   ]
  },
  {
   "cell_type": "code",
   "execution_count": 91,
   "metadata": {},
   "outputs": [
    {
     "data": {
      "text/plain": [
       "'爱情片'"
      ]
     },
     "execution_count": 91,
     "metadata": {},
     "output_type": "execute_result"
    }
   ],
   "source": [
    "datasets = movie_data.iloc[:, 1:]\n",
    "knn_classify([24,67], datasets, 3)"
   ]
  },
  {
   "cell_type": "code",
   "execution_count": 110,
   "metadata": {},
   "outputs": [
    {
     "data": {
      "text/plain": [
       "array([0])"
      ]
     },
     "execution_count": 110,
     "metadata": {},
     "output_type": "execute_result"
    }
   ],
   "source": [
    "# sklearn 实现\n",
    "\n",
    "X , y = make_blobs(n_samples = 50,\n",
    "                   cluster_std = [0.3, 0.3, 0.3],\n",
    "                   centers = [[0,0],[1,1],[-1,1]]\n",
    "                   ,random_state = r\n",
    "                  )\n",
    "\n",
    "p = [[0, 0]]\n",
    "\n",
    "from sklearn.neighbors import KNeighborsClassifier\n",
    "clf = KNeighborsClassifier(n_neighbors = 4)   #实例化\n",
    "clf.fit(X, y)    #训练数据\n",
    "clf.predict(p)   #预测数据"
   ]
  },
  {
   "cell_type": "code",
   "execution_count": 123,
   "metadata": {},
   "outputs": [],
   "source": [
    "# breast_cancer 数据集\n",
    "\n",
    "from sklearn.neighbors import KNeighborsClassifier\n",
    "from sklearn.datasets import load_breast_cancer\n",
    "\n",
    "\n",
    "# 探索数据集\n",
    "data = load_breast_cancer()\n",
    "x = data['data']\n",
    "y = data['target']"
   ]
  },
  {
   "cell_type": "code",
   "execution_count": 154,
   "metadata": {},
   "outputs": [
    {
     "data": {
      "text/plain": [
       "KNeighborsClassifier(n_neighbors=10)"
      ]
     },
     "execution_count": 154,
     "metadata": {},
     "output_type": "execute_result"
    }
   ],
   "source": [
    "name = ['平均半径','平均纹理','平均周长','平均面积',\n",
    "        '平均光滑度','平均紧凑度','平均凹度',\n",
    "        '平均凹点','平均对称','平均分形维数',\n",
    "        '半径误差','纹理误差','周长误差','面积误差',\n",
    "        '平滑度误差','紧凑度误差','凹度误差',\n",
    "        '凹点误差','对称误差',\n",
    "        '分形维数误差','最差半径','最差纹理',\n",
    "        '最差的边界','最差的区域','最差的平滑度',\n",
    "        '最差的紧凑性','最差的凹陷','最差的凹点',\n",
    "        '最差的对称性','最差的分形维数']\n",
    "\n",
    "#pd.DataFrame(x, columns = name)\n",
    "from sklearn.neighbors import KNeighborsClassifier\n",
    "clf = KNeighborsClassifier(n_neighbors = 10)   #实例化\n",
    "clf.fit(x, y)"
   ]
  },
  {
   "cell_type": "code",
   "execution_count": 155,
   "metadata": {},
   "outputs": [
    {
     "data": {
      "text/plain": [
       "0.9420035149384886"
      ]
     },
     "execution_count": 155,
     "metadata": {},
     "output_type": "execute_result"
    }
   ],
   "source": [
    "clf.score(x, y)"
   ]
  },
  {
   "cell_type": "code",
   "execution_count": 146,
   "metadata": {},
   "outputs": [
    {
     "data": {
      "text/plain": [
       "0.9472759226713533"
      ]
     },
     "execution_count": 146,
     "metadata": {},
     "output_type": "execute_result"
    }
   ],
   "source": [
    "total_data = pd.DataFrame(x, columns = name)\n",
    "total_data['Y'] = y\n",
    "total_data['Y_pred'] = clf.predict(x)\n",
    "(total_data['Y'] == total_data['Y_pred']).sum() / x.shape[0]"
   ]
  },
  {
   "cell_type": "code",
   "execution_count": 191,
   "metadata": {},
   "outputs": [
    {
     "data": {
      "text/plain": [
       "(0.964824120603015, 0.8713450292397661)"
      ]
     },
     "execution_count": 191,
     "metadata": {},
     "output_type": "execute_result"
    }
   ],
   "source": [
    "# 划分训练集和测试集\n",
    "from sklearn.model_selection import train_test_split\n",
    "\n",
    "x_train, x_test, y_train, y_test = train_test_split(x, y, test_size = 0.3\n",
    "                                                    #,random_state = 420\n",
    "                                                   )\n",
    "\n",
    "clf = KNeighborsClassifier(n_neighbors = 2)   #实例化\n",
    "clf.fit(x_train, y_train)\n",
    "clf.score(x_train, y_train), clf.score(x_test, y_test)"
   ]
  },
  {
   "cell_type": "code",
   "execution_count": 15,
   "metadata": {},
   "outputs": [],
   "source": [
    "# 建立模型&评估模型\n"
   ]
  },
  {
   "cell_type": "code",
   "execution_count": 202,
   "metadata": {},
   "outputs": [
    {
     "data": {
      "text/plain": [
       "[<matplotlib.lines.Line2D at 0x1a1d289b10>]"
      ]
     },
     "execution_count": 202,
     "metadata": {},
     "output_type": "execute_result"
    },
    {
     "data": {
      "image/png": "[encoded data removed]",
      "text/plain": [
       "<Figure size 432x288 with 1 Axes>"
      ]
     },
     "metadata": {
      "needs_background": "light"
     },
     "output_type": "display_data"
    }
   ],
   "source": [
    "# 选取最优的K值\n",
    "\n",
    "# 更换不同的n_neighbors参数的取值，观察结果的变化\n",
    "\n",
    "x_train, x_test, y_train, y_test = train_test_split(x, y, test_size = 0.3\n",
    "                                                    ,random_state = 422\n",
    "                                                   )\n",
    "\n",
    "# 绘制学习曲线\n",
    "\n",
    "import matplotlib.pyplot as plt\n",
    "\n",
    "score = []\n",
    "krange = range(1,20)\n",
    "\n",
    "for i in krange:\n",
    "    clf = KNeighborsClassifier(n_neighbors = i)\n",
    "    clf.fit(x_train, y_train)\n",
    "    score.append(clf.score(x_test, y_test))\n",
    "\n",
    "plt.plot(krange, score)"
   ]
  },
  {
   "cell_type": "code",
   "execution_count": 203,
   "metadata": {},
   "outputs": [],
   "source": [
    "# 交叉验证"
   ]
  },
  {
   "cell_type": "code",
   "execution_count": 209,
   "metadata": {},
   "outputs": [
    {
     "data": {
      "text/plain": [
       "array([0.87719298, 0.92105263, 0.94736842, 0.93859649, 0.91150442])"
      ]
     },
     "execution_count": 209,
     "metadata": {},
     "output_type": "execute_result"
    }
   ],
   "source": [
    "from sklearn.model_selection import cross_val_score as CVS\n",
    "\n",
    "clf = KNeighborsClassifier(n_neighbors = 3)\n",
    "cvresult = CVS(clf, x, y, cv = 5)\n",
    "cvresult"
   ]
  },
  {
   "cell_type": "code",
   "execution_count": 207,
   "metadata": {},
   "outputs": [
    {
     "data": {
      "text/plain": [
       "0.9191429902189101"
      ]
     },
     "execution_count": 207,
     "metadata": {},
     "output_type": "execute_result"
    }
   ],
   "source": [
    "# 均值：查看模型的平均效果\n",
    "cvresult.mean()"
   ]
  },
  {
   "cell_type": "code",
   "execution_count": 208,
   "metadata": {},
   "outputs": [
    {
     "data": {
      "text/plain": [
       "0.0005993822421332872"
      ]
     },
     "execution_count": 208,
     "metadata": {},
     "output_type": "execute_result"
    }
   ],
   "source": [
    "# 方差：查看模型是否稳定\n",
    "cvresult.var()"
   ]
  },
  {
   "cell_type": "code",
   "execution_count": 211,
   "metadata": {},
   "outputs": [
    {
     "name": "stdout",
     "output_type": "stream",
     "text": [
      "12\n",
      "0.9332401800962584\n"
     ]
    },
    {
     "data": {
      "image/png": "[encoded data removed]",
      "text/plain": [
       "<Figure size 432x288 with 1 Axes>"
      ]
     },
     "metadata": {
      "needs_background": "light"
     },
     "output_type": "display_data"
    }
   ],
   "source": [
    "# 绘制带交叉验证的学习曲线\n",
    "score = []\n",
    "var_ = []\n",
    "krange=range(1,20)\n",
    "\n",
    "for i in krange:\n",
    "    clf = KNeighborsClassifier(n_neighbors=i)\n",
    "    cvresult = CVS(clf,x,y,cv=5)\n",
    "    score.append(cvresult.mean())\n",
    "    var_.append(cvresult.var())\n",
    "    \n",
    "plt.plot(krange,score,color='k')\n",
    "plt.plot(krange,np.array(score)+np.array(var_)*2,c='red',linestyle='--')\n",
    "plt.plot(krange,np.array(score)-np.array(var_)*2,c='red',linestyle='--')\n",
    "\n",
    "pd.Series(score, index = krange).idxmax()\n",
    "print(bestindex)\n",
    "print(score[bestindex])"
   ]
  },
  {
   "cell_type": "code",
   "execution_count": 220,
   "metadata": {},
   "outputs": [
    {
     "data": {
      "text/html": [
       "<div>\n",
       "<style scoped>\n",
       "    .dataframe tbody tr th:only-of-type {\n",
       "        vertical-align: middle;\n",
       "    }\n",
       "\n",
       "    .dataframe tbody tr th {\n",
       "        vertical-align: top;\n",
       "    }\n",
       "\n",
       "    .dataframe thead th {\n",
       "        text-align: right;\n",
       "    }\n",
       "</style>\n",
       "<table border=\"1\" class=\"dataframe\">\n",
       "  <thead>\n",
       "    <tr style=\"text-align: right;\">\n",
       "      <th></th>\n",
       "      <th>0</th>\n",
       "      <th>1</th>\n",
       "    </tr>\n",
       "  </thead>\n",
       "  <tbody>\n",
       "    <tr>\n",
       "      <td>0</td>\n",
       "      <td>-1.0</td>\n",
       "      <td>2</td>\n",
       "    </tr>\n",
       "    <tr>\n",
       "      <td>1</td>\n",
       "      <td>-0.5</td>\n",
       "      <td>6</td>\n",
       "    </tr>\n",
       "    <tr>\n",
       "      <td>2</td>\n",
       "      <td>0.0</td>\n",
       "      <td>10</td>\n",
       "    </tr>\n",
       "    <tr>\n",
       "      <td>3</td>\n",
       "      <td>1.0</td>\n",
       "      <td>18</td>\n",
       "    </tr>\n",
       "  </tbody>\n",
       "</table>\n",
       "</div>"
      ],
      "text/plain": [
       "     0   1\n",
       "0 -1.0   2\n",
       "1 -0.5   6\n",
       "2  0.0  10\n",
       "3  1.0  18"
      ]
     },
     "execution_count": 220,
     "metadata": {},
     "output_type": "execute_result"
    }
   ],
   "source": [
    "# 归一化\n",
    "\n",
    "from sklearn.preprocessing import MinMaxScaler \n",
    "\n",
    "data = [[-1,2],[-0.5,6],[0,10],[1,18]]\n",
    "\n",
    "# 如果换成表是什么样子？\n",
    "d = pd.DataFrame(data)\n",
    "d"
   ]
  },
  {
   "cell_type": "code",
   "execution_count": 227,
   "metadata": {},
   "outputs": [
    {
     "data": {
      "text/plain": [
       "array([[0.  , 0.  ],\n",
       "       [0.25, 0.25],\n",
       "       [0.5 , 0.5 ],\n",
       "       [1.  , 1.  ]])"
      ]
     },
     "execution_count": 227,
     "metadata": {},
     "output_type": "execute_result"
    }
   ],
   "source": [
    "# 实现归一化\n",
    "scaler = MinMaxScaler()\n",
    "scaler.fit(d)\n",
    "scaler.transform(d)"
   ]
  },
  {
   "cell_type": "code",
   "execution_count": 228,
   "metadata": {},
   "outputs": [
    {
     "data": {
      "text/plain": [
       "array([[0.  , 0.  ],\n",
       "       [0.25, 0.25],\n",
       "       [0.5 , 0.5 ],\n",
       "       [1.  , 1.  ]])"
      ]
     },
     "execution_count": 228,
     "metadata": {},
     "output_type": "execute_result"
    }
   ],
   "source": [
    "# 训练和导出结果一步达成\n",
    "scaler.fit_transform(d)"
   ]
  },
  {
   "cell_type": "code",
   "execution_count": 232,
   "metadata": {},
   "outputs": [
    {
     "name": "stdout",
     "output_type": "stream",
     "text": [
      "12\n",
      "0.9648657040832169\n"
     ]
    },
    {
     "data": {
      "image/png": "[encoded data removed]",
      "text/plain": [
       "<Figure size 432x288 with 1 Axes>"
      ]
     },
     "metadata": {
      "needs_background": "light"
     },
     "output_type": "display_data"
    }
   ],
   "source": [
    "from sklearn.preprocessing import MinMaxScaler as mms\n",
    "data = load_breast_cancer()\n",
    "x = data.data\n",
    "y = data.target\n",
    "\n",
    "MMS = mms()\n",
    "MMS.fit(x)\n",
    "x_new = MMS.transform(x)\n",
    "\n",
    "score = []\n",
    "var_ = []\n",
    "krange=range(1,20)\n",
    "\n",
    "for i in krange:\n",
    "    clf = KNeighborsClassifier(n_neighbors=i)\n",
    "    cvresult = CVS(clf,x_new,y,cv=5)\n",
    "    score.append(cvresult.mean())\n",
    "    var_.append(cvresult.var())\n",
    "    \n",
    "plt.plot(krange,score,color='k')\n",
    "plt.plot(krange,np.array(score)+np.array(var_)*2,c='red',linestyle='--')\n",
    "plt.plot(krange,np.array(score)-np.array(var_)*2,c='red',linestyle='--')\n",
    "\n",
    "#pd.Series(score, index = krange).idxmax()\n",
    "print(bestindex)\n",
    "print(score[bestindex])"
   ]
  },
  {
   "cell_type": "code",
   "execution_count": 233,
   "metadata": {},
   "outputs": [],
   "source": [
    "# 最好的k值是等于8"
   ]
  },
  {
   "cell_type": "code",
   "execution_count": 235,
   "metadata": {},
   "outputs": [
    {
     "name": "stdout",
     "output_type": "stream",
     "text": [
      "12\n",
      "0.9648657040832169\n"
     ]
    },
    {
     "data": {
      "image/png": "[encoded data removed]",
      "text/plain": [
       "<Figure size 432x288 with 1 Axes>"
      ]
     },
     "metadata": {
      "needs_background": "light"
     },
     "output_type": "display_data"
    }
   ],
   "source": [
    "score = []\n",
    "var_ = []\n",
    "krange=range(1,20)\n",
    "\n",
    "for i in krange:\n",
    "    clf = KNeighborsClassifier(n_neighbors=i, weights = 'distance')\n",
    "    cvresult = CVS(clf,x_new,y,cv=5)\n",
    "    score.append(cvresult.mean())\n",
    "    var_.append(cvresult.var())\n",
    "    \n",
    "plt.plot(krange,score,color='k')\n",
    "plt.plot(krange,np.array(score)+np.array(var_)*2,c='red',linestyle='--')\n",
    "plt.plot(krange,np.array(score)-np.array(var_)*2,c='red',linestyle='--')\n",
    "\n",
    "#pd.Series(score, index = krange).idxmax()\n",
    "print(bestindex)\n",
    "print(score[bestindex])"
   ]
  },
  {
   "cell_type": "code",
   "execution_count": null,
   "metadata": {},
   "outputs": [],
   "source": []
  }
 ],
 "metadata": {
  "kernelspec": {
   "display_name": "Python 3 (ipykernel)",
   "language": "python",
   "name": "python3"
  },
  "language_info": {
   "codemirror_mode": {
    "name": "ipython",
    "version": 3
   },
   "file_extension": ".py",
   "mimetype": "text/x-python",
   "name": "python",
   "nbconvert_exporter": "python",
   "pygments_lexer": "ipython3",
   "version": "3.8.10"
  },
  "toc": {
   "base_numbering": 1,
   "nav_menu": {},
   "number_sections": true,
   "sideBar": true,
   "skip_h1_title": false,
   "title_cell": "Table of Contents",
   "title_sidebar": "Contents",
   "toc_cell": false,
   "toc_position": {},
   "toc_section_display": true,
   "toc_window_display": false
  }
 },
 "nbformat": 4,
 "nbformat_minor": 4
}
