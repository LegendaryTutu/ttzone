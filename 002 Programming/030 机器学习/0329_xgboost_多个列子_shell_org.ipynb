{
 "cells": [
  {
   "cell_type": "code",
   "execution_count": 1,
   "metadata": {},
   "outputs": [],
   "source": [
    "import numpy as np\n",
    "import pandas as pd\n",
    "import xgboost as xgb"
   ]
  },
  {
   "cell_type": "code",
   "execution_count": 2,
   "metadata": {},
   "outputs": [],
   "source": [
    "# 处理二分类的问题\n",
    "\n",
    "from sklearn.datasets import load_breast_cancer\n",
    "from sklearn.model_selection import train_test_split, cross_val_score\n",
    "from sklearn.metrics import accuracy_score\n",
    "\n",
    "data = load_breast_cancer()\n",
    "X = data['data']\n",
    "Y = data['target']\n",
    "\n",
    "Xtrain, Xtest, Ytrain, Ytest = train_test_split(X, Y, \n",
    "                                                test_size = 0.3\n",
    "                                                ,random_state = 5  # 5最优\n",
    "                      )"
   ]
  },
  {
   "cell_type": "code",
   "execution_count": 108,
   "metadata": {},
   "outputs": [],
   "source": [
    "# 使用xgboost原生的包\n",
    "# 将数据转化成xgboost自己能读懂的数据结构\n",
    "\n",
    "dtrain = xgb.DMatrix(Xtrain, Ytrain, feature_names = data['feature_names'])\n",
    "dtest = xgb.DMatrix(Xtest, Ytest, feature_names = data['feature_names'])\n",
    "\n",
    "# 参数字典设置\n",
    "\n",
    "params = {\n",
    "    'objective' : 'binary:logistic', #目标函数，逻辑回归，predict输出为类概率\n",
    "    'booster' : 'gbtree', #基分类器的种类\n",
    "    'eta' : 0.01, # 学习率\n",
    "    'max_depth' : 6, #基分类器最大深度\n",
    "    'gamma' : 0, # 后剪枝\n",
    "    'min_child_weight' : 1, \n",
    "    'subsample' : 0.8, # 行的有放回采样，70%\n",
    "    'colsample_bytree' : 1, # 列无放回采样， 90%\n",
    "    'lambda' : 0.3,\n",
    "    'eval_metric' : ['error', 'auc'] # 指定我们在训练的过程当中，将训练集和测试集上的auc和error计算出来\n",
    "}\n",
    "\n",
    "\n",
    "# 尝试自己调整这些参数，看下在测试集上的分数\n",
    "\n",
    "# 设置一下watchlist\n",
    "watch_list = [(dtrain, 'train'), (dtest, 'test')]\n",
    "\n",
    "# 从而使得xgboost在拟合训练集的时候，不仅是不断提升训练集上的分数，而且也同时观测测试机上的分数\n",
    "model = xgb.train(params, dtrain, num_boost_round = 1000,\n",
    "                  evals = watch_list, # 查看每一次迭代在训练集上的分数与预测集上的分数\n",
    "                  early_stopping_rounds = 30, # 查看在迭代过程中，对evals中最后一个做测试，如果指标没有提升，则迭代停止\n",
    "                  verbose_eval = False\n",
    "                 )\n",
    "\n",
    "# 默认的使用watch_list里面的最后一个元素做测试的数据集\n",
    "# 默认的使用eval_metric里面最优一个元素做评估指标\n",
    "# 如果评估指标在最后10次迭代当中，没有一个明显的提升，就停止迭代\n",
    "\n",
    "# 开始训练模型， 训练模型的过程中，可以尝试设置很大的基分类器的个数\n",
    "# 并且通过设置'提前停止'的条件从而使得迭代提早停止\n"
   ]
  },
  {
   "cell_type": "code",
   "execution_count": 95,
   "metadata": {},
   "outputs": [
    {
     "name": "stdout",
     "output_type": "stream",
     "text": [
      "1.0 0.9824561403508771\n"
     ]
    },
    {
     "data": {
      "text/html": [
       "<div>\n",
       "<style scoped>\n",
       "    .dataframe tbody tr th:only-of-type {\n",
       "        vertical-align: middle;\n",
       "    }\n",
       "\n",
       "    .dataframe tbody tr th {\n",
       "        vertical-align: top;\n",
       "    }\n",
       "\n",
       "    .dataframe thead th {\n",
       "        text-align: right;\n",
       "    }\n",
       "</style>\n",
       "<table border=\"1\" class=\"dataframe\">\n",
       "  <thead>\n",
       "    <tr style=\"text-align: right;\">\n",
       "      <th></th>\n",
       "      <th>预测为1</th>\n",
       "      <th>预测为0</th>\n",
       "      <th>TPR_FPR</th>\n",
       "    </tr>\n",
       "  </thead>\n",
       "  <tbody>\n",
       "    <tr>\n",
       "      <td>实际为1</td>\n",
       "      <td>110</td>\n",
       "      <td>0</td>\n",
       "      <td>1.00000</td>\n",
       "    </tr>\n",
       "    <tr>\n",
       "      <td>实际为0</td>\n",
       "      <td>3</td>\n",
       "      <td>58</td>\n",
       "      <td>0.04918</td>\n",
       "    </tr>\n",
       "  </tbody>\n",
       "</table>\n",
       "</div>"
      ],
      "text/plain": [
       "      预测为1  预测为0  TPR_FPR\n",
       "实际为1   110     0  1.00000\n",
       "实际为0     3    58  0.04918"
      ]
     },
     "execution_count": 95,
     "metadata": {},
     "output_type": "execute_result"
    }
   ],
   "source": [
    "# 模型给出的是一个概率值\n",
    "def prob_to_label(pred, threshold = 0.5):\n",
    "    return (pred >= threshold).astype(int)\n",
    "\n",
    "threshold = 0.5\n",
    "Ytrain_pred = prob_to_label(model.predict(dtrain), threshold = threshold)\n",
    "Ytest_pred = prob_to_label(model.predict(dtest), threshold = threshold)\n",
    "\n",
    "# 借助sklearn里面算准确率的一个包，来真实标签值，和预测标签值的一个准确率\n",
    "from sklearn.metrics import accuracy_score\n",
    "\n",
    "print(accuracy_score(Ytrain, Ytrain_pred), accuracy_score(Ytest, Ytest_pred))\n",
    "\n",
    "# 做一个混淆矩阵\n",
    "from sklearn.metrics import confusion_matrix as CM\n",
    "CM_df = pd.DataFrame(CM(Ytest, Ytest_pred, labels = (1, 0)), \n",
    "                     index = ['实际为1','实际为0'], \n",
    "                     columns = ['预测为1', '预测为0'])\n",
    "CM_df['TPR_FPR'] = CM_df['预测为1'] / CM_df.sum(axis = 1)\n",
    "CM_df\n",
    "\n",
    "# 尝试自己更改threshold的值\n",
    "# 如果一个模型是好的模型，预测出来的类概率的结果应该是这个样子的\n",
    "# [0.01, 0.01, 0.01, 0.999, 0.998, 0.997]\n",
    "# 所以会发现threshold值变化不会影响TPR和FPR的值，并且TPR的值约等于1， FPR的值约等于0\n",
    "# 为什么结果(TPR,FPR)始终都大约为（0，1），从混淆矩阵看，大多数的样本全部在对角线上\n",
    "\n",
    "# 相反的看，一个比较差的模型，\n",
    "# [0.3, 0.4, 0.6, 0.7, 0.9]\n",
    "# 所以会发现threshold值变化很可能会非常影响TPR和FPR的值\n",
    "# (TPR,FPR)不为（0，1）"
   ]
  },
  {
   "cell_type": "code",
   "execution_count": 109,
   "metadata": {},
   "outputs": [
    {
     "data": {
      "text/plain": [
       "0.9894187779433681"
      ]
     },
     "execution_count": 109,
     "metadata": {},
     "output_type": "execute_result"
    }
   ],
   "source": [
    "# 画出一个模型的auc\n",
    "from sklearn.metrics import roc_curve, auc\n",
    "\n",
    "fpr, tpr, threshold = roc_curve(Ytest, model.predict(dtest))\n",
    "auc(fpr, tpr)"
   ]
  },
  {
   "cell_type": "code",
   "execution_count": 110,
   "metadata": {},
   "outputs": [
    {
     "data": {
      "image/png": "[encoded data removed]",
      "text/plain": [
       "<Figure size 432x288 with 1 Axes>"
      ]
     },
     "metadata": {
      "needs_background": "light"
     },
     "output_type": "display_data"
    },
    {
     "data": {
      "image/png": "[encoded data removed]",
      "text/plain": [
       "<Figure size 432x288 with 1 Axes>"
      ]
     },
     "metadata": {
      "needs_background": "light"
     },
     "output_type": "display_data"
    }
   ],
   "source": [
    "# 尝试定义一rocauc个函数\n",
    "import matplotlib.pyplot as plt\n",
    "\n",
    "def plot_roc(labels, predict_prob):\n",
    "    false_positive_rate,true_positive_rate,thresholds=roc_curve(labels, predict_prob)\n",
    "    roc_auc=auc(false_positive_rate, true_positive_rate)\n",
    "    plt.title('ROC')\n",
    "    plt.plot(false_positive_rate, true_positive_rate,'b',label='AUC = %0.4f'% roc_auc)\n",
    "    plt.legend(loc='lower right')\n",
    "    plt.plot([0,1],[0,1],'r--')\n",
    "    plt.ylabel('TPR')\n",
    "    plt.xlabel('FPR')\n",
    "    plt.show()\n",
    "\n",
    "plot_roc(Ytest, model.predict(dtest))\n",
    "plot_roc(Ytrain, model.predict(dtrain))"
   ]
  },
  {
   "cell_type": "code",
   "execution_count": 115,
   "metadata": {},
   "outputs": [
    {
     "name": "stdout",
     "output_type": "stream",
     "text": [
      "Multiple eval metrics have been passed: 'test-auc' will be used for early stopping.\n",
      "\n",
      "Will train until test-auc hasn't improved in 30 rounds.\n",
      "[0]\ttrain-error:0.03455\ttrain-auc:0.99414\ttest-error:0.08035\ttest-auc:0.95772\n",
      "[1]\ttrain-error:0.01759\ttrain-auc:0.99811\ttest-error:0.07038\ttest-auc:0.96620\n",
      "[2]\ttrain-error:0.02073\ttrain-auc:0.99847\ttest-error:0.06288\ttest-auc:0.97683\n",
      "[3]\ttrain-error:0.01821\ttrain-auc:0.99871\ttest-error:0.05528\ttest-auc:0.97936\n",
      "[4]\ttrain-error:0.02010\ttrain-auc:0.99908\ttest-error:0.06032\ttest-auc:0.98187\n",
      "[5]\ttrain-error:0.01947\ttrain-auc:0.99917\ttest-error:0.06032\ttest-auc:0.98256\n",
      "[6]\ttrain-error:0.01633\ttrain-auc:0.99926\ttest-error:0.06535\ttest-auc:0.98270\n",
      "[7]\ttrain-error:0.01570\ttrain-auc:0.99930\ttest-error:0.06282\ttest-auc:0.98238\n",
      "[8]\ttrain-error:0.01822\ttrain-auc:0.99921\ttest-error:0.06282\ttest-auc:0.98272\n",
      "[9]\ttrain-error:0.01696\ttrain-auc:0.99923\ttest-error:0.06278\ttest-auc:0.98217\n",
      "[10]\ttrain-error:0.01758\ttrain-auc:0.99925\ttest-error:0.05775\ttest-auc:0.98251\n",
      "[11]\ttrain-error:0.01445\ttrain-auc:0.99924\ttest-error:0.05772\ttest-auc:0.98249\n",
      "[12]\ttrain-error:0.01444\ttrain-auc:0.99932\ttest-error:0.05775\ttest-auc:0.98668\n",
      "[13]\ttrain-error:0.01319\ttrain-auc:0.99935\ttest-error:0.06025\ttest-auc:0.98681\n",
      "[14]\ttrain-error:0.01319\ttrain-auc:0.99934\ttest-error:0.05525\ttest-auc:0.98661\n",
      "[15]\ttrain-error:0.01256\ttrain-auc:0.99939\ttest-error:0.05522\ttest-auc:0.98687\n",
      "[16]\ttrain-error:0.01193\ttrain-auc:0.99938\ttest-error:0.05775\ttest-auc:0.98617\n",
      "[17]\ttrain-error:0.01256\ttrain-auc:0.99936\ttest-error:0.06025\ttest-auc:0.98589\n",
      "[18]\ttrain-error:0.01382\ttrain-auc:0.99935\ttest-error:0.06025\ttest-auc:0.98623\n",
      "[19]\ttrain-error:0.01319\ttrain-auc:0.99936\ttest-error:0.06025\ttest-auc:0.98596\n",
      "[20]\ttrain-error:0.01381\ttrain-auc:0.99932\ttest-error:0.06278\ttest-auc:0.98621\n",
      "[21]\ttrain-error:0.01193\ttrain-auc:0.99940\ttest-error:0.06275\ttest-auc:0.98593\n",
      "[22]\ttrain-error:0.01130\ttrain-auc:0.99936\ttest-error:0.06275\ttest-auc:0.98619\n",
      "[23]\ttrain-error:0.01193\ttrain-auc:0.99940\ttest-error:0.06275\ttest-auc:0.98606\n",
      "[24]\ttrain-error:0.01193\ttrain-auc:0.99940\ttest-error:0.06025\ttest-auc:0.98579\n",
      "[25]\ttrain-error:0.01131\ttrain-auc:0.99941\ttest-error:0.06275\ttest-auc:0.98575\n",
      "[26]\ttrain-error:0.01131\ttrain-auc:0.99942\ttest-error:0.06275\ttest-auc:0.98521\n",
      "[27]\ttrain-error:0.01193\ttrain-auc:0.99946\ttest-error:0.06275\ttest-auc:0.98561\n",
      "[28]\ttrain-error:0.01193\ttrain-auc:0.99945\ttest-error:0.06528\ttest-auc:0.98506\n",
      "[29]\ttrain-error:0.01193\ttrain-auc:0.99945\ttest-error:0.06528\ttest-auc:0.98507\n",
      "[30]\ttrain-error:0.01068\ttrain-auc:0.99948\ttest-error:0.06528\ttest-auc:0.98531\n",
      "[31]\ttrain-error:0.01068\ttrain-auc:0.99950\ttest-error:0.06528\ttest-auc:0.98466\n",
      "[32]\ttrain-error:0.01068\ttrain-auc:0.99950\ttest-error:0.06528\ttest-auc:0.98467\n",
      "[33]\ttrain-error:0.01130\ttrain-auc:0.99950\ttest-error:0.06528\ttest-auc:0.98506\n",
      "[34]\ttrain-error:0.00942\ttrain-auc:0.99951\ttest-error:0.06275\ttest-auc:0.98520\n",
      "[35]\ttrain-error:0.01005\ttrain-auc:0.99951\ttest-error:0.06528\ttest-auc:0.98506\n",
      "[36]\ttrain-error:0.00879\ttrain-auc:0.99951\ttest-error:0.06528\ttest-auc:0.98464\n",
      "[37]\ttrain-error:0.00942\ttrain-auc:0.99950\ttest-error:0.06275\ttest-auc:0.98464\n",
      "[38]\ttrain-error:0.01005\ttrain-auc:0.99951\ttest-error:0.06278\ttest-auc:0.98492\n",
      "[39]\ttrain-error:0.00879\ttrain-auc:0.99950\ttest-error:0.06528\ttest-auc:0.98491\n",
      "[40]\ttrain-error:0.00942\ttrain-auc:0.99952\ttest-error:0.06528\ttest-auc:0.98505\n",
      "[41]\ttrain-error:0.00942\ttrain-auc:0.99952\ttest-error:0.06528\ttest-auc:0.98545\n",
      "[42]\ttrain-error:0.01005\ttrain-auc:0.99955\ttest-error:0.06278\ttest-auc:0.98544\n",
      "[43]\ttrain-error:0.00942\ttrain-auc:0.99956\ttest-error:0.06278\ttest-auc:0.98544\n",
      "[44]\ttrain-error:0.00942\ttrain-auc:0.99956\ttest-error:0.06278\ttest-auc:0.98515\n",
      "Stopping. Best iteration:\n",
      "[15]\ttrain-error:0.01256+0.00627\ttrain-auc:0.99939+0.00027\ttest-error:0.05522+0.02571\ttest-auc:0.98687+0.00807\n",
      "\n"
     ]
    },
    {
     "data": {
      "text/html": [
       "<div>\n",
       "<style scoped>\n",
       "    .dataframe tbody tr th:only-of-type {\n",
       "        vertical-align: middle;\n",
       "    }\n",
       "\n",
       "    .dataframe tbody tr th {\n",
       "        vertical-align: top;\n",
       "    }\n",
       "\n",
       "    .dataframe thead th {\n",
       "        text-align: right;\n",
       "    }\n",
       "</style>\n",
       "<table border=\"1\" class=\"dataframe\">\n",
       "  <thead>\n",
       "    <tr style=\"text-align: right;\">\n",
       "      <th></th>\n",
       "      <th>train-error-mean</th>\n",
       "      <th>train-error-std</th>\n",
       "      <th>train-auc-mean</th>\n",
       "      <th>train-auc-std</th>\n",
       "      <th>test-error-mean</th>\n",
       "      <th>test-error-std</th>\n",
       "      <th>test-auc-mean</th>\n",
       "      <th>test-auc-std</th>\n",
       "    </tr>\n",
       "  </thead>\n",
       "  <tbody>\n",
       "    <tr>\n",
       "      <td>0</td>\n",
       "      <td>0.034554</td>\n",
       "      <td>0.006623</td>\n",
       "      <td>0.994144</td>\n",
       "      <td>0.002720</td>\n",
       "      <td>0.080348</td>\n",
       "      <td>0.027990</td>\n",
       "      <td>0.957722</td>\n",
       "      <td>0.016302</td>\n",
       "    </tr>\n",
       "    <tr>\n",
       "      <td>1</td>\n",
       "      <td>0.017592</td>\n",
       "      <td>0.007068</td>\n",
       "      <td>0.998108</td>\n",
       "      <td>0.001019</td>\n",
       "      <td>0.070380</td>\n",
       "      <td>0.017074</td>\n",
       "      <td>0.966204</td>\n",
       "      <td>0.011239</td>\n",
       "    </tr>\n",
       "    <tr>\n",
       "      <td>2</td>\n",
       "      <td>0.020729</td>\n",
       "      <td>0.009453</td>\n",
       "      <td>0.998474</td>\n",
       "      <td>0.001019</td>\n",
       "      <td>0.062880</td>\n",
       "      <td>0.022577</td>\n",
       "      <td>0.976834</td>\n",
       "      <td>0.011919</td>\n",
       "    </tr>\n",
       "    <tr>\n",
       "      <td>3</td>\n",
       "      <td>0.018209</td>\n",
       "      <td>0.008739</td>\n",
       "      <td>0.998707</td>\n",
       "      <td>0.000764</td>\n",
       "      <td>0.055285</td>\n",
       "      <td>0.016992</td>\n",
       "      <td>0.979359</td>\n",
       "      <td>0.012419</td>\n",
       "    </tr>\n",
       "    <tr>\n",
       "      <td>4</td>\n",
       "      <td>0.020096</td>\n",
       "      <td>0.004241</td>\n",
       "      <td>0.999083</td>\n",
       "      <td>0.000394</td>\n",
       "      <td>0.060316</td>\n",
       "      <td>0.021583</td>\n",
       "      <td>0.981868</td>\n",
       "      <td>0.009897</td>\n",
       "    </tr>\n",
       "    <tr>\n",
       "      <td>5</td>\n",
       "      <td>0.019471</td>\n",
       "      <td>0.003653</td>\n",
       "      <td>0.999171</td>\n",
       "      <td>0.000361</td>\n",
       "      <td>0.060316</td>\n",
       "      <td>0.021583</td>\n",
       "      <td>0.982555</td>\n",
       "      <td>0.009737</td>\n",
       "    </tr>\n",
       "    <tr>\n",
       "      <td>6</td>\n",
       "      <td>0.016327</td>\n",
       "      <td>0.006080</td>\n",
       "      <td>0.999259</td>\n",
       "      <td>0.000283</td>\n",
       "      <td>0.065348</td>\n",
       "      <td>0.014686</td>\n",
       "      <td>0.982699</td>\n",
       "      <td>0.009918</td>\n",
       "    </tr>\n",
       "    <tr>\n",
       "      <td>7</td>\n",
       "      <td>0.015698</td>\n",
       "      <td>0.005604</td>\n",
       "      <td>0.999301</td>\n",
       "      <td>0.000283</td>\n",
       "      <td>0.062817</td>\n",
       "      <td>0.028619</td>\n",
       "      <td>0.982382</td>\n",
       "      <td>0.009898</td>\n",
       "    </tr>\n",
       "    <tr>\n",
       "      <td>8</td>\n",
       "      <td>0.018215</td>\n",
       "      <td>0.004156</td>\n",
       "      <td>0.999209</td>\n",
       "      <td>0.000239</td>\n",
       "      <td>0.062817</td>\n",
       "      <td>0.028619</td>\n",
       "      <td>0.982715</td>\n",
       "      <td>0.009888</td>\n",
       "    </tr>\n",
       "    <tr>\n",
       "      <td>9</td>\n",
       "      <td>0.016961</td>\n",
       "      <td>0.004260</td>\n",
       "      <td>0.999225</td>\n",
       "      <td>0.000142</td>\n",
       "      <td>0.062785</td>\n",
       "      <td>0.034555</td>\n",
       "      <td>0.982172</td>\n",
       "      <td>0.009733</td>\n",
       "    </tr>\n",
       "    <tr>\n",
       "      <td>10</td>\n",
       "      <td>0.017584</td>\n",
       "      <td>0.004242</td>\n",
       "      <td>0.999250</td>\n",
       "      <td>0.000372</td>\n",
       "      <td>0.057753</td>\n",
       "      <td>0.033206</td>\n",
       "      <td>0.982505</td>\n",
       "      <td>0.008918</td>\n",
       "    </tr>\n",
       "    <tr>\n",
       "      <td>11</td>\n",
       "      <td>0.014446</td>\n",
       "      <td>0.005476</td>\n",
       "      <td>0.999242</td>\n",
       "      <td>0.000389</td>\n",
       "      <td>0.057721</td>\n",
       "      <td>0.035937</td>\n",
       "      <td>0.982485</td>\n",
       "      <td>0.008777</td>\n",
       "    </tr>\n",
       "    <tr>\n",
       "      <td>12</td>\n",
       "      <td>0.014444</td>\n",
       "      <td>0.007047</td>\n",
       "      <td>0.999321</td>\n",
       "      <td>0.000260</td>\n",
       "      <td>0.057753</td>\n",
       "      <td>0.029201</td>\n",
       "      <td>0.986679</td>\n",
       "      <td>0.007811</td>\n",
       "    </tr>\n",
       "    <tr>\n",
       "      <td>13</td>\n",
       "      <td>0.013188</td>\n",
       "      <td>0.006700</td>\n",
       "      <td>0.999347</td>\n",
       "      <td>0.000244</td>\n",
       "      <td>0.060253</td>\n",
       "      <td>0.026719</td>\n",
       "      <td>0.986809</td>\n",
       "      <td>0.008414</td>\n",
       "    </tr>\n",
       "    <tr>\n",
       "      <td>14</td>\n",
       "      <td>0.013188</td>\n",
       "      <td>0.006700</td>\n",
       "      <td>0.999338</td>\n",
       "      <td>0.000282</td>\n",
       "      <td>0.055253</td>\n",
       "      <td>0.029222</td>\n",
       "      <td>0.986612</td>\n",
       "      <td>0.008210</td>\n",
       "    </tr>\n",
       "    <tr>\n",
       "      <td>15</td>\n",
       "      <td>0.012559</td>\n",
       "      <td>0.006272</td>\n",
       "      <td>0.999388</td>\n",
       "      <td>0.000274</td>\n",
       "      <td>0.055221</td>\n",
       "      <td>0.025713</td>\n",
       "      <td>0.986869</td>\n",
       "      <td>0.008071</td>\n",
       "    </tr>\n",
       "  </tbody>\n",
       "</table>\n",
       "</div>"
      ],
      "text/plain": [
       "    train-error-mean  train-error-std  train-auc-mean  train-auc-std  \\\n",
       "0           0.034554         0.006623        0.994144       0.002720   \n",
       "1           0.017592         0.007068        0.998108       0.001019   \n",
       "2           0.020729         0.009453        0.998474       0.001019   \n",
       "3           0.018209         0.008739        0.998707       0.000764   \n",
       "4           0.020096         0.004241        0.999083       0.000394   \n",
       "5           0.019471         0.003653        0.999171       0.000361   \n",
       "6           0.016327         0.006080        0.999259       0.000283   \n",
       "7           0.015698         0.005604        0.999301       0.000283   \n",
       "8           0.018215         0.004156        0.999209       0.000239   \n",
       "9           0.016961         0.004260        0.999225       0.000142   \n",
       "10          0.017584         0.004242        0.999250       0.000372   \n",
       "11          0.014446         0.005476        0.999242       0.000389   \n",
       "12          0.014444         0.007047        0.999321       0.000260   \n",
       "13          0.013188         0.006700        0.999347       0.000244   \n",
       "14          0.013188         0.006700        0.999338       0.000282   \n",
       "15          0.012559         0.006272        0.999388       0.000274   \n",
       "\n",
       "    test-error-mean  test-error-std  test-auc-mean  test-auc-std  \n",
       "0          0.080348        0.027990       0.957722      0.016302  \n",
       "1          0.070380        0.017074       0.966204      0.011239  \n",
       "2          0.062880        0.022577       0.976834      0.011919  \n",
       "3          0.055285        0.016992       0.979359      0.012419  \n",
       "4          0.060316        0.021583       0.981868      0.009897  \n",
       "5          0.060316        0.021583       0.982555      0.009737  \n",
       "6          0.065348        0.014686       0.982699      0.009918  \n",
       "7          0.062817        0.028619       0.982382      0.009898  \n",
       "8          0.062817        0.028619       0.982715      0.009888  \n",
       "9          0.062785        0.034555       0.982172      0.009733  \n",
       "10         0.057753        0.033206       0.982505      0.008918  \n",
       "11         0.057721        0.035937       0.982485      0.008777  \n",
       "12         0.057753        0.029201       0.986679      0.007811  \n",
       "13         0.060253        0.026719       0.986809      0.008414  \n",
       "14         0.055253        0.029222       0.986612      0.008210  \n",
       "15         0.055221        0.025713       0.986869      0.008071  "
      ]
     },
     "execution_count": 115,
     "metadata": {},
     "output_type": "execute_result"
    }
   ],
   "source": [
    "# 如何使用xgboost的交叉验证，当前是xgboost原生的包，无法使用cross_validate_score\n",
    "#cross_val_score(model, X, Y)\n",
    "\n",
    "\n",
    "# 在做交叉验证的时候也可以尝试设置评估指标，通过评估指标，来在适当的时候停止迭代\n",
    "# 并且将交叉验证在训练集上的分数和测试集上的分数全都打印出来\n",
    "\n",
    "xgb.cv(params, dtrain, 1000, nfold = 5,\n",
    "       callbacks = [xgb.callback.early_stop(30),\n",
    "                    xgb.callback.print_evaluation(show_stdv = False), # 不想看标准差\n",
    "                   ]\n",
    "      )"
   ]
  },
  {
   "cell_type": "code",
   "execution_count": 121,
   "metadata": {},
   "outputs": [
    {
     "name": "stdout",
     "output_type": "stream",
     "text": [
      "Multiple eval metrics have been passed: 'test-auc' will be used for early stopping.\n",
      "\n",
      "Will train until test-auc hasn't improved in 30 rounds.\n",
      "Stopping. Best iteration:\n",
      "[15]\ttrain-error:0.01256+0.00627\ttrain-auc:0.99939+0.00027\ttest-error:0.05522+0.02571\ttest-auc:0.98687+0.00807\n",
      "\n"
     ]
    },
    {
     "data": {
      "text/plain": [
       "0.9868694"
      ]
     },
     "execution_count": 121,
     "metadata": {},
     "output_type": "execute_result"
    }
   ],
   "source": [
    "# 记录交叉验证的结果，将Dataframe放入一个变量当中\n",
    "cross_results = xgb.cv(params, dtrain, 1000, nfold = 5,\n",
    "                       callbacks = [xgb.callback.early_stop(30),\n",
    "                                    #xgb.callback.print_evaluation(show_stdv = False), # 不想看标准差\n",
    "                                   ])\n",
    "\n",
    "cross_results['test-auc-mean'].values[-1]"
   ]
  },
  {
   "cell_type": "code",
   "execution_count": 123,
   "metadata": {
    "collapsed": true,
    "jupyter": {
     "outputs_hidden": true
    }
   },
   "outputs": [
    {
     "name": "stdout",
     "output_type": "stream",
     "text": [
      "Multiple eval metrics have been passed: 'test-error' will be used for early stopping.\n",
      "\n",
      "Will train until test-error hasn't improved in 30 rounds.\n",
      "Stopping. Best iteration:\n",
      "[37]\ttrain-auc:0.99625+0.00062\ttrain-error:0.02512+0.00523\ttest-auc:0.98293+0.00821\ttest-error:0.05775+0.03669\n",
      "\n",
      "Multiple eval metrics have been passed: 'test-error' will be used for early stopping.\n",
      "\n",
      "Will train until test-error hasn't improved in 30 rounds.\n",
      "Stopping. Best iteration:\n",
      "[79]\ttrain-auc:1.00000+0.00000\ttrain-error:0.00063+0.00125\ttest-auc:0.98938+0.00678\ttest-error:0.04269+0.02923\n",
      "\n",
      "Multiple eval metrics have been passed: 'test-error' will be used for early stopping.\n",
      "\n",
      "Will train until test-error hasn't improved in 30 rounds.\n",
      "Stopping. Best iteration:\n",
      "[46]\ttrain-auc:1.00000+0.00000\ttrain-error:0.00126+0.00154\ttest-auc:0.98657+0.00758\ttest-error:0.04772+0.02428\n",
      "\n",
      "Multiple eval metrics have been passed: 'test-error' will be used for early stopping.\n",
      "\n",
      "Will train until test-error hasn't improved in 30 rounds.\n",
      "Stopping. Best iteration:\n",
      "[47]\ttrain-auc:1.00000+0.00000\ttrain-error:0.00000+0.00000\ttest-auc:0.98892+0.00625\ttest-error:0.05025+0.03185\n",
      "\n",
      "Multiple eval metrics have been passed: 'test-error' will be used for early stopping.\n",
      "\n",
      "Will train until test-error hasn't improved in 30 rounds.\n",
      "Stopping. Best iteration:\n",
      "[48]\ttrain-auc:1.00000+0.00000\ttrain-error:0.00000+0.00000\ttest-auc:0.98889+0.00613\ttest-error:0.05025+0.03185\n",
      "\n",
      "Multiple eval metrics have been passed: 'test-error' will be used for early stopping.\n",
      "\n",
      "Will train until test-error hasn't improved in 30 rounds.\n",
      "Stopping. Best iteration:\n",
      "[48]\ttrain-auc:1.00000+0.00000\ttrain-error:0.00000+0.00000\ttest-auc:0.98889+0.00613\ttest-error:0.05025+0.03185\n",
      "\n",
      "Multiple eval metrics have been passed: 'test-error' will be used for early stopping.\n",
      "\n",
      "Will train until test-error hasn't improved in 30 rounds.\n",
      "Stopping. Best iteration:\n",
      "[48]\ttrain-auc:1.00000+0.00000\ttrain-error:0.00000+0.00000\ttest-auc:0.98889+0.00613\ttest-error:0.05025+0.03185\n",
      "\n",
      "Multiple eval metrics have been passed: 'test-error' will be used for early stopping.\n",
      "\n",
      "Will train until test-error hasn't improved in 30 rounds.\n",
      "Stopping. Best iteration:\n",
      "[48]\ttrain-auc:1.00000+0.00000\ttrain-error:0.00000+0.00000\ttest-auc:0.98889+0.00613\ttest-error:0.05025+0.03185\n",
      "\n",
      "Multiple eval metrics have been passed: 'test-error' will be used for early stopping.\n",
      "\n",
      "Will train until test-error hasn't improved in 30 rounds.\n",
      "Stopping. Best iteration:\n",
      "[48]\ttrain-auc:1.00000+0.00000\ttrain-error:0.00000+0.00000\ttest-auc:0.98889+0.00613\ttest-error:0.05025+0.03185\n",
      "\n"
     ]
    }
   ],
   "source": [
    "# 可以尝试使用测试集迭代完之后的模型来进行参数的调优，我们可以使用以下的方式\n",
    "params = {\n",
    "    'objective' : 'binary:logistic',#目标函数，逻辑回归，predict输出为类概率\n",
    "    #'objective' : 'binary:logitraw',#目标函数，逻辑回归，给出的是做sigmod转换之前的值\n",
    "    'booster' : 'gbtree',#基分类器的种类\n",
    "    'eta' : 0.1,#学习率,默认值是0.1\n",
    "    'gamma' : 0,#后剪枝的过程,0到正无穷, 默认0，尝试0, 1，5，10，100\n",
    "    'min_child_weight':1,#叶子节点权重分数的下界\n",
    "    'max_depth': 5, #最大深度\n",
    "    'eval_metric' : ['auc','error']\n",
    "}\n",
    "\n",
    "d_list = []\n",
    "for d in range(1, 10):\n",
    "    params['max_depth'] = d\n",
    "    cross_results = xgb.cv(params, dtrain, 1000, nfold = 5,\n",
    "                       callbacks = [xgb.callback.early_stop(30),\n",
    "                                    #xgb.callback.print_evaluation(show_stdv = False), # 不想看标准差\n",
    "                                   ])\n",
    "    d_list.append(cross_results['test-auc-mean'].values[-1])"
   ]
  },
  {
   "cell_type": "code",
   "execution_count": 124,
   "metadata": {},
   "outputs": [
    {
     "data": {
      "text/plain": [
       "[<matplotlib.lines.Line2D at 0x7f9662e4e910>]"
      ]
     },
     "execution_count": 124,
     "metadata": {},
     "output_type": "execute_result"
    },
    {
     "data": {
      "image/png": "[encoded data removed]",
      "text/plain": [
       "<Figure size 432x288 with 1 Axes>"
      ]
     },
     "metadata": {
      "needs_background": "light"
     },
     "output_type": "display_data"
    }
   ],
   "source": [
    "# 将图给画出来\n",
    "plt.plot(range(1, 10), d_list)"
   ]
  },
  {
   "cell_type": "code",
   "execution_count": 129,
   "metadata": {
    "collapsed": true,
    "jupyter": {
     "outputs_hidden": true
    }
   },
   "outputs": [
    {
     "data": {
      "text/plain": [
       "['accuracy',\n",
       " 'adjusted_mutual_info_score',\n",
       " 'adjusted_rand_score',\n",
       " 'average_precision',\n",
       " 'balanced_accuracy',\n",
       " 'completeness_score',\n",
       " 'explained_variance',\n",
       " 'f1',\n",
       " 'f1_macro',\n",
       " 'f1_micro',\n",
       " 'f1_samples',\n",
       " 'f1_weighted',\n",
       " 'fowlkes_mallows_score',\n",
       " 'homogeneity_score',\n",
       " 'jaccard',\n",
       " 'jaccard_macro',\n",
       " 'jaccard_micro',\n",
       " 'jaccard_samples',\n",
       " 'jaccard_weighted',\n",
       " 'max_error',\n",
       " 'mutual_info_score',\n",
       " 'neg_brier_score',\n",
       " 'neg_log_loss',\n",
       " 'neg_mean_absolute_error',\n",
       " 'neg_mean_gamma_deviance',\n",
       " 'neg_mean_poisson_deviance',\n",
       " 'neg_mean_squared_error',\n",
       " 'neg_mean_squared_log_error',\n",
       " 'neg_median_absolute_error',\n",
       " 'neg_root_mean_squared_error',\n",
       " 'normalized_mutual_info_score',\n",
       " 'precision',\n",
       " 'precision_macro',\n",
       " 'precision_micro',\n",
       " 'precision_samples',\n",
       " 'precision_weighted',\n",
       " 'r2',\n",
       " 'recall',\n",
       " 'recall_macro',\n",
       " 'recall_micro',\n",
       " 'recall_samples',\n",
       " 'recall_weighted',\n",
       " 'roc_auc',\n",
       " 'roc_auc_ovo',\n",
       " 'roc_auc_ovo_weighted',\n",
       " 'roc_auc_ovr',\n",
       " 'roc_auc_ovr_weighted',\n",
       " 'v_measure_score']"
      ]
     },
     "execution_count": 129,
     "metadata": {},
     "output_type": "execute_result"
    }
   ],
   "source": [
    "import sklearn\n",
    "sorted(sklearn.metrics.SCORERS.keys())"
   ]
  },
  {
   "cell_type": "code",
   "execution_count": 131,
   "metadata": {},
   "outputs": [
    {
     "data": {
      "text/plain": [
       "0.9896111111111111"
      ]
     },
     "execution_count": 131,
     "metadata": {},
     "output_type": "execute_result"
    }
   ],
   "source": [
    "# 尝试使用随机森林，查看这份数据集下，随机森林得出的结果\n",
    "from sklearn.ensemble import RandomForestClassifier\n",
    "\n",
    "rfc = RandomForestClassifier(n_estimators = 100)\n",
    "cross_val_score(rfc, Xtrain, Ytrain, cv = 10, scoring = 'roc_auc').mean()"
   ]
  },
  {
   "cell_type": "code",
   "execution_count": 143,
   "metadata": {},
   "outputs": [
    {
     "data": {
      "text/plain": [
       "(1.0, 0.9824561403508771)"
      ]
     },
     "execution_count": 143,
     "metadata": {},
     "output_type": "execute_result"
    }
   ],
   "source": [
    "# xgboost的原生的包不能放入gridsearchcv进行调参, 不好调参\n",
    "# 但是xgboost也提供了sklearn的API\n",
    "# 小试牛刀一下XGBClassifier\n",
    "# 尝试使用cross_validate_score\n",
    "\n",
    "from xgboost import XGBClassifier\n",
    "model = XGBClassifier(n_estimators = 1000)\n",
    "model.fit(Xtrain, Ytrain,\n",
    "          early_stopping_rounds = 20, # 设置什么时候停止\n",
    "          eval_metric = 'auc', # 评估指标为'error', 稍后尝试auc\n",
    "          eval_set = [(Xtest, Ytest)], # 设置是在什么数据集上查看auc是否持续增加\n",
    "          verbose = 0\n",
    "         )\n",
    "\n",
    "model.score(Xtrain, Ytrain), model.score(Xtest, Ytest)\n",
    "#cross_val_score(model, Xtrain, Ytrain, cv = 10, scoring = 'roc_auc').mean()"
   ]
  },
  {
   "cell_type": "code",
   "execution_count": 9,
   "metadata": {},
   "outputs": [],
   "source": [
    "# 实例化详细的了解一下fit方法\n",
    "# 在fit里面也是可以尝试使用的参数, 查看作重要的几个\n",
    "# eval_set, 在训练的过程当中，也可以查看在训练集上的分数和测试集上的分数\n",
    "# eval_metric, 到底使用什么指标来进行计算\n",
    "# early_stopping_rounds, 在eval_set最后一个元素上，检测每一次跌倒的分数\n",
    "# 如果在指定的次数内，eval_metric的分数没有一个较大的提升，就终止迭代\n",
    "# verbose, 指的是是否要打印出每一次迭代的分数"
   ]
  },
  {
   "cell_type": "code",
   "execution_count": 151,
   "metadata": {},
   "outputs": [],
   "source": [
    "# 这个时候由于是sklearn的API，则可以使用grid_search_cv来做网格搜索了\n",
    "# 每个参数的范围，可以尝试通过每个参数的学习曲线去找"
   ]
  },
  {
   "cell_type": "code",
   "execution_count": 152,
   "metadata": {},
   "outputs": [
    {
     "name": "stdout",
     "output_type": "stream",
     "text": [
      "{'colsample_bytree': 0.7, 'gamma': 0, 'learning_rate': 0.2, 'max_depth': 4, 'min_child_weight': 1, 'subsample': 1} 0.959746835443038\n",
      "1.0 0.9824561403508771\n"
     ]
    }
   ],
   "source": [
    "# 将grid_search_cv的参数放入原生的xgb里面进行计算\n",
    "from sklearn.model_selection import GridSearchCV\n",
    "\n",
    "model = xgb.XGBClassifier(n_estimators = 1000)\n",
    "grid = {\n",
    "    'max_depth' : [4,5,6],\n",
    "    'gamma' : [0,1,2,3],\n",
    "    'learning_rate' : [0.05, 0.1, 0.2],\n",
    "    'min_child_weight': [1,2,3,4],\n",
    "    'subsample' : [0.7, 1], # 行的有放回采样，70%\n",
    "    'colsample_bytree' : [0.7, 1], # 列无放回采样， 90%\n",
    "}\n",
    "\n",
    "# model加载进去之后，model里面所有的功能，全部都会继承给clf_grid, 这个时候，可以近似将clf_grid看出xgboost模型\n",
    "# xgboost里面方法，里面的参数，clf_grid\n",
    "clf_grid = GridSearchCV(model, grid, cv = 5)\n",
    "\n",
    "\n",
    "clf_grid.fit(Xtrain, Ytrain,\n",
    "             early_stopping_rounds = 20, # 设置什么时候停止\n",
    "             eval_metric = 'auc', # 评估指标为'error', 稍后尝试auc\n",
    "             eval_set = [(Xtest, Ytest)], # 设置是在什么数据集上查看auc是否持续增加\n",
    "             verbose = 0\n",
    "            )\n",
    "\n",
    "print(clf_grid.best_params_, clf_grid.best_score_)\n",
    "print(clf_grid.score(Xtrain, Ytrain), clf_grid.score(Xtest, Ytest))"
   ]
  },
  {
   "cell_type": "code",
   "execution_count": 154,
   "metadata": {},
   "outputs": [],
   "source": [
    "#{'gamma': 0, 'learning_rate': 0.2, 'max_depth': 4, 'min_child_weight': 1} 0.9673366834170855\n",
    "# 1.0 0.9883040935672515"
   ]
  },
  {
   "cell_type": "code",
   "execution_count": 155,
   "metadata": {},
   "outputs": [
    {
     "data": {
      "text/plain": [
       "(1.0, 0.9824561403508771)"
      ]
     },
     "execution_count": 155,
     "metadata": {},
     "output_type": "execute_result"
    }
   ],
   "source": [
    "# 使用grid_search_cv后的参数，直接放入xgb原生的包之中看下最后结果\n",
    "\n",
    "dtrain = xgb.DMatrix(Xtrain, Ytrain)\n",
    "dtest = xgb.DMatrix(Xtest, Ytest)\n",
    "\n",
    "params = {\n",
    "    'objective' : 'binary:logistic',#目标函数，逻辑回归，predict输出为类概率\n",
    "    #'objective' : 'binary:logitraw',#目标函数，逻辑回归，predict输出为sigmod转换前的值\n",
    "    'booster' : 'gbtree',#基分类器的种类\n",
    "    'eta' : 0.2,#学习率,默认值是0.1\n",
    "    'gamma' : 0,\n",
    "    'min_child_weight':1,#叶子节点权重分数的下界\n",
    "    'max_depth': 4, #最大深度\n",
    "    'eval_metric' : ['auc','error'],\n",
    "    'colsample_bytree': 0.7,\n",
    "    'subsample': 1\n",
    "}\n",
    "\n",
    "model = xgb.train(params, dtrain, 100, \n",
    "                  #watch_list\n",
    "                 )\n",
    "Ytrain_pred = prob_to_label(model.predict(dtrain))\n",
    "Ytest_pred = prob_to_label(model.predict(dtest))\n",
    "accuracy_score(Ytrain, Ytrain), accuracy_score(Ytest, Ytest_pred)"
   ]
  },
  {
   "cell_type": "code",
   "execution_count": 169,
   "metadata": {},
   "outputs": [
    {
     "data": {
      "text/html": [
       "<div>\n",
       "<style scoped>\n",
       "    .dataframe tbody tr th:only-of-type {\n",
       "        vertical-align: middle;\n",
       "    }\n",
       "\n",
       "    .dataframe tbody tr th {\n",
       "        vertical-align: top;\n",
       "    }\n",
       "\n",
       "    .dataframe thead th {\n",
       "        text-align: right;\n",
       "    }\n",
       "</style>\n",
       "<table border=\"1\" class=\"dataframe\">\n",
       "  <thead>\n",
       "    <tr style=\"text-align: right;\">\n",
       "      <th></th>\n",
       "      <th>Tree</th>\n",
       "      <th>Node</th>\n",
       "      <th>ID</th>\n",
       "      <th>Feature</th>\n",
       "      <th>Split</th>\n",
       "      <th>Yes</th>\n",
       "      <th>No</th>\n",
       "      <th>Missing</th>\n",
       "      <th>Gain</th>\n",
       "      <th>Cover</th>\n",
       "    </tr>\n",
       "  </thead>\n",
       "  <tbody>\n",
       "    <tr>\n",
       "      <td>727</td>\n",
       "      <td>99</td>\n",
       "      <td>0</td>\n",
       "      <td>99-0</td>\n",
       "      <td>f24</td>\n",
       "      <td>0.1364</td>\n",
       "      <td>99-1</td>\n",
       "      <td>99-2</td>\n",
       "      <td>99-1</td>\n",
       "      <td>0.071276</td>\n",
       "      <td>2.626288</td>\n",
       "    </tr>\n",
       "    <tr>\n",
       "      <td>728</td>\n",
       "      <td>99</td>\n",
       "      <td>1</td>\n",
       "      <td>99-1</td>\n",
       "      <td>Leaf</td>\n",
       "      <td>NaN</td>\n",
       "      <td>NaN</td>\n",
       "      <td>NaN</td>\n",
       "      <td>NaN</td>\n",
       "      <td>0.023289</td>\n",
       "      <td>1.405666</td>\n",
       "    </tr>\n",
       "    <tr>\n",
       "      <td>729</td>\n",
       "      <td>99</td>\n",
       "      <td>2</td>\n",
       "      <td>99-2</td>\n",
       "      <td>Leaf</td>\n",
       "      <td>NaN</td>\n",
       "      <td>NaN</td>\n",
       "      <td>NaN</td>\n",
       "      <td>NaN</td>\n",
       "      <td>-0.026404</td>\n",
       "      <td>1.220622</td>\n",
       "    </tr>\n",
       "  </tbody>\n",
       "</table>\n",
       "</div>"
      ],
      "text/plain": [
       "     Tree  Node    ID Feature   Split   Yes    No Missing      Gain     Cover\n",
       "727    99     0  99-0     f24  0.1364  99-1  99-2    99-1  0.071276  2.626288\n",
       "728    99     1  99-1    Leaf     NaN   NaN   NaN     NaN  0.023289  1.405666\n",
       "729    99     2  99-2    Leaf     NaN   NaN   NaN     NaN -0.026404  1.220622"
      ]
     },
     "execution_count": 169,
     "metadata": {},
     "output_type": "execute_result"
    }
   ],
   "source": [
    "# 查看每一个数的结构\n",
    "tree = model.trees_to_dataframe()\n",
    "tree[tree['Tree'] == 99]"
   ]
  },
  {
   "cell_type": "code",
   "execution_count": 164,
   "metadata": {},
   "outputs": [],
   "source": [
    "#model.get_fscore()"
   ]
  },
  {
   "cell_type": "code",
   "execution_count": 162,
   "metadata": {
    "collapsed": true,
    "jupyter": {
     "outputs_hidden": true
    }
   },
   "outputs": [
    {
     "data": {
      "text/html": [
       "<div>\n",
       "<style scoped>\n",
       "    .dataframe tbody tr th:only-of-type {\n",
       "        vertical-align: middle;\n",
       "    }\n",
       "\n",
       "    .dataframe tbody tr th {\n",
       "        vertical-align: top;\n",
       "    }\n",
       "\n",
       "    .dataframe thead th {\n",
       "        text-align: right;\n",
       "    }\n",
       "</style>\n",
       "<table border=\"1\" class=\"dataframe\">\n",
       "  <thead>\n",
       "    <tr style=\"text-align: right;\">\n",
       "      <th></th>\n",
       "      <th>features</th>\n",
       "      <th>feature_importance</th>\n",
       "    </tr>\n",
       "  </thead>\n",
       "  <tbody>\n",
       "    <tr>\n",
       "      <td>5</td>\n",
       "      <td>f1</td>\n",
       "      <td>0.111111</td>\n",
       "    </tr>\n",
       "    <tr>\n",
       "      <td>14</td>\n",
       "      <td>f21</td>\n",
       "      <td>0.101587</td>\n",
       "    </tr>\n",
       "    <tr>\n",
       "      <td>9</td>\n",
       "      <td>f13</td>\n",
       "      <td>0.082540</td>\n",
       "    </tr>\n",
       "    <tr>\n",
       "      <td>7</td>\n",
       "      <td>f23</td>\n",
       "      <td>0.079365</td>\n",
       "    </tr>\n",
       "    <tr>\n",
       "      <td>16</td>\n",
       "      <td>f7</td>\n",
       "      <td>0.066667</td>\n",
       "    </tr>\n",
       "    <tr>\n",
       "      <td>11</td>\n",
       "      <td>f26</td>\n",
       "      <td>0.060317</td>\n",
       "    </tr>\n",
       "    <tr>\n",
       "      <td>1</td>\n",
       "      <td>f24</td>\n",
       "      <td>0.057143</td>\n",
       "    </tr>\n",
       "    <tr>\n",
       "      <td>8</td>\n",
       "      <td>f27</td>\n",
       "      <td>0.053968</td>\n",
       "    </tr>\n",
       "    <tr>\n",
       "      <td>12</td>\n",
       "      <td>f4</td>\n",
       "      <td>0.050794</td>\n",
       "    </tr>\n",
       "    <tr>\n",
       "      <td>17</td>\n",
       "      <td>f20</td>\n",
       "      <td>0.047619</td>\n",
       "    </tr>\n",
       "    <tr>\n",
       "      <td>22</td>\n",
       "      <td>f3</td>\n",
       "      <td>0.044444</td>\n",
       "    </tr>\n",
       "    <tr>\n",
       "      <td>10</td>\n",
       "      <td>f15</td>\n",
       "      <td>0.041270</td>\n",
       "    </tr>\n",
       "    <tr>\n",
       "      <td>13</td>\n",
       "      <td>f28</td>\n",
       "      <td>0.041270</td>\n",
       "    </tr>\n",
       "    <tr>\n",
       "      <td>25</td>\n",
       "      <td>f25</td>\n",
       "      <td>0.025397</td>\n",
       "    </tr>\n",
       "    <tr>\n",
       "      <td>0</td>\n",
       "      <td>f22</td>\n",
       "      <td>0.025397</td>\n",
       "    </tr>\n",
       "    <tr>\n",
       "      <td>4</td>\n",
       "      <td>f6</td>\n",
       "      <td>0.019048</td>\n",
       "    </tr>\n",
       "    <tr>\n",
       "      <td>18</td>\n",
       "      <td>f29</td>\n",
       "      <td>0.019048</td>\n",
       "    </tr>\n",
       "    <tr>\n",
       "      <td>6</td>\n",
       "      <td>f17</td>\n",
       "      <td>0.012698</td>\n",
       "    </tr>\n",
       "    <tr>\n",
       "      <td>2</td>\n",
       "      <td>f0</td>\n",
       "      <td>0.012698</td>\n",
       "    </tr>\n",
       "    <tr>\n",
       "      <td>27</td>\n",
       "      <td>f8</td>\n",
       "      <td>0.012698</td>\n",
       "    </tr>\n",
       "    <tr>\n",
       "      <td>15</td>\n",
       "      <td>f2</td>\n",
       "      <td>0.006349</td>\n",
       "    </tr>\n",
       "    <tr>\n",
       "      <td>19</td>\n",
       "      <td>f12</td>\n",
       "      <td>0.006349</td>\n",
       "    </tr>\n",
       "    <tr>\n",
       "      <td>23</td>\n",
       "      <td>f16</td>\n",
       "      <td>0.006349</td>\n",
       "    </tr>\n",
       "    <tr>\n",
       "      <td>20</td>\n",
       "      <td>f9</td>\n",
       "      <td>0.003175</td>\n",
       "    </tr>\n",
       "    <tr>\n",
       "      <td>21</td>\n",
       "      <td>f18</td>\n",
       "      <td>0.003175</td>\n",
       "    </tr>\n",
       "    <tr>\n",
       "      <td>3</td>\n",
       "      <td>f5</td>\n",
       "      <td>0.003175</td>\n",
       "    </tr>\n",
       "    <tr>\n",
       "      <td>24</td>\n",
       "      <td>f19</td>\n",
       "      <td>0.003175</td>\n",
       "    </tr>\n",
       "    <tr>\n",
       "      <td>26</td>\n",
       "      <td>f10</td>\n",
       "      <td>0.003175</td>\n",
       "    </tr>\n",
       "  </tbody>\n",
       "</table>\n",
       "</div>"
      ],
      "text/plain": [
       "   features  feature_importance\n",
       "5        f1            0.111111\n",
       "14      f21            0.101587\n",
       "9       f13            0.082540\n",
       "7       f23            0.079365\n",
       "16       f7            0.066667\n",
       "11      f26            0.060317\n",
       "1       f24            0.057143\n",
       "8       f27            0.053968\n",
       "12       f4            0.050794\n",
       "17      f20            0.047619\n",
       "22       f3            0.044444\n",
       "10      f15            0.041270\n",
       "13      f28            0.041270\n",
       "25      f25            0.025397\n",
       "0       f22            0.025397\n",
       "4        f6            0.019048\n",
       "18      f29            0.019048\n",
       "6       f17            0.012698\n",
       "2        f0            0.012698\n",
       "27       f8            0.012698\n",
       "15       f2            0.006349\n",
       "19      f12            0.006349\n",
       "23      f16            0.006349\n",
       "20       f9            0.003175\n",
       "21      f18            0.003175\n",
       "3        f5            0.003175\n",
       "24      f19            0.003175\n",
       "26      f10            0.003175"
      ]
     },
     "execution_count": 162,
     "metadata": {},
     "output_type": "execute_result"
    }
   ],
   "source": [
    "# 查看特征重要性\n",
    "importance = model.get_fscore()\n",
    "importance_new = {i : [importance[i]] for i in importance}\n",
    "importance_df = pd.DataFrame(importance_new).T.reset_index()\n",
    "importance_df.columns = ['features', 'feature_importance']\n",
    "importance_df['feature_importance'] = importance_df['feature_importance']/importance_df['feature_importance'].sum()\n",
    "importance_df.sort_values(by = 'feature_importance', ascending = False)"
   ]
  },
  {
   "cell_type": "code",
   "execution_count": 165,
   "metadata": {},
   "outputs": [
    {
     "data": {
      "text/plain": [
       "<matplotlib.axes._subplots.AxesSubplot at 0x7f96619ea750>"
      ]
     },
     "execution_count": 165,
     "metadata": {},
     "output_type": "execute_result"
    },
    {
     "data": {
      "image/png": "[encoded data removed]",
      "text/plain": [
       "<Figure size 432x288 with 1 Axes>"
      ]
     },
     "metadata": {
      "needs_background": "light"
     },
     "output_type": "display_data"
    }
   ],
   "source": [
    "# 画出特征重要性\n",
    "xgb.plot_importance(model, ax = None, height = 0.5)"
   ]
  },
  {
   "cell_type": "code",
   "execution_count": 170,
   "metadata": {},
   "outputs": [
    {
     "data": {
      "text/plain": [
       "<matplotlib.axes._subplots.AxesSubplot at 0x7f9663a92810>"
      ]
     },
     "execution_count": 170,
     "metadata": {},
     "output_type": "execute_result"
    },
    {
     "data": {
      "image/png": "[encoded data removed]",
      "text/plain": [
       "<Figure size 5760x3600 with 1 Axes>"
      ]
     },
     "metadata": {
      "needs_background": "light"
     },
     "output_type": "display_data"
    }
   ],
   "source": [
    "# 每一个树的可视化\n",
    "from matplotlib.pylab import rcParams\n",
    "\n",
    "##set up the parameters\n",
    "rcParams['figure.figsize'] = 80,50\n",
    "\n",
    "xgb.plot_tree(model, num_trees = -2)"
   ]
  },
  {
   "cell_type": "code",
   "execution_count": 172,
   "metadata": {},
   "outputs": [],
   "source": [
    "# 将最后的结果保存下来，每一个数具体的信息就可以保存txt当总\n",
    "# 这种txt文件可以后期进行一些处理，将其转换成sql语句，作用于数据库中\n",
    "\n",
    "model.dump_model('try.txt')"
   ]
  },
  {
   "cell_type": "code",
   "execution_count": 173,
   "metadata": {},
   "outputs": [],
   "source": [
    "# 如何来保存模型，有两种方法\n",
    "\n",
    "# 第一种是直接使用.save_model的方式\n",
    "model.save_model('model_save.model')"
   ]
  },
  {
   "cell_type": "code",
   "execution_count": 177,
   "metadata": {},
   "outputs": [],
   "source": [
    "# 加载模型\n",
    "model = xgb.Booster()\n",
    "model.load_model('model_save.model')\n",
    "#model.predict(dtrain)"
   ]
  },
  {
   "cell_type": "code",
   "execution_count": 178,
   "metadata": {},
   "outputs": [],
   "source": [
    "# 第二种比较常用，使用的是pickle的方式来保存\n",
    "# pickle几乎能保存所有可能的类\n",
    "\n",
    "import pickle\n",
    "\n",
    "#首先要打开一个文件，然后将模型写进去\n",
    "#如果是要写一个二进制文件的话，就需要用wb, write binary在写入\n",
    "pickle.dump(model, open('xgb.bat', 'wb'))\n",
    "\n",
    "#从二进制文件读取模型, r read\n",
    "model = pickle.load(open('xgb.bat', 'rb'))\n",
    "#调用出来之前上模型来预测数据"
   ]
  },
  {
   "cell_type": "code",
   "execution_count": 179,
   "metadata": {},
   "outputs": [
    {
     "data": {
      "text/html": [
       "<div>\n",
       "<style scoped>\n",
       "    .dataframe tbody tr th:only-of-type {\n",
       "        vertical-align: middle;\n",
       "    }\n",
       "\n",
       "    .dataframe tbody tr th {\n",
       "        vertical-align: top;\n",
       "    }\n",
       "\n",
       "    .dataframe thead th {\n",
       "        text-align: right;\n",
       "    }\n",
       "</style>\n",
       "<table border=\"1\" class=\"dataframe\">\n",
       "  <thead>\n",
       "    <tr style=\"text-align: right;\">\n",
       "      <th></th>\n",
       "      <th>0</th>\n",
       "      <th>1</th>\n",
       "      <th>2</th>\n",
       "      <th>3</th>\n",
       "      <th>4</th>\n",
       "      <th>5</th>\n",
       "      <th>6</th>\n",
       "      <th>7</th>\n",
       "    </tr>\n",
       "  </thead>\n",
       "  <tbody>\n",
       "    <tr>\n",
       "      <td>0</td>\n",
       "      <td>15.26</td>\n",
       "      <td>14.84</td>\n",
       "      <td>0.8710</td>\n",
       "      <td>5.763</td>\n",
       "      <td>3.312</td>\n",
       "      <td>2.221</td>\n",
       "      <td>5.220</td>\n",
       "      <td>1</td>\n",
       "    </tr>\n",
       "    <tr>\n",
       "      <td>1</td>\n",
       "      <td>14.88</td>\n",
       "      <td>14.57</td>\n",
       "      <td>0.8811</td>\n",
       "      <td>5.554</td>\n",
       "      <td>3.333</td>\n",
       "      <td>1.018</td>\n",
       "      <td>4.956</td>\n",
       "      <td>1</td>\n",
       "    </tr>\n",
       "    <tr>\n",
       "      <td>2</td>\n",
       "      <td>14.29</td>\n",
       "      <td>14.09</td>\n",
       "      <td>0.9050</td>\n",
       "      <td>5.291</td>\n",
       "      <td>3.337</td>\n",
       "      <td>2.699</td>\n",
       "      <td>4.825</td>\n",
       "      <td>1</td>\n",
       "    </tr>\n",
       "    <tr>\n",
       "      <td>3</td>\n",
       "      <td>13.84</td>\n",
       "      <td>13.94</td>\n",
       "      <td>0.8955</td>\n",
       "      <td>5.324</td>\n",
       "      <td>3.379</td>\n",
       "      <td>2.259</td>\n",
       "      <td>4.805</td>\n",
       "      <td>1</td>\n",
       "    </tr>\n",
       "    <tr>\n",
       "      <td>4</td>\n",
       "      <td>16.14</td>\n",
       "      <td>14.99</td>\n",
       "      <td>0.9034</td>\n",
       "      <td>5.658</td>\n",
       "      <td>3.562</td>\n",
       "      <td>1.355</td>\n",
       "      <td>5.175</td>\n",
       "      <td>1</td>\n",
       "    </tr>\n",
       "  </tbody>\n",
       "</table>\n",
       "</div>"
      ],
      "text/plain": [
       "       0      1       2      3      4      5      6  7\n",
       "0  15.26  14.84  0.8710  5.763  3.312  2.221  5.220  1\n",
       "1  14.88  14.57  0.8811  5.554  3.333  1.018  4.956  1\n",
       "2  14.29  14.09  0.9050  5.291  3.337  2.699  4.825  1\n",
       "3  13.84  13.94  0.8955  5.324  3.379  2.259  4.805  1\n",
       "4  16.14  14.99  0.9034  5.658  3.562  1.355  5.175  1"
      ]
     },
     "execution_count": 179,
     "metadata": {},
     "output_type": "execute_result"
    }
   ],
   "source": [
    "# 多分类问题的,小麦种子的案例\n",
    "# https://archive.ics.uci.edu/ml/machine-learning-databases/00236/\n",
    "data = pd.read_csv('seeds_dataset.txt', \n",
    "                   header = None,\n",
    "                   sep = '\\s+'\n",
    "                  )\n",
    "data.head()"
   ]
  },
  {
   "cell_type": "code",
   "execution_count": 180,
   "metadata": {},
   "outputs": [
    {
     "data": {
      "text/plain": [
       "3    70\n",
       "2    70\n",
       "1    70\n",
       "Name: 7, dtype: int64"
      ]
     },
     "execution_count": 180,
     "metadata": {},
     "output_type": "execute_result"
    }
   ],
   "source": [
    "# 取出数据集里的X与Y\n",
    "X = data.iloc[:, :-1]\n",
    "Y = data.iloc[:, -1]\n",
    "\n",
    "# 查看Y的标签\n",
    "Y.value_counts()\n",
    "\n",
    "\n",
    "# 这个时候观测到数据集的标签是从1打头的"
   ]
  },
  {
   "cell_type": "code",
   "execution_count": 182,
   "metadata": {},
   "outputs": [],
   "source": [
    "# 对于多分类的问题来说\n",
    "# 需要更改objective为multi:softmax, 也需要指定num_class\n",
    "\n",
    "d = xgb.DMatrix(X, Y)\n",
    "\n",
    "# 尝试设置简单的params来拟合数据\n",
    "params = {\n",
    "    'objective' : 'multi:softmax',\n",
    "    'num_class' : 3,\n",
    "    'eta' : 0.1,\n",
    "    'max_depth' : 5,\n",
    "}\n",
    "\n",
    "\n",
    "# 尝试开始训练数据\n",
    "# xgb.train(params, d, num_boost_round = 10)\n",
    "\n",
    "# 这个时候会报错，报错的信息提示label里面必须是从0开始的，但是当前的标签是从1开始的\n",
    "\n",
    "# 所以需要将label里面的值减一个\n",
    "Y = Y - 1"
   ]
  },
  {
   "cell_type": "code",
   "execution_count": 184,
   "metadata": {},
   "outputs": [],
   "source": [
    "# 按正常的方式来切分数据集\n",
    "\n",
    "Xtrain, Xtest, Ytrain, Ytest = train_test_split(X, Y, \n",
    "                                                test_size = 0.3\n",
    "                                                ,random_state = 5  # 5最优\n",
    "                      )\n",
    "\n",
    "dtrain = xgb.DMatrix(Xtrain, Ytrain)\n",
    "dtest = xgb.DMatrix(Xtest, Ytest)"
   ]
  },
  {
   "cell_type": "code",
   "execution_count": 191,
   "metadata": {},
   "outputs": [],
   "source": [
    "# 设置多分类问题的参数，并且拟合数据\n",
    "params = {\n",
    "    'objective' : 'multi:softmax',  #类似于sigmod,可以将多分类的预测值映射到0到1之间，通过softmax函数解决多分类问题\n",
    "    #'objective' : 'multi:softprob', #类似于predict_prob，给出每个样本在每个类别下下的预测概率\n",
    "    'num_class' : 3,   # 必须告知字典，当前数据集里Y标签的种类有多少\n",
    "    'eval_metric' : ['merror', 'mlogloss'],\n",
    "    'eta' : 0.1,       # 学习率\n",
    "    'max_depth' : 5,   # 树的最大深度\n",
    "    'gamma' : 0,#后剪枝的过程,0到正无穷, 默认0，尝试0, 1，5，10，100\n",
    "    'min_child_weight':1,#叶子节点权重分数的下界\n",
    "}\n",
    "\n",
    "watchlist = [(dtrain, 'train'),(dtest, 'test')]\n",
    "model = xgb.train(params, dtrain, 1000, \n",
    "                  watchlist, \n",
    "                  early_stopping_rounds = 10,\n",
    "                  verbose_eval = False\n",
    "                 )"
   ]
  },
  {
   "cell_type": "code",
   "execution_count": 193,
   "metadata": {},
   "outputs": [
    {
     "data": {
      "text/plain": [
       "(1.0, 0.9365079365079365)"
      ]
     },
     "execution_count": 193,
     "metadata": {},
     "output_type": "execute_result"
    }
   ],
   "source": [
    "# softmax是直接给出预测的标签值，不是类概率\n",
    "# model.predict(dtrain)\n",
    "\n",
    "# 可以直接使用sklearn的accuracy_score方法来计算准确度\n",
    "\n",
    "Y_train_pred = model.predict(dtrain)\n",
    "Y_test_pred = model.predict(dtest)  # 由于设定的是softmax，所以给出的结果直接是label, 可以尝试改成softprob\n",
    "accuracy_score(Ytrain, Y_train_pred), accuracy_score(Ytest, Y_test_pred)"
   ]
  },
  {
   "cell_type": "code",
   "execution_count": 194,
   "metadata": {},
   "outputs": [
    {
     "name": "stdout",
     "output_type": "stream",
     "text": [
      "1.0 0.9206349206349206\n",
      "1.0 0.8888888888888888\n"
     ]
    }
   ],
   "source": [
    "# 模型表现不怎么样，xgboost不行的话，看一下rfc和ada的表现呢\n",
    "from sklearn.ensemble import RandomForestClassifier, AdaBoostClassifier\n",
    "from sklearn.tree import DecisionTreeClassifier\n",
    "\n",
    "\n",
    "rfc = RandomForestClassifier(n_estimators = 100).fit(Xtrain, Ytrain)\n",
    "print(rfc.score(Xtrain, Ytrain), rfc.score(Xtest, Ytest))\n",
    "\n",
    "DTC = DecisionTreeClassifier(max_depth = 5)\n",
    "adc = AdaBoostClassifier(base_estimator = DTC, n_estimators = 200).fit(Xtrain, Ytrain)\n",
    "print(adc.score(Xtrain, Ytrain), adc.score(Xtest, Ytest))\n",
    "\n",
    "# 发现rfc和ada表现都不咋滴，还是xgboost略微高一些"
   ]
  },
  {
   "cell_type": "code",
   "execution_count": 197,
   "metadata": {},
   "outputs": [
    {
     "data": {
      "text/plain": [
       "(1.0, 0.9523809523809523)"
      ]
     },
     "execution_count": 197,
     "metadata": {},
     "output_type": "execute_result"
    }
   ],
   "source": [
    "# 小试牛刀尝试使用sklearn的API\n",
    "model = XGBClassifier(n_estimators = 100)\n",
    "model.fit(Xtrain, Ytrain,\n",
    "          early_stopping_rounds = 10,  # 设置什么时候停止\n",
    "          eval_metric = 'mlogloss',         # 评估指标为'merror'，或者mlogloss\n",
    "          eval_set = [(Xtest, Ytest)],  # 设置是在什么数据集上查看mlogloss是否持续增加\n",
    "          verbose = 0\n",
    "         )\n",
    "model.score(Xtrain, Ytrain), model.score(Xtest, Ytest)"
   ]
  },
  {
   "cell_type": "code",
   "execution_count": 198,
   "metadata": {
    "collapsed": true,
    "jupyter": {
     "outputs_hidden": true
    }
   },
   "outputs": [
    {
     "ename": "KeyboardInterrupt",
     "evalue": "",
     "output_type": "error",
     "traceback": [
      "\u001b[0;31m---------------------------------------------------------------------------\u001b[0m",
      "\u001b[0;31mKeyboardInterrupt\u001b[0m                         Traceback (most recent call last)",
      "\u001b[0;32m<ipython-input-198-cab83e6a7a82>\u001b[0m in \u001b[0;36m<module>\u001b[0;34m\u001b[0m\n\u001b[1;32m     15\u001b[0m              \u001b[0meval_metric\u001b[0m \u001b[0;34m=\u001b[0m \u001b[0;34m'mlogloss'\u001b[0m\u001b[0;34m,\u001b[0m         \u001b[0;31m# 评估指标为'merror'，或者mlogloss\u001b[0m\u001b[0;34m\u001b[0m\u001b[0;34m\u001b[0m\u001b[0m\n\u001b[1;32m     16\u001b[0m              \u001b[0meval_set\u001b[0m \u001b[0;34m=\u001b[0m \u001b[0;34m[\u001b[0m\u001b[0;34m(\u001b[0m\u001b[0mXtest\u001b[0m\u001b[0;34m,\u001b[0m \u001b[0mYtest\u001b[0m\u001b[0;34m)\u001b[0m\u001b[0;34m]\u001b[0m\u001b[0;34m,\u001b[0m  \u001b[0;31m# 设置是在什么数据集上查看mlogloss是否持续增加\u001b[0m\u001b[0;34m\u001b[0m\u001b[0;34m\u001b[0m\u001b[0m\n\u001b[0;32m---> 17\u001b[0;31m              \u001b[0mverbose\u001b[0m \u001b[0;34m=\u001b[0m \u001b[0;32mFalse\u001b[0m\u001b[0;34m\u001b[0m\u001b[0;34m\u001b[0m\u001b[0m\n\u001b[0m\u001b[1;32m     18\u001b[0m             )\n\u001b[1;32m     19\u001b[0m \u001b[0;31m# clf_grid.get_xgb_params()\u001b[0m\u001b[0;34m\u001b[0m\u001b[0;34m\u001b[0m\u001b[0;34m\u001b[0m\u001b[0m\n",
      "\u001b[0;32m~/anaconda3/lib/python3.7/site-packages/sklearn/utils/validation.py\u001b[0m in \u001b[0;36minner_f\u001b[0;34m(*args, **kwargs)\u001b[0m\n\u001b[1;32m     71\u001b[0m                           FutureWarning)\n\u001b[1;32m     72\u001b[0m         \u001b[0mkwargs\u001b[0m\u001b[0;34m.\u001b[0m\u001b[0mupdate\u001b[0m\u001b[0;34m(\u001b[0m\u001b[0;34m{\u001b[0m\u001b[0mk\u001b[0m\u001b[0;34m:\u001b[0m \u001b[0marg\u001b[0m \u001b[0;32mfor\u001b[0m \u001b[0mk\u001b[0m\u001b[0;34m,\u001b[0m \u001b[0marg\u001b[0m \u001b[0;32min\u001b[0m \u001b[0mzip\u001b[0m\u001b[0;34m(\u001b[0m\u001b[0msig\u001b[0m\u001b[0;34m.\u001b[0m\u001b[0mparameters\u001b[0m\u001b[0;34m,\u001b[0m \u001b[0margs\u001b[0m\u001b[0;34m)\u001b[0m\u001b[0;34m}\u001b[0m\u001b[0;34m)\u001b[0m\u001b[0;34m\u001b[0m\u001b[0;34m\u001b[0m\u001b[0m\n\u001b[0;32m---> 73\u001b[0;31m         \u001b[0;32mreturn\u001b[0m \u001b[0mf\u001b[0m\u001b[0;34m(\u001b[0m\u001b[0;34m**\u001b[0m\u001b[0mkwargs\u001b[0m\u001b[0;34m)\u001b[0m\u001b[0;34m\u001b[0m\u001b[0;34m\u001b[0m\u001b[0m\n\u001b[0m\u001b[1;32m     74\u001b[0m     \u001b[0;32mreturn\u001b[0m \u001b[0minner_f\u001b[0m\u001b[0;34m\u001b[0m\u001b[0;34m\u001b[0m\u001b[0m\n\u001b[1;32m     75\u001b[0m \u001b[0;34m\u001b[0m\u001b[0m\n",
      "\u001b[0;32m~/anaconda3/lib/python3.7/site-packages/sklearn/model_selection/_search.py\u001b[0m in \u001b[0;36mfit\u001b[0;34m(self, X, y, groups, **fit_params)\u001b[0m\n\u001b[1;32m    734\u001b[0m                 \u001b[0;32mreturn\u001b[0m \u001b[0mresults\u001b[0m\u001b[0;34m\u001b[0m\u001b[0;34m\u001b[0m\u001b[0m\n\u001b[1;32m    735\u001b[0m \u001b[0;34m\u001b[0m\u001b[0m\n\u001b[0;32m--> 736\u001b[0;31m             \u001b[0mself\u001b[0m\u001b[0;34m.\u001b[0m\u001b[0m_run_search\u001b[0m\u001b[0;34m(\u001b[0m\u001b[0mevaluate_candidates\u001b[0m\u001b[0;34m)\u001b[0m\u001b[0;34m\u001b[0m\u001b[0;34m\u001b[0m\u001b[0m\n\u001b[0m\u001b[1;32m    737\u001b[0m \u001b[0;34m\u001b[0m\u001b[0m\n\u001b[1;32m    738\u001b[0m         \u001b[0;31m# For multi-metric evaluation, store the best_index_, best_params_ and\u001b[0m\u001b[0;34m\u001b[0m\u001b[0;34m\u001b[0m\u001b[0;34m\u001b[0m\u001b[0m\n",
      "\u001b[0;32m~/anaconda3/lib/python3.7/site-packages/sklearn/model_selection/_search.py\u001b[0m in \u001b[0;36m_run_search\u001b[0;34m(self, evaluate_candidates)\u001b[0m\n\u001b[1;32m   1186\u001b[0m     \u001b[0;32mdef\u001b[0m \u001b[0m_run_search\u001b[0m\u001b[0;34m(\u001b[0m\u001b[0mself\u001b[0m\u001b[0;34m,\u001b[0m \u001b[0mevaluate_candidates\u001b[0m\u001b[0;34m)\u001b[0m\u001b[0;34m:\u001b[0m\u001b[0;34m\u001b[0m\u001b[0;34m\u001b[0m\u001b[0m\n\u001b[1;32m   1187\u001b[0m         \u001b[0;34m\"\"\"Search all candidates in param_grid\"\"\"\u001b[0m\u001b[0;34m\u001b[0m\u001b[0;34m\u001b[0m\u001b[0m\n\u001b[0;32m-> 1188\u001b[0;31m         \u001b[0mevaluate_candidates\u001b[0m\u001b[0;34m(\u001b[0m\u001b[0mParameterGrid\u001b[0m\u001b[0;34m(\u001b[0m\u001b[0mself\u001b[0m\u001b[0;34m.\u001b[0m\u001b[0mparam_grid\u001b[0m\u001b[0;34m)\u001b[0m\u001b[0;34m)\u001b[0m\u001b[0;34m\u001b[0m\u001b[0;34m\u001b[0m\u001b[0m\n\u001b[0m\u001b[1;32m   1189\u001b[0m \u001b[0;34m\u001b[0m\u001b[0m\n\u001b[1;32m   1190\u001b[0m \u001b[0;34m\u001b[0m\u001b[0m\n",
      "\u001b[0;32m~/anaconda3/lib/python3.7/site-packages/sklearn/model_selection/_search.py\u001b[0m in \u001b[0;36mevaluate_candidates\u001b[0;34m(candidate_params)\u001b[0m\n\u001b[1;32m    713\u001b[0m                                \u001b[0;32mfor\u001b[0m \u001b[0mparameters\u001b[0m\u001b[0;34m,\u001b[0m \u001b[0;34m(\u001b[0m\u001b[0mtrain\u001b[0m\u001b[0;34m,\u001b[0m \u001b[0mtest\u001b[0m\u001b[0;34m)\u001b[0m\u001b[0;34m\u001b[0m\u001b[0;34m\u001b[0m\u001b[0m\n\u001b[1;32m    714\u001b[0m                                in product(candidate_params,\n\u001b[0;32m--> 715\u001b[0;31m                                           cv.split(X, y, groups)))\n\u001b[0m\u001b[1;32m    716\u001b[0m \u001b[0;34m\u001b[0m\u001b[0m\n\u001b[1;32m    717\u001b[0m                 \u001b[0;32mif\u001b[0m \u001b[0mlen\u001b[0m\u001b[0;34m(\u001b[0m\u001b[0mout\u001b[0m\u001b[0;34m)\u001b[0m \u001b[0;34m<\u001b[0m \u001b[0;36m1\u001b[0m\u001b[0;34m:\u001b[0m\u001b[0;34m\u001b[0m\u001b[0;34m\u001b[0m\u001b[0m\n",
      "\u001b[0;32m~/anaconda3/lib/python3.7/site-packages/joblib/parallel.py\u001b[0m in \u001b[0;36m__call__\u001b[0;34m(self, iterable)\u001b[0m\n\u001b[1;32m    922\u001b[0m                 \u001b[0mself\u001b[0m\u001b[0;34m.\u001b[0m\u001b[0m_iterating\u001b[0m \u001b[0;34m=\u001b[0m \u001b[0mself\u001b[0m\u001b[0;34m.\u001b[0m\u001b[0m_original_iterator\u001b[0m \u001b[0;32mis\u001b[0m \u001b[0;32mnot\u001b[0m \u001b[0;32mNone\u001b[0m\u001b[0;34m\u001b[0m\u001b[0;34m\u001b[0m\u001b[0m\n\u001b[1;32m    923\u001b[0m \u001b[0;34m\u001b[0m\u001b[0m\n\u001b[0;32m--> 924\u001b[0;31m             \u001b[0;32mwhile\u001b[0m \u001b[0mself\u001b[0m\u001b[0;34m.\u001b[0m\u001b[0mdispatch_one_batch\u001b[0m\u001b[0;34m(\u001b[0m\u001b[0miterator\u001b[0m\u001b[0;34m)\u001b[0m\u001b[0;34m:\u001b[0m\u001b[0;34m\u001b[0m\u001b[0;34m\u001b[0m\u001b[0m\n\u001b[0m\u001b[1;32m    925\u001b[0m                 \u001b[0;32mpass\u001b[0m\u001b[0;34m\u001b[0m\u001b[0;34m\u001b[0m\u001b[0m\n\u001b[1;32m    926\u001b[0m \u001b[0;34m\u001b[0m\u001b[0m\n",
      "\u001b[0;32m~/anaconda3/lib/python3.7/site-packages/joblib/parallel.py\u001b[0m in \u001b[0;36mdispatch_one_batch\u001b[0;34m(self, iterator)\u001b[0m\n\u001b[1;32m    757\u001b[0m                 \u001b[0;32mreturn\u001b[0m \u001b[0;32mFalse\u001b[0m\u001b[0;34m\u001b[0m\u001b[0;34m\u001b[0m\u001b[0m\n\u001b[1;32m    758\u001b[0m             \u001b[0;32melse\u001b[0m\u001b[0;34m:\u001b[0m\u001b[0;34m\u001b[0m\u001b[0;34m\u001b[0m\u001b[0m\n\u001b[0;32m--> 759\u001b[0;31m                 \u001b[0mself\u001b[0m\u001b[0;34m.\u001b[0m\u001b[0m_dispatch\u001b[0m\u001b[0;34m(\u001b[0m\u001b[0mtasks\u001b[0m\u001b[0;34m)\u001b[0m\u001b[0;34m\u001b[0m\u001b[0;34m\u001b[0m\u001b[0m\n\u001b[0m\u001b[1;32m    760\u001b[0m                 \u001b[0;32mreturn\u001b[0m \u001b[0;32mTrue\u001b[0m\u001b[0;34m\u001b[0m\u001b[0;34m\u001b[0m\u001b[0m\n\u001b[1;32m    761\u001b[0m \u001b[0;34m\u001b[0m\u001b[0m\n",
      "\u001b[0;32m~/anaconda3/lib/python3.7/site-packages/joblib/parallel.py\u001b[0m in \u001b[0;36m_dispatch\u001b[0;34m(self, batch)\u001b[0m\n\u001b[1;32m    714\u001b[0m         \u001b[0;32mwith\u001b[0m \u001b[0mself\u001b[0m\u001b[0;34m.\u001b[0m\u001b[0m_lock\u001b[0m\u001b[0;34m:\u001b[0m\u001b[0;34m\u001b[0m\u001b[0;34m\u001b[0m\u001b[0m\n\u001b[1;32m    715\u001b[0m             \u001b[0mjob_idx\u001b[0m \u001b[0;34m=\u001b[0m \u001b[0mlen\u001b[0m\u001b[0;34m(\u001b[0m\u001b[0mself\u001b[0m\u001b[0;34m.\u001b[0m\u001b[0m_jobs\u001b[0m\u001b[0;34m)\u001b[0m\u001b[0;34m\u001b[0m\u001b[0;34m\u001b[0m\u001b[0m\n\u001b[0;32m--> 716\u001b[0;31m             \u001b[0mjob\u001b[0m \u001b[0;34m=\u001b[0m \u001b[0mself\u001b[0m\u001b[0;34m.\u001b[0m\u001b[0m_backend\u001b[0m\u001b[0;34m.\u001b[0m\u001b[0mapply_async\u001b[0m\u001b[0;34m(\u001b[0m\u001b[0mbatch\u001b[0m\u001b[0;34m,\u001b[0m \u001b[0mcallback\u001b[0m\u001b[0;34m=\u001b[0m\u001b[0mcb\u001b[0m\u001b[0;34m)\u001b[0m\u001b[0;34m\u001b[0m\u001b[0;34m\u001b[0m\u001b[0m\n\u001b[0m\u001b[1;32m    717\u001b[0m             \u001b[0;31m# A job can complete so quickly than its callback is\u001b[0m\u001b[0;34m\u001b[0m\u001b[0;34m\u001b[0m\u001b[0;34m\u001b[0m\u001b[0m\n\u001b[1;32m    718\u001b[0m             \u001b[0;31m# called before we get here, causing self._jobs to\u001b[0m\u001b[0;34m\u001b[0m\u001b[0;34m\u001b[0m\u001b[0;34m\u001b[0m\u001b[0m\n",
      "\u001b[0;32m~/anaconda3/lib/python3.7/site-packages/joblib/_parallel_backends.py\u001b[0m in \u001b[0;36mapply_async\u001b[0;34m(self, func, callback)\u001b[0m\n\u001b[1;32m    180\u001b[0m     \u001b[0;32mdef\u001b[0m \u001b[0mapply_async\u001b[0m\u001b[0;34m(\u001b[0m\u001b[0mself\u001b[0m\u001b[0;34m,\u001b[0m \u001b[0mfunc\u001b[0m\u001b[0;34m,\u001b[0m \u001b[0mcallback\u001b[0m\u001b[0;34m=\u001b[0m\u001b[0;32mNone\u001b[0m\u001b[0;34m)\u001b[0m\u001b[0;34m:\u001b[0m\u001b[0;34m\u001b[0m\u001b[0;34m\u001b[0m\u001b[0m\n\u001b[1;32m    181\u001b[0m         \u001b[0;34m\"\"\"Schedule a func to be run\"\"\"\u001b[0m\u001b[0;34m\u001b[0m\u001b[0;34m\u001b[0m\u001b[0m\n\u001b[0;32m--> 182\u001b[0;31m         \u001b[0mresult\u001b[0m \u001b[0;34m=\u001b[0m \u001b[0mImmediateResult\u001b[0m\u001b[0;34m(\u001b[0m\u001b[0mfunc\u001b[0m\u001b[0;34m)\u001b[0m\u001b[0;34m\u001b[0m\u001b[0;34m\u001b[0m\u001b[0m\n\u001b[0m\u001b[1;32m    183\u001b[0m         \u001b[0;32mif\u001b[0m \u001b[0mcallback\u001b[0m\u001b[0;34m:\u001b[0m\u001b[0;34m\u001b[0m\u001b[0;34m\u001b[0m\u001b[0m\n\u001b[1;32m    184\u001b[0m             \u001b[0mcallback\u001b[0m\u001b[0;34m(\u001b[0m\u001b[0mresult\u001b[0m\u001b[0;34m)\u001b[0m\u001b[0;34m\u001b[0m\u001b[0;34m\u001b[0m\u001b[0m\n",
      "\u001b[0;32m~/anaconda3/lib/python3.7/site-packages/joblib/_parallel_backends.py\u001b[0m in \u001b[0;36m__init__\u001b[0;34m(self, batch)\u001b[0m\n\u001b[1;32m    547\u001b[0m         \u001b[0;31m# Don't delay the application, to avoid keeping the input\u001b[0m\u001b[0;34m\u001b[0m\u001b[0;34m\u001b[0m\u001b[0;34m\u001b[0m\u001b[0m\n\u001b[1;32m    548\u001b[0m         \u001b[0;31m# arguments in memory\u001b[0m\u001b[0;34m\u001b[0m\u001b[0;34m\u001b[0m\u001b[0;34m\u001b[0m\u001b[0m\n\u001b[0;32m--> 549\u001b[0;31m         \u001b[0mself\u001b[0m\u001b[0;34m.\u001b[0m\u001b[0mresults\u001b[0m \u001b[0;34m=\u001b[0m \u001b[0mbatch\u001b[0m\u001b[0;34m(\u001b[0m\u001b[0;34m)\u001b[0m\u001b[0;34m\u001b[0m\u001b[0;34m\u001b[0m\u001b[0m\n\u001b[0m\u001b[1;32m    550\u001b[0m \u001b[0;34m\u001b[0m\u001b[0m\n\u001b[1;32m    551\u001b[0m     \u001b[0;32mdef\u001b[0m \u001b[0mget\u001b[0m\u001b[0;34m(\u001b[0m\u001b[0mself\u001b[0m\u001b[0;34m)\u001b[0m\u001b[0;34m:\u001b[0m\u001b[0;34m\u001b[0m\u001b[0;34m\u001b[0m\u001b[0m\n",
      "\u001b[0;32m~/anaconda3/lib/python3.7/site-packages/joblib/parallel.py\u001b[0m in \u001b[0;36m__call__\u001b[0;34m(self)\u001b[0m\n\u001b[1;32m    223\u001b[0m         \u001b[0;32mwith\u001b[0m \u001b[0mparallel_backend\u001b[0m\u001b[0;34m(\u001b[0m\u001b[0mself\u001b[0m\u001b[0;34m.\u001b[0m\u001b[0m_backend\u001b[0m\u001b[0;34m,\u001b[0m \u001b[0mn_jobs\u001b[0m\u001b[0;34m=\u001b[0m\u001b[0mself\u001b[0m\u001b[0;34m.\u001b[0m\u001b[0m_n_jobs\u001b[0m\u001b[0;34m)\u001b[0m\u001b[0;34m:\u001b[0m\u001b[0;34m\u001b[0m\u001b[0;34m\u001b[0m\u001b[0m\n\u001b[1;32m    224\u001b[0m             return [func(*args, **kwargs)\n\u001b[0;32m--> 225\u001b[0;31m                     for func, args, kwargs in self.items]\n\u001b[0m\u001b[1;32m    226\u001b[0m \u001b[0;34m\u001b[0m\u001b[0m\n\u001b[1;32m    227\u001b[0m     \u001b[0;32mdef\u001b[0m \u001b[0m__len__\u001b[0m\u001b[0;34m(\u001b[0m\u001b[0mself\u001b[0m\u001b[0;34m)\u001b[0m\u001b[0;34m:\u001b[0m\u001b[0;34m\u001b[0m\u001b[0;34m\u001b[0m\u001b[0m\n",
      "\u001b[0;32m~/anaconda3/lib/python3.7/site-packages/joblib/parallel.py\u001b[0m in \u001b[0;36m<listcomp>\u001b[0;34m(.0)\u001b[0m\n\u001b[1;32m    223\u001b[0m         \u001b[0;32mwith\u001b[0m \u001b[0mparallel_backend\u001b[0m\u001b[0;34m(\u001b[0m\u001b[0mself\u001b[0m\u001b[0;34m.\u001b[0m\u001b[0m_backend\u001b[0m\u001b[0;34m,\u001b[0m \u001b[0mn_jobs\u001b[0m\u001b[0;34m=\u001b[0m\u001b[0mself\u001b[0m\u001b[0;34m.\u001b[0m\u001b[0m_n_jobs\u001b[0m\u001b[0;34m)\u001b[0m\u001b[0;34m:\u001b[0m\u001b[0;34m\u001b[0m\u001b[0;34m\u001b[0m\u001b[0m\n\u001b[1;32m    224\u001b[0m             return [func(*args, **kwargs)\n\u001b[0;32m--> 225\u001b[0;31m                     for func, args, kwargs in self.items]\n\u001b[0m\u001b[1;32m    226\u001b[0m \u001b[0;34m\u001b[0m\u001b[0m\n\u001b[1;32m    227\u001b[0m     \u001b[0;32mdef\u001b[0m \u001b[0m__len__\u001b[0m\u001b[0;34m(\u001b[0m\u001b[0mself\u001b[0m\u001b[0;34m)\u001b[0m\u001b[0;34m:\u001b[0m\u001b[0;34m\u001b[0m\u001b[0;34m\u001b[0m\u001b[0m\n",
      "\u001b[0;32m~/anaconda3/lib/python3.7/site-packages/sklearn/model_selection/_validation.py\u001b[0m in \u001b[0;36m_fit_and_score\u001b[0;34m(estimator, X, y, scorer, train, test, verbose, parameters, fit_params, return_train_score, return_parameters, return_n_test_samples, return_times, return_estimator, error_score)\u001b[0m\n\u001b[1;32m    529\u001b[0m             \u001b[0mestimator\u001b[0m\u001b[0;34m.\u001b[0m\u001b[0mfit\u001b[0m\u001b[0;34m(\u001b[0m\u001b[0mX_train\u001b[0m\u001b[0;34m,\u001b[0m \u001b[0;34m**\u001b[0m\u001b[0mfit_params\u001b[0m\u001b[0;34m)\u001b[0m\u001b[0;34m\u001b[0m\u001b[0;34m\u001b[0m\u001b[0m\n\u001b[1;32m    530\u001b[0m         \u001b[0;32melse\u001b[0m\u001b[0;34m:\u001b[0m\u001b[0;34m\u001b[0m\u001b[0;34m\u001b[0m\u001b[0m\n\u001b[0;32m--> 531\u001b[0;31m             \u001b[0mestimator\u001b[0m\u001b[0;34m.\u001b[0m\u001b[0mfit\u001b[0m\u001b[0;34m(\u001b[0m\u001b[0mX_train\u001b[0m\u001b[0;34m,\u001b[0m \u001b[0my_train\u001b[0m\u001b[0;34m,\u001b[0m \u001b[0;34m**\u001b[0m\u001b[0mfit_params\u001b[0m\u001b[0;34m)\u001b[0m\u001b[0;34m\u001b[0m\u001b[0;34m\u001b[0m\u001b[0m\n\u001b[0m\u001b[1;32m    532\u001b[0m \u001b[0;34m\u001b[0m\u001b[0m\n\u001b[1;32m    533\u001b[0m     \u001b[0;32mexcept\u001b[0m \u001b[0mException\u001b[0m \u001b[0;32mas\u001b[0m \u001b[0me\u001b[0m\u001b[0;34m:\u001b[0m\u001b[0;34m\u001b[0m\u001b[0;34m\u001b[0m\u001b[0m\n",
      "\u001b[0;32m~/anaconda3/lib/python3.7/site-packages/xgboost/sklearn.py\u001b[0m in \u001b[0;36mfit\u001b[0;34m(self, X, y, sample_weight, base_margin, eval_set, eval_metric, early_stopping_rounds, verbose, xgb_model, sample_weight_eval_set, callbacks)\u001b[0m\n\u001b[1;32m    810\u001b[0m                               \u001b[0mevals_result\u001b[0m\u001b[0;34m=\u001b[0m\u001b[0mevals_result\u001b[0m\u001b[0;34m,\u001b[0m \u001b[0mobj\u001b[0m\u001b[0;34m=\u001b[0m\u001b[0mobj\u001b[0m\u001b[0;34m,\u001b[0m \u001b[0mfeval\u001b[0m\u001b[0;34m=\u001b[0m\u001b[0mfeval\u001b[0m\u001b[0;34m,\u001b[0m\u001b[0;34m\u001b[0m\u001b[0;34m\u001b[0m\u001b[0m\n\u001b[1;32m    811\u001b[0m                               \u001b[0mverbose_eval\u001b[0m\u001b[0;34m=\u001b[0m\u001b[0mverbose\u001b[0m\u001b[0;34m,\u001b[0m \u001b[0mxgb_model\u001b[0m\u001b[0;34m=\u001b[0m\u001b[0mxgb_model\u001b[0m\u001b[0;34m,\u001b[0m\u001b[0;34m\u001b[0m\u001b[0;34m\u001b[0m\u001b[0m\n\u001b[0;32m--> 812\u001b[0;31m                               callbacks=callbacks)\n\u001b[0m\u001b[1;32m    813\u001b[0m \u001b[0;34m\u001b[0m\u001b[0m\n\u001b[1;32m    814\u001b[0m         \u001b[0mself\u001b[0m\u001b[0;34m.\u001b[0m\u001b[0mobjective\u001b[0m \u001b[0;34m=\u001b[0m \u001b[0mxgb_options\u001b[0m\u001b[0;34m[\u001b[0m\u001b[0;34m\"objective\"\u001b[0m\u001b[0;34m]\u001b[0m\u001b[0;34m\u001b[0m\u001b[0;34m\u001b[0m\u001b[0m\n",
      "\u001b[0;32m~/anaconda3/lib/python3.7/site-packages/xgboost/training.py\u001b[0m in \u001b[0;36mtrain\u001b[0;34m(params, dtrain, num_boost_round, evals, obj, feval, maximize, early_stopping_rounds, evals_result, verbose_eval, xgb_model, callbacks)\u001b[0m\n\u001b[1;32m    207\u001b[0m                            \u001b[0mevals\u001b[0m\u001b[0;34m=\u001b[0m\u001b[0mevals\u001b[0m\u001b[0;34m,\u001b[0m\u001b[0;34m\u001b[0m\u001b[0;34m\u001b[0m\u001b[0m\n\u001b[1;32m    208\u001b[0m                            \u001b[0mobj\u001b[0m\u001b[0;34m=\u001b[0m\u001b[0mobj\u001b[0m\u001b[0;34m,\u001b[0m \u001b[0mfeval\u001b[0m\u001b[0;34m=\u001b[0m\u001b[0mfeval\u001b[0m\u001b[0;34m,\u001b[0m\u001b[0;34m\u001b[0m\u001b[0;34m\u001b[0m\u001b[0m\n\u001b[0;32m--> 209\u001b[0;31m                            xgb_model=xgb_model, callbacks=callbacks)\n\u001b[0m\u001b[1;32m    210\u001b[0m \u001b[0;34m\u001b[0m\u001b[0m\n\u001b[1;32m    211\u001b[0m \u001b[0;34m\u001b[0m\u001b[0m\n",
      "\u001b[0;32m~/anaconda3/lib/python3.7/site-packages/xgboost/training.py\u001b[0m in \u001b[0;36m_train_internal\u001b[0;34m(params, dtrain, num_boost_round, evals, obj, feval, xgb_model, callbacks)\u001b[0m\n\u001b[1;32m     72\u001b[0m         \u001b[0;31m# Skip the first update if it is a recovery step.\u001b[0m\u001b[0;34m\u001b[0m\u001b[0;34m\u001b[0m\u001b[0;34m\u001b[0m\u001b[0m\n\u001b[1;32m     73\u001b[0m         \u001b[0;32mif\u001b[0m \u001b[0mversion\u001b[0m \u001b[0;34m%\u001b[0m \u001b[0;36m2\u001b[0m \u001b[0;34m==\u001b[0m \u001b[0;36m0\u001b[0m\u001b[0;34m:\u001b[0m\u001b[0;34m\u001b[0m\u001b[0;34m\u001b[0m\u001b[0m\n\u001b[0;32m---> 74\u001b[0;31m             \u001b[0mbst\u001b[0m\u001b[0;34m.\u001b[0m\u001b[0mupdate\u001b[0m\u001b[0;34m(\u001b[0m\u001b[0mdtrain\u001b[0m\u001b[0;34m,\u001b[0m \u001b[0mi\u001b[0m\u001b[0;34m,\u001b[0m \u001b[0mobj\u001b[0m\u001b[0;34m)\u001b[0m\u001b[0;34m\u001b[0m\u001b[0;34m\u001b[0m\u001b[0m\n\u001b[0m\u001b[1;32m     75\u001b[0m             \u001b[0mbst\u001b[0m\u001b[0;34m.\u001b[0m\u001b[0msave_rabit_checkpoint\u001b[0m\u001b[0;34m(\u001b[0m\u001b[0;34m)\u001b[0m\u001b[0;34m\u001b[0m\u001b[0;34m\u001b[0m\u001b[0m\n\u001b[1;32m     76\u001b[0m             \u001b[0mversion\u001b[0m \u001b[0;34m+=\u001b[0m \u001b[0;36m1\u001b[0m\u001b[0;34m\u001b[0m\u001b[0;34m\u001b[0m\u001b[0m\n",
      "\u001b[0;32m~/anaconda3/lib/python3.7/site-packages/xgboost/core.py\u001b[0m in \u001b[0;36mupdate\u001b[0;34m(self, dtrain, iteration, fobj)\u001b[0m\n\u001b[1;32m   1247\u001b[0m             _check_call(_LIB.XGBoosterUpdateOneIter(self.handle,\n\u001b[1;32m   1248\u001b[0m                                                     \u001b[0mctypes\u001b[0m\u001b[0;34m.\u001b[0m\u001b[0mc_int\u001b[0m\u001b[0;34m(\u001b[0m\u001b[0miteration\u001b[0m\u001b[0;34m)\u001b[0m\u001b[0;34m,\u001b[0m\u001b[0;34m\u001b[0m\u001b[0;34m\u001b[0m\u001b[0m\n\u001b[0;32m-> 1249\u001b[0;31m                                                     dtrain.handle))\n\u001b[0m\u001b[1;32m   1250\u001b[0m         \u001b[0;32melse\u001b[0m\u001b[0;34m:\u001b[0m\u001b[0;34m\u001b[0m\u001b[0;34m\u001b[0m\u001b[0m\n\u001b[1;32m   1251\u001b[0m             \u001b[0mpred\u001b[0m \u001b[0;34m=\u001b[0m \u001b[0mself\u001b[0m\u001b[0;34m.\u001b[0m\u001b[0mpredict\u001b[0m\u001b[0;34m(\u001b[0m\u001b[0mdtrain\u001b[0m\u001b[0;34m,\u001b[0m \u001b[0mtraining\u001b[0m\u001b[0;34m=\u001b[0m\u001b[0;32mTrue\u001b[0m\u001b[0;34m)\u001b[0m\u001b[0;34m\u001b[0m\u001b[0;34m\u001b[0m\u001b[0m\n",
      "\u001b[0;31mKeyboardInterrupt\u001b[0m: "
     ]
    }
   ],
   "source": [
    "# 开始设置一些参数的范围，开始网格搜索\n",
    "model = xgb.XGBClassifier(n_estimator = 100)\n",
    "grid = {\n",
    "    'max_depth' : range(3, 10),\n",
    "    'gamma' : [0,1,2],\n",
    "    'learning_rate' : [0.1, 0.2],\n",
    "    'min_child_weight': [1,2,3],\n",
    "    'colsample_bytree': [0.6, 0.7, 0.8],\n",
    "    'subsample' : [0.7, 1]\n",
    "}\n",
    "\n",
    "clf_grid = GridSearchCV(model, grid, cv = 10)\n",
    "clf_grid.fit(Xtrain, Ytrain,\n",
    "             early_stopping_rounds = 10,  # 设置什么时候停止\n",
    "             eval_metric = 'mlogloss',         # 评估指标为'merror'，或者mlogloss\n",
    "             eval_set = [(Xtest, Ytest)],  # 设置是在什么数据集上查看mlogloss是否持续增加\n",
    "             verbose = False\n",
    "            )\n",
    "# clf_grid.get_xgb_params()\n",
    "print(clf_grid.best_params_, clf_grid.best_score_)\n",
    "print(clf_grid.score(Xtrain, Ytrain), clf_grid.score(Xtest, Ytest))"
   ]
  },
  {
   "cell_type": "code",
   "execution_count": 199,
   "metadata": {},
   "outputs": [
    {
     "data": {
      "text/plain": [
       "(1.0, 0.9523809523809523)"
      ]
     },
     "execution_count": 199,
     "metadata": {},
     "output_type": "execute_result"
    }
   ],
   "source": [
    "# 设置多分类的参数，使用xgboost原生的包\n",
    "\n",
    "# 设置多分类问题的参数\n",
    "params = {\n",
    "    'objective' : 'multi:softmax',  #类似于sigmod,可以将多分类的预测值映射到0到1之间，通过softmax函数解决多分类问题\n",
    "    #'objective' : 'multi:softprob', #类似于predict_prob，给出每个样本在每个分类下的预测概率\n",
    "    'num_class' : 3,   # 必须告知字典，当前数据集里Y标签的种类有多少\n",
    "    'eval_metric' : ['merror', 'mlogloss'],\n",
    "    'eta' : 0.2,       # 学习率\n",
    "    'max_depth' : 4,   # 树的最大深度\n",
    "    'gamma' : 0,#后剪枝的过程,0到正无穷, 默认0，尝试0, 1，5，10，100\n",
    "    'min_child_weight':2,#叶子节点权重分数的下界\n",
    "    'colsample_bytree':0.6\n",
    "}\n",
    "\n",
    "watchlist = [(dtrain, 'train'),(dtest, 'test')]\n",
    "model = xgb.train(params, dtrain, 1000, \n",
    "                  watchlist, \n",
    "                  early_stopping_rounds = 10,\n",
    "                  verbose_eval = 0\n",
    "                 )\n",
    "accuracy_score(Ytrain, model.predict(dtrain)), accuracy_score(Ytest, model.predict(dtest))"
   ]
  },
  {
   "cell_type": "code",
   "execution_count": 241,
   "metadata": {},
   "outputs": [],
   "source": [
    "# 回归类问题\n",
    "\n",
    "from xgboost import XGBRegressor\n",
    "import warnings\n",
    "from sklearn.datasets import load_boston\n",
    "from sklearn.metrics import mean_squared_error as MSE, r2_score\n",
    "\n",
    "#导入数据并且切分数据集\n",
    "data = load_boston()\n",
    "X = data.data\n",
    "Y = data.target\n",
    "\n",
    "Xtrain, Xtest, Ytrain, Ytest = train_test_split(X, Y, test_size = 0.3\n",
    "                                                , random_state = 420\n",
    "                                               )\n",
    "dtrain = xgb.DMatrix(Xtrain, Ytrain)\n",
    "dtest = xgb.DMatrix(Xtest, Ytest)"
   ]
  },
  {
   "cell_type": "code",
   "execution_count": 231,
   "metadata": {},
   "outputs": [
    {
     "data": {
      "text/plain": [
       "(0.9999980988030761, 0.9050988954757183)"
      ]
     },
     "execution_count": 231,
     "metadata": {},
     "output_type": "execute_result"
    }
   ],
   "source": [
    "# 使用sklearnAPI实例化模型\n",
    "model = XGBRegressor(n_estimator = 100).fit(Xtrain, Ytrain)\n",
    "model.score(Xtrain, Ytrain), model.score(Xtest, Ytest)"
   ]
  },
  {
   "cell_type": "code",
   "execution_count": 232,
   "metadata": {},
   "outputs": [
    {
     "data": {
      "text/plain": [
       "(0.7279250285365977, 0.7550352352974805)"
      ]
     },
     "execution_count": 232,
     "metadata": {},
     "output_type": "execute_result"
    }
   ],
   "source": [
    "# 线性回归模型的结果\n",
    "from sklearn.linear_model import LinearRegression\n",
    "\n",
    "LR = LinearRegression().fit(Xtrain, Ytrain)\n",
    "LR.score(Xtrain, Ytrain), LR.score(Xtest, Ytest)"
   ]
  },
  {
   "cell_type": "code",
   "execution_count": 233,
   "metadata": {},
   "outputs": [
    {
     "data": {
      "text/plain": [
       "(0.9787439977029202, 0.8965561766664698)"
      ]
     },
     "execution_count": 233,
     "metadata": {},
     "output_type": "execute_result"
    }
   ],
   "source": [
    "# 和随机森林回归来比较\n",
    "from sklearn.ensemble import RandomForestRegressor\n",
    "rfr = RandomForestRegressor(n_estimators = 100).fit(Xtrain, Ytrain)\n",
    "rfr.score(Xtrain, Ytrain), rfr.score(Xtest, Ytest)"
   ]
  },
  {
   "cell_type": "code",
   "execution_count": 234,
   "metadata": {},
   "outputs": [],
   "source": [
    "# cv\n",
    "\n",
    "#print(cross_val_score(model, X, Y, cv = 10, scoring = 'r2'))\n",
    "#print(cross_val_score(rfr, X, Y, cv = 10, scoring = 'r2'))"
   ]
  },
  {
   "cell_type": "code",
   "execution_count": 242,
   "metadata": {},
   "outputs": [],
   "source": [
    "# 使用类DMatrix读取数据, 特征矩阵和标签进行一起传入\n",
    "\n",
    "# 并且这里也介绍一些新的参数 \n",
    "# colsample_bytree 列的随机采样\n",
    "# subsample bootstrap样本的有放回随机采样\n",
    "\n",
    "params = {\n",
    "    'objective':'reg:linear',#目标函数，线性回归\n",
    "    'subsample':1,   #训练样本的抽样比例 防止过拟合\n",
    "    'eta' : 0.3, #学习率     默认0.3，一般低于0.3\n",
    "    'gamma': 0, #后剪枝的过程    0到正无穷\n",
    "    'lambda':1, #控制模型复杂度的权重值的L2的正则化，参数越大，越不容易过拟合，默认1\n",
    "    'max_depth':5, #控制几分类器的深度，越大越过拟合， 默认6， 决策树里面默认5\n",
    "    'colsample_bytree':1, #生成树的列采样：无放回  默认1\n",
    "    'min_child_weight':1, #叶子节点权重分数的下界\n",
    "    'silent' : True, #不显示warning\n",
    "    'nthread': 4,   #CPU的线程数，分布并行处理\n",
    "    'eval_metric' : ['rmse'],\n",
    "}\n",
    "\n",
    "watchlist = [(dtrain, 'train'),(dtest, 'test')]\n",
    "\n",
    "#训练模型， 可以直接导入参数，训练数据，树的数量\n",
    "model = xgb.train(params, dtrain,\n",
    "                  num_boost_round = 200,\n",
    "                  evals = watchlist,\n",
    "                  early_stopping_rounds = 10,\n",
    "                  verbose_eval = 0   # 不打印中间结果\n",
    "               )"
   ]
  },
  {
   "cell_type": "code",
   "execution_count": 244,
   "metadata": {},
   "outputs": [
    {
     "name": "stdout",
     "output_type": "stream",
     "text": [
      "0.16423299316386236 10.043756983348942\n",
      "0.9979365342652348 0.8762796762908707\n"
     ]
    }
   ],
   "source": [
    "# 计算出MSE和r2分数\n",
    "print(MSE(model.predict(dtrain), Ytrain), \n",
    "      MSE(model.predict(dtest), Ytest))\n",
    "print(r2_score(model.predict(dtrain), Ytrain), \n",
    "      r2_score(model.predict(dtest), Ytest))"
   ]
  },
  {
   "cell_type": "code",
   "execution_count": 246,
   "metadata": {
    "collapsed": true,
    "jupyter": {
     "outputs_hidden": true
    }
   },
   "outputs": [
    {
     "ename": "KeyboardInterrupt",
     "evalue": "",
     "output_type": "error",
     "traceback": [
      "\u001b[0;31m---------------------------------------------------------------------------\u001b[0m",
      "\u001b[0;31mKeyboardInterrupt\u001b[0m                         Traceback (most recent call last)",
      "\u001b[0;32m<ipython-input-246-8d7f8dcd9748>\u001b[0m in \u001b[0;36m<module>\u001b[0;34m\u001b[0m\n\u001b[1;32m     16\u001b[0m               \u001b[0meval_metric\u001b[0m \u001b[0;34m=\u001b[0m \u001b[0;34m'rmse'\u001b[0m\u001b[0;34m,\u001b[0m         \u001b[0;31m# 评估指标为'rmse'\u001b[0m\u001b[0;34m\u001b[0m\u001b[0;34m\u001b[0m\u001b[0m\n\u001b[1;32m     17\u001b[0m               \u001b[0meval_set\u001b[0m \u001b[0;34m=\u001b[0m \u001b[0;34m[\u001b[0m\u001b[0;34m(\u001b[0m\u001b[0mXtest\u001b[0m\u001b[0;34m,\u001b[0m \u001b[0mYtest\u001b[0m\u001b[0;34m)\u001b[0m\u001b[0;34m]\u001b[0m\u001b[0;34m,\u001b[0m  \u001b[0;31m# 设置是在什么数据集上查看mlogloss是否持续增加\u001b[0m\u001b[0;34m\u001b[0m\u001b[0;34m\u001b[0m\u001b[0m\n\u001b[0;32m---> 18\u001b[0;31m               \u001b[0mverbose\u001b[0m \u001b[0;34m=\u001b[0m \u001b[0;36m0\u001b[0m                   \u001b[0;31m# 在测试集上测试，不打印中间结果\u001b[0m\u001b[0;34m\u001b[0m\u001b[0;34m\u001b[0m\u001b[0m\n\u001b[0m\u001b[1;32m     19\u001b[0m             )\n",
      "\u001b[0;32m~/anaconda3/lib/python3.7/site-packages/sklearn/utils/validation.py\u001b[0m in \u001b[0;36minner_f\u001b[0;34m(*args, **kwargs)\u001b[0m\n\u001b[1;32m     71\u001b[0m                           FutureWarning)\n\u001b[1;32m     72\u001b[0m         \u001b[0mkwargs\u001b[0m\u001b[0;34m.\u001b[0m\u001b[0mupdate\u001b[0m\u001b[0;34m(\u001b[0m\u001b[0;34m{\u001b[0m\u001b[0mk\u001b[0m\u001b[0;34m:\u001b[0m \u001b[0marg\u001b[0m \u001b[0;32mfor\u001b[0m \u001b[0mk\u001b[0m\u001b[0;34m,\u001b[0m \u001b[0marg\u001b[0m \u001b[0;32min\u001b[0m \u001b[0mzip\u001b[0m\u001b[0;34m(\u001b[0m\u001b[0msig\u001b[0m\u001b[0;34m.\u001b[0m\u001b[0mparameters\u001b[0m\u001b[0;34m,\u001b[0m \u001b[0margs\u001b[0m\u001b[0;34m)\u001b[0m\u001b[0;34m}\u001b[0m\u001b[0;34m)\u001b[0m\u001b[0;34m\u001b[0m\u001b[0;34m\u001b[0m\u001b[0m\n\u001b[0;32m---> 73\u001b[0;31m         \u001b[0;32mreturn\u001b[0m \u001b[0mf\u001b[0m\u001b[0;34m(\u001b[0m\u001b[0;34m**\u001b[0m\u001b[0mkwargs\u001b[0m\u001b[0;34m)\u001b[0m\u001b[0;34m\u001b[0m\u001b[0;34m\u001b[0m\u001b[0m\n\u001b[0m\u001b[1;32m     74\u001b[0m     \u001b[0;32mreturn\u001b[0m \u001b[0minner_f\u001b[0m\u001b[0;34m\u001b[0m\u001b[0;34m\u001b[0m\u001b[0m\n\u001b[1;32m     75\u001b[0m \u001b[0;34m\u001b[0m\u001b[0m\n",
      "\u001b[0;32m~/anaconda3/lib/python3.7/site-packages/sklearn/model_selection/_search.py\u001b[0m in \u001b[0;36mfit\u001b[0;34m(self, X, y, groups, **fit_params)\u001b[0m\n\u001b[1;32m    734\u001b[0m                 \u001b[0;32mreturn\u001b[0m \u001b[0mresults\u001b[0m\u001b[0;34m\u001b[0m\u001b[0;34m\u001b[0m\u001b[0m\n\u001b[1;32m    735\u001b[0m \u001b[0;34m\u001b[0m\u001b[0m\n\u001b[0;32m--> 736\u001b[0;31m             \u001b[0mself\u001b[0m\u001b[0;34m.\u001b[0m\u001b[0m_run_search\u001b[0m\u001b[0;34m(\u001b[0m\u001b[0mevaluate_candidates\u001b[0m\u001b[0;34m)\u001b[0m\u001b[0;34m\u001b[0m\u001b[0;34m\u001b[0m\u001b[0m\n\u001b[0m\u001b[1;32m    737\u001b[0m \u001b[0;34m\u001b[0m\u001b[0m\n\u001b[1;32m    738\u001b[0m         \u001b[0;31m# For multi-metric evaluation, store the best_index_, best_params_ and\u001b[0m\u001b[0;34m\u001b[0m\u001b[0;34m\u001b[0m\u001b[0;34m\u001b[0m\u001b[0m\n",
      "\u001b[0;32m~/anaconda3/lib/python3.7/site-packages/sklearn/model_selection/_search.py\u001b[0m in \u001b[0;36m_run_search\u001b[0;34m(self, evaluate_candidates)\u001b[0m\n\u001b[1;32m   1186\u001b[0m     \u001b[0;32mdef\u001b[0m \u001b[0m_run_search\u001b[0m\u001b[0;34m(\u001b[0m\u001b[0mself\u001b[0m\u001b[0;34m,\u001b[0m \u001b[0mevaluate_candidates\u001b[0m\u001b[0;34m)\u001b[0m\u001b[0;34m:\u001b[0m\u001b[0;34m\u001b[0m\u001b[0;34m\u001b[0m\u001b[0m\n\u001b[1;32m   1187\u001b[0m         \u001b[0;34m\"\"\"Search all candidates in param_grid\"\"\"\u001b[0m\u001b[0;34m\u001b[0m\u001b[0;34m\u001b[0m\u001b[0m\n\u001b[0;32m-> 1188\u001b[0;31m         \u001b[0mevaluate_candidates\u001b[0m\u001b[0;34m(\u001b[0m\u001b[0mParameterGrid\u001b[0m\u001b[0;34m(\u001b[0m\u001b[0mself\u001b[0m\u001b[0;34m.\u001b[0m\u001b[0mparam_grid\u001b[0m\u001b[0;34m)\u001b[0m\u001b[0;34m)\u001b[0m\u001b[0;34m\u001b[0m\u001b[0;34m\u001b[0m\u001b[0m\n\u001b[0m\u001b[1;32m   1189\u001b[0m \u001b[0;34m\u001b[0m\u001b[0m\n\u001b[1;32m   1190\u001b[0m \u001b[0;34m\u001b[0m\u001b[0m\n",
      "\u001b[0;32m~/anaconda3/lib/python3.7/site-packages/sklearn/model_selection/_search.py\u001b[0m in \u001b[0;36mevaluate_candidates\u001b[0;34m(candidate_params)\u001b[0m\n\u001b[1;32m    713\u001b[0m                                \u001b[0;32mfor\u001b[0m \u001b[0mparameters\u001b[0m\u001b[0;34m,\u001b[0m \u001b[0;34m(\u001b[0m\u001b[0mtrain\u001b[0m\u001b[0;34m,\u001b[0m \u001b[0mtest\u001b[0m\u001b[0;34m)\u001b[0m\u001b[0;34m\u001b[0m\u001b[0;34m\u001b[0m\u001b[0m\n\u001b[1;32m    714\u001b[0m                                in product(candidate_params,\n\u001b[0;32m--> 715\u001b[0;31m                                           cv.split(X, y, groups)))\n\u001b[0m\u001b[1;32m    716\u001b[0m \u001b[0;34m\u001b[0m\u001b[0m\n\u001b[1;32m    717\u001b[0m                 \u001b[0;32mif\u001b[0m \u001b[0mlen\u001b[0m\u001b[0;34m(\u001b[0m\u001b[0mout\u001b[0m\u001b[0;34m)\u001b[0m \u001b[0;34m<\u001b[0m \u001b[0;36m1\u001b[0m\u001b[0;34m:\u001b[0m\u001b[0;34m\u001b[0m\u001b[0;34m\u001b[0m\u001b[0m\n",
      "\u001b[0;32m~/anaconda3/lib/python3.7/site-packages/joblib/parallel.py\u001b[0m in \u001b[0;36m__call__\u001b[0;34m(self, iterable)\u001b[0m\n\u001b[1;32m    922\u001b[0m                 \u001b[0mself\u001b[0m\u001b[0;34m.\u001b[0m\u001b[0m_iterating\u001b[0m \u001b[0;34m=\u001b[0m \u001b[0mself\u001b[0m\u001b[0;34m.\u001b[0m\u001b[0m_original_iterator\u001b[0m \u001b[0;32mis\u001b[0m \u001b[0;32mnot\u001b[0m \u001b[0;32mNone\u001b[0m\u001b[0;34m\u001b[0m\u001b[0;34m\u001b[0m\u001b[0m\n\u001b[1;32m    923\u001b[0m \u001b[0;34m\u001b[0m\u001b[0m\n\u001b[0;32m--> 924\u001b[0;31m             \u001b[0;32mwhile\u001b[0m \u001b[0mself\u001b[0m\u001b[0;34m.\u001b[0m\u001b[0mdispatch_one_batch\u001b[0m\u001b[0;34m(\u001b[0m\u001b[0miterator\u001b[0m\u001b[0;34m)\u001b[0m\u001b[0;34m:\u001b[0m\u001b[0;34m\u001b[0m\u001b[0;34m\u001b[0m\u001b[0m\n\u001b[0m\u001b[1;32m    925\u001b[0m                 \u001b[0;32mpass\u001b[0m\u001b[0;34m\u001b[0m\u001b[0;34m\u001b[0m\u001b[0m\n\u001b[1;32m    926\u001b[0m \u001b[0;34m\u001b[0m\u001b[0m\n",
      "\u001b[0;32m~/anaconda3/lib/python3.7/site-packages/joblib/parallel.py\u001b[0m in \u001b[0;36mdispatch_one_batch\u001b[0;34m(self, iterator)\u001b[0m\n\u001b[1;32m    757\u001b[0m                 \u001b[0;32mreturn\u001b[0m \u001b[0;32mFalse\u001b[0m\u001b[0;34m\u001b[0m\u001b[0;34m\u001b[0m\u001b[0m\n\u001b[1;32m    758\u001b[0m             \u001b[0;32melse\u001b[0m\u001b[0;34m:\u001b[0m\u001b[0;34m\u001b[0m\u001b[0;34m\u001b[0m\u001b[0m\n\u001b[0;32m--> 759\u001b[0;31m                 \u001b[0mself\u001b[0m\u001b[0;34m.\u001b[0m\u001b[0m_dispatch\u001b[0m\u001b[0;34m(\u001b[0m\u001b[0mtasks\u001b[0m\u001b[0;34m)\u001b[0m\u001b[0;34m\u001b[0m\u001b[0;34m\u001b[0m\u001b[0m\n\u001b[0m\u001b[1;32m    760\u001b[0m                 \u001b[0;32mreturn\u001b[0m \u001b[0;32mTrue\u001b[0m\u001b[0;34m\u001b[0m\u001b[0;34m\u001b[0m\u001b[0m\n\u001b[1;32m    761\u001b[0m \u001b[0;34m\u001b[0m\u001b[0m\n",
      "\u001b[0;32m~/anaconda3/lib/python3.7/site-packages/joblib/parallel.py\u001b[0m in \u001b[0;36m_dispatch\u001b[0;34m(self, batch)\u001b[0m\n\u001b[1;32m    714\u001b[0m         \u001b[0;32mwith\u001b[0m \u001b[0mself\u001b[0m\u001b[0;34m.\u001b[0m\u001b[0m_lock\u001b[0m\u001b[0;34m:\u001b[0m\u001b[0;34m\u001b[0m\u001b[0;34m\u001b[0m\u001b[0m\n\u001b[1;32m    715\u001b[0m             \u001b[0mjob_idx\u001b[0m \u001b[0;34m=\u001b[0m \u001b[0mlen\u001b[0m\u001b[0;34m(\u001b[0m\u001b[0mself\u001b[0m\u001b[0;34m.\u001b[0m\u001b[0m_jobs\u001b[0m\u001b[0;34m)\u001b[0m\u001b[0;34m\u001b[0m\u001b[0;34m\u001b[0m\u001b[0m\n\u001b[0;32m--> 716\u001b[0;31m             \u001b[0mjob\u001b[0m \u001b[0;34m=\u001b[0m \u001b[0mself\u001b[0m\u001b[0;34m.\u001b[0m\u001b[0m_backend\u001b[0m\u001b[0;34m.\u001b[0m\u001b[0mapply_async\u001b[0m\u001b[0;34m(\u001b[0m\u001b[0mbatch\u001b[0m\u001b[0;34m,\u001b[0m \u001b[0mcallback\u001b[0m\u001b[0;34m=\u001b[0m\u001b[0mcb\u001b[0m\u001b[0;34m)\u001b[0m\u001b[0;34m\u001b[0m\u001b[0;34m\u001b[0m\u001b[0m\n\u001b[0m\u001b[1;32m    717\u001b[0m             \u001b[0;31m# A job can complete so quickly than its callback is\u001b[0m\u001b[0;34m\u001b[0m\u001b[0;34m\u001b[0m\u001b[0;34m\u001b[0m\u001b[0m\n\u001b[1;32m    718\u001b[0m             \u001b[0;31m# called before we get here, causing self._jobs to\u001b[0m\u001b[0;34m\u001b[0m\u001b[0;34m\u001b[0m\u001b[0;34m\u001b[0m\u001b[0m\n",
      "\u001b[0;32m~/anaconda3/lib/python3.7/site-packages/joblib/_parallel_backends.py\u001b[0m in \u001b[0;36mapply_async\u001b[0;34m(self, func, callback)\u001b[0m\n\u001b[1;32m    180\u001b[0m     \u001b[0;32mdef\u001b[0m \u001b[0mapply_async\u001b[0m\u001b[0;34m(\u001b[0m\u001b[0mself\u001b[0m\u001b[0;34m,\u001b[0m \u001b[0mfunc\u001b[0m\u001b[0;34m,\u001b[0m \u001b[0mcallback\u001b[0m\u001b[0;34m=\u001b[0m\u001b[0;32mNone\u001b[0m\u001b[0;34m)\u001b[0m\u001b[0;34m:\u001b[0m\u001b[0;34m\u001b[0m\u001b[0;34m\u001b[0m\u001b[0m\n\u001b[1;32m    181\u001b[0m         \u001b[0;34m\"\"\"Schedule a func to be run\"\"\"\u001b[0m\u001b[0;34m\u001b[0m\u001b[0;34m\u001b[0m\u001b[0m\n\u001b[0;32m--> 182\u001b[0;31m         \u001b[0mresult\u001b[0m \u001b[0;34m=\u001b[0m \u001b[0mImmediateResult\u001b[0m\u001b[0;34m(\u001b[0m\u001b[0mfunc\u001b[0m\u001b[0;34m)\u001b[0m\u001b[0;34m\u001b[0m\u001b[0;34m\u001b[0m\u001b[0m\n\u001b[0m\u001b[1;32m    183\u001b[0m         \u001b[0;32mif\u001b[0m \u001b[0mcallback\u001b[0m\u001b[0;34m:\u001b[0m\u001b[0;34m\u001b[0m\u001b[0;34m\u001b[0m\u001b[0m\n\u001b[1;32m    184\u001b[0m             \u001b[0mcallback\u001b[0m\u001b[0;34m(\u001b[0m\u001b[0mresult\u001b[0m\u001b[0;34m)\u001b[0m\u001b[0;34m\u001b[0m\u001b[0;34m\u001b[0m\u001b[0m\n",
      "\u001b[0;32m~/anaconda3/lib/python3.7/site-packages/joblib/_parallel_backends.py\u001b[0m in \u001b[0;36m__init__\u001b[0;34m(self, batch)\u001b[0m\n\u001b[1;32m    547\u001b[0m         \u001b[0;31m# Don't delay the application, to avoid keeping the input\u001b[0m\u001b[0;34m\u001b[0m\u001b[0;34m\u001b[0m\u001b[0;34m\u001b[0m\u001b[0m\n\u001b[1;32m    548\u001b[0m         \u001b[0;31m# arguments in memory\u001b[0m\u001b[0;34m\u001b[0m\u001b[0;34m\u001b[0m\u001b[0;34m\u001b[0m\u001b[0m\n\u001b[0;32m--> 549\u001b[0;31m         \u001b[0mself\u001b[0m\u001b[0;34m.\u001b[0m\u001b[0mresults\u001b[0m \u001b[0;34m=\u001b[0m \u001b[0mbatch\u001b[0m\u001b[0;34m(\u001b[0m\u001b[0;34m)\u001b[0m\u001b[0;34m\u001b[0m\u001b[0;34m\u001b[0m\u001b[0m\n\u001b[0m\u001b[1;32m    550\u001b[0m \u001b[0;34m\u001b[0m\u001b[0m\n\u001b[1;32m    551\u001b[0m     \u001b[0;32mdef\u001b[0m \u001b[0mget\u001b[0m\u001b[0;34m(\u001b[0m\u001b[0mself\u001b[0m\u001b[0;34m)\u001b[0m\u001b[0;34m:\u001b[0m\u001b[0;34m\u001b[0m\u001b[0;34m\u001b[0m\u001b[0m\n",
      "\u001b[0;32m~/anaconda3/lib/python3.7/site-packages/joblib/parallel.py\u001b[0m in \u001b[0;36m__call__\u001b[0;34m(self)\u001b[0m\n\u001b[1;32m    223\u001b[0m         \u001b[0;32mwith\u001b[0m \u001b[0mparallel_backend\u001b[0m\u001b[0;34m(\u001b[0m\u001b[0mself\u001b[0m\u001b[0;34m.\u001b[0m\u001b[0m_backend\u001b[0m\u001b[0;34m,\u001b[0m \u001b[0mn_jobs\u001b[0m\u001b[0;34m=\u001b[0m\u001b[0mself\u001b[0m\u001b[0;34m.\u001b[0m\u001b[0m_n_jobs\u001b[0m\u001b[0;34m)\u001b[0m\u001b[0;34m:\u001b[0m\u001b[0;34m\u001b[0m\u001b[0;34m\u001b[0m\u001b[0m\n\u001b[1;32m    224\u001b[0m             return [func(*args, **kwargs)\n\u001b[0;32m--> 225\u001b[0;31m                     for func, args, kwargs in self.items]\n\u001b[0m\u001b[1;32m    226\u001b[0m \u001b[0;34m\u001b[0m\u001b[0m\n\u001b[1;32m    227\u001b[0m     \u001b[0;32mdef\u001b[0m \u001b[0m__len__\u001b[0m\u001b[0;34m(\u001b[0m\u001b[0mself\u001b[0m\u001b[0;34m)\u001b[0m\u001b[0;34m:\u001b[0m\u001b[0;34m\u001b[0m\u001b[0;34m\u001b[0m\u001b[0m\n",
      "\u001b[0;32m~/anaconda3/lib/python3.7/site-packages/joblib/parallel.py\u001b[0m in \u001b[0;36m<listcomp>\u001b[0;34m(.0)\u001b[0m\n\u001b[1;32m    223\u001b[0m         \u001b[0;32mwith\u001b[0m \u001b[0mparallel_backend\u001b[0m\u001b[0;34m(\u001b[0m\u001b[0mself\u001b[0m\u001b[0;34m.\u001b[0m\u001b[0m_backend\u001b[0m\u001b[0;34m,\u001b[0m \u001b[0mn_jobs\u001b[0m\u001b[0;34m=\u001b[0m\u001b[0mself\u001b[0m\u001b[0;34m.\u001b[0m\u001b[0m_n_jobs\u001b[0m\u001b[0;34m)\u001b[0m\u001b[0;34m:\u001b[0m\u001b[0;34m\u001b[0m\u001b[0;34m\u001b[0m\u001b[0m\n\u001b[1;32m    224\u001b[0m             return [func(*args, **kwargs)\n\u001b[0;32m--> 225\u001b[0;31m                     for func, args, kwargs in self.items]\n\u001b[0m\u001b[1;32m    226\u001b[0m \u001b[0;34m\u001b[0m\u001b[0m\n\u001b[1;32m    227\u001b[0m     \u001b[0;32mdef\u001b[0m \u001b[0m__len__\u001b[0m\u001b[0;34m(\u001b[0m\u001b[0mself\u001b[0m\u001b[0;34m)\u001b[0m\u001b[0;34m:\u001b[0m\u001b[0;34m\u001b[0m\u001b[0;34m\u001b[0m\u001b[0m\n",
      "\u001b[0;32m~/anaconda3/lib/python3.7/site-packages/sklearn/model_selection/_validation.py\u001b[0m in \u001b[0;36m_fit_and_score\u001b[0;34m(estimator, X, y, scorer, train, test, verbose, parameters, fit_params, return_train_score, return_parameters, return_n_test_samples, return_times, return_estimator, error_score)\u001b[0m\n\u001b[1;32m    529\u001b[0m             \u001b[0mestimator\u001b[0m\u001b[0;34m.\u001b[0m\u001b[0mfit\u001b[0m\u001b[0;34m(\u001b[0m\u001b[0mX_train\u001b[0m\u001b[0;34m,\u001b[0m \u001b[0;34m**\u001b[0m\u001b[0mfit_params\u001b[0m\u001b[0;34m)\u001b[0m\u001b[0;34m\u001b[0m\u001b[0;34m\u001b[0m\u001b[0m\n\u001b[1;32m    530\u001b[0m         \u001b[0;32melse\u001b[0m\u001b[0;34m:\u001b[0m\u001b[0;34m\u001b[0m\u001b[0;34m\u001b[0m\u001b[0m\n\u001b[0;32m--> 531\u001b[0;31m             \u001b[0mestimator\u001b[0m\u001b[0;34m.\u001b[0m\u001b[0mfit\u001b[0m\u001b[0;34m(\u001b[0m\u001b[0mX_train\u001b[0m\u001b[0;34m,\u001b[0m \u001b[0my_train\u001b[0m\u001b[0;34m,\u001b[0m \u001b[0;34m**\u001b[0m\u001b[0mfit_params\u001b[0m\u001b[0;34m)\u001b[0m\u001b[0;34m\u001b[0m\u001b[0;34m\u001b[0m\u001b[0m\n\u001b[0m\u001b[1;32m    532\u001b[0m \u001b[0;34m\u001b[0m\u001b[0m\n\u001b[1;32m    533\u001b[0m     \u001b[0;32mexcept\u001b[0m \u001b[0mException\u001b[0m \u001b[0;32mas\u001b[0m \u001b[0me\u001b[0m\u001b[0;34m:\u001b[0m\u001b[0;34m\u001b[0m\u001b[0;34m\u001b[0m\u001b[0m\n",
      "\u001b[0;32m~/anaconda3/lib/python3.7/site-packages/xgboost/sklearn.py\u001b[0m in \u001b[0;36mfit\u001b[0;34m(self, X, y, sample_weight, base_margin, eval_set, eval_metric, early_stopping_rounds, verbose, xgb_model, sample_weight_eval_set, callbacks)\u001b[0m\n\u001b[1;32m    536\u001b[0m                               \u001b[0mevals_result\u001b[0m\u001b[0;34m=\u001b[0m\u001b[0mevals_result\u001b[0m\u001b[0;34m,\u001b[0m \u001b[0mobj\u001b[0m\u001b[0;34m=\u001b[0m\u001b[0mobj\u001b[0m\u001b[0;34m,\u001b[0m \u001b[0mfeval\u001b[0m\u001b[0;34m=\u001b[0m\u001b[0mfeval\u001b[0m\u001b[0;34m,\u001b[0m\u001b[0;34m\u001b[0m\u001b[0;34m\u001b[0m\u001b[0m\n\u001b[1;32m    537\u001b[0m                               \u001b[0mverbose_eval\u001b[0m\u001b[0;34m=\u001b[0m\u001b[0mverbose\u001b[0m\u001b[0;34m,\u001b[0m \u001b[0mxgb_model\u001b[0m\u001b[0;34m=\u001b[0m\u001b[0mxgb_model\u001b[0m\u001b[0;34m,\u001b[0m\u001b[0;34m\u001b[0m\u001b[0;34m\u001b[0m\u001b[0m\n\u001b[0;32m--> 538\u001b[0;31m                               callbacks=callbacks)\n\u001b[0m\u001b[1;32m    539\u001b[0m \u001b[0;34m\u001b[0m\u001b[0m\n\u001b[1;32m    540\u001b[0m         \u001b[0;32mif\u001b[0m \u001b[0mevals_result\u001b[0m\u001b[0;34m:\u001b[0m\u001b[0;34m\u001b[0m\u001b[0;34m\u001b[0m\u001b[0m\n",
      "\u001b[0;32m~/anaconda3/lib/python3.7/site-packages/xgboost/training.py\u001b[0m in \u001b[0;36mtrain\u001b[0;34m(params, dtrain, num_boost_round, evals, obj, feval, maximize, early_stopping_rounds, evals_result, verbose_eval, xgb_model, callbacks)\u001b[0m\n\u001b[1;32m    207\u001b[0m                            \u001b[0mevals\u001b[0m\u001b[0;34m=\u001b[0m\u001b[0mevals\u001b[0m\u001b[0;34m,\u001b[0m\u001b[0;34m\u001b[0m\u001b[0;34m\u001b[0m\u001b[0m\n\u001b[1;32m    208\u001b[0m                            \u001b[0mobj\u001b[0m\u001b[0;34m=\u001b[0m\u001b[0mobj\u001b[0m\u001b[0;34m,\u001b[0m \u001b[0mfeval\u001b[0m\u001b[0;34m=\u001b[0m\u001b[0mfeval\u001b[0m\u001b[0;34m,\u001b[0m\u001b[0;34m\u001b[0m\u001b[0;34m\u001b[0m\u001b[0m\n\u001b[0;32m--> 209\u001b[0;31m                            xgb_model=xgb_model, callbacks=callbacks)\n\u001b[0m\u001b[1;32m    210\u001b[0m \u001b[0;34m\u001b[0m\u001b[0m\n\u001b[1;32m    211\u001b[0m \u001b[0;34m\u001b[0m\u001b[0m\n",
      "\u001b[0;32m~/anaconda3/lib/python3.7/site-packages/xgboost/training.py\u001b[0m in \u001b[0;36m_train_internal\u001b[0;34m(params, dtrain, num_boost_round, evals, obj, feval, xgb_model, callbacks)\u001b[0m\n\u001b[1;32m     82\u001b[0m         \u001b[0;31m# check evaluation result.\u001b[0m\u001b[0;34m\u001b[0m\u001b[0;34m\u001b[0m\u001b[0;34m\u001b[0m\u001b[0m\n\u001b[1;32m     83\u001b[0m         \u001b[0;32mif\u001b[0m \u001b[0mevals\u001b[0m\u001b[0;34m:\u001b[0m\u001b[0;34m\u001b[0m\u001b[0;34m\u001b[0m\u001b[0m\n\u001b[0;32m---> 84\u001b[0;31m             \u001b[0mbst_eval_set\u001b[0m \u001b[0;34m=\u001b[0m \u001b[0mbst\u001b[0m\u001b[0;34m.\u001b[0m\u001b[0meval_set\u001b[0m\u001b[0;34m(\u001b[0m\u001b[0mevals\u001b[0m\u001b[0;34m,\u001b[0m \u001b[0mi\u001b[0m\u001b[0;34m,\u001b[0m \u001b[0mfeval\u001b[0m\u001b[0;34m)\u001b[0m\u001b[0;34m\u001b[0m\u001b[0;34m\u001b[0m\u001b[0m\n\u001b[0m\u001b[1;32m     85\u001b[0m             \u001b[0;32mif\u001b[0m \u001b[0misinstance\u001b[0m\u001b[0;34m(\u001b[0m\u001b[0mbst_eval_set\u001b[0m\u001b[0;34m,\u001b[0m \u001b[0mSTRING_TYPES\u001b[0m\u001b[0;34m)\u001b[0m\u001b[0;34m:\u001b[0m\u001b[0;34m\u001b[0m\u001b[0;34m\u001b[0m\u001b[0m\n\u001b[1;32m     86\u001b[0m                 \u001b[0mmsg\u001b[0m \u001b[0;34m=\u001b[0m \u001b[0mbst_eval_set\u001b[0m\u001b[0;34m\u001b[0m\u001b[0;34m\u001b[0m\u001b[0m\n",
      "\u001b[0;32m~/anaconda3/lib/python3.7/site-packages/xgboost/core.py\u001b[0m in \u001b[0;36meval_set\u001b[0;34m(self, evals, iteration, feval)\u001b[0m\n\u001b[1;32m   1298\u001b[0m         \"\"\"\n\u001b[1;32m   1299\u001b[0m         \u001b[0;32mfor\u001b[0m \u001b[0md\u001b[0m \u001b[0;32min\u001b[0m \u001b[0mevals\u001b[0m\u001b[0;34m:\u001b[0m\u001b[0;34m\u001b[0m\u001b[0;34m\u001b[0m\u001b[0m\n\u001b[0;32m-> 1300\u001b[0;31m             \u001b[0;32mif\u001b[0m \u001b[0;32mnot\u001b[0m \u001b[0misinstance\u001b[0m\u001b[0;34m(\u001b[0m\u001b[0md\u001b[0m\u001b[0;34m[\u001b[0m\u001b[0;36m0\u001b[0m\u001b[0;34m]\u001b[0m\u001b[0;34m,\u001b[0m \u001b[0mDMatrix\u001b[0m\u001b[0;34m)\u001b[0m\u001b[0;34m:\u001b[0m\u001b[0;34m\u001b[0m\u001b[0;34m\u001b[0m\u001b[0m\n\u001b[0m\u001b[1;32m   1301\u001b[0m                 raise TypeError('expected DMatrix, got {}'.format(\n\u001b[1;32m   1302\u001b[0m                     type(d[0]).__name__))\n",
      "\u001b[0;31mKeyboardInterrupt\u001b[0m: "
     ]
    }
   ],
   "source": [
    "# 尝试使用网格搜索的方式来找最优参数\n",
    "model = xgb.XGBRegressor(n_estimators = 100)\n",
    "grid = {\n",
    "    'max_depth' : range(3, 10),\n",
    "    'gamma' : [0, 1, 2],\n",
    "    'lambda' : [0, 1],\n",
    "    'learning_rate' : [0.05, 0.1, 0.2],\n",
    "    'min_child_weight': [1,2,3,4],\n",
    "    'colsample_bytree': [0.6, 0.7, 0.8, 0.9, 1],\n",
    "    'subsample' : [0.7, 1],\n",
    "}\n",
    "\n",
    "clf_grid = GridSearchCV(model, grid, cv = 5, verbose = 0)\n",
    "clf_grid.fit(Xtrain, Ytrain,\n",
    "              early_stopping_rounds = 10,  # 设置什么时候停止\n",
    "              eval_metric = 'rmse',         # 评估指标为'rmse'\n",
    "              eval_set = [(Xtest, Ytest)],  # 设置是在什么数据集上查看mlogloss是否持续增加\n",
    "              verbose = 0                   # 在测试集上测试，不打印中间结果\n",
    "            )"
   ]
  },
  {
   "cell_type": "code",
   "execution_count": 247,
   "metadata": {},
   "outputs": [
    {
     "name": "stdout",
     "output_type": "stream",
     "text": [
      "0.003490252131971029 7.201718445748189\n",
      "0.9999566788470385 0.9100805422908598\n"
     ]
    }
   ],
   "source": [
    "# 将最优的参数放入在原生的包里面查看最后的结果\n",
    "params = {\n",
    "    'obj':'reg:linear',#目标函数，线性回归\n",
    "    'subsample': 0.7,   #训练样本的抽样比例 防止过拟合\n",
    "    'eta' : 0.2, #学习率     默认0.3，一般低于0.3\n",
    "    'gamma': 0, #后剪枝的过程    0到正无穷\n",
    "    'lambda': 1, #控制模型复杂度的权重值的L2的正则化，参数越大，越不容易过拟合，默认1\n",
    "    'max_depth': 9 , #控制几分类器的深度，越大越过拟合， 默认6， 决策树里面默认5\n",
    "    'colsample_bytree': 0.8, #生成树的列采样：无放回  默认1\n",
    "    'min_child_weight': 3, #叶子节点权重分数的下界\n",
    "    'silent' : True, #不显示warning\n",
    "    'nthread': 4,   #CPU的线程数，分布并行处理\n",
    "    'eval_metric' : ['rmse'],\n",
    "}\n",
    "\n",
    "watchlist = [(dtrain, 'train'),(dtest, 'test')]\n",
    "\n",
    "#训练模型， 可以直接导入参数，训练数据，树的数量\n",
    "model = xgb.train(params, dtrain,\n",
    "                  num_boost_round = 200,\n",
    "                  evals = watchlist,\n",
    "                  early_stopping_rounds = 10,\n",
    "                  verbose_eval = 0   # 不打印中间结果\n",
    "               )\n",
    "\n",
    "print(MSE(model.predict(dtrain), Ytrain), \n",
    "      MSE(model.predict(dtest), Ytest))\n",
    "print(r2_score(model.predict(dtrain), Ytrain), \n",
    "      r2_score(model.predict(dtest), Ytest))"
   ]
  },
  {
   "cell_type": "code",
   "execution_count": 250,
   "metadata": {
    "collapsed": true,
    "jupyter": {
     "outputs_hidden": true
    }
   },
   "outputs": [
    {
     "name": "stdout",
     "output_type": "stream",
     "text": [
      "[0]\ttrain-rmse:19.39227\ttest-rmse:19.58110\ttrain-neg_R2:0.00000\ttest-neg_R2:0.00000\n",
      "Multiple eval metrics have been passed: 'test-neg_R2' will be used for early stopping.\n",
      "\n",
      "Will train until test-neg_R2 hasn't improved in 10 rounds.\n",
      "[1]\ttrain-rmse:15.85924\ttest-rmse:16.06085\ttrain-neg_R2:0.00000\ttest-neg_R2:0.00000\n",
      "[2]\ttrain-rmse:12.98272\ttest-rmse:13.26369\ttrain-neg_R2:0.00000\ttest-neg_R2:0.00000\n",
      "[3]\ttrain-rmse:10.74015\ttest-rmse:11.02725\ttrain-neg_R2:0.00000\ttest-neg_R2:0.00000\n",
      "[4]\ttrain-rmse:8.90078\ttest-rmse:9.15851\ttrain-neg_R2:0.00000\ttest-neg_R2:0.00000\n",
      "[5]\ttrain-rmse:7.40606\ttest-rmse:7.70993\ttrain-neg_R2:0.00000\ttest-neg_R2:0.00000\n",
      "[6]\ttrain-rmse:6.21048\ttest-rmse:6.60312\ttrain-neg_R2:0.00000\ttest-neg_R2:0.00000\n",
      "[7]\ttrain-rmse:5.26776\ttest-rmse:5.70950\ttrain-neg_R2:-0.30493\ttest-neg_R2:-0.23057\n",
      "[8]\ttrain-rmse:4.49972\ttest-rmse:5.04421\ttrain-neg_R2:-0.54810\ttest-neg_R2:-0.46284\n",
      "[9]\ttrain-rmse:3.90965\ttest-rmse:4.55572\ttrain-neg_R2:-0.68542\ttest-neg_R2:-0.59319\n",
      "[10]\ttrain-rmse:3.35695\ttest-rmse:4.15113\ttrain-neg_R2:-0.78611\ttest-neg_R2:-0.68667\n",
      "[11]\ttrain-rmse:2.93639\ttest-rmse:3.88394\ttrain-neg_R2:-0.84559\ttest-neg_R2:-0.73733\n",
      "[12]\ttrain-rmse:2.56318\ttest-rmse:3.67970\ttrain-neg_R2:-0.88895\ttest-neg_R2:-0.77541\n",
      "[13]\ttrain-rmse:2.26162\ttest-rmse:3.51547\ttrain-neg_R2:-0.91736\ttest-neg_R2:-0.80258\n",
      "[14]\ttrain-rmse:2.01217\ttest-rmse:3.37097\ttrain-neg_R2:-0.93713\ttest-neg_R2:-0.82412\n",
      "[15]\ttrain-rmse:1.82180\ttest-rmse:3.22890\ttrain-neg_R2:-0.94999\ttest-neg_R2:-0.84400\n",
      "[16]\ttrain-rmse:1.67229\ttest-rmse:3.11346\ttrain-neg_R2:-0.95865\ttest-neg_R2:-0.85812\n",
      "[17]\ttrain-rmse:1.53641\ttest-rmse:3.04439\ttrain-neg_R2:-0.96578\ttest-neg_R2:-0.86715\n",
      "[18]\ttrain-rmse:1.44385\ttest-rmse:2.99510\ttrain-neg_R2:-0.97024\ttest-neg_R2:-0.87356\n",
      "[19]\ttrain-rmse:1.33362\ttest-rmse:2.90089\ttrain-neg_R2:-0.97506\ttest-neg_R2:-0.88401\n",
      "[20]\ttrain-rmse:1.26078\ttest-rmse:2.86968\ttrain-neg_R2:-0.97797\ttest-neg_R2:-0.88785\n",
      "[21]\ttrain-rmse:1.18800\ttest-rmse:2.87006\ttrain-neg_R2:-0.98065\ttest-neg_R2:-0.88903\n",
      "[22]\ttrain-rmse:1.12794\ttest-rmse:2.85491\ttrain-neg_R2:-0.98274\ttest-neg_R2:-0.89134\n",
      "[23]\ttrain-rmse:1.06538\ttest-rmse:2.87193\ttrain-neg_R2:-0.98469\ttest-neg_R2:-0.88979\n",
      "[24]\ttrain-rmse:1.01388\ttest-rmse:2.87539\ttrain-neg_R2:-0.98625\ttest-neg_R2:-0.89039\n",
      "[25]\ttrain-rmse:0.94603\ttest-rmse:2.86882\ttrain-neg_R2:-0.98812\ttest-neg_R2:-0.89179\n",
      "[26]\ttrain-rmse:0.90063\ttest-rmse:2.84185\ttrain-neg_R2:-0.98928\ttest-neg_R2:-0.89393\n",
      "[27]\ttrain-rmse:0.85444\ttest-rmse:2.82956\ttrain-neg_R2:-0.99040\ttest-neg_R2:-0.89512\n",
      "[28]\ttrain-rmse:0.81120\ttest-rmse:2.82417\ttrain-neg_R2:-0.99140\ttest-neg_R2:-0.89635\n",
      "[29]\ttrain-rmse:0.77080\ttest-rmse:2.81919\ttrain-neg_R2:-0.99227\ttest-neg_R2:-0.89754\n",
      "[30]\ttrain-rmse:0.74263\ttest-rmse:2.79039\ttrain-neg_R2:-0.99285\ttest-neg_R2:-0.89987\n",
      "[31]\ttrain-rmse:0.68575\ttest-rmse:2.77088\ttrain-neg_R2:-0.99395\ttest-neg_R2:-0.90177\n",
      "[32]\ttrain-rmse:0.65828\ttest-rmse:2.77257\ttrain-neg_R2:-0.99444\ttest-neg_R2:-0.90187\n",
      "[33]\ttrain-rmse:0.63073\ttest-rmse:2.76304\ttrain-neg_R2:-0.99490\ttest-neg_R2:-0.90307\n",
      "[34]\ttrain-rmse:0.60432\ttest-rmse:2.75495\ttrain-neg_R2:-0.99533\ttest-neg_R2:-0.90384\n",
      "[35]\ttrain-rmse:0.58792\ttest-rmse:2.75564\ttrain-neg_R2:-0.99559\ttest-neg_R2:-0.90402\n",
      "[36]\ttrain-rmse:0.55843\ttest-rmse:2.75040\ttrain-neg_R2:-0.99603\ttest-neg_R2:-0.90467\n",
      "[37]\ttrain-rmse:0.52938\ttest-rmse:2.75496\ttrain-neg_R2:-0.99644\ttest-neg_R2:-0.90428\n",
      "[38]\ttrain-rmse:0.51716\ttest-rmse:2.76170\ttrain-neg_R2:-0.99660\ttest-neg_R2:-0.90375\n",
      "[39]\ttrain-rmse:0.49720\ttest-rmse:2.75830\ttrain-neg_R2:-0.99686\ttest-neg_R2:-0.90399\n",
      "[40]\ttrain-rmse:0.48550\ttest-rmse:2.75103\ttrain-neg_R2:-0.99702\ttest-neg_R2:-0.90491\n",
      "[41]\ttrain-rmse:0.47539\ttest-rmse:2.74801\ttrain-neg_R2:-0.99715\ttest-neg_R2:-0.90546\n",
      "[42]\ttrain-rmse:0.46302\ttest-rmse:2.74618\ttrain-neg_R2:-0.99730\ttest-neg_R2:-0.90583\n",
      "[43]\ttrain-rmse:0.44744\ttest-rmse:2.73572\ttrain-neg_R2:-0.99748\ttest-neg_R2:-0.90665\n",
      "[44]\ttrain-rmse:0.42634\ttest-rmse:2.73291\ttrain-neg_R2:-0.99772\ttest-neg_R2:-0.90663\n",
      "[45]\ttrain-rmse:0.40236\ttest-rmse:2.73267\ttrain-neg_R2:-0.99796\ttest-neg_R2:-0.90660\n",
      "[46]\ttrain-rmse:0.38698\ttest-rmse:2.73211\ttrain-neg_R2:-0.99812\ttest-neg_R2:-0.90653\n",
      "[47]\ttrain-rmse:0.37618\ttest-rmse:2.72870\ttrain-neg_R2:-0.99822\ttest-neg_R2:-0.90679\n",
      "[48]\ttrain-rmse:0.35607\ttest-rmse:2.72604\ttrain-neg_R2:-0.99841\ttest-neg_R2:-0.90700\n",
      "[49]\ttrain-rmse:0.34369\ttest-rmse:2.72005\ttrain-neg_R2:-0.99852\ttest-neg_R2:-0.90743\n",
      "[50]\ttrain-rmse:0.33299\ttest-rmse:2.72170\ttrain-neg_R2:-0.99861\ttest-neg_R2:-0.90728\n",
      "[51]\ttrain-rmse:0.31614\ttest-rmse:2.72340\ttrain-neg_R2:-0.99875\ttest-neg_R2:-0.90713\n",
      "[52]\ttrain-rmse:0.30867\ttest-rmse:2.72383\ttrain-neg_R2:-0.99881\ttest-neg_R2:-0.90702\n",
      "[53]\ttrain-rmse:0.29917\ttest-rmse:2.72228\ttrain-neg_R2:-0.99888\ttest-neg_R2:-0.90707\n",
      "[54]\ttrain-rmse:0.28854\ttest-rmse:2.71692\ttrain-neg_R2:-0.99896\ttest-neg_R2:-0.90761\n",
      "[55]\ttrain-rmse:0.27897\ttest-rmse:2.71271\ttrain-neg_R2:-0.99903\ttest-neg_R2:-0.90793\n",
      "[56]\ttrain-rmse:0.26889\ttest-rmse:2.71642\ttrain-neg_R2:-0.99909\ttest-neg_R2:-0.90744\n",
      "[57]\ttrain-rmse:0.25840\ttest-rmse:2.71347\ttrain-neg_R2:-0.99916\ttest-neg_R2:-0.90764\n",
      "[58]\ttrain-rmse:0.25260\ttest-rmse:2.71756\ttrain-neg_R2:-0.99920\ttest-neg_R2:-0.90744\n",
      "[59]\ttrain-rmse:0.24385\ttest-rmse:2.71412\ttrain-neg_R2:-0.99926\ttest-neg_R2:-0.90761\n",
      "[60]\ttrain-rmse:0.23646\ttest-rmse:2.71458\ttrain-neg_R2:-0.99930\ttest-neg_R2:-0.90769\n",
      "[61]\ttrain-rmse:0.22416\ttest-rmse:2.71247\ttrain-neg_R2:-0.99937\ttest-neg_R2:-0.90775\n",
      "[62]\ttrain-rmse:0.21622\ttest-rmse:2.70611\ttrain-neg_R2:-0.99942\ttest-neg_R2:-0.90825\n",
      "[63]\ttrain-rmse:0.20983\ttest-rmse:2.70461\ttrain-neg_R2:-0.99945\ttest-neg_R2:-0.90836\n",
      "[64]\ttrain-rmse:0.19908\ttest-rmse:2.70256\ttrain-neg_R2:-0.99950\ttest-neg_R2:-0.90845\n",
      "[65]\ttrain-rmse:0.18740\ttest-rmse:2.69955\ttrain-neg_R2:-0.99956\ttest-neg_R2:-0.90864\n",
      "[66]\ttrain-rmse:0.18213\ttest-rmse:2.70093\ttrain-neg_R2:-0.99959\ttest-neg_R2:-0.90857\n",
      "[67]\ttrain-rmse:0.17473\ttest-rmse:2.70103\ttrain-neg_R2:-0.99962\ttest-neg_R2:-0.90857\n",
      "[68]\ttrain-rmse:0.17141\ttest-rmse:2.70158\ttrain-neg_R2:-0.99963\ttest-neg_R2:-0.90857\n",
      "[69]\ttrain-rmse:0.16608\ttest-rmse:2.69691\ttrain-neg_R2:-0.99966\ttest-neg_R2:-0.90888\n",
      "[70]\ttrain-rmse:0.15879\ttest-rmse:2.69733\ttrain-neg_R2:-0.99969\ttest-neg_R2:-0.90892\n",
      "[71]\ttrain-rmse:0.15474\ttest-rmse:2.69658\ttrain-neg_R2:-0.99970\ttest-neg_R2:-0.90898\n",
      "[72]\ttrain-rmse:0.15086\ttest-rmse:2.69618\ttrain-neg_R2:-0.99972\ttest-neg_R2:-0.90900\n",
      "[73]\ttrain-rmse:0.14690\ttest-rmse:2.69413\ttrain-neg_R2:-0.99973\ttest-neg_R2:-0.90919\n",
      "[74]\ttrain-rmse:0.14093\ttest-rmse:2.69456\ttrain-neg_R2:-0.99975\ttest-neg_R2:-0.90917\n",
      "[75]\ttrain-rmse:0.13498\ttest-rmse:2.69623\ttrain-neg_R2:-0.99977\ttest-neg_R2:-0.90905\n",
      "[76]\ttrain-rmse:0.13219\ttest-rmse:2.69351\ttrain-neg_R2:-0.99978\ttest-neg_R2:-0.90924\n",
      "[77]\ttrain-rmse:0.12726\ttest-rmse:2.69379\ttrain-neg_R2:-0.99980\ttest-neg_R2:-0.90924\n",
      "[78]\ttrain-rmse:0.12458\ttest-rmse:2.69395\ttrain-neg_R2:-0.99981\ttest-neg_R2:-0.90920\n",
      "[79]\ttrain-rmse:0.12207\ttest-rmse:2.69447\ttrain-neg_R2:-0.99982\ttest-neg_R2:-0.90916\n",
      "[80]\ttrain-rmse:0.11741\ttest-rmse:2.69246\ttrain-neg_R2:-0.99983\ttest-neg_R2:-0.90934\n",
      "[81]\ttrain-rmse:0.11446\ttest-rmse:2.69124\ttrain-neg_R2:-0.99984\ttest-neg_R2:-0.90940\n",
      "[82]\ttrain-rmse:0.11256\ttest-rmse:2.69144\ttrain-neg_R2:-0.99984\ttest-neg_R2:-0.90936\n",
      "[83]\ttrain-rmse:0.10859\ttest-rmse:2.69151\ttrain-neg_R2:-0.99985\ttest-neg_R2:-0.90941\n",
      "[84]\ttrain-rmse:0.10444\ttest-rmse:2.68737\ttrain-neg_R2:-0.99986\ttest-neg_R2:-0.90966\n",
      "[85]\ttrain-rmse:0.10248\ttest-rmse:2.68698\ttrain-neg_R2:-0.99987\ttest-neg_R2:-0.90969\n",
      "[86]\ttrain-rmse:0.09915\ttest-rmse:2.68647\ttrain-neg_R2:-0.99988\ttest-neg_R2:-0.90980\n",
      "[87]\ttrain-rmse:0.09680\ttest-rmse:2.68680\ttrain-neg_R2:-0.99988\ttest-neg_R2:-0.90977\n",
      "[88]\ttrain-rmse:0.09484\ttest-rmse:2.68723\ttrain-neg_R2:-0.99989\ttest-neg_R2:-0.90978\n",
      "[89]\ttrain-rmse:0.09322\ttest-rmse:2.68921\ttrain-neg_R2:-0.99989\ttest-neg_R2:-0.90961\n",
      "[90]\ttrain-rmse:0.09111\ttest-rmse:2.68962\ttrain-neg_R2:-0.99990\ttest-neg_R2:-0.90958\n",
      "[91]\ttrain-rmse:0.08890\ttest-rmse:2.68866\ttrain-neg_R2:-0.99990\ttest-neg_R2:-0.90961\n",
      "[92]\ttrain-rmse:0.08719\ttest-rmse:2.68878\ttrain-neg_R2:-0.99991\ttest-neg_R2:-0.90961\n",
      "[93]\ttrain-rmse:0.08344\ttest-rmse:2.68705\ttrain-neg_R2:-0.99991\ttest-neg_R2:-0.90973\n",
      "[94]\ttrain-rmse:0.08055\ttest-rmse:2.68702\ttrain-neg_R2:-0.99992\ttest-neg_R2:-0.90976\n",
      "[95]\ttrain-rmse:0.07881\ttest-rmse:2.68749\ttrain-neg_R2:-0.99992\ttest-neg_R2:-0.90971\n",
      "[96]\ttrain-rmse:0.07688\ttest-rmse:2.68526\ttrain-neg_R2:-0.99993\ttest-neg_R2:-0.90989\n",
      "[97]\ttrain-rmse:0.07537\ttest-rmse:2.68354\ttrain-neg_R2:-0.99993\ttest-neg_R2:-0.90999\n",
      "[98]\ttrain-rmse:0.07417\ttest-rmse:2.68514\ttrain-neg_R2:-0.99993\ttest-neg_R2:-0.90987\n",
      "[99]\ttrain-rmse:0.07242\ttest-rmse:2.68363\ttrain-neg_R2:-0.99994\ttest-neg_R2:-0.91000\n",
      "[100]\ttrain-rmse:0.07168\ttest-rmse:2.68472\ttrain-neg_R2:-0.99994\ttest-neg_R2:-0.90992\n",
      "[101]\ttrain-rmse:0.06943\ttest-rmse:2.68572\ttrain-neg_R2:-0.99994\ttest-neg_R2:-0.90986\n",
      "[102]\ttrain-rmse:0.06817\ttest-rmse:2.68651\ttrain-neg_R2:-0.99994\ttest-neg_R2:-0.90982\n",
      "[103]\ttrain-rmse:0.06534\ttest-rmse:2.68490\ttrain-neg_R2:-0.99995\ttest-neg_R2:-0.90992\n",
      "[104]\ttrain-rmse:0.06355\ttest-rmse:2.68483\ttrain-neg_R2:-0.99995\ttest-neg_R2:-0.90992\n",
      "[105]\ttrain-rmse:0.06300\ttest-rmse:2.68474\ttrain-neg_R2:-0.99995\ttest-neg_R2:-0.90995\n",
      "[106]\ttrain-rmse:0.06153\ttest-rmse:2.68507\ttrain-neg_R2:-0.99995\ttest-neg_R2:-0.90994\n",
      "[107]\ttrain-rmse:0.05908\ttest-rmse:2.68360\ttrain-neg_R2:-0.99996\ttest-neg_R2:-0.91008\n",
      "[108]\ttrain-rmse:0.05820\ttest-rmse:2.68441\ttrain-neg_R2:-0.99996\ttest-neg_R2:-0.91002\n",
      "[109]\ttrain-rmse:0.05644\ttest-rmse:2.68388\ttrain-neg_R2:-0.99996\ttest-neg_R2:-0.91006\n",
      "[110]\ttrain-rmse:0.05590\ttest-rmse:2.68463\ttrain-neg_R2:-0.99996\ttest-neg_R2:-0.91001\n",
      "[111]\ttrain-rmse:0.05475\ttest-rmse:2.68452\ttrain-neg_R2:-0.99996\ttest-neg_R2:-0.91000\n",
      "[112]\ttrain-rmse:0.05361\ttest-rmse:2.68535\ttrain-neg_R2:-0.99996\ttest-neg_R2:-0.90995\n",
      "[113]\ttrain-rmse:0.05188\ttest-rmse:2.68550\ttrain-neg_R2:-0.99997\ttest-neg_R2:-0.90994\n",
      "[114]\ttrain-rmse:0.04995\ttest-rmse:2.68425\ttrain-neg_R2:-0.99997\ttest-neg_R2:-0.91002\n",
      "[115]\ttrain-rmse:0.04858\ttest-rmse:2.68352\ttrain-neg_R2:-0.99997\ttest-neg_R2:-0.91009\n",
      "[116]\ttrain-rmse:0.04801\ttest-rmse:2.68431\ttrain-neg_R2:-0.99997\ttest-neg_R2:-0.91004\n",
      "[117]\ttrain-rmse:0.04664\ttest-rmse:2.68418\ttrain-neg_R2:-0.99997\ttest-neg_R2:-0.91006\n",
      "[118]\ttrain-rmse:0.04531\ttest-rmse:2.68357\ttrain-neg_R2:-0.99997\ttest-neg_R2:-0.91011\n",
      "[119]\ttrain-rmse:0.04424\ttest-rmse:2.68296\ttrain-neg_R2:-0.99998\ttest-neg_R2:-0.91015\n",
      "[120]\ttrain-rmse:0.04282\ttest-rmse:2.68316\ttrain-neg_R2:-0.99998\ttest-neg_R2:-0.91015\n",
      "[121]\ttrain-rmse:0.04158\ttest-rmse:2.68252\ttrain-neg_R2:-0.99998\ttest-neg_R2:-0.91021\n",
      "[122]\ttrain-rmse:0.04046\ttest-rmse:2.68279\ttrain-neg_R2:-0.99998\ttest-neg_R2:-0.91019\n",
      "[123]\ttrain-rmse:0.03882\ttest-rmse:2.68213\ttrain-neg_R2:-0.99998\ttest-neg_R2:-0.91024\n",
      "[124]\ttrain-rmse:0.03689\ttest-rmse:2.68081\ttrain-neg_R2:-0.99998\ttest-neg_R2:-0.91032\n",
      "[125]\ttrain-rmse:0.03646\ttest-rmse:2.68092\ttrain-neg_R2:-0.99998\ttest-neg_R2:-0.91031\n",
      "[126]\ttrain-rmse:0.03562\ttest-rmse:2.68068\ttrain-neg_R2:-0.99998\ttest-neg_R2:-0.91034\n",
      "[127]\ttrain-rmse:0.03550\ttest-rmse:2.68056\ttrain-neg_R2:-0.99998\ttest-neg_R2:-0.91034\n",
      "[128]\ttrain-rmse:0.03519\ttest-rmse:2.68110\ttrain-neg_R2:-0.99999\ttest-neg_R2:-0.91029\n",
      "[129]\ttrain-rmse:0.03405\ttest-rmse:2.68034\ttrain-neg_R2:-0.99999\ttest-neg_R2:-0.91036\n",
      "[130]\ttrain-rmse:0.03304\ttest-rmse:2.68042\ttrain-neg_R2:-0.99999\ttest-neg_R2:-0.91036\n",
      "[131]\ttrain-rmse:0.03172\ttest-rmse:2.67985\ttrain-neg_R2:-0.99999\ttest-neg_R2:-0.91043\n",
      "[132]\ttrain-rmse:0.03096\ttest-rmse:2.67998\ttrain-neg_R2:-0.99999\ttest-neg_R2:-0.91043\n",
      "[133]\ttrain-rmse:0.03076\ttest-rmse:2.68028\ttrain-neg_R2:-0.99999\ttest-neg_R2:-0.91040\n",
      "[134]\ttrain-rmse:0.03068\ttest-rmse:2.68105\ttrain-neg_R2:-0.99999\ttest-neg_R2:-0.91034\n",
      "[135]\ttrain-rmse:0.03050\ttest-rmse:2.68114\ttrain-neg_R2:-0.99999\ttest-neg_R2:-0.91034\n",
      "[136]\ttrain-rmse:0.02958\ttest-rmse:2.68120\ttrain-neg_R2:-0.99999\ttest-neg_R2:-0.91034\n",
      "[137]\ttrain-rmse:0.02878\ttest-rmse:2.68114\ttrain-neg_R2:-0.99999\ttest-neg_R2:-0.91035\n",
      "[138]\ttrain-rmse:0.02810\ttest-rmse:2.68120\ttrain-neg_R2:-0.99999\ttest-neg_R2:-0.91036\n",
      "[139]\ttrain-rmse:0.02802\ttest-rmse:2.68138\ttrain-neg_R2:-0.99999\ttest-neg_R2:-0.91034\n",
      "[140]\ttrain-rmse:0.02771\ttest-rmse:2.68161\ttrain-neg_R2:-0.99999\ttest-neg_R2:-0.91032\n",
      "[141]\ttrain-rmse:0.02674\ttest-rmse:2.68089\ttrain-neg_R2:-0.99999\ttest-neg_R2:-0.91038\n",
      "Stopping. Best iteration:\n",
      "[131]\ttrain-rmse:0.03172\ttest-rmse:2.67985\ttrain-neg_R2:-0.99999\ttest-neg_R2:-0.91043\n",
      "\n",
      "0.0007151417345765388 7.187190003006788\n",
      "0.9999911323865144 0.9103763618814196\n"
     ]
    }
   ],
   "source": [
    "# 之前使用的是rmse来进行判定的，此时如果我们想自定义一个评估标准的话可以写一个函数出来\n",
    "\n",
    "from sklearn.metrics import mean_squared_error as MSE, r2_score\n",
    "\n",
    "\n",
    "# 定义一个计算R平方的函数，注意return记结果的格式有规则，不然xgb不认识\n",
    "\n",
    "def evalr2(preds, dmatrix):\n",
    "    R2 = r2_score(preds, dmatrix.get_label())\n",
    "    if R2 <= 0 :\n",
    "        R2 = 0\n",
    "    return 'neg_R2', -R2\n",
    "\n",
    "\n",
    "params = {\n",
    "    'obj':'reg:linear',#目标函数，线性回归\n",
    "    'subsample': 0.7,   #训练样本的抽样比例 防止过拟合\n",
    "    'eta' : 0.2, #学习率     默认0.3，一般低于0.3\n",
    "    'gamma': 0, #后剪枝的过程    0到正无穷\n",
    "    'lambda': 1, #控制模型复杂度的权重值的L2的正则化，参数越大，越不容易过拟合，默认1\n",
    "    'max_depth': 9 , #控制几分类器的深度，越大越过拟合， 默认6， 决策树里面默认5\n",
    "    'colsample_bytree': 0.8, #生成树的列采样：无放回  默认1\n",
    "    'min_child_weight': 3, #叶子节点权重分数的下界\n",
    "    'silent' : True, #不显示warning\n",
    "    'nthread': 4,   #CPU的线程数，分布并行处理\n",
    "    #'eval_metric' : ['rmse'],\n",
    "}\n",
    "\n",
    "watchlist = [(dtrain, 'train'),(dtest, 'test')]\n",
    "\n",
    "#训练模型， 可以直接导入参数，训练数据，树的数量\n",
    "model = xgb.train(params, dtrain,\n",
    "                  num_boost_round = 200,\n",
    "                  evals = watchlist,\n",
    "                  early_stopping_rounds = 10,\n",
    "                  #verbose_eval = 0   # 不打印中间结果\n",
    "                  feval = evalr2\n",
    "               )\n",
    "\n",
    "print(MSE(model.predict(dtrain), Ytrain), \n",
    "      MSE(model.predict(dtest), Ytest))\n",
    "print(r2_score(model.predict(dtrain), Ytrain), \n",
    "      r2_score(model.predict(dtest), Ytest))\n",
    "\n",
    "# 定义好函数之后，在train里面放入到feval\n",
    "\n",
    "# 查看最后的结果"
   ]
  },
  {
   "cell_type": "raw",
   "metadata": {},
   "source": [
    "# 常规参数\n",
    "booster\n",
    "    gbtree 树模型做为基分类器（默认）\n",
    "    gbliner 线性模型做为基分类器\n",
    "silent\n",
    "    silent=0时，输出中间过程（默认）\n",
    "    silent=1时，不输出中间过程\n",
    "nthread\n",
    "    nthread=-1时，使用全部CPU进行并行运算（默认）\n",
    "    nthread=1时，使用1个CPU进行运算。\n",
    "scale_pos_weight\n",
    "    正样本的权重，在二分类任务中，当正负样本比例失衡时，设置正样本的权重，模型效果更好。例如，当正负样本比例为1:10时，scale_pos_weight=10。\n",
    "        \n",
    "#模型参数\n",
    "\n",
    "n_estimatores\n",
    "    含义：总共迭代的次数，即决策树的个数\n",
    "    调参：\n",
    "early_stopping_rounds\n",
    "    含义：在验证集上，当连续n次迭代，分数没有提高后，提前终止训练。\n",
    "    调参：防止overfitting。\n",
    "max_depth\n",
    "    含义：树的深度，默认值为6，典型值3-10。\n",
    "    调参：值越大，越容易过拟合；值越小，越容易欠拟合。\n",
    "min_child_weight\n",
    "    含义：默认值为1,。\n",
    "    调参：值越大，越容易欠拟合；值越小，越容易过拟合（值较大时，避免模型学习到局部的特殊样本）。\n",
    "subsample\n",
    "    含义：训练每棵树时，使用的数据占全部训练集的比例。默认值为1，典型值为0.5-1。\n",
    "    调参：防止overfitting。\n",
    "colsample_bytree\n",
    "    含义：训练每棵树时，使用的特征占全部特征的比例。默认值为1，典型值为0.5-1。\n",
    "    调参：防止overfitting。\n",
    "    \n",
    "\n",
    "# 学习任务参数\n",
    "\n",
    "learning_rate\n",
    "    含义：学习率，控制每次迭代更新权重时的步长，默认0.3。\n",
    "    调参：值越小，训练越慢。\n",
    "    典型值为0.01-0.2。\n",
    "objective 目标函数\n",
    "    回归任务\n",
    "        reg:linear (默认)\n",
    "        reg:logistic \n",
    "    二分类\n",
    "        binary:logistic     概率 \n",
    "        binary：logitraw   类别\n",
    "    多分类\n",
    "        multi：softmax  num_class=n   返回类别\n",
    "        multi：softprob   num_class=n  返回概率\n",
    "    rank:pairwise \n",
    "eval_metric\n",
    "    回归任务(默认rmse)\n",
    "        rmse--均方根误差\n",
    "        mae--平均绝对误差\n",
    "    分类任务(默认error)\n",
    "        auc--roc曲线下面积\n",
    "        error--错误率（二分类）\n",
    "        merror--错误率（多分类）\n",
    "        logloss--负对数似然函数（二分类）\n",
    "        mlogloss--负对数似然函数（多分类）\n",
    "\n",
    "gamma\n",
    "    惩罚项系数，指定节点分裂所需的最小损失函数下降值。\n",
    "    调参：\n",
    "alpha\n",
    "    L1正则化系数，默认为1\n",
    "lambda\n",
    "    L2正则化系数，默认为1"
   ]
  },
  {
   "cell_type": "code",
   "execution_count": null,
   "metadata": {},
   "outputs": [],
   "source": []
  }
 ],
 "metadata": {
  "kernelspec": {
   "display_name": "Python 3",
   "language": "python",
   "name": "python3"
  },
  "language_info": {
   "codemirror_mode": {
    "name": "ipython",
    "version": 3
   },
   "file_extension": ".py",
   "mimetype": "text/x-python",
   "name": "python",
   "nbconvert_exporter": "python",
   "pygments_lexer": "ipython3",
   "version": "3.7.4"
  }
 },
 "nbformat": 4,
 "nbformat_minor": 4
}
