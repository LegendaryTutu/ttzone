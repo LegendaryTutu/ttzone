{
 "cells": [
  {
   "cell_type": "code",
   "execution_count": 1,
   "metadata": {},
   "outputs": [
    {
     "data": {
      "text/html": [
       "<div>\n",
       "<style scoped>\n",
       "    .dataframe tbody tr th:only-of-type {\n",
       "        vertical-align: middle;\n",
       "    }\n",
       "\n",
       "    .dataframe tbody tr th {\n",
       "        vertical-align: top;\n",
       "    }\n",
       "\n",
       "    .dataframe thead th {\n",
       "        text-align: right;\n",
       "    }\n",
       "</style>\n",
       "<table border=\"1\" class=\"dataframe\">\n",
       "  <thead>\n",
       "    <tr style=\"text-align: right;\">\n",
       "      <th></th>\n",
       "      <th>appearance</th>\n",
       "      <th>charac</th>\n",
       "      <th>optmistic</th>\n",
       "      <th>label</th>\n",
       "    </tr>\n",
       "  </thead>\n",
       "  <tbody>\n",
       "    <tr>\n",
       "      <td>0</td>\n",
       "      <td>1</td>\n",
       "      <td>1</td>\n",
       "      <td>2</td>\n",
       "      <td>1</td>\n",
       "    </tr>\n",
       "    <tr>\n",
       "      <td>1</td>\n",
       "      <td>0</td>\n",
       "      <td>1</td>\n",
       "      <td>1</td>\n",
       "      <td>0</td>\n",
       "    </tr>\n",
       "    <tr>\n",
       "      <td>2</td>\n",
       "      <td>0</td>\n",
       "      <td>0</td>\n",
       "      <td>0</td>\n",
       "      <td>0</td>\n",
       "    </tr>\n",
       "    <tr>\n",
       "      <td>3</td>\n",
       "      <td>1</td>\n",
       "      <td>1</td>\n",
       "      <td>1</td>\n",
       "      <td>1</td>\n",
       "    </tr>\n",
       "    <tr>\n",
       "      <td>4</td>\n",
       "      <td>0</td>\n",
       "      <td>1</td>\n",
       "      <td>2</td>\n",
       "      <td>1</td>\n",
       "    </tr>\n",
       "    <tr>\n",
       "      <td>5</td>\n",
       "      <td>1</td>\n",
       "      <td>0</td>\n",
       "      <td>1</td>\n",
       "      <td>0</td>\n",
       "    </tr>\n",
       "    <tr>\n",
       "      <td>6</td>\n",
       "      <td>1</td>\n",
       "      <td>1</td>\n",
       "      <td>0</td>\n",
       "      <td>1</td>\n",
       "    </tr>\n",
       "    <tr>\n",
       "      <td>7</td>\n",
       "      <td>0</td>\n",
       "      <td>0</td>\n",
       "      <td>2</td>\n",
       "      <td>0</td>\n",
       "    </tr>\n",
       "    <tr>\n",
       "      <td>8</td>\n",
       "      <td>1</td>\n",
       "      <td>0</td>\n",
       "      <td>2</td>\n",
       "      <td>1</td>\n",
       "    </tr>\n",
       "    <tr>\n",
       "      <td>9</td>\n",
       "      <td>0</td>\n",
       "      <td>1</td>\n",
       "      <td>0</td>\n",
       "      <td>0</td>\n",
       "    </tr>\n",
       "  </tbody>\n",
       "</table>\n",
       "</div>"
      ],
      "text/plain": [
       "   appearance  charac  optmistic  label\n",
       "0           1       1          2      1\n",
       "1           0       1          1      0\n",
       "2           0       0          0      0\n",
       "3           1       1          1      1\n",
       "4           0       1          2      1\n",
       "5           1       0          1      0\n",
       "6           1       1          0      1\n",
       "7           0       0          2      0\n",
       "8           1       0          2      1\n",
       "9           0       1          0      0"
      ]
     },
     "execution_count": 1,
     "metadata": {},
     "output_type": "execute_result"
    }
   ],
   "source": [
    "import numpy as np\n",
    "import pandas as pd\n",
    "\n",
    "D = {\n",
    "    'appearance' : [1,0,0,1,0,1,1,0,1,0],\n",
    "    'charac' : [1,1,0,1,1,0,1,0,0,1],\n",
    "    'optmistic' : [2,1,0,1,2,1,0,2,2,0],\n",
    "    'label' : [1,0,0,1,1,0,1,0,1,0]\n",
    "}\n",
    "\n",
    "Data = pd.DataFrame(D)\n",
    "Data"
   ]
  },
  {
   "cell_type": "code",
   "execution_count": 2,
   "metadata": {},
   "outputs": [
    {
     "data": {
      "text/plain": [
       "1    5\n",
       "0    5\n",
       "Name: label, dtype: int64"
      ]
     },
     "execution_count": 2,
     "metadata": {},
     "output_type": "execute_result"
    }
   ],
   "source": [
    "Data['label'].value_counts()"
   ]
  },
  {
   "cell_type": "code",
   "execution_count": 3,
   "metadata": {},
   "outputs": [
    {
     "data": {
      "text/html": [
       "<div>\n",
       "<style scoped>\n",
       "    .dataframe tbody tr th:only-of-type {\n",
       "        vertical-align: middle;\n",
       "    }\n",
       "\n",
       "    .dataframe tbody tr th {\n",
       "        vertical-align: top;\n",
       "    }\n",
       "\n",
       "    .dataframe thead th {\n",
       "        text-align: right;\n",
       "    }\n",
       "</style>\n",
       "<table border=\"1\" class=\"dataframe\">\n",
       "  <thead>\n",
       "    <tr style=\"text-align: right;\">\n",
       "      <th></th>\n",
       "      <th>appearance</th>\n",
       "      <th>charac</th>\n",
       "      <th>optmistic</th>\n",
       "      <th>label</th>\n",
       "    </tr>\n",
       "  </thead>\n",
       "  <tbody>\n",
       "    <tr>\n",
       "      <td>1</td>\n",
       "      <td>0</td>\n",
       "      <td>1</td>\n",
       "      <td>1</td>\n",
       "      <td>0</td>\n",
       "    </tr>\n",
       "    <tr>\n",
       "      <td>2</td>\n",
       "      <td>0</td>\n",
       "      <td>0</td>\n",
       "      <td>0</td>\n",
       "      <td>0</td>\n",
       "    </tr>\n",
       "    <tr>\n",
       "      <td>5</td>\n",
       "      <td>1</td>\n",
       "      <td>0</td>\n",
       "      <td>1</td>\n",
       "      <td>0</td>\n",
       "    </tr>\n",
       "    <tr>\n",
       "      <td>7</td>\n",
       "      <td>0</td>\n",
       "      <td>0</td>\n",
       "      <td>2</td>\n",
       "      <td>0</td>\n",
       "    </tr>\n",
       "    <tr>\n",
       "      <td>9</td>\n",
       "      <td>0</td>\n",
       "      <td>1</td>\n",
       "      <td>0</td>\n",
       "      <td>0</td>\n",
       "    </tr>\n",
       "    <tr>\n",
       "      <td>0</td>\n",
       "      <td>1</td>\n",
       "      <td>1</td>\n",
       "      <td>2</td>\n",
       "      <td>1</td>\n",
       "    </tr>\n",
       "    <tr>\n",
       "      <td>3</td>\n",
       "      <td>1</td>\n",
       "      <td>1</td>\n",
       "      <td>1</td>\n",
       "      <td>1</td>\n",
       "    </tr>\n",
       "    <tr>\n",
       "      <td>4</td>\n",
       "      <td>0</td>\n",
       "      <td>1</td>\n",
       "      <td>2</td>\n",
       "      <td>1</td>\n",
       "    </tr>\n",
       "    <tr>\n",
       "      <td>6</td>\n",
       "      <td>1</td>\n",
       "      <td>1</td>\n",
       "      <td>0</td>\n",
       "      <td>1</td>\n",
       "    </tr>\n",
       "    <tr>\n",
       "      <td>8</td>\n",
       "      <td>1</td>\n",
       "      <td>0</td>\n",
       "      <td>2</td>\n",
       "      <td>1</td>\n",
       "    </tr>\n",
       "  </tbody>\n",
       "</table>\n",
       "</div>"
      ],
      "text/plain": [
       "   appearance  charac  optmistic  label\n",
       "1           0       1          1      0\n",
       "2           0       0          0      0\n",
       "5           1       0          1      0\n",
       "7           0       0          2      0\n",
       "9           0       1          0      0\n",
       "0           1       1          2      1\n",
       "3           1       1          1      1\n",
       "4           0       1          2      1\n",
       "6           1       1          0      1\n",
       "8           1       0          2      1"
      ]
     },
     "execution_count": 3,
     "metadata": {},
     "output_type": "execute_result"
    }
   ],
   "source": [
    "# 为了观察为测试，我们首先按label进行一个排序\n",
    "Data.sort_values(by = 'label')"
   ]
  },
  {
   "cell_type": "code",
   "execution_count": 4,
   "metadata": {},
   "outputs": [
    {
     "data": {
      "text/html": [
       "<div>\n",
       "<style scoped>\n",
       "    .dataframe tbody tr th:only-of-type {\n",
       "        vertical-align: middle;\n",
       "    }\n",
       "\n",
       "    .dataframe tbody tr th {\n",
       "        vertical-align: top;\n",
       "    }\n",
       "\n",
       "    .dataframe thead th {\n",
       "        text-align: right;\n",
       "    }\n",
       "</style>\n",
       "<table border=\"1\" class=\"dataframe\">\n",
       "  <thead>\n",
       "    <tr style=\"text-align: right;\">\n",
       "      <th></th>\n",
       "      <th>appearance</th>\n",
       "      <th>charac</th>\n",
       "      <th>optmistic</th>\n",
       "      <th>label</th>\n",
       "    </tr>\n",
       "  </thead>\n",
       "  <tbody>\n",
       "    <tr>\n",
       "      <td>1</td>\n",
       "      <td>0</td>\n",
       "      <td>1</td>\n",
       "      <td>1</td>\n",
       "      <td>0</td>\n",
       "    </tr>\n",
       "    <tr>\n",
       "      <td>2</td>\n",
       "      <td>0</td>\n",
       "      <td>0</td>\n",
       "      <td>0</td>\n",
       "      <td>0</td>\n",
       "    </tr>\n",
       "    <tr>\n",
       "      <td>5</td>\n",
       "      <td>1</td>\n",
       "      <td>0</td>\n",
       "      <td>1</td>\n",
       "      <td>0</td>\n",
       "    </tr>\n",
       "    <tr>\n",
       "      <td>7</td>\n",
       "      <td>0</td>\n",
       "      <td>0</td>\n",
       "      <td>2</td>\n",
       "      <td>0</td>\n",
       "    </tr>\n",
       "    <tr>\n",
       "      <td>9</td>\n",
       "      <td>0</td>\n",
       "      <td>1</td>\n",
       "      <td>0</td>\n",
       "      <td>0</td>\n",
       "    </tr>\n",
       "  </tbody>\n",
       "</table>\n",
       "</div>"
      ],
      "text/plain": [
       "   appearance  charac  optmistic  label\n",
       "1           0       1          1      0\n",
       "2           0       0          0      0\n",
       "5           1       0          1      0\n",
       "7           0       0          2      0\n",
       "9           0       1          0      0"
      ]
     },
     "execution_count": 4,
     "metadata": {},
     "output_type": "execute_result"
    }
   ],
   "source": [
    "# 先对一个小df下手，计算在label=1的条件下各个特征下类别的概率\n",
    "\n",
    "DF0 = Data[Data['label'] == 0]\n",
    "DF0"
   ]
  },
  {
   "cell_type": "code",
   "execution_count": 5,
   "metadata": {},
   "outputs": [
    {
     "data": {
      "text/html": [
       "<div>\n",
       "<style scoped>\n",
       "    .dataframe tbody tr th:only-of-type {\n",
       "        vertical-align: middle;\n",
       "    }\n",
       "\n",
       "    .dataframe tbody tr th {\n",
       "        vertical-align: top;\n",
       "    }\n",
       "\n",
       "    .dataframe thead th {\n",
       "        text-align: right;\n",
       "    }\n",
       "</style>\n",
       "<table border=\"1\" class=\"dataframe\">\n",
       "  <thead>\n",
       "    <tr style=\"text-align: right;\">\n",
       "      <th></th>\n",
       "      <th>appearance</th>\n",
       "      <th>charac</th>\n",
       "      <th>optmistic</th>\n",
       "    </tr>\n",
       "  </thead>\n",
       "  <tbody>\n",
       "    <tr>\n",
       "      <td>0</td>\n",
       "      <td>0.8</td>\n",
       "      <td>0.6</td>\n",
       "      <td>0.4</td>\n",
       "    </tr>\n",
       "    <tr>\n",
       "      <td>1</td>\n",
       "      <td>0.2</td>\n",
       "      <td>0.4</td>\n",
       "      <td>0.4</td>\n",
       "    </tr>\n",
       "    <tr>\n",
       "      <td>2</td>\n",
       "      <td>NaN</td>\n",
       "      <td>NaN</td>\n",
       "      <td>0.2</td>\n",
       "    </tr>\n",
       "  </tbody>\n",
       "</table>\n",
       "</div>"
      ],
      "text/plain": [
       "   appearance  charac  optmistic\n",
       "0         0.8     0.6        0.4\n",
       "1         0.2     0.4        0.4\n",
       "2         NaN     NaN        0.2"
      ]
     },
     "execution_count": 5,
     "metadata": {},
     "output_type": "execute_result"
    }
   ],
   "source": [
    "# 首先使用切片的方法，切掉label 那一列，然后使用apply(axis = 0)的方法，对每一个特征（列）做循环\n",
    "# 每个特征，使用value_counts()/个数的方式，计算出条件概率\n",
    "DF0.iloc[:, :-1].apply(lambda i : i.value_counts()/i.size, axis = 0)"
   ]
  },
  {
   "cell_type": "code",
   "execution_count": 6,
   "metadata": {},
   "outputs": [
    {
     "data": {
      "text/html": [
       "<div>\n",
       "<style scoped>\n",
       "    .dataframe tbody tr th:only-of-type {\n",
       "        vertical-align: middle;\n",
       "    }\n",
       "\n",
       "    .dataframe tbody tr th {\n",
       "        vertical-align: top;\n",
       "    }\n",
       "\n",
       "    .dataframe thead th {\n",
       "        text-align: right;\n",
       "    }\n",
       "</style>\n",
       "<table border=\"1\" class=\"dataframe\">\n",
       "  <thead>\n",
       "    <tr style=\"text-align: right;\">\n",
       "      <th></th>\n",
       "      <th></th>\n",
       "      <th>appearance</th>\n",
       "      <th>charac</th>\n",
       "      <th>optmistic</th>\n",
       "    </tr>\n",
       "    <tr>\n",
       "      <th>label</th>\n",
       "      <th></th>\n",
       "      <th></th>\n",
       "      <th></th>\n",
       "      <th></th>\n",
       "    </tr>\n",
       "  </thead>\n",
       "  <tbody>\n",
       "    <tr>\n",
       "      <td rowspan=\"3\" valign=\"top\">0</td>\n",
       "      <td>0</td>\n",
       "      <td>0.8</td>\n",
       "      <td>0.6</td>\n",
       "      <td>0.4</td>\n",
       "    </tr>\n",
       "    <tr>\n",
       "      <td>1</td>\n",
       "      <td>0.2</td>\n",
       "      <td>0.4</td>\n",
       "      <td>0.4</td>\n",
       "    </tr>\n",
       "    <tr>\n",
       "      <td>2</td>\n",
       "      <td>NaN</td>\n",
       "      <td>NaN</td>\n",
       "      <td>0.2</td>\n",
       "    </tr>\n",
       "    <tr>\n",
       "      <td rowspan=\"3\" valign=\"top\">1</td>\n",
       "      <td>0</td>\n",
       "      <td>0.2</td>\n",
       "      <td>0.2</td>\n",
       "      <td>0.2</td>\n",
       "    </tr>\n",
       "    <tr>\n",
       "      <td>1</td>\n",
       "      <td>0.8</td>\n",
       "      <td>0.8</td>\n",
       "      <td>0.2</td>\n",
       "    </tr>\n",
       "    <tr>\n",
       "      <td>2</td>\n",
       "      <td>NaN</td>\n",
       "      <td>NaN</td>\n",
       "      <td>0.6</td>\n",
       "    </tr>\n",
       "  </tbody>\n",
       "</table>\n",
       "</div>"
      ],
      "text/plain": [
       "         appearance  charac  optmistic\n",
       "label                                 \n",
       "0     0         0.8     0.6        0.4\n",
       "      1         0.2     0.4        0.4\n",
       "      2         NaN     NaN        0.2\n",
       "1     0         0.2     0.2        0.2\n",
       "      1         0.8     0.8        0.2\n",
       "      2         NaN     NaN        0.6"
      ]
     },
     "execution_count": 6,
     "metadata": {},
     "output_type": "execute_result"
    }
   ],
   "source": [
    "# 首先将上面的这写好的函数来进行封装，只要传进去一个小DF,就能计算出条件概率\n",
    "def conditonal_prob(df):\n",
    "    return df.iloc[:, :-1].apply(lambda i : i.value_counts()/i.size, axis = 0)\n",
    "\n",
    "\n",
    "# 使用groupby('label')，会生小DataFrame，这里生成了2个小dataframe，label为0的Dataframe和label为1的dataframe\n",
    "# 可以直接使用apply对这个两小dataframe做循环\n",
    "# lambda的意思传进来一个小Dataframe，立马将这个小Dataframe用上面的函数做处理，计算条件概率，别输出出来\n",
    "\n",
    "Data.groupby('label').apply(lambda df : conditonal_prob(df))\n",
    "\n",
    "# 上面这个代码进行简写\n",
    "# Data.groupby('label').apply(conditonal_prob)\n",
    "\n",
    "# 1. 先运行Data.groupby('label')，然后生成了DF0和DF1\n",
    "# 2. 依次将这些DF0和DF1，作为df， 传入conditonal_prob，得到条件的结果"
   ]
  },
  {
   "cell_type": "code",
   "execution_count": 7,
   "metadata": {},
   "outputs": [
    {
     "data": {
      "text/plain": [
       "[(0,    appearance  charac  optmistic  label\n",
       "  1           0       1          1      0\n",
       "  2           0       0          0      0\n",
       "  5           1       0          1      0\n",
       "  7           0       0          2      0\n",
       "  9           0       1          0      0),\n",
       " (1,    appearance  charac  optmistic  label\n",
       "  0           1       1          2      1\n",
       "  3           1       1          1      1\n",
       "  4           0       1          2      1\n",
       "  6           1       1          0      1\n",
       "  8           1       0          2      1)]"
      ]
     },
     "execution_count": 7,
     "metadata": {},
     "output_type": "execute_result"
    }
   ],
   "source": [
    "list(Data.groupby('label'))"
   ]
  },
  {
   "cell_type": "code",
   "execution_count": 8,
   "metadata": {
    "jupyter": {
     "source_hidden": true
    }
   },
   "outputs": [],
   "source": [
    "# 还有个老版本\n",
    "\n",
    "#首先使用简单的for循环的方式取出当前\n",
    "#将标签值取出来，且进行一个排序\n",
    "# label = Data['label'].unique()\n",
    "# label.sort()\n",
    "# label_d = {}\n",
    "\n",
    "# #最美一个标签做for循环。在每个循环里面，取出这个标签所对应的数据集\n",
    "# for i in label:\n",
    "#     df = Data[Data['label'] == i].iloc[:, :-1]\n",
    "#     df_series_list = []\n",
    "#     for j in df.columns:\n",
    "#         col = df[j]\n",
    "#         #对一个特定的标签值里面算valuecounts并且算出占比\n",
    "#         col_p = col.value_counts()/col.shape[0]\n",
    "#         #将这个信息存到list里面去, col_p里面包含了列名的信息\n",
    "#         df_series_list.append(col_p)\n",
    "#     #col_p里面包含了在类别i下，各个特征里每一个值所对应的概率值\n",
    "#     #可以使用concat的方法来进行拼接\n",
    "#     label_d[i] = pd.concat(df_series_list, axis = 1)"
   ]
  },
  {
   "cell_type": "code",
   "execution_count": 9,
   "metadata": {},
   "outputs": [
    {
     "data": {
      "text/html": [
       "<div>\n",
       "<style scoped>\n",
       "    .dataframe tbody tr th:only-of-type {\n",
       "        vertical-align: middle;\n",
       "    }\n",
       "\n",
       "    .dataframe tbody tr th {\n",
       "        vertical-align: top;\n",
       "    }\n",
       "\n",
       "    .dataframe thead th {\n",
       "        text-align: right;\n",
       "    }\n",
       "</style>\n",
       "<table border=\"1\" class=\"dataframe\">\n",
       "  <thead>\n",
       "    <tr style=\"text-align: right;\">\n",
       "      <th></th>\n",
       "      <th></th>\n",
       "      <th>appearance</th>\n",
       "      <th>charac</th>\n",
       "      <th>optmistic</th>\n",
       "    </tr>\n",
       "    <tr>\n",
       "      <th>label</th>\n",
       "      <th></th>\n",
       "      <th></th>\n",
       "      <th></th>\n",
       "      <th></th>\n",
       "    </tr>\n",
       "  </thead>\n",
       "  <tbody>\n",
       "    <tr>\n",
       "      <td rowspan=\"3\" valign=\"top\">0</td>\n",
       "      <td>0</td>\n",
       "      <td>0.8</td>\n",
       "      <td>0.6</td>\n",
       "      <td>0.4</td>\n",
       "    </tr>\n",
       "    <tr>\n",
       "      <td>1</td>\n",
       "      <td>0.2</td>\n",
       "      <td>0.4</td>\n",
       "      <td>0.4</td>\n",
       "    </tr>\n",
       "    <tr>\n",
       "      <td>2</td>\n",
       "      <td>NaN</td>\n",
       "      <td>NaN</td>\n",
       "      <td>0.2</td>\n",
       "    </tr>\n",
       "    <tr>\n",
       "      <td rowspan=\"3\" valign=\"top\">1</td>\n",
       "      <td>0</td>\n",
       "      <td>0.2</td>\n",
       "      <td>0.2</td>\n",
       "      <td>0.2</td>\n",
       "    </tr>\n",
       "    <tr>\n",
       "      <td>1</td>\n",
       "      <td>0.8</td>\n",
       "      <td>0.8</td>\n",
       "      <td>0.2</td>\n",
       "    </tr>\n",
       "    <tr>\n",
       "      <td>2</td>\n",
       "      <td>NaN</td>\n",
       "      <td>NaN</td>\n",
       "      <td>0.6</td>\n",
       "    </tr>\n",
       "  </tbody>\n",
       "</table>\n",
       "</div>"
      ],
      "text/plain": [
       "         appearance  charac  optmistic\n",
       "label                                 \n",
       "0     0         0.8     0.6        0.4\n",
       "      1         0.2     0.4        0.4\n",
       "      2         NaN     NaN        0.2\n",
       "1     0         0.2     0.2        0.2\n",
       "      1         0.8     0.8        0.2\n",
       "      2         NaN     NaN        0.6"
      ]
     },
     "execution_count": 9,
     "metadata": {},
     "output_type": "execute_result"
    }
   ],
   "source": [
    "# 将计算出的所有的条件概率的结果记录在一个变量里面方便后面来测试集的时候好进行提取\n",
    "bayes_result = Data.groupby('label').apply(lambda df : conditonal_prob(df))\n",
    "bayes_result"
   ]
  },
  {
   "cell_type": "code",
   "execution_count": 10,
   "metadata": {},
   "outputs": [
    {
     "data": {
      "text/plain": [
       "Index(['appearance', 'charac', 'optmistic'], dtype='object')"
      ]
     },
     "execution_count": 10,
     "metadata": {},
     "output_type": "execute_result"
    }
   ],
   "source": [
    "# 来了一个预测的数据集\n",
    "\n",
    "test_data = [1, 0, 0]\n",
    "Data.columns[:-1]\n",
    "\n",
    "# 可以尝试使用zip的方式1对1对的将test_data里面的数据提取出来"
   ]
  },
  {
   "cell_type": "code",
   "execution_count": 11,
   "metadata": {},
   "outputs": [
    {
     "name": "stdout",
     "output_type": "stream",
     "text": [
      "P(appearance = 1|Y = 1)\n",
      "P(charac = 0|Y = 1)\n",
      "P(optmistic = 0|Y = 1)\n"
     ]
    }
   ],
   "source": [
    "# 我们可以将标签为1的条件下，测试集发生的概率，一对一对的将我们想提取的东西拿出来\n",
    "for i, j in zip(test_data, Data.columns[:-1]):\n",
    "    print('P({} = {}|Y = 1)'.format(j, i))"
   ]
  },
  {
   "cell_type": "code",
   "execution_count": 12,
   "metadata": {},
   "outputs": [
    {
     "data": {
      "text/html": [
       "<div>\n",
       "<style scoped>\n",
       "    .dataframe tbody tr th:only-of-type {\n",
       "        vertical-align: middle;\n",
       "    }\n",
       "\n",
       "    .dataframe tbody tr th {\n",
       "        vertical-align: top;\n",
       "    }\n",
       "\n",
       "    .dataframe thead th {\n",
       "        text-align: right;\n",
       "    }\n",
       "</style>\n",
       "<table border=\"1\" class=\"dataframe\">\n",
       "  <thead>\n",
       "    <tr style=\"text-align: right;\">\n",
       "      <th></th>\n",
       "      <th></th>\n",
       "      <th>appearance</th>\n",
       "      <th>charac</th>\n",
       "      <th>optmistic</th>\n",
       "    </tr>\n",
       "    <tr>\n",
       "      <th>label</th>\n",
       "      <th></th>\n",
       "      <th></th>\n",
       "      <th></th>\n",
       "      <th></th>\n",
       "    </tr>\n",
       "  </thead>\n",
       "  <tbody>\n",
       "    <tr>\n",
       "      <td rowspan=\"3\" valign=\"top\">0</td>\n",
       "      <td>0</td>\n",
       "      <td>0.8</td>\n",
       "      <td>0.6</td>\n",
       "      <td>0.4</td>\n",
       "    </tr>\n",
       "    <tr>\n",
       "      <td>1</td>\n",
       "      <td>0.2</td>\n",
       "      <td>0.4</td>\n",
       "      <td>0.4</td>\n",
       "    </tr>\n",
       "    <tr>\n",
       "      <td>2</td>\n",
       "      <td>NaN</td>\n",
       "      <td>NaN</td>\n",
       "      <td>0.2</td>\n",
       "    </tr>\n",
       "    <tr>\n",
       "      <td rowspan=\"3\" valign=\"top\">1</td>\n",
       "      <td>0</td>\n",
       "      <td>0.2</td>\n",
       "      <td>0.2</td>\n",
       "      <td>0.2</td>\n",
       "    </tr>\n",
       "    <tr>\n",
       "      <td>1</td>\n",
       "      <td>0.8</td>\n",
       "      <td>0.8</td>\n",
       "      <td>0.2</td>\n",
       "    </tr>\n",
       "    <tr>\n",
       "      <td>2</td>\n",
       "      <td>NaN</td>\n",
       "      <td>NaN</td>\n",
       "      <td>0.6</td>\n",
       "    </tr>\n",
       "  </tbody>\n",
       "</table>\n",
       "</div>"
      ],
      "text/plain": [
       "         appearance  charac  optmistic\n",
       "label                                 \n",
       "0     0         0.8     0.6        0.4\n",
       "      1         0.2     0.4        0.4\n",
       "      2         NaN     NaN        0.2\n",
       "1     0         0.2     0.2        0.2\n",
       "      1         0.8     0.8        0.2\n",
       "      2         NaN     NaN        0.6"
      ]
     },
     "execution_count": 12,
     "metadata": {},
     "output_type": "execute_result"
    }
   ],
   "source": [
    "bayes_result"
   ]
  },
  {
   "cell_type": "code",
   "execution_count": 13,
   "metadata": {},
   "outputs": [
    {
     "name": "stdout",
     "output_type": "stream",
     "text": [
      "0.8\n",
      "0.2\n",
      "0.2\n"
     ]
    }
   ],
   "source": [
    "# 当前bayes有多级索引，所以这个时候我们需要使用显示索引的方式将概率值给提取出来\n",
    "# 我们如果想取出label = 1下P(appearance = 1|Y = 1)，P(charac = 0|Y = 1)，P(optmistic = 0|Y = 1)值的话\n",
    "# 就需要通过loc的方式取出, loc[(1(这里是第一层行索引), i(第一层行索引为1下的第i个行索引)), j(特征名字)]\n",
    "\n",
    "l = []\n",
    "for i, j in zip(test_data, Data.columns[:-1]):\n",
    "    print(bayes_result.loc[(1, i), j])"
   ]
  },
  {
   "cell_type": "code",
   "execution_count": 14,
   "metadata": {},
   "outputs": [],
   "source": [
    "# list comprehension, 列表解析式\n",
    "# 在label = 1的标签下，当前所有的条件概率\n",
    "[bayes_result.loc[(1, i), j] for i,j in zip(test_data, Data.columns[:-1])]\n",
    "\n",
    "# 在label = 0的标签下，当前所有的条件概率\n",
    "[bayes_result.loc[(0, i), j] for i,j in zip(test_data, Data.columns[:-1])]\n",
    "\n",
    "# 可以将其写成一个函数\n",
    "def finding(test_data, label):\n",
    "    return [bayes_result.loc[(label, i), j] for i,j in zip(test_data, Data.columns[:-1])]"
   ]
  },
  {
   "cell_type": "code",
   "execution_count": 15,
   "metadata": {},
   "outputs": [
    {
     "data": {
      "text/plain": [
       "[0.8, 0.2, 0.2]"
      ]
     },
     "execution_count": 15,
     "metadata": {},
     "output_type": "execute_result"
    }
   ],
   "source": [
    "# 测试这个函数\n",
    "finding(test_data, label = 1)"
   ]
  },
  {
   "cell_type": "code",
   "execution_count": 16,
   "metadata": {},
   "outputs": [
    {
     "data": {
      "text/plain": [
       "(array([0.2, 0.6, 0.4]), array([0.8, 0.2, 0.2]))"
      ]
     },
     "execution_count": 16,
     "metadata": {},
     "output_type": "execute_result"
    }
   ],
   "source": [
    "# 给出这个测试集在标签等于0和标签等于1下所有的条件概率\n",
    "# 将结果转化乘numpy array\n",
    "prob_0 = np.array(finding(test_data, label = 0))\n",
    "prob_1 = np.array(finding(test_data, label = 1))\n",
    "prob_0, prob_1"
   ]
  },
  {
   "cell_type": "markdown",
   "metadata": {},
   "source": [
    "$$P(帅|嫁)P(性格不好|嫁)P(不上进|嫁)$$"
   ]
  },
  {
   "cell_type": "code",
   "execution_count": 17,
   "metadata": {},
   "outputs": [
    {
     "data": {
      "text/plain": [
       "0.048"
      ]
     },
     "execution_count": 17,
     "metadata": {},
     "output_type": "execute_result"
    }
   ],
   "source": [
    "# numpy array有求乘积的方法，使用求乘积的方法来计算出最后的概率值\n",
    "prob_0.prod()"
   ]
  },
  {
   "cell_type": "markdown",
   "metadata": {},
   "source": [
    "$$P(帅|不嫁)P(性格不好|不嫁)P(不上进|不嫁)$$"
   ]
  },
  {
   "cell_type": "code",
   "execution_count": 18,
   "metadata": {},
   "outputs": [
    {
     "data": {
      "text/plain": [
       "0.03200000000000001"
      ]
     },
     "execution_count": 18,
     "metadata": {},
     "output_type": "execute_result"
    }
   ],
   "source": [
    "prob_1.prod()"
   ]
  },
  {
   "cell_type": "code",
   "execution_count": 19,
   "metadata": {},
   "outputs": [
    {
     "data": {
      "text/plain": [
       "1    0.5\n",
       "0    0.5\n",
       "Name: label, dtype: float64"
      ]
     },
     "execution_count": 19,
     "metadata": {},
     "output_type": "execute_result"
    }
   ],
   "source": [
    "# 将label的概率求出来\n",
    "label_p = Data['label'].value_counts()/Data.shape[0]\n",
    "label_p"
   ]
  },
  {
   "cell_type": "markdown",
   "metadata": {},
   "source": [
    "$$P(嫁|帅，性格不好，不上进)=P(嫁)\\frac{P(帅|嫁)P(性格不好|嫁)P(不上进|嫁)}{P(帅，性格不好，不上进)}$$\n",
    "$$P(不嫁|帅，性格不好，不上进)=P(不嫁)\\frac{P(帅|不嫁)P(性格不好|不嫁)P(不上进|不嫁)}{P(帅，性格不好，不上进)}$$"
   ]
  },
  {
   "cell_type": "code",
   "execution_count": 20,
   "metadata": {},
   "outputs": [
    {
     "data": {
      "text/plain": [
       "(0.024, 0.016000000000000004)"
      ]
     },
     "execution_count": 20,
     "metadata": {},
     "output_type": "execute_result"
    }
   ],
   "source": [
    "prob_0.prod() * label_p[0], prob_1.prod() * label_p[1]"
   ]
  },
  {
   "cell_type": "code",
   "execution_count": 21,
   "metadata": {},
   "outputs": [],
   "source": [
    "# 最后0标签的概率大一些，一个将test_data = [1, 0, 0]预测成标签0"
   ]
  },
  {
   "cell_type": "code",
   "execution_count": 22,
   "metadata": {},
   "outputs": [],
   "source": [
    "# 将上面的部分写成函数\n",
    "label_p = Data['label'].value_counts()/Data.shape[0]\n",
    "label_p = label_p.sort_index()\n",
    "\n",
    "def conditonal_prob(df):\n",
    "    return df.iloc[:, :-1].apply(lambda i : i.value_counts()/i.size, axis = 0)\n",
    "\n",
    "bayes_result = Data.groupby('label').apply(lambda df : conditonal_prob(df)).fillna(0)\n",
    "\n",
    "# 这里是提取了数据当中有多少独一无二的类别\n",
    "l = Data['label'].unique()\n",
    "test_data = [1,0,0]\n",
    "\n",
    "# 构造了一个函数，传进去test = [1,0,0]这样的测试样本，就可以来预测最后的结果\n",
    "def quick_predict(test_data):\n",
    "    # 这里采用了类似于双层for循环的列表解析式，将数据记录在p_result里面\n",
    "    p_result = [np.array([bayes_result.loc[(label,i), j] \\\n",
    "         for i,j in zip(test_data, bayes_result.columns)]).prod() \\\n",
    "         for label in l]\n",
    "    # 当test_data = [1,0,0]的时候，p_result是[0.032, 0,048], 第一个是label为0下相乘所得到的概率，第二个是label为1下相乘所得到的概率\n",
    "    # 需要做成一个pd.Series,并且把相应的索引加上去，按索引从小到大排序\n",
    "    result_intermediate = pd.Series(p_result, index = l).sort_index()\n",
    "    \n",
    "    #print(result_intermediate)\n",
    "    #print(label_p)\n",
    "    \n",
    "    # 需要将先验的概率给乘上去，这里的result_intermediate和label_p两个series的索引label,都是从小到大排序的，0,1所以可以直接来乘\n",
    "    result = result_intermediate * label_p\n",
    "    #print(result)\n",
    "    # 对结果做数值上的从小到大的排序，取出索引的最后一个，因为排序后最后一个索引的概率值肯定是最大的\n",
    "    return result.sort_values().index[-1]\n",
    "    #return result.sort_values().index[-1]"
   ]
  },
  {
   "cell_type": "code",
   "execution_count": 23,
   "metadata": {},
   "outputs": [
    {
     "data": {
      "text/plain": [
       "1"
      ]
     },
     "execution_count": 23,
     "metadata": {},
     "output_type": "execute_result"
    }
   ],
   "source": [
    "quick_predict([1,1,2])"
   ]
  },
  {
   "cell_type": "code",
   "execution_count": 24,
   "metadata": {},
   "outputs": [
    {
     "data": {
      "text/html": [
       "<div>\n",
       "<style scoped>\n",
       "    .dataframe tbody tr th:only-of-type {\n",
       "        vertical-align: middle;\n",
       "    }\n",
       "\n",
       "    .dataframe tbody tr th {\n",
       "        vertical-align: top;\n",
       "    }\n",
       "\n",
       "    .dataframe thead th {\n",
       "        text-align: right;\n",
       "    }\n",
       "</style>\n",
       "<table border=\"1\" class=\"dataframe\">\n",
       "  <thead>\n",
       "    <tr style=\"text-align: right;\">\n",
       "      <th></th>\n",
       "      <th>appearance</th>\n",
       "      <th>charac</th>\n",
       "      <th>optmistic</th>\n",
       "      <th>label</th>\n",
       "      <th>pred</th>\n",
       "    </tr>\n",
       "  </thead>\n",
       "  <tbody>\n",
       "    <tr>\n",
       "      <td>0</td>\n",
       "      <td>1</td>\n",
       "      <td>1</td>\n",
       "      <td>2</td>\n",
       "      <td>1</td>\n",
       "      <td>1</td>\n",
       "    </tr>\n",
       "    <tr>\n",
       "      <td>1</td>\n",
       "      <td>0</td>\n",
       "      <td>1</td>\n",
       "      <td>1</td>\n",
       "      <td>0</td>\n",
       "      <td>0</td>\n",
       "    </tr>\n",
       "    <tr>\n",
       "      <td>2</td>\n",
       "      <td>0</td>\n",
       "      <td>0</td>\n",
       "      <td>0</td>\n",
       "      <td>0</td>\n",
       "      <td>0</td>\n",
       "    </tr>\n",
       "    <tr>\n",
       "      <td>3</td>\n",
       "      <td>1</td>\n",
       "      <td>1</td>\n",
       "      <td>1</td>\n",
       "      <td>1</td>\n",
       "      <td>1</td>\n",
       "    </tr>\n",
       "    <tr>\n",
       "      <td>4</td>\n",
       "      <td>0</td>\n",
       "      <td>1</td>\n",
       "      <td>2</td>\n",
       "      <td>1</td>\n",
       "      <td>1</td>\n",
       "    </tr>\n",
       "    <tr>\n",
       "      <td>5</td>\n",
       "      <td>1</td>\n",
       "      <td>0</td>\n",
       "      <td>1</td>\n",
       "      <td>0</td>\n",
       "      <td>0</td>\n",
       "    </tr>\n",
       "    <tr>\n",
       "      <td>6</td>\n",
       "      <td>1</td>\n",
       "      <td>1</td>\n",
       "      <td>0</td>\n",
       "      <td>1</td>\n",
       "      <td>1</td>\n",
       "    </tr>\n",
       "    <tr>\n",
       "      <td>7</td>\n",
       "      <td>0</td>\n",
       "      <td>0</td>\n",
       "      <td>2</td>\n",
       "      <td>0</td>\n",
       "      <td>0</td>\n",
       "    </tr>\n",
       "    <tr>\n",
       "      <td>8</td>\n",
       "      <td>1</td>\n",
       "      <td>0</td>\n",
       "      <td>2</td>\n",
       "      <td>1</td>\n",
       "      <td>1</td>\n",
       "    </tr>\n",
       "    <tr>\n",
       "      <td>9</td>\n",
       "      <td>0</td>\n",
       "      <td>1</td>\n",
       "      <td>0</td>\n",
       "      <td>0</td>\n",
       "      <td>0</td>\n",
       "    </tr>\n",
       "  </tbody>\n",
       "</table>\n",
       "</div>"
      ],
      "text/plain": [
       "   appearance  charac  optmistic  label  pred\n",
       "0           1       1          2      1     1\n",
       "1           0       1          1      0     0\n",
       "2           0       0          0      0     0\n",
       "3           1       1          1      1     1\n",
       "4           0       1          2      1     1\n",
       "5           1       0          1      0     0\n",
       "6           1       1          0      1     1\n",
       "7           0       0          2      0     0\n",
       "8           1       0          2      1     1\n",
       "9           0       1          0      0     0"
      ]
     },
     "execution_count": 24,
     "metadata": {},
     "output_type": "execute_result"
    }
   ],
   "source": [
    "Y_pred = Data.apply(lambda i : quick_predict(i), axis = 1)\n",
    "Data['pred'] = Y_pred\n",
    "Data"
   ]
  },
  {
   "cell_type": "code",
   "execution_count": null,
   "metadata": {},
   "outputs": [],
   "source": []
  },
  {
   "cell_type": "code",
   "execution_count": 25,
   "metadata": {},
   "outputs": [],
   "source": [
    "# gaussian朴素贝叶斯\n",
    "\n",
    "from sklearn.naive_bayes import GaussianNB\n",
    "from sklearn.datasets import load_digits\n",
    "from sklearn.model_selection import train_test_split\n",
    "import matplotlib.pyplot as plt"
   ]
  },
  {
   "cell_type": "code",
   "execution_count": 26,
   "metadata": {},
   "outputs": [],
   "source": [
    "# 导入数据集\n",
    "digits = load_digits()\n",
    "X = digits.data\n",
    "Y = digits.target"
   ]
  },
  {
   "cell_type": "code",
   "execution_count": 27,
   "metadata": {},
   "outputs": [
    {
     "data": {
      "text/plain": [
       "(1797, 64)"
      ]
     },
     "execution_count": 27,
     "metadata": {},
     "output_type": "execute_result"
    }
   ],
   "source": [
    "X.shape"
   ]
  },
  {
   "cell_type": "code",
   "execution_count": 28,
   "metadata": {},
   "outputs": [
    {
     "data": {
      "image/png": "[encoded data removed]",
      "text/plain": [
       "<Figure size 1600x1200 with 12 Axes>"
      ]
     },
     "metadata": {
      "needs_background": "light"
     },
     "output_type": "display_data"
    }
   ],
   "source": [
    "#这是一个8*8的矩阵。每个数字是64个数。\n",
    "#X数据集里面每一个行是64个数。\n",
    "#每一行代表的就是一个数字的图像\n",
    "\n",
    "#可以尝试将这个图给画出来，我们可以选取前12个数\n",
    "\n",
    "%matplotlib inline\n",
    "\n",
    "images_and_labels = list(zip(digits.images, digits.target))\n",
    "\n",
    "plt.figure(figsize=(8,6), dpi=200)\n",
    "for index, (image, label) in enumerate(images_and_labels[:12]):\n",
    "    plt.subplot(3,4, index+1)\n",
    "    plt.axis('off')\n",
    "    plt.imshow(image, cmap = plt.cm.gray_r, interpolation='nearest')\n",
    "    plt.title('Digit: {}'.format(label))"
   ]
  },
  {
   "cell_type": "code",
   "execution_count": 29,
   "metadata": {},
   "outputs": [
    {
     "data": {
      "text/plain": [
       "array([[ 0.,  0.,  5., ...,  0.,  0.,  0.],\n",
       "       [ 0.,  0.,  0., ..., 10.,  0.,  0.],\n",
       "       [ 0.,  0.,  0., ..., 16.,  9.,  0.],\n",
       "       ...,\n",
       "       [ 0.,  0.,  1., ...,  6.,  0.,  0.],\n",
       "       [ 0.,  0.,  2., ..., 12.,  0.,  0.],\n",
       "       [ 0.,  0., 10., ..., 12.,  1.,  0.]])"
      ]
     },
     "execution_count": 29,
     "metadata": {},
     "output_type": "execute_result"
    }
   ],
   "source": [
    "X"
   ]
  },
  {
   "cell_type": "code",
   "execution_count": 30,
   "metadata": {},
   "outputs": [],
   "source": [
    "# 开始上模型\n",
    "\n",
    "GNB = GaussianNB()\n",
    "Xtrain, Xtest, Ytrain, Ytest = train_test_split(X, Y, test_size = 0.3, random_state = 420)"
   ]
  },
  {
   "cell_type": "code",
   "execution_count": 31,
   "metadata": {},
   "outputs": [
    {
     "data": {
      "text/plain": [
       "(0.8528241845664281, 0.8592592592592593)"
      ]
     },
     "execution_count": 31,
     "metadata": {},
     "output_type": "execute_result"
    }
   ],
   "source": [
    "GNB.fit(Xtrain, Ytrain)\n",
    "GNB.score(Xtrain, Ytrain), GNB.score(Xtest, Ytest)"
   ]
  },
  {
   "cell_type": "code",
   "execution_count": 32,
   "metadata": {},
   "outputs": [],
   "source": [
    "# 对于这部分数据集来说，想上很多的不一样的算法，比较各个算法的优缺点\n",
    "\n",
    "import numpy as np\n",
    "import matplotlib.pyplot as plt\n",
    "from sklearn.naive_bayes import GaussianNB\n",
    "from sklearn.svm import SVC\n",
    "from sklearn.ensemble import RandomForestClassifier as RFC\n",
    "from sklearn.tree import DecisionTreeClassifier as DTC\n",
    "from sklearn.linear_model import LogisticRegression as LR\n",
    "from sklearn.datasets import load_digits\n",
    "from sklearn.model_selection import learning_curve\n",
    "from sklearn.model_selection import ShuffleSplit\n",
    "from time import time\n",
    "import datetime"
   ]
  },
  {
   "cell_type": "code",
   "execution_count": 33,
   "metadata": {},
   "outputs": [],
   "source": [
    "#首先定义一个学习曲线\n",
    "\n",
    "def plot_learning_curve(estimator,title, X, y, \n",
    "                        ax, #选择子图\n",
    "                        ylim=None, #设置纵坐标的取值范围\n",
    "                        cv=None, #交叉验证\n",
    "                        n_jobs=None #设定索要使用的线程\n",
    "                       ):\n",
    "    train_sizes, train_scores, test_scores = learning_curve(estimator, X, y\n",
    "                                                            ,cv=cv,n_jobs=n_jobs)    \n",
    "    ax.set_title(title)\n",
    "    if ylim is not None:\n",
    "        ax.set_ylim(*ylim)\n",
    "    ax.set_xlabel(\"Training examples\")\n",
    "    ax.set_ylabel(\"Score\")\n",
    "    ax.grid() #显示网格作为背景，不是必须\n",
    "    ax.plot(train_sizes, np.mean(train_scores, axis=1), 'o-'\n",
    "            , color=\"r\",label=\"Training score\")\n",
    "    ax.plot(train_sizes, np.mean(test_scores, axis=1), 'o-'\n",
    "            , color=\"g\",label=\"Test score\")\n",
    "    ax.legend(loc=\"best\")\n",
    "    return ax"
   ]
  },
  {
   "cell_type": "code",
   "execution_count": 34,
   "metadata": {},
   "outputs": [
    {
     "data": {
      "text/plain": [
       "<matplotlib.axes._subplots.AxesSubplot at 0x7fbd9861eed0>"
      ]
     },
     "execution_count": 34,
     "metadata": {},
     "output_type": "execute_result"
    },
    {
     "data": {
      "image/png": "[encoded data removed]",
      "text/plain": [
       "<Figure size 432x288 with 1 Axes>"
      ]
     },
     "metadata": {
      "needs_background": "light"
     },
     "output_type": "display_data"
    }
   ],
   "source": [
    "estimator = GaussianNB()\n",
    "plt.figure()\n",
    "plot_learning_curve(estimator, 'Naive Bayes', X, Y, ax = plt.gca(), \n",
    "                    ylim = [0.3, 1.05], n_jobs = 4, cv = 5)\n",
    "\n",
    "# 1. 这个学习曲线，是不断来增大训练样本，观测模型在训练集和测试集下的表现\n",
    "# 2. 训练集的分数随着样本量的增大而下降。是因为数据集越大，噪音就会越多，是的训练出来的模型分数会略微低一点\n",
    "# 3. 在测试集上面随着样本量的增大，数据集里面X与Y真实规律体现的就越好，所以学习出来的模型，在测试表现的就越来越好了\n",
    "# 4. 这个图可以尝试用来观测当前是否出现过拟合的现象，就是训练集和测试集之间的分数的差值非常非常的大\n",
    "# 5. 也是可以观测欠拟合，在训练集上，模型就已经不是很好"
   ]
  },
  {
   "cell_type": "code",
   "execution_count": 35,
   "metadata": {},
   "outputs": [
    {
     "name": "stdout",
     "output_type": "stream",
     "text": [
      "Naive Bayes:00:01:176969\n",
      "DecisionTree:00:01:296223\n",
      "SVM, RBF kernel:00:07:335765\n",
      "RandomForest:00:10:339458\n",
      "Adaboost:00:22:327891\n"
     ]
    },
    {
     "data": {
      "image/png": "[encoded data removed]",
      "text/plain": [
       "<Figure size 2160x432 with 6 Axes>"
      ]
     },
     "metadata": {
      "needs_background": "light"
     },
     "output_type": "display_data"
    }
   ],
   "source": [
    "from sklearn.ensemble import AdaBoostClassifier\n",
    "#ShuffleSplit：一种不同于K折交叉验证的交叉验证模式\n",
    "cv = ShuffleSplit(n_splits=50 #分50组，进行五十次交叉验证\n",
    "                  , test_size=0.2 #从这50组中，抽取20%来做测试集，每次做切分都重新打乱了顺序\n",
    "                  , random_state=0)\n",
    "\n",
    "#使用5个模型，并且每一个模型都给实例化好\n",
    "title = [\"Naive Bayes\",\"DecisionTree\",\"SVM, RBF kernel\",\"RandomForest\",\"Adaboost\"] \n",
    "model = [GaussianNB(),DTC(),SVC(gamma=0.001)\n",
    "         ,RFC(n_estimators=50),AdaBoostClassifier(base_estimator = RFC())]\n",
    "\n",
    "\n",
    "#作图，使用for循环的方式来将各个estimator直接放入上面写好了学习曲线模型\n",
    "#且对于每一个模型来说，都记录各个模型的运行的时间\n",
    "\n",
    "fig, axes = plt.subplots(1,6,figsize=(30,6))\n",
    "for ind,title_,estimator in zip(range(len(title)),title,model):\n",
    "    times = time()\n",
    "    plot_learning_curve(estimator, title_, X, Y,\n",
    "                        ax=axes[ind], ylim = [0.2, 1.05],n_jobs=4, cv=cv)\n",
    "    print(\"{}:{}\".format(title_,datetime.datetime.fromtimestamp(time()-times).strftime(\"%M:%S:%f\")))\n",
    "plt.show()"
   ]
  },
  {
   "cell_type": "code",
   "execution_count": 36,
   "metadata": {},
   "outputs": [],
   "source": [
    "# 1. 从分数来看，SVM>RF,Log>Bayes, DT过拟合，Adaboost前拟合\n",
    "# 2. 从时间上来看，逻辑回归的时间最长，因为是回归类算法，64个特征全部都要进行计算，第二逻辑回归处理稀疏矩阵的效率不高\n",
    "# 3. 从时间上看，决策树的时间还是比较短的，因为在决策树构建的过程当中，优先的选择那几个最重要的特征在做树的构建，与预测的\n",
    "# 4. 所以64个特征使用特征可能很少，从而使得时间非常短。"
   ]
  },
  {
   "cell_type": "code",
   "execution_count": null,
   "metadata": {},
   "outputs": [],
   "source": []
  },
  {
   "cell_type": "code",
   "execution_count": 42,
   "metadata": {},
   "outputs": [
    {
     "data": {
      "text/plain": [
       "<matplotlib.collections.PathCollection at 0x7fbd986cf390>"
      ]
     },
     "execution_count": 42,
     "metadata": {},
     "output_type": "execute_result"
    },
    {
     "data": {
      "image/png": "[encoded data removed]",
      "text/plain": [
       "<Figure size 432x288 with 1 Axes>"
      ]
     },
     "metadata": {
      "needs_background": "light"
     },
     "output_type": "display_data"
    }
   ],
   "source": [
    "# 多项式朴素贝叶斯\n",
    "\n",
    "#可以模拟出一个数据集\n",
    "from sklearn.preprocessing import MinMaxScaler\n",
    "from sklearn.naive_bayes import MultinomialNB\n",
    "from sklearn.model_selection import train_test_split\n",
    "from sklearn.datasets import make_blobs\n",
    "\n",
    "class_1 = 500 \n",
    "class_2 = 500 #两个类别分别设定500个样本\n",
    "centers = [[0.0, 0.0], [2.0, 2.0]] #设定两个类别的中心\n",
    "clusters_std = [0.5, 0.5] #设定两个类别的方差\n",
    "X, Y = make_blobs(n_samples=[class_1, class_2],\n",
    "                  centers=centers,\n",
    "                  cluster_std=clusters_std,\n",
    "                  random_state=0, shuffle=False)\n",
    "\n",
    "Xtrain, Xtest, Ytrain, Ytest = train_test_split(X,Y\n",
    "                                                ,test_size=0.3\n",
    "                                                ,random_state=420)\n",
    "\n",
    "plt.scatter(X[:, 0], X[:, 1], c = Y)"
   ]
  },
  {
   "cell_type": "code",
   "execution_count": 48,
   "metadata": {},
   "outputs": [
    {
     "data": {
      "text/plain": [
       "(0.5157142857142857, 0.5433333333333333)"
      ]
     },
     "execution_count": 48,
     "metadata": {},
     "output_type": "execute_result"
    }
   ],
   "source": [
    "# 做归一化的处理，不改变信息不改变数据的分布\n",
    "\n",
    "mms = MinMaxScaler().fit(Xtrain, Ytrain)\n",
    "Xtrain_ = mms.transform(Xtrain)\n",
    "Xtest_ = mms.transform(Xtest)\n",
    "\n",
    "mnb = MultinomialNB().fit(Xtrain_, Ytrain)\n",
    "mnb.score(Xtrain_, Ytrain), mnb.score(Xtest_, Ytest)"
   ]
  },
  {
   "cell_type": "code",
   "execution_count": 71,
   "metadata": {},
   "outputs": [],
   "source": [
    "# 需要离散化连续型的变量，将其转化成类别型的变量, 首先使用encode = 'ordinal'\n",
    "\n",
    "from sklearn.preprocessing import KBinsDiscretizer\n",
    "kbs = KBinsDiscretizer(n_bins = 10, encode = 'onehot').fit(Xtrain)\n",
    "Xtrain_onehot = kbs.transform(Xtrain)\n",
    "Xtest_onehot = kbs.transform(Xtest)"
   ]
  },
  {
   "cell_type": "code",
   "execution_count": 76,
   "metadata": {},
   "outputs": [
    {
     "data": {
      "text/plain": [
       "<300x20 sparse matrix of type '<class 'numpy.float64'>'\n",
       "\twith 600 stored elements in Compressed Sparse Row format>"
      ]
     },
     "execution_count": 76,
     "metadata": {},
     "output_type": "execute_result"
    }
   ],
   "source": [
    "Xtest_onehot"
   ]
  },
  {
   "cell_type": "code",
   "execution_count": 78,
   "metadata": {},
   "outputs": [],
   "source": [
    "# # onehot是对ordinal进一步的处理，将ordinal得到离散的变量，进行了独热编码\n",
    "# from sklearn.preprocessing import KBinsDiscretizer\n",
    "# kbs = KBinsDiscretizer(n_bins = 10, encode = 'ordinal').fit(Xtrain)\n",
    "# Xtrain_ordinal = kbs.transform(Xtrain)\n",
    "# #Xtest_ = kbs.transform(Xtest)\n",
    "# Xtrain_ordinal[:5]"
   ]
  },
  {
   "cell_type": "code",
   "execution_count": 79,
   "metadata": {},
   "outputs": [
    {
     "data": {
      "text/plain": [
       "(0.9971428571428571, 0.9966666666666667)"
      ]
     },
     "execution_count": 79,
     "metadata": {},
     "output_type": "execute_result"
    }
   ],
   "source": [
    "mnb = MultinomialNB().fit(Xtrain_onehot, Ytrain)\n",
    "mnb.score(Xtrain_onehot, Ytrain), mnb.score(Xtest_onehot, Ytest)"
   ]
  },
  {
   "cell_type": "code",
   "execution_count": 80,
   "metadata": {},
   "outputs": [
    {
     "data": {
      "text/plain": [
       "(1.0, 1.0)"
      ]
     },
     "execution_count": 80,
     "metadata": {},
     "output_type": "execute_result"
    }
   ],
   "source": [
    "gnb = GaussianNB().fit(Xtrain, Ytrain)\n",
    "gnb.score(Xtrain, Ytrain), gnb.score(Xtest, Ytest)"
   ]
  },
  {
   "cell_type": "code",
   "execution_count": 81,
   "metadata": {},
   "outputs": [
    {
     "data": {
      "text/plain": [
       "(0.9842857142857143, 0.9833333333333333)"
      ]
     },
     "execution_count": 81,
     "metadata": {},
     "output_type": "execute_result"
    }
   ],
   "source": [
    "# 不努力贝叶斯\n",
    "\n",
    "from sklearn.naive_bayes import BernoulliNB\n",
    "mms = MinMaxScaler().fit(Xtrain, Ytrain)\n",
    "Xtrain_ = mms.transform(Xtrain)\n",
    "Xtest_ = mms.transform(Xtest)\n",
    "\n",
    "bnb = BernoulliNB(binarize = 0.5).fit(Xtrain_, Ytrain)\n",
    "bnb.score(Xtrain_, Ytrain), bnb.score(Xtest_, Ytest)"
   ]
  },
  {
   "cell_type": "code",
   "execution_count": 84,
   "metadata": {},
   "outputs": [
    {
     "data": {
      "text/plain": [
       "<matplotlib.collections.PathCollection at 0x7fbd99fbe9d0>"
      ]
     },
     "execution_count": 84,
     "metadata": {},
     "output_type": "execute_result"
    },
    {
     "data": {
      "image/png": "[encoded data removed]",
      "text/plain": [
       "<Figure size 432x288 with 1 Axes>"
      ]
     },
     "metadata": {
      "needs_background": "light"
     },
     "output_type": "display_data"
    }
   ],
   "source": [
    "# 探索数据不平衡\n",
    "class_1 = 50000 \n",
    "class_2 = 5000 #两个类别分别设定500个样本\n",
    "centers = [[0.0, 0.0], [5.0, 5.0]] #设定两个类别的中心\n",
    "clusters_std = [3, 0.8] #设定两个类别的方差\n",
    "X, y = make_blobs(n_samples=[class_1, class_2],\n",
    "                  centers=centers,\n",
    "                  cluster_std=clusters_std,\n",
    "                  random_state=0, shuffle=False)\n",
    "\n",
    "Xtrain, Xtest, Ytrain, Ytest = train_test_split(X,y,test_size=0.3,random_state=420)\n",
    "\n",
    "plt.scatter(X[:,0], X[:, 1], c = y)"
   ]
  },
  {
   "cell_type": "code",
   "execution_count": 87,
   "metadata": {},
   "outputs": [
    {
     "name": "stdout",
     "output_type": "stream",
     "text": [
      "Multinomial\n",
      "Accuracy : 0.981030303030303\n",
      "Recall : 0.8556316116988176\n",
      "Gaussian\n",
      "Accuracy : 0.9831515151515151\n",
      "Recall : 0.8732572877059569\n",
      "Bernoulli\n",
      "Accuracy : 0.9117575757575758\n",
      "Recall : 0.0\n"
     ]
    },
    {
     "name": "stderr",
     "output_type": "stream",
     "text": [
      "/Users/xiangyangni/anaconda3/lib/python3.7/site-packages/sklearn/metrics/_classification.py:1221: UndefinedMetricWarning: Recall is ill-defined and being set to 0.0 due to no true samples. Use `zero_division` parameter to control this behavior.\n",
      "  _warn_prf(average, modifier, msg_start, len(result))\n"
     ]
    }
   ],
   "source": [
    "from sklearn.metrics import recall_score\n",
    "# 对数据不平衡的探索\n",
    "name = ['Multinomial', 'Gaussian', 'Bernoulli']\n",
    "models = [MultinomialNB(), GaussianNB(), BernoulliNB(binarize = 0.5)]\n",
    "\n",
    "\n",
    "for n, model in zip(name, models):\n",
    "    # 每一个模型，处理数据的方式不一样，所以循环里面，都重新从原始的X,y进行一个切分，并且设置random_state保持切分的结果一致\n",
    "    Xtrain, Xtest, Ytrain, Ytest = train_test_split(X,y,test_size=0.3,random_state=420)\n",
    "    mms = MinMaxScaler().fit(Xtrain, Ytrain)\n",
    "    # 这个Xtrain可以覆盖掉原来的Xtrain\n",
    "    Xtrain = mms.transform(Xtrain)\n",
    "    Xtest = mms.transform(Xtest)\n",
    "    \n",
    "    # 如果模型是多项式的，需要分箱并且做独热编码\n",
    "    if n == 'Multinomial':\n",
    "        kbs = KBinsDiscretizer(n_bins = 10, encode = 'onehot').fit(Xtrain)\n",
    "        # 做了独热编码的Xtrain, 可以直接覆盖原来的Xtrain\n",
    "        Xtrain = kbs.transform(Xtrain)\n",
    "        Xtest = kbs.transform(Xtest)\n",
    "    \n",
    "    # 如果是多项式的化，此时这里的Xtrain就是做了独热编码的Xtrain\n",
    "    model.fit(Xtrain, Ytrain)\n",
    "    y_pred = model.predict(Xtest)\n",
    "    score = model.score(Xtest, Ytest)\n",
    "    recall = recall_score(y_pred, Ytest)\n",
    "    print(n)\n",
    "    print('Accuracy : {}'.format(score))\n",
    "    print('Recall : {}'.format(recall))"
   ]
  },
  {
   "cell_type": "code",
   "execution_count": 105,
   "metadata": {},
   "outputs": [],
   "source": [
    "# 使用决策树\n",
    "\n",
    "from sklearn.tree import DecisionTreeClassifier\n",
    "from sklearn.svm import SVC\n",
    "from sklearn.ensemble import RandomForestClassifier"
   ]
  },
  {
   "cell_type": "code",
   "execution_count": 106,
   "metadata": {},
   "outputs": [
    {
     "data": {
      "text/plain": [
       "(1.0, 0.9812727272727273)"
      ]
     },
     "execution_count": 106,
     "metadata": {},
     "output_type": "execute_result"
    }
   ],
   "source": [
    "#clf = DecisionTreeClassifier(class_weight = {0: 1, 1: 10})\n",
    "#clf = SVC(kernel = 'rbf', class_weight = 'balanced')\n",
    "clf = RandomForestClassifier(class_weight = 'balanced')\n",
    "clf.fit(Xtrain, Ytrain)\n",
    "clf.score(Xtrain, Ytrain), clf.score(Xtest, Ytest)"
   ]
  },
  {
   "cell_type": "code",
   "execution_count": 107,
   "metadata": {},
   "outputs": [
    {
     "data": {
      "text/plain": [
       "(1.0, 0.8688102893890676)"
      ]
     },
     "execution_count": 107,
     "metadata": {},
     "output_type": "execute_result"
    }
   ],
   "source": [
    "Y_pred_train = clf.predict(Xtrain)\n",
    "Y_pred_test = clf.predict(Xtest)\n",
    "\n",
    "recall_score(Y_pred_train, Ytrain), recall_score(Y_pred_test, Ytest)"
   ]
  }
 ],
 "metadata": {
  "kernelspec": {
   "display_name": "Python 3",
   "language": "python",
   "name": "python3"
  },
  "language_info": {
   "codemirror_mode": {
    "name": "ipython",
    "version": 3
   },
   "file_extension": ".py",
   "mimetype": "text/x-python",
   "name": "python",
   "nbconvert_exporter": "python",
   "pygments_lexer": "ipython3",
   "version": "3.7.4"
  }
 },
 "nbformat": 4,
 "nbformat_minor": 4
}
