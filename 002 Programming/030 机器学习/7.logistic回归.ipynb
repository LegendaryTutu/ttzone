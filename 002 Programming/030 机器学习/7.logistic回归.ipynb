{
 "cells": [
  {
   "cell_type": "code",
   "execution_count": 2,
   "metadata": {},
   "outputs": [
    {
     "name": "stdout",
     "output_type": "stream",
     "text": [
      "   ID  age  age_group  ed  employ  address  income  debtinc  creddebt  \\\n",
      "0   1   41          3   3      17       12    35.9    11.90  0.504108   \n",
      "1   2   30          2   1      13        8    46.7    17.88  1.352694   \n",
      "\n",
      "    othdebt  default  \n",
      "0  3.767992        0  \n",
      "1  6.997266        0  \n"
     ]
    }
   ],
   "source": [
    "#导入包\n",
    "import numpy as np\n",
    "import pandas as pd\n",
    "import statsmodels.formula.api as smf\n",
    "from sklearn import linear_model\n",
    "import matplotlib.pyplot as plt\n",
    "%matplotlib inline\n",
    "\n",
    "from sklearn.model_selection import train_test_split,cross_val_score\n",
    "df=pd.read_excel(\"C:\\\\Users\\\\有福有德\\\\Desktop\\\\上海统计分析python20200513\\\\data\\\\bankloan_binning.xlsx\")\n",
    "print(df.head(2))\n",
    "xtrain,xtest,ytrain,ytest=train_test_split(df.iloc[:,[2,3,4,5,6,7,8,9]],df.iloc[:,-1]\n",
    "                                           ,test_size=0.2,random_state=0)#train_size=0.8\n",
    "xtrain1,xvalid,ytrain1,yvalid=train_test_split(xtrain,ytrain\n",
    "                                           ,test_size=0.2,random_state=0)#train_size=0.8"
   ]
  },
  {
   "cell_type": "code",
   "execution_count": 3,
   "metadata": {},
   "outputs": [
    {
     "name": "stdout",
     "output_type": "stream",
     "text": [
      "[array([[1.05144733, 1.03614304, 0.83083869, 0.91294581, 0.9957268 ,\n",
      "        1.0973094 , 1.61351223, 1.01912845]]), array([[ 0.02507855,  0.01775074, -0.09239553, -0.04550792, -0.00214118,\n",
      "         0.04639726,  0.23474626,  0.00947362]])]\n"
     ]
    },
    {
     "name": "stderr",
     "output_type": "stream",
     "text": [
      "E:\\python\\lib\\site-packages\\sklearn\\linear_model\\logistic.py:947: ConvergenceWarning: lbfgs failed to converge. Increase the number of iterations.\n",
      "  \"of iterations.\", ConvergenceWarning)\n"
     ]
    },
    {
     "data": {
      "text/html": [
       "<div>\n",
       "<style scoped>\n",
       "    .dataframe tbody tr th:only-of-type {\n",
       "        vertical-align: middle;\n",
       "    }\n",
       "\n",
       "    .dataframe tbody tr th {\n",
       "        vertical-align: top;\n",
       "    }\n",
       "\n",
       "    .dataframe thead th {\n",
       "        text-align: right;\n",
       "    }\n",
       "</style>\n",
       "<table border=\"1\" class=\"dataframe\">\n",
       "  <thead>\n",
       "    <tr style=\"text-align: right;\">\n",
       "      <th></th>\n",
       "      <th>0</th>\n",
       "      <th>1</th>\n",
       "    </tr>\n",
       "  </thead>\n",
       "  <tbody>\n",
       "    <tr>\n",
       "      <td>0</td>\n",
       "      <td>0.548651</td>\n",
       "      <td>0.451349</td>\n",
       "    </tr>\n",
       "    <tr>\n",
       "      <td>1</td>\n",
       "      <td>0.609137</td>\n",
       "      <td>0.390863</td>\n",
       "    </tr>\n",
       "  </tbody>\n",
       "</table>\n",
       "</div>"
      ],
      "text/plain": [
       "          0         1\n",
       "0  0.548651  0.451349\n",
       "1  0.609137  0.390863"
      ]
     },
     "execution_count": 3,
     "metadata": {},
     "output_type": "execute_result"
    }
   ],
   "source": [
    "#-----------python数据处理标准流程------------\n",
    "#第一、导入包和对应的类\n",
    "#第二、实例化\n",
    "#第三、拟合数据\n",
    "#第四、评估模型\n",
    "#第五、预测评分\n",
    "\n",
    "#分类预测\n",
    "from sklearn import linear_model\n",
    "log=linear_model.LogisticRegression(solver=\"lbfgs\",C=3)\n",
    "#\"lbfgs\"慢但稳健；\"newton-cg\"不能处理多分类,但比lbfgs快；\"sag\"处理大型的列和行，二分类；\n",
    "log.fit(xtrain,ytrain)#拟合训练集数据\n",
    "log.score(xtest,ytest)#非监督模型是transform\n",
    "y_log=log.predict(xtest)#predict_proba\n",
    "\n",
    "log.coef_#回归系数\n",
    "exp=np.exp(log.coef_)#or值，解释业务关系\n",
    "gamma=(exp-1)/(exp+1)#gamma值，解释变量相关强度\n",
    "print([exp,gamma])\n",
    "\n",
    "# 老(新)样本预测\n",
    "x1=np.array([[2,1,3.767992,3.90,0.504108,3.767992,2.90,1.504108],\n",
    "             [3,4,0.767992,3.90,1.504108,3.767992,0.90,1.504108]])\n",
    "pdata=pd.DataFrame(log.predict_proba(x1))#fit.predict表示预测值\n",
    "pdata.head(6)\n"
   ]
  },
  {
   "cell_type": "code",
   "execution_count": 4,
   "metadata": {},
   "outputs": [
    {
     "name": "stdout",
     "output_type": "stream",
     "text": [
      "Optimization terminated successfully.\n",
      "         Current function value: 0.408216\n",
      "         Iterations 7\n"
     ]
    },
    {
     "data": {
      "text/html": [
       "<table class=\"simpletable\">\n",
       "<caption>Logit Regression Results</caption>\n",
       "<tr>\n",
       "  <th>Dep. Variable:</th>        <td>default</td>     <th>  No. Observations:  </th>  <td>  5000</td> \n",
       "</tr>\n",
       "<tr>\n",
       "  <th>Model:</th>                 <td>Logit</td>      <th>  Df Residuals:      </th>  <td>  4992</td> \n",
       "</tr>\n",
       "<tr>\n",
       "  <th>Method:</th>                 <td>MLE</td>       <th>  Df Model:          </th>  <td>     7</td> \n",
       "</tr>\n",
       "<tr>\n",
       "  <th>Date:</th>            <td>Thu, 21 May 2020</td> <th>  Pseudo R-squ.:     </th>  <td>0.2758</td> \n",
       "</tr>\n",
       "<tr>\n",
       "  <th>Time:</th>                <td>07:10:02</td>     <th>  Log-Likelihood:    </th> <td> -2041.1</td>\n",
       "</tr>\n",
       "<tr>\n",
       "  <th>converged:</th>             <td>True</td>       <th>  LL-Null:           </th> <td> -2818.2</td>\n",
       "</tr>\n",
       "<tr>\n",
       "  <th>Covariance Type:</th>     <td>nonrobust</td>    <th>  LLR p-value:       </th>  <td> 0.000</td> \n",
       "</tr>\n",
       "</table>\n",
       "<table class=\"simpletable\">\n",
       "<tr>\n",
       "      <td></td>         <th>coef</th>     <th>std err</th>      <th>z</th>      <th>P>|z|</th>  <th>[0.025</th>    <th>0.975]</th>  \n",
       "</tr>\n",
       "<tr>\n",
       "  <th>age_group</th> <td>   -0.0921</td> <td>    0.049</td> <td>   -1.873</td> <td> 0.061</td> <td>   -0.189</td> <td>    0.004</td>\n",
       "</tr>\n",
       "<tr>\n",
       "  <th>ed</th>        <td>   -0.0420</td> <td>    0.040</td> <td>   -1.049</td> <td> 0.294</td> <td>   -0.120</td> <td>    0.037</td>\n",
       "</tr>\n",
       "<tr>\n",
       "  <th>employ</th>    <td>   -0.1969</td> <td>    0.011</td> <td>  -18.487</td> <td> 0.000</td> <td>   -0.218</td> <td>   -0.176</td>\n",
       "</tr>\n",
       "<tr>\n",
       "  <th>address</th>   <td>   -0.0961</td> <td>    0.009</td> <td>  -11.082</td> <td> 0.000</td> <td>   -0.113</td> <td>   -0.079</td>\n",
       "</tr>\n",
       "<tr>\n",
       "  <th>income</th>    <td>   -0.0126</td> <td>    0.003</td> <td>   -4.056</td> <td> 0.000</td> <td>   -0.019</td> <td>   -0.007</td>\n",
       "</tr>\n",
       "<tr>\n",
       "  <th>debtinc</th>   <td>    0.0474</td> <td>    0.008</td> <td>    6.206</td> <td> 0.000</td> <td>    0.032</td> <td>    0.062</td>\n",
       "</tr>\n",
       "<tr>\n",
       "  <th>creddebt</th>  <td>    0.5543</td> <td>    0.034</td> <td>   16.075</td> <td> 0.000</td> <td>    0.487</td> <td>    0.622</td>\n",
       "</tr>\n",
       "<tr>\n",
       "  <th>othdebt</th>   <td>    0.1030</td> <td>    0.021</td> <td>    4.809</td> <td> 0.000</td> <td>    0.061</td> <td>    0.145</td>\n",
       "</tr>\n",
       "</table>"
      ],
      "text/plain": [
       "<class 'statsmodels.iolib.summary.Summary'>\n",
       "\"\"\"\n",
       "                           Logit Regression Results                           \n",
       "==============================================================================\n",
       "Dep. Variable:                default   No. Observations:                 5000\n",
       "Model:                          Logit   Df Residuals:                     4992\n",
       "Method:                           MLE   Df Model:                            7\n",
       "Date:                Thu, 21 May 2020   Pseudo R-squ.:                  0.2758\n",
       "Time:                        07:10:02   Log-Likelihood:                -2041.1\n",
       "converged:                       True   LL-Null:                       -2818.2\n",
       "Covariance Type:            nonrobust   LLR p-value:                     0.000\n",
       "==============================================================================\n",
       "                 coef    std err          z      P>|z|      [0.025      0.975]\n",
       "------------------------------------------------------------------------------\n",
       "age_group     -0.0921      0.049     -1.873      0.061      -0.189       0.004\n",
       "ed            -0.0420      0.040     -1.049      0.294      -0.120       0.037\n",
       "employ        -0.1969      0.011    -18.487      0.000      -0.218      -0.176\n",
       "address       -0.0961      0.009    -11.082      0.000      -0.113      -0.079\n",
       "income        -0.0126      0.003     -4.056      0.000      -0.019      -0.007\n",
       "debtinc        0.0474      0.008      6.206      0.000       0.032       0.062\n",
       "creddebt       0.5543      0.034     16.075      0.000       0.487       0.622\n",
       "othdebt        0.1030      0.021      4.809      0.000       0.061       0.145\n",
       "==============================================================================\n",
       "\"\"\""
      ]
     },
     "execution_count": 4,
     "metadata": {},
     "output_type": "execute_result"
    }
   ],
   "source": [
    "#使用api包统一输出所有统计量\n",
    "import statsmodels.api as sm\n",
    "\n",
    "X=pd.DataFrame(df.iloc[:,2:10])\n",
    "y=pd.DataFrame(df.iloc[:,-1])\n",
    "sm.Logit(y,X).fit().summary()\n"
   ]
  },
  {
   "cell_type": "code",
   "execution_count": 12,
   "metadata": {},
   "outputs": [
    {
     "name": "stdout",
     "output_type": "stream",
     "text": [
      "              precision    recall  f1-score   support\n",
      "\n",
      "         非违约       0.85      0.92      0.88       767\n",
      "          违约       0.62      0.45      0.52       233\n",
      "\n",
      "    accuracy                           0.81      1000\n",
      "   macro avg       0.74      0.68      0.70      1000\n",
      "weighted avg       0.79      0.81      0.80      1000\n",
      "\n"
     ]
    },
    {
     "data": {
      "text/plain": [
       "<matplotlib.axes._subplots.AxesSubplot at 0x1c219e2c088>"
      ]
     },
     "execution_count": 12,
     "metadata": {},
     "output_type": "execute_result"
    },
    {
     "data": {
      "image/png": "[encoded data removed]",
      "text/plain": [
       "<Figure size 432x288 with 2 Axes>"
      ]
     },
     "metadata": {
      "needs_background": "light"
     },
     "output_type": "display_data"
    }
   ],
   "source": [
    "#-----------混淆矩阵与预测-----------\n",
    "#(1)预测分类\n",
    "import seaborn as sns\n",
    "import matplotlib.pyplot as plt\n",
    "from sklearn.metrics import confusion_matrix\n",
    "from sklearn.metrics import classification_report\n",
    "\n",
    "cm=confusion_matrix(ytest,y_log)\n",
    "print(classification_report(ytest,y_log,target_names=['非违约','违约']))\n",
    "sns.heatmap(cm,fmt=\"d\",cmap=\"gist_ncar\",annot=True,center=True)#annot将数值显示在单元格里"
   ]
  },
  {
   "cell_type": "code",
   "execution_count": 14,
   "metadata": {},
   "outputs": [
    {
     "name": "stdout",
     "output_type": "stream",
     "text": [
      "交叉验证：[0.54901961 0.53658537 0.54901961]\n",
      "平均交叉验证得分：0.5448748605133109\n"
     ]
    },
    {
     "name": "stderr",
     "output_type": "stream",
     "text": [
      "E:\\python\\lib\\site-packages\\sklearn\\linear_model\\logistic.py:947: ConvergenceWarning: lbfgs failed to converge. Increase the number of iterations.\n",
      "  \"of iterations.\", ConvergenceWarning)\n"
     ]
    }
   ],
   "source": [
    "#-----------交叉验证-----------\n",
    "from sklearn.model_selection import cross_val_score,LeaveOneOut,KFold,GroupKFold\n",
    "scores1=cross_val_score(log,xtrain,ytrain,cv=3,scoring=\"f1\")#默认是正确率，参数scoring=\"precision\"or\"recall\",'f1'\n",
    "print('交叉验证：%s'%scores1);\n",
    "print('平均交叉验证得分：%s'% np.mean(scores1))"
   ]
  },
  {
   "cell_type": "code",
   "execution_count": 16,
   "metadata": {},
   "outputs": [
    {
     "name": "stdout",
     "output_type": "stream",
     "text": [
      "最优得分：0.80875\n",
      "测试得分：0.81\n",
      "全部及最优系数：LogisticRegression(C=0.3, class_weight=None, dual=False, fit_intercept=True,\n",
      "                   intercept_scaling=1, l1_ratio=None, max_iter=100,\n",
      "                   multi_class='warn', n_jobs=None, penalty='l2',\n",
      "                   random_state=None, solver='liblinear', tol=0.0001, verbose=0,\n",
      "                   warm_start=False)\n",
      "定义搜索的最优系数：{'C': 0.3, 'solver': 'liblinear'}\n"
     ]
    },
    {
     "data": {
      "text/plain": [
       "array([[0.97428539, 0.02571461],\n",
       "       [0.00293531, 0.99706469],\n",
       "       [0.93836995, 0.06163005],\n",
       "       [0.99165895, 0.00834105],\n",
       "       [0.9902532 , 0.0097468 ],\n",
       "       [0.82910195, 0.17089805]])"
      ]
     },
     "execution_count": 16,
     "metadata": {},
     "output_type": "execute_result"
    }
   ],
   "source": [
    "#-----------#6.网格搜索-----------\n",
    "from sklearn.model_selection import GridSearchCV\n",
    "\n",
    "#GridSearchCV网格搜索\n",
    "parameters={'solver':['newton-cg','lbfgs', 'liblinear','sag','saga'],\n",
    "            #'penalty':['l2','l1'],#l2岭回归，l1为lasso，强调可解释\n",
    "            'C':[0.3,1,2]        \n",
    "           }\n",
    "#线性回归中叫algha系数，logistic和svm叫C。惩罚系数的倒数，值越小,正则化越大（惩罚越大），修正过拟合，共线性\n",
    "grid_search=GridSearchCV(log,parameters,cv=3,n_jobs=-1)#scoring='accuracy'\n",
    "grid_search.fit(xtrain,ytrain)\n",
    "print(\"最优得分：%s\" %grid_search.best_score_)\n",
    "print(\"测试得分：%s\" %grid_search.score(xtest,ytest))\n",
    "print(\"全部及最优系数：%s\" %grid_search.best_estimator_)\n",
    "print(\"定义搜索的最优系数：%s\" %grid_search.best_params_)\n",
    "\n",
    "#最后使用最优系数构建模型\n",
    "# model=grid_search.best_estimator_\n",
    "# ypre=model.fit(xtrain,ytrain).predict_proba(xtrain)\n",
    "# ypre[:6]"
   ]
  },
  {
   "cell_type": "code",
   "execution_count": 20,
   "metadata": {},
   "outputs": [
    {
     "name": "stdout",
     "output_type": "stream",
     "text": [
      "Iteration: 0\n",
      "Iteration: 1\n"
     ]
    },
    {
     "name": "stderr",
     "output_type": "stream",
     "text": [
      "E:\\python\\lib\\site-packages\\sklearn\\ensemble\\forest.py:245: FutureWarning: The default value of n_estimators will change from 10 in version 0.20 to 100 in 0.22.\n",
      "  \"10 in version 0.20 to 100 in 0.22.\", FutureWarning)\n",
      "E:\\python\\lib\\site-packages\\sklearn\\ensemble\\forest.py:460: UserWarning: Some inputs do not have OOB scores. This probably means too few trees were used to compute any reliable oob estimates.\n",
      "  warn(\"Some inputs do not have OOB scores. \"\n",
      "E:\\python\\lib\\site-packages\\sklearn\\ensemble\\forest.py:465: RuntimeWarning: invalid value encountered in true_divide\n",
      "  predictions[k].sum(axis=1)[:, np.newaxis])\n"
     ]
    },
    {
     "name": "stdout",
     "output_type": "stream",
     "text": [
      "缺失值统计量: {'col_means': array([ 2.476     ,  1.74325   ,  8.7582142 ,  8.16675013, 47.61104093,\n",
      "       10.12927726,  1.60174617,  3.15099303]), 'col_modes': None}\n",
      "变量变换: [  3.           4.          38.          37.         420.9\n",
      "  44.5         32.36245407  53.38316532]\n",
      "特征选择: [False False  True False False  True  True False]\n",
      "构建模型: [0.1805651  0.42098134 0.39845356]\n",
      "Iteration: 0\n",
      "Iteration: 1\n",
      "模型评分: 0.775\n"
     ]
    }
   ],
   "source": [
    "#==============7.pipeline管道=============\n",
    "#Pipeline需要命名；make_pipeline不需要命名\n",
    "\n",
    "#----------------标准管道---------------------------\n",
    "#分类器前的预分析：特征提取（主成分）、特征选择（变量选择）、缩放（各种变量变换）、分类（聚类）、缺失值\n",
    "from sklearn.pipeline import Pipeline\n",
    "from sklearn.preprocessing import *\n",
    "from sklearn.feature_selection import SelectFromModel\n",
    "from sklearn.svm import LinearSVC\n",
    "from sklearn.ensemble import RandomForestClassifier\n",
    "from missingpy import MissForest\n",
    "\n",
    "pipe = Pipeline([ \n",
    "               (\"缺失值1\",MissForest(n_estimators=2,min_samples_leaf=9000)),\n",
    "               (\"规范化2\",MinMaxScaler(feature_range=(0,1))),\n",
    "               (\"特征选择3\",SelectFromModel(LinearSVC(penalty=\"l2\",random_state=0),max_features=3)),\n",
    "               (\"模型4\",RandomForestClassifier(oob_score=True,random_state=0))\n",
    "               ])\n",
    "rf_clf=pipe.fit(xtrain,ytrain)\n",
    "\n",
    "print('缺失值统计量:',pipe.named_steps['缺失值1'].statistics_)\n",
    "print('变量变换:',pipe.named_steps['规范化2'].data_range_)\n",
    "print('特征选择:',pipe.named_steps['特征选择3'].get_support())#筛选标记\n",
    "print('构建模型:',pipe.named_steps['模型4'].feature_importances_)#变量重要性\n",
    "print('模型评分:',pipe.score(xtest,ytest))#主要使用测试集评分\n",
    "\n",
    "#----------------管道与网格搜索、交叉验证---------------------------\n",
    "# from sklearn.model_selection import GridSearchCV\n",
    "\n",
    "# #定义数据流\n",
    "# pipe_gc = Pipeline([ \n",
    "#                (\"缺失值1\",MissForest(n_estimators=2,min_samples_leaf=9000)),\n",
    "#                (\"规范化2\",MinMaxScaler(feature_range=(0,1))),\n",
    "#                (\"特征选择3\",SelectFromModel(LinearSVC())),\n",
    "#                (\"模型4\",RandomForestClassifier())\n",
    "#                ])\n",
    "\n",
    "# #定义参数：主要参数名需要加步骤的标签\n",
    "# param_p=[{'特征选择3__max_features':[2,4,6]},\n",
    "#          {'模型4__min_samples_leaf':[1000,2000,5000],\n",
    "#           '模型4__n_estimators':[2,5,6]}\n",
    "#         ]\n",
    "\n",
    "# grid_search_p=GridSearchCV(estimator=pipe_gc,param_grid=param_p,cv=2,n_jobs=-1)\n",
    "# grid_search_p.fit(xtrain,ytrain)\n",
    "# print(\"测试得分：%s\" %grid_search_p.score(xtest,ytest))\n",
    "# print(\"全部及最优系数：%s\" %grid_search_p.best_estimator_)\n",
    "# print(\"定义搜索的最优系数：%s\" %grid_search_p.best_params_)"
   ]
  }
 ],
 "metadata": {
  "celltoolbar": "Tags",
  "kernelspec": {
   "display_name": "Python 3",
   "language": "python",
   "name": "python3"
  },
  "language_info": {
   "codemirror_mode": {
    "name": "ipython",
    "version": 3
   },
   "file_extension": ".py",
   "mimetype": "text/x-python",
   "name": "python",
   "nbconvert_exporter": "python",
   "pygments_lexer": "ipython3",
   "version": "3.7.4"
  }
 },
 "nbformat": 4,
 "nbformat_minor": 2
}
