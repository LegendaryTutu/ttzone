{
 "cells": [
  {
   "cell_type": "code",
   "execution_count": 2,
   "metadata": {},
   "outputs": [
    {
     "data": {
      "text/html": [
       "<div>\n",
       "<style scoped>\n",
       "    .dataframe tbody tr th:only-of-type {\n",
       "        vertical-align: middle;\n",
       "    }\n",
       "\n",
       "    .dataframe tbody tr th {\n",
       "        vertical-align: top;\n",
       "    }\n",
       "\n",
       "    .dataframe thead th {\n",
       "        text-align: right;\n",
       "    }\n",
       "</style>\n",
       "<table border=\"1\" class=\"dataframe\">\n",
       "  <thead>\n",
       "    <tr style=\"text-align: right;\">\n",
       "      <th></th>\n",
       "      <th>accompany</th>\n",
       "      <th>game</th>\n",
       "      <th>education</th>\n",
       "      <th>label</th>\n",
       "    </tr>\n",
       "  </thead>\n",
       "  <tbody>\n",
       "    <tr>\n",
       "      <td>0</td>\n",
       "      <td>1</td>\n",
       "      <td>1</td>\n",
       "      <td>0</td>\n",
       "      <td>1</td>\n",
       "    </tr>\n",
       "    <tr>\n",
       "      <td>1</td>\n",
       "      <td>1</td>\n",
       "      <td>1</td>\n",
       "      <td>2</td>\n",
       "      <td>1</td>\n",
       "    </tr>\n",
       "    <tr>\n",
       "      <td>2</td>\n",
       "      <td>1</td>\n",
       "      <td>0</td>\n",
       "      <td>1</td>\n",
       "      <td>0</td>\n",
       "    </tr>\n",
       "    <tr>\n",
       "      <td>3</td>\n",
       "      <td>0</td>\n",
       "      <td>1</td>\n",
       "      <td>2</td>\n",
       "      <td>0</td>\n",
       "    </tr>\n",
       "    <tr>\n",
       "      <td>4</td>\n",
       "      <td>0</td>\n",
       "      <td>1</td>\n",
       "      <td>2</td>\n",
       "      <td>0</td>\n",
       "    </tr>\n",
       "  </tbody>\n",
       "</table>\n",
       "</div>"
      ],
      "text/plain": [
       "   accompany  game  education  label\n",
       "0          1     1          0      1\n",
       "1          1     1          2      1\n",
       "2          1     0          1      0\n",
       "3          0     1          2      0\n",
       "4          0     1          2      0"
      ]
     },
     "execution_count": 2,
     "metadata": {},
     "output_type": "execute_result"
    }
   ],
   "source": [
    "# 导入一些包\n",
    "import numpy as np\n",
    "import pandas as pd\n",
    "\n",
    "def createDataSet():\n",
    "    row_data = {'accompany':[1,1,1,0,0],\n",
    "                'game':[1,1,0,1,1],\n",
    "                'education':[0,2,1,2,2],\n",
    "                'label':[1,1,0,0,0]}\n",
    "    dataSet = pd.DataFrame(row_data)\n",
    "    return dataSet\n",
    "dataSet = createDataSet()\n",
    "dataSet"
   ]
  },
  {
   "cell_type": "code",
   "execution_count": 4,
   "metadata": {},
   "outputs": [],
   "source": [
    "def calEnt(dataSet):\n",
    "    label = dataSet.iloc[:, -1]\n",
    "    p = label.value_counts()/label.shape[0]\n",
    "    ent = (-p * np.log2(p)).sum()\n",
    "    return ent"
   ]
  },
  {
   "cell_type": "code",
   "execution_count": 5,
   "metadata": {},
   "outputs": [],
   "source": [
    "def bestSplit_silly(dataSet):\n",
    "    baseEnt = calEnt(dataSet)                                # 计算原始熵\n",
    "    bestGain = 0                                             # 初始化信息增益\n",
    "    axis = -1                                                # 初始化最佳切分列，标签列\n",
    "    for i in range(dataSet.shape[1]-1):                      # 对特征的每一列进行循环\n",
    "        levels= dataSet.iloc[:,i].value_counts().index       # 提取出当前列的所有取值\n",
    "        ents = 0                                             # 初始化子节点的信息熵\n",
    "        for j in levels:                                     # 对当前列的每一个取值进行循环\n",
    "            childSet = dataSet[dataSet.iloc[:,i]==j]         # 某一个子节点的dataframe\n",
    "            ent = calEnt(childSet)                           # 计算某一个子节点的信息熵\n",
    "            ents += (childSet.shape[0]/dataSet.shape[0])*ent # 计算当前列的信息熵\n",
    "            #print(f'第{i}列的信息熵为{ents}')\n",
    "        infoGain = baseEnt-ents                              # 计算当前列的信息增益\n",
    "        #print(f'第{i}列的信息增益为{infoGain}')\n",
    "        if (infoGain > bestGain):\n",
    "            bestGain = infoGain                              # 选择最大信息增益\n",
    "            axis = i                                         # 最大信息增益所在列的索引\n",
    "    return axis"
   ]
  },
  {
   "cell_type": "code",
   "execution_count": null,
   "metadata": {},
   "outputs": [],
   "source": []
  },
  {
   "cell_type": "code",
   "execution_count": 6,
   "metadata": {},
   "outputs": [
    {
     "data": {
      "text/html": [
       "<div>\n",
       "<style scoped>\n",
       "    .dataframe tbody tr th:only-of-type {\n",
       "        vertical-align: middle;\n",
       "    }\n",
       "\n",
       "    .dataframe tbody tr th {\n",
       "        vertical-align: top;\n",
       "    }\n",
       "\n",
       "    .dataframe thead th {\n",
       "        text-align: right;\n",
       "    }\n",
       "</style>\n",
       "<table border=\"1\" class=\"dataframe\">\n",
       "  <thead>\n",
       "    <tr style=\"text-align: right;\">\n",
       "      <th></th>\n",
       "      <th>accompany</th>\n",
       "      <th>game</th>\n",
       "      <th>education</th>\n",
       "      <th>label</th>\n",
       "    </tr>\n",
       "  </thead>\n",
       "  <tbody>\n",
       "    <tr>\n",
       "      <td>0</td>\n",
       "      <td>1</td>\n",
       "      <td>1</td>\n",
       "      <td>0</td>\n",
       "      <td>1</td>\n",
       "    </tr>\n",
       "    <tr>\n",
       "      <td>1</td>\n",
       "      <td>1</td>\n",
       "      <td>1</td>\n",
       "      <td>2</td>\n",
       "      <td>1</td>\n",
       "    </tr>\n",
       "    <tr>\n",
       "      <td>2</td>\n",
       "      <td>1</td>\n",
       "      <td>0</td>\n",
       "      <td>1</td>\n",
       "      <td>0</td>\n",
       "    </tr>\n",
       "    <tr>\n",
       "      <td>3</td>\n",
       "      <td>0</td>\n",
       "      <td>1</td>\n",
       "      <td>2</td>\n",
       "      <td>0</td>\n",
       "    </tr>\n",
       "    <tr>\n",
       "      <td>4</td>\n",
       "      <td>0</td>\n",
       "      <td>1</td>\n",
       "      <td>2</td>\n",
       "      <td>0</td>\n",
       "    </tr>\n",
       "  </tbody>\n",
       "</table>\n",
       "</div>"
      ],
      "text/plain": [
       "   accompany  game  education  label\n",
       "0          1     1          0      1\n",
       "1          1     1          2      1\n",
       "2          1     0          1      0\n",
       "3          0     1          2      0\n",
       "4          0     1          2      0"
      ]
     },
     "execution_count": 6,
     "metadata": {},
     "output_type": "execute_result"
    }
   ],
   "source": [
    "# 新的办法\n",
    "dataSet"
   ]
  },
  {
   "cell_type": "code",
   "execution_count": 7,
   "metadata": {},
   "outputs": [
    {
     "data": {
      "text/plain": [
       "0.9709505944546686"
      ]
     },
     "execution_count": 7,
     "metadata": {},
     "output_type": "execute_result"
    }
   ],
   "source": [
    "baseEnt = calEnt(dataSet)\n",
    "baseEnt"
   ]
  },
  {
   "cell_type": "code",
   "execution_count": 8,
   "metadata": {},
   "outputs": [
    {
     "data": {
      "text/plain": [
       "[(0,    accompany  game  education  label\n",
       "  3          0     1          2      0\n",
       "  4          0     1          2      0),\n",
       " (1,    accompany  game  education  label\n",
       "  0          1     1          0      1\n",
       "  1          1     1          2      1\n",
       "  2          1     0          1      0)]"
      ]
     },
     "execution_count": 8,
     "metadata": {},
     "output_type": "execute_result"
    }
   ],
   "source": [
    "col = 'accompany'\n",
    "list(dataSet.groupby(col))"
   ]
  },
  {
   "cell_type": "code",
   "execution_count": 15,
   "metadata": {},
   "outputs": [
    {
     "data": {
      "text/html": [
       "<div>\n",
       "<style scoped>\n",
       "    .dataframe tbody tr th:only-of-type {\n",
       "        vertical-align: middle;\n",
       "    }\n",
       "\n",
       "    .dataframe tbody tr th {\n",
       "        vertical-align: top;\n",
       "    }\n",
       "\n",
       "    .dataframe thead th {\n",
       "        text-align: right;\n",
       "    }\n",
       "</style>\n",
       "<table border=\"1\" class=\"dataframe\">\n",
       "  <thead>\n",
       "    <tr style=\"text-align: right;\">\n",
       "      <th></th>\n",
       "      <th>accompany</th>\n",
       "      <th>game</th>\n",
       "      <th>education</th>\n",
       "    </tr>\n",
       "  </thead>\n",
       "  <tbody>\n",
       "    <tr>\n",
       "      <td>0</td>\n",
       "      <td>0.000000</td>\n",
       "      <td>0.0</td>\n",
       "      <td>0.000000</td>\n",
       "    </tr>\n",
       "    <tr>\n",
       "      <td>1</td>\n",
       "      <td>0.918296</td>\n",
       "      <td>1.0</td>\n",
       "      <td>0.000000</td>\n",
       "    </tr>\n",
       "    <tr>\n",
       "      <td>2</td>\n",
       "      <td>NaN</td>\n",
       "      <td>NaN</td>\n",
       "      <td>0.918296</td>\n",
       "    </tr>\n",
       "  </tbody>\n",
       "</table>\n",
       "</div>"
      ],
      "text/plain": [
       "   accompany  game  education\n",
       "0   0.000000   0.0   0.000000\n",
       "1   0.918296   1.0   0.000000\n",
       "2        NaN   NaN   0.918296"
      ]
     },
     "execution_count": 15,
     "metadata": {},
     "output_type": "execute_result"
    }
   ],
   "source": [
    "# 首先选取出一个特征，尝试使用gourpby.apply的方式计算一下当前这个特征做切分之后每一个小dataframe的墒\n",
    "col = 'accompany'\n",
    "\n",
    "# groupby相当于切出了很多的小dataframe, apply其实就是一个高效的for循环，依次将切出来的这些小dataframe全部传入到calEnt中计算出小df的墒\n",
    "dataSet.groupby(col).apply(lambda df : calEnt(df))\n",
    "\n",
    "# 上面是使用groupby.apply的操作对其中一个特征做切分后墒的结算\n",
    "# 使用列表解析式对所有的特征进行上面的操作\n",
    "# 并且最后使用pd.concat方式合成在一起，方便观察\n",
    "child_entropy = pd.concat([dataSet.groupby(col).apply(lambda df : calEnt(df)) for col in dataSet.columns[:-1]], axis = 1)\n",
    "child_entropy.columns = dataSet.columns[:-1]\n",
    "child_entropy"
   ]
  },
  {
   "cell_type": "code",
   "execution_count": 16,
   "metadata": {},
   "outputs": [
    {
     "data": {
      "text/html": [
       "<div>\n",
       "<style scoped>\n",
       "    .dataframe tbody tr th:only-of-type {\n",
       "        vertical-align: middle;\n",
       "    }\n",
       "\n",
       "    .dataframe tbody tr th {\n",
       "        vertical-align: top;\n",
       "    }\n",
       "\n",
       "    .dataframe thead th {\n",
       "        text-align: right;\n",
       "    }\n",
       "</style>\n",
       "<table border=\"1\" class=\"dataframe\">\n",
       "  <thead>\n",
       "    <tr style=\"text-align: right;\">\n",
       "      <th></th>\n",
       "      <th>accompany</th>\n",
       "      <th>game</th>\n",
       "      <th>education</th>\n",
       "      <th>label</th>\n",
       "    </tr>\n",
       "  </thead>\n",
       "  <tbody>\n",
       "    <tr>\n",
       "      <td>0</td>\n",
       "      <td>1</td>\n",
       "      <td>1</td>\n",
       "      <td>0</td>\n",
       "      <td>1</td>\n",
       "    </tr>\n",
       "    <tr>\n",
       "      <td>1</td>\n",
       "      <td>1</td>\n",
       "      <td>1</td>\n",
       "      <td>2</td>\n",
       "      <td>1</td>\n",
       "    </tr>\n",
       "    <tr>\n",
       "      <td>2</td>\n",
       "      <td>1</td>\n",
       "      <td>0</td>\n",
       "      <td>1</td>\n",
       "      <td>0</td>\n",
       "    </tr>\n",
       "    <tr>\n",
       "      <td>3</td>\n",
       "      <td>0</td>\n",
       "      <td>1</td>\n",
       "      <td>2</td>\n",
       "      <td>0</td>\n",
       "    </tr>\n",
       "    <tr>\n",
       "      <td>4</td>\n",
       "      <td>0</td>\n",
       "      <td>1</td>\n",
       "      <td>2</td>\n",
       "      <td>0</td>\n",
       "    </tr>\n",
       "  </tbody>\n",
       "</table>\n",
       "</div>"
      ],
      "text/plain": [
       "   accompany  game  education  label\n",
       "0          1     1          0      1\n",
       "1          1     1          2      1\n",
       "2          1     0          1      0\n",
       "3          0     1          2      0\n",
       "4          0     1          2      0"
      ]
     },
     "execution_count": 16,
     "metadata": {},
     "output_type": "execute_result"
    }
   ],
   "source": [
    "dataSet"
   ]
  },
  {
   "cell_type": "code",
   "execution_count": 13,
   "metadata": {},
   "outputs": [
    {
     "data": {
      "text/html": [
       "<div>\n",
       "<style scoped>\n",
       "    .dataframe tbody tr th:only-of-type {\n",
       "        vertical-align: middle;\n",
       "    }\n",
       "\n",
       "    .dataframe tbody tr th {\n",
       "        vertical-align: top;\n",
       "    }\n",
       "\n",
       "    .dataframe thead th {\n",
       "        text-align: right;\n",
       "    }\n",
       "</style>\n",
       "<table border=\"1\" class=\"dataframe\">\n",
       "  <thead>\n",
       "    <tr style=\"text-align: right;\">\n",
       "      <th></th>\n",
       "      <th>accompany</th>\n",
       "      <th>game</th>\n",
       "      <th>education</th>\n",
       "    </tr>\n",
       "  </thead>\n",
       "  <tbody>\n",
       "    <tr>\n",
       "      <td>0</td>\n",
       "      <td>0.4</td>\n",
       "      <td>0.2</td>\n",
       "      <td>0.2</td>\n",
       "    </tr>\n",
       "    <tr>\n",
       "      <td>1</td>\n",
       "      <td>0.6</td>\n",
       "      <td>0.8</td>\n",
       "      <td>0.2</td>\n",
       "    </tr>\n",
       "    <tr>\n",
       "      <td>2</td>\n",
       "      <td>NaN</td>\n",
       "      <td>NaN</td>\n",
       "      <td>0.6</td>\n",
       "    </tr>\n",
       "  </tbody>\n",
       "</table>\n",
       "</div>"
      ],
      "text/plain": [
       "   accompany  game  education\n",
       "0        0.4   0.2        0.2\n",
       "1        0.6   0.8        0.2\n",
       "2        NaN   NaN        0.6"
      ]
     },
     "execution_count": 13,
     "metadata": {},
     "output_type": "execute_result"
    }
   ],
   "source": [
    "# 因为我们要做加权平均的操作，所以我们也需要将每个特征的占比取出来,并且也将列名去上去\n",
    "\n",
    "child_weight= dataSet.iloc[:, :-1].apply(lambda i : i.value_counts(), axis = 0)/dataSet.shape[0]\n",
    "child_weight.columns = dataSet.columns[:-1]\n",
    "child_weight"
   ]
  },
  {
   "cell_type": "code",
   "execution_count": 18,
   "metadata": {},
   "outputs": [
    {
     "data": {
      "text/plain": [
       "accompany    0.550978\n",
       "game         0.800000\n",
       "education    0.550978\n",
       "dtype: float64"
      ]
     },
     "execution_count": 18,
     "metadata": {},
     "output_type": "execute_result"
    }
   ],
   "source": [
    "\n",
    "\n",
    "dataSet \n",
    "\n",
    "# 利用numpy pandas特性每两个元素相乘，达到加权平均的目的\n",
    "child_entropy * child_weight\n",
    "\n",
    "# 加权平均后按列求和算出切分之后的墒\n",
    "child_weighted_entropy = (child_entropy * child_weight).fillna(0).sum(axis = 0)\n",
    "child_weighted_entropy"
   ]
  },
  {
   "cell_type": "code",
   "execution_count": 19,
   "metadata": {},
   "outputs": [
    {
     "data": {
      "text/plain": [
       "accompany    0.419973\n",
       "game         0.170951\n",
       "education    0.419973\n",
       "dtype: float64"
      ]
     },
     "execution_count": 19,
     "metadata": {},
     "output_type": "execute_result"
    }
   ],
   "source": [
    "(baseEnt - child_weighted_entropy).idxmax()"
   ]
  },
  {
   "cell_type": "code",
   "execution_count": 86,
   "metadata": {},
   "outputs": [
    {
     "data": {
      "text/plain": [
       "0"
      ]
     },
     "execution_count": 86,
     "metadata": {},
     "output_type": "execute_result"
    }
   ],
   "source": [
    "def bestSplit(dataSet):\n",
    "    baseEnt = calEnt(dataSet)\n",
    "    child_entropy = pd.concat([dataSet.groupby(col).apply(lambda df : calEnt(df)) for col in dataSet.columns[:-1]], axis = 1)\n",
    "    child_weight= dataSet.iloc[:, :-1].apply(lambda i : i.value_counts(), axis = 0)/dataSet.shape[0]\n",
    "    child_weighted_entropy = (child_entropy * child_weight).fillna(0).sum(axis = 0)\n",
    "    return (baseEnt - child_weighted_entropy).idxmax()\n",
    "bestSplit(dataSet)"
   ]
  },
  {
   "cell_type": "code",
   "execution_count": 97,
   "metadata": {},
   "outputs": [],
   "source": [
    "def mySplit(dataSet,axis,value):\n",
    "    col = dataSet.columns[axis]\n",
    "    redataSet = dataSet.loc[dataSet[col]==value,:].drop(col,axis=1)\n",
    "    return redataSet"
   ]
  },
  {
   "cell_type": "code",
   "execution_count": 106,
   "metadata": {},
   "outputs": [],
   "source": [
    "def createTree(dataSet):\n",
    "    featlist = list(dataSet.columns)                        # 提取出数据集所有的列\n",
    "    classlist = dataSet.iloc[:,-1].value_counts()           # 获取最后一列类标签\n",
    "    # 判断最多标签数目是否等于数据集行数，或者数据集是否只有一列\n",
    "    if classlist.values[0]==dataSet.shape[0] or dataSet.shape[1] == 1:\n",
    "        return classlist.index[0]                           # 如果是，返回类标签\n",
    "    \n",
    "    axis = bestSplit(dataSet)                               # 确定出当前最佳切分列的索引\n",
    "    bestfeat = featlist[axis]                               # 获取该索引对应的特征\n",
    "    myTree = {bestfeat:{}}                                  # 采用字典嵌套的方式存储树信息\n",
    "    del featlist[axis]                                      # 删除当前特征\n",
    "    valuelist = set(dataSet.iloc[:,axis])                   # 提取最佳切分列所有属性值\n",
    "    for value in valuelist:                                 # 对每一个属性值递归建树\n",
    "        myTree[bestfeat][value] = createTree(mySplit(dataSet,axis,value))\n",
    "    return myTree"
   ]
  },
  {
   "cell_type": "code",
   "execution_count": 108,
   "metadata": {},
   "outputs": [
    {
     "data": {
      "text/plain": [
       "{'accompany': {0: 0, 1: {'game': {0: 0, 1: 1}}}}"
      ]
     },
     "execution_count": 108,
     "metadata": {},
     "output_type": "execute_result"
    }
   ],
   "source": [
    "createTree(dataSet)"
   ]
  },
  {
   "cell_type": "code",
   "execution_count": 119,
   "metadata": {},
   "outputs": [
    {
     "data": {
      "text/html": [
       "<div>\n",
       "<style scoped>\n",
       "    .dataframe tbody tr th:only-of-type {\n",
       "        vertical-align: middle;\n",
       "    }\n",
       "\n",
       "    .dataframe tbody tr th {\n",
       "        vertical-align: top;\n",
       "    }\n",
       "\n",
       "    .dataframe thead th {\n",
       "        text-align: right;\n",
       "    }\n",
       "</style>\n",
       "<table border=\"1\" class=\"dataframe\">\n",
       "  <thead>\n",
       "    <tr style=\"text-align: right;\">\n",
       "      <th></th>\n",
       "      <th>accompany</th>\n",
       "      <th>game</th>\n",
       "      <th>education</th>\n",
       "      <th>label</th>\n",
       "    </tr>\n",
       "  </thead>\n",
       "  <tbody>\n",
       "    <tr>\n",
       "      <td>0</td>\n",
       "      <td>1</td>\n",
       "      <td>1</td>\n",
       "      <td>0</td>\n",
       "      <td>1</td>\n",
       "    </tr>\n",
       "    <tr>\n",
       "      <td>1</td>\n",
       "      <td>1</td>\n",
       "      <td>1</td>\n",
       "      <td>2</td>\n",
       "      <td>1</td>\n",
       "    </tr>\n",
       "    <tr>\n",
       "      <td>2</td>\n",
       "      <td>1</td>\n",
       "      <td>0</td>\n",
       "      <td>1</td>\n",
       "      <td>0</td>\n",
       "    </tr>\n",
       "    <tr>\n",
       "      <td>3</td>\n",
       "      <td>0</td>\n",
       "      <td>1</td>\n",
       "      <td>2</td>\n",
       "      <td>0</td>\n",
       "    </tr>\n",
       "    <tr>\n",
       "      <td>4</td>\n",
       "      <td>0</td>\n",
       "      <td>1</td>\n",
       "      <td>2</td>\n",
       "      <td>0</td>\n",
       "    </tr>\n",
       "  </tbody>\n",
       "</table>\n",
       "</div>"
      ],
      "text/plain": [
       "   accompany  game  education  label\n",
       "0          1     1          0      1\n",
       "1          1     1          2      1\n",
       "2          1     0          1      0\n",
       "3          0     1          2      0\n",
       "4          0     1          2      0"
      ]
     },
     "execution_count": 119,
     "metadata": {},
     "output_type": "execute_result"
    }
   ],
   "source": [
    "dataSet"
   ]
  },
  {
   "cell_type": "code",
   "execution_count": null,
   "metadata": {},
   "outputs": [],
   "source": [
    "\n"
   ]
  },
  {
   "cell_type": "code",
   "execution_count": 20,
   "metadata": {},
   "outputs": [],
   "source": [
    "# 导入数据集\n",
    "\n",
    "from sklearn import tree\n",
    "from sklearn.tree import DecisionTreeClassifier as DTC\n",
    "from sklearn.datasets import load_wine\n",
    "from sklearn.model_selection import train_test_split, cross_val_score"
   ]
  },
  {
   "cell_type": "code",
   "execution_count": 21,
   "metadata": {},
   "outputs": [],
   "source": [
    "import numpy as np\n",
    "import pandas as pd\n",
    "\n",
    "wine = load_wine()\n",
    "X = wine['data']\n",
    "y = wine['target']\n",
    "\n",
    "data = pd.DataFrame(X, columns = wine.feature_names)\n",
    "data['label'] = y"
   ]
  },
  {
   "cell_type": "code",
   "execution_count": 47,
   "metadata": {},
   "outputs": [
    {
     "data": {
      "text/plain": [
       "(178, 13)"
      ]
     },
     "execution_count": 47,
     "metadata": {},
     "output_type": "execute_result"
    }
   ],
   "source": [
    "X.shape"
   ]
  },
  {
   "cell_type": "code",
   "execution_count": 189,
   "metadata": {},
   "outputs": [
    {
     "data": {
      "text/plain": [
       "(0.9596774193548387, 0.8703703703703703)"
      ]
     },
     "execution_count": 189,
     "metadata": {},
     "output_type": "execute_result"
    }
   ],
   "source": [
    "# 切分数据集\n",
    "Xtrain, Xtest, Ytrain, Ytest = train_test_split(X, y, test_size = 0.3, random_state = 6)\n",
    "\n",
    "# 实例化模型\n",
    "clf = DTC(random_state = 4,\n",
    "          #max_depth = 6,\n",
    "          #min_samples_split = 4,\n",
    "          min_samples_leaf = 4\n",
    "         )\n",
    "# 训练模型\n",
    "clf.fit(Xtrain, Ytrain)\n",
    "\n",
    "# 查看训练集和测试集上的分数\n",
    "clf.score(Xtrain, Ytrain), clf.score(Xtest, Ytest)"
   ]
  },
  {
   "cell_type": "code",
   "execution_count": 198,
   "metadata": {},
   "outputs": [
    {
     "data": {
      "image/svg+xml": [
       "<?xml version=\"1.0\" encoding=\"UTF-8\" standalone=\"no\"?>\n",
       "<!DOCTYPE svg PUBLIC \"-//W3C//DTD SVG 1.1//EN\"\n",
       " \"http://www.w3.org/Graphics/SVG/1.1/DTD/svg11.dtd\">\n",
       "<!-- Generated by graphviz version 2.40.1 (20161225.0304)\n",
       " -->\n",
       "<!-- Title: Tree Pages: 1 -->\n",
       "<svg width=\"673pt\" height=\"552pt\"\n",
       " viewBox=\"0.00 0.00 673.00 552.00\" xmlns=\"http://www.w3.org/2000/svg\" xmlns:xlink=\"http://www.w3.org/1999/xlink\">\n",
       "<g id=\"graph0\" class=\"graph\" transform=\"scale(1 1) rotate(0) translate(4 548)\">\n",
       "<title>Tree</title>\n",
       "<polygon fill=\"#ffffff\" stroke=\"transparent\" points=\"-4,4 -4,-548 669,-548 669,4 -4,4\"/>\n",
       "<!-- 0 -->\n",
       "<g id=\"node1\" class=\"node\">\n",
       "<title>0</title>\n",
       "<path fill=\"#eafcf2\" stroke=\"#000000\" d=\"M365.5,-544C365.5,-544 162.5,-544 162.5,-544 156.5,-544 150.5,-538 150.5,-532 150.5,-532 150.5,-473 150.5,-473 150.5,-467 156.5,-461 162.5,-461 162.5,-461 365.5,-461 365.5,-461 371.5,-461 377.5,-467 377.5,-473 377.5,-473 377.5,-532 377.5,-532 377.5,-538 371.5,-544 365.5,-544\"/>\n",
       "<text text-anchor=\"middle\" x=\"264\" y=\"-528.8\" font-family=\"Helvetica,sans-Serif\" font-size=\"14.00\" fill=\"#000000\">od280/od315稀释葡萄酒 &lt;= 2.005</text>\n",
       "<text text-anchor=\"middle\" x=\"264\" y=\"-513.8\" font-family=\"Helvetica,sans-Serif\" font-size=\"14.00\" fill=\"#000000\">gini = 0.66</text>\n",
       "<text text-anchor=\"middle\" x=\"264\" y=\"-498.8\" font-family=\"Helvetica,sans-Serif\" font-size=\"14.00\" fill=\"#000000\">samples = 124</text>\n",
       "<text text-anchor=\"middle\" x=\"264\" y=\"-483.8\" font-family=\"Helvetica,sans-Serif\" font-size=\"14.00\" fill=\"#000000\">value = [40, 49, 35]</text>\n",
       "<text text-anchor=\"middle\" x=\"264\" y=\"-468.8\" font-family=\"Helvetica,sans-Serif\" font-size=\"14.00\" fill=\"#000000\">class = 雪莉</text>\n",
       "</g>\n",
       "<!-- 1 -->\n",
       "<g id=\"node2\" class=\"node\">\n",
       "<title>1</title>\n",
       "<path fill=\"#8c4ae7\" stroke=\"#000000\" d=\"M241,-425C241,-425 145,-425 145,-425 139,-425 133,-419 133,-413 133,-413 133,-354 133,-354 133,-348 139,-342 145,-342 145,-342 241,-342 241,-342 247,-342 253,-348 253,-354 253,-354 253,-413 253,-413 253,-419 247,-425 241,-425\"/>\n",
       "<text text-anchor=\"middle\" x=\"193\" y=\"-409.8\" font-family=\"Helvetica,sans-Serif\" font-size=\"14.00\" fill=\"#000000\">色调 &lt;= 0.878</text>\n",
       "<text text-anchor=\"middle\" x=\"193\" y=\"-394.8\" font-family=\"Helvetica,sans-Serif\" font-size=\"14.00\" fill=\"#000000\">gini = 0.149</text>\n",
       "<text text-anchor=\"middle\" x=\"193\" y=\"-379.8\" font-family=\"Helvetica,sans-Serif\" font-size=\"14.00\" fill=\"#000000\">samples = 37</text>\n",
       "<text text-anchor=\"middle\" x=\"193\" y=\"-364.8\" font-family=\"Helvetica,sans-Serif\" font-size=\"14.00\" fill=\"#000000\">value = [0, 3, 34]</text>\n",
       "<text text-anchor=\"middle\" x=\"193\" y=\"-349.8\" font-family=\"Helvetica,sans-Serif\" font-size=\"14.00\" fill=\"#000000\">class = 贝尔摩德</text>\n",
       "</g>\n",
       "<!-- 0&#45;&gt;1 -->\n",
       "<g id=\"edge1\" class=\"edge\">\n",
       "<title>0&#45;&gt;1</title>\n",
       "<path fill=\"none\" stroke=\"#000000\" d=\"M239.1676,-460.8796C234.0091,-452.2335 228.5192,-443.0322 223.1924,-434.1042\"/>\n",
       "<polygon fill=\"#000000\" stroke=\"#000000\" points=\"226.0678,-432.0924 217.9383,-425.2981 220.0564,-435.679 226.0678,-432.0924\"/>\n",
       "<text text-anchor=\"middle\" x=\"211.8149\" y=\"-445.8366\" font-family=\"Helvetica,sans-Serif\" font-size=\"14.00\" fill=\"#000000\">True</text>\n",
       "</g>\n",
       "<!-- 4 -->\n",
       "<g id=\"node5\" class=\"node\">\n",
       "<title>4</title>\n",
       "<path fill=\"#e6fcef\" stroke=\"#000000\" d=\"M387,-425C387,-425 283,-425 283,-425 277,-425 271,-419 271,-413 271,-413 271,-354 271,-354 271,-348 277,-342 283,-342 283,-342 387,-342 387,-342 393,-342 399,-348 399,-354 399,-354 399,-413 399,-413 399,-419 393,-425 387,-425\"/>\n",
       "<text text-anchor=\"middle\" x=\"335\" y=\"-409.8\" font-family=\"Helvetica,sans-Serif\" font-size=\"14.00\" fill=\"#000000\">脯氨酸 &lt;= 755.0</text>\n",
       "<text text-anchor=\"middle\" x=\"335\" y=\"-394.8\" font-family=\"Helvetica,sans-Serif\" font-size=\"14.00\" fill=\"#000000\">gini = 0.509</text>\n",
       "<text text-anchor=\"middle\" x=\"335\" y=\"-379.8\" font-family=\"Helvetica,sans-Serif\" font-size=\"14.00\" fill=\"#000000\">samples = 87</text>\n",
       "<text text-anchor=\"middle\" x=\"335\" y=\"-364.8\" font-family=\"Helvetica,sans-Serif\" font-size=\"14.00\" fill=\"#000000\">value = [40, 46, 1]</text>\n",
       "<text text-anchor=\"middle\" x=\"335\" y=\"-349.8\" font-family=\"Helvetica,sans-Serif\" font-size=\"14.00\" fill=\"#000000\">class = 雪莉</text>\n",
       "</g>\n",
       "<!-- 0&#45;&gt;4 -->\n",
       "<g id=\"edge4\" class=\"edge\">\n",
       "<title>0&#45;&gt;4</title>\n",
       "<path fill=\"none\" stroke=\"#000000\" d=\"M288.8324,-460.8796C293.9909,-452.2335 299.4808,-443.0322 304.8076,-434.1042\"/>\n",
       "<polygon fill=\"#000000\" stroke=\"#000000\" points=\"307.9436,-435.679 310.0617,-425.2981 301.9322,-432.0924 307.9436,-435.679\"/>\n",
       "<text text-anchor=\"middle\" x=\"316.1851\" y=\"-445.8366\" font-family=\"Helvetica,sans-Serif\" font-size=\"14.00\" fill=\"#000000\">False</text>\n",
       "</g>\n",
       "<!-- 2 -->\n",
       "<g id=\"node3\" class=\"node\">\n",
       "<title>2</title>\n",
       "<path fill=\"#8139e5\" stroke=\"#000000\" d=\"M108,-298.5C108,-298.5 12,-298.5 12,-298.5 6,-298.5 0,-292.5 0,-286.5 0,-286.5 0,-242.5 0,-242.5 0,-236.5 6,-230.5 12,-230.5 12,-230.5 108,-230.5 108,-230.5 114,-230.5 120,-236.5 120,-242.5 120,-242.5 120,-286.5 120,-286.5 120,-292.5 114,-298.5 108,-298.5\"/>\n",
       "<text text-anchor=\"middle\" x=\"60\" y=\"-283.3\" font-family=\"Helvetica,sans-Serif\" font-size=\"14.00\" fill=\"#000000\">gini = 0.0</text>\n",
       "<text text-anchor=\"middle\" x=\"60\" y=\"-268.3\" font-family=\"Helvetica,sans-Serif\" font-size=\"14.00\" fill=\"#000000\">samples = 33</text>\n",
       "<text text-anchor=\"middle\" x=\"60\" y=\"-253.3\" font-family=\"Helvetica,sans-Serif\" font-size=\"14.00\" fill=\"#000000\">value = [0, 0, 33]</text>\n",
       "<text text-anchor=\"middle\" x=\"60\" y=\"-238.3\" font-family=\"Helvetica,sans-Serif\" font-size=\"14.00\" fill=\"#000000\">class = 贝尔摩德</text>\n",
       "</g>\n",
       "<!-- 1&#45;&gt;2 -->\n",
       "<g id=\"edge2\" class=\"edge\">\n",
       "<title>1&#45;&gt;2</title>\n",
       "<path fill=\"none\" stroke=\"#000000\" d=\"M146.4831,-341.8796C133.333,-330.1138 119.0337,-317.3197 105.9191,-305.5855\"/>\n",
       "<polygon fill=\"#000000\" stroke=\"#000000\" points=\"108.1382,-302.8746 98.352,-298.8149 103.4706,-308.0913 108.1382,-302.8746\"/>\n",
       "</g>\n",
       "<!-- 3 -->\n",
       "<g id=\"node4\" class=\"node\">\n",
       "<title>3</title>\n",
       "<path fill=\"#7beeab\" stroke=\"#000000\" d=\"M239.5,-298.5C239.5,-298.5 150.5,-298.5 150.5,-298.5 144.5,-298.5 138.5,-292.5 138.5,-286.5 138.5,-286.5 138.5,-242.5 138.5,-242.5 138.5,-236.5 144.5,-230.5 150.5,-230.5 150.5,-230.5 239.5,-230.5 239.5,-230.5 245.5,-230.5 251.5,-236.5 251.5,-242.5 251.5,-242.5 251.5,-286.5 251.5,-286.5 251.5,-292.5 245.5,-298.5 239.5,-298.5\"/>\n",
       "<text text-anchor=\"middle\" x=\"195\" y=\"-283.3\" font-family=\"Helvetica,sans-Serif\" font-size=\"14.00\" fill=\"#000000\">gini = 0.375</text>\n",
       "<text text-anchor=\"middle\" x=\"195\" y=\"-268.3\" font-family=\"Helvetica,sans-Serif\" font-size=\"14.00\" fill=\"#000000\">samples = 4</text>\n",
       "<text text-anchor=\"middle\" x=\"195\" y=\"-253.3\" font-family=\"Helvetica,sans-Serif\" font-size=\"14.00\" fill=\"#000000\">value = [0, 3, 1]</text>\n",
       "<text text-anchor=\"middle\" x=\"195\" y=\"-238.3\" font-family=\"Helvetica,sans-Serif\" font-size=\"14.00\" fill=\"#000000\">class = 雪莉</text>\n",
       "</g>\n",
       "<!-- 1&#45;&gt;3 -->\n",
       "<g id=\"edge3\" class=\"edge\">\n",
       "<title>1&#45;&gt;3</title>\n",
       "<path fill=\"none\" stroke=\"#000000\" d=\"M193.6995,-341.8796C193.8788,-331.2134 194.0722,-319.7021 194.2538,-308.9015\"/>\n",
       "<polygon fill=\"#000000\" stroke=\"#000000\" points=\"197.7546,-308.8724 194.4233,-298.8149 190.7556,-308.7547 197.7546,-308.8724\"/>\n",
       "</g>\n",
       "<!-- 5 -->\n",
       "<g id=\"node6\" class=\"node\">\n",
       "<title>5</title>\n",
       "<path fill=\"#42e687\" stroke=\"#000000\" d=\"M381,-306C381,-306 285,-306 285,-306 279,-306 273,-300 273,-294 273,-294 273,-235 273,-235 273,-229 279,-223 285,-223 285,-223 381,-223 381,-223 387,-223 393,-229 393,-235 393,-235 393,-294 393,-294 393,-300 387,-306 381,-306\"/>\n",
       "<text text-anchor=\"middle\" x=\"333\" y=\"-290.8\" font-family=\"Helvetica,sans-Serif\" font-size=\"14.00\" fill=\"#000000\">酒精 &lt;= 12.85</text>\n",
       "<text text-anchor=\"middle\" x=\"333\" y=\"-275.8\" font-family=\"Helvetica,sans-Serif\" font-size=\"14.00\" fill=\"#000000\">gini = 0.084</text>\n",
       "<text text-anchor=\"middle\" x=\"333\" y=\"-260.8\" font-family=\"Helvetica,sans-Serif\" font-size=\"14.00\" fill=\"#000000\">samples = 46</text>\n",
       "<text text-anchor=\"middle\" x=\"333\" y=\"-245.8\" font-family=\"Helvetica,sans-Serif\" font-size=\"14.00\" fill=\"#000000\">value = [1, 44, 1]</text>\n",
       "<text text-anchor=\"middle\" x=\"333\" y=\"-230.8\" font-family=\"Helvetica,sans-Serif\" font-size=\"14.00\" fill=\"#000000\">class = 雪莉</text>\n",
       "</g>\n",
       "<!-- 4&#45;&gt;5 -->\n",
       "<g id=\"edge5\" class=\"edge\">\n",
       "<title>4&#45;&gt;5</title>\n",
       "<path fill=\"none\" stroke=\"#000000\" d=\"M334.3005,-341.8796C334.1628,-333.6838 334.0166,-324.9891 333.874,-316.5013\"/>\n",
       "<polygon fill=\"#000000\" stroke=\"#000000\" points=\"337.3701,-316.2378 333.7025,-306.2981 330.3711,-316.3555 337.3701,-316.2378\"/>\n",
       "</g>\n",
       "<!-- 10 -->\n",
       "<g id=\"node11\" class=\"node\">\n",
       "<title>10</title>\n",
       "<path fill=\"#e68743\" stroke=\"#000000\" d=\"M523,-306C523,-306 423,-306 423,-306 417,-306 411,-300 411,-294 411,-294 411,-235 411,-235 411,-229 417,-223 423,-223 423,-223 523,-223 523,-223 529,-223 535,-229 535,-235 535,-235 535,-294 535,-294 535,-300 529,-306 523,-306\"/>\n",
       "<text text-anchor=\"middle\" x=\"473\" y=\"-290.8\" font-family=\"Helvetica,sans-Serif\" font-size=\"14.00\" fill=\"#000000\">颜色强度 &lt;= 3.69</text>\n",
       "<text text-anchor=\"middle\" x=\"473\" y=\"-275.8\" font-family=\"Helvetica,sans-Serif\" font-size=\"14.00\" fill=\"#000000\">gini = 0.093</text>\n",
       "<text text-anchor=\"middle\" x=\"473\" y=\"-260.8\" font-family=\"Helvetica,sans-Serif\" font-size=\"14.00\" fill=\"#000000\">samples = 41</text>\n",
       "<text text-anchor=\"middle\" x=\"473\" y=\"-245.8\" font-family=\"Helvetica,sans-Serif\" font-size=\"14.00\" fill=\"#000000\">value = [39, 2, 0]</text>\n",
       "<text text-anchor=\"middle\" x=\"473\" y=\"-230.8\" font-family=\"Helvetica,sans-Serif\" font-size=\"14.00\" fill=\"#000000\">class = 琴酒</text>\n",
       "</g>\n",
       "<!-- 4&#45;&gt;10 -->\n",
       "<g id=\"edge10\" class=\"edge\">\n",
       "<title>4&#45;&gt;10</title>\n",
       "<path fill=\"none\" stroke=\"#000000\" d=\"M383.2657,-341.8796C394.1278,-332.513 405.7456,-322.4948 416.8973,-312.8784\"/>\n",
       "<polygon fill=\"#000000\" stroke=\"#000000\" points=\"419.2408,-315.4792 424.5283,-306.2981 414.6694,-310.178 419.2408,-315.4792\"/>\n",
       "</g>\n",
       "<!-- 6 -->\n",
       "<g id=\"node7\" class=\"node\">\n",
       "<title>6</title>\n",
       "<path fill=\"#39e581\" stroke=\"#000000\" d=\"M248,-179.5C248,-179.5 152,-179.5 152,-179.5 146,-179.5 140,-173.5 140,-167.5 140,-167.5 140,-123.5 140,-123.5 140,-117.5 146,-111.5 152,-111.5 152,-111.5 248,-111.5 248,-111.5 254,-111.5 260,-117.5 260,-123.5 260,-123.5 260,-167.5 260,-167.5 260,-173.5 254,-179.5 248,-179.5\"/>\n",
       "<text text-anchor=\"middle\" x=\"200\" y=\"-164.3\" font-family=\"Helvetica,sans-Serif\" font-size=\"14.00\" fill=\"#000000\">gini = 0.0</text>\n",
       "<text text-anchor=\"middle\" x=\"200\" y=\"-149.3\" font-family=\"Helvetica,sans-Serif\" font-size=\"14.00\" fill=\"#000000\">samples = 38</text>\n",
       "<text text-anchor=\"middle\" x=\"200\" y=\"-134.3\" font-family=\"Helvetica,sans-Serif\" font-size=\"14.00\" fill=\"#000000\">value = [0, 38, 0]</text>\n",
       "<text text-anchor=\"middle\" x=\"200\" y=\"-119.3\" font-family=\"Helvetica,sans-Serif\" font-size=\"14.00\" fill=\"#000000\">class = 雪莉</text>\n",
       "</g>\n",
       "<!-- 5&#45;&gt;6 -->\n",
       "<g id=\"edge6\" class=\"edge\">\n",
       "<title>5&#45;&gt;6</title>\n",
       "<path fill=\"none\" stroke=\"#000000\" d=\"M286.4831,-222.8796C273.333,-211.1138 259.0337,-198.3197 245.9191,-186.5855\"/>\n",
       "<polygon fill=\"#000000\" stroke=\"#000000\" points=\"248.1382,-183.8746 238.352,-179.8149 243.4706,-189.0913 248.1382,-183.8746\"/>\n",
       "</g>\n",
       "<!-- 7 -->\n",
       "<g id=\"node8\" class=\"node\">\n",
       "<title>7</title>\n",
       "<path fill=\"#72eca5\" stroke=\"#000000\" d=\"M379.5,-187C379.5,-187 290.5,-187 290.5,-187 284.5,-187 278.5,-181 278.5,-175 278.5,-175 278.5,-116 278.5,-116 278.5,-110 284.5,-104 290.5,-104 290.5,-104 379.5,-104 379.5,-104 385.5,-104 391.5,-110 391.5,-116 391.5,-116 391.5,-175 391.5,-175 391.5,-181 385.5,-187 379.5,-187\"/>\n",
       "<text text-anchor=\"middle\" x=\"335\" y=\"-171.8\" font-family=\"Helvetica,sans-Serif\" font-size=\"14.00\" fill=\"#000000\">灰 &lt;= 2.21</text>\n",
       "<text text-anchor=\"middle\" x=\"335\" y=\"-156.8\" font-family=\"Helvetica,sans-Serif\" font-size=\"14.00\" fill=\"#000000\">gini = 0.406</text>\n",
       "<text text-anchor=\"middle\" x=\"335\" y=\"-141.8\" font-family=\"Helvetica,sans-Serif\" font-size=\"14.00\" fill=\"#000000\">samples = 8</text>\n",
       "<text text-anchor=\"middle\" x=\"335\" y=\"-126.8\" font-family=\"Helvetica,sans-Serif\" font-size=\"14.00\" fill=\"#000000\">value = [1, 6, 1]</text>\n",
       "<text text-anchor=\"middle\" x=\"335\" y=\"-111.8\" font-family=\"Helvetica,sans-Serif\" font-size=\"14.00\" fill=\"#000000\">class = 雪莉</text>\n",
       "</g>\n",
       "<!-- 5&#45;&gt;7 -->\n",
       "<g id=\"edge7\" class=\"edge\">\n",
       "<title>5&#45;&gt;7</title>\n",
       "<path fill=\"none\" stroke=\"#000000\" d=\"M333.6995,-222.8796C333.8372,-214.6838 333.9834,-205.9891 334.126,-197.5013\"/>\n",
       "<polygon fill=\"#000000\" stroke=\"#000000\" points=\"337.6289,-197.3555 334.2975,-187.2981 330.6299,-197.2378 337.6289,-197.3555\"/>\n",
       "</g>\n",
       "<!-- 8 -->\n",
       "<g id=\"node9\" class=\"node\">\n",
       "<title>8</title>\n",
       "<path fill=\"#39e581\" stroke=\"#000000\" d=\"M314.5,-68C314.5,-68 225.5,-68 225.5,-68 219.5,-68 213.5,-62 213.5,-56 213.5,-56 213.5,-12 213.5,-12 213.5,-6 219.5,0 225.5,0 225.5,0 314.5,0 314.5,0 320.5,0 326.5,-6 326.5,-12 326.5,-12 326.5,-56 326.5,-56 326.5,-62 320.5,-68 314.5,-68\"/>\n",
       "<text text-anchor=\"middle\" x=\"270\" y=\"-52.8\" font-family=\"Helvetica,sans-Serif\" font-size=\"14.00\" fill=\"#000000\">gini = 0.0</text>\n",
       "<text text-anchor=\"middle\" x=\"270\" y=\"-37.8\" font-family=\"Helvetica,sans-Serif\" font-size=\"14.00\" fill=\"#000000\">samples = 4</text>\n",
       "<text text-anchor=\"middle\" x=\"270\" y=\"-22.8\" font-family=\"Helvetica,sans-Serif\" font-size=\"14.00\" fill=\"#000000\">value = [0, 4, 0]</text>\n",
       "<text text-anchor=\"middle\" x=\"270\" y=\"-7.8\" font-family=\"Helvetica,sans-Serif\" font-size=\"14.00\" fill=\"#000000\">class = 雪莉</text>\n",
       "</g>\n",
       "<!-- 7&#45;&gt;8 -->\n",
       "<g id=\"edge8\" class=\"edge\">\n",
       "<title>7&#45;&gt;8</title>\n",
       "<path fill=\"none\" stroke=\"#000000\" d=\"M310.7964,-103.9815C305.6529,-95.1585 300.2123,-85.8258 295.0384,-76.9506\"/>\n",
       "<polygon fill=\"#000000\" stroke=\"#000000\" points=\"298.0344,-75.1402 289.9743,-68.2637 291.987,-78.6656 298.0344,-75.1402\"/>\n",
       "</g>\n",
       "<!-- 9 -->\n",
       "<g id=\"node10\" class=\"node\">\n",
       "<title>9</title>\n",
       "<path fill=\"#bdf6d5\" stroke=\"#000000\" d=\"M445.5,-68C445.5,-68 356.5,-68 356.5,-68 350.5,-68 344.5,-62 344.5,-56 344.5,-56 344.5,-12 344.5,-12 344.5,-6 350.5,0 356.5,0 356.5,0 445.5,0 445.5,0 451.5,0 457.5,-6 457.5,-12 457.5,-12 457.5,-56 457.5,-56 457.5,-62 451.5,-68 445.5,-68\"/>\n",
       "<text text-anchor=\"middle\" x=\"401\" y=\"-52.8\" font-family=\"Helvetica,sans-Serif\" font-size=\"14.00\" fill=\"#000000\">gini = 0.625</text>\n",
       "<text text-anchor=\"middle\" x=\"401\" y=\"-37.8\" font-family=\"Helvetica,sans-Serif\" font-size=\"14.00\" fill=\"#000000\">samples = 4</text>\n",
       "<text text-anchor=\"middle\" x=\"401\" y=\"-22.8\" font-family=\"Helvetica,sans-Serif\" font-size=\"14.00\" fill=\"#000000\">value = [1, 2, 1]</text>\n",
       "<text text-anchor=\"middle\" x=\"401\" y=\"-7.8\" font-family=\"Helvetica,sans-Serif\" font-size=\"14.00\" fill=\"#000000\">class = 雪莉</text>\n",
       "</g>\n",
       "<!-- 7&#45;&gt;9 -->\n",
       "<g id=\"edge9\" class=\"edge\">\n",
       "<title>7&#45;&gt;9</title>\n",
       "<path fill=\"none\" stroke=\"#000000\" d=\"M359.576,-103.9815C364.7986,-95.1585 370.3229,-85.8258 375.5763,-76.9506\"/>\n",
       "<polygon fill=\"#000000\" stroke=\"#000000\" points=\"378.6364,-78.652 380.7184,-68.2637 372.6126,-75.0863 378.6364,-78.652\"/>\n",
       "</g>\n",
       "<!-- 11 -->\n",
       "<g id=\"node12\" class=\"node\">\n",
       "<title>11</title>\n",
       "<path fill=\"#ffffff\" stroke=\"#000000\" d=\"M514.5,-179.5C514.5,-179.5 425.5,-179.5 425.5,-179.5 419.5,-179.5 413.5,-173.5 413.5,-167.5 413.5,-167.5 413.5,-123.5 413.5,-123.5 413.5,-117.5 419.5,-111.5 425.5,-111.5 425.5,-111.5 514.5,-111.5 514.5,-111.5 520.5,-111.5 526.5,-117.5 526.5,-123.5 526.5,-123.5 526.5,-167.5 526.5,-167.5 526.5,-173.5 520.5,-179.5 514.5,-179.5\"/>\n",
       "<text text-anchor=\"middle\" x=\"470\" y=\"-164.3\" font-family=\"Helvetica,sans-Serif\" font-size=\"14.00\" fill=\"#000000\">gini = 0.5</text>\n",
       "<text text-anchor=\"middle\" x=\"470\" y=\"-149.3\" font-family=\"Helvetica,sans-Serif\" font-size=\"14.00\" fill=\"#000000\">samples = 4</text>\n",
       "<text text-anchor=\"middle\" x=\"470\" y=\"-134.3\" font-family=\"Helvetica,sans-Serif\" font-size=\"14.00\" fill=\"#000000\">value = [2, 2, 0]</text>\n",
       "<text text-anchor=\"middle\" x=\"470\" y=\"-119.3\" font-family=\"Helvetica,sans-Serif\" font-size=\"14.00\" fill=\"#000000\">class = 琴酒</text>\n",
       "</g>\n",
       "<!-- 10&#45;&gt;11 -->\n",
       "<g id=\"edge11\" class=\"edge\">\n",
       "<title>10&#45;&gt;11</title>\n",
       "<path fill=\"none\" stroke=\"#000000\" d=\"M471.9507,-222.8796C471.6818,-212.2134 471.3916,-200.7021 471.1194,-189.9015\"/>\n",
       "<polygon fill=\"#000000\" stroke=\"#000000\" points=\"474.6161,-189.7235 470.8651,-179.8149 467.6183,-189.9 474.6161,-189.7235\"/>\n",
       "</g>\n",
       "<!-- 12 -->\n",
       "<g id=\"node13\" class=\"node\">\n",
       "<title>12</title>\n",
       "<path fill=\"#e58139\" stroke=\"#000000\" d=\"M653,-179.5C653,-179.5 557,-179.5 557,-179.5 551,-179.5 545,-173.5 545,-167.5 545,-167.5 545,-123.5 545,-123.5 545,-117.5 551,-111.5 557,-111.5 557,-111.5 653,-111.5 653,-111.5 659,-111.5 665,-117.5 665,-123.5 665,-123.5 665,-167.5 665,-167.5 665,-173.5 659,-179.5 653,-179.5\"/>\n",
       "<text text-anchor=\"middle\" x=\"605\" y=\"-164.3\" font-family=\"Helvetica,sans-Serif\" font-size=\"14.00\" fill=\"#000000\">gini = 0.0</text>\n",
       "<text text-anchor=\"middle\" x=\"605\" y=\"-149.3\" font-family=\"Helvetica,sans-Serif\" font-size=\"14.00\" fill=\"#000000\">samples = 37</text>\n",
       "<text text-anchor=\"middle\" x=\"605\" y=\"-134.3\" font-family=\"Helvetica,sans-Serif\" font-size=\"14.00\" fill=\"#000000\">value = [37, 0, 0]</text>\n",
       "<text text-anchor=\"middle\" x=\"605\" y=\"-119.3\" font-family=\"Helvetica,sans-Serif\" font-size=\"14.00\" fill=\"#000000\">class = 琴酒</text>\n",
       "</g>\n",
       "<!-- 10&#45;&gt;12 -->\n",
       "<g id=\"edge12\" class=\"edge\">\n",
       "<title>10&#45;&gt;12</title>\n",
       "<path fill=\"none\" stroke=\"#000000\" d=\"M519.1672,-222.8796C532.2183,-211.1138 546.4101,-198.3197 559.4261,-186.5855\"/>\n",
       "<polygon fill=\"#000000\" stroke=\"#000000\" points=\"561.8526,-189.1104 566.9364,-179.8149 557.1654,-183.9113 561.8526,-189.1104\"/>\n",
       "</g>\n",
       "</g>\n",
       "</svg>\n"
      ],
      "text/plain": [
       "<graphviz.files.Source at 0x1a20cc5210>"
      ]
     },
     "execution_count": 198,
     "metadata": {},
     "output_type": "execute_result"
    }
   ],
   "source": [
    "feature_name = ['酒精','苹果酸','灰','灰的碱性','镁',\n",
    "                '总酚','类黄酮','非黄烷类酚类','花青素',\n",
    "                '颜色强度','色调','od280/od315稀释葡萄酒','脯氨酸']\n",
    "\n",
    "import matplotlib.pyplot as plt\n",
    "plt.rcParams['font.sans-serif']=['Simhei']\n",
    "plt.rcParams['axes.unicode_minus']=False\n",
    "import graphviz\n",
    "dot_data = tree.export_graphviz(clf,\n",
    "                                out_file = None\n",
    "                                ,feature_names= feature_name \n",
    "                                ,class_names=[\"琴酒\",\"雪莉\",\"贝尔摩德\"] \n",
    "                                ,filled=True\n",
    "                                ,rounded=True)\n",
    "graph = graphviz.Source(dot_data)\n",
    "graph"
   ]
  },
  {
   "cell_type": "code",
   "execution_count": 204,
   "metadata": {},
   "outputs": [
    {
     "data": {
      "image/png": "[encoded data removed]",
      "text/plain": [
       "<Figure size 432x288 with 1 Axes>"
      ]
     },
     "metadata": {
      "needs_background": "light"
     },
     "output_type": "display_data"
    }
   ],
   "source": [
    "import numpy as np\n",
    "import matplotlib.pyplot as plt\n",
    "from sklearn.tree import DecisionTreeClassifier\n",
    "from sklearn.datasets import make_blobs\n",
    "\n",
    "class_1 = 1000 #类别1有1000个样本\n",
    "class_2 = 100 #类别2只有100个\n",
    "centers = [[0,0], [2.0, 2.0]] #设定两个类别的中心\n",
    "clusters_std = [1.5, 0.5] #设定两个类别的方差，通常来说，样本量比较大的类别会更加松散\n",
    "X, y = make_blobs(n_samples=[class_1, class_2],\n",
    "                  centers=centers,\n",
    "                  cluster_std=clusters_std,\n",
    "                  random_state=420, shuffle=False)\n",
    "\n",
    "#看看数据集长什么样\n",
    "plt.scatter(X[:, 0], X[:, 1], c=y, cmap=\"rainbow\",s=10);\n",
    "#其中红色点是少数类，紫色点是多数类"
   ]
  },
  {
   "cell_type": "code",
   "execution_count": 223,
   "metadata": {},
   "outputs": [
    {
     "data": {
      "text/plain": [
       "(0.9581818181818181, 0.9490909090909091)"
      ]
     },
     "execution_count": 223,
     "metadata": {},
     "output_type": "execute_result"
    }
   ],
   "source": [
    "clf = DecisionTreeClassifier(max_depth=4)\n",
    "clf.fit(X, y)\n",
    "\n",
    "wclf = DecisionTreeClassifier(max_depth=4, \n",
    "                              class_weight = 'balanced',\n",
    "                              #class_weight = {0:1, 1:10}\n",
    "                             )\n",
    "wclf.fit(X, y)\n",
    "\n",
    "clf.score(X, y), wclf.score(X, y)"
   ]
  },
  {
   "cell_type": "code",
   "execution_count": 229,
   "metadata": {},
   "outputs": [
    {
     "data": {
      "text/plain": [
       "0.99"
      ]
     },
     "execution_count": 229,
     "metadata": {},
     "output_type": "execute_result"
    }
   ],
   "source": [
    "# 计算当前模型下，少数类样本的准确度\n",
    "\n",
    "# 首先将数据集的标签预测出来\n",
    "y_pred = wclf.predict(X)\n",
    "\n",
    "# 将真实的标签和预测标签拼在一起\n",
    "results = pd.DataFrame({'True_label': y, 'Pred_label': y_pred})\n",
    "\n",
    "# 从results中，选取出真实标签为1的样本，也就是少数类的样本\n",
    "minority = results[results['True_label'] == 1]\n",
    "\n",
    "# 在少数类的样本当中，对预测的label做一个平均值就可以得到少数类样本的准确率\n",
    "minority['Pred_label'].mean()"
   ]
  },
  {
   "cell_type": "markdown",
   "metadata": {},
   "source": [
    "True Positive: 预测为正(postive),预测正确(预测的结果和真实的结果一样的)\n",
    "\n",
    "False Negative: 预测为负(negative)，预测错了(预测结果和真实的结果不一样)\n",
    "\n",
    "False Positive: 预测为正(postive), 预测错了(预测结果和真实的结果不一样)\n",
    "\n",
    "True Negative: 预测为负(negative),预测正确(预测的结果和真实的结果一样的)"
   ]
  },
  {
   "cell_type": "code",
   "execution_count": 234,
   "metadata": {},
   "outputs": [],
   "source": [
    "from sklearn.metrics import f1_score, recall_score, precision_score, roc_auc_score"
   ]
  },
  {
   "cell_type": "code",
   "execution_count": 231,
   "metadata": {},
   "outputs": [],
   "source": [
    "clf_y_pred = clf.predict(X)\n",
    "wclf_y_pred = wclf.predict(X)"
   ]
  },
  {
   "cell_type": "code",
   "execution_count": 236,
   "metadata": {},
   "outputs": [
    {
     "data": {
      "text/plain": [
       "(0.8050847457627118, 0.95, 0.6985294117647058, 0.9545)"
      ]
     },
     "execution_count": 236,
     "metadata": {},
     "output_type": "execute_result"
    }
   ],
   "source": [
    "f1_score(y, clf_y_pred), recall_score(y, clf_y_pred), precision_score(y, clf_y_pred), roc_auc_score(y, clf_y_pred)"
   ]
  },
  {
   "cell_type": "code",
   "execution_count": 235,
   "metadata": {},
   "outputs": [
    {
     "data": {
      "text/plain": [
       "(0.7795275590551181, 0.99, 0.6428571428571429, 0.9675)"
      ]
     },
     "execution_count": 235,
     "metadata": {},
     "output_type": "execute_result"
    }
   ],
   "source": [
    "f1_score(y, wclf_y_pred), recall_score(y, wclf_y_pred), precision_score(y, wclf_y_pred), roc_auc_score(y, wclf_y_pred)"
   ]
  },
  {
   "cell_type": "code",
   "execution_count": null,
   "metadata": {},
   "outputs": [],
   "source": []
  },
  {
   "cell_type": "code",
   "execution_count": null,
   "metadata": {},
   "outputs": [],
   "source": []
  },
  {
   "cell_type": "code",
   "execution_count": null,
   "metadata": {},
   "outputs": [],
   "source": []
  },
  {
   "cell_type": "code",
   "execution_count": null,
   "metadata": {},
   "outputs": [],
   "source": []
  },
  {
   "cell_type": "code",
   "execution_count": null,
   "metadata": {},
   "outputs": [],
   "source": []
  },
  {
   "cell_type": "code",
   "execution_count": null,
   "metadata": {},
   "outputs": [],
   "source": []
  },
  {
   "cell_type": "code",
   "execution_count": null,
   "metadata": {},
   "outputs": [],
   "source": []
  },
  {
   "cell_type": "code",
   "execution_count": null,
   "metadata": {},
   "outputs": [],
   "source": []
  }
 ],
 "metadata": {
  "kernelspec": {
   "display_name": "Python 3",
   "language": "python",
   "name": "python3"
  },
  "language_info": {
   "codemirror_mode": {
    "name": "ipython",
    "version": 3
   },
   "file_extension": ".py",
   "mimetype": "text/x-python",
   "name": "python",
   "nbconvert_exporter": "python",
   "pygments_lexer": "ipython3",
   "version": "3.7.4"
  }
 },
 "nbformat": 4,
 "nbformat_minor": 4
}
