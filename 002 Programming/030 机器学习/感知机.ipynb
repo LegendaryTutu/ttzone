{
 "cells": [
  {
   "cell_type": "markdown",
   "metadata": {},
   "source": [
    "# 感知机模型\n",
    "\n",
    "## 什么是感知机？\n",
    "\n",
    "感知机是二分类的线性模型，其输入是实例的特征向量，输出的是事例的类别，分别是+1和-1，属于判别模型。假设训练数据集是线性可分的，感知机学习的目标是求得一个能够将训练数据集正实例点和负实例点完全正确分开的分离超平面。\n",
    "\n",
    "超平面在2位空间里面就是一条线，在三维空间里面超平面就是一个面。\n",
    "\n",
    "\n",
    "\n",
    "## 样本点到超平面的距离\n",
    "\n",
    "$$d = \\frac{w * x + b}{|w|}$$\n",
    "\n",
    "\n",
    "\n",
    "## 感知机的损失函数\n",
    "\n",
    "M表示的是所有误分类点的集合\n",
    "\n",
    "$$L(w, b) = - \\frac{1}{|w|}\\sum_{x_{i}\\subset M{i}} y_{i}(w * x_{i} + b)$$\n",
    "\n",
    "\n",
    "## 感知机的原始形式\n",
    "\n",
    "输入：训练数据集𝑇=(𝑥1,𝑦1),(𝑥2,𝑦2),...,(𝑥𝑁,𝑦𝑁)，这里的x可能是多个维度，也就是有多列，y为每个数据的标签，并且y必须强制的转化成(-1,1)。原因是便于用来分辨点是否为误分类点。\n",
    "\n",
    "算法实现：\n",
    "\n",
    "### Batch GD\n",
    "\n",
    "1. 初始值 w = 1, b = 1\n",
    "2. 找出所有的误分类点，假如说某个xi点符合$y_{i}(w * x_{i} + b) <= 0$, 则就是误分类点。然后做下一步操作\n",
    "3. $$w = w + \\lambda \\sum_{x_{i}\\subset M{i}}y_{i}x_{i}$$\n",
    "   $$b = b + \\lambda \\sum_{x_{i}\\subset M{i}}y_{i}$$\n",
    "4. 重复2，3步指导没有误分类点\n",
    "\n",
    "### BATCH_GD算法实现"
   ]
  },
  {
   "cell_type": "code",
   "execution_count": 2,
   "metadata": {},
   "outputs": [
    {
     "data": {
      "text/plain": [
       "<matplotlib.collections.PathCollection at 0x7f93c830b9d0>"
      ]
     },
     "execution_count": 2,
     "metadata": {},
     "output_type": "execute_result"
    },
    {
     "data": {
      "image/png": "[encoded data removed]",
      "text/plain": [
       "<Figure size 432x288 with 1 Axes>"
      ]
     },
     "metadata": {
      "needs_background": "light"
     },
     "output_type": "display_data"
    }
   ],
   "source": [
    "import numpy as np\n",
    "import pandas as pd\n",
    "import matplotlib.pyplot as plt\n",
    "import random\n",
    "from sklearn.datasets import make_blobs\n",
    "\n",
    "sample_size = 200\n",
    "centers = [[1,1], [3,4]]\n",
    "X, Y = make_blobs(n_samples = sample_size, centers = centers, \n",
    "                  cluster_std = 0.6, random_state = 11)\n",
    "Y[Y == 0] = -1\n",
    "\n",
    "plt.scatter(X[:,0], X[:,1], cmap = 'cool', c = Y)\n"
   ]
  },
  {
   "cell_type": "code",
   "execution_count": 2,
   "metadata": {},
   "outputs": [
    {
     "data": {
      "text/plain": [
       "0"
      ]
     },
     "execution_count": 2,
     "metadata": {},
     "output_type": "execute_result"
    }
   ],
   "source": [
    "sum(Y)"
   ]
  },
  {
   "cell_type": "markdown",
   "metadata": {},
   "source": [
    "首先初始化w值和b值，这里是2维的数据，后面可能会遇到多元的情况，所以w可以根据x的维度来取值，且每个维度上的值都取1"
   ]
  },
  {
   "cell_type": "code",
   "execution_count": 3,
   "metadata": {},
   "outputs": [
    {
     "data": {
      "text/plain": [
       "matrix([[1],\n",
       "        [1]])"
      ]
     },
     "execution_count": 3,
     "metadata": {},
     "output_type": "execute_result"
    }
   ],
   "source": [
    "x_mat = np.mat(X)\n",
    "w = np.mat([1] * x_mat.shape[1]).T\n",
    "b = 0\n",
    "w"
   ]
  },
  {
   "cell_type": "markdown",
   "metadata": {},
   "source": [
    "现在我们的线是 x + y + 0 = 0, 也就是y = -x, 在这个线上吗看下都多少误分类点"
   ]
  },
  {
   "cell_type": "code",
   "execution_count": 4,
   "metadata": {},
   "outputs": [
    {
     "data": {
      "text/plain": [
       "199"
      ]
     },
     "execution_count": 4,
     "metadata": {},
     "output_type": "execute_result"
    }
   ],
   "source": [
    "sum(np.ravel(x_mat * w + b) > 0)"
   ]
  },
  {
   "cell_type": "code",
   "execution_count": 5,
   "metadata": {},
   "outputs": [],
   "source": [
    "#np.array([1,2,1]) * np.array([1, -1, 1])"
   ]
  },
  {
   "cell_type": "markdown",
   "metadata": {},
   "source": [
    "怎么找到这些点。我们可以首先对所有的数据都做操作，将所有的点都算一遍，然后用np.where这样的形式将所有的误分类点给找出来"
   ]
  },
  {
   "cell_type": "code",
   "execution_count": 6,
   "metadata": {
    "collapsed": true,
    "jupyter": {
     "outputs_hidden": true
    }
   },
   "outputs": [
    {
     "data": {
      "text/plain": [
       "array([-2.05381758, -1.62106715, -2.22634057, -3.04569713, -1.8032504 ,\n",
       "        6.81781289, -2.59555701, -1.84925361, -3.01947094, -0.66914739,\n",
       "       -3.22270718,  8.08683839,  8.49398974,  7.72540234,  6.91191959,\n",
       "        7.77086607, -2.02147608, -2.57851552,  5.7257503 , -2.56755492,\n",
       "       -0.9865329 , -1.21203563,  6.22356494,  6.47284884, -2.03284821,\n",
       "       -1.48123135,  8.15302874, -2.19624193, -2.7963423 ,  6.25233576,\n",
       "        7.92394652,  6.72799565,  7.86746096, -1.54841204, -1.15994479,\n",
       "        6.63963034, -0.95231656,  5.50232824,  6.90854088, -2.87802905,\n",
       "       -2.09158958, -1.72596255, -1.40366361,  6.87018808,  7.96730383,\n",
       "        5.94924023, -2.48680966,  7.75562277,  6.41069821, -1.9474861 ,\n",
       "        7.27758153, -2.77740156, -0.79256896,  6.59116192, -1.86327976,\n",
       "        6.99774428,  7.26845037,  7.11945621, -1.81356511,  7.11206149,\n",
       "        5.66709456, -0.62818745,  7.21729973,  6.97162592,  5.78367732,\n",
       "        7.60113976,  7.5610232 , -1.61326864,  8.08845698, -1.47956121,\n",
       "       -1.65266667,  8.98106303, -2.76672013,  6.72161974, -2.14607633,\n",
       "       -2.58288614, -2.28765599,  7.63931345,  6.01921586, -1.66021296,\n",
       "       -1.29079877, -0.11726979, -1.1828161 ,  6.68599452,  6.7729837 ,\n",
       "        7.59401308, -2.20601964, -1.63517391, -2.19020602,  5.59430948,\n",
       "        6.97611775, -1.31858166,  7.42858617,  6.13446876, -1.58547775,\n",
       "       -1.11824201,  5.78654237,  5.84528428, -1.96360034,  7.4976091 ,\n",
       "        7.40783891,  8.1462666 , -2.619399  , -3.47210297,  7.67673667,\n",
       "        8.05399982,  6.92064546, -2.2770392 , -2.75052469, -1.7567561 ,\n",
       "       -2.97291955,  7.96594553, -2.03772543,  5.81994015,  7.87419769,\n",
       "       -3.89388805, -1.71147301, -2.49971103, -1.33286149,  6.36847611,\n",
       "       -2.20110063, -1.09264913,  7.80193959, -1.78484457, -2.46331761,\n",
       "        5.86867046,  5.86163127, -1.95165116,  8.10543253, -2.42214384,\n",
       "        6.19295103,  0.03077363, -2.00355441,  5.94447976, -0.42689032,\n",
       "       -3.41679213, -1.40119954, -2.25628925, -2.68582953,  6.46725608,\n",
       "        6.62043808, -1.57128697,  7.36730502,  8.16782221,  6.06701687,\n",
       "       -1.66559677,  7.30481319, -2.11770422, -2.31084773,  6.01103832,\n",
       "       -0.27808031, -2.51273859, -2.00497486,  6.88923999, -2.92978836,\n",
       "        7.63235626,  6.65995271,  6.51699548,  4.78409433,  6.62396031,\n",
       "        7.75548722,  8.35452826,  7.26717638, -1.8400696 ,  6.85902405,\n",
       "        7.74480979,  7.08089654,  7.37261135, -1.86726398,  6.49245443,\n",
       "        7.7171457 ,  5.66769252,  7.42885337,  6.76390603, -3.38688288,\n",
       "       -2.47163184,  7.94693981,  7.01483078, -2.15825771,  6.67870417,\n",
       "        7.00787122,  6.00726881, -0.54498574, -1.54877136, -2.21962132,\n",
       "        5.75086174, -1.15956789,  5.72904514,  6.66499059, -2.32589162,\n",
       "       -3.6352872 , -2.50924517, -2.21245757, -3.29887365,  7.78959755,\n",
       "       -3.21106387,  7.73173873, -3.36489431, -1.53538127,  7.27243262])"
      ]
     },
     "execution_count": 6,
     "metadata": {},
     "output_type": "execute_result"
    }
   ],
   "source": [
    "tmp = np.ravel(x_mat * w + b) * Y\n",
    "tmp"
   ]
  },
  {
   "cell_type": "code",
   "execution_count": 7,
   "metadata": {},
   "outputs": [],
   "source": [
    "tmp_result_X = np.array(X[np.where(tmp <= 0)])\n",
    "tmp_result_Y = Y[np.where(tmp <= 0)]"
   ]
  },
  {
   "cell_type": "markdown",
   "metadata": {},
   "source": [
    "现在我们已经找到所有的误分类点了，然后就是利用上面的公式\n",
    "\n",
    "$$w = w + \\lambda \\sum_{x_{i}\\subset M{i}}y_{i}x_{i}$$\n",
    "$$b = b + \\lambda \\sum_{x_{i}\\subset M{i}}y_{i}$$"
   ]
  },
  {
   "cell_type": "code",
   "execution_count": 8,
   "metadata": {},
   "outputs": [
    {
     "data": {
      "text/plain": [
       "array([[1.43936281, 0.61445476],\n",
       "       [0.71350646, 0.90756069],\n",
       "       [1.8954829 , 0.33085767]])"
      ]
     },
     "execution_count": 8,
     "metadata": {},
     "output_type": "execute_result"
    }
   ],
   "source": [
    "tmp_result_X[:3]"
   ]
  },
  {
   "cell_type": "code",
   "execution_count": 9,
   "metadata": {},
   "outputs": [
    {
     "data": {
      "text/plain": [
       "array([-1, -1, -1])"
      ]
     },
     "execution_count": 9,
     "metadata": {},
     "output_type": "execute_result"
    }
   ],
   "source": [
    "tmp_result_Y[:3]"
   ]
  },
  {
   "cell_type": "code",
   "execution_count": 11,
   "metadata": {},
   "outputs": [
    {
     "data": {
      "text/plain": [
       "array([[ 1.43936281,  0.61445476],\n",
       "       [-0.71350646, -0.90756069],\n",
       "       [ 1.8954829 ,  0.33085767]])"
      ]
     },
     "execution_count": 11,
     "metadata": {},
     "output_type": "execute_result"
    }
   ],
   "source": [
    "tmp_result_X[:3] * np.array([[1,1], [-1,-1], [1,1]])"
   ]
  },
  {
   "cell_type": "code",
   "execution_count": 12,
   "metadata": {},
   "outputs": [],
   "source": [
    "#np.array([Y] * x_mat.shape[1]).T"
   ]
  },
  {
   "cell_type": "code",
   "execution_count": 13,
   "metadata": {},
   "outputs": [],
   "source": [
    "total_w = tmp_result_X * np.array([tmp_result_Y] * x_mat.shape[1]).T\n",
    "total_w.sum(axis = 0)\n",
    "tmp_result_Y.sum()"
   ]
  },
  {
   "cell_type": "code",
   "execution_count": 16,
   "metadata": {},
   "outputs": [],
   "source": [
    "alpha = 0.1"
   ]
  },
  {
   "cell_type": "code",
   "execution_count": 17,
   "metadata": {},
   "outputs": [],
   "source": [
    "w = w - np.mat(total_w.sum(axis = 0)).T * alpha\n",
    "b = b - tmp_result_Y.sum() * alpha\n",
    "w,b"
   ]
  },
  {
   "cell_type": "code",
   "execution_count": 20,
   "metadata": {},
   "outputs": [
    {
     "data": {
      "text/plain": [
       "5"
      ]
     },
     "execution_count": 20,
     "metadata": {},
     "output_type": "execute_result"
    }
   ],
   "source": [
    "sum(X[:, 1] < 0)"
   ]
  },
  {
   "cell_type": "code",
   "execution_count": 28,
   "metadata": {},
   "outputs": [
    {
     "name": "stdout",
     "output_type": "stream",
     "text": [
      "missing points are now 99\n",
      "[[-0.00059816]\n",
      " [-0.0089755 ]]\n",
      "-0.99\n",
      "missing points are now 100\n",
      "[[2.97330987]\n",
      " [3.99023162]]\n",
      "0.010000000000000009\n",
      "missing points are now 98\n",
      "[[1.97980432]\n",
      " [2.97533621]]\n",
      "-0.97\n",
      "missing points are now 96\n",
      "[[0.99191275]\n",
      " [1.96187652]]\n",
      "-1.93\n",
      "missing points are now 84\n",
      "[[0.08384955]\n",
      " [0.99268042]]\n",
      "-2.77\n",
      "missing points are now 0\n"
     ]
    }
   ],
   "source": [
    "x_mat = np.mat(X)\n",
    "w = np.mat([1] * x_mat.shape[1]).T\n",
    "b = 0\n",
    "alpha = 0.01\n",
    "\n",
    "while True:\n",
    "    tmp = np.ravel(x_mat * w + b) * Y\n",
    "    \n",
    "    missing_TF = tmp<0\n",
    "    print('missing points are now {}'.format(sum(missing_TF)))\n",
    "    if sum(missing_TF) == 0:\n",
    "        break\n",
    "    finding = np.where(missing_TF)\n",
    "    \n",
    "    tmp_result_X = X[finding]\n",
    "    tmp_result_Y = Y[finding]\n",
    "\n",
    "    total_w = tmp_result_X * np.array([tmp_result_Y] * tmp_result_X.shape[1]).T\n",
    "\n",
    "    w = w + np.mat(total_w.sum(axis = 0)).T * alpha\n",
    "    b = b + tmp_result_Y.sum() * alpha\n",
    "    print(w)\n",
    "    print(b)"
   ]
  },
  {
   "cell_type": "markdown",
   "metadata": {},
   "source": [
    "查看一下在迭代之后，查看在现在的结果下，是否有误分类点"
   ]
  },
  {
   "cell_type": "code",
   "execution_count": 22,
   "metadata": {},
   "outputs": [],
   "source": [
    "#np.ravel(x_mat * w + b) * Y"
   ]
  },
  {
   "cell_type": "markdown",
   "metadata": {},
   "source": [
    "### 单样本 GD\n",
    "\n",
    "1. 初始值 w = 1, b = 1\n",
    "2. 找出一个误分类点，假如说某个xi点符合$y_{i}(w * x_{i} + b) <= 0$, 则就是误分类点。然后做下一步操作\n",
    "3. $$w = w + \\lambda y_{i}x_{i}$$\n",
    "   $$b = b + \\lambda y_{i}$$\n",
    "4. 重复2，3步指导没有误分类点\n",
    "\n",
    "### 单样本_GD算法实现"
   ]
  },
  {
   "cell_type": "code",
   "execution_count": 6,
   "metadata": {},
   "outputs": [
    {
     "name": "stdout",
     "output_type": "stream",
     "text": [
      "[1 1] 1\n"
     ]
    }
   ],
   "source": [
    "w = np.array([1] * X.shape[1])\n",
    "b = 1\n",
    "print(w, b)\n",
    "lam = 0.1"
   ]
  },
  {
   "cell_type": "code",
   "execution_count": 24,
   "metadata": {},
   "outputs": [],
   "source": [
    "count = 0\n",
    "while True:\n",
    "    count += 1\n",
    "    missing_index = -1\n",
    "    for i in range(X.shape[0]):\n",
    "        checking = Y[i] * (np.dot(w, X[i]) + b)\n",
    "        if checking < 0:\n",
    "            missing_index = i\n",
    "            break\n",
    "    if missing_index == -1:\n",
    "        break\n",
    "    w = w + lam * Y[missing_index] * X[missing_index]\n",
    "    b = b + lam * Y[missing_index]        "
   ]
  },
  {
   "cell_type": "code",
   "execution_count": 25,
   "metadata": {},
   "outputs": [
    {
     "data": {
      "text/plain": [
       "(array([-0.03204618,  0.33307921]), -0.7999999999999999, 9)"
      ]
     },
     "execution_count": 25,
     "metadata": {},
     "output_type": "execute_result"
    }
   ],
   "source": [
    "w, b, count"
   ]
  },
  {
   "cell_type": "markdown",
   "metadata": {},
   "source": [
    "### 对偶形式\n",
    "\n",
    "在对偶形式中，我们将算法转变了一下。\n",
    "\n",
    "$$w = \\sum_{x_{i}\\subset M{i}} \\lambda y_{i}x_{i} = \\sum_{i = 1}^{n}a_{i} y_{i} x_{i}$$\n",
    "$$b = \\sum_{x_{i}\\subset M{i}} y_{i} = \\sum_{i = 1}^{n} a_{i} y_{i} $$\n",
    "\n",
    "其中$α_{i}$可以看成第i个样本的学习次。\n",
    "\n",
    "1. 赋初值 𝛼0,𝑏0\n",
    "2. 选取数据点(𝑥𝑖,𝑦𝑖)\n",
    "3. 判断该数据点是否为当前模型的误分类点，如果$y_{i} \\sum_{j = 1}^{n} a_{j} y_{j} x_{j} *x_{i} + b < 0$, 则该点为误分类点，跟新a,b\n",
    "\n",
    "$$a = a + \\lambda$$\n",
    "\n",
    "$$b = b + \\lambda y_{i}$$\n",
    "\n",
    "4. 重复2，3步直到没有误分类点即可。\n",
    "\n",
    "### SGD对偶实现"
   ]
  },
  {
   "cell_type": "code",
   "execution_count": null,
   "metadata": {},
   "outputs": [],
   "source": [
    "# 首先计算出来gram矩阵\n",
    "gram = np.array(np.mat(X) * np.mat(X).T)\n",
    "\n",
    "# 设置好一开始的参数值以及学习率\n",
    "a = np.zeros(X.shape[0])\n",
    "b = 0\n",
    "lam = 0.1"
   ]
  },
  {
   "cell_type": "code",
   "execution_count": 2,
   "metadata": {},
   "outputs": [
    {
     "data": {
      "text/plain": [
       "array([[ 2.44931996,  1.58464966,  2.93158467, ...,  3.2516907 ,\n",
       "         1.50943086,  7.15236241],\n",
       "       [ 1.58464966,  1.33275787,  1.65271271, ...,  2.7752904 ,\n",
       "         1.26030187,  5.96883188],\n",
       "       [ 2.93158467,  1.65271271,  3.70232222, ...,  3.35924447,\n",
       "         1.58155623,  7.49654056],\n",
       "       ...,\n",
       "       [ 3.2516907 ,  2.7752904 ,  3.35924447, ...,  5.78327075,\n",
       "         2.62347951, 12.42457626],\n",
       "       [ 1.50943086,  1.26030187,  1.58155623, ...,  2.62347951,\n",
       "         1.19199641,  5.64540546],\n",
       "       [ 7.15236241,  5.96883188,  7.49654056, ..., 12.42457626,\n",
       "         5.64540546, 26.73718707]])"
      ]
     },
     "execution_count": 2,
     "metadata": {},
     "output_type": "execute_result"
    }
   ],
   "source": [
    "#X = np.array([[3,3], [4,3], [1,1]])\n",
    "#Y = np.array([1,1,-1])\n",
    "gram = np.array(np.mat(X) * np.mat(X).T)\n",
    "a = np.zeros(X.shape[0])\n",
    "b = 0\n",
    "lam = 0.1\n",
    "gram"
   ]
  },
  {
   "cell_type": "code",
   "execution_count": 3,
   "metadata": {},
   "outputs": [],
   "source": [
    "count = 0\n",
    "while True:\n",
    "    count += 1\n",
    "    missing_index = -1\n",
    "    for j in range(X.shape[0]):\n",
    "        checking = Y[j] * ((a * Y * gram[j, :]).sum() + b)\n",
    "        #print(j, checking)\n",
    "        if checking <=0 :\n",
    "            missing_index = j\n",
    "            break\n",
    "    if missing_index == -1:\n",
    "        break\n",
    "    a[missing_index] += lam\n",
    "    b += lam * Y[missing_index]\n",
    "    #print(a, b)\n",
    "theta = np.ravel(np.mat(a * Y) * np.mat(X))"
   ]
  },
  {
   "cell_type": "code",
   "execution_count": 7,
   "metadata": {},
   "outputs": [
    {
     "data": {
      "text/plain": [
       "(1, 200)"
      ]
     },
     "execution_count": 7,
     "metadata": {},
     "output_type": "execute_result"
    }
   ],
   "source": [
    "np.mat(a * Y).shape"
   ]
  },
  {
   "cell_type": "code",
   "execution_count": null,
   "metadata": {},
   "outputs": [],
   "source": []
  },
  {
   "cell_type": "code",
   "execution_count": null,
   "metadata": {},
   "outputs": [],
   "source": []
  },
  {
   "cell_type": "code",
   "execution_count": 32,
   "metadata": {},
   "outputs": [],
   "source": [
    "from sklearn.datasets import load_iris\n",
    "from sklearn.decomposition import PCA\n",
    "import numpy as np\n",
    "import pandas as pd\n",
    "\n",
    "iris = load_iris()\n",
    "\n",
    "# 我们首先拿到一个数据集，算出它的协方差矩阵\n",
    "X = pd.DataFrame(iris.data)\n",
    "covariance_matrix = X.cov()\n",
    "covariance_matrix"
   ]
  },
  {
   "cell_type": "code",
   "execution_count": 35,
   "metadata": {},
   "outputs": [
    {
     "name": "stdout",
     "output_type": "stream",
     "text": [
      "[4.22824171 0.24267075 0.0782095  0.02383509]\n"
     ]
    }
   ],
   "source": [
    "# 尝试看一下PCA的结果\n",
    "pca = PCA().fit(X)\n",
    "\n",
    "# 给出PCA的特征值\n",
    "print(pca.explained_variance_)"
   ]
  },
  {
   "cell_type": "code",
   "execution_count": 36,
   "metadata": {},
   "outputs": [
    {
     "data": {
      "text/plain": [
       "matrix([[4.22824171, 0.        , 0.        , 0.        ],\n",
       "        [0.        , 0.24267075, 0.        , 0.        ],\n",
       "        [0.        , 0.        , 0.0782095 , 0.        ],\n",
       "        [0.        , 0.        , 0.        , 0.02383509]])"
      ]
     },
     "execution_count": 36,
     "metadata": {},
     "output_type": "execute_result"
    }
   ],
   "source": [
    "# 特征值形成对角矩阵, 记做D\n",
    "\n",
    "D = np.mat(np.diag(pca.explained_variance_))\n",
    "D"
   ]
  },
  {
   "cell_type": "code",
   "execution_count": 37,
   "metadata": {},
   "outputs": [
    {
     "data": {
      "text/plain": [
       "matrix([[ 0.36138659, -0.08452251,  0.85667061,  0.3582892 ],\n",
       "        [ 0.65658877,  0.73016143, -0.17337266, -0.07548102],\n",
       "        [-0.58202985,  0.59791083,  0.07623608,  0.54583143],\n",
       "        [-0.31548719,  0.3197231 ,  0.47983899, -0.75365743]])"
      ]
     },
     "execution_count": 37,
     "metadata": {},
     "output_type": "execute_result"
    }
   ],
   "source": [
    "# 取出特征向量, 记做P\n",
    "P = np.mat(pca.components_)\n",
    "P"
   ]
  },
  {
   "cell_type": "code",
   "execution_count": 38,
   "metadata": {},
   "outputs": [
    {
     "data": {
      "text/plain": [
       "matrix([[ 0.68569351, -0.042434  ,  1.27431544,  0.51627069],\n",
       "        [-0.042434  ,  0.18997942, -0.32965638, -0.12163937],\n",
       "        [ 1.27431544, -0.32965638,  3.11627785,  1.2956094 ],\n",
       "        [ 0.51627069, -0.12163937,  1.2956094 ,  0.58100626]])"
      ]
     },
     "execution_count": 38,
     "metadata": {},
     "output_type": "execute_result"
    }
   ],
   "source": [
    "# 验证是否 P * D * P.T = 方差矩阵\n",
    "\n",
    "P.T * D * P"
   ]
  },
  {
   "cell_type": "code",
   "execution_count": 24,
   "metadata": {},
   "outputs": [
    {
     "data": {
      "text/html": [
       "<div>\n",
       "<style scoped>\n",
       "    .dataframe tbody tr th:only-of-type {\n",
       "        vertical-align: middle;\n",
       "    }\n",
       "\n",
       "    .dataframe tbody tr th {\n",
       "        vertical-align: top;\n",
       "    }\n",
       "\n",
       "    .dataframe thead th {\n",
       "        text-align: right;\n",
       "    }\n",
       "</style>\n",
       "<table border=\"1\" class=\"dataframe\">\n",
       "  <thead>\n",
       "    <tr style=\"text-align: right;\">\n",
       "      <th></th>\n",
       "      <th>0</th>\n",
       "      <th>1</th>\n",
       "      <th>2</th>\n",
       "      <th>3</th>\n",
       "    </tr>\n",
       "  </thead>\n",
       "  <tbody>\n",
       "    <tr>\n",
       "      <td>0</td>\n",
       "      <td>0.685694</td>\n",
       "      <td>-0.042434</td>\n",
       "      <td>1.274315</td>\n",
       "      <td>0.516271</td>\n",
       "    </tr>\n",
       "    <tr>\n",
       "      <td>1</td>\n",
       "      <td>-0.042434</td>\n",
       "      <td>0.189979</td>\n",
       "      <td>-0.329656</td>\n",
       "      <td>-0.121639</td>\n",
       "    </tr>\n",
       "    <tr>\n",
       "      <td>2</td>\n",
       "      <td>1.274315</td>\n",
       "      <td>-0.329656</td>\n",
       "      <td>3.116278</td>\n",
       "      <td>1.295609</td>\n",
       "    </tr>\n",
       "    <tr>\n",
       "      <td>3</td>\n",
       "      <td>0.516271</td>\n",
       "      <td>-0.121639</td>\n",
       "      <td>1.295609</td>\n",
       "      <td>0.581006</td>\n",
       "    </tr>\n",
       "  </tbody>\n",
       "</table>\n",
       "</div>"
      ],
      "text/plain": [
       "          0         1         2         3\n",
       "0  0.685694 -0.042434  1.274315  0.516271\n",
       "1 -0.042434  0.189979 -0.329656 -0.121639\n",
       "2  1.274315 -0.329656  3.116278  1.295609\n",
       "3  0.516271 -0.121639  1.295609  0.581006"
      ]
     },
     "execution_count": 24,
     "metadata": {},
     "output_type": "execute_result"
    }
   ],
   "source": [
    "# 原数据X里的方差矩阵\n",
    "\n",
    "covariance_matrix"
   ]
  },
  {
   "cell_type": "code",
   "execution_count": 52,
   "metadata": {},
   "outputs": [
    {
     "data": {
      "text/plain": [
       "array([[-2.68,  0.32, -0.03, -0.  ],\n",
       "       [-2.71, -0.18, -0.21, -0.1 ],\n",
       "       [-2.89, -0.14,  0.02, -0.02]])"
      ]
     },
     "execution_count": 52,
     "metadata": {},
     "output_type": "execute_result"
    }
   ],
   "source": [
    "#  验证新的特征是否是有(X - X每个特征平均值) * P得到, 数据太多，取前三行\n",
    "\n",
    "X_new = np.around(np.mat(X - X.mean()) * P.T, 2)\n",
    "X_new[:3]"
   ]
  },
  {
   "cell_type": "code",
   "execution_count": 53,
   "metadata": {},
   "outputs": [
    {
     "data": {
      "text/plain": [
       "array([[-2.68,  0.32, -0.03, -0.  ],\n",
       "       [-2.71, -0.18, -0.21, -0.1 ],\n",
       "       [-2.89, -0.14,  0.02, -0.02]])"
      ]
     },
     "execution_count": 53,
     "metadata": {},
     "output_type": "execute_result"
    }
   ],
   "source": [
    "# 取出PCA包的结果，查看是否一致，数据太多，取前三行\n",
    "X_pca_new = PCA().fit_transform(X)\n",
    "np.around(X_pca_new,2)[:3]"
   ]
  },
  {
   "cell_type": "code",
   "execution_count": null,
   "metadata": {},
   "outputs": [],
   "source": []
  },
  {
   "cell_type": "code",
   "execution_count": null,
   "metadata": {},
   "outputs": [],
   "source": []
  },
  {
   "cell_type": "code",
   "execution_count": null,
   "metadata": {},
   "outputs": [],
   "source": []
  },
  {
   "cell_type": "code",
   "execution_count": null,
   "metadata": {},
   "outputs": [],
   "source": []
  },
  {
   "cell_type": "code",
   "execution_count": null,
   "metadata": {},
   "outputs": [],
   "source": []
  }
 ],
 "metadata": {
  "kernelspec": {
   "display_name": "Python 3",
   "language": "python",
   "name": "python3"
  },
  "language_info": {
   "codemirror_mode": {
    "name": "ipython",
    "version": 3
   },
   "file_extension": ".py",
   "mimetype": "text/x-python",
   "name": "python",
   "nbconvert_exporter": "python",
   "pygments_lexer": "ipython3",
   "version": "3.7.4"
  }
 },
 "nbformat": 4,
 "nbformat_minor": 4
}
