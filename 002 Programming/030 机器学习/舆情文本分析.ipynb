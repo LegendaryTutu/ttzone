{
 "cells": [
  {
   "cell_type": "code",
   "execution_count": 2,
   "metadata": {},
   "outputs": [],
   "source": [
    "import pandas as pd"
   ]
  },
  {
   "cell_type": "code",
   "execution_count": 3,
   "metadata": {},
   "outputs": [],
   "source": [
    "goods_baier=pd.read_excel(r\"C:\\Users\\bin\\Desktop\\电商综合案例\\电商案例数据\\拜耳店铺数据\\德国拜耳产品评论数据.xlsx\")"
   ]
  },
  {
   "cell_type": "code",
   "execution_count": 4,
   "metadata": {},
   "outputs": [
    {
     "data": {
      "text/html": [
       "<div>\n",
       "<style scoped>\n",
       "    .dataframe tbody tr th:only-of-type {\n",
       "        vertical-align: middle;\n",
       "    }\n",
       "\n",
       "    .dataframe tbody tr th {\n",
       "        vertical-align: top;\n",
       "    }\n",
       "\n",
       "    .dataframe thead th {\n",
       "        text-align: right;\n",
       "    }\n",
       "</style>\n",
       "<table border=\"1\" class=\"dataframe\">\n",
       "  <thead>\n",
       "    <tr style=\"text-align: right;\">\n",
       "      <th></th>\n",
       "      <th>产品名称</th>\n",
       "      <th>链接</th>\n",
       "      <th>评论页码</th>\n",
       "      <th>评论</th>\n",
       "      <th>评论日期</th>\n",
       "    </tr>\n",
       "  </thead>\n",
       "  <tbody>\n",
       "    <tr>\n",
       "      <th>0</th>\n",
       "      <td>德国拜耳拜灭士蟑螂药一窝端杀蟑胶饵灭蟑螂屋无毒克星家用全窝端</td>\n",
       "      <td>https://detail.tmall.com/item.htm?id=527604730327</td>\n",
       "      <td>0</td>\n",
       "      <td>刚收到，家里厨房突然出现小强了，看了这个评价挺多挺好，销量也大，赶紧定了三盒，一定要管用啊一...</td>\n",
       "      <td>2018-11-21 19:01:20</td>\n",
       "    </tr>\n",
       "    <tr>\n",
       "      <th>1</th>\n",
       "      <td>德国拜耳拜灭士蟑螂药一窝端杀蟑胶饵灭蟑螂屋无毒克星家用全窝端</td>\n",
       "      <td>https://detail.tmall.com/item.htm?id=527604730327</td>\n",
       "      <td>0</td>\n",
       "      <td>朋友推荐的说之前用的挺管用的。在放药的前几天就没怎么见蟑螂了，然后出去玩之前把家里角角落落全...</td>\n",
       "      <td>2018-11-23 11:07:03</td>\n",
       "    </tr>\n",
       "    <tr>\n",
       "      <th>2</th>\n",
       "      <td>德国拜耳拜灭士蟑螂药一窝端杀蟑胶饵灭蟑螂屋无毒克星家用全窝端</td>\n",
       "      <td>https://detail.tmall.com/item.htm?id=527604730327</td>\n",
       "      <td>0</td>\n",
       "      <td>真心坑人啊！😂还没到24小时就凝固了！小强依然活跃🤑🤑🤑🤑</td>\n",
       "      <td>2018-11-24 00:28:17</td>\n",
       "    </tr>\n",
       "    <tr>\n",
       "      <th>3</th>\n",
       "      <td>德国拜耳拜灭士蟑螂药一窝端杀蟑胶饵灭蟑螂屋无毒克星家用全窝端</td>\n",
       "      <td>https://detail.tmall.com/item.htm?id=527604730327</td>\n",
       "      <td>0</td>\n",
       "      <td>盆友推荐的，说特别好用，效果杠杠的，看双十一做活动，就买啦，效果应该不错吧，不过尸体都是家里...</td>\n",
       "      <td>2018-11-25 03:07:25</td>\n",
       "    </tr>\n",
       "    <tr>\n",
       "      <th>4</th>\n",
       "      <td>德国拜耳拜灭士蟑螂药一窝端杀蟑胶饵灭蟑螂屋无毒克星家用全窝端</td>\n",
       "      <td>https://detail.tmall.com/item.htm?id=527604730327</td>\n",
       "      <td>0</td>\n",
       "      <td>我是买到假货吗？那么贵的蟑螂药居然还有，还是蟑螂已经百毒不侵了？</td>\n",
       "      <td>2018-11-26 07:49:43</td>\n",
       "    </tr>\n",
       "  </tbody>\n",
       "</table>\n",
       "</div>"
      ],
      "text/plain": [
       "                             产品名称  \\\n",
       "0  德国拜耳拜灭士蟑螂药一窝端杀蟑胶饵灭蟑螂屋无毒克星家用全窝端   \n",
       "1  德国拜耳拜灭士蟑螂药一窝端杀蟑胶饵灭蟑螂屋无毒克星家用全窝端   \n",
       "2  德国拜耳拜灭士蟑螂药一窝端杀蟑胶饵灭蟑螂屋无毒克星家用全窝端   \n",
       "3  德国拜耳拜灭士蟑螂药一窝端杀蟑胶饵灭蟑螂屋无毒克星家用全窝端   \n",
       "4  德国拜耳拜灭士蟑螂药一窝端杀蟑胶饵灭蟑螂屋无毒克星家用全窝端   \n",
       "\n",
       "                                                  链接  评论页码  \\\n",
       "0  https://detail.tmall.com/item.htm?id=527604730327     0   \n",
       "1  https://detail.tmall.com/item.htm?id=527604730327     0   \n",
       "2  https://detail.tmall.com/item.htm?id=527604730327     0   \n",
       "3  https://detail.tmall.com/item.htm?id=527604730327     0   \n",
       "4  https://detail.tmall.com/item.htm?id=527604730327     0   \n",
       "\n",
       "                                                  评论                 评论日期  \n",
       "0  刚收到，家里厨房突然出现小强了，看了这个评价挺多挺好，销量也大，赶紧定了三盒，一定要管用啊一...  2018-11-21 19:01:20  \n",
       "1  朋友推荐的说之前用的挺管用的。在放药的前几天就没怎么见蟑螂了，然后出去玩之前把家里角角落落全...  2018-11-23 11:07:03  \n",
       "2                      真心坑人啊！😂还没到24小时就凝固了！小强依然活跃🤑🤑🤑🤑  2018-11-24 00:28:17  \n",
       "3  盆友推荐的，说特别好用，效果杠杠的，看双十一做活动，就买啦，效果应该不错吧，不过尸体都是家里...  2018-11-25 03:07:25  \n",
       "4                   我是买到假货吗？那么贵的蟑螂药居然还有，还是蟑螂已经百毒不侵了？  2018-11-26 07:49:43  "
      ]
     },
     "execution_count": 4,
     "metadata": {},
     "output_type": "execute_result"
    }
   ],
   "source": [
    "goods_baier.head()"
   ]
  },
  {
   "cell_type": "code",
   "execution_count": 5,
   "metadata": {},
   "outputs": [
    {
     "data": {
      "text/plain": [
       "(1400, 5)"
      ]
     },
     "execution_count": 5,
     "metadata": {},
     "output_type": "execute_result"
    }
   ],
   "source": [
    "goods_baier.shape"
   ]
  },
  {
   "cell_type": "markdown",
   "metadata": {},
   "source": [
    "## 1、文本的探索与预处理"
   ]
  },
  {
   "cell_type": "code",
   "execution_count": 8,
   "metadata": {},
   "outputs": [],
   "source": [
    "pd.set_option('display.max_colwidth',500)"
   ]
  },
  {
   "cell_type": "code",
   "execution_count": null,
   "metadata": {},
   "outputs": [],
   "source": [
    "#Q1 此用户没有填写评论! 对舆情分析没有意义\n",
    "#Q2 有些用户为了获取积分或者金钱奖励，而采取的一种快速手段（复制，一个字出现多次）（j机械词）\n",
    "#Q3 完全复制别人的评论（用户1与用户20评论一模一样）\n",
    "#Q4 &hellip"
   ]
  },
  {
   "cell_type": "markdown",
   "metadata": {},
   "source": [
    "### （1）Q1 此用户没有填写评论! 对舆情分析没有意义"
   ]
  },
  {
   "cell_type": "code",
   "execution_count": 12,
   "metadata": {},
   "outputs": [],
   "source": [
    "goods_baier1=goods_baier[goods_baier.评论!='此用户没有填写评论!']"
   ]
  },
  {
   "cell_type": "code",
   "execution_count": 13,
   "metadata": {},
   "outputs": [
    {
     "data": {
      "text/plain": [
       "(1300, 5)"
      ]
     },
     "execution_count": 13,
     "metadata": {},
     "output_type": "execute_result"
    }
   ],
   "source": [
    "goods_baier1.shape"
   ]
  },
  {
   "cell_type": "markdown",
   "metadata": {},
   "source": [
    "### （2） Q2 有些用户为了获取积分或者金钱奖励，而采取的一种快速手段（复制，一个字出现多次）（机械词）"
   ]
  },
  {
   "cell_type": "code",
   "execution_count": 17,
   "metadata": {},
   "outputs": [],
   "source": [
    "#1、这类情况几乎都出现在开头或者结尾\n",
    "#2、少量的出现在中间的连续（不做处理，绵绵不断）"
   ]
  },
  {
   "cell_type": "code",
   "execution_count": 19,
   "metadata": {},
   "outputs": [],
   "source": [
    "# 定义去除前缀重复的函数\n",
    "def qc_string_forward(s):\n",
    "    filelist = s\n",
    "    filelist2 = []\n",
    "    for a_string in filelist:\n",
    "        temp1 = a_string.strip('\\n')\n",
    "        temp2 = temp1.lstrip('\\ufeff')\n",
    "        temp3 = temp2.strip('\\r')\n",
    "        char_list = list(temp3) #把字符串转化列表自动按单个字符分词了\n",
    "        #print(char_list)\n",
    "\n",
    "        list1 = []\n",
    "        list1.append(char_list[0])\n",
    "        list2 = ['']\n",
    "\n",
    "        #记录要删除的索引\n",
    "        del1 = []\n",
    "        i = 0\n",
    "        while (i<len(char_list)):\n",
    "            i = i+1\n",
    "            #这里是对后面没有词汇的时候对列表1和列表2判断一次重复\n",
    "            if i == len(char_list):\n",
    "                if list1 == list2:\n",
    "                    m = len(list2)\n",
    "                    for x in range(i-m,i):\n",
    "                        del1.append(x)\n",
    "            else:\n",
    "\n",
    "                if char_list[i] == list1[0] and list2==['']:\n",
    "                    #print('词汇和list1相同，list2为空，将词加入list2')\n",
    "                    list2[0]=char_list[i] #这里初始化用append会让lisr2初始化为['','**']\n",
    "                elif char_list[i] != list1[0] and list2==['']:\n",
    "                    #print('词汇和1不同，2为空，将词加入1')\n",
    "                    list1.append(char_list[i])\n",
    "\n",
    "                #触发判断\n",
    "                elif char_list[i] != list1[0] and list2 !=['']:\n",
    "                    if list1 == list2 and len(list2)>=2:\n",
    "                        #print('词和1不同，2不为空，判断1和2重复')\n",
    "                        m = len(list2)\n",
    "                        #删除列表2里的内容，列表1本来的内容不用再去判断重复了\n",
    "                        for x in range(i-m,i):\n",
    "                            del1.append(x)\n",
    "                        list1= ['']\n",
    "                        list2 = ['']\n",
    "                        list1[0]=char_list[i]\n",
    "                    else:\n",
    "                        #print('词和1不同，2不为空，判断1和2不重复')\n",
    "                        list2.append(char_list[i])\n",
    "\n",
    "                #触发判断\n",
    "                elif char_list[i] == list1[0] and list2 != ['']:\n",
    "                    if list1 == list2:\n",
    "                        #print('词和1相同，2不为空，判断1和2重复')\n",
    "                        m = len(list2)\n",
    "                        #删除列表2里的内容，列表1需要再去和后面的词汇继续判断重复\n",
    "                        for x in range(i-m,i):\n",
    "                            del1.append(x)\n",
    "\n",
    "                        list2 = ['']\n",
    "                        list2[0]=char_list[i]\n",
    "                    else:\n",
    "                        #print('词和1相同，2不为空，判断1和2不重复')\n",
    "                        #逻辑对书本上进行了修改，书上是清空列表1和2，就是保留现在列表1和2内容不做删除，这里只保留1，列表2内容还需要做对比\n",
    "                        list1 = list2\n",
    "                        list2 = ['']\n",
    "                        list2[0]=char_list[i]\n",
    "\n",
    "\n",
    "        a = sorted(del1) #从数字更大的索引删起，这样就不用考虑元素删除后索引的变化问题\n",
    "        t = len(a) - 1\n",
    "        while(t>=0):\n",
    "            del char_list[a[t]]\n",
    "            t = t-1\n",
    "        str1 = ''.join(char_list)\n",
    "        str2 = str1.strip()\n",
    "        filelist2.append(str2)\n",
    "    return filelist2"
   ]
  },
  {
   "cell_type": "code",
   "execution_count": 20,
   "metadata": {},
   "outputs": [],
   "source": [
    "# 定义去除后缀重复的函数\n",
    "def qc_string_backward(s):\n",
    "    filelist = s\n",
    "    filelist2 = []\n",
    "    for a_string in filelist:\n",
    "        temp1 = a_string.strip('\\n')\n",
    "        temp2 = temp1.lstrip('\\ufeff')\n",
    "        temp3 = temp2.strip('\\r')\n",
    "        temp3=temp3[::-1]\n",
    "        char_list = list(temp3) #把字符串转化列表自动按单个字符分词了\n",
    "        #print(char_list)\n",
    "\n",
    "        list1 = []\n",
    "        list1.append(char_list[0])\n",
    "        list2 = ['']\n",
    "\n",
    "        #记录要删除的索引\n",
    "        del1 = []\n",
    "        i = 0\n",
    "        while (i<len(char_list)):\n",
    "            i = i+1\n",
    "            #这里是对后面没有词汇的时候对列表1和列表2判断一次重复\n",
    "            if i == len(char_list):\n",
    "                if list1 == list2:\n",
    "                    m = len(list2)\n",
    "                    for x in range(i-m,i):\n",
    "                        del1.append(x)\n",
    "            else:\n",
    "\n",
    "                if char_list[i] == list1[0] and list2==['']:\n",
    "                    #print('词汇和list1相同，list2为空，将词加入list2')\n",
    "                    list2[0]=char_list[i] #这里初始化用append会让lisr2初始化为['','**']\n",
    "                elif char_list[i] != list1[0] and list2==['']:\n",
    "                    #print('词汇和1不同，2为空，将词加入1')\n",
    "                    list1.append(char_list[i])\n",
    "\n",
    "                #触发判断\n",
    "                elif char_list[i] != list1[0] and list2 !=['']:\n",
    "                    if list1 == list2 and len(list2)>=2:\n",
    "                        #print('词和1不同，2不为空，判断1和2重复')\n",
    "                        m = len(list2)\n",
    "                        #删除列表2里的内容，列表1本来的内容不用再去判断重复了\n",
    "                        for x in range(i-m,i):\n",
    "                            del1.append(x)\n",
    "                        list1= ['']\n",
    "                        list2 = ['']\n",
    "                        list1[0]=char_list[i]\n",
    "                    else:\n",
    "                        #print('词和1不同，2不为空，判断1和2不重复')\n",
    "                        list2.append(char_list[i])\n",
    "\n",
    "                #触发判断\n",
    "                elif char_list[i] == list1[0] and list2 != ['']:\n",
    "                    if list1 == list2:\n",
    "                        #print('词和1相同，2不为空，判断1和2重复')\n",
    "                        m = len(list2)\n",
    "                        #删除列表2里的内容，列表1需要再去和后面的词汇继续判断重复\n",
    "                        for x in range(i-m,i):\n",
    "                            del1.append(x)\n",
    "\n",
    "                        list2 = ['']\n",
    "                        list2[0]=char_list[i]\n",
    "                    else:\n",
    "                        #print('词和1相同，2不为空，判断1和2不重复')\n",
    "                        #逻辑对书本上进行了修改，书上是清空列表1和2，就是保留现在列表1和2内容不做删除，这里只保留1，列表2内容还需要做对比\n",
    "                        list1 = list2\n",
    "                        list2 = ['']\n",
    "                        list2[0]=char_list[i]\n",
    "\n",
    "\n",
    "        a = sorted(del1) #从数字更大的索引删起，这样就不用考虑元素删除后索引的变化问题\n",
    "        t = len(a) - 1\n",
    "        while(t>=0):\n",
    "            del char_list[a[t]]\n",
    "            t = t-1\n",
    "        str1 = ''.join(char_list)\n",
    "        str2 = str1.strip()\n",
    "        str2=str2[::-1]\n",
    "        filelist2.append(str2)\n",
    "    return filelist2"
   ]
  },
  {
   "cell_type": "code",
   "execution_count": 24,
   "metadata": {},
   "outputs": [],
   "source": [
    "list_baier=goods_baier1.评论.values.tolist()"
   ]
  },
  {
   "cell_type": "code",
   "execution_count": 25,
   "metadata": {},
   "outputs": [],
   "source": [
    "#去除前缀重复\n",
    "res1=qc_string_forward(list_baier)"
   ]
  },
  {
   "cell_type": "code",
   "execution_count": 26,
   "metadata": {},
   "outputs": [],
   "source": [
    "#去除后缀重复\n",
    "res2=qc_string_backward(list_baier)"
   ]
  },
  {
   "cell_type": "markdown",
   "metadata": {},
   "source": [
    "### (3)Q3 完全复制别人的评论（用户1与用户20评论一模一样）"
   ]
  },
  {
   "cell_type": "code",
   "execution_count": 28,
   "metadata": {},
   "outputs": [],
   "source": [
    "res3=[]\n",
    "for i in res2:\n",
    "    if i not in res3:\n",
    "        res3.append(i)"
   ]
  },
  {
   "cell_type": "code",
   "execution_count": 29,
   "metadata": {},
   "outputs": [
    {
     "data": {
      "text/plain": [
       "1265"
      ]
     },
     "execution_count": 29,
     "metadata": {},
     "output_type": "execute_result"
    }
   ],
   "source": [
    "len(res3)"
   ]
  },
  {
   "cell_type": "markdown",
   "metadata": {},
   "source": [
    "### (4)Q4 &hellip"
   ]
  },
  {
   "cell_type": "markdown",
   "metadata": {},
   "source": [
    "## 2、分词"
   ]
  },
  {
   "cell_type": "code",
   "execution_count": 30,
   "metadata": {},
   "outputs": [],
   "source": [
    "import jieba"
   ]
  },
  {
   "cell_type": "markdown",
   "metadata": {},
   "source": [
    "### (1)掌握jieba.cut  jieba.lcut"
   ]
  },
  {
   "cell_type": "code",
   "execution_count": 34,
   "metadata": {},
   "outputs": [],
   "source": [
    "jieba.cut?"
   ]
  },
  {
   "cell_type": "code",
   "execution_count": 32,
   "metadata": {},
   "outputs": [
    {
     "data": {
      "text/plain": [
       "<generator object Tokenizer.cut at 0x0000015383E7DB88>"
      ]
     },
     "execution_count": 32,
     "metadata": {},
     "output_type": "execute_result"
    }
   ],
   "source": [
    "jieba.cut('我是中国人')"
   ]
  },
  {
   "cell_type": "code",
   "execution_count": 35,
   "metadata": {},
   "outputs": [
    {
     "name": "stdout",
     "output_type": "stream",
     "text": [
      "我\n",
      "是\n",
      "中国\n",
      "人\n"
     ]
    }
   ],
   "source": [
    "for i in jieba.cut('我是中国人',HMM=True):\n",
    "    print(i)"
   ]
  },
  {
   "cell_type": "code",
   "execution_count": 38,
   "metadata": {},
   "outputs": [
    {
     "data": {
      "text/plain": [
       "['我', '是', '中国', '人']"
      ]
     },
     "execution_count": 38,
     "metadata": {},
     "output_type": "execute_result"
    }
   ],
   "source": [
    "jieba.lcut('我是中国人',HMM=True)"
   ]
  },
  {
   "cell_type": "markdown",
   "metadata": {},
   "source": [
    "### (2)分词的词性"
   ]
  },
  {
   "cell_type": "code",
   "execution_count": 39,
   "metadata": {},
   "outputs": [],
   "source": [
    "import jieba.posseg as psg"
   ]
  },
  {
   "cell_type": "code",
   "execution_count": 40,
   "metadata": {},
   "outputs": [
    {
     "data": {
      "text/plain": [
       "<generator object cut at 0x000001538408BA98>"
      ]
     },
     "execution_count": 40,
     "metadata": {},
     "output_type": "execute_result"
    }
   ],
   "source": [
    "psg.cut('我是中国人')"
   ]
  },
  {
   "cell_type": "code",
   "execution_count": null,
   "metadata": {},
   "outputs": [],
   "source": [
    "for i in psg.cut('我是中国人'):\n",
    "    print(i)\n",
    "    print(i.flag)#只要词性"
   ]
  },
  {
   "cell_type": "code",
   "execution_count": 44,
   "metadata": {},
   "outputs": [
    {
     "name": "stdout",
     "output_type": "stream",
     "text": [
      "中国/ns\n",
      "人/n\n"
     ]
    }
   ],
   "source": [
    "#只要名词\n",
    "for i in psg.cut('我是中国人'):\n",
    "    if i.flag.startswith('n'):\n",
    "        print(i)"
   ]
  },
  {
   "cell_type": "markdown",
   "metadata": {},
   "source": [
    "### (3)自定义词典"
   ]
  },
  {
   "cell_type": "code",
   "execution_count": 45,
   "metadata": {},
   "outputs": [],
   "source": [
    "jieba.load_userdict?"
   ]
  },
  {
   "cell_type": "code",
   "execution_count": 46,
   "metadata": {},
   "outputs": [],
   "source": [
    "jieba.load_userdict(r'C:\\Users\\bin\\Desktop\\my_dict.txt')"
   ]
  },
  {
   "cell_type": "code",
   "execution_count": 47,
   "metadata": {},
   "outputs": [
    {
     "data": {
      "text/plain": [
       "['我', '是', '中国人']"
      ]
     },
     "execution_count": 47,
     "metadata": {},
     "output_type": "execute_result"
    }
   ],
   "source": [
    "jieba.lcut('我是中国人',HMM=True)"
   ]
  },
  {
   "cell_type": "markdown",
   "metadata": {},
   "source": [
    "## 3、词频分析"
   ]
  },
  {
   "cell_type": "code",
   "execution_count": 49,
   "metadata": {},
   "outputs": [],
   "source": [
    "from wordcloud import WordCloud,STOPWORDS"
   ]
  },
  {
   "cell_type": "markdown",
   "metadata": {},
   "source": [
    "### (1)分词"
   ]
  },
  {
   "cell_type": "code",
   "execution_count": 52,
   "metadata": {},
   "outputs": [
    {
     "data": {
      "text/plain": [
       "'刚收到，家里厨房突然出现小强了，看了这个评价挺多挺好，销量也大，赶紧定了三盒，一定要管用啊一定要管用，一定要管用，准备看下后续效果会继续追加评价。不知道多久才能消灭干净，还在厨房，没法做饭了，都不愿意进去了。有点担心会挥发。看很多人在用也就试试吧。哎哎'"
      ]
     },
     "execution_count": 52,
     "metadata": {},
     "output_type": "execute_result"
    }
   ],
   "source": [
    "res3[0]"
   ]
  },
  {
   "cell_type": "code",
   "execution_count": 53,
   "metadata": {},
   "outputs": [
    {
     "data": {
      "text/plain": [
       "'刚 收到 ， 家里 厨房 突然 出现 小强 了 ， 看 了 这个 评价 挺 多 挺 好 ， 销量 也 大 ， 赶紧 定 了 三盒 ， 一定 要 管用 啊 一定 要 管用 ， 一定 要 管用 ， 准备 看 下 后续 效果 会 继续 追加 评价 。 不 知道 多久 才能 消灭 干净 ， 还 在 厨房 ， 没法 做饭 了 ， 都 不 愿意 进去 了 。 有点 担心 会 挥发 。 看 很多 人 在 用 也 就 试试 吧 。 哎 哎'"
      ]
     },
     "execution_count": 53,
     "metadata": {},
     "output_type": "execute_result"
    }
   ],
   "source": [
    "\" \".join(jieba.cut(res3[0]))"
   ]
  },
  {
   "cell_type": "code",
   "execution_count": 56,
   "metadata": {},
   "outputs": [],
   "source": [
    "#分词\n",
    "text=\"\"\n",
    "for i in res3:\n",
    "    text=text+\" \".join(jieba.cut(i))"
   ]
  },
  {
   "cell_type": "markdown",
   "metadata": {},
   "source": [
    "### (2)词云绘制"
   ]
  },
  {
   "cell_type": "code",
   "execution_count": null,
   "metadata": {},
   "outputs": [],
   "source": []
  },
  {
   "cell_type": "code",
   "execution_count": null,
   "metadata": {},
   "outputs": [],
   "source": []
  },
  {
   "cell_type": "code",
   "execution_count": null,
   "metadata": {},
   "outputs": [],
   "source": []
  },
  {
   "cell_type": "code",
   "execution_count": 51,
   "metadata": {},
   "outputs": [],
   "source": [
    "WordCloud?\n",
    "WordCloud.generate?"
   ]
  },
  {
   "cell_type": "code",
   "execution_count": null,
   "metadata": {},
   "outputs": [],
   "source": []
  }
 ],
 "metadata": {
  "kernelspec": {
   "display_name": "Python 3",
   "language": "python",
   "name": "python3"
  },
  "language_info": {
   "codemirror_mode": {
    "name": "ipython",
    "version": 3
   },
   "file_extension": ".py",
   "mimetype": "text/x-python",
   "name": "python",
   "nbconvert_exporter": "python",
   "pygments_lexer": "ipython3",
   "version": "3.7.0"
  }
 },
 "nbformat": 4,
 "nbformat_minor": 2
}
