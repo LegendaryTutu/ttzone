{
 "cells": [
  {
   "cell_type": "code",
   "execution_count": 86,
   "metadata": {},
   "outputs": [
    {
     "data": {
      "text/html": [
       "<div>\n",
       "<style scoped>\n",
       "    .dataframe tbody tr th:only-of-type {\n",
       "        vertical-align: middle;\n",
       "    }\n",
       "\n",
       "    .dataframe tbody tr th {\n",
       "        vertical-align: top;\n",
       "    }\n",
       "\n",
       "    .dataframe thead th {\n",
       "        text-align: right;\n",
       "    }\n",
       "</style>\n",
       "<table border=\"1\" class=\"dataframe\">\n",
       "  <thead>\n",
       "    <tr style=\"text-align: right;\">\n",
       "      <th></th>\n",
       "      <th>Age</th>\n",
       "      <th>Sex</th>\n",
       "      <th>Embarked</th>\n",
       "      <th>Survived</th>\n",
       "    </tr>\n",
       "  </thead>\n",
       "  <tbody>\n",
       "    <tr>\n",
       "      <td>0</td>\n",
       "      <td>22.0</td>\n",
       "      <td>male</td>\n",
       "      <td>S</td>\n",
       "      <td>No</td>\n",
       "    </tr>\n",
       "    <tr>\n",
       "      <td>1</td>\n",
       "      <td>38.0</td>\n",
       "      <td>female</td>\n",
       "      <td>C</td>\n",
       "      <td>Yes</td>\n",
       "    </tr>\n",
       "    <tr>\n",
       "      <td>2</td>\n",
       "      <td>26.0</td>\n",
       "      <td>female</td>\n",
       "      <td>S</td>\n",
       "      <td>Yes</td>\n",
       "    </tr>\n",
       "    <tr>\n",
       "      <td>3</td>\n",
       "      <td>35.0</td>\n",
       "      <td>female</td>\n",
       "      <td>S</td>\n",
       "      <td>Yes</td>\n",
       "    </tr>\n",
       "    <tr>\n",
       "      <td>4</td>\n",
       "      <td>35.0</td>\n",
       "      <td>male</td>\n",
       "      <td>S</td>\n",
       "      <td>No</td>\n",
       "    </tr>\n",
       "  </tbody>\n",
       "</table>\n",
       "</div>"
      ],
      "text/plain": [
       "    Age     Sex Embarked Survived\n",
       "0  22.0    male        S       No\n",
       "1  38.0  female        C      Yes\n",
       "2  26.0  female        S      Yes\n",
       "3  35.0  female        S      Yes\n",
       "4  35.0    male        S       No"
      ]
     },
     "execution_count": 86,
     "metadata": {},
     "output_type": "execute_result"
    }
   ],
   "source": [
    "import pandas as pd\n",
    "import numpy as np\n",
    "data = pd.read_csv(\"Narrativedata.csv\")\n",
    "data.head()"
   ]
  },
  {
   "cell_type": "code",
   "execution_count": 87,
   "metadata": {},
   "outputs": [],
   "source": [
    "# 使用SimpleImputer\n",
    "Age = data['Age'].values.reshape(-1,1)\n",
    "\n",
    "# 使用中位数填补Age\n",
    "from sklearn.impute import SimpleImputer\n",
    "imp_median_age = SimpleImputer(strategy = 'median').fit(Age)\n",
    "data['Age'] = imp_median_age.transform(Age)\n",
    "\n",
    "# 使用众数填补Embarked\n",
    "Embarked = data['Embarked'].values.reshape(-1,1)\n",
    "imp_mode = SimpleImputer(strategy = 'most_frequent')\n",
    "imp_mode_Embarked = imp_mode.fit(Embarked)\n",
    "data['Embarked'] = imp_mode_Embarked.transform(Embarked)\n",
    "\n",
    "# 对Y值进行空缺值填补\n",
    "Survived = data['Survived'].values.reshape(-1, 1)\n",
    "imp_s = SimpleImputer(missing_values = 'Unknown', strategy = 'most_frequent')\n",
    "imp_sf = imp_s.fit(Survived)\n",
    "data['Survived'] = imp_sf.transform(Survived)"
   ]
  },
  {
   "cell_type": "code",
   "execution_count": 30,
   "metadata": {},
   "outputs": [],
   "source": [
    "# 编码与哑变量\n",
    "\n",
    "# preprocessing.LabelEncoder：标签专用，能够将分类转换为分类数值\n",
    "\n",
    "y = data['Survived']\n",
    "\n",
    "from sklearn.preprocessing import LabelEncoder\n",
    "le = LabelEncoder()\n",
    "y = le.fit_transform(y)\n",
    "data['Survived'] = y"
   ]
  },
  {
   "cell_type": "code",
   "execution_count": 31,
   "metadata": {},
   "outputs": [],
   "source": [
    "# preprocessing.OneHotEncoder：独热编码，创建哑变量\n",
    "data_ = data[['Sex', 'Embarked']]\n",
    "\n",
    "from sklearn.preprocessing import OneHotEncoder\n",
    "onehot = OneHotEncoder()\n",
    "\n",
    "# 训练和转换\n",
    "onehot_f = onehot.fit(data_)\n",
    "onehot_result = onehot_f.transform(data_)"
   ]
  },
  {
   "cell_type": "code",
   "execution_count": 36,
   "metadata": {},
   "outputs": [],
   "source": [
    "# 将onehot_result做成dataframe，并且添加上这个是正确的原始的列名\n",
    "onehot_df = pd.DataFrame(onehot_result.toarray(), columns = np.append(*onehot_f.categories_))\n",
    "\n",
    "# 用concat进行拼接\n",
    "data_new = pd.concat([data.drop(['Sex', 'Embarked'], axis = 1), onehot_df], axis = 1)\n",
    "\n",
    "# 将当前的data中列名里的标签给pop出来，用lable变量接住\n",
    "col_name = data_new.columns.tolist()\n",
    "label = col_name.pop(1)\n",
    "\n",
    "# pop给标签名字给追加到col_name的最后，从而使得数据的标签都在最后一列\n",
    "col_name.append(label)\n",
    "\n",
    "# 使用pandas的reindex的方式来按col_name重新排序列名\n",
    "data_new = data_new.reindex(col_name, axis = 1)"
   ]
  },
  {
   "cell_type": "code",
   "execution_count": 37,
   "metadata": {},
   "outputs": [
    {
     "data": {
      "text/html": [
       "<div>\n",
       "<style scoped>\n",
       "    .dataframe tbody tr th:only-of-type {\n",
       "        vertical-align: middle;\n",
       "    }\n",
       "\n",
       "    .dataframe tbody tr th {\n",
       "        vertical-align: top;\n",
       "    }\n",
       "\n",
       "    .dataframe thead th {\n",
       "        text-align: right;\n",
       "    }\n",
       "</style>\n",
       "<table border=\"1\" class=\"dataframe\">\n",
       "  <thead>\n",
       "    <tr style=\"text-align: right;\">\n",
       "      <th></th>\n",
       "      <th>Age</th>\n",
       "      <th>female</th>\n",
       "      <th>male</th>\n",
       "      <th>C</th>\n",
       "      <th>Q</th>\n",
       "      <th>S</th>\n",
       "      <th>Survived</th>\n",
       "    </tr>\n",
       "  </thead>\n",
       "  <tbody>\n",
       "    <tr>\n",
       "      <td>0</td>\n",
       "      <td>22.0</td>\n",
       "      <td>0.0</td>\n",
       "      <td>1.0</td>\n",
       "      <td>0.0</td>\n",
       "      <td>0.0</td>\n",
       "      <td>1.0</td>\n",
       "      <td>0</td>\n",
       "    </tr>\n",
       "    <tr>\n",
       "      <td>1</td>\n",
       "      <td>38.0</td>\n",
       "      <td>1.0</td>\n",
       "      <td>0.0</td>\n",
       "      <td>1.0</td>\n",
       "      <td>0.0</td>\n",
       "      <td>0.0</td>\n",
       "      <td>1</td>\n",
       "    </tr>\n",
       "    <tr>\n",
       "      <td>2</td>\n",
       "      <td>26.0</td>\n",
       "      <td>1.0</td>\n",
       "      <td>0.0</td>\n",
       "      <td>0.0</td>\n",
       "      <td>0.0</td>\n",
       "      <td>1.0</td>\n",
       "      <td>1</td>\n",
       "    </tr>\n",
       "    <tr>\n",
       "      <td>3</td>\n",
       "      <td>35.0</td>\n",
       "      <td>1.0</td>\n",
       "      <td>0.0</td>\n",
       "      <td>0.0</td>\n",
       "      <td>0.0</td>\n",
       "      <td>1.0</td>\n",
       "      <td>1</td>\n",
       "    </tr>\n",
       "    <tr>\n",
       "      <td>4</td>\n",
       "      <td>35.0</td>\n",
       "      <td>0.0</td>\n",
       "      <td>1.0</td>\n",
       "      <td>0.0</td>\n",
       "      <td>0.0</td>\n",
       "      <td>1.0</td>\n",
       "      <td>0</td>\n",
       "    </tr>\n",
       "    <tr>\n",
       "      <td>...</td>\n",
       "      <td>...</td>\n",
       "      <td>...</td>\n",
       "      <td>...</td>\n",
       "      <td>...</td>\n",
       "      <td>...</td>\n",
       "      <td>...</td>\n",
       "      <td>...</td>\n",
       "    </tr>\n",
       "    <tr>\n",
       "      <td>886</td>\n",
       "      <td>27.0</td>\n",
       "      <td>0.0</td>\n",
       "      <td>1.0</td>\n",
       "      <td>0.0</td>\n",
       "      <td>0.0</td>\n",
       "      <td>1.0</td>\n",
       "      <td>0</td>\n",
       "    </tr>\n",
       "    <tr>\n",
       "      <td>887</td>\n",
       "      <td>19.0</td>\n",
       "      <td>1.0</td>\n",
       "      <td>0.0</td>\n",
       "      <td>0.0</td>\n",
       "      <td>0.0</td>\n",
       "      <td>1.0</td>\n",
       "      <td>1</td>\n",
       "    </tr>\n",
       "    <tr>\n",
       "      <td>888</td>\n",
       "      <td>28.0</td>\n",
       "      <td>1.0</td>\n",
       "      <td>0.0</td>\n",
       "      <td>0.0</td>\n",
       "      <td>0.0</td>\n",
       "      <td>1.0</td>\n",
       "      <td>0</td>\n",
       "    </tr>\n",
       "    <tr>\n",
       "      <td>889</td>\n",
       "      <td>26.0</td>\n",
       "      <td>0.0</td>\n",
       "      <td>1.0</td>\n",
       "      <td>1.0</td>\n",
       "      <td>0.0</td>\n",
       "      <td>0.0</td>\n",
       "      <td>0</td>\n",
       "    </tr>\n",
       "    <tr>\n",
       "      <td>890</td>\n",
       "      <td>32.0</td>\n",
       "      <td>0.0</td>\n",
       "      <td>1.0</td>\n",
       "      <td>0.0</td>\n",
       "      <td>1.0</td>\n",
       "      <td>0.0</td>\n",
       "      <td>0</td>\n",
       "    </tr>\n",
       "  </tbody>\n",
       "</table>\n",
       "<p>891 rows × 7 columns</p>\n",
       "</div>"
      ],
      "text/plain": [
       "      Age  female  male    C    Q    S  Survived\n",
       "0    22.0     0.0   1.0  0.0  0.0  1.0         0\n",
       "1    38.0     1.0   0.0  1.0  0.0  0.0         1\n",
       "2    26.0     1.0   0.0  0.0  0.0  1.0         1\n",
       "3    35.0     1.0   0.0  0.0  0.0  1.0         1\n",
       "4    35.0     0.0   1.0  0.0  0.0  1.0         0\n",
       "..    ...     ...   ...  ...  ...  ...       ...\n",
       "886  27.0     0.0   1.0  0.0  0.0  1.0         0\n",
       "887  19.0     1.0   0.0  0.0  0.0  1.0         1\n",
       "888  28.0     1.0   0.0  0.0  0.0  1.0         0\n",
       "889  26.0     0.0   1.0  1.0  0.0  0.0         0\n",
       "890  32.0     0.0   1.0  0.0  1.0  0.0         0\n",
       "\n",
       "[891 rows x 7 columns]"
      ]
     },
     "execution_count": 37,
     "metadata": {},
     "output_type": "execute_result"
    }
   ],
   "source": [
    "data_new"
   ]
  },
  {
   "cell_type": "code",
   "execution_count": 51,
   "metadata": {},
   "outputs": [],
   "source": [
    "data_new2 = data_new.drop(['male','C'], axis = 1)\n",
    "data_new2.rename({'male' : 'Sex'}, axis = 1, inplace = True)"
   ]
  },
  {
   "cell_type": "code",
   "execution_count": 96,
   "metadata": {},
   "outputs": [
    {
     "data": {
      "text/html": [
       "<div>\n",
       "<style scoped>\n",
       "    .dataframe tbody tr th:only-of-type {\n",
       "        vertical-align: middle;\n",
       "    }\n",
       "\n",
       "    .dataframe tbody tr th {\n",
       "        vertical-align: top;\n",
       "    }\n",
       "\n",
       "    .dataframe thead th {\n",
       "        text-align: right;\n",
       "    }\n",
       "</style>\n",
       "<table border=\"1\" class=\"dataframe\">\n",
       "  <thead>\n",
       "    <tr style=\"text-align: right;\">\n",
       "      <th></th>\n",
       "      <th>Age</th>\n",
       "      <th>female</th>\n",
       "      <th>male</th>\n",
       "      <th>C</th>\n",
       "      <th>Q</th>\n",
       "      <th>S</th>\n",
       "      <th>Survived</th>\n",
       "    </tr>\n",
       "  </thead>\n",
       "  <tbody>\n",
       "    <tr>\n",
       "      <td>0</td>\n",
       "      <td>22.0</td>\n",
       "      <td>0.0</td>\n",
       "      <td>1.0</td>\n",
       "      <td>0.0</td>\n",
       "      <td>0.0</td>\n",
       "      <td>1.0</td>\n",
       "      <td>0</td>\n",
       "    </tr>\n",
       "    <tr>\n",
       "      <td>1</td>\n",
       "      <td>38.0</td>\n",
       "      <td>1.0</td>\n",
       "      <td>0.0</td>\n",
       "      <td>1.0</td>\n",
       "      <td>0.0</td>\n",
       "      <td>0.0</td>\n",
       "      <td>1</td>\n",
       "    </tr>\n",
       "    <tr>\n",
       "      <td>2</td>\n",
       "      <td>26.0</td>\n",
       "      <td>1.0</td>\n",
       "      <td>0.0</td>\n",
       "      <td>0.0</td>\n",
       "      <td>0.0</td>\n",
       "      <td>1.0</td>\n",
       "      <td>1</td>\n",
       "    </tr>\n",
       "    <tr>\n",
       "      <td>3</td>\n",
       "      <td>35.0</td>\n",
       "      <td>1.0</td>\n",
       "      <td>0.0</td>\n",
       "      <td>0.0</td>\n",
       "      <td>0.0</td>\n",
       "      <td>1.0</td>\n",
       "      <td>1</td>\n",
       "    </tr>\n",
       "    <tr>\n",
       "      <td>4</td>\n",
       "      <td>35.0</td>\n",
       "      <td>0.0</td>\n",
       "      <td>1.0</td>\n",
       "      <td>0.0</td>\n",
       "      <td>0.0</td>\n",
       "      <td>1.0</td>\n",
       "      <td>0</td>\n",
       "    </tr>\n",
       "  </tbody>\n",
       "</table>\n",
       "</div>"
      ],
      "text/plain": [
       "    Age  female  male    C    Q    S  Survived\n",
       "0  22.0     0.0   1.0  0.0  0.0  1.0         0\n",
       "1  38.0     1.0   0.0  1.0  0.0  0.0         1\n",
       "2  26.0     1.0   0.0  0.0  0.0  1.0         1\n",
       "3  35.0     1.0   0.0  0.0  0.0  1.0         1\n",
       "4  35.0     0.0   1.0  0.0  0.0  1.0         0"
      ]
     },
     "execution_count": 96,
     "metadata": {},
     "output_type": "execute_result"
    }
   ],
   "source": [
    "data_new.head(5)"
   ]
  },
  {
   "cell_type": "code",
   "execution_count": 52,
   "metadata": {},
   "outputs": [],
   "source": [
    "from sklearn.linear_model import LogisticRegression"
   ]
  },
  {
   "cell_type": "code",
   "execution_count": 102,
   "metadata": {},
   "outputs": [
    {
     "data": {
      "text/plain": [
       "(array([[-0.00943076,  1.11412033, -1.13250849,  0.57131052, -0.278493  ,\n",
       "         -0.31120568]]), array([-0.01926271]))"
      ]
     },
     "execution_count": 102,
     "metadata": {},
     "output_type": "execute_result"
    }
   ],
   "source": [
    "model1 = LogisticRegression(fit_intercept = True)\n",
    "model1.fit(data_new.iloc[:, :-1],data_new.iloc[:, -1])\n",
    "model1.coef_, model1.intercept_"
   ]
  },
  {
   "cell_type": "code",
   "execution_count": 103,
   "metadata": {},
   "outputs": [
    {
     "data": {
      "text/plain": [
       "(array([[-0.00935626,  2.21254895, -0.77261837, -0.84125   ]]),\n",
       " array([-0.60305483]))"
      ]
     },
     "execution_count": 103,
     "metadata": {},
     "output_type": "execute_result"
    }
   ],
   "source": [
    "model2 = LogisticRegression(fit_intercept = True)\n",
    "model2.fit(data_new2.iloc[:, :-1],data_new2.iloc[:, -1])\n",
    "model2.coef_, model2.intercept_"
   ]
  },
  {
   "cell_type": "code",
   "execution_count": 69,
   "metadata": {},
   "outputs": [
    {
     "data": {
      "text/plain": [
       "(0.7732884399551067, 0.7732884399551067)"
      ]
     },
     "execution_count": 69,
     "metadata": {},
     "output_type": "execute_result"
    }
   ],
   "source": [
    "model1.score(data_new.iloc[:, :-1],data_new.iloc[:, -1]), model2.score(data_new2.iloc[:, :-1],data_new2.iloc[:, -1])"
   ]
  },
  {
   "cell_type": "code",
   "execution_count": 113,
   "metadata": {},
   "outputs": [
    {
     "data": {
      "text/plain": [
       "array([0.41616026, 0.        , 0.52115121, 0.02269744, 0.01558944,\n",
       "       0.02440165])"
      ]
     },
     "execution_count": 113,
     "metadata": {},
     "output_type": "execute_result"
    }
   ],
   "source": [
    "from sklearn.tree import DecisionTreeClassifier\n",
    "model1 = DecisionTreeClassifier()\n",
    "model1.fit(data_new.iloc[:, :-1],data_new.iloc[:, -1])\n",
    "model1.feature_importances_"
   ]
  },
  {
   "cell_type": "code",
   "execution_count": 114,
   "metadata": {},
   "outputs": [
    {
     "data": {
      "text/plain": [
       "array([0.42820719, 0.52115121, 0.01847009, 0.03217152])"
      ]
     },
     "execution_count": 114,
     "metadata": {},
     "output_type": "execute_result"
    }
   ],
   "source": [
    "model2 = DecisionTreeClassifier()\n",
    "model2.fit(data_new2.iloc[:, :-1],data_new2.iloc[:, -1])\n",
    "model2.feature_importances_"
   ]
  },
  {
   "cell_type": "code",
   "execution_count": 115,
   "metadata": {},
   "outputs": [
    {
     "data": {
      "text/plain": [
       "(0.8305274971941639, 0.8305274971941639)"
      ]
     },
     "execution_count": 115,
     "metadata": {},
     "output_type": "execute_result"
    }
   ],
   "source": [
    "model1.score(data_new.iloc[:, :-1],data_new.iloc[:, -1]), model2.score(data_new2.iloc[:, :-1],data_new2.iloc[:, -1])"
   ]
  },
  {
   "cell_type": "code",
   "execution_count": null,
   "metadata": {},
   "outputs": [],
   "source": []
  },
  {
   "cell_type": "code",
   "execution_count": null,
   "metadata": {},
   "outputs": [],
   "source": []
  },
  {
   "cell_type": "code",
   "execution_count": 116,
   "metadata": {},
   "outputs": [
    {
     "data": {
      "text/html": [
       "<div>\n",
       "<style scoped>\n",
       "    .dataframe tbody tr th:only-of-type {\n",
       "        vertical-align: middle;\n",
       "    }\n",
       "\n",
       "    .dataframe tbody tr th {\n",
       "        vertical-align: top;\n",
       "    }\n",
       "\n",
       "    .dataframe thead th {\n",
       "        text-align: right;\n",
       "    }\n",
       "</style>\n",
       "<table border=\"1\" class=\"dataframe\">\n",
       "  <thead>\n",
       "    <tr style=\"text-align: right;\">\n",
       "      <th></th>\n",
       "      <th>uid</th>\n",
       "      <th>roomid</th>\n",
       "      <th>orderlabel</th>\n",
       "      <th>star</th>\n",
       "      <th>rank</th>\n",
       "      <th>returnvalue</th>\n",
       "      <th>price_deduct</th>\n",
       "      <th>basic_maxarea</th>\n",
       "      <th>roomservice_1</th>\n",
       "      <th>roomservice_2</th>\n",
       "      <th>...</th>\n",
       "      <th>roomservice_6</th>\n",
       "      <th>roomservice_7</th>\n",
       "      <th>roomservice_8</th>\n",
       "      <th>basic_week_ordernum_ratio</th>\n",
       "      <th>basic_recent3_ordernum_ratio</th>\n",
       "      <th>basic_comment_ratio</th>\n",
       "      <th>basic_30days_ordnumratio</th>\n",
       "      <th>basic_30days_realratio</th>\n",
       "      <th>room_30days_ordnumratio</th>\n",
       "      <th>room_30days_realratio</th>\n",
       "    </tr>\n",
       "  </thead>\n",
       "  <tbody>\n",
       "    <tr>\n",
       "      <td>0</td>\n",
       "      <td>USER_545</td>\n",
       "      <td>ROOM_1818649</td>\n",
       "      <td>0</td>\n",
       "      <td>11</td>\n",
       "      <td>9</td>\n",
       "      <td>410</td>\n",
       "      <td>2054</td>\n",
       "      <td>71.0</td>\n",
       "      <td>2</td>\n",
       "      <td>0</td>\n",
       "      <td>...</td>\n",
       "      <td>0</td>\n",
       "      <td>0</td>\n",
       "      <td>3</td>\n",
       "      <td>0.010893</td>\n",
       "      <td>0.000000</td>\n",
       "      <td>0.030880</td>\n",
       "      <td>0.038793</td>\n",
       "      <td>1.246535</td>\n",
       "      <td>0.029095</td>\n",
       "      <td>1.253572</td>\n",
       "    </tr>\n",
       "    <tr>\n",
       "      <td>1</td>\n",
       "      <td>USER_545</td>\n",
       "      <td>ROOM_1818645</td>\n",
       "      <td>0</td>\n",
       "      <td>11</td>\n",
       "      <td>5</td>\n",
       "      <td>200</td>\n",
       "      <td>1754</td>\n",
       "      <td>71.0</td>\n",
       "      <td>2</td>\n",
       "      <td>0</td>\n",
       "      <td>...</td>\n",
       "      <td>0</td>\n",
       "      <td>0</td>\n",
       "      <td>1</td>\n",
       "      <td>0.010893</td>\n",
       "      <td>0.000000</td>\n",
       "      <td>0.030880</td>\n",
       "      <td>0.038793</td>\n",
       "      <td>1.246535</td>\n",
       "      <td>0.029095</td>\n",
       "      <td>1.253572</td>\n",
       "    </tr>\n",
       "    <tr>\n",
       "      <td>2</td>\n",
       "      <td>USER_545</td>\n",
       "      <td>ROOM_1818667</td>\n",
       "      <td>0</td>\n",
       "      <td>11</td>\n",
       "      <td>7</td>\n",
       "      <td>200</td>\n",
       "      <td>4196</td>\n",
       "      <td>71.0</td>\n",
       "      <td>2</td>\n",
       "      <td>0</td>\n",
       "      <td>...</td>\n",
       "      <td>0</td>\n",
       "      <td>0</td>\n",
       "      <td>2</td>\n",
       "      <td>0.010893</td>\n",
       "      <td>0.000000</td>\n",
       "      <td>0.030880</td>\n",
       "      <td>0.038793</td>\n",
       "      <td>1.246535</td>\n",
       "      <td>NaN</td>\n",
       "      <td>NaN</td>\n",
       "    </tr>\n",
       "    <tr>\n",
       "      <td>3</td>\n",
       "      <td>USER_545</td>\n",
       "      <td>ROOM_18188319</td>\n",
       "      <td>0</td>\n",
       "      <td>11</td>\n",
       "      <td>19</td>\n",
       "      <td>200</td>\n",
       "      <td>1769</td>\n",
       "      <td>77.0</td>\n",
       "      <td>2</td>\n",
       "      <td>0</td>\n",
       "      <td>...</td>\n",
       "      <td>0</td>\n",
       "      <td>0</td>\n",
       "      <td>2</td>\n",
       "      <td>0.773420</td>\n",
       "      <td>0.820388</td>\n",
       "      <td>0.670532</td>\n",
       "      <td>0.693966</td>\n",
       "      <td>1.000773</td>\n",
       "      <td>NaN</td>\n",
       "      <td>NaN</td>\n",
       "    </tr>\n",
       "    <tr>\n",
       "      <td>4</td>\n",
       "      <td>USER_545</td>\n",
       "      <td>ROOM_1818515</td>\n",
       "      <td>0</td>\n",
       "      <td>11</td>\n",
       "      <td>5</td>\n",
       "      <td>200</td>\n",
       "      <td>7196</td>\n",
       "      <td>121.0</td>\n",
       "      <td>2</td>\n",
       "      <td>0</td>\n",
       "      <td>...</td>\n",
       "      <td>0</td>\n",
       "      <td>0</td>\n",
       "      <td>2</td>\n",
       "      <td>0.006536</td>\n",
       "      <td>0.000000</td>\n",
       "      <td>0.004159</td>\n",
       "      <td>0.002155</td>\n",
       "      <td>1.864469</td>\n",
       "      <td>NaN</td>\n",
       "      <td>NaN</td>\n",
       "    </tr>\n",
       "  </tbody>\n",
       "</table>\n",
       "<p>5 rows × 23 columns</p>\n",
       "</div>"
      ],
      "text/plain": [
       "        uid         roomid  orderlabel  star  rank  returnvalue  price_deduct  \\\n",
       "0  USER_545   ROOM_1818649           0    11     9          410          2054   \n",
       "1  USER_545   ROOM_1818645           0    11     5          200          1754   \n",
       "2  USER_545   ROOM_1818667           0    11     7          200          4196   \n",
       "3  USER_545  ROOM_18188319           0    11    19          200          1769   \n",
       "4  USER_545   ROOM_1818515           0    11     5          200          7196   \n",
       "\n",
       "   basic_maxarea  roomservice_1  roomservice_2  ...  roomservice_6  \\\n",
       "0           71.0              2              0  ...              0   \n",
       "1           71.0              2              0  ...              0   \n",
       "2           71.0              2              0  ...              0   \n",
       "3           77.0              2              0  ...              0   \n",
       "4          121.0              2              0  ...              0   \n",
       "\n",
       "   roomservice_7  roomservice_8  basic_week_ordernum_ratio  \\\n",
       "0              0              3                   0.010893   \n",
       "1              0              1                   0.010893   \n",
       "2              0              2                   0.010893   \n",
       "3              0              2                   0.773420   \n",
       "4              0              2                   0.006536   \n",
       "\n",
       "   basic_recent3_ordernum_ratio  basic_comment_ratio  \\\n",
       "0                      0.000000             0.030880   \n",
       "1                      0.000000             0.030880   \n",
       "2                      0.000000             0.030880   \n",
       "3                      0.820388             0.670532   \n",
       "4                      0.000000             0.004159   \n",
       "\n",
       "   basic_30days_ordnumratio  basic_30days_realratio  room_30days_ordnumratio  \\\n",
       "0                  0.038793                1.246535                 0.029095   \n",
       "1                  0.038793                1.246535                 0.029095   \n",
       "2                  0.038793                1.246535                      NaN   \n",
       "3                  0.693966                1.000773                      NaN   \n",
       "4                  0.002155                1.864469                      NaN   \n",
       "\n",
       "   room_30days_realratio  \n",
       "0               1.253572  \n",
       "1               1.253572  \n",
       "2                    NaN  \n",
       "3                    NaN  \n",
       "4                    NaN  \n",
       "\n",
       "[5 rows x 23 columns]"
      ]
     },
     "execution_count": 116,
     "metadata": {},
     "output_type": "execute_result"
    }
   ],
   "source": [
    "# SMOTE 算法\n",
    "# 读数据\n",
    "import numpy as np\n",
    "import pandas as pd\n",
    "table = pd.read_csv('table_1.csv', encoding = 'utf-8')\n",
    "table.head()"
   ]
  },
  {
   "cell_type": "code",
   "execution_count": 117,
   "metadata": {},
   "outputs": [],
   "source": [
    "#使用均值来对数据集的控制做填补\n",
    "from sklearn.impute import SimpleImputer\n",
    "from sklearn.model_selection import train_test_split\n",
    "\n",
    "Y = table['orderlabel']\n",
    "X = table.iloc[:, 3:]\n",
    "\n",
    "Xtrain, Xtest, Ytrain, Ytest = train_test_split(X, Y, test_size = 0.3, random_state = 0)\n",
    "\n",
    "columns = X.columns[3:]\n",
    "\n",
    "SI = SimpleImputer(missing_values = np.nan, strategy = 'mean').fit(Xtrain)\n",
    "Xtrain = SI.transform(Xtrain)\n",
    "Xtest = SI.transform(Xtest)"
   ]
  },
  {
   "cell_type": "code",
   "execution_count": 123,
   "metadata": {},
   "outputs": [
    {
     "data": {
      "text/plain": [
       "0    0.972174\n",
       "1    0.027826\n",
       "Name: orderlabel, dtype: float64"
      ]
     },
     "execution_count": 123,
     "metadata": {},
     "output_type": "execute_result"
    }
   ],
   "source": [
    "Ytrain.value_counts()/Ytrain.value_counts().sum()"
   ]
  },
  {
   "cell_type": "code",
   "execution_count": 73,
   "metadata": {},
   "outputs": [],
   "source": [
    "#使用smote算法\n",
    "#Synthetic Minority Over-sampling Technique\n",
    "#使用的是差值法来合成少数类\n",
    "#设少数类的样本为T，SMOTE将少数类合成NT个新的样本。N是正整数，如果N小于1的，算法就会认为少数类T=NT，将N=1\n",
    "#1. 从T个样本中找到某一个样本的K个近邻\n",
    "#2. 从k个近邻中随机的选取一个同类样本，再生成一个0-1之前的随机数, 比如xi到x_knn中随机生成一个值\n",
    "#3. 这是随机的样本，不是由重新采样得到的。\n",
    "#4. 也就是说利用KNN算法选择样本店新最近的k个样本店，从k个样本店中随机挑选M个样本点\n",
    "#5. M个样本点的数量选择依赖于最希望的平衡率\n",
    "\n",
    "#pip install imblearn -i https://pypi.tuna.tsinghua.edu.cn/simple"
   ]
  },
  {
   "cell_type": "code",
   "execution_count": 74,
   "metadata": {},
   "outputs": [],
   "source": [
    "# 对于训练数据集作平衡处理\n",
    "from sklearn import model_selection, tree, metrics\n",
    "from imblearn.over_sampling import SMOTE\n",
    "\n",
    "over_samples = SMOTE(random_state=1234)\n",
    "over_samples_x, over_samples_y = over_samples.fit_sample(Xtrain, Ytrain)\n",
    "over_x_test, over_y_test = over_samples.fit_sample(Xtest, Ytest)"
   ]
  },
  {
   "cell_type": "code",
   "execution_count": 124,
   "metadata": {},
   "outputs": [
    {
     "data": {
      "text/plain": [
       "(1    745053\n",
       " 0    745053\n",
       " Name: orderlabel, dtype: int64, 1    319249\n",
       " 0    319249\n",
       " Name: orderlabel, dtype: int64)"
      ]
     },
     "execution_count": 124,
     "metadata": {},
     "output_type": "execute_result"
    }
   ],
   "source": [
    "over_samples_y.value_counts(), over_y_test.value_counts()"
   ]
  },
  {
   "cell_type": "code",
   "execution_count": 125,
   "metadata": {},
   "outputs": [],
   "source": [
    "# pipeline简单的介绍\n",
    "import pandas as pd\n",
    "from sklearn.model_selection import train_test_split\n",
    "from sklearn.preprocessing import LabelEncoder\n",
    "data = pd.read_csv('https://archive.ics.uci.edu/ml/machine-learning-databases/'\n",
    "                 'breast-cancer-wisconsin/wdbc.data', header=None)"
   ]
  },
  {
   "cell_type": "code",
   "execution_count": null,
   "metadata": {},
   "outputs": [],
   "source": []
  },
  {
   "cell_type": "code",
   "execution_count": 126,
   "metadata": {},
   "outputs": [],
   "source": [
    "X = data.values[:,2:]\n",
    "Y = data.values[:,1]\n",
    "\n",
    "Xtrain, Xtest, Ytrain, Ytest = train_test_split(X,\n",
    "                                                Y,\n",
    "                                                test_size = 0.3,\n",
    "                                                random_state= 420)"
   ]
  },
  {
   "cell_type": "code",
   "execution_count": 135,
   "metadata": {},
   "outputs": [
    {
     "data": {
      "text/plain": [
       "Pipeline(steps=[('preprocess', StandardScaler()),\n",
       "                ('Var', VarianceThreshold(threshold=0.5)),\n",
       "                ('pca', PCA(n_components=2)), ('clf', LogisticRegression())])"
      ]
     },
     "execution_count": 135,
     "metadata": {},
     "output_type": "execute_result"
    }
   ],
   "source": [
    "from sklearn.preprocessing import StandardScaler\n",
    "from sklearn.feature_selection import VarianceThreshold\n",
    "from sklearn.decomposition import PCA\n",
    "\n",
    "from sklearn.pipeline import Pipeline\n",
    "pipe = Pipeline([('preprocess', StandardScaler()),\n",
    "                 ('Var', VarianceThreshold(threshold = 0.5)),\n",
    "                 ('pca', PCA(2)),\n",
    "                 ('clf', LogisticRegression())\n",
    "                ])\n",
    "pipe.fit(Xtrain, Ytrain)"
   ]
  },
  {
   "cell_type": "code",
   "execution_count": 136,
   "metadata": {},
   "outputs": [
    {
     "data": {
      "text/plain": [
       "(0.9597989949748744, 0.9532163742690059)"
      ]
     },
     "execution_count": 136,
     "metadata": {},
     "output_type": "execute_result"
    }
   ],
   "source": [
    "pipe.score(Xtrain, Ytrain), pipe.score(Xtest, Ytest)"
   ]
  },
  {
   "cell_type": "code",
   "execution_count": null,
   "metadata": {},
   "outputs": [],
   "source": []
  },
  {
   "cell_type": "code",
   "execution_count": 85,
   "metadata": {},
   "outputs": [],
   "source": [
    "class frank_transform:\n",
    "    def __init__(self):\n",
    "        pass\n",
    "    \n",
    "    def fit(self):\n",
    "        pass\n",
    "    \n",
    "    def transform(self):\n",
    "        pass"
   ]
  },
  {
   "cell_type": "code",
   "execution_count": null,
   "metadata": {},
   "outputs": [],
   "source": []
  },
  {
   "cell_type": "code",
   "execution_count": null,
   "metadata": {},
   "outputs": [],
   "source": []
  },
  {
   "cell_type": "code",
   "execution_count": null,
   "metadata": {},
   "outputs": [],
   "source": []
  },
  {
   "cell_type": "code",
   "execution_count": null,
   "metadata": {},
   "outputs": [],
   "source": []
  }
 ],
 "metadata": {
  "kernelspec": {
   "display_name": "Python 3",
   "language": "python",
   "name": "python3"
  },
  "language_info": {
   "codemirror_mode": {
    "name": "ipython",
    "version": 3
   },
   "file_extension": ".py",
   "mimetype": "text/x-python",
   "name": "python",
   "nbconvert_exporter": "python",
   "pygments_lexer": "ipython3",
   "version": "3.7.4"
  }
 },
 "nbformat": 4,
 "nbformat_minor": 4
}
