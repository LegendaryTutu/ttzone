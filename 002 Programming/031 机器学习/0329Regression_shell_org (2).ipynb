{
 "cells": [
  {
   "cell_type": "code",
   "execution_count": 1,
   "metadata": {},
   "outputs": [],
   "source": [
    "# 导入一些必要的包\n",
    "\n",
    "import numpy as np\n",
    "import pandas as pd\n",
    "import matplotlib.pyplot as plt"
   ]
  },
  {
   "cell_type": "code",
   "execution_count": 2,
   "metadata": {},
   "outputs": [
    {
     "data": {
      "text/plain": [
       "<matplotlib.collections.PathCollection at 0x7fcf133bcc90>"
      ]
     },
     "execution_count": 2,
     "metadata": {},
     "output_type": "execute_result"
    },
    {
     "data": {
      "image/png": "[encoded data removed]",
      "text/plain": [
       "<Figure size 432x288 with 1 Axes>"
      ]
     },
     "metadata": {
      "needs_background": "light"
     },
     "output_type": "display_data"
    }
   ],
   "source": [
    "# 复习矩阵的创建\n",
    "a = np.array([[1,2],[3,4]])\n",
    "m = np.mat(a)    # NumPy中创建矩阵需要使用mat函数，该函数需要输入二维数组\n",
    "\n",
    "# 模拟一些数据，并且加上随机性\n",
    "rng = np.random.RandomState(1)     # 设置随机数种子\n",
    "x = 5*rng.rand(100)                        # 100个[0,5)的随机数\n",
    "y = 2*x-5+rng.randn(100)            # 真实规律的标签取值\n",
    "plt.scatter(x,y)\n",
    "\n",
    "\n",
    "# 可以尝试将数据变成DataFrame"
   ]
  },
  {
   "cell_type": "code",
   "execution_count": 3,
   "metadata": {},
   "outputs": [
    {
     "data": {
      "text/html": [
       "<div>\n",
       "<style scoped>\n",
       "    .dataframe tbody tr th:only-of-type {\n",
       "        vertical-align: middle;\n",
       "    }\n",
       "\n",
       "    .dataframe tbody tr th {\n",
       "        vertical-align: top;\n",
       "    }\n",
       "\n",
       "    .dataframe thead th {\n",
       "        text-align: right;\n",
       "    }\n",
       "</style>\n",
       "<table border=\"1\" class=\"dataframe\">\n",
       "  <thead>\n",
       "    <tr style=\"text-align: right;\">\n",
       "      <th></th>\n",
       "      <th>x</th>\n",
       "      <th>label</th>\n",
       "    </tr>\n",
       "  </thead>\n",
       "  <tbody>\n",
       "    <tr>\n",
       "      <td>0</td>\n",
       "      <td>2.085110</td>\n",
       "      <td>-0.514145</td>\n",
       "    </tr>\n",
       "    <tr>\n",
       "      <td>1</td>\n",
       "      <td>3.601622</td>\n",
       "      <td>0.181044</td>\n",
       "    </tr>\n",
       "    <tr>\n",
       "      <td>2</td>\n",
       "      <td>0.000572</td>\n",
       "      <td>-5.305060</td>\n",
       "    </tr>\n",
       "    <tr>\n",
       "      <td>3</td>\n",
       "      <td>1.511663</td>\n",
       "      <td>-1.148700</td>\n",
       "    </tr>\n",
       "    <tr>\n",
       "      <td>4</td>\n",
       "      <td>0.733779</td>\n",
       "      <td>-3.302346</td>\n",
       "    </tr>\n",
       "  </tbody>\n",
       "</table>\n",
       "</div>"
      ],
      "text/plain": [
       "          x     label\n",
       "0  2.085110 -0.514145\n",
       "1  3.601622  0.181044\n",
       "2  0.000572 -5.305060\n",
       "3  1.511663 -1.148700\n",
       "4  0.733779 -3.302346"
      ]
     },
     "execution_count": 3,
     "metadata": {},
     "output_type": "execute_result"
    }
   ],
   "source": [
    "data = pd.DataFrame({'x' : x, 'label' : y})\n",
    "data.head()"
   ]
  },
  {
   "cell_type": "code",
   "execution_count": 4,
   "metadata": {},
   "outputs": [
    {
     "data": {
      "text/plain": [
       "array([[1, 1, 2],\n",
       "       [1, 2, 3],\n",
       "       [1, 3, 4]])"
      ]
     },
     "execution_count": 4,
     "metadata": {},
     "output_type": "execute_result"
    }
   ],
   "source": [
    "a = np.array([[1,2],[2,3],[3,4]])\n",
    "b = np.array([1, 1, 1])\n",
    "b_new = b.reshape(-1,1)\n",
    "np.hstack((b_new, a))"
   ]
  },
  {
   "cell_type": "code",
   "execution_count": 5,
   "metadata": {},
   "outputs": [
    {
     "data": {
      "text/plain": [
       "False"
      ]
     },
     "execution_count": 5,
     "metadata": {},
     "output_type": "execute_result"
    }
   ],
   "source": [
    "#if i == 0:\n",
    "i = 0\n",
    "i == 1"
   ]
  },
  {
   "cell_type": "code",
   "execution_count": 6,
   "metadata": {},
   "outputs": [
    {
     "data": {
      "text/plain": [
       "[<matplotlib.lines.Line2D at 0x7fcf139c4d50>]"
      ]
     },
     "execution_count": 6,
     "metadata": {},
     "output_type": "execute_result"
    },
    {
     "data": {
      "image/png": "[encoded data removed]",
      "text/plain": [
       "<Figure size 432x288 with 1 Axes>"
      ]
     },
     "metadata": {
      "needs_background": "light"
     },
     "output_type": "display_data"
    }
   ],
   "source": [
    "# 创建一个函数来做最小二乘\n",
    "\n",
    "#可以设置fit_intercept = True， 后期可以写成一个函数\n",
    "fit_intercept = True\n",
    "\n",
    "# 取出X和Y的值，准备开始写回归公式\n",
    "X = data.iloc[:, :-1]\n",
    "Y = data.iloc[:, -1]\n",
    "\n",
    "#如果fit_intercept = True的话，X前面需要加上一个1例\n",
    "if fit_intercept:\n",
    "    ones = np.ones((X.shape[0],1))\n",
    "    X = np.hstack((ones, X))\n",
    "    \n",
    "# 转换成matrix， 注意Y的格式，是一列\n",
    "X = np.mat(X)\n",
    "Y = np.mat(Y).T\n",
    "\n",
    "# 计算参数w\n",
    "w = (X.T * X).I * X.T * Y\n",
    "\n",
    "# 预测这个数据\n",
    "Y_pred = X * w\n",
    "\n",
    "# 预测数据并且画出最后的结果\n",
    "plt.plot(X[:, 1], Y, 'o')\n",
    "plt.plot(X[:, 1], Y_pred)"
   ]
  },
  {
   "cell_type": "code",
   "execution_count": 7,
   "metadata": {},
   "outputs": [
    {
     "data": {
      "text/plain": [
       "[<matplotlib.lines.Line2D at 0x7fcf13ff5790>]"
      ]
     },
     "execution_count": 7,
     "metadata": {},
     "output_type": "execute_result"
    },
    {
     "data": {
      "image/png": "[encoded data removed]",
      "text/plain": [
       "<Figure size 432x288 with 1 Axes>"
      ]
     },
     "metadata": {
      "needs_background": "light"
     },
     "output_type": "display_data"
    }
   ],
   "source": [
    "#把上面的步骤写成函数\n",
    "def LR_frank(X, Y, fit_intercept = True):\n",
    "    if fit_intercept:\n",
    "        ones = np.ones((X.shape[0],1))\n",
    "        X = np.hstack((ones, X))\n",
    "    X = np.mat(X)\n",
    "    Y = np.mat(Y).T\n",
    "\n",
    "    w = (X.T * X).I * X.T * Y\n",
    "    Y_pred = X * w\n",
    "    return X, Y, w, Y_pred\n",
    "    \n",
    "#测试函数是否可以运行\n",
    "X = data.iloc[:, :-1]\n",
    "Y = data.iloc[:, -1]\n",
    "X, Y, w, Y_pred = LR_frank(X, Y)\n",
    "\n",
    "plt.plot(X[:, -1], Y, 'o')\n",
    "plt.plot(X[:, -1], Y_pred)"
   ]
  },
  {
   "cell_type": "code",
   "execution_count": 8,
   "metadata": {},
   "outputs": [
    {
     "data": {
      "text/plain": [
       "0.9104352692515009"
      ]
     },
     "execution_count": 8,
     "metadata": {},
     "output_type": "execute_result"
    }
   ],
   "source": [
    "# 尝试使用SSE评价指标\n",
    "# 矩阵的形式计算SSE\n",
    "# np.array((Y - Y_pred).T * (Y - Y_pred))[0][0]\n",
    "\n",
    "# 简单的形式计算SSE\n",
    "SSE = np.power(Y - Y_pred, 2).sum()\n",
    "SSE\n",
    "\n",
    "#算出MSE\n",
    "MSE = SSE / X.shape[0]\n",
    "\n",
    "#算出SST\n",
    "SST = Y.var() * X.shape[0]\n",
    "\n",
    "#算出R^2\n",
    "1 - SSE/SST"
   ]
  },
  {
   "cell_type": "code",
   "execution_count": 9,
   "metadata": {},
   "outputs": [
    {
     "data": {
      "text/plain": [
       "(0.9104352692515009, -4.763042745851086, array([1.93698502]))"
      ]
     },
     "execution_count": 9,
     "metadata": {},
     "output_type": "execute_result"
    }
   ],
   "source": [
    "#手写一个类似sklearn的回归\n",
    "class linear_reg:\n",
    "    def __init__(self,\n",
    "                 fit_intercept = True\n",
    "                ):\n",
    "        self.fit_intercept = fit_intercept\n",
    "    \n",
    "    def fit(self, X, Y,):\n",
    "        if self.fit_intercept:\n",
    "            ones = np.ones((X.shape[0],1))\n",
    "            X = np.hstack((ones,X))\n",
    "        self.X = np.mat(X)\n",
    "        self.Y = np.mat(Y).T\n",
    "        \n",
    "        theta = (self.X.T * self.X).I * self.X.T * self.Y\n",
    "        self.coef_ = np.ravel(theta)[1:]\n",
    "        self.intercept_ = np.ravel(theta)[0]\n",
    "        self.theta = theta\n",
    "    \n",
    "    def predict(self, X):\n",
    "        if self.fit_intercept:\n",
    "            ones = np.ones((X.shape[0],1))\n",
    "            X = np.hstack((ones,X))\n",
    "        return np.mat(X) * self.theta\n",
    "    \n",
    "    def score(self, Xtest, Ytest):\n",
    "        Y_pred = self.predict(Xtest)\n",
    "        Ytest = np.mat(Ytest).T\n",
    "        SSE = (Ytest - Y_pred).T * (Ytest - Y_pred)\n",
    "        SSE = np.array(SSE).ravel()[0] / X.shape[0]\n",
    "        SST = np.var(Ytest)\n",
    "        R_square = 1 - SSE/SST\n",
    "        return R_square\n",
    "\n",
    "model_frank = linear_reg()\n",
    "X = data.iloc[:, :-1]\n",
    "Y = data.iloc[:, -1]\n",
    "model_frank.fit(X, Y)\n",
    "model_frank.score(X, Y), model_frank.intercept_, model_frank.coef_"
   ]
  },
  {
   "cell_type": "code",
   "execution_count": 10,
   "metadata": {},
   "outputs": [
    {
     "data": {
      "text/plain": [
       "(array([1.93698502]), -4.763042745851092)"
      ]
     },
     "execution_count": 10,
     "metadata": {},
     "output_type": "execute_result"
    }
   ],
   "source": [
    "# sklearn实现\n",
    "from sklearn.linear_model import LinearRegression\n",
    "X = data.iloc[:, :-1]\n",
    "Y = data.iloc[:, -1]\n",
    "\n",
    "reg = LinearRegression()\n",
    "reg.fit(X, Y)\n",
    "\n",
    "# 查看一些重要的接口以及其指标\n",
    "reg.coef_, reg.intercept_\n"
   ]
  },
  {
   "cell_type": "code",
   "execution_count": 11,
   "metadata": {},
   "outputs": [
    {
     "data": {
      "text/plain": [
       "0.910435269251501"
      ]
     },
     "execution_count": 11,
     "metadata": {},
     "output_type": "execute_result"
    }
   ],
   "source": [
    "# 预测以及评估指标,.score给出的是R平方的结果\n",
    "reg.score(X, Y)"
   ]
  },
  {
   "cell_type": "code",
   "execution_count": 12,
   "metadata": {},
   "outputs": [
    {
     "data": {
      "text/plain": [
       "(0.799761865601158, 0.910435269251501)"
      ]
     },
     "execution_count": 12,
     "metadata": {},
     "output_type": "execute_result"
    }
   ],
   "source": [
    "# 使用sklearn里面的包来做相应的回归类算法的评估\n",
    "from sklearn.metrics import mean_squared_error, r2_score\n",
    "\n",
    "# 首先要预测出标签\n",
    "Y_pred = reg.predict(X)\n",
    "\n",
    "# 将预测标签和真实标签一同放入包内\n",
    "\n",
    "mean_squared_error(Y, Y_pred), r2_score(Y, Y_pred)"
   ]
  },
  {
   "cell_type": "code",
   "execution_count": 13,
   "metadata": {},
   "outputs": [
    {
     "data": {
      "text/plain": [
       "matrix([[0.3, 0. , 0. , 0. , 0. , 0. , 0. , 0. , 0. , 0. ],\n",
       "        [0. , 0.3, 0. , 0. , 0. , 0. , 0. , 0. , 0. , 0. ],\n",
       "        [0. , 0. , 0.3, 0. , 0. , 0. , 0. , 0. , 0. , 0. ],\n",
       "        [0. , 0. , 0. , 0.3, 0. , 0. , 0. , 0. , 0. , 0. ],\n",
       "        [0. , 0. , 0. , 0. , 0.3, 0. , 0. , 0. , 0. , 0. ],\n",
       "        [0. , 0. , 0. , 0. , 0. , 0.3, 0. , 0. , 0. , 0. ],\n",
       "        [0. , 0. , 0. , 0. , 0. , 0. , 0.3, 0. , 0. , 0. ],\n",
       "        [0. , 0. , 0. , 0. , 0. , 0. , 0. , 0.3, 0. , 0. ],\n",
       "        [0. , 0. , 0. , 0. , 0. , 0. , 0. , 0. , 0.3, 0. ],\n",
       "        [0. , 0. , 0. , 0. , 0. , 0. , 0. , 0. , 0. , 0.3]])"
      ]
     },
     "execution_count": 13,
     "metadata": {},
     "output_type": "execute_result"
    }
   ],
   "source": [
    "lam = 0.3\n",
    "np.mat(lam * np.eye(10))"
   ]
  },
  {
   "cell_type": "code",
   "execution_count": 14,
   "metadata": {},
   "outputs": [],
   "source": [
    "# Ridge回归\n",
    "\n",
    "#把上面LR函数的步骤写成函数\n",
    "#把上面的步骤写成函数\n",
    "def Ridge_LR_frank(X, Y, alpha = 0.1, \n",
    "             fit_intercept = True):\n",
    "    if fit_intercept:\n",
    "        ones = np.ones((X.shape[0],1))\n",
    "        X = np.hstack((ones, X))\n",
    "    X = np.mat(X)\n",
    "    Y = np.mat(Y).T\n",
    "\n",
    "    lam_eye = np.mat(alpha * np.eye(X.shape[1]))\n",
    "    w = (X.T * X + lam_eye).I * X.T * Y\n",
    "    Y_pred = X * w\n",
    "    return X, Y, w, Y_pred\n",
    "    \n",
    "#测试函数是否可以运行\n",
    "X = data.iloc[:, :-1]\n",
    "Y = data.iloc[:, -1]\n",
    "X, Y, w, Y_pred = Ridge_LR_frank(X, Y)\n",
    "\n",
    "#plt.plot(X[:, -1], Y, 'o')\n",
    "#plt.plot(X[:, -1], Y_pred)\n",
    "\n",
    "\n",
    "#测试函数是否可以运行\n"
   ]
  },
  {
   "cell_type": "code",
   "execution_count": 27,
   "metadata": {},
   "outputs": [
    {
     "data": {
      "text/plain": [
       "Ridge(alpha=0.2)"
      ]
     },
     "execution_count": 27,
     "metadata": {},
     "output_type": "execute_result"
    }
   ],
   "source": [
    "# 读取abalone.csv数据来尝试\n",
    "data = pd.read_csv('abalone.txt',header=None,sep='\\t')\n",
    "data.columns=['性别','长度','直径','高度','整体重量','肉重量','内脏重量','壳重','年龄']   # 补充\n",
    "data.head()\n",
    "\n",
    "X = data.iloc[:, :-1]\n",
    "Y = data.iloc[:, -1]\n",
    "\n",
    "# 使用原始的\n",
    "X1, Y1, w, Y_pred = LR_frank(X, Y)\n",
    "\n",
    "# 使用手写Ridge的\n",
    "X2, Y2, w_ridge, Y_pred_ridge = Ridge_LR_frank(X, Y, alpha = 0.2)\n",
    "\n",
    "# 使用sklearnRidge\n",
    "from sklearn.linear_model import Ridge\n",
    "ridge = Ridge(alpha = 0.2)\n",
    "ridge.fit(X, Y)"
   ]
  },
  {
   "cell_type": "code",
   "execution_count": 16,
   "metadata": {},
   "outputs": [
    {
     "data": {
      "text/plain": [
       "(0.10566931101737853, 4.906524345190111)"
      ]
     },
     "execution_count": 16,
     "metadata": {},
     "output_type": "execute_result"
    }
   ],
   "source": [
    "# 原始的线性模型\n",
    "np.array(w).ravel()\n",
    "r2_score(Y_pred, Y), mean_squared_error(Y_pred, Y)"
   ]
  },
  {
   "cell_type": "code",
   "execution_count": 17,
   "metadata": {},
   "outputs": [
    {
     "name": "stdout",
     "output_type": "stream",
     "text": [
      "[  3.     0.06  -0.02  11.45  11.06   8.72 -19.71  -8.9    9.19]\n"
     ]
    },
    {
     "data": {
      "text/plain": [
       "(0.09119274470725691, 4.908888764868644)"
      ]
     },
     "execution_count": 17,
     "metadata": {},
     "output_type": "execute_result"
    }
   ],
   "source": [
    "# 自己写的Ridge\n",
    "print(np.around(np.array(w_ridge).ravel(), 2))\n",
    "r2_score(Y_pred_ridge, Y),mean_squared_error(Y_pred_ridge, Y)"
   ]
  },
  {
   "cell_type": "code",
   "execution_count": 18,
   "metadata": {},
   "outputs": [
    {
     "name": "stdout",
     "output_type": "stream",
     "text": [
      "[  0.06156109  -0.03945719  11.44686599  11.05067799   8.72212668\n",
      " -19.70755072  -8.8949646    9.19236679]\n",
      "3.005201531224067\n"
     ]
    },
    {
     "data": {
      "text/plain": [
       "(0.09085790602512467, 4.9089008736893565)"
      ]
     },
     "execution_count": 18,
     "metadata": {},
     "output_type": "execute_result"
    }
   ],
   "source": [
    "# sklearn Ridge\n",
    "print(ridge.coef_)\n",
    "print(ridge.intercept_)\n",
    "Y_sk_pred = ridge.predict(X)\n",
    "r2_score(Y_sk_pred, Y),mean_squared_error(Y_sk_pred, Y)"
   ]
  },
  {
   "cell_type": "code",
   "execution_count": null,
   "metadata": {},
   "outputs": [],
   "source": []
  },
  {
   "cell_type": "code",
   "execution_count": null,
   "metadata": {},
   "outputs": [],
   "source": []
  },
  {
   "cell_type": "code",
   "execution_count": 30,
   "metadata": {},
   "outputs": [
    {
     "data": {
      "text/html": [
       "<div>\n",
       "<style scoped>\n",
       "    .dataframe tbody tr th:only-of-type {\n",
       "        vertical-align: middle;\n",
       "    }\n",
       "\n",
       "    .dataframe tbody tr th {\n",
       "        vertical-align: top;\n",
       "    }\n",
       "\n",
       "    .dataframe thead th {\n",
       "        text-align: right;\n",
       "    }\n",
       "</style>\n",
       "<table border=\"1\" class=\"dataframe\">\n",
       "  <thead>\n",
       "    <tr style=\"text-align: right;\">\n",
       "      <th></th>\n",
       "      <th>性别</th>\n",
       "      <th>长度</th>\n",
       "      <th>直径</th>\n",
       "      <th>高度</th>\n",
       "      <th>整体重量</th>\n",
       "      <th>肉重量</th>\n",
       "      <th>内脏重量</th>\n",
       "      <th>壳重</th>\n",
       "    </tr>\n",
       "  </thead>\n",
       "  <tbody>\n",
       "    <tr>\n",
       "      <td>0</td>\n",
       "      <td>1</td>\n",
       "      <td>0.455</td>\n",
       "      <td>0.365</td>\n",
       "      <td>0.095</td>\n",
       "      <td>0.5140</td>\n",
       "      <td>0.2245</td>\n",
       "      <td>0.1010</td>\n",
       "      <td>0.1500</td>\n",
       "    </tr>\n",
       "    <tr>\n",
       "      <td>1</td>\n",
       "      <td>1</td>\n",
       "      <td>0.350</td>\n",
       "      <td>0.265</td>\n",
       "      <td>0.090</td>\n",
       "      <td>0.2255</td>\n",
       "      <td>0.0995</td>\n",
       "      <td>0.0485</td>\n",
       "      <td>0.0700</td>\n",
       "    </tr>\n",
       "    <tr>\n",
       "      <td>2</td>\n",
       "      <td>-1</td>\n",
       "      <td>0.530</td>\n",
       "      <td>0.420</td>\n",
       "      <td>0.135</td>\n",
       "      <td>0.6770</td>\n",
       "      <td>0.2565</td>\n",
       "      <td>0.1415</td>\n",
       "      <td>0.2100</td>\n",
       "    </tr>\n",
       "    <tr>\n",
       "      <td>3</td>\n",
       "      <td>1</td>\n",
       "      <td>0.440</td>\n",
       "      <td>0.365</td>\n",
       "      <td>0.125</td>\n",
       "      <td>0.5160</td>\n",
       "      <td>0.2155</td>\n",
       "      <td>0.1140</td>\n",
       "      <td>0.1550</td>\n",
       "    </tr>\n",
       "    <tr>\n",
       "      <td>4</td>\n",
       "      <td>0</td>\n",
       "      <td>0.330</td>\n",
       "      <td>0.255</td>\n",
       "      <td>0.080</td>\n",
       "      <td>0.2050</td>\n",
       "      <td>0.0895</td>\n",
       "      <td>0.0395</td>\n",
       "      <td>0.0550</td>\n",
       "    </tr>\n",
       "    <tr>\n",
       "      <td>...</td>\n",
       "      <td>...</td>\n",
       "      <td>...</td>\n",
       "      <td>...</td>\n",
       "      <td>...</td>\n",
       "      <td>...</td>\n",
       "      <td>...</td>\n",
       "      <td>...</td>\n",
       "      <td>...</td>\n",
       "    </tr>\n",
       "    <tr>\n",
       "      <td>4172</td>\n",
       "      <td>-1</td>\n",
       "      <td>0.565</td>\n",
       "      <td>0.450</td>\n",
       "      <td>0.165</td>\n",
       "      <td>0.8870</td>\n",
       "      <td>0.3700</td>\n",
       "      <td>0.2390</td>\n",
       "      <td>0.2490</td>\n",
       "    </tr>\n",
       "    <tr>\n",
       "      <td>4173</td>\n",
       "      <td>1</td>\n",
       "      <td>0.590</td>\n",
       "      <td>0.440</td>\n",
       "      <td>0.135</td>\n",
       "      <td>0.9660</td>\n",
       "      <td>0.4390</td>\n",
       "      <td>0.2145</td>\n",
       "      <td>0.2605</td>\n",
       "    </tr>\n",
       "    <tr>\n",
       "      <td>4174</td>\n",
       "      <td>1</td>\n",
       "      <td>0.600</td>\n",
       "      <td>0.475</td>\n",
       "      <td>0.205</td>\n",
       "      <td>1.1760</td>\n",
       "      <td>0.5255</td>\n",
       "      <td>0.2875</td>\n",
       "      <td>0.3080</td>\n",
       "    </tr>\n",
       "    <tr>\n",
       "      <td>4175</td>\n",
       "      <td>-1</td>\n",
       "      <td>0.625</td>\n",
       "      <td>0.485</td>\n",
       "      <td>0.150</td>\n",
       "      <td>1.0945</td>\n",
       "      <td>0.5310</td>\n",
       "      <td>0.2610</td>\n",
       "      <td>0.2960</td>\n",
       "    </tr>\n",
       "    <tr>\n",
       "      <td>4176</td>\n",
       "      <td>1</td>\n",
       "      <td>0.710</td>\n",
       "      <td>0.555</td>\n",
       "      <td>0.195</td>\n",
       "      <td>1.9485</td>\n",
       "      <td>0.9455</td>\n",
       "      <td>0.3765</td>\n",
       "      <td>0.4950</td>\n",
       "    </tr>\n",
       "  </tbody>\n",
       "</table>\n",
       "<p>4177 rows × 8 columns</p>\n",
       "</div>"
      ],
      "text/plain": [
       "      性别     长度     直径     高度    整体重量     肉重量    内脏重量      壳重\n",
       "0      1  0.455  0.365  0.095  0.5140  0.2245  0.1010  0.1500\n",
       "1      1  0.350  0.265  0.090  0.2255  0.0995  0.0485  0.0700\n",
       "2     -1  0.530  0.420  0.135  0.6770  0.2565  0.1415  0.2100\n",
       "3      1  0.440  0.365  0.125  0.5160  0.2155  0.1140  0.1550\n",
       "4      0  0.330  0.255  0.080  0.2050  0.0895  0.0395  0.0550\n",
       "...   ..    ...    ...    ...     ...     ...     ...     ...\n",
       "4172  -1  0.565  0.450  0.165  0.8870  0.3700  0.2390  0.2490\n",
       "4173   1  0.590  0.440  0.135  0.9660  0.4390  0.2145  0.2605\n",
       "4174   1  0.600  0.475  0.205  1.1760  0.5255  0.2875  0.3080\n",
       "4175  -1  0.625  0.485  0.150  1.0945  0.5310  0.2610  0.2960\n",
       "4176   1  0.710  0.555  0.195  1.9485  0.9455  0.3765  0.4950\n",
       "\n",
       "[4177 rows x 8 columns]"
      ]
     },
     "execution_count": 30,
     "metadata": {},
     "output_type": "execute_result"
    }
   ],
   "source": [
    "X"
   ]
  },
  {
   "cell_type": "code",
   "execution_count": 39,
   "metadata": {},
   "outputs": [
    {
     "data": {
      "text/plain": [
       "array([-0.00054506,  0.00128363,  0.00109499,  0.00044777,  0.00508697,\n",
       "        0.00179242,  0.00106003,  0.00167755])"
      ]
     },
     "execution_count": 39,
     "metadata": {},
     "output_type": "execute_result"
    }
   ],
   "source": [
    "ridge = Ridge(alpha = 700000).fit(X, Y)\n",
    "ridge.coef_"
   ]
  },
  {
   "cell_type": "code",
   "execution_count": 19,
   "metadata": {},
   "outputs": [
    {
     "data": {
      "text/plain": [
       "<matplotlib.axes._subplots.AxesSubplot at 0x7fcf14e46750>"
      ]
     },
     "execution_count": 19,
     "metadata": {},
     "output_type": "execute_result"
    },
    {
     "data": {
      "image/png": "[encoded data removed]",
      "text/plain": [
       "<Figure size 432x288 with 1 Axes>"
      ]
     },
     "metadata": {
      "needs_background": "light"
     },
     "output_type": "display_data"
    }
   ],
   "source": [
    "# 尝试看一下不断增大lam的值，观察theta的表现\n",
    "l_alpha = np.linspace(0, 100, 1000)\n",
    "#记录每一个lam所对应的各个theta的值\n",
    "l_w = []\n",
    "\n",
    "for i in l_alpha:\n",
    "    ridge = Ridge(alpha = i)\n",
    "    ridge.fit(X, Y)\n",
    "    l_theta.append(ridge.coef_)\n",
    "\n",
    "pd.DataFrame(l_w, index = l_alpha).plot()"
   ]
  },
  {
   "cell_type": "code",
   "execution_count": 20,
   "metadata": {},
   "outputs": [
    {
     "data": {
      "text/plain": [
       "<matplotlib.axes._subplots.AxesSubplot at 0x7fcf17f358d0>"
      ]
     },
     "execution_count": 20,
     "metadata": {},
     "output_type": "execute_result"
    },
    {
     "data": {
      "image/png": "[encoded data removed]",
      "text/plain": [
       "<Figure size 432x288 with 1 Axes>"
      ]
     },
     "metadata": {
      "needs_background": "light"
     },
     "output_type": "display_data"
    }
   ],
   "source": [
    "from sklearn.model_selection import cross_val_score\n",
    "\n",
    "l_alpha = np.linspace(0, 100, 1000)\n",
    "#记录每一个lam所对应的各个theta的值\n",
    "l_r2 = []\n",
    "\n",
    "for i in l_alpha:\n",
    "    ridge = Ridge(alpha = i)\n",
    "    s = cross_val_score(ridge, X, Y, cv = 5).mean()\n",
    "    l_r2.append(s)\n",
    "\n",
    "pd.Series(l_r2, index = l_alpha).plot()"
   ]
  },
  {
   "cell_type": "code",
   "execution_count": 45,
   "metadata": {},
   "outputs": [
    {
     "data": {
      "text/plain": [
       "array([  0.05442389,   2.29218582,   8.29912646,   8.76164441,\n",
       "         7.33823982, -17.97861468,  -6.51700981,  10.39786634])"
      ]
     },
     "execution_count": 45,
     "metadata": {},
     "output_type": "execute_result"
    }
   ],
   "source": [
    "ridge = Ridge(alpha = 1).fit(X, Y)\n",
    "ridge.coef_"
   ]
  },
  {
   "cell_type": "code",
   "execution_count": 48,
   "metadata": {},
   "outputs": [
    {
     "data": {
      "text/plain": [
       "array([  0.02137186,   0.        ,   8.18597082,   0.        ,\n",
       "         4.86409485, -14.45944109,  -0.        ,  12.77128623])"
      ]
     },
     "execution_count": 48,
     "metadata": {},
     "output_type": "execute_result"
    }
   ],
   "source": [
    "# 尝试使用sklearn的Lasso\n",
    "from sklearn.linear_model import Lasso\n",
    "\n",
    "# 还是使用alpha = 0.2\n",
    "lasso = Lasso(alpha = 0.009).fit(X, Y)\n",
    "\n",
    "#查看参数\n",
    "lasso.coef_"
   ]
  },
  {
   "cell_type": "code",
   "execution_count": 24,
   "metadata": {},
   "outputs": [],
   "source": [
    "alpha_list = np.linspace(0,0.05,100)\n",
    "l_theta = []"
   ]
  },
  {
   "cell_type": "code",
   "execution_count": 58,
   "metadata": {},
   "outputs": [],
   "source": [
    "# 房屋数据集\n",
    "\n",
    "import numpy as np\n",
    "import pandas as pd\n",
    "from sklearn.linear_model import Ridge, LinearRegression, Lasso\n",
    "from sklearn.model_selection import cross_val_score\n",
    "from sklearn.model_selection import train_test_split\n",
    "from sklearn.datasets import fetch_california_housing as fch\n",
    "import matplotlib.pyplot as plt\n",
    "\n",
    "housevalue = fch()\n",
    "\n",
    "X = pd.DataFrame(housevalue.data)\n",
    "y = housevalue.target\n",
    "X.columns = [\"住户收入中位数\",\"房屋使用年代中位数\",\"平均房间数目\"\n",
    "            ,\"平均卧室数目\",\"街区人口\",\"平均入住率\",\"街区的纬度\",\"街区的经度\"]"
   ]
  },
  {
   "cell_type": "code",
   "execution_count": 53,
   "metadata": {},
   "outputs": [],
   "source": [
    "# 切分数据集\n",
    "Xtrain,Xtest,Ytrain,Ytest = train_test_split(X,y,test_size=0.3,random_state=420)"
   ]
  },
  {
   "cell_type": "code",
   "execution_count": 74,
   "metadata": {},
   "outputs": [
    {
     "data": {
      "text/plain": [
       "(0.5461342410804206, 0.5368702511716803)"
      ]
     },
     "execution_count": 74,
     "metadata": {},
     "output_type": "execute_result"
    }
   ],
   "source": [
    "# 使用Linear来进行拟合\n",
    "\n",
    "Linear = LinearRegression().fit(Xtrain, Ytrain)\n",
    "Linear.score(Xtrain, Ytrain), Linear.score(Xtest, Ytest)\n",
    "\n",
    "# 使用Ridge来拟合\n",
    "\n",
    "ridge = Ridge(alpha = 100).fit(Xtrain, Ytrain)\n",
    "ridge.score(Xtrain, Ytrain), ridge.score(Xtest, Ytest)\n",
    "\n",
    "# 使用Lasso来进行拟合\n",
    "lasso = Lasso(alpha = 0.1).fit(Xtrain, Ytrain)\n",
    "lasso.score(Xtrain, Ytrain), lasso.score(Xtest, Ytest)"
   ]
  },
  {
   "cell_type": "code",
   "execution_count": 71,
   "metadata": {},
   "outputs": [
    {
     "data": {
      "image/png": "[encoded data removed]",
      "text/plain": [
       "<Figure size 432x288 with 1 Axes>"
      ]
     },
     "metadata": {
      "needs_background": "light"
     },
     "output_type": "display_data"
    }
   ],
   "source": [
    "# 交叉验证下，与线性回归相比，岭回归的结果如何变化？\n",
    "alpharange = np.arange(1,1001,100)\n",
    "ridge, lr = [], []\n",
    "\n",
    "for i in alpharange:\n",
    "    ridge_model = Ridge(alpha = i)\n",
    "    linear_model = LinearRegression()\n",
    "    \n",
    "    ridge_score = cross_val_score(ridge_model, Xtrain, Ytrain, cv = 5, scoring = 'r2').mean()\n",
    "    linear_score =cross_val_score(linear_model, Xtrain,Ytrain, cv = 5, scoring = 'r2').mean()\n",
    "    \n",
    "    ridge.append(ridge_score)\n",
    "    lr.append(linear_score)\n",
    "\n",
    "plt.plot(alpharange,ridge,color=\"red\",label=\"Ridge\")\n",
    "plt.plot(alpharange,lr,color=\"orange\",label=\"LR\")\n",
    "plt.title(\"Mean\")\n",
    "plt.legend()\n",
    "plt.show()"
   ]
  },
  {
   "cell_type": "code",
   "execution_count": 72,
   "metadata": {},
   "outputs": [
    {
     "data": {
      "image/png": "[encoded data removed]",
      "text/plain": [
       "<Figure size 432x288 with 1 Axes>"
      ]
     },
     "metadata": {
      "needs_background": "light"
     },
     "output_type": "display_data"
    }
   ],
   "source": [
    "alpharange = np.arange(1,200,10)\n",
    "ridge, lr = [], []\n",
    "\n",
    "for i in alpharange:\n",
    "    ridge_model = Ridge(alpha = i)\n",
    "    linear_model = LinearRegression()\n",
    "    \n",
    "    ridge_score = cross_val_score(ridge_model, Xtrain, Ytrain, cv = 5, scoring = 'r2').mean()\n",
    "    linear_score =cross_val_score(linear_model, Xtrain,Ytrain, cv = 5, scoring = 'r2').mean()\n",
    "    \n",
    "    ridge.append(ridge_score)\n",
    "    lr.append(linear_score)\n",
    "\n",
    "plt.plot(alpharange,ridge,color=\"red\",label=\"Ridge\")\n",
    "plt.plot(alpharange,lr,color=\"orange\",label=\"LR\")\n",
    "plt.title(\"Mean\")\n",
    "plt.legend()\n",
    "plt.show()"
   ]
  },
  {
   "cell_type": "code",
   "execution_count": 80,
   "metadata": {},
   "outputs": [
    {
     "data": {
      "image/png": "[encoded data removed]",
      "text/plain": [
       "<Figure size 432x288 with 1 Axes>"
      ]
     },
     "metadata": {
      "needs_background": "light"
     },
     "output_type": "display_data"
    }
   ],
   "source": [
    "# 交叉验证下，与线性回归相比，岭回归的结果如何变化？\n",
    "alpharange = np.linspace(0.0001,0.02, 100)\n",
    "lasso, lr = [], []\n",
    "\n",
    "for i in alpharange:\n",
    "    lasso_model = Lasso(alpha = i)\n",
    "    linear_model = LinearRegression()\n",
    "    \n",
    "    lasso_score = cross_val_score(lasso_model, Xtrain, Ytrain, cv = 5, scoring = 'r2').mean()\n",
    "    linear_score =cross_val_score(linear_model, Xtrain,Ytrain, cv = 5, scoring = 'r2').mean()\n",
    "    \n",
    "    lasso.append(lasso_score)\n",
    "    lr.append(linear_score)\n",
    "\n",
    "plt.plot(alpharange,lasso,color=\"red\",label=\"Ridge\")\n",
    "plt.plot(alpharange,lr,color=\"orange\",label=\"Lasso\")\n",
    "plt.title(\"Mean\")\n",
    "plt.legend()\n",
    "plt.show()"
   ]
  },
  {
   "cell_type": "code",
   "execution_count": 83,
   "metadata": {},
   "outputs": [
    {
     "data": {
      "text/plain": [
       "0.00211010101010101"
      ]
     },
     "execution_count": 83,
     "metadata": {},
     "output_type": "execute_result"
    }
   ],
   "source": [
    "pd.Series(lasso, index = alpharange).idxmax()"
   ]
  },
  {
   "cell_type": "code",
   "execution_count": null,
   "metadata": {},
   "outputs": [],
   "source": []
  },
  {
   "cell_type": "code",
   "execution_count": 84,
   "metadata": {},
   "outputs": [],
   "source": [
    "# 找到最优的参数之后，查看这些最优的参数在测试集下的表现\n",
    "\n",
    "lasso = Lasso(alpha = 0.00211010101010101).fit(Xtrain, Ytrain)\n",
    "lasso.score(Xtrain, Ytrain), lasso.score(Xtest, Ytest)\n",
    "\n",
    "ridge = Ridge(alpha = 71).fit(Xtrain, Ytrain)\n",
    "ridge.score(Xtrain, Ytrain), ridge.score(Xtest, Ytest)"
   ]
  },
  {
   "cell_type": "code",
   "execution_count": 87,
   "metadata": {},
   "outputs": [
    {
     "data": {
      "text/plain": [
       "array([ 4.29732122e-01,  1.03650588e-02, -9.30028818e-02,  5.50411142e-01,\n",
       "        1.15847110e-06, -3.31889016e-03, -4.10405349e-01, -4.22343666e-01])"
      ]
     },
     "execution_count": 87,
     "metadata": {},
     "output_type": "execute_result"
    }
   ],
   "source": [
    "lasso.coef_"
   ]
  },
  {
   "cell_type": "code",
   "execution_count": null,
   "metadata": {},
   "outputs": [],
   "source": []
  },
  {
   "cell_type": "code",
   "execution_count": null,
   "metadata": {},
   "outputs": [],
   "source": []
  },
  {
   "cell_type": "code",
   "execution_count": null,
   "metadata": {},
   "outputs": [],
   "source": []
  },
  {
   "cell_type": "code",
   "execution_count": 93,
   "metadata": {},
   "outputs": [],
   "source": [
    "# 尝试对coef做学习曲线，观测在不断加大惩罚的过程当中，各个参数值的变化情况\n",
    "# 如果出现波浪形的线，就有共线性存在，但是不确定到底是哪几个特征有共线性\n",
    "ridge_coef = []\n",
    "\n",
    "alpharange = np.arange(0, 10000)\n",
    "for i in alpharange:\n",
    "    ridge = Ridge(alpha = i).fit(Xtrain, Ytrain)\n",
    "    ridge_coef.append(ridge.coef_)\n",
    "\n",
    "pd.DataFrame(ridge_coef).plot()"
   ]
  },
  {
   "cell_type": "code",
   "execution_count": null,
   "metadata": {},
   "outputs": [],
   "source": []
  },
  {
   "cell_type": "code",
   "execution_count": 119,
   "metadata": {},
   "outputs": [],
   "source": [
    "# data = pd.read_csv('abalone.txt',header=None,sep='\\t')\n",
    "# data.columns=['性别','长度','直径','高度','整体重量','肉重量','内脏重量','壳重','年龄']   # 补充\n",
    "# data.head()\n",
    "\n",
    "# X = data.iloc[:, :-1]\n",
    "# Y = data.iloc[:, -1]"
   ]
  },
  {
   "cell_type": "code",
   "execution_count": 130,
   "metadata": {},
   "outputs": [],
   "source": [
    "# from sklearn.datasets import load_boston\n",
    "\n",
    "# boston = load_boston()\n",
    "# X = boston.data\n",
    "# Y = boston.target"
   ]
  },
  {
   "cell_type": "code",
   "execution_count": 134,
   "metadata": {},
   "outputs": [],
   "source": [
    "housevalue = fch()\n",
    "\n",
    "X = pd.DataFrame(housevalue.data)\n",
    "Y = housevalue.target\n",
    "X.columns = [\"住户收入中位数\",\"房屋使用年代中位数\",\"平均房间数目\"\n",
    "            ,\"平均卧室数目\",\"街区人口\",\"平均入住率\",\"街区的纬度\",\"街区的经度\"]"
   ]
  },
  {
   "cell_type": "code",
   "execution_count": 135,
   "metadata": {},
   "outputs": [],
   "source": [
    "from sklearn.preprocessing import StandardScaler\n",
    "\n",
    "X_ = StandardScaler().fit_transform(X)"
   ]
  },
  {
   "cell_type": "code",
   "execution_count": 136,
   "metadata": {},
   "outputs": [
    {
     "data": {
      "text/plain": [
       "<matplotlib.axes._subplots.AxesSubplot at 0x7fcf00314850>"
      ]
     },
     "execution_count": 136,
     "metadata": {},
     "output_type": "execute_result"
    },
    {
     "data": {
      "image/png": "[encoded data removed]",
      "text/plain": [
       "<Figure size 432x288 with 1 Axes>"
      ]
     },
     "metadata": {
      "needs_background": "light"
     },
     "output_type": "display_data"
    }
   ],
   "source": [
    "# 尝试看一下不断增大lam的值，观察theta的表现\n",
    "l_alpha = np.array(range(1, 30))\n",
    "#记录每一个lam所对应的各个theta的值\n",
    "l_w = []\n",
    "\n",
    "for i in l_alpha:\n",
    "    ridge = Ridge(alpha = np.exp(i - 10))\n",
    "    ridge.fit(X_, Y)\n",
    "    l_w.append(ridge.coef_)\n",
    "\n",
    "pd.DataFrame(l_w, index = l_alpha - 10).plot()"
   ]
  },
  {
   "cell_type": "code",
   "execution_count": 137,
   "metadata": {},
   "outputs": [
    {
     "data": {
      "text/plain": [
       "<matplotlib.axes._subplots.AxesSubplot at 0x7fcf0085bcd0>"
      ]
     },
     "execution_count": 137,
     "metadata": {},
     "output_type": "execute_result"
    },
    {
     "data": {
      "image/png": "[encoded data removed]",
      "text/plain": [
       "<Figure size 432x288 with 1 Axes>"
      ]
     },
     "metadata": {
      "needs_background": "light"
     },
     "output_type": "display_data"
    }
   ],
   "source": [
    "# 尝试看一下不断增大lam的值，观察w的表现\n",
    "l_alpha = np.array(range(1, 30))\n",
    "#记录每一个lam所对应的各个theta的值\n",
    "l_w = []\n",
    "\n",
    "for i in l_alpha:\n",
    "    lasso = Lasso(alpha = np.exp(i - 10))\n",
    "    lasso.fit(X_, Y)\n",
    "    l_w.append(lasso.coef_)\n",
    "\n",
    "pd.DataFrame(l_w, index = l_alpha-10).plot()"
   ]
  },
  {
   "cell_type": "code",
   "execution_count": 139,
   "metadata": {},
   "outputs": [
    {
     "data": {
      "text/plain": [
       "Lasso(alpha=0.05)"
      ]
     },
     "execution_count": 139,
     "metadata": {},
     "output_type": "execute_result"
    }
   ],
   "source": [
    "lasso = Lasso(alpha = 0.05)\n",
    "lasso.fit(X_, Y)"
   ]
  },
  {
   "cell_type": "code",
   "execution_count": 140,
   "metadata": {},
   "outputs": [
    {
     "data": {
      "text/plain": [
       "array([ 0.73654297,  0.13900648, -0.        ,  0.        ,  0.        ,\n",
       "       -0.        , -0.25950684, -0.21678118])"
      ]
     },
     "execution_count": 140,
     "metadata": {},
     "output_type": "execute_result"
    }
   ],
   "source": [
    "lasso.coef_"
   ]
  },
  {
   "cell_type": "code",
   "execution_count": 148,
   "metadata": {},
   "outputs": [
    {
     "data": {
      "text/plain": [
       "住户收入中位数      0.736543\n",
       "房屋使用年代中位数    0.139006\n",
       "街区的纬度       -0.259507\n",
       "街区的经度       -0.216781\n",
       "dtype: float64"
      ]
     },
     "execution_count": 148,
     "metadata": {},
     "output_type": "execute_result"
    }
   ],
   "source": [
    "# 通过系数值，选取不等于0的那些特征，达到特征选取的目的\n",
    "feature_importance = pd.Series(lasso.coef_, index = X.columns)\n",
    "feature_importance[feature_importance != 0]"
   ]
  },
  {
   "cell_type": "code",
   "execution_count": 149,
   "metadata": {},
   "outputs": [
    {
     "data": {
      "text/plain": [
       "2.068558169089145"
      ]
     },
     "execution_count": 149,
     "metadata": {},
     "output_type": "execute_result"
    }
   ],
   "source": [
    "lasso.intercept_"
   ]
  },
  {
   "cell_type": "code",
   "execution_count": null,
   "metadata": {},
   "outputs": [],
   "source": []
  },
  {
   "cell_type": "code",
   "execution_count": null,
   "metadata": {},
   "outputs": [],
   "source": []
  },
  {
   "cell_type": "code",
   "execution_count": null,
   "metadata": {},
   "outputs": [],
   "source": []
  }
 ],
 "metadata": {
  "kernelspec": {
   "display_name": "Python 3",
   "language": "python",
   "name": "python3"
  },
  "language_info": {
   "codemirror_mode": {
    "name": "ipython",
    "version": 3
   },
   "file_extension": ".py",
   "mimetype": "text/x-python",
   "name": "python",
   "nbconvert_exporter": "python",
   "pygments_lexer": "ipython3",
   "version": "3.7.4"
  }
 },
 "nbformat": 4,
 "nbformat_minor": 4
}
