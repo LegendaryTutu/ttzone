{
 "cells": [
  {
   "cell_type": "code",
   "execution_count": 8,
   "metadata": {},
   "outputs": [],
   "source": [
    "# 导入一些必要的包\n",
    "\n",
    "import numpy as np\n",
    "import pandas as pd\n",
    "import matplotlib.pyplot as plt"
   ]
  },
  {
   "cell_type": "code",
   "execution_count": 5,
   "metadata": {},
   "outputs": [
    {
     "data": {
      "image/png": "[encoded data removed]",
      "text/plain": [
       "<Figure size 432x288 with 1 Axes>"
      ]
     },
     "metadata": {
      "needs_background": "light"
     },
     "output_type": "display_data"
    }
   ],
   "source": [
    "# 复习矩阵的创建\n",
    "a = np.array([[1,2],[3,4]])\n",
    "m = np.mat(a)    # NumPy中创建矩阵需要使用mat函数，该函数需要输入二维数组\n",
    "\n",
    "# 模拟一些数据，并且加上随机性\n",
    "rng = np.random.RandomState(1)     # 设置随机数种子\n",
    "x = 5*rng.rand(100)                        # 100个[0,5)的随机数\n",
    "y = 2*x-5+rng.randn(100)            # 真实规律的标签取值\n",
    "plt.scatter(x,y)\n",
    "\n",
    "\n",
    "# 可以尝试将数据变成DataFrame\n"
   ]
  },
  {
   "cell_type": "code",
   "execution_count": 1,
   "metadata": {},
   "outputs": [],
   "source": [
    "# 创建一个函数来做最小二乘\n",
    "\n",
    "#可以设置fit_intercept = True， 后期可以写成一个函数\n",
    "\n",
    "\n",
    "# 取出X和Y的值，准备开始写回归公式\n",
    "\n",
    "\n",
    "#如果fit_intercept = True的话，X前面需要加上一个1例\n",
    "\n",
    "#转换成matrix， 注意Y的格式，是一列\n",
    "\n",
    "\n",
    "#计算参数theta\n",
    "\n",
    "# 预测这个数据\n",
    "\n",
    "# 预测数据并且画出最后的结果\n",
    "   "
   ]
  },
  {
   "cell_type": "code",
   "execution_count": 2,
   "metadata": {},
   "outputs": [],
   "source": [
    "#把上面的步骤写成函数\n",
    "\n",
    "#测试函数是否可以运行\n"
   ]
  },
  {
   "cell_type": "code",
   "execution_count": null,
   "metadata": {},
   "outputs": [],
   "source": []
  },
  {
   "cell_type": "code",
   "execution_count": 3,
   "metadata": {},
   "outputs": [],
   "source": [
    "# 尝试使用SSE评价指标\n",
    "#算出MSE\n",
    "\n",
    "#算出SST\n",
    "\n",
    "#算出R^2\n"
   ]
  },
  {
   "cell_type": "code",
   "execution_count": 14,
   "metadata": {},
   "outputs": [
    {
     "data": {
      "text/plain": [
       "(0.9104352692515009, -4.763042745851086, array([1.93698502]))"
      ]
     },
     "execution_count": 14,
     "metadata": {},
     "output_type": "execute_result"
    }
   ],
   "source": [
    "#手写一个类似sklearn的回归\n",
    "class linear_reg:\n",
    "    def __init__(self,\n",
    "                 fit_intercept = True\n",
    "                ):\n",
    "        self.fit_intercept = fit_intercept\n",
    "    \n",
    "    def fit(self, X, Y,):\n",
    "        if self.fit_intercept:\n",
    "            ones = np.ones((X.shape[0],1))\n",
    "            X = np.hstack((ones,X))\n",
    "        self.X = np.mat(X)\n",
    "        self.Y = np.mat(Y).T\n",
    "        \n",
    "        theta = (self.X.T * self.X).I * self.X.T * self.Y\n",
    "        self.coef_ = np.ravel(theta)[1:]\n",
    "        self.intercept_ = np.ravel(theta)[0]\n",
    "        self.theta = theta\n",
    "    \n",
    "    def predict(self, X):\n",
    "        if self.fit_intercept:\n",
    "            ones = np.ones((X.shape[0],1))\n",
    "            X = np.hstack((ones,X))\n",
    "        return np.mat(X) * self.theta\n",
    "    \n",
    "    def score(self, Xtest, Ytest):\n",
    "        Y_pred = self.predict(Xtest)\n",
    "        Ytest = np.mat(Ytest).T\n",
    "        SSE = (Ytest - Y_pred).T * (Ytest - Y_pred)\n",
    "        SSE = np.array(SSE).ravel()[0] / X.shape[0]\n",
    "        SST = np.var(Ytest)\n",
    "        R_square = 1 - SSE/SST\n",
    "        return R_square\n",
    "\n",
    "model_frank = linear_reg()\n",
    "X = data.iloc[:, :-1]\n",
    "Y = data.iloc[:, -1]\n",
    "model_frank.fit(X, Y)\n",
    "model_frank.score(X, Y), model_frank.intercept_, model_frank.coef_"
   ]
  },
  {
   "cell_type": "code",
   "execution_count": 5,
   "metadata": {},
   "outputs": [],
   "source": [
    "# sklearn实现\n",
    "\n",
    "# 查看一些重要的接口以及其指标\n"
   ]
  },
  {
   "cell_type": "code",
   "execution_count": 4,
   "metadata": {},
   "outputs": [],
   "source": [
    "# 预测以及评估指标\n"
   ]
  },
  {
   "cell_type": "code",
   "execution_count": 6,
   "metadata": {},
   "outputs": [],
   "source": [
    "# Ridge回归\n",
    "\n",
    "#把上面LR函数的步骤写成函数\n",
    "\n",
    "\n",
    "#测试函数是否可以运行\n"
   ]
  },
  {
   "cell_type": "code",
   "execution_count": 9,
   "metadata": {},
   "outputs": [],
   "source": [
    "# 读取abalone.csv数据来尝试\n",
    "data = pd.read_csv('abalone.txt',header=None,sep='\\t')\n",
    "data.columns=['性别','长度','直径','高度','整体重量','肉重量','内脏重量','壳重','年龄']   # 补充\n",
    "data.head()\n",
    "\n",
    "# 将手写的Ridge与原始的比较\n",
    "\n",
    "# 使用原始的\n",
    "X = data.iloc[:, :-1]\n",
    "Y = data.iloc[:, -1]\n",
    "\n",
    "\n",
    "\n",
    "#sklearn\n",
    "\n",
    "\n",
    "# 比较参数\n",
    "\n",
    "# 比较R平方"
   ]
  },
  {
   "cell_type": "code",
   "execution_count": 10,
   "metadata": {},
   "outputs": [],
   "source": [
    "# 尝试看一下不断增大lam的值，观察theta的表现\n",
    "\n",
    "l_lam = np.linspace(0, 100, 1000)\n",
    "#记录每一个lam所对应的各个theta的值\n",
    "l_theta = []\n"
   ]
  },
  {
   "cell_type": "code",
   "execution_count": 11,
   "metadata": {},
   "outputs": [],
   "source": [
    "# 尝试使用sklearn的Lasso\n",
    "\n",
    "# 还是使用alpha = 0.2\n",
    "\n",
    "#查看参数\n"
   ]
  },
  {
   "cell_type": "code",
   "execution_count": 12,
   "metadata": {},
   "outputs": [],
   "source": [
    "alpha_list = np.linspace(0,0.05,100)\n",
    "l_theta = []"
   ]
  },
  {
   "cell_type": "code",
   "execution_count": 36,
   "metadata": {},
   "outputs": [],
   "source": [
    "# 房屋数据集\n",
    "\n",
    "import numpy as np\n",
    "import pandas as pd\n",
    "from sklearn.linear_model import Ridge, LinearRegression, Lasso\n",
    "from sklearn.model_selection import cross_val_score\n",
    "from sklearn.model_selection import train_test_split\n",
    "from sklearn.datasets import fetch_california_housing as fch\n",
    "import matplotlib.pyplot as plt\n",
    "\n",
    "housevalue = fch()\n",
    "\n",
    "X = pd.DataFrame(housevalue.data)\n",
    "y = housevalue.target\n",
    "X.columns = [\"住户收入中位数\",\"房屋使用年代中位数\",\"平均房间数目\"\n",
    "            ,\"平均卧室数目\",\"街区人口\",\"平均入住率\",\"街区的纬度\",\"街区的经度\"]"
   ]
  },
  {
   "cell_type": "code",
   "execution_count": null,
   "metadata": {},
   "outputs": [],
   "source": [
    "# 切分数据集\n",
    "Xtrain,Xtest,Ytrain,Ytest = train_test_split(X,y,test_size=0.3,random_state=420)"
   ]
  },
  {
   "cell_type": "code",
   "execution_count": null,
   "metadata": {},
   "outputs": [],
   "source": []
  },
  {
   "cell_type": "code",
   "execution_count": null,
   "metadata": {},
   "outputs": [],
   "source": []
  },
  {
   "cell_type": "code",
   "execution_count": null,
   "metadata": {},
   "outputs": [],
   "source": []
  }
 ],
 "metadata": {
  "kernelspec": {
   "display_name": "Python 3",
   "language": "python",
   "name": "python3"
  },
  "language_info": {
   "codemirror_mode": {
    "name": "ipython",
    "version": 3
   },
   "file_extension": ".py",
   "mimetype": "text/x-python",
   "name": "python",
   "nbconvert_exporter": "python",
   "pygments_lexer": "ipython3",
   "version": "3.7.4"
  }
 },
 "nbformat": 4,
 "nbformat_minor": 4
}
