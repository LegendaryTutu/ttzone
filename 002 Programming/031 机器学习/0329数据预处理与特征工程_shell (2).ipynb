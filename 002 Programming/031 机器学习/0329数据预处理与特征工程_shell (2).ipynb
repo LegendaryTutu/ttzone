{
 "cells": [
  {
   "cell_type": "code",
   "execution_count": 1,
   "metadata": {},
   "outputs": [],
   "source": [
    "# 数据无量纲化\n",
    "\n",
    "data = [[-1, 2], [-0.5, 6], [0, 10], [1, 18]]\n",
    "import numpy as np\n",
    "X = np.array(data)"
   ]
  },
  {
   "cell_type": "code",
   "execution_count": 2,
   "metadata": {},
   "outputs": [
    {
     "data": {
      "text/plain": [
       "array([[-1. ,  2. ],\n",
       "       [-0.5,  6. ],\n",
       "       [ 0. , 10. ],\n",
       "       [ 1. , 18. ]])"
      ]
     },
     "execution_count": 2,
     "metadata": {},
     "output_type": "execute_result"
    }
   ],
   "source": [
    "X"
   ]
  },
  {
   "cell_type": "code",
   "execution_count": 9,
   "metadata": {},
   "outputs": [
    {
     "data": {
      "text/plain": [
       "array([[0.  , 0.  ],\n",
       "       [0.25, 0.25],\n",
       "       [0.5 , 0.5 ],\n",
       "       [1.  , 1.  ]])"
      ]
     },
     "execution_count": 9,
     "metadata": {},
     "output_type": "execute_result"
    }
   ],
   "source": [
    "(X - X.min(axis = 0))/(X.max(axis = 0) - X.min(axis = 0))"
   ]
  },
  {
   "cell_type": "code",
   "execution_count": 10,
   "metadata": {},
   "outputs": [
    {
     "data": {
      "text/plain": [
       "array([[0.  , 0.  ],\n",
       "       [0.25, 0.25],\n",
       "       [0.5 , 0.5 ],\n",
       "       [1.  , 1.  ]])"
      ]
     },
     "execution_count": 10,
     "metadata": {},
     "output_type": "execute_result"
    }
   ],
   "source": [
    "# 归一化\n",
    "from sklearn.preprocessing import MinMaxScaler\n",
    "mms = MinMaxScaler().fit(X)\n",
    "mms.transform(X)"
   ]
  },
  {
   "cell_type": "code",
   "execution_count": 12,
   "metadata": {},
   "outputs": [
    {
     "data": {
      "text/plain": [
       "array([[-1.18321596, -1.18321596],\n",
       "       [-0.50709255, -0.50709255],\n",
       "       [ 0.16903085,  0.16903085],\n",
       "       [ 1.52127766,  1.52127766]])"
      ]
     },
     "execution_count": 12,
     "metadata": {},
     "output_type": "execute_result"
    }
   ],
   "source": [
    "# 标准化\n",
    "(X - X.mean(axis = 0))/X.std(axis = 0)"
   ]
  },
  {
   "cell_type": "code",
   "execution_count": 13,
   "metadata": {},
   "outputs": [
    {
     "data": {
      "text/plain": [
       "array([[-1.18321596, -1.18321596],\n",
       "       [-0.50709255, -0.50709255],\n",
       "       [ 0.16903085,  0.16903085],\n",
       "       [ 1.52127766,  1.52127766]])"
      ]
     },
     "execution_count": 13,
     "metadata": {},
     "output_type": "execute_result"
    }
   ],
   "source": [
    "from sklearn.preprocessing import StandardScaler\n",
    "std = StandardScaler().fit(X)\n",
    "std.transform(X)"
   ]
  },
  {
   "cell_type": "code",
   "execution_count": 19,
   "metadata": {},
   "outputs": [],
   "source": [
    "# 先归一，再标准\n",
    "# StandardScaler().fit_transform(MinMaxScaler().fit_transform(X))\n",
    "# MinMaxScaler().fit_transform(StandardScaler().fit_transform(X))"
   ]
  },
  {
   "cell_type": "code",
   "execution_count": 21,
   "metadata": {},
   "outputs": [],
   "source": [
    "# 1.生成100个随机数\n",
    "# 2.绘制这100个数的直方图\n",
    "# 3.对数据进行标准化处理\n",
    "# 4.再次绘制标准化处理过后的直方图\n",
    "\n",
    "import matplotlib.pyplot as plt "
   ]
  },
  {
   "cell_type": "code",
   "execution_count": 28,
   "metadata": {},
   "outputs": [
    {
     "data": {
      "text/plain": [
       "(array([11.,  6.,  9., 12.,  7., 13., 12., 10., 10., 10.]),\n",
       " array([0.00217928, 0.10191439, 0.20164949, 0.3013846 , 0.4011197 ,\n",
       "        0.50085481, 0.60058991, 0.70032502, 0.80006012, 0.89979523,\n",
       "        0.99953033]),\n",
       " <a list of 10 Patch objects>)"
      ]
     },
     "execution_count": 28,
     "metadata": {},
     "output_type": "execute_result"
    },
    {
     "data": {
      "image/png": "[encoded data removed]",
      "text/plain": [
       "<Figure size 432x288 with 1 Axes>"
      ]
     },
     "metadata": {
      "needs_background": "light"
     },
     "output_type": "display_data"
    }
   ],
   "source": [
    "# 查看分布\n",
    "\n",
    "a = np.random.rand(100)\n",
    "plt.hist(a)"
   ]
  },
  {
   "cell_type": "code",
   "execution_count": 29,
   "metadata": {},
   "outputs": [
    {
     "data": {
      "text/plain": [
       "(array([11.,  6.,  9., 12.,  7., 13., 12., 10., 10., 10.]),\n",
       " array([-1.7902438 , -1.44302961, -1.09581542, -0.74860123, -0.40138704,\n",
       "        -0.05417285,  0.29304134,  0.64025552,  0.98746971,  1.3346839 ,\n",
       "         1.68189809]),\n",
       " <a list of 10 Patch objects>)"
      ]
     },
     "execution_count": 29,
     "metadata": {},
     "output_type": "execute_result"
    },
    {
     "data": {
      "image/png": "[encoded data removed]",
      "text/plain": [
       "<Figure size 432x288 with 1 Axes>"
      ]
     },
     "metadata": {
      "needs_background": "light"
     },
     "output_type": "display_data"
    }
   ],
   "source": [
    "# 做完标准化之后查看分布\n",
    "\n",
    "std = StandardScaler().fit(a.reshape(-1,1))\n",
    "stda = std.transform(a.reshape(-1,1))\n",
    "plt.hist(stda)"
   ]
  },
  {
   "cell_type": "code",
   "execution_count": 30,
   "metadata": {},
   "outputs": [
    {
     "data": {
      "text/plain": [
       "(array([11.,  6.,  9., 12.,  7., 13., 12., 10., 10., 10.]),\n",
       " array([0. , 0.1, 0.2, 0.3, 0.4, 0.5, 0.6, 0.7, 0.8, 0.9, 1. ]),\n",
       " <a list of 10 Patch objects>)"
      ]
     },
     "execution_count": 30,
     "metadata": {},
     "output_type": "execute_result"
    },
    {
     "data": {
      "image/png": "[encoded data removed]",
      "text/plain": [
       "<Figure size 432x288 with 1 Axes>"
      ]
     },
     "metadata": {
      "needs_background": "light"
     },
     "output_type": "display_data"
    }
   ],
   "source": [
    "# 做归一化之后，分布式是否变化\n",
    "mms = MinMaxScaler().fit(a.reshape(-1,1))\n",
    "mmsa = mms.transform(a.reshape(-1,1))\n",
    "plt.hist(mmsa)"
   ]
  },
  {
   "cell_type": "code",
   "execution_count": 26,
   "metadata": {},
   "outputs": [
    {
     "data": {
      "text/html": [
       "<div>\n",
       "<style scoped>\n",
       "    .dataframe tbody tr th:only-of-type {\n",
       "        vertical-align: middle;\n",
       "    }\n",
       "\n",
       "    .dataframe tbody tr th {\n",
       "        vertical-align: top;\n",
       "    }\n",
       "\n",
       "    .dataframe thead th {\n",
       "        text-align: right;\n",
       "    }\n",
       "</style>\n",
       "<table border=\"1\" class=\"dataframe\">\n",
       "  <thead>\n",
       "    <tr style=\"text-align: right;\">\n",
       "      <th></th>\n",
       "      <th>Age</th>\n",
       "      <th>Sex</th>\n",
       "      <th>Embarked</th>\n",
       "      <th>Survived</th>\n",
       "    </tr>\n",
       "  </thead>\n",
       "  <tbody>\n",
       "    <tr>\n",
       "      <td>0</td>\n",
       "      <td>22.0</td>\n",
       "      <td>male</td>\n",
       "      <td>S</td>\n",
       "      <td>No</td>\n",
       "    </tr>\n",
       "    <tr>\n",
       "      <td>1</td>\n",
       "      <td>38.0</td>\n",
       "      <td>female</td>\n",
       "      <td>C</td>\n",
       "      <td>Yes</td>\n",
       "    </tr>\n",
       "    <tr>\n",
       "      <td>2</td>\n",
       "      <td>26.0</td>\n",
       "      <td>female</td>\n",
       "      <td>S</td>\n",
       "      <td>Yes</td>\n",
       "    </tr>\n",
       "    <tr>\n",
       "      <td>3</td>\n",
       "      <td>35.0</td>\n",
       "      <td>female</td>\n",
       "      <td>S</td>\n",
       "      <td>Yes</td>\n",
       "    </tr>\n",
       "    <tr>\n",
       "      <td>4</td>\n",
       "      <td>35.0</td>\n",
       "      <td>male</td>\n",
       "      <td>S</td>\n",
       "      <td>No</td>\n",
       "    </tr>\n",
       "    <tr>\n",
       "      <td>...</td>\n",
       "      <td>...</td>\n",
       "      <td>...</td>\n",
       "      <td>...</td>\n",
       "      <td>...</td>\n",
       "    </tr>\n",
       "    <tr>\n",
       "      <td>886</td>\n",
       "      <td>27.0</td>\n",
       "      <td>male</td>\n",
       "      <td>S</td>\n",
       "      <td>No</td>\n",
       "    </tr>\n",
       "    <tr>\n",
       "      <td>887</td>\n",
       "      <td>19.0</td>\n",
       "      <td>female</td>\n",
       "      <td>S</td>\n",
       "      <td>Yes</td>\n",
       "    </tr>\n",
       "    <tr>\n",
       "      <td>888</td>\n",
       "      <td>NaN</td>\n",
       "      <td>female</td>\n",
       "      <td>S</td>\n",
       "      <td>No</td>\n",
       "    </tr>\n",
       "    <tr>\n",
       "      <td>889</td>\n",
       "      <td>26.0</td>\n",
       "      <td>male</td>\n",
       "      <td>C</td>\n",
       "      <td>Unknown</td>\n",
       "    </tr>\n",
       "    <tr>\n",
       "      <td>890</td>\n",
       "      <td>32.0</td>\n",
       "      <td>male</td>\n",
       "      <td>Q</td>\n",
       "      <td>No</td>\n",
       "    </tr>\n",
       "  </tbody>\n",
       "</table>\n",
       "<p>891 rows × 4 columns</p>\n",
       "</div>"
      ],
      "text/plain": [
       "      Age     Sex Embarked Survived\n",
       "0    22.0    male        S       No\n",
       "1    38.0  female        C      Yes\n",
       "2    26.0  female        S      Yes\n",
       "3    35.0  female        S      Yes\n",
       "4    35.0    male        S       No\n",
       "..    ...     ...      ...      ...\n",
       "886  27.0    male        S       No\n",
       "887  19.0  female        S      Yes\n",
       "888   NaN  female        S       No\n",
       "889  26.0    male        C  Unknown\n",
       "890  32.0    male        Q       No\n",
       "\n",
       "[891 rows x 4 columns]"
      ]
     },
     "execution_count": 26,
     "metadata": {},
     "output_type": "execute_result"
    }
   ],
   "source": [
    "# 缺失值的处理\n",
    "import numpy as np\n",
    "import pandas as pd\n",
    "data = pd.read_csv(\"Narrativedata.csv\")\n",
    "data"
   ]
  },
  {
   "cell_type": "code",
   "execution_count": 27,
   "metadata": {},
   "outputs": [
    {
     "data": {
      "text/plain": [
       "Age         0.198653\n",
       "Sex         0.000000\n",
       "Embarked    0.002245\n",
       "Survived    0.000000\n",
       "dtype: float64"
      ]
     },
     "execution_count": 27,
     "metadata": {},
     "output_type": "execute_result"
    }
   ],
   "source": [
    "#查看缺失值\n",
    "#data.info()\n",
    "\n",
    "#Tips:缺失值比例\n",
    "data.isna().mean()"
   ]
  },
  {
   "cell_type": "code",
   "execution_count": 28,
   "metadata": {},
   "outputs": [
    {
     "data": {
      "text/plain": [
       "No         486\n",
       "Yes        310\n",
       "Unknown     95\n",
       "Name: Survived, dtype: int64"
      ]
     },
     "execution_count": 28,
     "metadata": {},
     "output_type": "execute_result"
    }
   ],
   "source": [
    "# 有的列里面虽然是没有np.nan,但是很可能当前缺失值是以字符串的形式存在数据里面\n",
    "# 单独将这一列拿出来，做一个value_counts的动作\n",
    "data['Survived'].value_counts()"
   ]
  },
  {
   "cell_type": "code",
   "execution_count": 29,
   "metadata": {},
   "outputs": [
    {
     "data": {
      "text/plain": [
       "male      577\n",
       "female    314\n",
       "Name: Sex, dtype: int64"
      ]
     },
     "execution_count": 29,
     "metadata": {},
     "output_type": "execute_result"
    }
   ],
   "source": [
    "data['Sex'].value_counts()"
   ]
  },
  {
   "cell_type": "code",
   "execution_count": 30,
   "metadata": {},
   "outputs": [],
   "source": [
    "# 加入数据集当中有多个连续特征需要进行空缺值填补，可以select_dtypes的形式，一并将这些特征全部筛选出来\n",
    "# 当前筛选出来的特数据已经是一个二维数组。可以直接放入于sklearn的preprocessing包里面去\n",
    "# data['Age2'] = 3\n",
    "\n",
    "# con_features = data.select_dtypes(['float', 'int'])\n",
    "# SimpleImputer(strategy = 'median').fit_transform(con_features)"
   ]
  },
  {
   "cell_type": "code",
   "execution_count": 31,
   "metadata": {},
   "outputs": [],
   "source": [
    "# 使用SimpleImputer\n",
    "from sklearn.impute import SimpleImputer\n",
    "\n",
    "# 使用中位数填补Age\n",
    "Age = data['Age'].values.reshape(-1, 1)      # 0329期，李勣，可以使用mat. T的方法加入SimpleImputer\n",
    "imp_median = SimpleImputer(strategy = 'median').fit(Age)\n",
    "data['Age'] = imp_median.transform(Age)\n",
    "\n",
    "# 如果想用常数来填补空缺值的话，策略参数为constant,并且和fill_value一起使用，指定想填补常数\n",
    "# SimpleImputer(strategy = 'constant', fill_value = 0)     #fillna(0)\n",
    "\n",
    "# 使用众数填补Embarked\n",
    "Embarked = data['Embarked'].values.reshape(-1,1)\n",
    "imp_freq = SimpleImputer(strategy = 'most_frequent').fit(Embarked)\n",
    "data['Embarked'] = imp_freq.transform(Embarked)\n",
    "\n",
    "# 对Y值进行空缺值填补\n",
    "Survived = data['Survived'].values.reshape(-1, 1)\n",
    "imp_s = SimpleImputer(missing_values = 'Unknown', strategy = 'most_frequent').fit(Survived)\n",
    "data['Survived'] = imp_s.transform(Survived)"
   ]
  },
  {
   "cell_type": "code",
   "execution_count": 32,
   "metadata": {},
   "outputs": [],
   "source": [
    "# 编码与哑变量\n",
    "\n",
    "# preprocessing.LabelEncoder：标签专用，能够将分类转换为分类数值\n",
    "from sklearn.preprocessing import LabelEncoder\n",
    "y = data['Survived']     # 不必要进行reshape,转换二维数组的形式\n",
    "le = LabelEncoder().fit(y)\n",
    "data['Survived'] = le.transform(y)"
   ]
  },
  {
   "cell_type": "code",
   "execution_count": 33,
   "metadata": {},
   "outputs": [],
   "source": [
    "# 想写出一种代码，自动化的判断当前这个一列下面的离散的类别，自动生成replace可以用到的做编码的字典，从而对任意一个数据，都可以自动化的完成编码的操作\n",
    "# d = data['Sex'].value_counts()\n",
    "# data['Sex'].replace(pd.Series(range(len(d)), index = d.index))"
   ]
  },
  {
   "cell_type": "code",
   "execution_count": 34,
   "metadata": {},
   "outputs": [
    {
     "data": {
      "text/html": [
       "<div>\n",
       "<style scoped>\n",
       "    .dataframe tbody tr th:only-of-type {\n",
       "        vertical-align: middle;\n",
       "    }\n",
       "\n",
       "    .dataframe tbody tr th {\n",
       "        vertical-align: top;\n",
       "    }\n",
       "\n",
       "    .dataframe thead th {\n",
       "        text-align: right;\n",
       "    }\n",
       "</style>\n",
       "<table border=\"1\" class=\"dataframe\">\n",
       "  <thead>\n",
       "    <tr style=\"text-align: right;\">\n",
       "      <th></th>\n",
       "      <th>Age</th>\n",
       "      <th>Sex</th>\n",
       "      <th>Embarked</th>\n",
       "      <th>Survived</th>\n",
       "    </tr>\n",
       "  </thead>\n",
       "  <tbody>\n",
       "    <tr>\n",
       "      <td>0</td>\n",
       "      <td>22.0</td>\n",
       "      <td>male</td>\n",
       "      <td>S</td>\n",
       "      <td>0</td>\n",
       "    </tr>\n",
       "    <tr>\n",
       "      <td>1</td>\n",
       "      <td>38.0</td>\n",
       "      <td>female</td>\n",
       "      <td>C</td>\n",
       "      <td>1</td>\n",
       "    </tr>\n",
       "    <tr>\n",
       "      <td>2</td>\n",
       "      <td>26.0</td>\n",
       "      <td>female</td>\n",
       "      <td>S</td>\n",
       "      <td>1</td>\n",
       "    </tr>\n",
       "    <tr>\n",
       "      <td>3</td>\n",
       "      <td>35.0</td>\n",
       "      <td>female</td>\n",
       "      <td>S</td>\n",
       "      <td>1</td>\n",
       "    </tr>\n",
       "    <tr>\n",
       "      <td>4</td>\n",
       "      <td>35.0</td>\n",
       "      <td>male</td>\n",
       "      <td>S</td>\n",
       "      <td>0</td>\n",
       "    </tr>\n",
       "  </tbody>\n",
       "</table>\n",
       "</div>"
      ],
      "text/plain": [
       "    Age     Sex Embarked  Survived\n",
       "0  22.0    male        S         0\n",
       "1  38.0  female        C         1\n",
       "2  26.0  female        S         1\n",
       "3  35.0  female        S         1\n",
       "4  35.0    male        S         0"
      ]
     },
     "execution_count": 34,
     "metadata": {},
     "output_type": "execute_result"
    }
   ],
   "source": [
    "data.head()"
   ]
  },
  {
   "cell_type": "code",
   "execution_count": 35,
   "metadata": {},
   "outputs": [
    {
     "data": {
      "text/plain": [
       "array([[1., 2.],\n",
       "       [0., 0.],\n",
       "       [0., 2.],\n",
       "       ...,\n",
       "       [0., 2.],\n",
       "       [1., 0.],\n",
       "       [1., 1.]])"
      ]
     },
     "execution_count": 35,
     "metadata": {},
     "output_type": "execute_result"
    }
   ],
   "source": [
    "# preprocessing.OrdinalEncoder：特征专用，能够将离散特征转换为分类数值\n",
    "from sklearn.preprocessing import OrdinalEncoder\n",
    "\n",
    "data_ = data[['Sex', 'Embarked']]\n",
    "data_\n",
    "\n",
    "oe = OrdinalEncoder().fit(data_)\n",
    "sex_embarked = oe.transform(data_)\n",
    "\n",
    "# 0301期张传鹏， 使用pd.factorize\n",
    "#data_.apply(lambda col : pd.factorize(col)[0], axis = 0)\n",
    "\n",
    "sex_embarked"
   ]
  },
  {
   "cell_type": "code",
   "execution_count": 36,
   "metadata": {},
   "outputs": [
    {
     "data": {
      "text/plain": [
       "[array(['female', 'male'], dtype=object), array(['C', 'Q', 'S'], dtype=object)]"
      ]
     },
     "execution_count": 36,
     "metadata": {},
     "output_type": "execute_result"
    }
   ],
   "source": [
    "# 如何知道转换之后，每一个编码它代表的是原来什么值\n",
    "oe.categories_"
   ]
  },
  {
   "cell_type": "code",
   "execution_count": 41,
   "metadata": {},
   "outputs": [],
   "source": [
    "# preprocessing.OneHotEncoder：独热编码，创建哑变量\n",
    "data_ = data[['Sex', 'Embarked']]\n",
    "\n",
    "from sklearn.preprocessing import OneHotEncoder\n",
    "onehot = OneHotEncoder().fit(data_)\n",
    "one_hot_results = onehot.transform(data_).toarray()"
   ]
  },
  {
   "cell_type": "code",
   "execution_count": 44,
   "metadata": {},
   "outputs": [
    {
     "data": {
      "text/plain": [
       "[array(['female', 'male'], dtype=object), array(['C', 'Q', 'S'], dtype=object)]"
      ]
     },
     "execution_count": 44,
     "metadata": {},
     "output_type": "execute_result"
    }
   ],
   "source": [
    "onehot.categories_"
   ]
  },
  {
   "cell_type": "code",
   "execution_count": 42,
   "metadata": {},
   "outputs": [
    {
     "data": {
      "text/plain": [
       "array([[0., 1., 0., 0., 1.],\n",
       "       [1., 0., 1., 0., 0.],\n",
       "       [1., 0., 0., 0., 1.],\n",
       "       ...,\n",
       "       [1., 0., 0., 0., 1.],\n",
       "       [0., 1., 1., 0., 0.],\n",
       "       [0., 1., 0., 1., 0.]])"
      ]
     },
     "execution_count": 42,
     "metadata": {},
     "output_type": "execute_result"
    }
   ],
   "source": [
    "one_hot_results"
   ]
  },
  {
   "cell_type": "code",
   "execution_count": 48,
   "metadata": {},
   "outputs": [
    {
     "data": {
      "text/plain": [
       "array(['Sex_female', 'Sex_male', 'Embarked_C', 'Embarked_Q', 'Embarked_S'],\n",
       "      dtype=object)"
      ]
     },
     "execution_count": 48,
     "metadata": {},
     "output_type": "execute_result"
    }
   ],
   "source": [
    "np.append(*features + onehot.categories_)"
   ]
  },
  {
   "cell_type": "code",
   "execution_count": 49,
   "metadata": {},
   "outputs": [],
   "source": [
    "# 尝试将features给提取出来\n",
    "features = np.array(['Sex', 'Embarked'])\n",
    "\n",
    "# 尝试在features里面每个元素的后面加上_,用于区分\n",
    "features = np.array([i + '_' for i in features])\n",
    "\n",
    "# 尝试将categories_提取出来准备做新数据的列名\n",
    "one_hot_features = np.array(onehot.categories_)\n",
    "\n",
    "# 使用feaures + one_hot_features借助numpy广播的形式来将Sex_后面加上其所有的类别，Embarked_后面加上其所有的类别\n",
    "nest_features = features + one_hot_features\n",
    "\n",
    "# 使用np.append(*nest_features)将数据集里所有的元素全部追加在一起形成干净的colnames\n",
    "colnames = np.append(*nest_features)"
   ]
  },
  {
   "cell_type": "code",
   "execution_count": 78,
   "metadata": {},
   "outputs": [],
   "source": [
    "# 将onehot_result做成dataframe，并且添加上这个是正确的原始的列名\n",
    "one_hot_df = pd.DataFrame(one_hot_results, columns = colnames)\n",
    "\n",
    "# 用pd.concat进行拼接\n",
    "data_new = pd.concat([data, one_hot_df], axis = 1)"
   ]
  },
  {
   "cell_type": "code",
   "execution_count": 79,
   "metadata": {},
   "outputs": [
    {
     "data": {
      "text/plain": [
       "Index(['Age', 'Sex', 'Embarked', 'Survived', 'Sex_female', 'Sex_male',\n",
       "       'Embarked_C', 'Embarked_Q', 'Embarked_S'],\n",
       "      dtype='object')"
      ]
     },
     "execution_count": 79,
     "metadata": {},
     "output_type": "execute_result"
    }
   ],
   "source": [
    "data_new.columns"
   ]
  },
  {
   "cell_type": "code",
   "execution_count": 80,
   "metadata": {},
   "outputs": [
    {
     "data": {
      "text/html": [
       "<div>\n",
       "<style scoped>\n",
       "    .dataframe tbody tr th:only-of-type {\n",
       "        vertical-align: middle;\n",
       "    }\n",
       "\n",
       "    .dataframe tbody tr th {\n",
       "        vertical-align: top;\n",
       "    }\n",
       "\n",
       "    .dataframe thead th {\n",
       "        text-align: right;\n",
       "    }\n",
       "</style>\n",
       "<table border=\"1\" class=\"dataframe\">\n",
       "  <thead>\n",
       "    <tr style=\"text-align: right;\">\n",
       "      <th></th>\n",
       "      <th>Age</th>\n",
       "      <th>Sex_female</th>\n",
       "      <th>Sex_male</th>\n",
       "      <th>Embarked_C</th>\n",
       "      <th>Embarked_Q</th>\n",
       "      <th>Embarked_S</th>\n",
       "      <th>Survived</th>\n",
       "    </tr>\n",
       "  </thead>\n",
       "  <tbody>\n",
       "    <tr>\n",
       "      <td>0</td>\n",
       "      <td>22.0</td>\n",
       "      <td>0.0</td>\n",
       "      <td>1.0</td>\n",
       "      <td>0.0</td>\n",
       "      <td>0.0</td>\n",
       "      <td>1.0</td>\n",
       "      <td>0</td>\n",
       "    </tr>\n",
       "    <tr>\n",
       "      <td>1</td>\n",
       "      <td>38.0</td>\n",
       "      <td>1.0</td>\n",
       "      <td>0.0</td>\n",
       "      <td>1.0</td>\n",
       "      <td>0.0</td>\n",
       "      <td>0.0</td>\n",
       "      <td>1</td>\n",
       "    </tr>\n",
       "    <tr>\n",
       "      <td>2</td>\n",
       "      <td>26.0</td>\n",
       "      <td>1.0</td>\n",
       "      <td>0.0</td>\n",
       "      <td>0.0</td>\n",
       "      <td>0.0</td>\n",
       "      <td>1.0</td>\n",
       "      <td>1</td>\n",
       "    </tr>\n",
       "    <tr>\n",
       "      <td>3</td>\n",
       "      <td>35.0</td>\n",
       "      <td>1.0</td>\n",
       "      <td>0.0</td>\n",
       "      <td>0.0</td>\n",
       "      <td>0.0</td>\n",
       "      <td>1.0</td>\n",
       "      <td>1</td>\n",
       "    </tr>\n",
       "    <tr>\n",
       "      <td>4</td>\n",
       "      <td>35.0</td>\n",
       "      <td>0.0</td>\n",
       "      <td>1.0</td>\n",
       "      <td>0.0</td>\n",
       "      <td>0.0</td>\n",
       "      <td>1.0</td>\n",
       "      <td>0</td>\n",
       "    </tr>\n",
       "  </tbody>\n",
       "</table>\n",
       "</div>"
      ],
      "text/plain": [
       "    Age  Sex_female  Sex_male  Embarked_C  Embarked_Q  Embarked_S  Survived\n",
       "0  22.0         0.0       1.0         0.0         0.0         1.0         0\n",
       "1  38.0         1.0       0.0         1.0         0.0         0.0         1\n",
       "2  26.0         1.0       0.0         0.0         0.0         1.0         1\n",
       "3  35.0         1.0       0.0         0.0         0.0         1.0         1\n",
       "4  35.0         0.0       1.0         0.0         0.0         1.0         0"
      ]
     },
     "execution_count": 80,
     "metadata": {},
     "output_type": "execute_result"
    }
   ],
   "source": [
    "# 将当前的data中列名里的标签给pop出来，用lable变量接住\n",
    "data_new = data_new.drop(['Sex', 'Embarked'], axis = 1)\n",
    "\n",
    "# 使用pandas的reindex的方式来按col_name重新排序列名\n",
    "data_new = data_new.reindex(['Age', 'Sex_female', 'Sex_male','Embarked_C', 'Embarked_Q', 'Embarked_S', 'Survived'], axis = 1)\n",
    "data_new.head()"
   ]
  },
  {
   "cell_type": "code",
   "execution_count": 62,
   "metadata": {},
   "outputs": [],
   "source": [
    "#from sklearn.impute import KNNImputer\n",
    "#from missingpy import KNNImputer, MissForest"
   ]
  },
  {
   "cell_type": "code",
   "execution_count": 83,
   "metadata": {},
   "outputs": [
    {
     "data": {
      "text/plain": [
       "0.7273033707865169"
      ]
     },
     "execution_count": 83,
     "metadata": {},
     "output_type": "execute_result"
    }
   ],
   "source": [
    "from sklearn.ensemble import RandomForestClassifier\n",
    "from sklearn.model_selection import cross_val_score, train_test_split\n",
    "X = data_new.iloc[:, :-1]\n",
    "Y = data_new.iloc[:, -1]\n",
    "Xtrain, Xtest, Ytrain, Ytest = train_test_split(X, Y, test_size = 0.3)\n",
    "rfc = RandomForestClassifier(n_estimators = 100).fit(Xtrain, Ytrain)\n",
    "#rfc.score(Xtrain, Ytrain), rfc.score(Xtest, Ytest)\n",
    "cross_val_score(rfc, X, Y, cv = 10).mean()"
   ]
  },
  {
   "cell_type": "code",
   "execution_count": 87,
   "metadata": {},
   "outputs": [],
   "source": [
    "# 处理连续型特征：二值化与分段\n",
    "# sklearn.preprocessing.Binarizer：根据阈值将数据二值化，特征专用\n",
    "\n",
    "# 首先提取出当前的age这一列，一般做预处理，如果只是对一列进行转换的话，需要做reshape的动作，将一个维数据转换成竖着的形式的二维数据\n",
    "\n",
    "from sklearn.preprocessing import Binarizer\n",
    "# 实例化并且转换\n",
    "Age = data['Age'].values.reshape(-1, 1)\n",
    "bin_age = Binarizer(threshold = 30).fit(Age)\n",
    "binary_age = bin_age.transform(Age)"
   ]
  },
  {
   "cell_type": "code",
   "execution_count": 102,
   "metadata": {},
   "outputs": [
    {
     "data": {
      "text/plain": [
       "array([[0., 1., 0., 0.],\n",
       "       [0., 1., 0., 0.],\n",
       "       [0., 1., 0., 0.],\n",
       "       ...,\n",
       "       [0., 1., 0., 0.],\n",
       "       [0., 1., 0., 0.],\n",
       "       [0., 1., 0., 0.]])"
      ]
     },
     "execution_count": 102,
     "metadata": {},
     "output_type": "execute_result"
    }
   ],
   "source": [
    "# preprocessing.KBinsDiscretizer：将连续变量划分为离散变量\n",
    "from sklearn.preprocessing import KBinsDiscretizer\n",
    "kb_age = KBinsDiscretizer(n_bins = 4, encode = 'onehot', strategy = 'uniform').fit(Age)\n",
    "kb_age.transform(Age).toarray()\n",
    "#"
   ]
  },
  {
   "cell_type": "code",
   "execution_count": 101,
   "metadata": {},
   "outputs": [],
   "source": [
    "# a = np.array([1,3,3,3,3,3,4,6,10]).reshape(-1,1)\n",
    "\n",
    "#KBinsDiscretizer(n_bins = 3, encode = 'ordinal', strategy = 'kmeans').fit_transform(a)"
   ]
  },
  {
   "cell_type": "code",
   "execution_count": 213,
   "metadata": {},
   "outputs": [
    {
     "name": "stdout",
     "output_type": "stream",
     "text": [
      "(42000, 785)\n"
     ]
    },
    {
     "data": {
      "text/plain": [
       "(42000, 392)"
      ]
     },
     "execution_count": 213,
     "metadata": {},
     "output_type": "execute_result"
    }
   ],
   "source": [
    "# 特征选择\n",
    "import pandas as pd\n",
    "import numpy as np\n",
    "data = pd.read_csv('digit recognizor.csv')\n",
    "\n",
    "X = data.iloc[:, 1:]\n",
    "Y = data.iloc[:, 0]\n",
    "print(data.shape)\n",
    "\n",
    "\n",
    "# filter过滤法¶\n",
    "\n",
    "# 方差过滤\n",
    "from sklearn.feature_selection import VarianceThreshold\n",
    "VTS = VarianceThreshold(threshold = X.var().median()).fit(X)\n",
    "X_fsvar = VTS.transform(X)\n",
    "\n",
    "X_fsvar.shape\n",
    "\n",
    "# 将特征减少一半\n",
    "\n",
    "\n",
    "# get_support"
   ]
  },
  {
   "cell_type": "code",
   "execution_count": 120,
   "metadata": {},
   "outputs": [],
   "source": [
    "# from sklearn.neighbors import KNeighborsClassifier\n",
    "\n",
    "# knn = KNeighborsClassifier(k = 5)\n",
    "# cross_val_score(knn, X_fsvar, Y, cv = 5).mean()"
   ]
  },
  {
   "cell_type": "code",
   "execution_count": 123,
   "metadata": {},
   "outputs": [
    {
     "data": {
      "text/plain": [
       "0.9374523809523809"
      ]
     },
     "execution_count": 123,
     "metadata": {},
     "output_type": "execute_result"
    }
   ],
   "source": [
    "# 没有做方差过滤之前的交叉验证的分数\n",
    "from sklearn.ensemble import RandomForestClassifier\n",
    "\n",
    "rfc = RandomForestClassifier(n_estimators = 10)\n",
    "cross_val_score(rfc, X, Y, cv = 5).mean()"
   ]
  },
  {
   "cell_type": "code",
   "execution_count": 125,
   "metadata": {},
   "outputs": [
    {
     "data": {
      "text/plain": [
       "0.9394047619047619"
      ]
     },
     "execution_count": 125,
     "metadata": {},
     "output_type": "execute_result"
    }
   ],
   "source": [
    "# 没有做方差过滤之前的交叉验证的分数\n",
    "from sklearn.ensemble import RandomForestClassifier\n",
    "\n",
    "rfc = RandomForestClassifier(n_estimators = 10)\n",
    "cross_val_score(rfc, X_fsvar, Y, cv = 5).mean()"
   ]
  },
  {
   "cell_type": "code",
   "execution_count": 128,
   "metadata": {},
   "outputs": [],
   "source": [
    "# 因为3中随机:\n",
    "# 1. 在bootstrap,进行了有放回的随机采样，想象成对数据集做行的随机提取，这样子的话就形成了n个采样集\n",
    "# 2. 对于每一个采样集来说，又进行了列的随机的提取, 很可能只提取了10几个特征\n",
    "# 3. 每一个完成的采样集来说，我们使用树模型拟合数据的过程当中，会通过randomsate来树随机性"
   ]
  },
  {
   "cell_type": "code",
   "execution_count": 133,
   "metadata": {},
   "outputs": [
    {
     "data": {
      "text/plain": [
       "0.9339761904761904"
      ]
     },
     "execution_count": 133,
     "metadata": {},
     "output_type": "execute_result"
    }
   ],
   "source": [
    "# 相关性过滤\n",
    "# 尝试去找每一个特征和标签之间的相关，如果非常相关的话，我就保留，因为可以这个特征来对Y做预测\n",
    "\n",
    "from sklearn.feature_selection import SelectKBest, chi2, f_classif, mutual_info_classif\n",
    "\n",
    "\n",
    "\n",
    "# 卡方检验\n",
    "X_fschi = SelectKBest(chi2, k = 300).fit_transform(X, Y)\n",
    "X_fschi.shape\n",
    "\n",
    "# 假设在这里，已知需要300个特征\n",
    "\n",
    "# 验证模型效果，使用随机森林\n",
    "\n",
    "rfc = RandomForestClassifier(n_estimators = 10)\n",
    "cross_val_score(rfc, X_fschi, Y, cv = 5).mean()"
   ]
  },
  {
   "cell_type": "code",
   "execution_count": 142,
   "metadata": {},
   "outputs": [
    {
     "name": "stderr",
     "output_type": "stream",
     "text": [
      "/Users/xiangyangni/anaconda3/lib/python3.7/site-packages/sklearn/feature_selection/_univariate_selection.py:115: UserWarning: Features [  0   1   2   3   4   5   6   7   8   9  10  11  16  17  18  19  20  21\n",
      "  22  23  24  25  26  27  28  29  30  31  52  53  54  55  56  57  82  83\n",
      "  84  85 111 112 139 140 141 168 196 392 420 421 448 476 532 560 644 645\n",
      " 671 672 673 699 700 701 727 728 729 730 731 754 755 756 757 758 759 760\n",
      " 780 781 782 783] are constant.\n",
      "  UserWarning)\n",
      "/Users/xiangyangni/anaconda3/lib/python3.7/site-packages/sklearn/feature_selection/_univariate_selection.py:116: RuntimeWarning: invalid value encountered in true_divide\n",
      "  f = msb / msw\n"
     ]
    },
    {
     "data": {
      "text/plain": [
       "0.9367857142857142"
      ]
     },
     "execution_count": 142,
     "metadata": {},
     "output_type": "execute_result"
    }
   ],
   "source": [
    "# F检验\n",
    "X_fsf = SelectKBest(f_classif, k = 300).fit_transform(X, Y)\n",
    "rfc = RandomForestClassifier(n_estimators = 10)\n",
    "cross_val_score(rfc, X_fsf, Y, cv = 5).mean()"
   ]
  },
  {
   "cell_type": "code",
   "execution_count": 18,
   "metadata": {},
   "outputs": [],
   "source": [
    "# # 互信息法\n",
    "# X_fmif= SelectKBest(mutual_info_classif, k = 300).fit_transform(X, Y)\n",
    "# rfc = RandomForestClassifier(n_estimators = 10)\n",
    "# cross_val_score(rfc, X_fmif, Y, cv = 5).mean()"
   ]
  },
  {
   "cell_type": "code",
   "execution_count": null,
   "metadata": {},
   "outputs": [],
   "source": []
  },
  {
   "cell_type": "code",
   "execution_count": 153,
   "metadata": {},
   "outputs": [],
   "source": [
    "# Embedded潜入法\n",
    "from sklearn.feature_selection import SelectFromModel\n",
    "rfc = RandomForestClassifier(n_estimators = 10, random_state = 10)\n",
    "\n",
    "X_embeded = SelectFromModel(rfc, threshold = 0.005).fit_transform(X, Y)\n",
    "X_embeded.shape\n",
    "\n",
    "cross_val_score(rfc, X_embeded, Y, cv = 5).mean()"
   ]
  },
  {
   "cell_type": "code",
   "execution_count": 170,
   "metadata": {},
   "outputs": [],
   "source": [
    "# 包装法\n",
    "\n",
    "from sklearn.feature_selection import RFE\n",
    "rfc = RandomForestClassifier(n_estimators = 10, random_state = 10)\n",
    "selector = RFE(rfc, n_features_to_select = 340, step = 50).fit(X, Y)\n",
    "X_wrapper = selector.transform(X)\n",
    "# .ranking_"
   ]
  },
  {
   "cell_type": "code",
   "execution_count": 169,
   "metadata": {},
   "outputs": [
    {
     "data": {
      "text/plain": [
       "1     340\n",
       "2      44\n",
       "3      50\n",
       "4      50\n",
       "5      50\n",
       "6      50\n",
       "7      50\n",
       "8      50\n",
       "9      50\n",
       "10     50\n",
       "dtype: int64"
      ]
     },
     "execution_count": 169,
     "metadata": {},
     "output_type": "execute_result"
    }
   ],
   "source": [
    "pd.Series(selector.ranking_).value_counts().sort_index()"
   ]
  },
  {
   "cell_type": "code",
   "execution_count": 173,
   "metadata": {},
   "outputs": [
    {
     "data": {
      "text/plain": [
       "0.9397142857142857"
      ]
     },
     "execution_count": 173,
     "metadata": {},
     "output_type": "execute_result"
    }
   ],
   "source": [
    "cross_val_score(rfc, X_wrapper, Y, cv = 5).mean()"
   ]
  },
  {
   "cell_type": "code",
   "execution_count": null,
   "metadata": {},
   "outputs": [],
   "source": []
  },
  {
   "cell_type": "code",
   "execution_count": 21,
   "metadata": {},
   "outputs": [],
   "source": [
    "# 降维方法\n",
    "\n"
   ]
  },
  {
   "cell_type": "code",
   "execution_count": 161,
   "metadata": {},
   "outputs": [
    {
     "data": {
      "text/plain": [
       "matrix([[  1,   4],\n",
       "        [  4, 100]])"
      ]
     },
     "execution_count": 161,
     "metadata": {},
     "output_type": "execute_result"
    }
   ],
   "source": [
    "a = np.mat([[1, 4],\n",
    "            [4, 100]])\n",
    "a"
   ]
  },
  {
   "cell_type": "code",
   "execution_count": 162,
   "metadata": {},
   "outputs": [
    {
     "data": {
      "text/plain": [
       "array([  0.83864682, 100.16135318])"
      ]
     },
     "execution_count": 162,
     "metadata": {},
     "output_type": "execute_result"
    }
   ],
   "source": [
    "np.linalg.eig(a)[0]"
   ]
  },
  {
   "cell_type": "code",
   "execution_count": 163,
   "metadata": {},
   "outputs": [
    {
     "data": {
      "text/plain": [
       "matrix([[-0.9991874 , -0.04030552],\n",
       "        [ 0.04030552, -0.9991874 ]])"
      ]
     },
     "execution_count": 163,
     "metadata": {},
     "output_type": "execute_result"
    }
   ],
   "source": [
    "np.linalg.eig(a)[1]"
   ]
  },
  {
   "cell_type": "code",
   "execution_count": 164,
   "metadata": {},
   "outputs": [
    {
     "data": {
      "text/plain": [
       "matrix([[1. , 0.4],\n",
       "        [0.4, 1. ]])"
      ]
     },
     "execution_count": 164,
     "metadata": {},
     "output_type": "execute_result"
    }
   ],
   "source": [
    "a = np.mat([[1, 0.4],\n",
    "            [0.4, 1]])\n",
    "a"
   ]
  },
  {
   "cell_type": "code",
   "execution_count": 165,
   "metadata": {},
   "outputs": [
    {
     "data": {
      "text/plain": [
       "array([1.4, 0.6])"
      ]
     },
     "execution_count": 165,
     "metadata": {},
     "output_type": "execute_result"
    }
   ],
   "source": [
    "np.linalg.eig(a)[0]"
   ]
  },
  {
   "cell_type": "code",
   "execution_count": 166,
   "metadata": {},
   "outputs": [
    {
     "data": {
      "text/plain": [
       "matrix([[ 0.70710678, -0.70710678],\n",
       "        [ 0.70710678,  0.70710678]])"
      ]
     },
     "execution_count": 166,
     "metadata": {},
     "output_type": "execute_result"
    }
   ],
   "source": [
    "np.linalg.eig(a)[1]"
   ]
  },
  {
   "cell_type": "code",
   "execution_count": 192,
   "metadata": {},
   "outputs": [],
   "source": [
    "# 我们首先拿到一个数据集，算出它的协方差矩阵\n",
    "from sklearn.datasets import load_iris\n",
    "from sklearn.decomposition import PCA\n",
    "\n",
    "iris = load_iris()\n",
    "X = pd.DataFrame(iris['data'])\n",
    "\n",
    "# 首先不做标准化处理"
   ]
  },
  {
   "cell_type": "code",
   "execution_count": 196,
   "metadata": {},
   "outputs": [
    {
     "data": {
      "text/html": [
       "<div>\n",
       "<style scoped>\n",
       "    .dataframe tbody tr th:only-of-type {\n",
       "        vertical-align: middle;\n",
       "    }\n",
       "\n",
       "    .dataframe tbody tr th {\n",
       "        vertical-align: top;\n",
       "    }\n",
       "\n",
       "    .dataframe thead th {\n",
       "        text-align: right;\n",
       "    }\n",
       "</style>\n",
       "<table border=\"1\" class=\"dataframe\">\n",
       "  <thead>\n",
       "    <tr style=\"text-align: right;\">\n",
       "      <th></th>\n",
       "      <th>0</th>\n",
       "      <th>1</th>\n",
       "      <th>2</th>\n",
       "      <th>3</th>\n",
       "    </tr>\n",
       "  </thead>\n",
       "  <tbody>\n",
       "    <tr>\n",
       "      <td>0</td>\n",
       "      <td>5.1</td>\n",
       "      <td>3.5</td>\n",
       "      <td>1.4</td>\n",
       "      <td>0.2</td>\n",
       "    </tr>\n",
       "    <tr>\n",
       "      <td>1</td>\n",
       "      <td>4.9</td>\n",
       "      <td>3.0</td>\n",
       "      <td>1.4</td>\n",
       "      <td>0.2</td>\n",
       "    </tr>\n",
       "    <tr>\n",
       "      <td>2</td>\n",
       "      <td>4.7</td>\n",
       "      <td>3.2</td>\n",
       "      <td>1.3</td>\n",
       "      <td>0.2</td>\n",
       "    </tr>\n",
       "  </tbody>\n",
       "</table>\n",
       "</div>"
      ],
      "text/plain": [
       "     0    1    2    3\n",
       "0  5.1  3.5  1.4  0.2\n",
       "1  4.9  3.0  1.4  0.2\n",
       "2  4.7  3.2  1.3  0.2"
      ]
     },
     "execution_count": 196,
     "metadata": {},
     "output_type": "execute_result"
    }
   ],
   "source": [
    "# 大致的观测一下X\n",
    "X.head(3)"
   ]
  },
  {
   "cell_type": "code",
   "execution_count": 198,
   "metadata": {},
   "outputs": [
    {
     "data": {
      "text/plain": [
       "array([[ 0.36138659, -0.08452251,  0.85667061,  0.3582892 ],\n",
       "       [ 0.65658877,  0.73016143, -0.17337266, -0.07548102],\n",
       "       [-0.58202985,  0.59791083,  0.07623608,  0.54583143],\n",
       "       [-0.31548719,  0.3197231 ,  0.47983899, -0.75365743]])"
      ]
     },
     "execution_count": 198,
     "metadata": {},
     "output_type": "execute_result"
    }
   ],
   "source": [
    "# 尝试看一下PCA的结果, 不设置n_components, 想通过新的特征贡献比，选择应该选多少的特征出来\n",
    "pca = PCA().fit(X)\n",
    "\n",
    "# 给PCAA的特征值\n",
    "pca.components_"
   ]
  },
  {
   "cell_type": "code",
   "execution_count": 200,
   "metadata": {},
   "outputs": [
    {
     "data": {
      "text/plain": [
       "array([4.22824171, 0.24267075, 0.0782095 , 0.02383509])"
      ]
     },
     "execution_count": 200,
     "metadata": {},
     "output_type": "execute_result"
    }
   ],
   "source": [
    "pca.explained_variance_\n",
    "\n",
    "# 这个给出的是每一个新的特征的方差，其实就是特征值\n",
    "# 上面给出的结果，每一列都一个特征向量。当前的这个结果是特征值，一个特征值对应一个特征向量\n",
    "# 特征值，特征向量，成对出现"
   ]
  },
  {
   "cell_type": "code",
   "execution_count": 189,
   "metadata": {},
   "outputs": [
    {
     "data": {
      "text/plain": [
       "array([0.92461872, 0.05306648, 0.01710261, 0.00521218])"
      ]
     },
     "execution_count": 189,
     "metadata": {},
     "output_type": "execute_result"
    }
   ],
   "source": [
    "# 重点是查看当前新的特征的一个方差比，pca.explained_variance_ / pca.explained_variance_.sum()\n",
    "# 可以通过这个ratio来尝试决定应该选取多少个特征出来\n",
    "pca.explained_variance_ratio_\n",
    "\n",
    "# 通过数字比较出，当前从新的特征当中选择出最好的2个即可"
   ]
  },
  {
   "cell_type": "code",
   "execution_count": 205,
   "metadata": {},
   "outputs": [
    {
     "data": {
      "text/plain": [
       "[<matplotlib.lines.Line2D at 0x7fdbe3206b90>]"
      ]
     },
     "execution_count": 205,
     "metadata": {},
     "output_type": "execute_result"
    },
    {
     "data": {
      "image/png": "[encoded data removed]",
      "text/plain": [
       "<Figure size 432x288 with 1 Axes>"
      ]
     },
     "metadata": {
      "needs_background": "light"
     },
     "output_type": "display_data"
    }
   ],
   "source": [
    "import matplotlib.pyplot as plt\n",
    "plt.plot(range(1,5), pca.explained_variance_ratio_)\n"
   ]
  },
  {
   "cell_type": "code",
   "execution_count": 207,
   "metadata": {},
   "outputs": [],
   "source": [
    "# 当前我们确定了选择的特征的个数的时候，就可以来设置n_component\n",
    "pca = PCA(n_components = 2).fit(X)\n",
    "\n",
    "# 最后数据就出来了\n",
    "X_final = pca.transform(X)\n"
   ]
  },
  {
   "cell_type": "code",
   "execution_count": 209,
   "metadata": {},
   "outputs": [
    {
     "data": {
      "text/plain": [
       "array([0.72962445, 0.22850762, 0.03668922, 0.00517871])"
      ]
     },
     "execution_count": 209,
     "metadata": {},
     "output_type": "execute_result"
    }
   ],
   "source": [
    "# 如果做标准化的化\n",
    "X_std = StandardScaler().fit_transform(X)\n",
    "pca = PCA().fit(X_std)\n",
    "pca.explained_variance_ratio_"
   ]
  },
  {
   "cell_type": "code",
   "execution_count": 210,
   "metadata": {},
   "outputs": [
    {
     "data": {
      "text/plain": [
       "[<matplotlib.lines.Line2D at 0x7fdbe32ea3d0>]"
      ]
     },
     "execution_count": 210,
     "metadata": {},
     "output_type": "execute_result"
    },
    {
     "data": {
      "image/png": "[encoded data removed]",
      "text/plain": [
       "<Figure size 432x288 with 1 Axes>"
      ]
     },
     "metadata": {
      "needs_background": "light"
     },
     "output_type": "display_data"
    }
   ],
   "source": [
    "# 做了标准化之后，确定n_componets应该等于3\n",
    "import matplotlib.pyplot as plt\n",
    "plt.plot(range(1,5), pca.explained_variance_ratio_)"
   ]
  },
  {
   "cell_type": "code",
   "execution_count": 211,
   "metadata": {},
   "outputs": [],
   "source": [
    "pca = PCA(n_components = 3).fit(X_std)\n",
    "X_final = pca.transform(X_std)"
   ]
  },
  {
   "cell_type": "code",
   "execution_count": 212,
   "metadata": {},
   "outputs": [],
   "source": [
    "# pca = PCA(n_components = 'mle')"
   ]
  },
  {
   "cell_type": "code",
   "execution_count": 216,
   "metadata": {},
   "outputs": [
    {
     "data": {
      "image/png": "[encoded data removed]",
      "text/plain": [
       "<Figure size 1440x360 with 1 Axes>"
      ]
     },
     "metadata": {
      "needs_background": "light"
     },
     "output_type": "display_data"
    }
   ],
   "source": [
    "# PCA对手写数据集的降维\n",
    "pca_line = PCA().fit(X)\n",
    "plt.figure(figsize=[20,5])\n",
    "plt.plot(pca_line.explained_variance_ratio_)\n",
    "plt.xlabel(\"number of components after dimension reduction\")\n",
    "plt.ylabel(\"cumulative explained variance ratio\")\n",
    "plt.show()"
   ]
  },
  {
   "cell_type": "code",
   "execution_count": 217,
   "metadata": {},
   "outputs": [
    {
     "data": {
      "text/plain": [
       "0.9125"
      ]
     },
     "execution_count": 217,
     "metadata": {},
     "output_type": "execute_result"
    }
   ],
   "source": [
    "# 从图中看出，最好的50个特征他们方差的占比，非常的大，后面的特征，方差的占比会非常的小\n",
    "# n_components可以尝试选50\n",
    "\n",
    "pca = PCA(n_components = 50).fit(X)\n",
    "X_pca_50 = pca.transform(X)\n",
    "cross_val_score(rfc, X_pca_50, Y, cv = 5).mean()"
   ]
  },
  {
   "cell_type": "code",
   "execution_count": 32,
   "metadata": {},
   "outputs": [],
   "source": [
    "#画累计方差贡献率曲线，找最佳降维后维度的范围\n"
   ]
  },
  {
   "cell_type": "code",
   "execution_count": 44,
   "metadata": {},
   "outputs": [
    {
     "data": {
      "image/png": "[encoded data removed]",
      "text/plain": [
       "<Figure size 1440x360 with 1 Axes>"
      ]
     },
     "metadata": {
      "needs_background": "light"
     },
     "output_type": "display_data"
    }
   ],
   "source": [
    "#降维后维度的学习曲线，继续缩小最佳维度的范围\n",
    "#======【TIME WARNING：2mins 30s】======#\n",
    "\n",
    "score = []\n",
    "for i in range(1,101,10):\n",
    "    X_dr = PCA(i).fit_transform(X)\n",
    "    once = cross_val_score(RFC(n_estimators=10,random_state=0)\n",
    "                           ,X_dr,y,cv=5).mean()\n",
    "    score.append(once)\n",
    "plt.figure(figsize=[20,5])\n",
    "plt.plot(range(1,101,10),score)\n",
    "plt.show()"
   ]
  },
  {
   "cell_type": "code",
   "execution_count": 221,
   "metadata": {},
   "outputs": [
    {
     "data": {
      "text/plain": [
       "0.9460714285714287"
      ]
     },
     "execution_count": 221,
     "metadata": {},
     "output_type": "execute_result"
    }
   ],
   "source": [
    "#导入找出的最佳维度进行降维，查看模型效果\n",
    "X_dr = PCA(23).fit_transform(X)\n",
    "\n",
    "#======【TIME WARNING:1mins 30s】======#\n",
    "cross_val_score(RandomForestClassifier(n_estimators=100,random_state=0),X_dr,Y,cv=5).mean()"
   ]
  },
  {
   "cell_type": "code",
   "execution_count": 218,
   "metadata": {},
   "outputs": [
    {
     "data": {
      "text/plain": [
       "0.9707006369426752"
      ]
     },
     "execution_count": 218,
     "metadata": {},
     "output_type": "execute_result"
    }
   ],
   "source": [
    "1 - 23 / 785"
   ]
  },
  {
   "cell_type": "code",
   "execution_count": null,
   "metadata": {},
   "outputs": [],
   "source": []
  }
 ],
 "metadata": {
  "kernelspec": {
   "display_name": "Python 3",
   "language": "python",
   "name": "python3"
  },
  "language_info": {
   "codemirror_mode": {
    "name": "ipython",
    "version": 3
   },
   "file_extension": ".py",
   "mimetype": "text/x-python",
   "name": "python",
   "nbconvert_exporter": "python",
   "pygments_lexer": "ipython3",
   "version": "3.7.4"
  }
 },
 "nbformat": 4,
 "nbformat_minor": 4
}
