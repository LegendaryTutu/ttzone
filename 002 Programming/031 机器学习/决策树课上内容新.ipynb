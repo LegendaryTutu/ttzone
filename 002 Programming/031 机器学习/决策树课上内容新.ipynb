{
 "cells": [
  {
   "cell_type": "code",
   "execution_count": 27,
   "metadata": {},
   "outputs": [
    {
     "data": {
      "text/html": [
       "<div>\n",
       "<style scoped>\n",
       "    .dataframe tbody tr th:only-of-type {\n",
       "        vertical-align: middle;\n",
       "    }\n",
       "\n",
       "    .dataframe tbody tr th {\n",
       "        vertical-align: top;\n",
       "    }\n",
       "\n",
       "    .dataframe thead th {\n",
       "        text-align: right;\n",
       "    }\n",
       "</style>\n",
       "<table border=\"1\" class=\"dataframe\">\n",
       "  <thead>\n",
       "    <tr style=\"text-align: right;\">\n",
       "      <th></th>\n",
       "      <th>accompany</th>\n",
       "      <th>game</th>\n",
       "      <th>education</th>\n",
       "      <th>label</th>\n",
       "    </tr>\n",
       "  </thead>\n",
       "  <tbody>\n",
       "    <tr>\n",
       "      <td>0</td>\n",
       "      <td>1</td>\n",
       "      <td>1</td>\n",
       "      <td>0</td>\n",
       "      <td>1</td>\n",
       "    </tr>\n",
       "    <tr>\n",
       "      <td>1</td>\n",
       "      <td>1</td>\n",
       "      <td>1</td>\n",
       "      <td>2</td>\n",
       "      <td>1</td>\n",
       "    </tr>\n",
       "    <tr>\n",
       "      <td>2</td>\n",
       "      <td>1</td>\n",
       "      <td>0</td>\n",
       "      <td>1</td>\n",
       "      <td>0</td>\n",
       "    </tr>\n",
       "    <tr>\n",
       "      <td>3</td>\n",
       "      <td>0</td>\n",
       "      <td>1</td>\n",
       "      <td>2</td>\n",
       "      <td>0</td>\n",
       "    </tr>\n",
       "    <tr>\n",
       "      <td>4</td>\n",
       "      <td>0</td>\n",
       "      <td>1</td>\n",
       "      <td>2</td>\n",
       "      <td>0</td>\n",
       "    </tr>\n",
       "  </tbody>\n",
       "</table>\n",
       "</div>"
      ],
      "text/plain": [
       "   accompany  game  education  label\n",
       "0          1     1          0      1\n",
       "1          1     1          2      1\n",
       "2          1     0          1      0\n",
       "3          0     1          2      0\n",
       "4          0     1          2      0"
      ]
     },
     "execution_count": 27,
     "metadata": {},
     "output_type": "execute_result"
    }
   ],
   "source": [
    "# 导入一些包\n",
    "import numpy as np\n",
    "import pandas as pd\n",
    "\n",
    "def createDataSet():\n",
    "    row_data = {'accompany':[1,1,1,0,0],\n",
    "                'game':[1,1,0,1,1],\n",
    "                'education':[0,2,1,2,2],\n",
    "                'label':[1,1,0,0,0]}\n",
    "    dataSet = pd.DataFrame(row_data)\n",
    "    return dataSet\n",
    "dataSet = createDataSet()\n",
    "dataSet"
   ]
  },
  {
   "cell_type": "code",
   "execution_count": 23,
   "metadata": {},
   "outputs": [],
   "source": [
    "def calEnt(dataSet):\n",
    "    label = dataSet.iloc[:, -1]\n",
    "    p = label.value_counts()/label.shape[0]\n",
    "    ent = (-p * np.log2(p)).sum()\n",
    "    return ent"
   ]
  },
  {
   "cell_type": "code",
   "execution_count": 24,
   "metadata": {},
   "outputs": [],
   "source": [
    "def bestSplit_silly(dataSet):\n",
    "    baseEnt = calEnt(dataSet)                                # 计算原始熵\n",
    "    bestGain = 0                                             # 初始化信息增益\n",
    "    axis = -1                                                # 初始化最佳切分列，标签列\n",
    "    for i in range(dataSet.shape[1]-1):                      # 对特征的每一列进行循环\n",
    "        levels= dataSet.iloc[:,i].value_counts().index       # 提取出当前列的所有取值\n",
    "        ents = 0                                             # 初始化子节点的信息熵\n",
    "        for j in levels:                                     # 对当前列的每一个取值进行循环\n",
    "            childSet = dataSet[dataSet.iloc[:,i]==j]         # 某一个子节点的dataframe\n",
    "            ent = calEnt(childSet)                           # 计算某一个子节点的信息熵\n",
    "            ents += (childSet.shape[0]/dataSet.shape[0])*ent # 计算当前列的信息熵\n",
    "            #print(f'第{i}列的信息熵为{ents}')\n",
    "        infoGain = baseEnt-ents                              # 计算当前列的信息增益\n",
    "        #print(f'第{i}列的信息增益为{infoGain}')\n",
    "        if (infoGain > bestGain):\n",
    "            bestGain = infoGain                              # 选择最大信息增益\n",
    "            axis = i                                         # 最大信息增益所在列的索引\n",
    "    return axis"
   ]
  },
  {
   "cell_type": "code",
   "execution_count": null,
   "metadata": {},
   "outputs": [],
   "source": []
  },
  {
   "cell_type": "code",
   "execution_count": 28,
   "metadata": {},
   "outputs": [
    {
     "data": {
      "text/html": [
       "<div>\n",
       "<style scoped>\n",
       "    .dataframe tbody tr th:only-of-type {\n",
       "        vertical-align: middle;\n",
       "    }\n",
       "\n",
       "    .dataframe tbody tr th {\n",
       "        vertical-align: top;\n",
       "    }\n",
       "\n",
       "    .dataframe thead th {\n",
       "        text-align: right;\n",
       "    }\n",
       "</style>\n",
       "<table border=\"1\" class=\"dataframe\">\n",
       "  <thead>\n",
       "    <tr style=\"text-align: right;\">\n",
       "      <th></th>\n",
       "      <th>accompany</th>\n",
       "      <th>game</th>\n",
       "      <th>education</th>\n",
       "      <th>label</th>\n",
       "    </tr>\n",
       "  </thead>\n",
       "  <tbody>\n",
       "    <tr>\n",
       "      <td>0</td>\n",
       "      <td>1</td>\n",
       "      <td>1</td>\n",
       "      <td>0</td>\n",
       "      <td>1</td>\n",
       "    </tr>\n",
       "    <tr>\n",
       "      <td>1</td>\n",
       "      <td>1</td>\n",
       "      <td>1</td>\n",
       "      <td>2</td>\n",
       "      <td>1</td>\n",
       "    </tr>\n",
       "    <tr>\n",
       "      <td>2</td>\n",
       "      <td>1</td>\n",
       "      <td>0</td>\n",
       "      <td>1</td>\n",
       "      <td>0</td>\n",
       "    </tr>\n",
       "    <tr>\n",
       "      <td>3</td>\n",
       "      <td>0</td>\n",
       "      <td>1</td>\n",
       "      <td>2</td>\n",
       "      <td>0</td>\n",
       "    </tr>\n",
       "    <tr>\n",
       "      <td>4</td>\n",
       "      <td>0</td>\n",
       "      <td>1</td>\n",
       "      <td>2</td>\n",
       "      <td>0</td>\n",
       "    </tr>\n",
       "  </tbody>\n",
       "</table>\n",
       "</div>"
      ],
      "text/plain": [
       "   accompany  game  education  label\n",
       "0          1     1          0      1\n",
       "1          1     1          2      1\n",
       "2          1     0          1      0\n",
       "3          0     1          2      0\n",
       "4          0     1          2      0"
      ]
     },
     "execution_count": 28,
     "metadata": {},
     "output_type": "execute_result"
    }
   ],
   "source": [
    "# 新的办法\n",
    "dataSet"
   ]
  },
  {
   "cell_type": "code",
   "execution_count": 30,
   "metadata": {},
   "outputs": [
    {
     "data": {
      "text/plain": [
       "0.9709505944546686"
      ]
     },
     "execution_count": 30,
     "metadata": {},
     "output_type": "execute_result"
    }
   ],
   "source": [
    "baseEnt = calEnt(dataSet)\n",
    "baseEnt"
   ]
  },
  {
   "cell_type": "code",
   "execution_count": 33,
   "metadata": {},
   "outputs": [
    {
     "data": {
      "text/plain": [
       "[(0,    accompany  game  education  label\n",
       "  3          0     1          2      0\n",
       "  4          0     1          2      0),\n",
       " (1,    accompany  game  education  label\n",
       "  0          1     1          0      1\n",
       "  1          1     1          2      1\n",
       "  2          1     0          1      0)]"
      ]
     },
     "execution_count": 33,
     "metadata": {},
     "output_type": "execute_result"
    }
   ],
   "source": [
    "col = 'accompany'\n",
    "list(dataSet.groupby(col))"
   ]
  },
  {
   "cell_type": "code",
   "execution_count": 87,
   "metadata": {},
   "outputs": [
    {
     "data": {
      "text/plain": [
       "accompany    0.550978\n",
       "game         0.800000\n",
       "education    0.550978\n",
       "dtype: float64"
      ]
     },
     "execution_count": 87,
     "metadata": {},
     "output_type": "execute_result"
    }
   ],
   "source": [
    "# 首先选取出一个特征，尝试使用gourpby.apply的方式计算一下当前这个特征做切分之后每一个小dataframe的墒\n",
    "col = 'accompany'\n",
    "\n",
    "# groupby相当于切出了很多的小dataframe, apply其实就是一个高效的for循环，依次将切出来的这些小dataframe全部传入到calEnt中计算出小df的墒\n",
    "dataSet.groupby(col).apply(lambda df : calEnt(df))\n",
    "\n",
    "# 上面是使用groupby.apply的操作对其中一个特征做切分后墒的结算\n",
    "# 使用列表解析式对所有的特征进行上面的操作\n",
    "# 并且最后使用pd.concat方式合成在一起，方便观察\n",
    "child_entropy = pd.concat([dataSet.groupby(col).apply(lambda df : calEnt(df)) for col in dataSet.columns[:-1]], axis = 1)\n",
    "child_entropy.columns = dataSet.columns[:-1]\n",
    "child_entropy\n",
    "\n",
    "# 因为我们要做加权平均的操作，所以我们也需要将每个特征的占比取出来,并且也将列名去上去\n",
    "\n",
    "child_weight= dataSet.iloc[:, :-1].apply(lambda i : i.value_counts(), axis = 0)/dataSet.shape[0]\n",
    "child_weight.columns = dataSet.columns[:-1]\n",
    "child_weight\n",
    "\n",
    "dataSet \n",
    "\n",
    "# 利用numpy pandas特性每两个元素相乘，达到加权平均的目的\n",
    "child_entropy * child_weight\n",
    "\n",
    "# 加权平均后按列求和算出切分之后的墒\n",
    "child_weighted_entropy = (child_entropy * child_weight).fillna(0).sum(axis = 0)\n",
    "child_weighted_entropy"
   ]
  },
  {
   "cell_type": "code",
   "execution_count": 85,
   "metadata": {},
   "outputs": [
    {
     "data": {
      "text/plain": [
       "'accompany'"
      ]
     },
     "execution_count": 85,
     "metadata": {},
     "output_type": "execute_result"
    }
   ],
   "source": [
    "(baseEnt - child_weighted_entropy).idxmax()"
   ]
  },
  {
   "cell_type": "code",
   "execution_count": 86,
   "metadata": {},
   "outputs": [
    {
     "data": {
      "text/plain": [
       "0"
      ]
     },
     "execution_count": 86,
     "metadata": {},
     "output_type": "execute_result"
    }
   ],
   "source": [
    "def bestSplit(dataSet):\n",
    "    baseEnt = calEnt(dataSet)\n",
    "    child_entropy = pd.concat([dataSet.groupby(col).apply(lambda df : calEnt(df)) for col in dataSet.columns[:-1]], axis = 1)\n",
    "    child_weight= dataSet.iloc[:, :-1].apply(lambda i : i.value_counts(), axis = 0)/dataSet.shape[0]\n",
    "    child_weighted_entropy = (child_entropy * child_weight).fillna(0).sum(axis = 0)\n",
    "    return (baseEnt - child_weighted_entropy).idxmax()\n",
    "bestSplit(dataSet)"
   ]
  },
  {
   "cell_type": "code",
   "execution_count": 97,
   "metadata": {},
   "outputs": [],
   "source": [
    "def mySplit(dataSet,axis,value):\n",
    "    col = dataSet.columns[axis]\n",
    "    redataSet = dataSet.loc[dataSet[col]==value,:].drop(col,axis=1)\n",
    "    return redataSet"
   ]
  },
  {
   "cell_type": "code",
   "execution_count": 106,
   "metadata": {},
   "outputs": [],
   "source": [
    "def createTree(dataSet):\n",
    "    featlist = list(dataSet.columns)                        # 提取出数据集所有的列\n",
    "    classlist = dataSet.iloc[:,-1].value_counts()           # 获取最后一列类标签\n",
    "    # 判断最多标签数目是否等于数据集行数，或者数据集是否只有一列\n",
    "    if classlist.values[0]==dataSet.shape[0] or dataSet.shape[1] == 1:\n",
    "        return classlist.index[0]                           # 如果是，返回类标签\n",
    "    \n",
    "    axis = bestSplit(dataSet)                               # 确定出当前最佳切分列的索引\n",
    "    bestfeat = featlist[axis]                               # 获取该索引对应的特征\n",
    "    myTree = {bestfeat:{}}                                  # 采用字典嵌套的方式存储树信息\n",
    "    del featlist[axis]                                      # 删除当前特征\n",
    "    valuelist = set(dataSet.iloc[:,axis])                   # 提取最佳切分列所有属性值\n",
    "    for value in valuelist:                                 # 对每一个属性值递归建树\n",
    "        myTree[bestfeat][value] = createTree(mySplit(dataSet,axis,value))\n",
    "    return myTree"
   ]
  },
  {
   "cell_type": "code",
   "execution_count": 108,
   "metadata": {},
   "outputs": [
    {
     "data": {
      "text/plain": [
       "{'accompany': {0: 0, 1: {'game': {0: 0, 1: 1}}}}"
      ]
     },
     "execution_count": 108,
     "metadata": {},
     "output_type": "execute_result"
    }
   ],
   "source": [
    "createTree(dataSet)"
   ]
  },
  {
   "cell_type": "code",
   "execution_count": 119,
   "metadata": {},
   "outputs": [
    {
     "data": {
      "text/html": [
       "<div>\n",
       "<style scoped>\n",
       "    .dataframe tbody tr th:only-of-type {\n",
       "        vertical-align: middle;\n",
       "    }\n",
       "\n",
       "    .dataframe tbody tr th {\n",
       "        vertical-align: top;\n",
       "    }\n",
       "\n",
       "    .dataframe thead th {\n",
       "        text-align: right;\n",
       "    }\n",
       "</style>\n",
       "<table border=\"1\" class=\"dataframe\">\n",
       "  <thead>\n",
       "    <tr style=\"text-align: right;\">\n",
       "      <th></th>\n",
       "      <th>accompany</th>\n",
       "      <th>game</th>\n",
       "      <th>education</th>\n",
       "      <th>label</th>\n",
       "    </tr>\n",
       "  </thead>\n",
       "  <tbody>\n",
       "    <tr>\n",
       "      <td>0</td>\n",
       "      <td>1</td>\n",
       "      <td>1</td>\n",
       "      <td>0</td>\n",
       "      <td>1</td>\n",
       "    </tr>\n",
       "    <tr>\n",
       "      <td>1</td>\n",
       "      <td>1</td>\n",
       "      <td>1</td>\n",
       "      <td>2</td>\n",
       "      <td>1</td>\n",
       "    </tr>\n",
       "    <tr>\n",
       "      <td>2</td>\n",
       "      <td>1</td>\n",
       "      <td>0</td>\n",
       "      <td>1</td>\n",
       "      <td>0</td>\n",
       "    </tr>\n",
       "    <tr>\n",
       "      <td>3</td>\n",
       "      <td>0</td>\n",
       "      <td>1</td>\n",
       "      <td>2</td>\n",
       "      <td>0</td>\n",
       "    </tr>\n",
       "    <tr>\n",
       "      <td>4</td>\n",
       "      <td>0</td>\n",
       "      <td>1</td>\n",
       "      <td>2</td>\n",
       "      <td>0</td>\n",
       "    </tr>\n",
       "  </tbody>\n",
       "</table>\n",
       "</div>"
      ],
      "text/plain": [
       "   accompany  game  education  label\n",
       "0          1     1          0      1\n",
       "1          1     1          2      1\n",
       "2          1     0          1      0\n",
       "3          0     1          2      0\n",
       "4          0     1          2      0"
      ]
     },
     "execution_count": 119,
     "metadata": {},
     "output_type": "execute_result"
    }
   ],
   "source": [
    "dataSet"
   ]
  },
  {
   "cell_type": "code",
   "execution_count": null,
   "metadata": {},
   "outputs": [],
   "source": [
    "\n"
   ]
  },
  {
   "cell_type": "code",
   "execution_count": 126,
   "metadata": {},
   "outputs": [],
   "source": [
    "# 导入数据集\n",
    "\n",
    "from sklearn import tree\n",
    "from sklearn.tree import DecisionTreeClassifier as DTC\n",
    "from sklearn.datasets import load_wine\n",
    "from sklearn.model_selection import train_test_split, cross_val_score"
   ]
  },
  {
   "cell_type": "code",
   "execution_count": 127,
   "metadata": {},
   "outputs": [],
   "source": [
    "import numpy as np\n",
    "import pandas as pd\n",
    "\n",
    "wine = load_wine()\n",
    "X = wine['data']\n",
    "y = wine['target']\n",
    "\n",
    "data = pd.DataFrame(X, columns = wine.feature_names)\n",
    "data['label'] = y"
   ]
  },
  {
   "cell_type": "code",
   "execution_count": 155,
   "metadata": {},
   "outputs": [
    {
     "data": {
      "text/plain": [
       "(1.0, 0.9444444444444444)"
      ]
     },
     "execution_count": 155,
     "metadata": {},
     "output_type": "execute_result"
    }
   ],
   "source": [
    "# 切分数据集\n",
    "Xtrain, Xtest, Ytrain, Ytest = train_test_split(X, y, test_size = 0.3, random_state = 420)\n",
    "\n",
    "# 实例化模型\n",
    "clf = DTC(max_depth = 10)\n",
    "# 训练模型\n",
    "clf.fit(Xtrain, Ytrain)\n",
    "\n",
    "# 查看训练集和测试集上的分数\n",
    "clf.score(Xtrain, Ytrain), clf.score(Xtest, Ytest)"
   ]
  },
  {
   "cell_type": "code",
   "execution_count": 156,
   "metadata": {},
   "outputs": [
    {
     "data": {
      "image/svg+xml": [
       "<?xml version=\"1.0\" encoding=\"UTF-8\" standalone=\"no\"?>\n",
       "<!DOCTYPE svg PUBLIC \"-//W3C//DTD SVG 1.1//EN\"\n",
       " \"http://www.w3.org/Graphics/SVG/1.1/DTD/svg11.dtd\">\n",
       "<!-- Generated by graphviz version 2.40.1 (20161225.0304)\n",
       " -->\n",
       "<!-- Title: Tree Pages: 1 -->\n",
       "<svg width=\"682pt\" height=\"552pt\"\n",
       " viewBox=\"0.00 0.00 682.00 552.00\" xmlns=\"http://www.w3.org/2000/svg\" xmlns:xlink=\"http://www.w3.org/1999/xlink\">\n",
       "<g id=\"graph0\" class=\"graph\" transform=\"scale(1 1) rotate(0) translate(4 548)\">\n",
       "<title>Tree</title>\n",
       "<polygon fill=\"#ffffff\" stroke=\"transparent\" points=\"-4,4 -4,-548 678,-548 678,4 -4,4\"/>\n",
       "<!-- 0 -->\n",
       "<g id=\"node1\" class=\"node\">\n",
       "<title>0</title>\n",
       "<path fill=\"#dbfae8\" stroke=\"#000000\" d=\"M322,-544C322,-544 210,-544 210,-544 204,-544 198,-538 198,-532 198,-532 198,-473 198,-473 198,-467 204,-461 210,-461 210,-461 322,-461 322,-461 328,-461 334,-467 334,-473 334,-473 334,-532 334,-532 334,-538 328,-544 322,-544\"/>\n",
       "<text text-anchor=\"middle\" x=\"266\" y=\"-528.8\" font-family=\"Helvetica,sans-Serif\" font-size=\"14.00\" fill=\"#000000\">颜色强度 &lt;= 3.82</text>\n",
       "<text text-anchor=\"middle\" x=\"266\" y=\"-513.8\" font-family=\"Helvetica,sans-Serif\" font-size=\"14.00\" fill=\"#000000\">gini = 0.653</text>\n",
       "<text text-anchor=\"middle\" x=\"266\" y=\"-498.8\" font-family=\"Helvetica,sans-Serif\" font-size=\"14.00\" fill=\"#000000\">samples = 124</text>\n",
       "<text text-anchor=\"middle\" x=\"266\" y=\"-483.8\" font-family=\"Helvetica,sans-Serif\" font-size=\"14.00\" fill=\"#000000\">value = [34, 53, 37]</text>\n",
       "<text text-anchor=\"middle\" x=\"266\" y=\"-468.8\" font-family=\"Helvetica,sans-Serif\" font-size=\"14.00\" fill=\"#000000\">class = 雪莉</text>\n",
       "</g>\n",
       "<!-- 1 -->\n",
       "<g id=\"node2\" class=\"node\">\n",
       "<title>1</title>\n",
       "<path fill=\"#3de684\" stroke=\"#000000\" d=\"M244.5,-425C244.5,-425 143.5,-425 143.5,-425 137.5,-425 131.5,-419 131.5,-413 131.5,-413 131.5,-354 131.5,-354 131.5,-348 137.5,-342 143.5,-342 143.5,-342 244.5,-342 244.5,-342 250.5,-342 256.5,-348 256.5,-354 256.5,-354 256.5,-413 256.5,-413 256.5,-419 250.5,-425 244.5,-425\"/>\n",
       "<text text-anchor=\"middle\" x=\"194\" y=\"-409.8\" font-family=\"Helvetica,sans-Serif\" font-size=\"14.00\" fill=\"#000000\">脯氨酸 &lt;= 1002.5</text>\n",
       "<text text-anchor=\"middle\" x=\"194\" y=\"-394.8\" font-family=\"Helvetica,sans-Serif\" font-size=\"14.00\" fill=\"#000000\">gini = 0.043</text>\n",
       "<text text-anchor=\"middle\" x=\"194\" y=\"-379.8\" font-family=\"Helvetica,sans-Serif\" font-size=\"14.00\" fill=\"#000000\">samples = 45</text>\n",
       "<text text-anchor=\"middle\" x=\"194\" y=\"-364.8\" font-family=\"Helvetica,sans-Serif\" font-size=\"14.00\" fill=\"#000000\">value = [1, 44, 0]</text>\n",
       "<text text-anchor=\"middle\" x=\"194\" y=\"-349.8\" font-family=\"Helvetica,sans-Serif\" font-size=\"14.00\" fill=\"#000000\">class = 雪莉</text>\n",
       "</g>\n",
       "<!-- 0&#45;&gt;1 -->\n",
       "<g id=\"edge1\" class=\"edge\">\n",
       "<title>0&#45;&gt;1</title>\n",
       "<path fill=\"none\" stroke=\"#000000\" d=\"M240.8179,-460.8796C235.5867,-452.2335 230.0195,-443.0322 224.6177,-434.1042\"/>\n",
       "<polygon fill=\"#000000\" stroke=\"#000000\" points=\"227.4608,-432.0421 219.2896,-425.2981 221.4717,-435.6658 227.4608,-432.0421\"/>\n",
       "<text text-anchor=\"middle\" x=\"213.316\" y=\"-445.8739\" font-family=\"Helvetica,sans-Serif\" font-size=\"14.00\" fill=\"#000000\">True</text>\n",
       "</g>\n",
       "<!-- 4 -->\n",
       "<g id=\"node5\" class=\"node\">\n",
       "<title>4</title>\n",
       "<path fill=\"#f4eefd\" stroke=\"#000000\" d=\"M391,-425C391,-425 287,-425 287,-425 281,-425 275,-419 275,-413 275,-413 275,-354 275,-354 275,-348 281,-342 287,-342 287,-342 391,-342 391,-342 397,-342 403,-348 403,-354 403,-354 403,-413 403,-413 403,-419 397,-425 391,-425\"/>\n",
       "<text text-anchor=\"middle\" x=\"339\" y=\"-409.8\" font-family=\"Helvetica,sans-Serif\" font-size=\"14.00\" fill=\"#000000\">类黄酮 &lt;= 1.785</text>\n",
       "<text text-anchor=\"middle\" x=\"339\" y=\"-394.8\" font-family=\"Helvetica,sans-Serif\" font-size=\"14.00\" fill=\"#000000\">gini = 0.593</text>\n",
       "<text text-anchor=\"middle\" x=\"339\" y=\"-379.8\" font-family=\"Helvetica,sans-Serif\" font-size=\"14.00\" fill=\"#000000\">samples = 79</text>\n",
       "<text text-anchor=\"middle\" x=\"339\" y=\"-364.8\" font-family=\"Helvetica,sans-Serif\" font-size=\"14.00\" fill=\"#000000\">value = [33, 9, 37]</text>\n",
       "<text text-anchor=\"middle\" x=\"339\" y=\"-349.8\" font-family=\"Helvetica,sans-Serif\" font-size=\"14.00\" fill=\"#000000\">class = 贝尔摩德</text>\n",
       "</g>\n",
       "<!-- 0&#45;&gt;4 -->\n",
       "<g id=\"edge4\" class=\"edge\">\n",
       "<title>0&#45;&gt;4</title>\n",
       "<path fill=\"none\" stroke=\"#000000\" d=\"M291.5319,-460.8796C296.891,-452.1434 302.5979,-442.8404 308.1282,-433.8253\"/>\n",
       "<polygon fill=\"#000000\" stroke=\"#000000\" points=\"311.1135,-435.6522 313.3592,-425.2981 305.1467,-431.9919 311.1135,-435.6522\"/>\n",
       "<text text-anchor=\"middle\" x=\"319.1839\" y=\"-445.9101\" font-family=\"Helvetica,sans-Serif\" font-size=\"14.00\" fill=\"#000000\">False</text>\n",
       "</g>\n",
       "<!-- 2 -->\n",
       "<g id=\"node3\" class=\"node\">\n",
       "<title>2</title>\n",
       "<path fill=\"#39e581\" stroke=\"#000000\" d=\"M108,-298.5C108,-298.5 12,-298.5 12,-298.5 6,-298.5 0,-292.5 0,-286.5 0,-286.5 0,-242.5 0,-242.5 0,-236.5 6,-230.5 12,-230.5 12,-230.5 108,-230.5 108,-230.5 114,-230.5 120,-236.5 120,-242.5 120,-242.5 120,-286.5 120,-286.5 120,-292.5 114,-298.5 108,-298.5\"/>\n",
       "<text text-anchor=\"middle\" x=\"60\" y=\"-283.3\" font-family=\"Helvetica,sans-Serif\" font-size=\"14.00\" fill=\"#000000\">gini = 0.0</text>\n",
       "<text text-anchor=\"middle\" x=\"60\" y=\"-268.3\" font-family=\"Helvetica,sans-Serif\" font-size=\"14.00\" fill=\"#000000\">samples = 44</text>\n",
       "<text text-anchor=\"middle\" x=\"60\" y=\"-253.3\" font-family=\"Helvetica,sans-Serif\" font-size=\"14.00\" fill=\"#000000\">value = [0, 44, 0]</text>\n",
       "<text text-anchor=\"middle\" x=\"60\" y=\"-238.3\" font-family=\"Helvetica,sans-Serif\" font-size=\"14.00\" fill=\"#000000\">class = 雪莉</text>\n",
       "</g>\n",
       "<!-- 1&#45;&gt;2 -->\n",
       "<g id=\"edge2\" class=\"edge\">\n",
       "<title>1&#45;&gt;2</title>\n",
       "<path fill=\"none\" stroke=\"#000000\" d=\"M147.1333,-341.8796C133.8844,-330.1138 119.4776,-317.3197 106.2644,-305.5855\"/>\n",
       "<polygon fill=\"#000000\" stroke=\"#000000\" points=\"108.4416,-302.8381 98.6403,-298.8149 103.7935,-308.0722 108.4416,-302.8381\"/>\n",
       "</g>\n",
       "<!-- 3 -->\n",
       "<g id=\"node4\" class=\"node\">\n",
       "<title>3</title>\n",
       "<path fill=\"#e58139\" stroke=\"#000000\" d=\"M239.5,-298.5C239.5,-298.5 150.5,-298.5 150.5,-298.5 144.5,-298.5 138.5,-292.5 138.5,-286.5 138.5,-286.5 138.5,-242.5 138.5,-242.5 138.5,-236.5 144.5,-230.5 150.5,-230.5 150.5,-230.5 239.5,-230.5 239.5,-230.5 245.5,-230.5 251.5,-236.5 251.5,-242.5 251.5,-242.5 251.5,-286.5 251.5,-286.5 251.5,-292.5 245.5,-298.5 239.5,-298.5\"/>\n",
       "<text text-anchor=\"middle\" x=\"195\" y=\"-283.3\" font-family=\"Helvetica,sans-Serif\" font-size=\"14.00\" fill=\"#000000\">gini = 0.0</text>\n",
       "<text text-anchor=\"middle\" x=\"195\" y=\"-268.3\" font-family=\"Helvetica,sans-Serif\" font-size=\"14.00\" fill=\"#000000\">samples = 1</text>\n",
       "<text text-anchor=\"middle\" x=\"195\" y=\"-253.3\" font-family=\"Helvetica,sans-Serif\" font-size=\"14.00\" fill=\"#000000\">value = [1, 0, 0]</text>\n",
       "<text text-anchor=\"middle\" x=\"195\" y=\"-238.3\" font-family=\"Helvetica,sans-Serif\" font-size=\"14.00\" fill=\"#000000\">class = 琴酒</text>\n",
       "</g>\n",
       "<!-- 1&#45;&gt;3 -->\n",
       "<g id=\"edge3\" class=\"edge\">\n",
       "<title>1&#45;&gt;3</title>\n",
       "<path fill=\"none\" stroke=\"#000000\" d=\"M194.3498,-341.8796C194.4394,-331.2134 194.5361,-319.7021 194.6269,-308.9015\"/>\n",
       "<polygon fill=\"#000000\" stroke=\"#000000\" points=\"198.1274,-308.844 194.7116,-298.8149 191.1276,-308.7851 198.1274,-308.844\"/>\n",
       "</g>\n",
       "<!-- 5 -->\n",
       "<g id=\"node6\" class=\"node\">\n",
       "<title>5</title>\n",
       "<path fill=\"#843ee6\" stroke=\"#000000\" d=\"M392,-306C392,-306 284,-306 284,-306 278,-306 272,-300 272,-294 272,-294 272,-235 272,-235 272,-229 278,-223 284,-223 284,-223 392,-223 392,-223 398,-223 404,-229 404,-235 404,-235 404,-294 404,-294 404,-300 398,-306 392,-306\"/>\n",
       "<text text-anchor=\"middle\" x=\"338\" y=\"-290.8\" font-family=\"Helvetica,sans-Serif\" font-size=\"14.00\" fill=\"#000000\">灰的碱性 &lt;= 17.15</text>\n",
       "<text text-anchor=\"middle\" x=\"338\" y=\"-275.8\" font-family=\"Helvetica,sans-Serif\" font-size=\"14.00\" fill=\"#000000\">gini = 0.051</text>\n",
       "<text text-anchor=\"middle\" x=\"338\" y=\"-260.8\" font-family=\"Helvetica,sans-Serif\" font-size=\"14.00\" fill=\"#000000\">samples = 38</text>\n",
       "<text text-anchor=\"middle\" x=\"338\" y=\"-245.8\" font-family=\"Helvetica,sans-Serif\" font-size=\"14.00\" fill=\"#000000\">value = [0, 1, 37]</text>\n",
       "<text text-anchor=\"middle\" x=\"338\" y=\"-230.8\" font-family=\"Helvetica,sans-Serif\" font-size=\"14.00\" fill=\"#000000\">class = 贝尔摩德</text>\n",
       "</g>\n",
       "<!-- 4&#45;&gt;5 -->\n",
       "<g id=\"edge5\" class=\"edge\">\n",
       "<title>4&#45;&gt;5</title>\n",
       "<path fill=\"none\" stroke=\"#000000\" d=\"M338.6502,-341.8796C338.5814,-333.6838 338.5083,-324.9891 338.437,-316.5013\"/>\n",
       "<polygon fill=\"#000000\" stroke=\"#000000\" points=\"341.9352,-316.2683 338.3512,-306.2981 334.9355,-316.3272 341.9352,-316.2683\"/>\n",
       "</g>\n",
       "<!-- 8 -->\n",
       "<g id=\"node9\" class=\"node\">\n",
       "<title>8</title>\n",
       "<path fill=\"#eba069\" stroke=\"#000000\" d=\"M530,-306C530,-306 434,-306 434,-306 428,-306 422,-300 422,-294 422,-294 422,-235 422,-235 422,-229 428,-223 434,-223 434,-223 530,-223 530,-223 536,-223 542,-229 542,-235 542,-235 542,-294 542,-294 542,-300 536,-306 530,-306\"/>\n",
       "<text text-anchor=\"middle\" x=\"482\" y=\"-290.8\" font-family=\"Helvetica,sans-Serif\" font-size=\"14.00\" fill=\"#000000\">脯氨酸 &lt;= 724.5</text>\n",
       "<text text-anchor=\"middle\" x=\"482\" y=\"-275.8\" font-family=\"Helvetica,sans-Serif\" font-size=\"14.00\" fill=\"#000000\">gini = 0.314</text>\n",
       "<text text-anchor=\"middle\" x=\"482\" y=\"-260.8\" font-family=\"Helvetica,sans-Serif\" font-size=\"14.00\" fill=\"#000000\">samples = 41</text>\n",
       "<text text-anchor=\"middle\" x=\"482\" y=\"-245.8\" font-family=\"Helvetica,sans-Serif\" font-size=\"14.00\" fill=\"#000000\">value = [33, 8, 0]</text>\n",
       "<text text-anchor=\"middle\" x=\"482\" y=\"-230.8\" font-family=\"Helvetica,sans-Serif\" font-size=\"14.00\" fill=\"#000000\">class = 琴酒</text>\n",
       "</g>\n",
       "<!-- 4&#45;&gt;8 -->\n",
       "<g id=\"edge8\" class=\"edge\">\n",
       "<title>4&#45;&gt;8</title>\n",
       "<path fill=\"none\" stroke=\"#000000\" d=\"M389.0145,-341.8796C400.2701,-332.513 412.3088,-322.4948 423.8646,-312.8784\"/>\n",
       "<polygon fill=\"#000000\" stroke=\"#000000\" points=\"426.3242,-315.385 431.7721,-306.2981 421.8466,-310.0043 426.3242,-315.385\"/>\n",
       "</g>\n",
       "<!-- 6 -->\n",
       "<g id=\"node7\" class=\"node\">\n",
       "<title>6</title>\n",
       "<path fill=\"#39e581\" stroke=\"#000000\" d=\"M249.5,-179.5C249.5,-179.5 160.5,-179.5 160.5,-179.5 154.5,-179.5 148.5,-173.5 148.5,-167.5 148.5,-167.5 148.5,-123.5 148.5,-123.5 148.5,-117.5 154.5,-111.5 160.5,-111.5 160.5,-111.5 249.5,-111.5 249.5,-111.5 255.5,-111.5 261.5,-117.5 261.5,-123.5 261.5,-123.5 261.5,-167.5 261.5,-167.5 261.5,-173.5 255.5,-179.5 249.5,-179.5\"/>\n",
       "<text text-anchor=\"middle\" x=\"205\" y=\"-164.3\" font-family=\"Helvetica,sans-Serif\" font-size=\"14.00\" fill=\"#000000\">gini = 0.0</text>\n",
       "<text text-anchor=\"middle\" x=\"205\" y=\"-149.3\" font-family=\"Helvetica,sans-Serif\" font-size=\"14.00\" fill=\"#000000\">samples = 1</text>\n",
       "<text text-anchor=\"middle\" x=\"205\" y=\"-134.3\" font-family=\"Helvetica,sans-Serif\" font-size=\"14.00\" fill=\"#000000\">value = [0, 1, 0]</text>\n",
       "<text text-anchor=\"middle\" x=\"205\" y=\"-119.3\" font-family=\"Helvetica,sans-Serif\" font-size=\"14.00\" fill=\"#000000\">class = 雪莉</text>\n",
       "</g>\n",
       "<!-- 5&#45;&gt;6 -->\n",
       "<g id=\"edge6\" class=\"edge\">\n",
       "<title>5&#45;&gt;6</title>\n",
       "<path fill=\"none\" stroke=\"#000000\" d=\"M291.4831,-222.8796C278.333,-211.1138 264.0337,-198.3197 250.9191,-186.5855\"/>\n",
       "<polygon fill=\"#000000\" stroke=\"#000000\" points=\"253.1382,-183.8746 243.352,-179.8149 248.4706,-189.0913 253.1382,-183.8746\"/>\n",
       "</g>\n",
       "<!-- 7 -->\n",
       "<g id=\"node8\" class=\"node\">\n",
       "<title>7</title>\n",
       "<path fill=\"#8139e5\" stroke=\"#000000\" d=\"M388,-179.5C388,-179.5 292,-179.5 292,-179.5 286,-179.5 280,-173.5 280,-167.5 280,-167.5 280,-123.5 280,-123.5 280,-117.5 286,-111.5 292,-111.5 292,-111.5 388,-111.5 388,-111.5 394,-111.5 400,-117.5 400,-123.5 400,-123.5 400,-167.5 400,-167.5 400,-173.5 394,-179.5 388,-179.5\"/>\n",
       "<text text-anchor=\"middle\" x=\"340\" y=\"-164.3\" font-family=\"Helvetica,sans-Serif\" font-size=\"14.00\" fill=\"#000000\">gini = 0.0</text>\n",
       "<text text-anchor=\"middle\" x=\"340\" y=\"-149.3\" font-family=\"Helvetica,sans-Serif\" font-size=\"14.00\" fill=\"#000000\">samples = 37</text>\n",
       "<text text-anchor=\"middle\" x=\"340\" y=\"-134.3\" font-family=\"Helvetica,sans-Serif\" font-size=\"14.00\" fill=\"#000000\">value = [0, 0, 37]</text>\n",
       "<text text-anchor=\"middle\" x=\"340\" y=\"-119.3\" font-family=\"Helvetica,sans-Serif\" font-size=\"14.00\" fill=\"#000000\">class = 贝尔摩德</text>\n",
       "</g>\n",
       "<!-- 5&#45;&gt;7 -->\n",
       "<g id=\"edge7\" class=\"edge\">\n",
       "<title>5&#45;&gt;7</title>\n",
       "<path fill=\"none\" stroke=\"#000000\" d=\"M338.6995,-222.8796C338.8788,-212.2134 339.0722,-200.7021 339.2538,-189.9015\"/>\n",
       "<polygon fill=\"#000000\" stroke=\"#000000\" points=\"342.7546,-189.8724 339.4233,-179.8149 335.7556,-189.7547 342.7546,-189.8724\"/>\n",
       "</g>\n",
       "<!-- 9 -->\n",
       "<g id=\"node10\" class=\"node\">\n",
       "<title>9</title>\n",
       "<path fill=\"#52e891\" stroke=\"#000000\" d=\"M523.5,-187C523.5,-187 434.5,-187 434.5,-187 428.5,-187 422.5,-181 422.5,-175 422.5,-175 422.5,-116 422.5,-116 422.5,-110 428.5,-104 434.5,-104 434.5,-104 523.5,-104 523.5,-104 529.5,-104 535.5,-110 535.5,-116 535.5,-116 535.5,-175 535.5,-175 535.5,-181 529.5,-187 523.5,-187\"/>\n",
       "<text text-anchor=\"middle\" x=\"479\" y=\"-171.8\" font-family=\"Helvetica,sans-Serif\" font-size=\"14.00\" fill=\"#000000\">酒精 &lt;= 13.135</text>\n",
       "<text text-anchor=\"middle\" x=\"479\" y=\"-156.8\" font-family=\"Helvetica,sans-Serif\" font-size=\"14.00\" fill=\"#000000\">gini = 0.198</text>\n",
       "<text text-anchor=\"middle\" x=\"479\" y=\"-141.8\" font-family=\"Helvetica,sans-Serif\" font-size=\"14.00\" fill=\"#000000\">samples = 9</text>\n",
       "<text text-anchor=\"middle\" x=\"479\" y=\"-126.8\" font-family=\"Helvetica,sans-Serif\" font-size=\"14.00\" fill=\"#000000\">value = [1, 8, 0]</text>\n",
       "<text text-anchor=\"middle\" x=\"479\" y=\"-111.8\" font-family=\"Helvetica,sans-Serif\" font-size=\"14.00\" fill=\"#000000\">class = 雪莉</text>\n",
       "</g>\n",
       "<!-- 8&#45;&gt;9 -->\n",
       "<g id=\"edge9\" class=\"edge\">\n",
       "<title>8&#45;&gt;9</title>\n",
       "<path fill=\"none\" stroke=\"#000000\" d=\"M480.9507,-222.8796C480.7441,-214.6838 480.5249,-205.9891 480.311,-197.5013\"/>\n",
       "<polygon fill=\"#000000\" stroke=\"#000000\" points=\"483.8047,-197.2067 480.0537,-187.2981 476.807,-197.3831 483.8047,-197.2067\"/>\n",
       "</g>\n",
       "<!-- 12 -->\n",
       "<g id=\"node13\" class=\"node\">\n",
       "<title>12</title>\n",
       "<path fill=\"#e58139\" stroke=\"#000000\" d=\"M662,-179.5C662,-179.5 566,-179.5 566,-179.5 560,-179.5 554,-173.5 554,-167.5 554,-167.5 554,-123.5 554,-123.5 554,-117.5 560,-111.5 566,-111.5 566,-111.5 662,-111.5 662,-111.5 668,-111.5 674,-117.5 674,-123.5 674,-123.5 674,-167.5 674,-167.5 674,-173.5 668,-179.5 662,-179.5\"/>\n",
       "<text text-anchor=\"middle\" x=\"614\" y=\"-164.3\" font-family=\"Helvetica,sans-Serif\" font-size=\"14.00\" fill=\"#000000\">gini = 0.0</text>\n",
       "<text text-anchor=\"middle\" x=\"614\" y=\"-149.3\" font-family=\"Helvetica,sans-Serif\" font-size=\"14.00\" fill=\"#000000\">samples = 32</text>\n",
       "<text text-anchor=\"middle\" x=\"614\" y=\"-134.3\" font-family=\"Helvetica,sans-Serif\" font-size=\"14.00\" fill=\"#000000\">value = [32, 0, 0]</text>\n",
       "<text text-anchor=\"middle\" x=\"614\" y=\"-119.3\" font-family=\"Helvetica,sans-Serif\" font-size=\"14.00\" fill=\"#000000\">class = 琴酒</text>\n",
       "</g>\n",
       "<!-- 8&#45;&gt;12 -->\n",
       "<g id=\"edge12\" class=\"edge\">\n",
       "<title>8&#45;&gt;12</title>\n",
       "<path fill=\"none\" stroke=\"#000000\" d=\"M528.1672,-222.8796C541.2183,-211.1138 555.4101,-198.3197 568.4261,-186.5855\"/>\n",
       "<polygon fill=\"#000000\" stroke=\"#000000\" points=\"570.8526,-189.1104 575.9364,-179.8149 566.1654,-183.9113 570.8526,-189.1104\"/>\n",
       "</g>\n",
       "<!-- 10 -->\n",
       "<g id=\"node11\" class=\"node\">\n",
       "<title>10</title>\n",
       "<path fill=\"#39e581\" stroke=\"#000000\" d=\"M457.5,-68C457.5,-68 368.5,-68 368.5,-68 362.5,-68 356.5,-62 356.5,-56 356.5,-56 356.5,-12 356.5,-12 356.5,-6 362.5,0 368.5,0 368.5,0 457.5,0 457.5,0 463.5,0 469.5,-6 469.5,-12 469.5,-12 469.5,-56 469.5,-56 469.5,-62 463.5,-68 457.5,-68\"/>\n",
       "<text text-anchor=\"middle\" x=\"413\" y=\"-52.8\" font-family=\"Helvetica,sans-Serif\" font-size=\"14.00\" fill=\"#000000\">gini = 0.0</text>\n",
       "<text text-anchor=\"middle\" x=\"413\" y=\"-37.8\" font-family=\"Helvetica,sans-Serif\" font-size=\"14.00\" fill=\"#000000\">samples = 8</text>\n",
       "<text text-anchor=\"middle\" x=\"413\" y=\"-22.8\" font-family=\"Helvetica,sans-Serif\" font-size=\"14.00\" fill=\"#000000\">value = [0, 8, 0]</text>\n",
       "<text text-anchor=\"middle\" x=\"413\" y=\"-7.8\" font-family=\"Helvetica,sans-Serif\" font-size=\"14.00\" fill=\"#000000\">class = 雪莉</text>\n",
       "</g>\n",
       "<!-- 9&#45;&gt;10 -->\n",
       "<g id=\"edge10\" class=\"edge\">\n",
       "<title>9&#45;&gt;10</title>\n",
       "<path fill=\"none\" stroke=\"#000000\" d=\"M454.424,-103.9815C449.2014,-95.1585 443.6771,-85.8258 438.4237,-76.9506\"/>\n",
       "<polygon fill=\"#000000\" stroke=\"#000000\" points=\"441.3874,-75.0863 433.2816,-68.2637 435.3636,-78.652 441.3874,-75.0863\"/>\n",
       "</g>\n",
       "<!-- 11 -->\n",
       "<g id=\"node12\" class=\"node\">\n",
       "<title>11</title>\n",
       "<path fill=\"#e58139\" stroke=\"#000000\" d=\"M588.5,-68C588.5,-68 499.5,-68 499.5,-68 493.5,-68 487.5,-62 487.5,-56 487.5,-56 487.5,-12 487.5,-12 487.5,-6 493.5,0 499.5,0 499.5,0 588.5,0 588.5,0 594.5,0 600.5,-6 600.5,-12 600.5,-12 600.5,-56 600.5,-56 600.5,-62 594.5,-68 588.5,-68\"/>\n",
       "<text text-anchor=\"middle\" x=\"544\" y=\"-52.8\" font-family=\"Helvetica,sans-Serif\" font-size=\"14.00\" fill=\"#000000\">gini = 0.0</text>\n",
       "<text text-anchor=\"middle\" x=\"544\" y=\"-37.8\" font-family=\"Helvetica,sans-Serif\" font-size=\"14.00\" fill=\"#000000\">samples = 1</text>\n",
       "<text text-anchor=\"middle\" x=\"544\" y=\"-22.8\" font-family=\"Helvetica,sans-Serif\" font-size=\"14.00\" fill=\"#000000\">value = [1, 0, 0]</text>\n",
       "<text text-anchor=\"middle\" x=\"544\" y=\"-7.8\" font-family=\"Helvetica,sans-Serif\" font-size=\"14.00\" fill=\"#000000\">class = 琴酒</text>\n",
       "</g>\n",
       "<!-- 9&#45;&gt;11 -->\n",
       "<g id=\"edge11\" class=\"edge\">\n",
       "<title>9&#45;&gt;11</title>\n",
       "<path fill=\"none\" stroke=\"#000000\" d=\"M503.2036,-103.9815C508.3471,-95.1585 513.7877,-85.8258 518.9616,-76.9506\"/>\n",
       "<polygon fill=\"#000000\" stroke=\"#000000\" points=\"522.013,-78.6656 524.0257,-68.2637 515.9656,-75.1402 522.013,-78.6656\"/>\n",
       "</g>\n",
       "</g>\n",
       "</svg>\n"
      ],
      "text/plain": [
       "<graphviz.files.Source at 0x1a27b0c810>"
      ]
     },
     "execution_count": 156,
     "metadata": {},
     "output_type": "execute_result"
    }
   ],
   "source": [
    "feature_name = ['酒精','苹果酸','灰','灰的碱性','镁',\n",
    "                '总酚','类黄酮','非黄烷类酚类','花青素',\n",
    "                '颜色强度','色调','od280/od315稀释葡萄酒','脯氨酸']\n",
    "\n",
    "import matplotlib.pyplot as plt\n",
    "plt.rcParams['font.sans-serif']=['Simhei']\n",
    "plt.rcParams['axes.unicode_minus']=False\n",
    "import graphviz\n",
    "dot_data = tree.export_graphviz(clf,\n",
    "                                out_file = None\n",
    "                                ,feature_names= feature_name \n",
    "                                ,class_names=[\"琴酒\",\"雪莉\",\"贝尔摩德\"] \n",
    "                                ,filled=True\n",
    "                                ,rounded=True)\n",
    "graph = graphviz.Source(dot_data)\n",
    "graph"
   ]
  },
  {
   "cell_type": "code",
   "execution_count": 158,
   "metadata": {},
   "outputs": [
    {
     "data": {
      "text/plain": [
       "'wine.pdf'"
      ]
     },
     "execution_count": 158,
     "metadata": {},
     "output_type": "execute_result"
    }
   ],
   "source": [
    "graph.render('wine')"
   ]
  },
  {
   "cell_type": "code",
   "execution_count": null,
   "metadata": {},
   "outputs": [],
   "source": []
  },
  {
   "cell_type": "code",
   "execution_count": null,
   "metadata": {},
   "outputs": [],
   "source": []
  },
  {
   "cell_type": "code",
   "execution_count": null,
   "metadata": {},
   "outputs": [],
   "source": []
  },
  {
   "cell_type": "code",
   "execution_count": null,
   "metadata": {},
   "outputs": [],
   "source": []
  },
  {
   "cell_type": "code",
   "execution_count": null,
   "metadata": {},
   "outputs": [],
   "source": []
  }
 ],
 "metadata": {
  "kernelspec": {
   "display_name": "Python 3",
   "language": "python",
   "name": "python3"
  },
  "language_info": {
   "codemirror_mode": {
    "name": "ipython",
    "version": 3
   },
   "file_extension": ".py",
   "mimetype": "text/x-python",
   "name": "python",
   "nbconvert_exporter": "python",
   "pygments_lexer": "ipython3",
   "version": "3.7.4"
  }
 },
 "nbformat": 4,
 "nbformat_minor": 4
}
