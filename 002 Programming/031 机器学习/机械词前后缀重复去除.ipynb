{
 "cells": [
  {
   "cell_type": "code",
   "execution_count": 2,
   "metadata": {},
   "outputs": [],
   "source": [
    "# 定义去除前缀重复的函数\n",
    "def qc_string_forward(s):\n",
    "    filelist = s\n",
    "    filelist2 = []\n",
    "    for a_string in filelist:\n",
    "        temp1 = a_string.strip('\\n')\n",
    "        temp2 = temp1.lstrip('\\ufeff')\n",
    "        temp3 = temp2.strip('\\r')\n",
    "        char_list = list(temp3) #把字符串转化列表自动按单个字符分词了\n",
    "        #print(char_list)\n",
    "\n",
    "        list1 = []\n",
    "        list1.append(char_list[0])\n",
    "        list2 = ['']\n",
    "\n",
    "        #记录要删除的索引\n",
    "        del1 = []\n",
    "        i = 0\n",
    "        while (i<len(char_list)):\n",
    "            i = i+1\n",
    "            #这里是对后面没有词汇的时候对列表1和列表2判断一次重复\n",
    "            if i == len(char_list):\n",
    "                if list1 == list2:\n",
    "                    m = len(list2)\n",
    "                    for x in range(i-m,i):\n",
    "                        del1.append(x)\n",
    "            else:\n",
    "\n",
    "                if char_list[i] == list1[0] and list2==['']:\n",
    "                    #print('词汇和list1相同，list2为空，将词加入list2')\n",
    "                    list2[0]=char_list[i] #这里初始化用append会让lisr2初始化为['','**']\n",
    "                elif char_list[i] != list1[0] and list2==['']:\n",
    "                    #print('词汇和1不同，2为空，将词加入1')\n",
    "                    list1.append(char_list[i])\n",
    "\n",
    "                #触发判断\n",
    "                elif char_list[i] != list1[0] and list2 !=['']:\n",
    "                    if list1 == list2 and len(list2)>=2:\n",
    "                        #print('词和1不同，2不为空，判断1和2重复')\n",
    "                        m = len(list2)\n",
    "                        #删除列表2里的内容，列表1本来的内容不用再去判断重复了\n",
    "                        for x in range(i-m,i):\n",
    "                            del1.append(x)\n",
    "                        list1= ['']\n",
    "                        list2 = ['']\n",
    "                        list1[0]=char_list[i]\n",
    "                    else:\n",
    "                        #print('词和1不同，2不为空，判断1和2不重复')\n",
    "                        list2.append(char_list[i])\n",
    "\n",
    "                #触发判断\n",
    "                elif char_list[i] == list1[0] and list2 != ['']:\n",
    "                    if list1 == list2:\n",
    "                        #print('词和1相同，2不为空，判断1和2重复')\n",
    "                        m = len(list2)\n",
    "                        #删除列表2里的内容，列表1需要再去和后面的词汇继续判断重复\n",
    "                        for x in range(i-m,i):\n",
    "                            del1.append(x)\n",
    "\n",
    "                        list2 = ['']\n",
    "                        list2[0]=char_list[i]\n",
    "                    else:\n",
    "                        #print('词和1相同，2不为空，判断1和2不重复')\n",
    "                        #逻辑对书本上进行了修改，书上是清空列表1和2，就是保留现在列表1和2内容不做删除，这里只保留1，列表2内容还需要做对比\n",
    "                        list1 = list2\n",
    "                        list2 = ['']\n",
    "                        list2[0]=char_list[i]\n",
    "\n",
    "\n",
    "        a = sorted(del1) #从数字更大的索引删起，这样就不用考虑元素删除后索引的变化问题\n",
    "        t = len(a) - 1\n",
    "        while(t>=0):\n",
    "            del char_list[a[t]]\n",
    "            t = t-1\n",
    "        str1 = ''.join(char_list)\n",
    "        str2 = str1.strip()\n",
    "        filelist2.append(str2)\n",
    "    return filelist2"
   ]
  },
  {
   "cell_type": "markdown",
   "metadata": {},
   "source": [
    "## 去除机械词效果演示"
   ]
  },
  {
   "cell_type": "code",
   "execution_count": 19,
   "metadata": {},
   "outputs": [],
   "source": [
    "sen=['商品很好，商品很好，商品很好，商品很好，买了多次了，非常棒'] #前缀重复"
   ]
  },
  {
   "cell_type": "code",
   "execution_count": 20,
   "metadata": {},
   "outputs": [
    {
     "data": {
      "text/plain": [
       "['商品很好，买了多次了，非常棒']"
      ]
     },
     "execution_count": 20,
     "metadata": {},
     "output_type": "execute_result"
    }
   ],
   "source": [
    "qc_string_forward(sen)"
   ]
  },
  {
   "cell_type": "code",
   "execution_count": 10,
   "metadata": {},
   "outputs": [],
   "source": [
    "sen2=['我觉得这件商品很好，商品很好，商品很好，商品很好，'] #后缀重复"
   ]
  },
  {
   "cell_type": "code",
   "execution_count": 11,
   "metadata": {},
   "outputs": [
    {
     "data": {
      "text/plain": [
       "['我觉得这件商品很好，商品很好，商品很好，商品很好，']"
      ]
     },
     "execution_count": 11,
     "metadata": {},
     "output_type": "execute_result"
    }
   ],
   "source": [
    "qc_string_forward(sen2)"
   ]
  },
  {
   "cell_type": "code",
   "execution_count": 13,
   "metadata": {},
   "outputs": [
    {
     "data": {
      "text/plain": [
       "['我觉得这件商品很好，']"
      ]
     },
     "execution_count": 13,
     "metadata": {},
     "output_type": "execute_result"
    }
   ],
   "source": [
    "qc_string_backward(sen2)"
   ]
  },
  {
   "cell_type": "markdown",
   "metadata": {},
   "source": [
    "## 去除前缀重复的函数原理讲解"
   ]
  },
  {
   "cell_type": "code",
   "execution_count": 21,
   "metadata": {},
   "outputs": [],
   "source": [
    "#语句列表话，拆成单个字\n",
    "char_list=list('商品很好，商品很好，商品很好，商品很好，买了多次了，非常棒')"
   ]
  },
  {
   "cell_type": "code",
   "execution_count": 24,
   "metadata": {},
   "outputs": [
    {
     "data": {
      "text/plain": [
       "29"
      ]
     },
     "execution_count": 24,
     "metadata": {},
     "output_type": "execute_result"
    }
   ],
   "source": [
    "len(char_list)"
   ]
  },
  {
   "cell_type": "code",
   "execution_count": 22,
   "metadata": {},
   "outputs": [
    {
     "data": {
      "text/plain": [
       "['商']"
      ]
     },
     "execution_count": 22,
     "metadata": {},
     "output_type": "execute_result"
    }
   ],
   "source": [
    "list1 = []\n",
    "list1.append(char_list[0])\n",
    "list1"
   ]
  },
  {
   "cell_type": "code",
   "execution_count": 23,
   "metadata": {},
   "outputs": [],
   "source": [
    "list2 = ['']\n",
    "#记录要删除的索引\n",
    "del1 = []"
   ]
  },
  {
   "cell_type": "code",
   "execution_count": 25,
   "metadata": {},
   "outputs": [
    {
     "data": {
      "text/plain": [
       "'品'"
      ]
     },
     "execution_count": 25,
     "metadata": {},
     "output_type": "execute_result"
    }
   ],
   "source": [
    "char_list[1]"
   ]
  },
  {
   "cell_type": "code",
   "execution_count": null,
   "metadata": {},
   "outputs": [],
   "source": [
    "list1 商 品 很 好 ，"
   ]
  },
  {
   "cell_type": "code",
   "execution_count": null,
   "metadata": {},
   "outputs": [],
   "source": [
    "list2 商 品 很 好 ，"
   ]
  },
  {
   "cell_type": "code",
   "execution_count": null,
   "metadata": {},
   "outputs": [],
   "source": [
    "del_list [5,6,7,8,9,10,11,12,13]"
   ]
  },
  {
   "cell_type": "code",
   "execution_count": 26,
   "metadata": {},
   "outputs": [],
   "source": [
    "# 定义去除后缀重复的函数\n",
    "def qc_string_backward(s):\n",
    "    filelist = s\n",
    "    filelist2 = []\n",
    "    for a_string in filelist:\n",
    "        temp1 = a_string.strip('\\n')\n",
    "        temp2 = temp1.lstrip('\\ufeff')\n",
    "        temp3 = temp2.strip('\\r')\n",
    "        temp3=temp3[::-1]\n",
    "        char_list = list(temp3) #把字符串转化列表自动按单个字符分词了\n",
    "        #print(char_list)\n",
    "\n",
    "        list1 = []\n",
    "        list1.append(char_list[0])\n",
    "        list2 = ['']\n",
    "\n",
    "        #记录要删除的索引\n",
    "        del1 = []\n",
    "        i = 0\n",
    "        while (i<len(char_list)):\n",
    "            i = i+1\n",
    "            #这里是对后面没有词汇的时候对列表1和列表2判断一次重复\n",
    "            if i == len(char_list):\n",
    "                if list1 == list2:\n",
    "                    m = len(list2)\n",
    "                    for x in range(i-m,i):\n",
    "                        del1.append(x)\n",
    "            else:\n",
    "\n",
    "                if char_list[i] == list1[0] and list2==['']:\n",
    "                    #print('词汇和list1相同，list2为空，将词加入list2')\n",
    "                    list2[0]=char_list[i] #这里初始化用append会让lisr2初始化为['','**']\n",
    "                elif char_list[i] != list1[0] and list2==['']:\n",
    "                    #print('词汇和1不同，2为空，将词加入1')\n",
    "                    list1.append(char_list[i])\n",
    "\n",
    "                #触发判断\n",
    "                elif char_list[i] != list1[0] and list2 !=['']:\n",
    "                    if list1 == list2 and len(list2)>=2:\n",
    "                        #print('词和1不同，2不为空，判断1和2重复')\n",
    "                        m = len(list2)\n",
    "                        #删除列表2里的内容，列表1本来的内容不用再去判断重复了\n",
    "                        for x in range(i-m,i):\n",
    "                            del1.append(x)\n",
    "                        list1= ['']\n",
    "                        list2 = ['']\n",
    "                        list1[0]=char_list[i]\n",
    "                    else:\n",
    "                        #print('词和1不同，2不为空，判断1和2不重复')\n",
    "                        list2.append(char_list[i])\n",
    "\n",
    "                #触发判断\n",
    "                elif char_list[i] == list1[0] and list2 != ['']:\n",
    "                    if list1 == list2:\n",
    "                        #print('词和1相同，2不为空，判断1和2重复')\n",
    "                        m = len(list2)\n",
    "                        #删除列表2里的内容，列表1需要再去和后面的词汇继续判断重复\n",
    "                        for x in range(i-m,i):\n",
    "                            del1.append(x)\n",
    "\n",
    "                        list2 = ['']\n",
    "                        list2[0]=char_list[i]\n",
    "                    else:\n",
    "                        #print('词和1相同，2不为空，判断1和2不重复')\n",
    "                        #逻辑对书本上进行了修改，书上是清空列表1和2，就是保留现在列表1和2内容不做删除，这里只保留1，列表2内容还需要做对比\n",
    "                        list1 = list2\n",
    "                        list2 = ['']\n",
    "                        list2[0]=char_list[i]\n",
    "\n",
    "\n",
    "        a = sorted(del1) #从数字更大的索引删起，这样就不用考虑元素删除后索引的变化问题\n",
    "        t = len(a) - 1\n",
    "        while(t>=0):\n",
    "            del char_list[a[t]]\n",
    "            t = t-1\n",
    "        str1 = ''.join(char_list)\n",
    "        str2 = str1.strip()\n",
    "        str2=str2[::-1]\n",
    "        filelist2.append(str2)\n",
    "    return filelist2"
   ]
  },
  {
   "cell_type": "code",
   "execution_count": null,
   "metadata": {},
   "outputs": [],
   "source": []
  }
 ],
 "metadata": {
  "kernelspec": {
   "display_name": "Python 3",
   "language": "python",
   "name": "python3"
  },
  "language_info": {
   "codemirror_mode": {
    "name": "ipython",
    "version": 3
   },
   "file_extension": ".py",
   "mimetype": "text/x-python",
   "name": "python",
   "nbconvert_exporter": "python",
   "pygments_lexer": "ipython3",
   "version": "3.7.0"
  }
 },
 "nbformat": 4,
 "nbformat_minor": 2
}
