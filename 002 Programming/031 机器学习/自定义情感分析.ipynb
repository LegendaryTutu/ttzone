{
 "cells": [
  {
   "cell_type": "code",
   "execution_count": 1,
   "metadata": {},
   "outputs": [],
   "source": [
    "import jieba\n",
    "import numpy as np\n",
    "\n",
    "def judgeodd(num):#判断否定词的个数，将否定词个数与2除进行求余数\n",
    "    if (num % 2) == 0:\n",
    "        return 'even'\n",
    "    else:\n",
    "        return 'odd'\n",
    "    \n",
    "path='C:/Users/bin/Desktop/电商综合案例/文本分析相关/情感分析/'\n",
    "#定义函数，打开词典文件，返回列表\n",
    "def open_dict(file_name = 'name', path=path):\n",
    "    path = path + '%s.txt' % file_name\n",
    "    dictionary = open(path, 'r', encoding='utf-8')\n",
    "    dict = []\n",
    "    for word in dictionary:\n",
    "        word = word.strip('\\n')\n",
    "        dict.append(word)\n",
    "    return dict\n",
    "\n",
    "#注意，这里你要修改path路径。\n",
    "\n",
    "deny_word = open_dict(file_name = '否定词', path= path)\n",
    "posdict = open_dict(file_name = 'positive', path= path)\n",
    "negdict = open_dict(file_name = 'negative', path= path)\n",
    "degree_word = open_dict(file_name = '程度级别词语', path= path)\n",
    "\n",
    "#定义情感词程度比例\n",
    "mostdict = degree_word[degree_word.index('extreme')+1 : degree_word.index('very')]#权重4，即在情感词前乘以4\n",
    "verydict = degree_word[degree_word.index('very')+1 : degree_word.index('more')]#权重3\n",
    "moredict = degree_word[degree_word.index('more')+1 : degree_word.index('ish')]#权重2\n",
    "ishdict = degree_word[degree_word.index('ish')+1 : degree_word.index('last')]#权重0.5\n",
    "\n",
    "#开启情感分析\n",
    "def sentiment_score_list(dataset):\n",
    "    seg_sentence = dataset.split('。')\n",
    "    count1=[]#为了记录积极与消极分的\n",
    "    count2=[]#汇总count1\n",
    "    for sen in seg_sentence: #循环遍历每一个评论\n",
    "        i = 0 #记录扫描到的词的位置\n",
    "        a = 0 #记录情感词的位置\n",
    "        poscount = 0 #积极词的第一次分值\n",
    "        poscdount2 = 0 #积极词反转后的分值\n",
    "        poscount3=0 #积极词的最后得分\n",
    "        negcount = 0 \n",
    "        negcount2 = 0 \n",
    "        negcount3 =0\n",
    "        segtmp = jieba.lcut(sen, cut_all=False)  #把句子进行分词，以列表的形式返回\n",
    "        for word in segtmp:\n",
    "            if word in posdict:  # 判断词语是否是情感词\n",
    "                poscount += 1\n",
    "                c=0#记录否定词个数\n",
    "                for w in segtmp[a:i]:  # 扫描情感词前的程度词\n",
    "                    if w in mostdict:\n",
    "                        poscount *= 4.0\n",
    "                    elif w in verydict:\n",
    "                        poscount *= 3.0\n",
    "                    elif w in moredict:\n",
    "                        poscount *= 2.0\n",
    "                    elif w in ishdict:\n",
    "                        poscount *= 0.5\n",
    "                    # 计算否定词个数c\n",
    "                    elif w in deny_word:\n",
    "                        c += 1\n",
    "                if judgeodd(c) == 'odd':  # 扫描情感词前的否定词数\n",
    "                    poscount *= -1.0\n",
    "                    poscount2 += poscount\n",
    "                    poscount = 0\n",
    "                    poscount3 = poscount + poscount2 + poscount3\n",
    "                    poscount2 = 0\n",
    "                else:\n",
    "                    poscount3 = poscount + poscount2 + poscount3\n",
    "                    poscount = 0\n",
    "                a=i+1#记录情感词的位置变化\n",
    "            \n",
    "            elif word in negdict:# 消极情感的分析，与上面一致\n",
    "                negcount +=1\n",
    "                d = 0 #记录否定词\n",
    "                for w in segtmp[a:i]:\n",
    "                    if w in mostdict:\n",
    "                        negcount *= 4.0\n",
    "                    elif w in verydict:\n",
    "                        negcount *= 3.0\n",
    "                    elif w in moredict:\n",
    "                        negcount *= 2.0\n",
    "                    elif w in ishdict:\n",
    "                        negcount *= 0.5\n",
    "                    elif w in degree_word:\n",
    "                        d += 1\n",
    "                if judgeodd(d) == 'odd':\n",
    "                    negcount *= -1.0\n",
    "                    negcount2 += negcount\n",
    "                    negcount = 0\n",
    "                    negcount3 = negcount + negcount2 + negcount3\n",
    "                    negcount2 = 0\n",
    "                else:\n",
    "                    negcount3 = negcount + negcount2 + negcount3\n",
    "                    negcount = 0\n",
    "                a = i + 1\n",
    "            elif word =='!' or word =='！':#判断句子是否有感叹号\n",
    "                for w2 in segtmp[::-1]:# 扫描感叹号前的情感词，发现后权值+2，然后退出循环\n",
    "                    if w2 in posdict or negdict:\n",
    "                        poscount3 += 2\n",
    "                        negcount3 += 2\n",
    "                        break\n",
    "            i += 1 # 扫描词位置后移\n",
    "            \n",
    "            # 以下是防止出现负数的情况\n",
    "            pos_count = 0\n",
    "            neg_count = 0\n",
    "            if poscount3 < 0 and negcount3 > 0:\n",
    "                neg_count += negcount3 - poscount3\n",
    "                pos_count = 0\n",
    "            elif negcount3 < 0 and poscount3 > 0:\n",
    "                pos_count = poscount3 - negcount3\n",
    "                neg_count = 0\n",
    "            elif poscount3 < 0 and negcount3 < 0:\n",
    "                neg_count = -poscount3\n",
    "                pos_count = -negcount3\n",
    "            else:\n",
    "                pos_count = poscount3\n",
    "                neg_count = negcount3\n",
    "\n",
    "            count1.append([pos_count, neg_count])\n",
    "        count2.append(count1)\n",
    "        count1 = []\n",
    "\n",
    "    return count2\n",
    "def sentiment_score(senti_score_list):\n",
    "    score = []\n",
    "    name=[]\n",
    "    for review in senti_score_list:\n",
    "        score_array = np.array(review)\n",
    "        Pos = np.sum(score_array[:, 0])\n",
    "        Neg = np.sum(score_array[:, 1])\n",
    "        AvgPos = np.mean(score_array[:, 0])\n",
    "        AvgPos = float('%.1f'%AvgPos)\n",
    "        AvgNeg = np.mean(score_array[:, 1])\n",
    "        AvgNeg = float('%.1f'%AvgNeg)\n",
    "        StdPos = np.std(score_array[:, 0])\n",
    "        StdPos = float('%.1f'%StdPos)\n",
    "        StdNeg = np.std(score_array[:, 1])\n",
    "        StdNeg = float('%.1f'%StdNeg)\n",
    "        name.append(['积极分','消积分', '平均积极得分','平均消极得分','积极分标准差', '消积分标准差'])\n",
    "        score.append([Pos,Neg,AvgPos,AvgNeg, StdPos,StdNeg])\n",
    "    return score,name"
   ]
  },
  {
   "cell_type": "code",
   "execution_count": 2,
   "metadata": {},
   "outputs": [],
   "source": [
    "data = '你就是个混蛋，混账玩意!产品烂到家！及其愤怒，非常生气，想骂人！！！！'"
   ]
  },
  {
   "cell_type": "code",
   "execution_count": 3,
   "metadata": {},
   "outputs": [
    {
     "name": "stderr",
     "output_type": "stream",
     "text": [
      "Building prefix dict from the default dictionary ...\n",
      "Loading model from cache C:\\Users\\bin\\AppData\\Local\\Temp\\jieba.cache\n",
      "Loading model cost 1.552 seconds.\n",
      "Prefix dict has been built succesfully.\n"
     ]
    },
    {
     "data": {
      "text/plain": [
       "([[82.0, 168.0, 3.3, 6.7, 3.1, 5.8]],\n",
       " [['积极分', '消积分', '平均积极得分', '平均消极得分', '积极分标准差', '消积分标准差']])"
      ]
     },
     "execution_count": 3,
     "metadata": {},
     "output_type": "execute_result"
    }
   ],
   "source": [
    "sentiment_score(sentiment_score_list(data))"
   ]
  },
  {
   "cell_type": "code",
   "execution_count": 5,
   "metadata": {},
   "outputs": [],
   "source": [
    "data = '线材比较硬。听诊器效果严重。音质还可以。看来还是要去买个升级线。'"
   ]
  },
  {
   "cell_type": "code",
   "execution_count": 6,
   "metadata": {},
   "outputs": [],
   "source": [
    "seg_sentence = data.split('。')"
   ]
  },
  {
   "cell_type": "code",
   "execution_count": 7,
   "metadata": {},
   "outputs": [
    {
     "data": {
      "text/plain": [
       "['线材比较硬', '听诊器效果严重', '音质还可以', '看来还是要去买个升级线', '']"
      ]
     },
     "execution_count": 7,
     "metadata": {},
     "output_type": "execute_result"
    }
   ],
   "source": [
    "seg_sentence"
   ]
  },
  {
   "cell_type": "code",
   "execution_count": 9,
   "metadata": {},
   "outputs": [],
   "source": [
    "#线材比较硬"
   ]
  },
  {
   "cell_type": "code",
   "execution_count": null,
   "metadata": {},
   "outputs": [],
   "source": [
    "        i = 0 #记录扫描到的词的位置\n",
    "        a = 0 #记录情感词的位置\n",
    "        poscount = 0 #积极词的第一次分值\n",
    "        poscdount2 = 0 #积极词反转后的分值\n",
    "        poscount3=0 #积极词的最后得分\n",
    "        negcount = 0 \n",
    "        negcount2 = 0 \n",
    "        negcount3 =0"
   ]
  },
  {
   "cell_type": "code",
   "execution_count": 10,
   "metadata": {},
   "outputs": [],
   "source": [
    "segtmp = jieba.lcut('线材比较硬', cut_all=False)"
   ]
  },
  {
   "cell_type": "code",
   "execution_count": 11,
   "metadata": {},
   "outputs": [
    {
     "data": {
      "text/plain": [
       "['线材', '比较', '硬']"
      ]
     },
     "execution_count": 11,
     "metadata": {},
     "output_type": "execute_result"
    }
   ],
   "source": [
    "segtmp"
   ]
  },
  {
   "cell_type": "code",
   "execution_count": 12,
   "metadata": {},
   "outputs": [
    {
     "data": {
      "text/plain": [
       "False"
      ]
     },
     "execution_count": 12,
     "metadata": {},
     "output_type": "execute_result"
    }
   ],
   "source": [
    "'线材' in posdict"
   ]
  },
  {
   "cell_type": "code",
   "execution_count": 13,
   "metadata": {},
   "outputs": [
    {
     "data": {
      "text/plain": [
       "False"
      ]
     },
     "execution_count": 13,
     "metadata": {},
     "output_type": "execute_result"
    }
   ],
   "source": [
    "'线材' in negdict"
   ]
  },
  {
   "cell_type": "code",
   "execution_count": 14,
   "metadata": {},
   "outputs": [],
   "source": [
    "i = 1 #记录扫描到的词的位置\n",
    "a = 0 #记录情感词的位置"
   ]
  },
  {
   "cell_type": "code",
   "execution_count": 15,
   "metadata": {},
   "outputs": [
    {
     "data": {
      "text/plain": [
       "False"
      ]
     },
     "execution_count": 15,
     "metadata": {},
     "output_type": "execute_result"
    }
   ],
   "source": [
    "'比较' in posdict"
   ]
  },
  {
   "cell_type": "code",
   "execution_count": 16,
   "metadata": {},
   "outputs": [
    {
     "data": {
      "text/plain": [
       "False"
      ]
     },
     "execution_count": 16,
     "metadata": {},
     "output_type": "execute_result"
    }
   ],
   "source": [
    "'比较' in negdict"
   ]
  },
  {
   "cell_type": "code",
   "execution_count": null,
   "metadata": {},
   "outputs": [],
   "source": [
    "i = 2 #记录扫描到的词的位置\n",
    "a = 0 #记录情感词的位置"
   ]
  },
  {
   "cell_type": "code",
   "execution_count": 17,
   "metadata": {},
   "outputs": [
    {
     "data": {
      "text/plain": [
       "False"
      ]
     },
     "execution_count": 17,
     "metadata": {},
     "output_type": "execute_result"
    }
   ],
   "source": [
    "'硬' in posdict"
   ]
  },
  {
   "cell_type": "code",
   "execution_count": null,
   "metadata": {},
   "outputs": [],
   "source": [
    "'硬' in negdict  #true"
   ]
  },
  {
   "cell_type": "code",
   "execution_count": null,
   "metadata": {},
   "outputs": [],
   "source": [
    "negcount3=3\n",
    "1*3\n",
    "negcount = 0\n",
    "negcount2 = 0"
   ]
  },
  {
   "cell_type": "code",
   "execution_count": null,
   "metadata": {},
   "outputs": [],
   "source": [
    "a=3\n",
    "i=3"
   ]
  },
  {
   "cell_type": "code",
   "execution_count": 20,
   "metadata": {},
   "outputs": [],
   "source": [
    "segtmp = jieba.lcut('听诊器效果严重', cut_all=False)"
   ]
  },
  {
   "cell_type": "code",
   "execution_count": 21,
   "metadata": {},
   "outputs": [
    {
     "data": {
      "text/plain": [
       "['听诊器', '效果', '严重']"
      ]
     },
     "execution_count": 21,
     "metadata": {},
     "output_type": "execute_result"
    }
   ],
   "source": [
    "segtmp"
   ]
  },
  {
   "cell_type": "code",
   "execution_count": null,
   "metadata": {},
   "outputs": [],
   "source": [
    "'听诊器'\n",
    "a=3\n",
    "i=4"
   ]
  },
  {
   "cell_type": "code",
   "execution_count": null,
   "metadata": {},
   "outputs": [],
   "source": [
    "'效果'\n",
    "a=3\n",
    "i=5"
   ]
  },
  {
   "cell_type": "code",
   "execution_count": null,
   "metadata": {},
   "outputs": [],
   "source": [
    "'严重' 消极词中\n",
    "negcount3=3+1=4\n",
    "negcount = 0\n",
    "negcount2 = 0\n",
    "a=i+1=6\n",
    "i=i+1=6"
   ]
  }
 ],
 "metadata": {
  "kernelspec": {
   "display_name": "Python 3",
   "language": "python",
   "name": "python3"
  },
  "language_info": {
   "codemirror_mode": {
    "name": "ipython",
    "version": 3
   },
   "file_extension": ".py",
   "mimetype": "text/x-python",
   "name": "python",
   "nbconvert_exporter": "python",
   "pygments_lexer": "ipython3",
   "version": "3.7.0"
  }
 },
 "nbformat": 4,
 "nbformat_minor": 1
}
